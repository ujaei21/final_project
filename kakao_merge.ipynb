{
  "nbformat": 4,
  "nbformat_minor": 0,
  "metadata": {
    "colab": {
      "name": "kakao_merge.ipynb",
      "provenance": []
    },
    "kernelspec": {
      "name": "python3",
      "display_name": "Python 3"
    },
    "language_info": {
      "name": "python"
    }
  },
  "cells": [
    {
      "cell_type": "code",
      "metadata": {
        "id": "StXO13sbU-Fr"
      },
      "source": [
        "import pandas as pd \n",
        "path = '/content/drive/MyDrive/Colab Notebooks/final/'\n",
        "kpw = pd.read_csv(path+'kp_week1_1.csv')\n",
        "kpc = pd.read_csv(path+'kp_completed_1.csv')"
      ],
      "execution_count": 1,
      "outputs": []
    },
    {
      "cell_type": "code",
      "metadata": {
        "colab": {
          "base_uri": "https://localhost:8080/",
          "height": 80
        },
        "id": "uJ5fthkaV8c9",
        "outputId": "5b9698b1-ccd9-43e8-e27c-3081533dbe3f"
      },
      "source": [
        "kpw.head(1)"
      ],
      "execution_count": 2,
      "outputs": [
        {
          "output_type": "execute_result",
          "data": {
            "text/html": [
              "<div>\n",
              "<style scoped>\n",
              "    .dataframe tbody tr th:only-of-type {\n",
              "        vertical-align: middle;\n",
              "    }\n",
              "\n",
              "    .dataframe tbody tr th {\n",
              "        vertical-align: top;\n",
              "    }\n",
              "\n",
              "    .dataframe thead th {\n",
              "        text-align: right;\n",
              "    }\n",
              "</style>\n",
              "<table border=\"1\" class=\"dataframe\">\n",
              "  <thead>\n",
              "    <tr style=\"text-align: right;\">\n",
              "      <th></th>\n",
              "      <th>Unnamed: 0</th>\n",
              "      <th>title</th>\n",
              "      <th>author</th>\n",
              "      <th>day</th>\n",
              "      <th>genre</th>\n",
              "      <th>story</th>\n",
              "      <th>platform</th>\n",
              "      <th>t_image</th>\n",
              "      <th>ID</th>\n",
              "    </tr>\n",
              "  </thead>\n",
              "  <tbody>\n",
              "    <tr>\n",
              "      <th>0</th>\n",
              "      <td>0</td>\n",
              "      <td>우선 남동생부터 숨기자</td>\n",
              "      <td>자목,천리,채지후</td>\n",
              "      <td>월</td>\n",
              "      <td>로판만화</td>\n",
              "      <td>하필이면 19금 다공일수 피폐 만화에 수의 하나뿐인 누나로 빙의하고 말았다! 재수없...</td>\n",
              "      <td>카카오페이지</td>\n",
              "      <td>cHyfs/hy41GaQT02/8lTAkYiB5MqJuKdoSmJEBK</td>\n",
              "      <td>57492806</td>\n",
              "    </tr>\n",
              "  </tbody>\n",
              "</table>\n",
              "</div>"
            ],
            "text/plain": [
              "   Unnamed: 0         title  ...                                  t_image        ID\n",
              "0           0  우선 남동생부터 숨기자  ...  cHyfs/hy41GaQT02/8lTAkYiB5MqJuKdoSmJEBK  57492806\n",
              "\n",
              "[1 rows x 9 columns]"
            ]
          },
          "metadata": {},
          "execution_count": 2
        }
      ]
    },
    {
      "cell_type": "code",
      "metadata": {
        "colab": {
          "base_uri": "https://localhost:8080/",
          "height": 80
        },
        "id": "8BCNJdUFWGzb",
        "outputId": "e76abef9-c31e-4de5-cf14-95fed23eb593"
      },
      "source": [
        "kpc.head(1)"
      ],
      "execution_count": 3,
      "outputs": [
        {
          "output_type": "execute_result",
          "data": {
            "text/html": [
              "<div>\n",
              "<style scoped>\n",
              "    .dataframe tbody tr th:only-of-type {\n",
              "        vertical-align: middle;\n",
              "    }\n",
              "\n",
              "    .dataframe tbody tr th {\n",
              "        vertical-align: top;\n",
              "    }\n",
              "\n",
              "    .dataframe thead th {\n",
              "        text-align: right;\n",
              "    }\n",
              "</style>\n",
              "<table border=\"1\" class=\"dataframe\">\n",
              "  <thead>\n",
              "    <tr style=\"text-align: right;\">\n",
              "      <th></th>\n",
              "      <th>Unnamed: 0</th>\n",
              "      <th>title</th>\n",
              "      <th>author</th>\n",
              "      <th>day</th>\n",
              "      <th>genre</th>\n",
              "      <th>story</th>\n",
              "      <th>platform</th>\n",
              "      <th>t_image</th>\n",
              "      <th>ID</th>\n",
              "    </tr>\n",
              "  </thead>\n",
              "  <tbody>\n",
              "    <tr>\n",
              "      <th>0</th>\n",
              "      <td>0</td>\n",
              "      <td>그녀가 공작저로 가야 했던 사정</td>\n",
              "      <td>고래,밀차</td>\n",
              "      <td>완결</td>\n",
              "      <td>로판만화</td>\n",
              "      <td>의문의 사망 이후, 소설 속으로 빙의하게 된 재수생 박은하. 하지만 그녀가 빙의한 ...</td>\n",
              "      <td>카카오페이지</td>\n",
              "      <td>bGxtne/hyCvnb6VWb/Z6w9OMlI9P83urVF0kLahK</td>\n",
              "      <td>50242834</td>\n",
              "    </tr>\n",
              "  </tbody>\n",
              "</table>\n",
              "</div>"
            ],
            "text/plain": [
              "   Unnamed: 0  ...        ID\n",
              "0           0  ...  50242834\n",
              "\n",
              "[1 rows x 9 columns]"
            ]
          },
          "metadata": {},
          "execution_count": 3
        }
      ]
    },
    {
      "cell_type": "code",
      "metadata": {
        "colab": {
          "base_uri": "https://localhost:8080/"
        },
        "id": "ax1AZhsAWV-j",
        "outputId": "e05cb144-2744-4461-ff8c-9cc3c0ed3a2d"
      },
      "source": [
        "kpw.title.value_counts()"
      ],
      "execution_count": 4,
      "outputs": [
        {
          "output_type": "execute_result",
          "data": {
            "text/plain": [
              "허세로 레벨업 하기!             1\n",
              "너의 열일곱                  1\n",
              "인소의 법칙                  1\n",
              "나 홀로 주문 사용자             1\n",
              "호랑이 장가드는 날 [BL, 개정판]    1\n",
              "                       ..\n",
              "진홍의 카르마                 1\n",
              "올드뉴비 김춘식                1\n",
              "그 악녀에게는 폭군이 필요하다        1\n",
              "식욕                      1\n",
              "나는 이 집 아이               1\n",
              "Name: title, Length: 852, dtype: int64"
            ]
          },
          "metadata": {},
          "execution_count": 4
        }
      ]
    },
    {
      "cell_type": "code",
      "metadata": {
        "colab": {
          "base_uri": "https://localhost:8080/"
        },
        "id": "p3ySPkgcWbRS",
        "outputId": "b1b0471b-e137-4428-a816-9df6e8f6105e"
      },
      "source": [
        "kpc.title.value_counts()"
      ],
      "execution_count": 5,
      "outputs": [
        {
          "output_type": "execute_result",
          "data": {
            "text/plain": [
              "68단계              1\n",
              "역학적 행운 보존의 법칙     1\n",
              "신형빈 도시액션 시즌5      1\n",
              "심장에게 주다 웹툰판       1\n",
              "하승남 무협의 정수 시즌2    1\n",
              "                 ..\n",
              "꽃이 오르는 식탁         1\n",
              "연하어택              1\n",
              "체이서               1\n",
              "황성 무림지존 컬렉션       1\n",
              "황제의 반려            1\n",
              "Name: title, Length: 852, dtype: int64"
            ]
          },
          "metadata": {},
          "execution_count": 5
        }
      ]
    },
    {
      "cell_type": "code",
      "metadata": {
        "colab": {
          "base_uri": "https://localhost:8080/",
          "height": 210
        },
        "id": "mUOgE_QPXH0p",
        "outputId": "0bd1c34e-e1f1-474c-de47-0caf3dac592e"
      },
      "source": [
        "# kpw.drop(columns=['writer','illustrator'],inplace=True)\n",
        "kpw.insert(2, 'writer', 0)\n",
        "kpw.insert(3, 'illustrator', 1)\n",
        "\n",
        "# 글 작가, 그림 작가 나누기\n",
        "kpw['writer'], kpw['illustrator'] = zip(*kpw['author'].apply(lambda x:[x.strip() for x in x.split(',')] if ',' in x else [x, x]))\n",
        "# nwb.drop(columns='author', inplace=True)\n",
        "kpw.head(3)"
      ],
      "execution_count": 6,
      "outputs": [
        {
          "output_type": "execute_result",
          "data": {
            "text/html": [
              "<div>\n",
              "<style scoped>\n",
              "    .dataframe tbody tr th:only-of-type {\n",
              "        vertical-align: middle;\n",
              "    }\n",
              "\n",
              "    .dataframe tbody tr th {\n",
              "        vertical-align: top;\n",
              "    }\n",
              "\n",
              "    .dataframe thead th {\n",
              "        text-align: right;\n",
              "    }\n",
              "</style>\n",
              "<table border=\"1\" class=\"dataframe\">\n",
              "  <thead>\n",
              "    <tr style=\"text-align: right;\">\n",
              "      <th></th>\n",
              "      <th>Unnamed: 0</th>\n",
              "      <th>title</th>\n",
              "      <th>writer</th>\n",
              "      <th>illustrator</th>\n",
              "      <th>author</th>\n",
              "      <th>day</th>\n",
              "      <th>genre</th>\n",
              "      <th>story</th>\n",
              "      <th>platform</th>\n",
              "      <th>t_image</th>\n",
              "      <th>ID</th>\n",
              "    </tr>\n",
              "  </thead>\n",
              "  <tbody>\n",
              "    <tr>\n",
              "      <th>0</th>\n",
              "      <td>0</td>\n",
              "      <td>우선 남동생부터 숨기자</td>\n",
              "      <td>자목</td>\n",
              "      <td>천리</td>\n",
              "      <td>자목,천리,채지후</td>\n",
              "      <td>월</td>\n",
              "      <td>로판만화</td>\n",
              "      <td>하필이면 19금 다공일수 피폐 만화에 수의 하나뿐인 누나로 빙의하고 말았다! 재수없...</td>\n",
              "      <td>카카오페이지</td>\n",
              "      <td>cHyfs/hy41GaQT02/8lTAkYiB5MqJuKdoSmJEBK</td>\n",
              "      <td>57492806</td>\n",
              "    </tr>\n",
              "    <tr>\n",
              "      <th>1</th>\n",
              "      <td>1</td>\n",
              "      <td>이번 생은 가주가 되겠습니다</td>\n",
              "      <td>앤트스튜디오</td>\n",
              "      <td>몬</td>\n",
              "      <td>앤트스튜디오,몬, 앤트스튜디오,김로아</td>\n",
              "      <td>월</td>\n",
              "      <td>로판만화</td>\n",
              "      <td>한번 해 보자. 내가 가주가 되는 거야. 제국에서 제일가는 가문, 롬바르디의 사생아...</td>\n",
              "      <td>카카오페이지</td>\n",
              "      <td>cDeRi1/hyVkDNZUdD/WyUnrIQ0gkyKdkLzL5ajh1</td>\n",
              "      <td>56566288</td>\n",
              "    </tr>\n",
              "    <tr>\n",
              "      <th>2</th>\n",
              "      <td>2</td>\n",
              "      <td>묵향 다크레이디</td>\n",
              "      <td>이재헌</td>\n",
              "      <td>구깃</td>\n",
              "      <td>이재헌,구깃,전동조</td>\n",
              "      <td>월</td>\n",
              "      <td>소년만화</td>\n",
              "      <td>마교의 교주로서 극강의 무공을 자랑하던 묵향은 적들 혈교 에 의해 생전 처음 보는 ...</td>\n",
              "      <td>카카오페이지</td>\n",
              "      <td>9Eoo5/hyATyGp2En/pYYjRkJJIrpHEvDible6T0</td>\n",
              "      <td>53216022</td>\n",
              "    </tr>\n",
              "  </tbody>\n",
              "</table>\n",
              "</div>"
            ],
            "text/plain": [
              "   Unnamed: 0  ...        ID\n",
              "0           0  ...  57492806\n",
              "1           1  ...  56566288\n",
              "2           2  ...  53216022\n",
              "\n",
              "[3 rows x 11 columns]"
            ]
          },
          "metadata": {},
          "execution_count": 6
        }
      ]
    },
    {
      "cell_type": "code",
      "metadata": {
        "colab": {
          "base_uri": "https://localhost:8080/",
          "height": 306
        },
        "id": "U7gDCp7gZxPX",
        "outputId": "66cf42e2-0d42-4a0c-f165-847998e71fe7"
      },
      "source": [
        "kpw.tail(5)"
      ],
      "execution_count": 7,
      "outputs": [
        {
          "output_type": "execute_result",
          "data": {
            "text/html": [
              "<div>\n",
              "<style scoped>\n",
              "    .dataframe tbody tr th:only-of-type {\n",
              "        vertical-align: middle;\n",
              "    }\n",
              "\n",
              "    .dataframe tbody tr th {\n",
              "        vertical-align: top;\n",
              "    }\n",
              "\n",
              "    .dataframe thead th {\n",
              "        text-align: right;\n",
              "    }\n",
              "</style>\n",
              "<table border=\"1\" class=\"dataframe\">\n",
              "  <thead>\n",
              "    <tr style=\"text-align: right;\">\n",
              "      <th></th>\n",
              "      <th>Unnamed: 0</th>\n",
              "      <th>title</th>\n",
              "      <th>writer</th>\n",
              "      <th>illustrator</th>\n",
              "      <th>author</th>\n",
              "      <th>day</th>\n",
              "      <th>genre</th>\n",
              "      <th>story</th>\n",
              "      <th>platform</th>\n",
              "      <th>t_image</th>\n",
              "      <th>ID</th>\n",
              "    </tr>\n",
              "  </thead>\n",
              "  <tbody>\n",
              "    <tr>\n",
              "      <th>847</th>\n",
              "      <td>985</td>\n",
              "      <td>이 남자를 상속받겠습니다</td>\n",
              "      <td>yoolook</td>\n",
              "      <td>yoolook</td>\n",
              "      <td>yoolook</td>\n",
              "      <td>일</td>\n",
              "      <td>로맨스만화</td>\n",
              "      <td>겉보기엔 당돌하고 거침없지만 속은 여리고 따뜻한 유라. 억지로 맞선 자리에 간 친구...</td>\n",
              "      <td>카카오페이지</td>\n",
              "      <td>bx9GRI/hyLi9CI9eW/eAh6iHeH26v67At9EpxeF0</td>\n",
              "      <td>56113973</td>\n",
              "    </tr>\n",
              "    <tr>\n",
              "      <th>848</th>\n",
              "      <td>986</td>\n",
              "      <td>수호룡기</td>\n",
              "      <td>LIA</td>\n",
              "      <td>You Dou Fu</td>\n",
              "      <td>LIA,You Dou Fu</td>\n",
              "      <td>일</td>\n",
              "      <td>드라마만화</td>\n",
              "      <td>여성은 용으로 각성하고, 남성은 용주가 되어 서로 계약을 맺는 세상. 평화로운 유주...</td>\n",
              "      <td>카카오페이지</td>\n",
              "      <td>gRZEN/hyVkLd5TNI/PrKu5jBpBNRZDxClUwjIJ0</td>\n",
              "      <td>56448122</td>\n",
              "    </tr>\n",
              "    <tr>\n",
              "      <th>849</th>\n",
              "      <td>987</td>\n",
              "      <td>드래곤 엑스(Dragon-X)</td>\n",
              "      <td>XIII</td>\n",
              "      <td>운천공</td>\n",
              "      <td>XIII,운천공</td>\n",
              "      <td>일</td>\n",
              "      <td>소년만화</td>\n",
              "      <td>이세계의 주인공으로 환생하면 천하무쌍의 힘을 얻고 사랑하는 여인과 함께 행복하게 살...</td>\n",
              "      <td>카카오페이지</td>\n",
              "      <td>CZGxC/hyCvlY1j5S/3j3uKF4G6CIg6HB3khsmz0</td>\n",
              "      <td>51698328</td>\n",
              "    </tr>\n",
              "    <tr>\n",
              "      <th>850</th>\n",
              "      <td>988</td>\n",
              "      <td>세븐나이츠 : 알카이드</td>\n",
              "      <td>앤트스튜디오</td>\n",
              "      <td>앤트스튜디오</td>\n",
              "      <td>앤트스튜디오</td>\n",
              "      <td>일</td>\n",
              "      <td>소년만화</td>\n",
              "      <td>스카이트리아 제국이 멸망한 이후로부터 파괴의 전쟁이 일어나기 전, 공백의 시간 동안...</td>\n",
              "      <td>카카오페이지</td>\n",
              "      <td>PgfR7/hyATsTK5Ky/qTROLCuSBFZBksbHnlqRK0</td>\n",
              "      <td>53305242</td>\n",
              "    </tr>\n",
              "    <tr>\n",
              "      <th>851</th>\n",
              "      <td>989</td>\n",
              "      <td>진협</td>\n",
              "      <td>비어만화공작실</td>\n",
              "      <td>비어만화공작실</td>\n",
              "      <td>비어만화공작실</td>\n",
              "      <td>일</td>\n",
              "      <td>소년만화</td>\n",
              "      <td>진나라 시대의 고대인, 몇천 년 후 현대에서 부활하다! 진시황에 의해 병마용으로서 ...</td>\n",
              "      <td>카카오페이지</td>\n",
              "      <td>bhCnDw/hyCvlkr3Xg/N7q7h0EueVK9WwPIK137fk</td>\n",
              "      <td>53894763</td>\n",
              "    </tr>\n",
              "  </tbody>\n",
              "</table>\n",
              "</div>"
            ],
            "text/plain": [
              "     Unnamed: 0  ...        ID\n",
              "847         985  ...  56113973\n",
              "848         986  ...  56448122\n",
              "849         987  ...  51698328\n",
              "850         988  ...  53305242\n",
              "851         989  ...  53894763\n",
              "\n",
              "[5 rows x 11 columns]"
            ]
          },
          "metadata": {},
          "execution_count": 7
        }
      ]
    },
    {
      "cell_type": "code",
      "metadata": {
        "colab": {
          "base_uri": "https://localhost:8080/",
          "height": 210
        },
        "id": "MS4irBuPZ1vj",
        "outputId": "fbe9e05c-64f3-441b-95ad-3cbc2a386c23"
      },
      "source": [
        "# kpc.drop(columns=['writer','illustrator'],inplace=True)\n",
        "kpc.insert(2, 'writer', 0)\n",
        "kpc.insert(3, 'illustrator', 1)\n",
        "\n",
        "# 글 작가, 그림 작가 나누기\n",
        "kpc['writer'], kpc['illustrator'] = zip(*kpc['author'].apply(lambda x:[x.strip() for x in x.split(',')] if ',' in x else [x, x]))\n",
        "# nwb.drop(columns='author', inplace=True)\n",
        "kpc.head(3)"
      ],
      "execution_count": 8,
      "outputs": [
        {
          "output_type": "execute_result",
          "data": {
            "text/html": [
              "<div>\n",
              "<style scoped>\n",
              "    .dataframe tbody tr th:only-of-type {\n",
              "        vertical-align: middle;\n",
              "    }\n",
              "\n",
              "    .dataframe tbody tr th {\n",
              "        vertical-align: top;\n",
              "    }\n",
              "\n",
              "    .dataframe thead th {\n",
              "        text-align: right;\n",
              "    }\n",
              "</style>\n",
              "<table border=\"1\" class=\"dataframe\">\n",
              "  <thead>\n",
              "    <tr style=\"text-align: right;\">\n",
              "      <th></th>\n",
              "      <th>Unnamed: 0</th>\n",
              "      <th>title</th>\n",
              "      <th>writer</th>\n",
              "      <th>illustrator</th>\n",
              "      <th>author</th>\n",
              "      <th>day</th>\n",
              "      <th>genre</th>\n",
              "      <th>story</th>\n",
              "      <th>platform</th>\n",
              "      <th>t_image</th>\n",
              "      <th>ID</th>\n",
              "    </tr>\n",
              "  </thead>\n",
              "  <tbody>\n",
              "    <tr>\n",
              "      <th>0</th>\n",
              "      <td>0</td>\n",
              "      <td>그녀가 공작저로 가야 했던 사정</td>\n",
              "      <td>고래</td>\n",
              "      <td>밀차</td>\n",
              "      <td>고래,밀차</td>\n",
              "      <td>완결</td>\n",
              "      <td>로판만화</td>\n",
              "      <td>의문의 사망 이후, 소설 속으로 빙의하게 된 재수생 박은하. 하지만 그녀가 빙의한 ...</td>\n",
              "      <td>카카오페이지</td>\n",
              "      <td>bGxtne/hyCvnb6VWb/Z6w9OMlI9P83urVF0kLahK</td>\n",
              "      <td>50242834</td>\n",
              "    </tr>\n",
              "    <tr>\n",
              "      <th>1</th>\n",
              "      <td>1</td>\n",
              "      <td>묵향 디 오리진</td>\n",
              "      <td>REDZIN</td>\n",
              "      <td>Silva(REDICE STUDIO)</td>\n",
              "      <td>REDZIN,Silva(REDICE STUDIO),전동조</td>\n",
              "      <td>완결</td>\n",
              "      <td>액션무협만화</td>\n",
              "      <td>무협계 한 획을 그은 전동조 장편 소설 묵향 ! 암살자에서 무림 정점에 오르는 묵향...</td>\n",
              "      <td>카카오페이지</td>\n",
              "      <td>bOZ06o/hyQ9Rwb9mA/Y0a3dyuSZfKOzHFmEOCKm0</td>\n",
              "      <td>56458652</td>\n",
              "    </tr>\n",
              "    <tr>\n",
              "      <th>2</th>\n",
              "      <td>2</td>\n",
              "      <td>나는 마도왕이다</td>\n",
              "      <td>MIRO</td>\n",
              "      <td>데카스펠</td>\n",
              "      <td>MIRO,데카스펠</td>\n",
              "      <td>완결</td>\n",
              "      <td>소년만화</td>\n",
              "      <td>10년 전, 차원이 비틀리며 몬스터가 쏟아져 나왔다. 동시에 생겨난 초능력 각성자들...</td>\n",
              "      <td>카카오페이지</td>\n",
              "      <td>bnW34D/hyATvCSUg0/meX5zyKHHw6k4TqGj0nFMk</td>\n",
              "      <td>52902073</td>\n",
              "    </tr>\n",
              "  </tbody>\n",
              "</table>\n",
              "</div>"
            ],
            "text/plain": [
              "   Unnamed: 0  ...        ID\n",
              "0           0  ...  50242834\n",
              "1           1  ...  56458652\n",
              "2           2  ...  52902073\n",
              "\n",
              "[3 rows x 11 columns]"
            ]
          },
          "metadata": {},
          "execution_count": 8
        }
      ]
    },
    {
      "cell_type": "code",
      "metadata": {
        "colab": {
          "base_uri": "https://localhost:8080/",
          "height": 306
        },
        "id": "9UJfQte1diTy",
        "outputId": "4b049b4b-8e12-43b4-d5ec-4306f63da4ba"
      },
      "source": [
        "kpc.tail()"
      ],
      "execution_count": 9,
      "outputs": [
        {
          "output_type": "execute_result",
          "data": {
            "text/html": [
              "<div>\n",
              "<style scoped>\n",
              "    .dataframe tbody tr th:only-of-type {\n",
              "        vertical-align: middle;\n",
              "    }\n",
              "\n",
              "    .dataframe tbody tr th {\n",
              "        vertical-align: top;\n",
              "    }\n",
              "\n",
              "    .dataframe thead th {\n",
              "        text-align: right;\n",
              "    }\n",
              "</style>\n",
              "<table border=\"1\" class=\"dataframe\">\n",
              "  <thead>\n",
              "    <tr style=\"text-align: right;\">\n",
              "      <th></th>\n",
              "      <th>Unnamed: 0</th>\n",
              "      <th>title</th>\n",
              "      <th>writer</th>\n",
              "      <th>illustrator</th>\n",
              "      <th>author</th>\n",
              "      <th>day</th>\n",
              "      <th>genre</th>\n",
              "      <th>story</th>\n",
              "      <th>platform</th>\n",
              "      <th>t_image</th>\n",
              "      <th>ID</th>\n",
              "    </tr>\n",
              "  </thead>\n",
              "  <tbody>\n",
              "    <tr>\n",
              "      <th>847</th>\n",
              "      <td>847</td>\n",
              "      <td>아이무드(iMood)</td>\n",
              "      <td>HARU</td>\n",
              "      <td>OliviaWu</td>\n",
              "      <td>HARU,OliviaWu,Buffy</td>\n",
              "      <td>완결</td>\n",
              "      <td>드라마만화</td>\n",
              "      <td>인간의 감정을 통제하는 마이크로칩, . 그리고 어린 시절 눈 앞에서 엄마를 잃은 소...</td>\n",
              "      <td>카카오페이지</td>\n",
              "      <td>dlOaL/hyEdlwgTcj/beEmFcuKKLaknYihlE6PD0</td>\n",
              "      <td>54854269</td>\n",
              "    </tr>\n",
              "    <tr>\n",
              "      <th>848</th>\n",
              "      <td>848</td>\n",
              "      <td>코드네임 카마엘</td>\n",
              "      <td>박세준</td>\n",
              "      <td>조현상</td>\n",
              "      <td>박세준,조현상</td>\n",
              "      <td>완결</td>\n",
              "      <td>액션무협만화</td>\n",
              "      <td>어린시절, 괴한에게 부모를 잃은 소녀는 39 카마엘 39 이라는 이름으로 도시의 범...</td>\n",
              "      <td>카카오페이지</td>\n",
              "      <td>oz1NG/hyEdjepacG/EKjiFHnFHZajo8XmefatLk</td>\n",
              "      <td>55322266</td>\n",
              "    </tr>\n",
              "    <tr>\n",
              "      <th>849</th>\n",
              "      <td>849</td>\n",
              "      <td>아이갓츄!(I got you!)</td>\n",
              "      <td>전명우</td>\n",
              "      <td>전명우</td>\n",
              "      <td>전명우</td>\n",
              "      <td>완결</td>\n",
              "      <td>소년만화</td>\n",
              "      <td>전국 검거율 1위를 자랑하는 경찰청의 에이스 여형사 하소연! 형사로서의 탁월한 능력...</td>\n",
              "      <td>카카오페이지</td>\n",
              "      <td>Zyasl/hyATqVU4VF/eC9bkX7K7km9EEK6uHEHiK</td>\n",
              "      <td>53141966</td>\n",
              "    </tr>\n",
              "    <tr>\n",
              "      <th>850</th>\n",
              "      <td>850</td>\n",
              "      <td>레인돌</td>\n",
              "      <td>우디</td>\n",
              "      <td>과즙현</td>\n",
              "      <td>우디,과즙현</td>\n",
              "      <td>완결</td>\n",
              "      <td>드라마만화</td>\n",
              "      <td>어느 날, 갑자기 좀비처럼 변해버린 사람들. 출동하라! 레인돌!! 토끼와 병아리와 ...</td>\n",
              "      <td>카카오페이지</td>\n",
              "      <td>b6OYCu/hyF28P3CA8/kI6Zi0mGuCsfApp1rwrtn0</td>\n",
              "      <td>55799308</td>\n",
              "    </tr>\n",
              "    <tr>\n",
              "      <th>851</th>\n",
              "      <td>851</td>\n",
              "      <td>이름이 뭐예요? [BL] [개정판]</td>\n",
              "      <td>리플</td>\n",
              "      <td>마그마</td>\n",
              "      <td>리플,마그마</td>\n",
              "      <td>완결</td>\n",
              "      <td>BL/GL만화</td>\n",
              "      <td>35 학원물 35 오해물 35 삽질물 35 반전매력공 35 오해했수 35 입덕당해버...</td>\n",
              "      <td>카카오페이지</td>\n",
              "      <td>jlPRU/hzb7uf0Yhk/RTRdKt2YIGj81k8vcYirwK</td>\n",
              "      <td>57735628</td>\n",
              "    </tr>\n",
              "  </tbody>\n",
              "</table>\n",
              "</div>"
            ],
            "text/plain": [
              "     Unnamed: 0  ...        ID\n",
              "847         847  ...  54854269\n",
              "848         848  ...  55322266\n",
              "849         849  ...  53141966\n",
              "850         850  ...  55799308\n",
              "851         851  ...  57735628\n",
              "\n",
              "[5 rows x 11 columns]"
            ]
          },
          "metadata": {},
          "execution_count": 9
        }
      ]
    },
    {
      "cell_type": "code",
      "metadata": {
        "id": "aZgn5BFUePP7"
      },
      "source": [
        "kp = pd.concat([kpw,kpc])"
      ],
      "execution_count": 10,
      "outputs": []
    },
    {
      "cell_type": "code",
      "metadata": {
        "id": "6rlljA52gVzi"
      },
      "source": [
        "kp.drop(columns=['Unnamed: 0','author','t_image','ID'],inplace=True)"
      ],
      "execution_count": 11,
      "outputs": []
    },
    {
      "cell_type": "code",
      "metadata": {
        "colab": {
          "base_uri": "https://localhost:8080/",
          "height": 111
        },
        "id": "IkIMY_dLg35q",
        "outputId": "4efb4030-04f2-405b-8a78-9b63b2de8356"
      },
      "source": [
        "kp.head(2)"
      ],
      "execution_count": 12,
      "outputs": [
        {
          "output_type": "execute_result",
          "data": {
            "text/html": [
              "<div>\n",
              "<style scoped>\n",
              "    .dataframe tbody tr th:only-of-type {\n",
              "        vertical-align: middle;\n",
              "    }\n",
              "\n",
              "    .dataframe tbody tr th {\n",
              "        vertical-align: top;\n",
              "    }\n",
              "\n",
              "    .dataframe thead th {\n",
              "        text-align: right;\n",
              "    }\n",
              "</style>\n",
              "<table border=\"1\" class=\"dataframe\">\n",
              "  <thead>\n",
              "    <tr style=\"text-align: right;\">\n",
              "      <th></th>\n",
              "      <th>title</th>\n",
              "      <th>writer</th>\n",
              "      <th>illustrator</th>\n",
              "      <th>day</th>\n",
              "      <th>genre</th>\n",
              "      <th>story</th>\n",
              "      <th>platform</th>\n",
              "    </tr>\n",
              "  </thead>\n",
              "  <tbody>\n",
              "    <tr>\n",
              "      <th>0</th>\n",
              "      <td>우선 남동생부터 숨기자</td>\n",
              "      <td>자목</td>\n",
              "      <td>천리</td>\n",
              "      <td>월</td>\n",
              "      <td>로판만화</td>\n",
              "      <td>하필이면 19금 다공일수 피폐 만화에 수의 하나뿐인 누나로 빙의하고 말았다! 재수없...</td>\n",
              "      <td>카카오페이지</td>\n",
              "    </tr>\n",
              "    <tr>\n",
              "      <th>1</th>\n",
              "      <td>이번 생은 가주가 되겠습니다</td>\n",
              "      <td>앤트스튜디오</td>\n",
              "      <td>몬</td>\n",
              "      <td>월</td>\n",
              "      <td>로판만화</td>\n",
              "      <td>한번 해 보자. 내가 가주가 되는 거야. 제국에서 제일가는 가문, 롬바르디의 사생아...</td>\n",
              "      <td>카카오페이지</td>\n",
              "    </tr>\n",
              "  </tbody>\n",
              "</table>\n",
              "</div>"
            ],
            "text/plain": [
              "             title  ... platform\n",
              "0     우선 남동생부터 숨기자  ...   카카오페이지\n",
              "1  이번 생은 가주가 되겠습니다  ...   카카오페이지\n",
              "\n",
              "[2 rows x 7 columns]"
            ]
          },
          "metadata": {},
          "execution_count": 12
        }
      ]
    },
    {
      "cell_type": "markdown",
      "metadata": {
        "id": "jS6dQmV7EqVG"
      },
      "source": [
        "### 네이버"
      ]
    },
    {
      "cell_type": "code",
      "metadata": {
        "colab": {
          "base_uri": "https://localhost:8080/",
          "height": 111
        },
        "id": "EZN_ldvGhF06",
        "outputId": "53e5487c-42d0-407f-dc8e-9a6c56cc6271"
      },
      "source": [
        "encoding = 'cp949'\n",
        "naver_w =  pd.read_csv(path+'NAVER.csv',encoding=encoding)\n",
        "naver_w.head(2)"
      ],
      "execution_count": 13,
      "outputs": [
        {
          "output_type": "execute_result",
          "data": {
            "text/html": [
              "<div>\n",
              "<style scoped>\n",
              "    .dataframe tbody tr th:only-of-type {\n",
              "        vertical-align: middle;\n",
              "    }\n",
              "\n",
              "    .dataframe tbody tr th {\n",
              "        vertical-align: top;\n",
              "    }\n",
              "\n",
              "    .dataframe thead th {\n",
              "        text-align: right;\n",
              "    }\n",
              "</style>\n",
              "<table border=\"1\" class=\"dataframe\">\n",
              "  <thead>\n",
              "    <tr style=\"text-align: right;\">\n",
              "      <th></th>\n",
              "      <th>id</th>\n",
              "      <th>title</th>\n",
              "      <th>author</th>\n",
              "      <th>day</th>\n",
              "      <th>genre</th>\n",
              "      <th>story</th>\n",
              "      <th>score</th>\n",
              "      <th>platform</th>\n",
              "    </tr>\n",
              "  </thead>\n",
              "  <tbody>\n",
              "    <tr>\n",
              "      <th>0</th>\n",
              "      <td>0</td>\n",
              "      <td>참교육</td>\n",
              "      <td>채용택 / 한가람</td>\n",
              "      <td>월</td>\n",
              "      <td>스토리, 액션</td>\n",
              "      <td>무너진 교권을 지키기 위해 교권보호국 소속 나화진의 참교육이 시작된다! 부활남 채용...</td>\n",
              "      <td>9.776</td>\n",
              "      <td>네이버 웹툰</td>\n",
              "    </tr>\n",
              "    <tr>\n",
              "      <th>1</th>\n",
              "      <td>1</td>\n",
              "      <td>신의 탑</td>\n",
              "      <td>SIU</td>\n",
              "      <td>월</td>\n",
              "      <td>스토리, 판타지</td>\n",
              "      <td>자신의 모든 것이었던 소녀를 쫓아 탑에 들어온 소년 그리고 그런 소년을 시험하는 탑</td>\n",
              "      <td>9.499</td>\n",
              "      <td>네이버 웹툰</td>\n",
              "    </tr>\n",
              "  </tbody>\n",
              "</table>\n",
              "</div>"
            ],
            "text/plain": [
              "   id title  ...  score platform\n",
              "0   0   참교육  ...  9.776   네이버 웹툰\n",
              "1   1  신의 탑  ...  9.499   네이버 웹툰\n",
              "\n",
              "[2 rows x 8 columns]"
            ]
          },
          "metadata": {},
          "execution_count": 13
        }
      ]
    },
    {
      "cell_type": "code",
      "metadata": {
        "colab": {
          "base_uri": "https://localhost:8080/",
          "height": 111
        },
        "id": "6uC0yEFghx4X",
        "outputId": "c81eea76-b9ef-4299-df86-d38c2518cc8f"
      },
      "source": [
        "naver_c =  pd.read_csv(path+'NAVER_FINISH.csv',encoding=encoding)\n",
        "naver_c.insert(3,'day','완결')\n",
        "naver_c.head(2)"
      ],
      "execution_count": 14,
      "outputs": [
        {
          "output_type": "execute_result",
          "data": {
            "text/html": [
              "<div>\n",
              "<style scoped>\n",
              "    .dataframe tbody tr th:only-of-type {\n",
              "        vertical-align: middle;\n",
              "    }\n",
              "\n",
              "    .dataframe tbody tr th {\n",
              "        vertical-align: top;\n",
              "    }\n",
              "\n",
              "    .dataframe thead th {\n",
              "        text-align: right;\n",
              "    }\n",
              "</style>\n",
              "<table border=\"1\" class=\"dataframe\">\n",
              "  <thead>\n",
              "    <tr style=\"text-align: right;\">\n",
              "      <th></th>\n",
              "      <th>id</th>\n",
              "      <th>title</th>\n",
              "      <th>author</th>\n",
              "      <th>day</th>\n",
              "      <th>genre</th>\n",
              "      <th>story</th>\n",
              "      <th>score</th>\n",
              "      <th>platform</th>\n",
              "    </tr>\n",
              "  </thead>\n",
              "  <tbody>\n",
              "    <tr>\n",
              "      <th>0</th>\n",
              "      <td>0</td>\n",
              "      <td>국왕과 성기사의 약탈혼</td>\n",
              "      <td>이린비 / 박지은</td>\n",
              "      <td>완결</td>\n",
              "      <td>스토리, 로맨스</td>\n",
              "      <td>그래, 왕이 되었지. 가지고 싶은 건 다 빼앗아 가지려고. 왕위를 찬탈하고 주변국을...</td>\n",
              "      <td>9.78</td>\n",
              "      <td>네이버 웹툰</td>\n",
              "    </tr>\n",
              "    <tr>\n",
              "      <th>1</th>\n",
              "      <td>1</td>\n",
              "      <td>성경의 역사</td>\n",
              "      <td>최경민 / 영모</td>\n",
              "      <td>완결</td>\n",
              "      <td>스토리, 드라마</td>\n",
              "      <td>모두에게 사랑 받기에 모두가 증오하는 그녀, 성경 .원치않는 애정과 증오속에 성경의...</td>\n",
              "      <td>7.43</td>\n",
              "      <td>네이버 웹툰</td>\n",
              "    </tr>\n",
              "  </tbody>\n",
              "</table>\n",
              "</div>"
            ],
            "text/plain": [
              "   id         title  ... score platform\n",
              "0   0  국왕과 성기사의 약탈혼  ...  9.78   네이버 웹툰\n",
              "1   1        성경의 역사  ...  7.43   네이버 웹툰\n",
              "\n",
              "[2 rows x 8 columns]"
            ]
          },
          "metadata": {},
          "execution_count": 14
        }
      ]
    },
    {
      "cell_type": "code",
      "metadata": {
        "colab": {
          "base_uri": "https://localhost:8080/",
          "height": 111
        },
        "id": "rmtkxvLnh-bD",
        "outputId": "f9dfffb7-b7e5-4f23-fd75-bda9199e6bf6"
      },
      "source": [
        "naver = pd.concat([naver_w,naver_c])\n",
        "naver.tail(2)"
      ],
      "execution_count": 15,
      "outputs": [
        {
          "output_type": "execute_result",
          "data": {
            "text/html": [
              "<div>\n",
              "<style scoped>\n",
              "    .dataframe tbody tr th:only-of-type {\n",
              "        vertical-align: middle;\n",
              "    }\n",
              "\n",
              "    .dataframe tbody tr th {\n",
              "        vertical-align: top;\n",
              "    }\n",
              "\n",
              "    .dataframe thead th {\n",
              "        text-align: right;\n",
              "    }\n",
              "</style>\n",
              "<table border=\"1\" class=\"dataframe\">\n",
              "  <thead>\n",
              "    <tr style=\"text-align: right;\">\n",
              "      <th></th>\n",
              "      <th>id</th>\n",
              "      <th>title</th>\n",
              "      <th>author</th>\n",
              "      <th>day</th>\n",
              "      <th>genre</th>\n",
              "      <th>story</th>\n",
              "      <th>score</th>\n",
              "      <th>platform</th>\n",
              "    </tr>\n",
              "  </thead>\n",
              "  <tbody>\n",
              "    <tr>\n",
              "      <th>1023</th>\n",
              "      <td>1023</td>\n",
              "      <td>와탕카</td>\n",
              "      <td>우주인</td>\n",
              "      <td>완결</td>\n",
              "      <td>에피소드, 개그</td>\n",
              "      <td>와탕카 만세 , 지화자 좋은 패가 들어오면 외치는 단어 와탕카! 우주인 작가님의 불...</td>\n",
              "      <td>9.63</td>\n",
              "      <td>네이버 웹툰</td>\n",
              "    </tr>\n",
              "    <tr>\n",
              "      <th>1024</th>\n",
              "      <td>1024</td>\n",
              "      <td>타투</td>\n",
              "      <td>노지현</td>\n",
              "      <td>완결</td>\n",
              "      <td>옴니버스, 드라마</td>\n",
              "      <td>밝고 쾌활한 여고생 현진과 새로 오픈한 타투 가게의 진우, 유기를 중심으로 벌어지는...</td>\n",
              "      <td>9.20</td>\n",
              "      <td>네이버 웹툰</td>\n",
              "    </tr>\n",
              "  </tbody>\n",
              "</table>\n",
              "</div>"
            ],
            "text/plain": [
              "        id title  ... score platform\n",
              "1023  1023   와탕카  ...  9.63   네이버 웹툰\n",
              "1024  1024    타투  ...  9.20   네이버 웹툰\n",
              "\n",
              "[2 rows x 8 columns]"
            ]
          },
          "metadata": {},
          "execution_count": 15
        }
      ]
    },
    {
      "cell_type": "code",
      "metadata": {
        "colab": {
          "base_uri": "https://localhost:8080/",
          "height": 142
        },
        "id": "ornqxKOriRW5",
        "outputId": "282d09ca-0b9d-4415-9e17-61985e7f5b07"
      },
      "source": [
        "# naver.drop(columns=['writer','illustrator'],inplace=True)\n",
        "naver.insert(2, 'writer', 0)\n",
        "naver.insert(3, 'illustrator', 1)\n",
        "\n",
        "# 글 작가, 그림 작가 나누기\n",
        "naver['writer'], naver['illustrator'] = zip(*naver['author'].apply(lambda x:[x.strip() for x in x.split('/')] if '/' in x else [x, x]))\n",
        "naver.drop(columns='author', inplace=True)\n",
        "naver.head(3)"
      ],
      "execution_count": 16,
      "outputs": [
        {
          "output_type": "execute_result",
          "data": {
            "text/html": [
              "<div>\n",
              "<style scoped>\n",
              "    .dataframe tbody tr th:only-of-type {\n",
              "        vertical-align: middle;\n",
              "    }\n",
              "\n",
              "    .dataframe tbody tr th {\n",
              "        vertical-align: top;\n",
              "    }\n",
              "\n",
              "    .dataframe thead th {\n",
              "        text-align: right;\n",
              "    }\n",
              "</style>\n",
              "<table border=\"1\" class=\"dataframe\">\n",
              "  <thead>\n",
              "    <tr style=\"text-align: right;\">\n",
              "      <th></th>\n",
              "      <th>id</th>\n",
              "      <th>title</th>\n",
              "      <th>writer</th>\n",
              "      <th>illustrator</th>\n",
              "      <th>day</th>\n",
              "      <th>genre</th>\n",
              "      <th>story</th>\n",
              "      <th>score</th>\n",
              "      <th>platform</th>\n",
              "    </tr>\n",
              "  </thead>\n",
              "  <tbody>\n",
              "    <tr>\n",
              "      <th>0</th>\n",
              "      <td>0</td>\n",
              "      <td>참교육</td>\n",
              "      <td>채용택</td>\n",
              "      <td>한가람</td>\n",
              "      <td>월</td>\n",
              "      <td>스토리, 액션</td>\n",
              "      <td>무너진 교권을 지키기 위해 교권보호국 소속 나화진의 참교육이 시작된다! 부활남 채용...</td>\n",
              "      <td>9.776</td>\n",
              "      <td>네이버 웹툰</td>\n",
              "    </tr>\n",
              "    <tr>\n",
              "      <th>1</th>\n",
              "      <td>1</td>\n",
              "      <td>신의 탑</td>\n",
              "      <td>SIU</td>\n",
              "      <td>SIU</td>\n",
              "      <td>월</td>\n",
              "      <td>스토리, 판타지</td>\n",
              "      <td>자신의 모든 것이었던 소녀를 쫓아 탑에 들어온 소년 그리고 그런 소년을 시험하는 탑</td>\n",
              "      <td>9.499</td>\n",
              "      <td>네이버 웹툰</td>\n",
              "    </tr>\n",
              "    <tr>\n",
              "      <th>2</th>\n",
              "      <td>2</td>\n",
              "      <td>뷰티풀 군바리</td>\n",
              "      <td>설이</td>\n",
              "      <td>윤성원</td>\n",
              "      <td>월</td>\n",
              "      <td>스토리, 드라마</td>\n",
              "      <td>여자도 군대에 간다면? 본격 여자도 군대 가는 만화!</td>\n",
              "      <td>9.660</td>\n",
              "      <td>네이버 웹툰</td>\n",
              "    </tr>\n",
              "  </tbody>\n",
              "</table>\n",
              "</div>"
            ],
            "text/plain": [
              "   id    title  ...  score platform\n",
              "0   0      참교육  ...  9.776   네이버 웹툰\n",
              "1   1     신의 탑  ...  9.499   네이버 웹툰\n",
              "2   2  뷰티풀 군바리  ...  9.660   네이버 웹툰\n",
              "\n",
              "[3 rows x 9 columns]"
            ]
          },
          "metadata": {},
          "execution_count": 16
        }
      ]
    },
    {
      "cell_type": "code",
      "metadata": {
        "id": "z_0PBhZajUEj"
      },
      "source": [
        "naver.drop(columns=['id','score'],inplace=True)"
      ],
      "execution_count": 17,
      "outputs": []
    },
    {
      "cell_type": "code",
      "metadata": {
        "colab": {
          "base_uri": "https://localhost:8080/",
          "height": 111
        },
        "id": "bh2jczWfjstK",
        "outputId": "37982317-79b6-4f5c-834b-53a9a6e758c3"
      },
      "source": [
        "naver.head(2)"
      ],
      "execution_count": 18,
      "outputs": [
        {
          "output_type": "execute_result",
          "data": {
            "text/html": [
              "<div>\n",
              "<style scoped>\n",
              "    .dataframe tbody tr th:only-of-type {\n",
              "        vertical-align: middle;\n",
              "    }\n",
              "\n",
              "    .dataframe tbody tr th {\n",
              "        vertical-align: top;\n",
              "    }\n",
              "\n",
              "    .dataframe thead th {\n",
              "        text-align: right;\n",
              "    }\n",
              "</style>\n",
              "<table border=\"1\" class=\"dataframe\">\n",
              "  <thead>\n",
              "    <tr style=\"text-align: right;\">\n",
              "      <th></th>\n",
              "      <th>title</th>\n",
              "      <th>writer</th>\n",
              "      <th>illustrator</th>\n",
              "      <th>day</th>\n",
              "      <th>genre</th>\n",
              "      <th>story</th>\n",
              "      <th>platform</th>\n",
              "    </tr>\n",
              "  </thead>\n",
              "  <tbody>\n",
              "    <tr>\n",
              "      <th>0</th>\n",
              "      <td>참교육</td>\n",
              "      <td>채용택</td>\n",
              "      <td>한가람</td>\n",
              "      <td>월</td>\n",
              "      <td>스토리, 액션</td>\n",
              "      <td>무너진 교권을 지키기 위해 교권보호국 소속 나화진의 참교육이 시작된다! 부활남 채용...</td>\n",
              "      <td>네이버 웹툰</td>\n",
              "    </tr>\n",
              "    <tr>\n",
              "      <th>1</th>\n",
              "      <td>신의 탑</td>\n",
              "      <td>SIU</td>\n",
              "      <td>SIU</td>\n",
              "      <td>월</td>\n",
              "      <td>스토리, 판타지</td>\n",
              "      <td>자신의 모든 것이었던 소녀를 쫓아 탑에 들어온 소년 그리고 그런 소년을 시험하는 탑</td>\n",
              "      <td>네이버 웹툰</td>\n",
              "    </tr>\n",
              "  </tbody>\n",
              "</table>\n",
              "</div>"
            ],
            "text/plain": [
              "  title writer  ...                                              story platform\n",
              "0   참교육    채용택  ...  무너진 교권을 지키기 위해 교권보호국 소속 나화진의 참교육이 시작된다! 부활남 채용...   네이버 웹툰\n",
              "1  신의 탑    SIU  ...     자신의 모든 것이었던 소녀를 쫓아 탑에 들어온 소년 그리고 그런 소년을 시험하는 탑   네이버 웹툰\n",
              "\n",
              "[2 rows x 7 columns]"
            ]
          },
          "metadata": {},
          "execution_count": 18
        }
      ]
    },
    {
      "cell_type": "markdown",
      "metadata": {
        "id": "PSfZ4BwgDiJE"
      },
      "source": [
        "### 카카오 웹툰"
      ]
    },
    {
      "cell_type": "code",
      "metadata": {
        "colab": {
          "base_uri": "https://localhost:8080/",
          "height": 111
        },
        "id": "vAwhT6ufjvph",
        "outputId": "34b37ae7-78a6-4248-9837-66c47c4e955f"
      },
      "source": [
        "kww = pd.read_csv(path + 'kakao.csv',encoding=encoding)\n",
        "kww.head(2)"
      ],
      "execution_count": 19,
      "outputs": [
        {
          "output_type": "execute_result",
          "data": {
            "text/html": [
              "<div>\n",
              "<style scoped>\n",
              "    .dataframe tbody tr th:only-of-type {\n",
              "        vertical-align: middle;\n",
              "    }\n",
              "\n",
              "    .dataframe tbody tr th {\n",
              "        vertical-align: top;\n",
              "    }\n",
              "\n",
              "    .dataframe thead th {\n",
              "        text-align: right;\n",
              "    }\n",
              "</style>\n",
              "<table border=\"1\" class=\"dataframe\">\n",
              "  <thead>\n",
              "    <tr style=\"text-align: right;\">\n",
              "      <th></th>\n",
              "      <th>Unnamed: 0</th>\n",
              "      <th>title</th>\n",
              "      <th>author</th>\n",
              "      <th>day</th>\n",
              "      <th>genre</th>\n",
              "      <th>story</th>\n",
              "      <th>platform</th>\n",
              "      <th>Thumbnail</th>\n",
              "    </tr>\n",
              "  </thead>\n",
              "  <tbody>\n",
              "    <tr>\n",
              "      <th>0</th>\n",
              "      <td>0</td>\n",
              "      <td>바니와 오빠들</td>\n",
              "      <td>니은</td>\n",
              "      <td>월</td>\n",
              "      <td>로맨스</td>\n",
              "      <td>외모 따지지 않는 개념녀 ? 아니, 나 완전 얼빠 야! 신입생 시절, 남자의 외모를...</td>\n",
              "      <td>카카오웹툰</td>\n",
              "      <td>https://kr-a.kakaopagecdn.com/P/C/1781/c2/2x/5...</td>\n",
              "    </tr>\n",
              "    <tr>\n",
              "      <th>1</th>\n",
              "      <td>1</td>\n",
              "      <td>사귄 건 아닌데</td>\n",
              "      <td>민홍</td>\n",
              "      <td>월</td>\n",
              "      <td>로맨스</td>\n",
              "      <td>스물아홉 살, 서른을 목전에 둔 나이. 고수아는 그 나이가 괜히 심란하다. 고향을 ...</td>\n",
              "      <td>카카오웹툰</td>\n",
              "      <td>https://kr-a.kakaopagecdn.com/P/C/1933/c2/2x/f...</td>\n",
              "    </tr>\n",
              "  </tbody>\n",
              "</table>\n",
              "</div>"
            ],
            "text/plain": [
              "   Unnamed: 0  ...                                          Thumbnail\n",
              "0           0  ...  https://kr-a.kakaopagecdn.com/P/C/1781/c2/2x/5...\n",
              "1           1  ...  https://kr-a.kakaopagecdn.com/P/C/1933/c2/2x/f...\n",
              "\n",
              "[2 rows x 8 columns]"
            ]
          },
          "metadata": {},
          "execution_count": 19
        }
      ]
    },
    {
      "cell_type": "code",
      "metadata": {
        "colab": {
          "base_uri": "https://localhost:8080/",
          "height": 111
        },
        "id": "FeqS8j4vmRCj",
        "outputId": "3e6635f0-b39d-4c92-898d-29a7061cdaaa"
      },
      "source": [
        "kwp = pd.read_csv(path + 'kakao_completed.csv',encoding=encoding)\n",
        "kwp.head(2)"
      ],
      "execution_count": 20,
      "outputs": [
        {
          "output_type": "execute_result",
          "data": {
            "text/html": [
              "<div>\n",
              "<style scoped>\n",
              "    .dataframe tbody tr th:only-of-type {\n",
              "        vertical-align: middle;\n",
              "    }\n",
              "\n",
              "    .dataframe tbody tr th {\n",
              "        vertical-align: top;\n",
              "    }\n",
              "\n",
              "    .dataframe thead th {\n",
              "        text-align: right;\n",
              "    }\n",
              "</style>\n",
              "<table border=\"1\" class=\"dataframe\">\n",
              "  <thead>\n",
              "    <tr style=\"text-align: right;\">\n",
              "      <th></th>\n",
              "      <th>Unnamed: 0</th>\n",
              "      <th>title</th>\n",
              "      <th>author</th>\n",
              "      <th>day</th>\n",
              "      <th>genre</th>\n",
              "      <th>story</th>\n",
              "      <th>platform</th>\n",
              "      <th>Thumbnail</th>\n",
              "    </tr>\n",
              "  </thead>\n",
              "  <tbody>\n",
              "    <tr>\n",
              "      <th>0</th>\n",
              "      <td>0</td>\n",
              "      <td>밤의 향</td>\n",
              "      <td>보리</td>\n",
              "      <td>완결</td>\n",
              "      <td>로맨스</td>\n",
              "      <td>당신의 살내음과 여름밤의 향기를 난 평생 잊지 않을 거에요</td>\n",
              "      <td>카카오웹툰</td>\n",
              "      <td>https://kr-a.kakaopagecdn.com/P/C/1532/c2/2x/6...</td>\n",
              "    </tr>\n",
              "    <tr>\n",
              "      <th>1</th>\n",
              "      <td>1</td>\n",
              "      <td>토이 콤플렉스</td>\n",
              "      <td>이윤희</td>\n",
              "      <td>완결</td>\n",
              "      <td>로맨스</td>\n",
              "      <td>혹시 오늘 밤, 나와 함께 보내줄 수 있나요?</td>\n",
              "      <td>카카오웹툰</td>\n",
              "      <td>https://kr-a.kakaopagecdn.com/P/C/1683/c2/2x/1...</td>\n",
              "    </tr>\n",
              "  </tbody>\n",
              "</table>\n",
              "</div>"
            ],
            "text/plain": [
              "   Unnamed: 0  ...                                          Thumbnail\n",
              "0           0  ...  https://kr-a.kakaopagecdn.com/P/C/1532/c2/2x/6...\n",
              "1           1  ...  https://kr-a.kakaopagecdn.com/P/C/1683/c2/2x/1...\n",
              "\n",
              "[2 rows x 8 columns]"
            ]
          },
          "metadata": {},
          "execution_count": 20
        }
      ]
    },
    {
      "cell_type": "code",
      "metadata": {
        "colab": {
          "base_uri": "https://localhost:8080/",
          "height": 111
        },
        "id": "kLcKqWFLmfB6",
        "outputId": "7ae42d58-6bb0-42e0-fb86-42a6b740b706"
      },
      "source": [
        "kw = pd.concat([kww,kwp])\n",
        "kw.head(2)"
      ],
      "execution_count": 21,
      "outputs": [
        {
          "output_type": "execute_result",
          "data": {
            "text/html": [
              "<div>\n",
              "<style scoped>\n",
              "    .dataframe tbody tr th:only-of-type {\n",
              "        vertical-align: middle;\n",
              "    }\n",
              "\n",
              "    .dataframe tbody tr th {\n",
              "        vertical-align: top;\n",
              "    }\n",
              "\n",
              "    .dataframe thead th {\n",
              "        text-align: right;\n",
              "    }\n",
              "</style>\n",
              "<table border=\"1\" class=\"dataframe\">\n",
              "  <thead>\n",
              "    <tr style=\"text-align: right;\">\n",
              "      <th></th>\n",
              "      <th>Unnamed: 0</th>\n",
              "      <th>title</th>\n",
              "      <th>author</th>\n",
              "      <th>day</th>\n",
              "      <th>genre</th>\n",
              "      <th>story</th>\n",
              "      <th>platform</th>\n",
              "      <th>Thumbnail</th>\n",
              "    </tr>\n",
              "  </thead>\n",
              "  <tbody>\n",
              "    <tr>\n",
              "      <th>0</th>\n",
              "      <td>0</td>\n",
              "      <td>바니와 오빠들</td>\n",
              "      <td>니은</td>\n",
              "      <td>월</td>\n",
              "      <td>로맨스</td>\n",
              "      <td>외모 따지지 않는 개념녀 ? 아니, 나 완전 얼빠 야! 신입생 시절, 남자의 외모를...</td>\n",
              "      <td>카카오웹툰</td>\n",
              "      <td>https://kr-a.kakaopagecdn.com/P/C/1781/c2/2x/5...</td>\n",
              "    </tr>\n",
              "    <tr>\n",
              "      <th>1</th>\n",
              "      <td>1</td>\n",
              "      <td>사귄 건 아닌데</td>\n",
              "      <td>민홍</td>\n",
              "      <td>월</td>\n",
              "      <td>로맨스</td>\n",
              "      <td>스물아홉 살, 서른을 목전에 둔 나이. 고수아는 그 나이가 괜히 심란하다. 고향을 ...</td>\n",
              "      <td>카카오웹툰</td>\n",
              "      <td>https://kr-a.kakaopagecdn.com/P/C/1933/c2/2x/f...</td>\n",
              "    </tr>\n",
              "  </tbody>\n",
              "</table>\n",
              "</div>"
            ],
            "text/plain": [
              "   Unnamed: 0  ...                                          Thumbnail\n",
              "0           0  ...  https://kr-a.kakaopagecdn.com/P/C/1781/c2/2x/5...\n",
              "1           1  ...  https://kr-a.kakaopagecdn.com/P/C/1933/c2/2x/f...\n",
              "\n",
              "[2 rows x 8 columns]"
            ]
          },
          "metadata": {},
          "execution_count": 21
        }
      ]
    },
    {
      "cell_type": "code",
      "metadata": {
        "id": "jM3YYQNrmyii"
      },
      "source": [
        "kw.drop(columns=['Unnamed: 0','Thumbnail'],inplace=True)"
      ],
      "execution_count": 22,
      "outputs": []
    },
    {
      "cell_type": "code",
      "metadata": {
        "colab": {
          "base_uri": "https://localhost:8080/",
          "height": 111
        },
        "id": "8CyE11-vnA7p",
        "outputId": "d07c49be-a190-4c3d-d11a-f8951ebf1048"
      },
      "source": [
        "kw.head(2)"
      ],
      "execution_count": 23,
      "outputs": [
        {
          "output_type": "execute_result",
          "data": {
            "text/html": [
              "<div>\n",
              "<style scoped>\n",
              "    .dataframe tbody tr th:only-of-type {\n",
              "        vertical-align: middle;\n",
              "    }\n",
              "\n",
              "    .dataframe tbody tr th {\n",
              "        vertical-align: top;\n",
              "    }\n",
              "\n",
              "    .dataframe thead th {\n",
              "        text-align: right;\n",
              "    }\n",
              "</style>\n",
              "<table border=\"1\" class=\"dataframe\">\n",
              "  <thead>\n",
              "    <tr style=\"text-align: right;\">\n",
              "      <th></th>\n",
              "      <th>title</th>\n",
              "      <th>author</th>\n",
              "      <th>day</th>\n",
              "      <th>genre</th>\n",
              "      <th>story</th>\n",
              "      <th>platform</th>\n",
              "    </tr>\n",
              "  </thead>\n",
              "  <tbody>\n",
              "    <tr>\n",
              "      <th>0</th>\n",
              "      <td>바니와 오빠들</td>\n",
              "      <td>니은</td>\n",
              "      <td>월</td>\n",
              "      <td>로맨스</td>\n",
              "      <td>외모 따지지 않는 개념녀 ? 아니, 나 완전 얼빠 야! 신입생 시절, 남자의 외모를...</td>\n",
              "      <td>카카오웹툰</td>\n",
              "    </tr>\n",
              "    <tr>\n",
              "      <th>1</th>\n",
              "      <td>사귄 건 아닌데</td>\n",
              "      <td>민홍</td>\n",
              "      <td>월</td>\n",
              "      <td>로맨스</td>\n",
              "      <td>스물아홉 살, 서른을 목전에 둔 나이. 고수아는 그 나이가 괜히 심란하다. 고향을 ...</td>\n",
              "      <td>카카오웹툰</td>\n",
              "    </tr>\n",
              "  </tbody>\n",
              "</table>\n",
              "</div>"
            ],
            "text/plain": [
              "      title author  ...                                              story platform\n",
              "0   바니와 오빠들     니은  ...  외모 따지지 않는 개념녀 ? 아니, 나 완전 얼빠 야! 신입생 시절, 남자의 외모를...    카카오웹툰\n",
              "1  사귄 건 아닌데     민홍  ...  스물아홉 살, 서른을 목전에 둔 나이. 고수아는 그 나이가 괜히 심란하다. 고향을 ...    카카오웹툰\n",
              "\n",
              "[2 rows x 6 columns]"
            ]
          },
          "metadata": {},
          "execution_count": 23
        }
      ]
    },
    {
      "cell_type": "code",
      "metadata": {
        "colab": {
          "base_uri": "https://localhost:8080/",
          "height": 142
        },
        "id": "gfESaluRxy5J",
        "outputId": "cfd1a348-437f-48f8-b9e4-2cd3896b59a6"
      },
      "source": [
        "# kw.drop(columns=['writer','illustrator'],inplace=True)\n",
        "kw.insert(2, 'writer', 0)\n",
        "kw.insert(3, 'illustrator', 1)\n",
        "\n",
        "# 글 작가, 그림 작가 나누기\n",
        "kw['writer'], kw['illustrator'] = zip(*kw['author'].apply(lambda x:[x.strip() for x in x.split('/')] if '/' in x else [x, x]))\n",
        "kw.drop(columns='author', inplace=True)\n",
        "kw.head(3)"
      ],
      "execution_count": 24,
      "outputs": [
        {
          "output_type": "execute_result",
          "data": {
            "text/html": [
              "<div>\n",
              "<style scoped>\n",
              "    .dataframe tbody tr th:only-of-type {\n",
              "        vertical-align: middle;\n",
              "    }\n",
              "\n",
              "    .dataframe tbody tr th {\n",
              "        vertical-align: top;\n",
              "    }\n",
              "\n",
              "    .dataframe thead th {\n",
              "        text-align: right;\n",
              "    }\n",
              "</style>\n",
              "<table border=\"1\" class=\"dataframe\">\n",
              "  <thead>\n",
              "    <tr style=\"text-align: right;\">\n",
              "      <th></th>\n",
              "      <th>title</th>\n",
              "      <th>writer</th>\n",
              "      <th>illustrator</th>\n",
              "      <th>day</th>\n",
              "      <th>genre</th>\n",
              "      <th>story</th>\n",
              "      <th>platform</th>\n",
              "    </tr>\n",
              "  </thead>\n",
              "  <tbody>\n",
              "    <tr>\n",
              "      <th>0</th>\n",
              "      <td>바니와 오빠들</td>\n",
              "      <td>니은</td>\n",
              "      <td>니은</td>\n",
              "      <td>월</td>\n",
              "      <td>로맨스</td>\n",
              "      <td>외모 따지지 않는 개념녀 ? 아니, 나 완전 얼빠 야! 신입생 시절, 남자의 외모를...</td>\n",
              "      <td>카카오웹툰</td>\n",
              "    </tr>\n",
              "    <tr>\n",
              "      <th>1</th>\n",
              "      <td>사귄 건 아닌데</td>\n",
              "      <td>민홍</td>\n",
              "      <td>민홍</td>\n",
              "      <td>월</td>\n",
              "      <td>로맨스</td>\n",
              "      <td>스물아홉 살, 서른을 목전에 둔 나이. 고수아는 그 나이가 괜히 심란하다. 고향을 ...</td>\n",
              "      <td>카카오웹툰</td>\n",
              "    </tr>\n",
              "    <tr>\n",
              "      <th>2</th>\n",
              "      <td>액괴</td>\n",
              "      <td>서강용</td>\n",
              "      <td>서강용</td>\n",
              "      <td>월</td>\n",
              "      <td>학원/판타지</td>\n",
              "      <td>일진들에게 수모를 당하며 황색망사점균을 먹게 된 교내 왕따 수와 진오. 그로 인해 ...</td>\n",
              "      <td>카카오웹툰</td>\n",
              "    </tr>\n",
              "  </tbody>\n",
              "</table>\n",
              "</div>"
            ],
            "text/plain": [
              "      title writer  ...                                              story platform\n",
              "0   바니와 오빠들     니은  ...  외모 따지지 않는 개념녀 ? 아니, 나 완전 얼빠 야! 신입생 시절, 남자의 외모를...    카카오웹툰\n",
              "1  사귄 건 아닌데     민홍  ...  스물아홉 살, 서른을 목전에 둔 나이. 고수아는 그 나이가 괜히 심란하다. 고향을 ...    카카오웹툰\n",
              "2        액괴    서강용  ...  일진들에게 수모를 당하며 황색망사점균을 먹게 된 교내 왕따 수와 진오. 그로 인해 ...    카카오웹툰\n",
              "\n",
              "[3 rows x 7 columns]"
            ]
          },
          "metadata": {},
          "execution_count": 24
        }
      ]
    },
    {
      "cell_type": "markdown",
      "metadata": {
        "id": "AflJQdJEDodX"
      },
      "source": [
        "### 레진 코믹스"
      ]
    },
    {
      "cell_type": "code",
      "metadata": {
        "id": "oyhd01CZ3-Oo"
      },
      "source": [
        "lz = pd.read_csv(path+'LZ.csv')"
      ],
      "execution_count": 25,
      "outputs": []
    },
    {
      "cell_type": "code",
      "metadata": {
        "colab": {
          "base_uri": "https://localhost:8080/",
          "height": 204
        },
        "id": "iCW_MDD13-Ce",
        "outputId": "ee61f796-b9e9-4a2a-f192-a109fd9c693d"
      },
      "source": [
        "lz.head()"
      ],
      "execution_count": 26,
      "outputs": [
        {
          "output_type": "execute_result",
          "data": {
            "text/html": [
              "<div>\n",
              "<style scoped>\n",
              "    .dataframe tbody tr th:only-of-type {\n",
              "        vertical-align: middle;\n",
              "    }\n",
              "\n",
              "    .dataframe tbody tr th {\n",
              "        vertical-align: top;\n",
              "    }\n",
              "\n",
              "    .dataframe thead th {\n",
              "        text-align: right;\n",
              "    }\n",
              "</style>\n",
              "<table border=\"1\" class=\"dataframe\">\n",
              "  <thead>\n",
              "    <tr style=\"text-align: right;\">\n",
              "      <th></th>\n",
              "      <th>Unnamed: 0</th>\n",
              "      <th>id</th>\n",
              "      <th>title</th>\n",
              "      <th>author</th>\n",
              "      <th>day</th>\n",
              "      <th>genre</th>\n",
              "      <th>story</th>\n",
              "      <th>serial</th>\n",
              "      <th>platform</th>\n",
              "    </tr>\n",
              "  </thead>\n",
              "  <tbody>\n",
              "    <tr>\n",
              "      <th>0</th>\n",
              "      <td>0</td>\n",
              "      <td>0</td>\n",
              "      <td>바른쀼생활</td>\n",
              "      <td>윤박</td>\n",
              "      <td>월, 일</td>\n",
              "      <td>일상</td>\n",
              "      <td>원룸에서 츄리닝 차림으로 한 프러포즈, 그리고 결혼..? 스물일곱 동갑내기의 바른 ...</td>\n",
              "      <td>O</td>\n",
              "      <td>레진코믹스</td>\n",
              "    </tr>\n",
              "    <tr>\n",
              "      <th>1</th>\n",
              "      <td>1</td>\n",
              "      <td>1</td>\n",
              "      <td>이토록 다채로운 핏빛</td>\n",
              "      <td>므앵갱</td>\n",
              "      <td>월</td>\n",
              "      <td>판타지</td>\n",
              "      <td>피의 색으로 모든 것이 나뉘는 세상. 순수한 색일수록 높은 신분을, 섞이고 섞여 혼...</td>\n",
              "      <td>O</td>\n",
              "      <td>레진코믹스</td>\n",
              "    </tr>\n",
              "    <tr>\n",
              "      <th>2</th>\n",
              "      <td>2</td>\n",
              "      <td>2</td>\n",
              "      <td>아스란히</td>\n",
              "      <td>포카</td>\n",
              "      <td>월</td>\n",
              "      <td>BL</td>\n",
              "      <td>전쟁 중에 화살을 맞은 주인공 휘운 은 자신의 죽음 앞에서 좌절하는 소하 를 남겨두...</td>\n",
              "      <td>X</td>\n",
              "      <td>레진코믹스</td>\n",
              "    </tr>\n",
              "    <tr>\n",
              "      <th>3</th>\n",
              "      <td>3</td>\n",
              "      <td>3</td>\n",
              "      <td>사랑이라 생각하지 않아</td>\n",
              "      <td>스미야 제니코</td>\n",
              "      <td>월</td>\n",
              "      <td>BL</td>\n",
              "      <td>토오노는 언제부턴가 소꿉친구인 이즈미가 자신에게만 보여주는 웃는 얼굴에 두근거리기 ...</td>\n",
              "      <td>O</td>\n",
              "      <td>레진코믹스</td>\n",
              "    </tr>\n",
              "    <tr>\n",
              "      <th>4</th>\n",
              "      <td>4</td>\n",
              "      <td>4</td>\n",
              "      <td>바퀴멘터리</td>\n",
              "      <td>박바퀴</td>\n",
              "      <td>월, 화, 수, 목, 금</td>\n",
              "      <td>일상</td>\n",
              "      <td>제가 이러고 삽니다.</td>\n",
              "      <td>O</td>\n",
              "      <td>레진코믹스</td>\n",
              "    </tr>\n",
              "  </tbody>\n",
              "</table>\n",
              "</div>"
            ],
            "text/plain": [
              "   Unnamed: 0  id  ... serial platform\n",
              "0           0   0  ...      O    레진코믹스\n",
              "1           1   1  ...      O    레진코믹스\n",
              "2           2   2  ...      X    레진코믹스\n",
              "3           3   3  ...      O    레진코믹스\n",
              "4           4   4  ...      O    레진코믹스\n",
              "\n",
              "[5 rows x 9 columns]"
            ]
          },
          "metadata": {},
          "execution_count": 26
        }
      ]
    },
    {
      "cell_type": "code",
      "metadata": {
        "colab": {
          "base_uri": "https://localhost:8080/",
          "height": 80
        },
        "id": "wz363KP_4qjM",
        "outputId": "eabc566a-340a-417a-9476-05a5da402217"
      },
      "source": [
        "lz.drop(columns=['Unnamed: 0','id','serial'],inplace=True)\n",
        "lz.head(1)"
      ],
      "execution_count": 27,
      "outputs": [
        {
          "output_type": "execute_result",
          "data": {
            "text/html": [
              "<div>\n",
              "<style scoped>\n",
              "    .dataframe tbody tr th:only-of-type {\n",
              "        vertical-align: middle;\n",
              "    }\n",
              "\n",
              "    .dataframe tbody tr th {\n",
              "        vertical-align: top;\n",
              "    }\n",
              "\n",
              "    .dataframe thead th {\n",
              "        text-align: right;\n",
              "    }\n",
              "</style>\n",
              "<table border=\"1\" class=\"dataframe\">\n",
              "  <thead>\n",
              "    <tr style=\"text-align: right;\">\n",
              "      <th></th>\n",
              "      <th>title</th>\n",
              "      <th>author</th>\n",
              "      <th>day</th>\n",
              "      <th>genre</th>\n",
              "      <th>story</th>\n",
              "      <th>platform</th>\n",
              "    </tr>\n",
              "  </thead>\n",
              "  <tbody>\n",
              "    <tr>\n",
              "      <th>0</th>\n",
              "      <td>바른쀼생활</td>\n",
              "      <td>윤박</td>\n",
              "      <td>월, 일</td>\n",
              "      <td>일상</td>\n",
              "      <td>원룸에서 츄리닝 차림으로 한 프러포즈, 그리고 결혼..? 스물일곱 동갑내기의 바른 ...</td>\n",
              "      <td>레진코믹스</td>\n",
              "    </tr>\n",
              "  </tbody>\n",
              "</table>\n",
              "</div>"
            ],
            "text/plain": [
              "   title author  ...                                              story platform\n",
              "0  바른쀼생활     윤박  ...  원룸에서 츄리닝 차림으로 한 프러포즈, 그리고 결혼..? 스물일곱 동갑내기의 바른 ...    레진코믹스\n",
              "\n",
              "[1 rows x 6 columns]"
            ]
          },
          "metadata": {},
          "execution_count": 27
        }
      ]
    },
    {
      "cell_type": "code",
      "metadata": {
        "colab": {
          "base_uri": "https://localhost:8080/",
          "height": 142
        },
        "id": "EEf8QC-g39za",
        "outputId": "26e1e451-3b5a-48ad-e99d-e2b3e2308162"
      },
      "source": [
        "# lz.drop(columns=['writer','illustrator'],inplace=True)\n",
        "lz.insert(2, 'writer', 0)\n",
        "lz.insert(3, 'illustrator', 1)\n",
        "\n",
        "# 글 작가, 그림 작가 나누기\n",
        "lz['writer'], lz['illustrator'] = zip(*lz['author'].apply(lambda x:[x.strip() for x in x.split('/')] if ('/') in x else [x, x]))\n",
        "lz.drop(columns='author', inplace=True)\n",
        "lz.head(3)"
      ],
      "execution_count": 28,
      "outputs": [
        {
          "output_type": "execute_result",
          "data": {
            "text/html": [
              "<div>\n",
              "<style scoped>\n",
              "    .dataframe tbody tr th:only-of-type {\n",
              "        vertical-align: middle;\n",
              "    }\n",
              "\n",
              "    .dataframe tbody tr th {\n",
              "        vertical-align: top;\n",
              "    }\n",
              "\n",
              "    .dataframe thead th {\n",
              "        text-align: right;\n",
              "    }\n",
              "</style>\n",
              "<table border=\"1\" class=\"dataframe\">\n",
              "  <thead>\n",
              "    <tr style=\"text-align: right;\">\n",
              "      <th></th>\n",
              "      <th>title</th>\n",
              "      <th>writer</th>\n",
              "      <th>illustrator</th>\n",
              "      <th>day</th>\n",
              "      <th>genre</th>\n",
              "      <th>story</th>\n",
              "      <th>platform</th>\n",
              "    </tr>\n",
              "  </thead>\n",
              "  <tbody>\n",
              "    <tr>\n",
              "      <th>0</th>\n",
              "      <td>바른쀼생활</td>\n",
              "      <td>윤박</td>\n",
              "      <td>윤박</td>\n",
              "      <td>월, 일</td>\n",
              "      <td>일상</td>\n",
              "      <td>원룸에서 츄리닝 차림으로 한 프러포즈, 그리고 결혼..? 스물일곱 동갑내기의 바른 ...</td>\n",
              "      <td>레진코믹스</td>\n",
              "    </tr>\n",
              "    <tr>\n",
              "      <th>1</th>\n",
              "      <td>이토록 다채로운 핏빛</td>\n",
              "      <td>므앵갱</td>\n",
              "      <td>므앵갱</td>\n",
              "      <td>월</td>\n",
              "      <td>판타지</td>\n",
              "      <td>피의 색으로 모든 것이 나뉘는 세상. 순수한 색일수록 높은 신분을, 섞이고 섞여 혼...</td>\n",
              "      <td>레진코믹스</td>\n",
              "    </tr>\n",
              "    <tr>\n",
              "      <th>2</th>\n",
              "      <td>아스란히</td>\n",
              "      <td>포카</td>\n",
              "      <td>포카</td>\n",
              "      <td>월</td>\n",
              "      <td>BL</td>\n",
              "      <td>전쟁 중에 화살을 맞은 주인공 휘운 은 자신의 죽음 앞에서 좌절하는 소하 를 남겨두...</td>\n",
              "      <td>레진코믹스</td>\n",
              "    </tr>\n",
              "  </tbody>\n",
              "</table>\n",
              "</div>"
            ],
            "text/plain": [
              "         title  ... platform\n",
              "0        바른쀼생활  ...    레진코믹스\n",
              "1  이토록 다채로운 핏빛  ...    레진코믹스\n",
              "2         아스란히  ...    레진코믹스\n",
              "\n",
              "[3 rows x 7 columns]"
            ]
          },
          "metadata": {},
          "execution_count": 28
        }
      ]
    },
    {
      "cell_type": "code",
      "metadata": {
        "colab": {
          "base_uri": "https://localhost:8080/",
          "height": 204
        },
        "id": "_5asvu0sLOtE",
        "outputId": "35c3691d-c19c-430c-9657-b3d911d941ee"
      },
      "source": [
        "lz.head()"
      ],
      "execution_count": 29,
      "outputs": [
        {
          "output_type": "execute_result",
          "data": {
            "text/html": [
              "<div>\n",
              "<style scoped>\n",
              "    .dataframe tbody tr th:only-of-type {\n",
              "        vertical-align: middle;\n",
              "    }\n",
              "\n",
              "    .dataframe tbody tr th {\n",
              "        vertical-align: top;\n",
              "    }\n",
              "\n",
              "    .dataframe thead th {\n",
              "        text-align: right;\n",
              "    }\n",
              "</style>\n",
              "<table border=\"1\" class=\"dataframe\">\n",
              "  <thead>\n",
              "    <tr style=\"text-align: right;\">\n",
              "      <th></th>\n",
              "      <th>title</th>\n",
              "      <th>writer</th>\n",
              "      <th>illustrator</th>\n",
              "      <th>day</th>\n",
              "      <th>genre</th>\n",
              "      <th>story</th>\n",
              "      <th>platform</th>\n",
              "    </tr>\n",
              "  </thead>\n",
              "  <tbody>\n",
              "    <tr>\n",
              "      <th>0</th>\n",
              "      <td>바른쀼생활</td>\n",
              "      <td>윤박</td>\n",
              "      <td>윤박</td>\n",
              "      <td>월, 일</td>\n",
              "      <td>일상</td>\n",
              "      <td>원룸에서 츄리닝 차림으로 한 프러포즈, 그리고 결혼..? 스물일곱 동갑내기의 바른 ...</td>\n",
              "      <td>레진코믹스</td>\n",
              "    </tr>\n",
              "    <tr>\n",
              "      <th>1</th>\n",
              "      <td>이토록 다채로운 핏빛</td>\n",
              "      <td>므앵갱</td>\n",
              "      <td>므앵갱</td>\n",
              "      <td>월</td>\n",
              "      <td>판타지</td>\n",
              "      <td>피의 색으로 모든 것이 나뉘는 세상. 순수한 색일수록 높은 신분을, 섞이고 섞여 혼...</td>\n",
              "      <td>레진코믹스</td>\n",
              "    </tr>\n",
              "    <tr>\n",
              "      <th>2</th>\n",
              "      <td>아스란히</td>\n",
              "      <td>포카</td>\n",
              "      <td>포카</td>\n",
              "      <td>월</td>\n",
              "      <td>BL</td>\n",
              "      <td>전쟁 중에 화살을 맞은 주인공 휘운 은 자신의 죽음 앞에서 좌절하는 소하 를 남겨두...</td>\n",
              "      <td>레진코믹스</td>\n",
              "    </tr>\n",
              "    <tr>\n",
              "      <th>3</th>\n",
              "      <td>사랑이라 생각하지 않아</td>\n",
              "      <td>스미야 제니코</td>\n",
              "      <td>스미야 제니코</td>\n",
              "      <td>월</td>\n",
              "      <td>BL</td>\n",
              "      <td>토오노는 언제부턴가 소꿉친구인 이즈미가 자신에게만 보여주는 웃는 얼굴에 두근거리기 ...</td>\n",
              "      <td>레진코믹스</td>\n",
              "    </tr>\n",
              "    <tr>\n",
              "      <th>4</th>\n",
              "      <td>바퀴멘터리</td>\n",
              "      <td>박바퀴</td>\n",
              "      <td>박바퀴</td>\n",
              "      <td>월, 화, 수, 목, 금</td>\n",
              "      <td>일상</td>\n",
              "      <td>제가 이러고 삽니다.</td>\n",
              "      <td>레진코믹스</td>\n",
              "    </tr>\n",
              "  </tbody>\n",
              "</table>\n",
              "</div>"
            ],
            "text/plain": [
              "          title  ... platform\n",
              "0         바른쀼생활  ...    레진코믹스\n",
              "1   이토록 다채로운 핏빛  ...    레진코믹스\n",
              "2          아스란히  ...    레진코믹스\n",
              "3  사랑이라 생각하지 않아  ...    레진코믹스\n",
              "4         바퀴멘터리  ...    레진코믹스\n",
              "\n",
              "[5 rows x 7 columns]"
            ]
          },
          "metadata": {},
          "execution_count": 29
        }
      ]
    },
    {
      "cell_type": "markdown",
      "metadata": {
        "id": "PBGpeg1tfTPE"
      },
      "source": [
        "### 카카오 웹툰 소설"
      ]
    },
    {
      "cell_type": "code",
      "metadata": {
        "colab": {
          "base_uri": "https://localhost:8080/",
          "height": 80
        },
        "id": "fQ5AM5V9fW9u",
        "outputId": "989970b3-1559-458c-c527-bad48794430c"
      },
      "source": [
        "kn=pd.read_csv(path + 'kakao_novel.csv',encoding=encoding)\n",
        "kn.head(1)"
      ],
      "execution_count": 30,
      "outputs": [
        {
          "output_type": "execute_result",
          "data": {
            "text/html": [
              "<div>\n",
              "<style scoped>\n",
              "    .dataframe tbody tr th:only-of-type {\n",
              "        vertical-align: middle;\n",
              "    }\n",
              "\n",
              "    .dataframe tbody tr th {\n",
              "        vertical-align: top;\n",
              "    }\n",
              "\n",
              "    .dataframe thead th {\n",
              "        text-align: right;\n",
              "    }\n",
              "</style>\n",
              "<table border=\"1\" class=\"dataframe\">\n",
              "  <thead>\n",
              "    <tr style=\"text-align: right;\">\n",
              "      <th></th>\n",
              "      <th>Unnamed: 0</th>\n",
              "      <th>title</th>\n",
              "      <th>author</th>\n",
              "      <th>day</th>\n",
              "      <th>genre</th>\n",
              "      <th>story</th>\n",
              "      <th>platform</th>\n",
              "      <th>Thumbnail</th>\n",
              "    </tr>\n",
              "  </thead>\n",
              "  <tbody>\n",
              "    <tr>\n",
              "      <th>0</th>\n",
              "      <td>0</td>\n",
              "      <td>튜토리얼이 너무 어렵다</td>\n",
              "      <td>이마에 다이키</td>\n",
              "      <td>월</td>\n",
              "      <td>학원/판타지</td>\n",
              "      <td>우연히 튜토리얼의 세계로 들어가게 된 전직 프로게이머 이호재. 튜토리얼에서 살아남기...</td>\n",
              "      <td>카카오웹툰</td>\n",
              "      <td>https://kr-a.kakaopagecdn.com/P/C/2467/c2/2x/2...</td>\n",
              "    </tr>\n",
              "  </tbody>\n",
              "</table>\n",
              "</div>"
            ],
            "text/plain": [
              "   Unnamed: 0  ...                                          Thumbnail\n",
              "0           0  ...  https://kr-a.kakaopagecdn.com/P/C/2467/c2/2x/2...\n",
              "\n",
              "[1 rows x 8 columns]"
            ]
          },
          "metadata": {},
          "execution_count": 30
        }
      ]
    },
    {
      "cell_type": "code",
      "metadata": {
        "colab": {
          "base_uri": "https://localhost:8080/",
          "height": 80
        },
        "id": "iUpeiQCOfzk-",
        "outputId": "d2c9b84f-c298-4a84-e84d-95307c424263"
      },
      "source": [
        "knp = pd.read_csv(path + 'kakao_novel_completed.csv',encoding=encoding)\n",
        "knp.head(1)"
      ],
      "execution_count": 31,
      "outputs": [
        {
          "output_type": "execute_result",
          "data": {
            "text/html": [
              "<div>\n",
              "<style scoped>\n",
              "    .dataframe tbody tr th:only-of-type {\n",
              "        vertical-align: middle;\n",
              "    }\n",
              "\n",
              "    .dataframe tbody tr th {\n",
              "        vertical-align: top;\n",
              "    }\n",
              "\n",
              "    .dataframe thead th {\n",
              "        text-align: right;\n",
              "    }\n",
              "</style>\n",
              "<table border=\"1\" class=\"dataframe\">\n",
              "  <thead>\n",
              "    <tr style=\"text-align: right;\">\n",
              "      <th></th>\n",
              "      <th>Unnamed: 0</th>\n",
              "      <th>title</th>\n",
              "      <th>author</th>\n",
              "      <th>day</th>\n",
              "      <th>genre</th>\n",
              "      <th>story</th>\n",
              "      <th>platform</th>\n",
              "      <th>Thumbnail</th>\n",
              "    </tr>\n",
              "  </thead>\n",
              "  <tbody>\n",
              "    <tr>\n",
              "      <th>0</th>\n",
              "      <td>0</td>\n",
              "      <td>김 비서가 왜 그럴까</td>\n",
              "      <td>김명미</td>\n",
              "      <td>완결</td>\n",
              "      <td>로맨스</td>\n",
              "      <td>천상천하유아독존, 신이 빚어낸 마스터피스, 이 세상 내 맘대로 안 되는 건 없는 유...</td>\n",
              "      <td>카카오웹툰</td>\n",
              "      <td>https://kr-a.kakaopagecdn.com/P/C/2307/c2/2x/c...</td>\n",
              "    </tr>\n",
              "  </tbody>\n",
              "</table>\n",
              "</div>"
            ],
            "text/plain": [
              "   Unnamed: 0  ...                                          Thumbnail\n",
              "0           0  ...  https://kr-a.kakaopagecdn.com/P/C/2307/c2/2x/c...\n",
              "\n",
              "[1 rows x 8 columns]"
            ]
          },
          "metadata": {},
          "execution_count": 31
        }
      ]
    },
    {
      "cell_type": "code",
      "metadata": {
        "colab": {
          "base_uri": "https://localhost:8080/",
          "height": 204
        },
        "id": "BVpo3p4RgjcJ",
        "outputId": "686dd363-74f2-4159-ac36-66791a4e5471"
      },
      "source": [
        "k_novel = pd.concat([kn,knp])\n",
        "k_novel.head()"
      ],
      "execution_count": 32,
      "outputs": [
        {
          "output_type": "execute_result",
          "data": {
            "text/html": [
              "<div>\n",
              "<style scoped>\n",
              "    .dataframe tbody tr th:only-of-type {\n",
              "        vertical-align: middle;\n",
              "    }\n",
              "\n",
              "    .dataframe tbody tr th {\n",
              "        vertical-align: top;\n",
              "    }\n",
              "\n",
              "    .dataframe thead th {\n",
              "        text-align: right;\n",
              "    }\n",
              "</style>\n",
              "<table border=\"1\" class=\"dataframe\">\n",
              "  <thead>\n",
              "    <tr style=\"text-align: right;\">\n",
              "      <th></th>\n",
              "      <th>Unnamed: 0</th>\n",
              "      <th>title</th>\n",
              "      <th>author</th>\n",
              "      <th>day</th>\n",
              "      <th>genre</th>\n",
              "      <th>story</th>\n",
              "      <th>platform</th>\n",
              "      <th>Thumbnail</th>\n",
              "    </tr>\n",
              "  </thead>\n",
              "  <tbody>\n",
              "    <tr>\n",
              "      <th>0</th>\n",
              "      <td>0</td>\n",
              "      <td>튜토리얼이 너무 어렵다</td>\n",
              "      <td>이마에 다이키</td>\n",
              "      <td>월</td>\n",
              "      <td>학원/판타지</td>\n",
              "      <td>우연히 튜토리얼의 세계로 들어가게 된 전직 프로게이머 이호재. 튜토리얼에서 살아남기...</td>\n",
              "      <td>카카오웹툰</td>\n",
              "      <td>https://kr-a.kakaopagecdn.com/P/C/2467/c2/2x/2...</td>\n",
              "    </tr>\n",
              "    <tr>\n",
              "      <th>1</th>\n",
              "      <td>1</td>\n",
              "      <td>녹음의 관</td>\n",
              "      <td>삵</td>\n",
              "      <td>월</td>\n",
              "      <td>로맨스 판타지</td>\n",
              "      <td>남자주인공에게 트라우마를 남긴 계모의 딸에 빙의했다. 이 모든 것은 내가 열 다섯 ...</td>\n",
              "      <td>카카오웹툰</td>\n",
              "      <td>https://kr-a.kakaopagecdn.com/P/C/2434/c2/2x/6...</td>\n",
              "    </tr>\n",
              "    <tr>\n",
              "      <th>2</th>\n",
              "      <td>2</td>\n",
              "      <td>모시던 아가씨가 도련님이 되어버렸다</td>\n",
              "      <td>시그마</td>\n",
              "      <td>월</td>\n",
              "      <td>로맨스 판타지</td>\n",
              "      <td>조연에 빙의한 지 9년 차, 모시던 아가씨가 도련님이 되어 찾아왔다. 원작 여주인공...</td>\n",
              "      <td>카카오웹툰</td>\n",
              "      <td>https://kr-a.kakaopagecdn.com/P/C/2400/c2/2x/0...</td>\n",
              "    </tr>\n",
              "    <tr>\n",
              "      <th>3</th>\n",
              "      <td>3</td>\n",
              "      <td>정령의 펜던트</td>\n",
              "      <td>빅피</td>\n",
              "      <td>월</td>\n",
              "      <td>학원/판타지</td>\n",
              "      <td>제국의 살아 있는 전설, 란데르트 공작의 유일한 아들 바율. 어려서부터 환시와 환청...</td>\n",
              "      <td>카카오웹툰</td>\n",
              "      <td>https://kr-a.kakaopagecdn.com/P/C/2509/c2/2x/2...</td>\n",
              "    </tr>\n",
              "    <tr>\n",
              "      <th>4</th>\n",
              "      <td>4</td>\n",
              "      <td>나는 이 집 아이</td>\n",
              "      <td>코튼</td>\n",
              "      <td>월</td>\n",
              "      <td>로맨스 판타지</td>\n",
              "      <td>전생의 기억이 좀 있다는 것만 빼면 평범한 ? 사생아로서 시간을 보내왔다. 그러던 ...</td>\n",
              "      <td>카카오웹툰</td>\n",
              "      <td>https://kr-a.kakaopagecdn.com/P/C/2325/c2/2x/d...</td>\n",
              "    </tr>\n",
              "  </tbody>\n",
              "</table>\n",
              "</div>"
            ],
            "text/plain": [
              "   Unnamed: 0  ...                                          Thumbnail\n",
              "0           0  ...  https://kr-a.kakaopagecdn.com/P/C/2467/c2/2x/2...\n",
              "1           1  ...  https://kr-a.kakaopagecdn.com/P/C/2434/c2/2x/6...\n",
              "2           2  ...  https://kr-a.kakaopagecdn.com/P/C/2400/c2/2x/0...\n",
              "3           3  ...  https://kr-a.kakaopagecdn.com/P/C/2509/c2/2x/2...\n",
              "4           4  ...  https://kr-a.kakaopagecdn.com/P/C/2325/c2/2x/d...\n",
              "\n",
              "[5 rows x 8 columns]"
            ]
          },
          "metadata": {},
          "execution_count": 32
        }
      ]
    },
    {
      "cell_type": "code",
      "metadata": {
        "id": "qxneSgOGhXkG"
      },
      "source": [
        "k_novel.drop(columns = ['Unnamed: 0','Thumbnail'],inplace=True)"
      ],
      "execution_count": 33,
      "outputs": []
    },
    {
      "cell_type": "code",
      "metadata": {
        "colab": {
          "base_uri": "https://localhost:8080/",
          "height": 142
        },
        "id": "XjpeCmNxgyUd",
        "outputId": "b4a1b7dd-a5ea-425f-8ee4-3799a3fc5f7d"
      },
      "source": [
        "# lz.drop(columns=['writer','illustrator'],inplace=True)\n",
        "k_novel.insert(2, 'writer', 0)\n",
        "k_novel.insert(3, 'illustrator', 1)\n",
        "\n",
        "# 글 작가, 그림 작가 나누기\n",
        "k_novel['writer'], k_novel['illustrator'] = zip(*k_novel['author'].apply(lambda x:[x.strip() for x in x.split('/')] if ('/') in x else [x, x]))\n",
        "k_novel.drop(columns='author', inplace=True)\n",
        "k_novel.head(3)"
      ],
      "execution_count": 34,
      "outputs": [
        {
          "output_type": "execute_result",
          "data": {
            "text/html": [
              "<div>\n",
              "<style scoped>\n",
              "    .dataframe tbody tr th:only-of-type {\n",
              "        vertical-align: middle;\n",
              "    }\n",
              "\n",
              "    .dataframe tbody tr th {\n",
              "        vertical-align: top;\n",
              "    }\n",
              "\n",
              "    .dataframe thead th {\n",
              "        text-align: right;\n",
              "    }\n",
              "</style>\n",
              "<table border=\"1\" class=\"dataframe\">\n",
              "  <thead>\n",
              "    <tr style=\"text-align: right;\">\n",
              "      <th></th>\n",
              "      <th>title</th>\n",
              "      <th>writer</th>\n",
              "      <th>illustrator</th>\n",
              "      <th>day</th>\n",
              "      <th>genre</th>\n",
              "      <th>story</th>\n",
              "      <th>platform</th>\n",
              "    </tr>\n",
              "  </thead>\n",
              "  <tbody>\n",
              "    <tr>\n",
              "      <th>0</th>\n",
              "      <td>튜토리얼이 너무 어렵다</td>\n",
              "      <td>이마에 다이키</td>\n",
              "      <td>이마에 다이키</td>\n",
              "      <td>월</td>\n",
              "      <td>학원/판타지</td>\n",
              "      <td>우연히 튜토리얼의 세계로 들어가게 된 전직 프로게이머 이호재. 튜토리얼에서 살아남기...</td>\n",
              "      <td>카카오웹툰</td>\n",
              "    </tr>\n",
              "    <tr>\n",
              "      <th>1</th>\n",
              "      <td>녹음의 관</td>\n",
              "      <td>삵</td>\n",
              "      <td>삵</td>\n",
              "      <td>월</td>\n",
              "      <td>로맨스 판타지</td>\n",
              "      <td>남자주인공에게 트라우마를 남긴 계모의 딸에 빙의했다. 이 모든 것은 내가 열 다섯 ...</td>\n",
              "      <td>카카오웹툰</td>\n",
              "    </tr>\n",
              "    <tr>\n",
              "      <th>2</th>\n",
              "      <td>모시던 아가씨가 도련님이 되어버렸다</td>\n",
              "      <td>시그마</td>\n",
              "      <td>시그마</td>\n",
              "      <td>월</td>\n",
              "      <td>로맨스 판타지</td>\n",
              "      <td>조연에 빙의한 지 9년 차, 모시던 아가씨가 도련님이 되어 찾아왔다. 원작 여주인공...</td>\n",
              "      <td>카카오웹툰</td>\n",
              "    </tr>\n",
              "  </tbody>\n",
              "</table>\n",
              "</div>"
            ],
            "text/plain": [
              "                 title  ... platform\n",
              "0         튜토리얼이 너무 어렵다  ...    카카오웹툰\n",
              "1                녹음의 관  ...    카카오웹툰\n",
              "2  모시던 아가씨가 도련님이 되어버렸다  ...    카카오웹툰\n",
              "\n",
              "[3 rows x 7 columns]"
            ]
          },
          "metadata": {},
          "execution_count": 34
        }
      ]
    },
    {
      "cell_type": "markdown",
      "metadata": {
        "id": "BN6DXzCjDtFp"
      },
      "source": [
        "### 데이터 통합"
      ]
    },
    {
      "cell_type": "code",
      "metadata": {
        "id": "i5bW8ywQ5mYW"
      },
      "source": [
        "test=pd.concat([naver,kp,kw,lz,k_novel])"
      ],
      "execution_count": 35,
      "outputs": []
    },
    {
      "cell_type": "code",
      "metadata": {
        "id": "SO2u4EuJrF_K",
        "colab": {
          "base_uri": "https://localhost:8080/",
          "height": 419
        },
        "outputId": "6e05dfa9-bd04-4f70-9da5-2fcdecf87586"
      },
      "source": [
        "test"
      ],
      "execution_count": 36,
      "outputs": [
        {
          "output_type": "execute_result",
          "data": {
            "text/html": [
              "<div>\n",
              "<style scoped>\n",
              "    .dataframe tbody tr th:only-of-type {\n",
              "        vertical-align: middle;\n",
              "    }\n",
              "\n",
              "    .dataframe tbody tr th {\n",
              "        vertical-align: top;\n",
              "    }\n",
              "\n",
              "    .dataframe thead th {\n",
              "        text-align: right;\n",
              "    }\n",
              "</style>\n",
              "<table border=\"1\" class=\"dataframe\">\n",
              "  <thead>\n",
              "    <tr style=\"text-align: right;\">\n",
              "      <th></th>\n",
              "      <th>title</th>\n",
              "      <th>writer</th>\n",
              "      <th>illustrator</th>\n",
              "      <th>day</th>\n",
              "      <th>genre</th>\n",
              "      <th>story</th>\n",
              "      <th>platform</th>\n",
              "    </tr>\n",
              "  </thead>\n",
              "  <tbody>\n",
              "    <tr>\n",
              "      <th>0</th>\n",
              "      <td>참교육</td>\n",
              "      <td>채용택</td>\n",
              "      <td>한가람</td>\n",
              "      <td>월</td>\n",
              "      <td>스토리, 액션</td>\n",
              "      <td>무너진 교권을 지키기 위해 교권보호국 소속 나화진의 참교육이 시작된다! 부활남 채용...</td>\n",
              "      <td>네이버 웹툰</td>\n",
              "    </tr>\n",
              "    <tr>\n",
              "      <th>1</th>\n",
              "      <td>신의 탑</td>\n",
              "      <td>SIU</td>\n",
              "      <td>SIU</td>\n",
              "      <td>월</td>\n",
              "      <td>스토리, 판타지</td>\n",
              "      <td>자신의 모든 것이었던 소녀를 쫓아 탑에 들어온 소년 그리고 그런 소년을 시험하는 탑</td>\n",
              "      <td>네이버 웹툰</td>\n",
              "    </tr>\n",
              "    <tr>\n",
              "      <th>2</th>\n",
              "      <td>뷰티풀 군바리</td>\n",
              "      <td>설이</td>\n",
              "      <td>윤성원</td>\n",
              "      <td>월</td>\n",
              "      <td>스토리, 드라마</td>\n",
              "      <td>여자도 군대에 간다면? 본격 여자도 군대 가는 만화!</td>\n",
              "      <td>네이버 웹툰</td>\n",
              "    </tr>\n",
              "    <tr>\n",
              "      <th>3</th>\n",
              "      <td>윈드브레이커</td>\n",
              "      <td>조용석</td>\n",
              "      <td>조용석</td>\n",
              "      <td>월</td>\n",
              "      <td>스토리, 스포츠</td>\n",
              "      <td>혼자서 자전거를 즐겨타던 모범생 조자현. 원치 않게 자전거 크루의 일에 자꾸 휘말리...</td>\n",
              "      <td>네이버 웹툰</td>\n",
              "    </tr>\n",
              "    <tr>\n",
              "      <th>4</th>\n",
              "      <td>팔이피플</td>\n",
              "      <td>매미</td>\n",
              "      <td>희세</td>\n",
              "      <td>월</td>\n",
              "      <td>스토리, 드라마</td>\n",
              "      <td>마스크걸 , 위대한 방옥숙 매미 희세 작가의 신작! 에서 육아용품 파는 평범한 유부...</td>\n",
              "      <td>네이버 웹툰</td>\n",
              "    </tr>\n",
              "    <tr>\n",
              "      <th>...</th>\n",
              "      <td>...</td>\n",
              "      <td>...</td>\n",
              "      <td>...</td>\n",
              "      <td>...</td>\n",
              "      <td>...</td>\n",
              "      <td>...</td>\n",
              "      <td>...</td>\n",
              "    </tr>\n",
              "    <tr>\n",
              "      <th>9</th>\n",
              "      <td>외과의사 엘리제</td>\n",
              "      <td>mini</td>\n",
              "      <td>mini</td>\n",
              "      <td>완결</td>\n",
              "      <td>로맨스 판타지</td>\n",
              "      <td>서울대 최연소 의대 교수 송지현 ! 지난 과거 삶의 잘못을 만회하기 위해 의사로서 ...</td>\n",
              "      <td>카카오웹툰</td>\n",
              "    </tr>\n",
              "    <tr>\n",
              "      <th>10</th>\n",
              "      <td>진심이 닿다</td>\n",
              "      <td>앤트스튜디오</td>\n",
              "      <td>앤트스튜디오</td>\n",
              "      <td>완결</td>\n",
              "      <td>로맨스</td>\n",
              "      <td>자타공인 대한민국 최고 톱스타, 오윤서 본명 오진심! 한창 잘나가던 그때, 재벌3세...</td>\n",
              "      <td>카카오웹툰</td>\n",
              "    </tr>\n",
              "    <tr>\n",
              "      <th>11</th>\n",
              "      <td>드림사이드</td>\n",
              "      <td>홍정훈</td>\n",
              "      <td>홍정훈</td>\n",
              "      <td>완결</td>\n",
              "      <td>공포/스릴러</td>\n",
              "      <td>시골의사의 아들 남하진, 어느날 좀비가 들끓는 악몽을 꾸고 난 후, 꿈에서 만난 소...</td>\n",
              "      <td>카카오웹툰</td>\n",
              "    </tr>\n",
              "    <tr>\n",
              "      <th>12</th>\n",
              "      <td>더스크 하울러</td>\n",
              "      <td>크루</td>\n",
              "      <td>크루</td>\n",
              "      <td>완결</td>\n",
              "      <td>학원/판타지</td>\n",
              "      <td>소심한 성격을 극복하기 위해 밸런스 막장으로 소문난 게임 트리키아 에 뛰어들었다! ...</td>\n",
              "      <td>카카오웹툰</td>\n",
              "    </tr>\n",
              "    <tr>\n",
              "      <th>13</th>\n",
              "      <td>애완견의 법칙</td>\n",
              "      <td>도담</td>\n",
              "      <td>도담</td>\n",
              "      <td>완결</td>\n",
              "      <td>로맨스</td>\n",
              "      <td>성운 출판사에는 미친개가 있다. 변화 없는 표정, 높낮이 없는 음성, 차갑고 어두운...</td>\n",
              "      <td>카카오웹툰</td>\n",
              "    </tr>\n",
              "  </tbody>\n",
              "</table>\n",
              "<p>4309 rows × 7 columns</p>\n",
              "</div>"
            ],
            "text/plain": [
              "       title  ... platform\n",
              "0        참교육  ...   네이버 웹툰\n",
              "1       신의 탑  ...   네이버 웹툰\n",
              "2    뷰티풀 군바리  ...   네이버 웹툰\n",
              "3     윈드브레이커  ...   네이버 웹툰\n",
              "4       팔이피플  ...   네이버 웹툰\n",
              "..       ...  ...      ...\n",
              "9   외과의사 엘리제  ...    카카오웹툰\n",
              "10    진심이 닿다  ...    카카오웹툰\n",
              "11     드림사이드  ...    카카오웹툰\n",
              "12   더스크 하울러  ...    카카오웹툰\n",
              "13   애완견의 법칙  ...    카카오웹툰\n",
              "\n",
              "[4309 rows x 7 columns]"
            ]
          },
          "metadata": {},
          "execution_count": 36
        }
      ]
    },
    {
      "cell_type": "code",
      "metadata": {
        "colab": {
          "base_uri": "https://localhost:8080/",
          "height": 80
        },
        "id": "YOrt2NIBsZCF",
        "outputId": "9e9f3bd8-5cce-475f-cee6-f581dd53ac7e"
      },
      "source": [
        "test[test.title=='바니와 오빠들']"
      ],
      "execution_count": 37,
      "outputs": [
        {
          "output_type": "execute_result",
          "data": {
            "text/html": [
              "<div>\n",
              "<style scoped>\n",
              "    .dataframe tbody tr th:only-of-type {\n",
              "        vertical-align: middle;\n",
              "    }\n",
              "\n",
              "    .dataframe tbody tr th {\n",
              "        vertical-align: top;\n",
              "    }\n",
              "\n",
              "    .dataframe thead th {\n",
              "        text-align: right;\n",
              "    }\n",
              "</style>\n",
              "<table border=\"1\" class=\"dataframe\">\n",
              "  <thead>\n",
              "    <tr style=\"text-align: right;\">\n",
              "      <th></th>\n",
              "      <th>title</th>\n",
              "      <th>writer</th>\n",
              "      <th>illustrator</th>\n",
              "      <th>day</th>\n",
              "      <th>genre</th>\n",
              "      <th>story</th>\n",
              "      <th>platform</th>\n",
              "    </tr>\n",
              "  </thead>\n",
              "  <tbody>\n",
              "    <tr>\n",
              "      <th>0</th>\n",
              "      <td>바니와 오빠들</td>\n",
              "      <td>니은</td>\n",
              "      <td>니은</td>\n",
              "      <td>월</td>\n",
              "      <td>로맨스</td>\n",
              "      <td>외모 따지지 않는 개념녀 ? 아니, 나 완전 얼빠 야! 신입생 시절, 남자의 외모를...</td>\n",
              "      <td>카카오웹툰</td>\n",
              "    </tr>\n",
              "  </tbody>\n",
              "</table>\n",
              "</div>"
            ],
            "text/plain": [
              "     title writer  ...                                              story platform\n",
              "0  바니와 오빠들     니은  ...  외모 따지지 않는 개념녀 ? 아니, 나 완전 얼빠 야! 신입생 시절, 남자의 외모를...    카카오웹툰\n",
              "\n",
              "[1 rows x 7 columns]"
            ]
          },
          "metadata": {},
          "execution_count": 37
        }
      ]
    },
    {
      "cell_type": "code",
      "metadata": {
        "colab": {
          "base_uri": "https://localhost:8080/"
        },
        "id": "rv69iC3SugQ6",
        "outputId": "4eb75ba8-b90b-4aa2-db63-fbb175e77a6a"
      },
      "source": [
        "test.title.value_counts()"
      ],
      "execution_count": 38,
      "outputs": [
        {
          "output_type": "execute_result",
          "data": {
            "text/plain": [
              "폭군황제의 첫사랑      3\n",
              "트리거            3\n",
              "묵향 디 오리진       3\n",
              "갱스쿨            3\n",
              "하렘생존기          2\n",
              "              ..\n",
              "유리구두           1\n",
              "고등매직           1\n",
              "섀도우            1\n",
              "호구의 사랑         1\n",
              "김 비서가 왜 그럴까    1\n",
              "Name: title, Length: 4017, dtype: int64"
            ]
          },
          "metadata": {},
          "execution_count": 38
        }
      ]
    },
    {
      "cell_type": "code",
      "metadata": {
        "colab": {
          "base_uri": "https://localhost:8080/",
          "height": 142
        },
        "id": "IgF7tIJEwhQI",
        "outputId": "a4c03e23-65c4-4037-f9fe-ba261b2f3a4d"
      },
      "source": [
        "test[test.title=='갱스쿨']"
      ],
      "execution_count": 39,
      "outputs": [
        {
          "output_type": "execute_result",
          "data": {
            "text/html": [
              "<div>\n",
              "<style scoped>\n",
              "    .dataframe tbody tr th:only-of-type {\n",
              "        vertical-align: middle;\n",
              "    }\n",
              "\n",
              "    .dataframe tbody tr th {\n",
              "        vertical-align: top;\n",
              "    }\n",
              "\n",
              "    .dataframe thead th {\n",
              "        text-align: right;\n",
              "    }\n",
              "</style>\n",
              "<table border=\"1\" class=\"dataframe\">\n",
              "  <thead>\n",
              "    <tr style=\"text-align: right;\">\n",
              "      <th></th>\n",
              "      <th>title</th>\n",
              "      <th>writer</th>\n",
              "      <th>illustrator</th>\n",
              "      <th>day</th>\n",
              "      <th>genre</th>\n",
              "      <th>story</th>\n",
              "      <th>platform</th>\n",
              "    </tr>\n",
              "  </thead>\n",
              "  <tbody>\n",
              "    <tr>\n",
              "      <th>294</th>\n",
              "      <td>갱스쿨</td>\n",
              "      <td>taibogi</td>\n",
              "      <td>taibogi</td>\n",
              "      <td>완결</td>\n",
              "      <td>소년만화</td>\n",
              "      <td>아버지의 자살로 일순간 모래성처럼 무너져 버린 가족들. 정신을 놓은 어머니와 맹인 ...</td>\n",
              "      <td>카카오페이지</td>\n",
              "    </tr>\n",
              "    <tr>\n",
              "      <th>104</th>\n",
              "      <td>갱스쿨</td>\n",
              "      <td>taibogi</td>\n",
              "      <td>taibogi</td>\n",
              "      <td>목</td>\n",
              "      <td>학원/판타지</td>\n",
              "      <td>아버지의 자살로 일순간 모래성처럼 무너져 버린 가족들. 정신을 놓은 어머니와 맹인 ...</td>\n",
              "      <td>카카오웹툰</td>\n",
              "    </tr>\n",
              "    <tr>\n",
              "      <th>75</th>\n",
              "      <td>갱스쿨</td>\n",
              "      <td>taibogi</td>\n",
              "      <td>taibogi</td>\n",
              "      <td>완결</td>\n",
              "      <td>학원/판타지</td>\n",
              "      <td>아버지의 자살로 일순간 모래성처럼 무너져 버린 가족들. 정신을 놓은 어머니와 맹인 ...</td>\n",
              "      <td>카카오웹툰</td>\n",
              "    </tr>\n",
              "  </tbody>\n",
              "</table>\n",
              "</div>"
            ],
            "text/plain": [
              "    title   writer  ...                                              story platform\n",
              "294   갱스쿨  taibogi  ...  아버지의 자살로 일순간 모래성처럼 무너져 버린 가족들. 정신을 놓은 어머니와 맹인 ...   카카오페이지\n",
              "104   갱스쿨  taibogi  ...  아버지의 자살로 일순간 모래성처럼 무너져 버린 가족들. 정신을 놓은 어머니와 맹인 ...    카카오웹툰\n",
              "75    갱스쿨  taibogi  ...  아버지의 자살로 일순간 모래성처럼 무너져 버린 가족들. 정신을 놓은 어머니와 맹인 ...    카카오웹툰\n",
              "\n",
              "[3 rows x 7 columns]"
            ]
          },
          "metadata": {},
          "execution_count": 39
        }
      ]
    },
    {
      "cell_type": "code",
      "metadata": {
        "colab": {
          "base_uri": "https://localhost:8080/",
          "height": 80
        },
        "id": "62ONRdACyz-q",
        "outputId": "067034c0-bf2d-4393-f18c-0b1e977b5394"
      },
      "source": [
        "test[test.title=='연화']"
      ],
      "execution_count": 40,
      "outputs": [
        {
          "output_type": "execute_result",
          "data": {
            "text/html": [
              "<div>\n",
              "<style scoped>\n",
              "    .dataframe tbody tr th:only-of-type {\n",
              "        vertical-align: middle;\n",
              "    }\n",
              "\n",
              "    .dataframe tbody tr th {\n",
              "        vertical-align: top;\n",
              "    }\n",
              "\n",
              "    .dataframe thead th {\n",
              "        text-align: right;\n",
              "    }\n",
              "</style>\n",
              "<table border=\"1\" class=\"dataframe\">\n",
              "  <thead>\n",
              "    <tr style=\"text-align: right;\">\n",
              "      <th></th>\n",
              "      <th>title</th>\n",
              "      <th>writer</th>\n",
              "      <th>illustrator</th>\n",
              "      <th>day</th>\n",
              "      <th>genre</th>\n",
              "      <th>story</th>\n",
              "      <th>platform</th>\n",
              "    </tr>\n",
              "  </thead>\n",
              "  <tbody>\n",
              "    <tr>\n",
              "      <th>19</th>\n",
              "      <td>연화</td>\n",
              "      <td>스튜디오 열일</td>\n",
              "      <td>스튜디오 질풍</td>\n",
              "      <td>화</td>\n",
              "      <td>로맨스</td>\n",
              "      <td>고려시대를 배경으로 가상의 이야기를 결합한 퓨전 사극로맨스. 아버지의 복수를 위해 ...</td>\n",
              "      <td>레진코믹스</td>\n",
              "    </tr>\n",
              "  </tbody>\n",
              "</table>\n",
              "</div>"
            ],
            "text/plain": [
              "   title   writer  ...                                              story platform\n",
              "19    연화  스튜디오 열일  ...  고려시대를 배경으로 가상의 이야기를 결합한 퓨전 사극로맨스. 아버지의 복수를 위해 ...    레진코믹스\n",
              "\n",
              "[1 rows x 7 columns]"
            ]
          },
          "metadata": {},
          "execution_count": 40
        }
      ]
    },
    {
      "cell_type": "code",
      "metadata": {
        "id": "CPzepNOdoP-p"
      },
      "source": [
        "# test.to_csv('test.csv',encoding='utf-8',index=False)"
      ],
      "execution_count": 41,
      "outputs": []
    },
    {
      "cell_type": "code",
      "metadata": {
        "id": "q4lS1IdxiJkF"
      },
      "source": [
        "test.drop_duplicates(['title','writer','story'],inplace=True)"
      ],
      "execution_count": 42,
      "outputs": []
    },
    {
      "cell_type": "code",
      "metadata": {
        "id": "JhFgzrJfF_ms"
      },
      "source": [
        "cnt = test.title.value_counts()\n",
        "cnt = pd.DataFrame(cnt)\n",
        "cnt.reset_index(inplace=True)\n",
        "cnt.columns = ['title','cnt']\n",
        "cnt.head()\n",
        "test = pd.merge(test,cnt,on='title')"
      ],
      "execution_count": 43,
      "outputs": []
    },
    {
      "cell_type": "code",
      "metadata": {
        "colab": {
          "base_uri": "https://localhost:8080/"
        },
        "id": "oa1e2XluG2HF",
        "outputId": "6597ecc3-9769-4e81-8333-f36dcc57afec"
      },
      "source": [
        "test.genre.unique()"
      ],
      "execution_count": 44,
      "outputs": [
        {
          "output_type": "execute_result",
          "data": {
            "text/plain": [
              "array(['스토리, 액션', '스토리, 판타지', '스토리, 드라마', '스토리, 스포츠', '스토리, 스릴러',\n",
              "       '스토리, 로맨스', '에피소드, 드라마', '옴니버스, 판타지', '옴니버스, 일상', '에피소드, 개그',\n",
              "       '스토리, 개그', '에피소드, 일상', '옴니버스, 드라마', '스토리, 감성', '스토리, 시대극',\n",
              "       '액션무협만화', '학원/판타지', '에피소드, 액션', '에피소드, 판타지', '에피소드, 시대극',\n",
              "       '에피소드, 스릴러', '스토리, 일상', '옴니버스, 로맨스', '옴니버스, 스릴러', '옴니버스, 개그',\n",
              "       '에피소드, 로맨스', '옴니버스, 감성', '에피소드, 감성', '옴니버스, 액션', '드라마', '드라마만화',\n",
              "       '에피소드, 스포츠', '옴니버스, 스포츠', '공포/스릴러', '로판만화', '소년만화', '액션/무협',\n",
              "       '로맨스만화', '판타지 드라마', '로맨스 판타지', 'BL/GL만화', '로맨스', '코믹/일상', 'BL',\n",
              "       '코미가', '일상', '판타지', '백합', '개그', '미스터리', '학원', '액션'], dtype=object)"
            ]
          },
          "metadata": {},
          "execution_count": 44
        }
      ]
    },
    {
      "cell_type": "code",
      "metadata": {
        "id": "x5zudwEIjGCM"
      },
      "source": [
        "test.genre.replace({'로판만화':'로맨스, 판타지','로맨스만화':'로맨스',\n",
        "                        'BL':'BL, GL','BL/GL':'BL, GL','BL/GL만화':'BL, GL','로맨스 판타지':'로맨스, 판타지',\n",
        "                        '액션무협만화':'액션, 무협','액션/무협':'액션, 무협',\n",
        "                        '코믹/일상': '코믹, 일상','공포/스릴러':'공포,스릴러',\n",
        "                        '학원/판타지':'학원, 판타지'},inplace=True)"
      ],
      "execution_count": 45,
      "outputs": []
    },
    {
      "cell_type": "code",
      "metadata": {
        "colab": {
          "base_uri": "https://localhost:8080/"
        },
        "id": "WlQLlVQujS4J",
        "outputId": "9f5a2999-c500-4633-d0cc-d41f6f10c798"
      },
      "source": [
        "test.genre.unique()"
      ],
      "execution_count": 46,
      "outputs": [
        {
          "output_type": "execute_result",
          "data": {
            "text/plain": [
              "array(['스토리, 액션', '스토리, 판타지', '스토리, 드라마', '스토리, 스포츠', '스토리, 스릴러',\n",
              "       '스토리, 로맨스', '에피소드, 드라마', '옴니버스, 판타지', '옴니버스, 일상', '에피소드, 개그',\n",
              "       '스토리, 개그', '에피소드, 일상', '옴니버스, 드라마', '스토리, 감성', '스토리, 시대극',\n",
              "       '액션, 무협', '학원, 판타지', '에피소드, 액션', '에피소드, 판타지', '에피소드, 시대극',\n",
              "       '에피소드, 스릴러', '스토리, 일상', '옴니버스, 로맨스', '옴니버스, 스릴러', '옴니버스, 개그',\n",
              "       '에피소드, 로맨스', '옴니버스, 감성', '에피소드, 감성', '옴니버스, 액션', '드라마', '드라마만화',\n",
              "       '에피소드, 스포츠', '옴니버스, 스포츠', '공포,스릴러', '로맨스, 판타지', '소년만화', '로맨스',\n",
              "       '판타지 드라마', 'BL, GL', '코믹, 일상', '코미가', '일상', '판타지', '백합', '개그',\n",
              "       '미스터리', '학원', '액션'], dtype=object)"
            ]
          },
          "metadata": {},
          "execution_count": 46
        }
      ]
    },
    {
      "cell_type": "code",
      "metadata": {
        "colab": {
          "base_uri": "https://localhost:8080/",
          "height": 419
        },
        "id": "4wIH6Fi7qdwh",
        "outputId": "e0790318-3c6b-4749-92e6-1885a94448e1"
      },
      "source": [
        "test"
      ],
      "execution_count": 47,
      "outputs": [
        {
          "output_type": "execute_result",
          "data": {
            "text/html": [
              "<div>\n",
              "<style scoped>\n",
              "    .dataframe tbody tr th:only-of-type {\n",
              "        vertical-align: middle;\n",
              "    }\n",
              "\n",
              "    .dataframe tbody tr th {\n",
              "        vertical-align: top;\n",
              "    }\n",
              "\n",
              "    .dataframe thead th {\n",
              "        text-align: right;\n",
              "    }\n",
              "</style>\n",
              "<table border=\"1\" class=\"dataframe\">\n",
              "  <thead>\n",
              "    <tr style=\"text-align: right;\">\n",
              "      <th></th>\n",
              "      <th>title</th>\n",
              "      <th>writer</th>\n",
              "      <th>illustrator</th>\n",
              "      <th>day</th>\n",
              "      <th>genre</th>\n",
              "      <th>story</th>\n",
              "      <th>platform</th>\n",
              "      <th>cnt</th>\n",
              "    </tr>\n",
              "  </thead>\n",
              "  <tbody>\n",
              "    <tr>\n",
              "      <th>0</th>\n",
              "      <td>참교육</td>\n",
              "      <td>채용택</td>\n",
              "      <td>한가람</td>\n",
              "      <td>월</td>\n",
              "      <td>스토리, 액션</td>\n",
              "      <td>무너진 교권을 지키기 위해 교권보호국 소속 나화진의 참교육이 시작된다! 부활남 채용...</td>\n",
              "      <td>네이버 웹툰</td>\n",
              "      <td>1</td>\n",
              "    </tr>\n",
              "    <tr>\n",
              "      <th>1</th>\n",
              "      <td>신의 탑</td>\n",
              "      <td>SIU</td>\n",
              "      <td>SIU</td>\n",
              "      <td>월</td>\n",
              "      <td>스토리, 판타지</td>\n",
              "      <td>자신의 모든 것이었던 소녀를 쫓아 탑에 들어온 소년 그리고 그런 소년을 시험하는 탑</td>\n",
              "      <td>네이버 웹툰</td>\n",
              "      <td>1</td>\n",
              "    </tr>\n",
              "    <tr>\n",
              "      <th>2</th>\n",
              "      <td>뷰티풀 군바리</td>\n",
              "      <td>설이</td>\n",
              "      <td>윤성원</td>\n",
              "      <td>월</td>\n",
              "      <td>스토리, 드라마</td>\n",
              "      <td>여자도 군대에 간다면? 본격 여자도 군대 가는 만화!</td>\n",
              "      <td>네이버 웹툰</td>\n",
              "      <td>1</td>\n",
              "    </tr>\n",
              "    <tr>\n",
              "      <th>3</th>\n",
              "      <td>윈드브레이커</td>\n",
              "      <td>조용석</td>\n",
              "      <td>조용석</td>\n",
              "      <td>월</td>\n",
              "      <td>스토리, 스포츠</td>\n",
              "      <td>혼자서 자전거를 즐겨타던 모범생 조자현. 원치 않게 자전거 크루의 일에 자꾸 휘말리...</td>\n",
              "      <td>네이버 웹툰</td>\n",
              "      <td>1</td>\n",
              "    </tr>\n",
              "    <tr>\n",
              "      <th>4</th>\n",
              "      <td>팔이피플</td>\n",
              "      <td>매미</td>\n",
              "      <td>희세</td>\n",
              "      <td>월</td>\n",
              "      <td>스토리, 드라마</td>\n",
              "      <td>마스크걸 , 위대한 방옥숙 매미 희세 작가의 신작! 에서 육아용품 파는 평범한 유부...</td>\n",
              "      <td>네이버 웹툰</td>\n",
              "      <td>1</td>\n",
              "    </tr>\n",
              "    <tr>\n",
              "      <th>...</th>\n",
              "      <td>...</td>\n",
              "      <td>...</td>\n",
              "      <td>...</td>\n",
              "      <td>...</td>\n",
              "      <td>...</td>\n",
              "      <td>...</td>\n",
              "      <td>...</td>\n",
              "      <td>...</td>\n",
              "    </tr>\n",
              "    <tr>\n",
              "      <th>4251</th>\n",
              "      <td>포젯션</td>\n",
              "      <td>Happykwak</td>\n",
              "      <td>Happykwak</td>\n",
              "      <td>열흘</td>\n",
              "      <td>판타지</td>\n",
              "      <td>인간계 저 아래의 지하왕국 저저저 에서는 17대 대왕의 갑작스런 하야 선언으로 새로...</td>\n",
              "      <td>레진코믹스</td>\n",
              "      <td>1</td>\n",
              "    </tr>\n",
              "    <tr>\n",
              "      <th>4252</th>\n",
              "      <td>비 마이 게스트[개정판]</td>\n",
              "      <td>영모</td>\n",
              "      <td>티오비</td>\n",
              "      <td>열흘</td>\n",
              "      <td>로맨스</td>\n",
              "      <td>해당 작품은 비 마이 게스트 성인 버전의 일부 장면을 수정한 개정판입니다. 뜨거운 ...</td>\n",
              "      <td>레진코믹스</td>\n",
              "      <td>1</td>\n",
              "    </tr>\n",
              "    <tr>\n",
              "      <th>4253</th>\n",
              "      <td>악녀는 모래시계를 되돌린다</td>\n",
              "      <td>땔깜</td>\n",
              "      <td>땔깜</td>\n",
              "      <td>토</td>\n",
              "      <td>로맨스, 판타지</td>\n",
              "      <td>매춘부였던 어머니가 백작과 결혼하며 벼락출세하게 된 아리아. 사치에 물든 삶을 살던...</td>\n",
              "      <td>카카오웹툰</td>\n",
              "      <td>1</td>\n",
              "    </tr>\n",
              "    <tr>\n",
              "      <th>4254</th>\n",
              "      <td>김 비서가 왜 그럴까</td>\n",
              "      <td>김명미</td>\n",
              "      <td>김명미</td>\n",
              "      <td>완결</td>\n",
              "      <td>로맨스</td>\n",
              "      <td>천상천하유아독존, 신이 빚어낸 마스터피스, 이 세상 내 맘대로 안 되는 건 없는 유...</td>\n",
              "      <td>카카오웹툰</td>\n",
              "      <td>1</td>\n",
              "    </tr>\n",
              "    <tr>\n",
              "      <th>4255</th>\n",
              "      <td>더스크 하울러</td>\n",
              "      <td>크루</td>\n",
              "      <td>크루</td>\n",
              "      <td>완결</td>\n",
              "      <td>학원, 판타지</td>\n",
              "      <td>소심한 성격을 극복하기 위해 밸런스 막장으로 소문난 게임 트리키아 에 뛰어들었다! ...</td>\n",
              "      <td>카카오웹툰</td>\n",
              "      <td>1</td>\n",
              "    </tr>\n",
              "  </tbody>\n",
              "</table>\n",
              "<p>4256 rows × 8 columns</p>\n",
              "</div>"
            ],
            "text/plain": [
              "               title     writer  ... platform cnt\n",
              "0                참교육        채용택  ...   네이버 웹툰   1\n",
              "1               신의 탑        SIU  ...   네이버 웹툰   1\n",
              "2            뷰티풀 군바리         설이  ...   네이버 웹툰   1\n",
              "3             윈드브레이커        조용석  ...   네이버 웹툰   1\n",
              "4               팔이피플         매미  ...   네이버 웹툰   1\n",
              "...              ...        ...  ...      ...  ..\n",
              "4251             포젯션  Happykwak  ...    레진코믹스   1\n",
              "4252   비 마이 게스트[개정판]         영모  ...    레진코믹스   1\n",
              "4253  악녀는 모래시계를 되돌린다         땔깜  ...    카카오웹툰   1\n",
              "4254     김 비서가 왜 그럴까        김명미  ...    카카오웹툰   1\n",
              "4255         더스크 하울러         크루  ...    카카오웹툰   1\n",
              "\n",
              "[4256 rows x 8 columns]"
            ]
          },
          "metadata": {},
          "execution_count": 47
        }
      ]
    },
    {
      "cell_type": "code",
      "metadata": {
        "id": "VwII_F7r7UkM"
      },
      "source": [
        "test.to_csv(path+'dataset.csv',encoding='utf8',index=False)"
      ],
      "execution_count": 48,
      "outputs": []
    },
    {
      "cell_type": "code",
      "metadata": {
        "colab": {
          "base_uri": "https://localhost:8080/",
          "height": 419
        },
        "id": "NIpmwWVRmXMz",
        "outputId": "77cc0934-53e7-4cdb-a743-aa7f0f61e20d"
      },
      "source": [
        "test[test.cnt >1]"
      ],
      "execution_count": 49,
      "outputs": [
        {
          "output_type": "execute_result",
          "data": {
            "text/html": [
              "<div>\n",
              "<style scoped>\n",
              "    .dataframe tbody tr th:only-of-type {\n",
              "        vertical-align: middle;\n",
              "    }\n",
              "\n",
              "    .dataframe tbody tr th {\n",
              "        vertical-align: top;\n",
              "    }\n",
              "\n",
              "    .dataframe thead th {\n",
              "        text-align: right;\n",
              "    }\n",
              "</style>\n",
              "<table border=\"1\" class=\"dataframe\">\n",
              "  <thead>\n",
              "    <tr style=\"text-align: right;\">\n",
              "      <th></th>\n",
              "      <th>title</th>\n",
              "      <th>writer</th>\n",
              "      <th>illustrator</th>\n",
              "      <th>day</th>\n",
              "      <th>genre</th>\n",
              "      <th>story</th>\n",
              "      <th>platform</th>\n",
              "      <th>cnt</th>\n",
              "    </tr>\n",
              "  </thead>\n",
              "  <tbody>\n",
              "    <tr>\n",
              "      <th>62</th>\n",
              "      <td>트리거</td>\n",
              "      <td>고경빈</td>\n",
              "      <td>고경빈</td>\n",
              "      <td>월</td>\n",
              "      <td>스토리, 판타지</td>\n",
              "      <td>지구에 소행성이 떨어진 후, 지구는 인간을 먹이로 하는 괴생명체 아니스 에 의해 절...</td>\n",
              "      <td>네이버 웹툰</td>\n",
              "      <td>3</td>\n",
              "    </tr>\n",
              "    <tr>\n",
              "      <th>63</th>\n",
              "      <td>트리거</td>\n",
              "      <td>불만있냥</td>\n",
              "      <td>불만있냥</td>\n",
              "      <td>화</td>\n",
              "      <td>액션, 무협</td>\n",
              "      <td>불량하기로 유명한 대명 고등학교에 입학한 평범한 고등학생 남지일. 입학 첫날부터 일...</td>\n",
              "      <td>카카오페이지</td>\n",
              "      <td>3</td>\n",
              "    </tr>\n",
              "    <tr>\n",
              "      <th>64</th>\n",
              "      <td>트리거</td>\n",
              "      <td>불만있냥</td>\n",
              "      <td>불만있냥</td>\n",
              "      <td>화</td>\n",
              "      <td>학원, 판타지</td>\n",
              "      <td>불량하기로 유명한 대명 고등학교에 입학한 평범한 고등학생 남지일. 입학 첫날부터 일...</td>\n",
              "      <td>카카오웹툰</td>\n",
              "      <td>3</td>\n",
              "    </tr>\n",
              "    <tr>\n",
              "      <th>280</th>\n",
              "      <td>성경의 역사</td>\n",
              "      <td>최경민</td>\n",
              "      <td>영모</td>\n",
              "      <td>금</td>\n",
              "      <td>스토리, 드라마</td>\n",
              "      <td>모두에게 사랑 받기에 모두가 증오하는 그녀, 성경 . 원치않는 애정과 증오속에 성경...</td>\n",
              "      <td>네이버 웹툰</td>\n",
              "      <td>2</td>\n",
              "    </tr>\n",
              "    <tr>\n",
              "      <th>281</th>\n",
              "      <td>성경의 역사</td>\n",
              "      <td>최경민</td>\n",
              "      <td>영모</td>\n",
              "      <td>완결</td>\n",
              "      <td>스토리, 드라마</td>\n",
              "      <td>모두에게 사랑 받기에 모두가 증오하는 그녀, 성경 .원치않는 애정과 증오속에 성경의...</td>\n",
              "      <td>네이버 웹툰</td>\n",
              "      <td>2</td>\n",
              "    </tr>\n",
              "    <tr>\n",
              "      <th>...</th>\n",
              "      <td>...</td>\n",
              "      <td>...</td>\n",
              "      <td>...</td>\n",
              "      <td>...</td>\n",
              "      <td>...</td>\n",
              "      <td>...</td>\n",
              "      <td>...</td>\n",
              "      <td>...</td>\n",
              "    </tr>\n",
              "    <tr>\n",
              "      <th>3299</th>\n",
              "      <td>머리 위로 부는 바람</td>\n",
              "      <td>이이영</td>\n",
              "      <td>이이영</td>\n",
              "      <td>완결</td>\n",
              "      <td>로맨스</td>\n",
              "      <td>스무살 봄이 오기도 전, 그리고 2년 후 너를 다시 만났을 때</td>\n",
              "      <td>카카오웹툰</td>\n",
              "      <td>2</td>\n",
              "    </tr>\n",
              "    <tr>\n",
              "      <th>3314</th>\n",
              "      <td>해치지않아</td>\n",
              "      <td>Hun</td>\n",
              "      <td>Hun</td>\n",
              "      <td>완결</td>\n",
              "      <td>드라마만화</td>\n",
              "      <td>경영난에 폐장하는 동물원을 포기 할 수 없는 주인공 철수는 동물원을 살리기 위해 동...</td>\n",
              "      <td>카카오페이지</td>\n",
              "      <td>2</td>\n",
              "    </tr>\n",
              "    <tr>\n",
              "      <th>3315</th>\n",
              "      <td>해치지않아</td>\n",
              "      <td>Hun</td>\n",
              "      <td>Hun</td>\n",
              "      <td>완결</td>\n",
              "      <td>드라마</td>\n",
              "      <td>동물원을 살리기 위한, 동물 없는 미친 동물원 개장!</td>\n",
              "      <td>카카오웹툰</td>\n",
              "      <td>2</td>\n",
              "    </tr>\n",
              "    <tr>\n",
              "      <th>3366</th>\n",
              "      <td>당신은 나의 신</td>\n",
              "      <td>재해</td>\n",
              "      <td>재해</td>\n",
              "      <td>완결</td>\n",
              "      <td>로맨스</td>\n",
              "      <td>어느 날 신이 나타나 매일 하나씩 소원을 이루어준다면? 소박하게 로또 일등을 꿈꾸는...</td>\n",
              "      <td>카카오페이지</td>\n",
              "      <td>2</td>\n",
              "    </tr>\n",
              "    <tr>\n",
              "      <th>3367</th>\n",
              "      <td>당신은 나의 신</td>\n",
              "      <td>재해</td>\n",
              "      <td>재해</td>\n",
              "      <td>목</td>\n",
              "      <td>드라마</td>\n",
              "      <td>소박하게 로또 일등을 꿈꾸는 게임회사 직원 마리아의 앞에 어느 날 바라는 대로 소원...</td>\n",
              "      <td>레진코믹스</td>\n",
              "      <td>2</td>\n",
              "    </tr>\n",
              "  </tbody>\n",
              "</table>\n",
              "<p>477 rows × 8 columns</p>\n",
              "</div>"
            ],
            "text/plain": [
              "            title writer  ... platform cnt\n",
              "62            트리거    고경빈  ...   네이버 웹툰   3\n",
              "63            트리거   불만있냥  ...   카카오페이지   3\n",
              "64            트리거   불만있냥  ...    카카오웹툰   3\n",
              "280        성경의 역사    최경민  ...   네이버 웹툰   2\n",
              "281        성경의 역사    최경민  ...   네이버 웹툰   2\n",
              "...           ...    ...  ...      ...  ..\n",
              "3299  머리 위로 부는 바람    이이영  ...    카카오웹툰   2\n",
              "3314        해치지않아    Hun  ...   카카오페이지   2\n",
              "3315        해치지않아    Hun  ...    카카오웹툰   2\n",
              "3366     당신은 나의 신     재해  ...   카카오페이지   2\n",
              "3367     당신은 나의 신     재해  ...    레진코믹스   2\n",
              "\n",
              "[477 rows x 8 columns]"
            ]
          },
          "metadata": {},
          "execution_count": 49
        }
      ]
    },
    {
      "cell_type": "code",
      "metadata": {
        "colab": {
          "base_uri": "https://localhost:8080/",
          "height": 111
        },
        "id": "isOyOe5UtorZ",
        "outputId": "39188e95-b4dc-4234-aa34-f01aa8c7ebd5"
      },
      "source": [
        "test[test.title == '성경의 역사']"
      ],
      "execution_count": 52,
      "outputs": [
        {
          "output_type": "execute_result",
          "data": {
            "text/html": [
              "<div>\n",
              "<style scoped>\n",
              "    .dataframe tbody tr th:only-of-type {\n",
              "        vertical-align: middle;\n",
              "    }\n",
              "\n",
              "    .dataframe tbody tr th {\n",
              "        vertical-align: top;\n",
              "    }\n",
              "\n",
              "    .dataframe thead th {\n",
              "        text-align: right;\n",
              "    }\n",
              "</style>\n",
              "<table border=\"1\" class=\"dataframe\">\n",
              "  <thead>\n",
              "    <tr style=\"text-align: right;\">\n",
              "      <th></th>\n",
              "      <th>title</th>\n",
              "      <th>writer</th>\n",
              "      <th>illustrator</th>\n",
              "      <th>day</th>\n",
              "      <th>genre</th>\n",
              "      <th>story</th>\n",
              "      <th>platform</th>\n",
              "      <th>cnt</th>\n",
              "    </tr>\n",
              "  </thead>\n",
              "  <tbody>\n",
              "    <tr>\n",
              "      <th>280</th>\n",
              "      <td>성경의 역사</td>\n",
              "      <td>최경민</td>\n",
              "      <td>영모</td>\n",
              "      <td>금</td>\n",
              "      <td>스토리, 드라마</td>\n",
              "      <td>모두에게 사랑 받기에 모두가 증오하는 그녀, 성경 . 원치않는 애정과 증오속에 성경...</td>\n",
              "      <td>네이버 웹툰</td>\n",
              "      <td>2</td>\n",
              "    </tr>\n",
              "    <tr>\n",
              "      <th>281</th>\n",
              "      <td>성경의 역사</td>\n",
              "      <td>최경민</td>\n",
              "      <td>영모</td>\n",
              "      <td>완결</td>\n",
              "      <td>스토리, 드라마</td>\n",
              "      <td>모두에게 사랑 받기에 모두가 증오하는 그녀, 성경 .원치않는 애정과 증오속에 성경의...</td>\n",
              "      <td>네이버 웹툰</td>\n",
              "      <td>2</td>\n",
              "    </tr>\n",
              "  </tbody>\n",
              "</table>\n",
              "</div>"
            ],
            "text/plain": [
              "      title writer  ... platform cnt\n",
              "280  성경의 역사    최경민  ...   네이버 웹툰   2\n",
              "281  성경의 역사    최경민  ...   네이버 웹툰   2\n",
              "\n",
              "[2 rows x 8 columns]"
            ]
          },
          "metadata": {},
          "execution_count": 52
        }
      ]
    },
    {
      "cell_type": "code",
      "metadata": {
        "colab": {
          "base_uri": "https://localhost:8080/",
          "height": 419
        },
        "id": "lYybIS0LuWEC",
        "outputId": "d04bcd98-e9d6-4dda-97c4-c568c3894ec5"
      },
      "source": [
        "test.drop_duplicates(['title','writer'])"
      ],
      "execution_count": 53,
      "outputs": [
        {
          "output_type": "execute_result",
          "data": {
            "text/html": [
              "<div>\n",
              "<style scoped>\n",
              "    .dataframe tbody tr th:only-of-type {\n",
              "        vertical-align: middle;\n",
              "    }\n",
              "\n",
              "    .dataframe tbody tr th {\n",
              "        vertical-align: top;\n",
              "    }\n",
              "\n",
              "    .dataframe thead th {\n",
              "        text-align: right;\n",
              "    }\n",
              "</style>\n",
              "<table border=\"1\" class=\"dataframe\">\n",
              "  <thead>\n",
              "    <tr style=\"text-align: right;\">\n",
              "      <th></th>\n",
              "      <th>title</th>\n",
              "      <th>writer</th>\n",
              "      <th>illustrator</th>\n",
              "      <th>day</th>\n",
              "      <th>genre</th>\n",
              "      <th>story</th>\n",
              "      <th>platform</th>\n",
              "      <th>cnt</th>\n",
              "    </tr>\n",
              "  </thead>\n",
              "  <tbody>\n",
              "    <tr>\n",
              "      <th>0</th>\n",
              "      <td>참교육</td>\n",
              "      <td>채용택</td>\n",
              "      <td>한가람</td>\n",
              "      <td>월</td>\n",
              "      <td>스토리, 액션</td>\n",
              "      <td>무너진 교권을 지키기 위해 교권보호국 소속 나화진의 참교육이 시작된다! 부활남 채용...</td>\n",
              "      <td>네이버 웹툰</td>\n",
              "      <td>1</td>\n",
              "    </tr>\n",
              "    <tr>\n",
              "      <th>1</th>\n",
              "      <td>신의 탑</td>\n",
              "      <td>SIU</td>\n",
              "      <td>SIU</td>\n",
              "      <td>월</td>\n",
              "      <td>스토리, 판타지</td>\n",
              "      <td>자신의 모든 것이었던 소녀를 쫓아 탑에 들어온 소년 그리고 그런 소년을 시험하는 탑</td>\n",
              "      <td>네이버 웹툰</td>\n",
              "      <td>1</td>\n",
              "    </tr>\n",
              "    <tr>\n",
              "      <th>2</th>\n",
              "      <td>뷰티풀 군바리</td>\n",
              "      <td>설이</td>\n",
              "      <td>윤성원</td>\n",
              "      <td>월</td>\n",
              "      <td>스토리, 드라마</td>\n",
              "      <td>여자도 군대에 간다면? 본격 여자도 군대 가는 만화!</td>\n",
              "      <td>네이버 웹툰</td>\n",
              "      <td>1</td>\n",
              "    </tr>\n",
              "    <tr>\n",
              "      <th>3</th>\n",
              "      <td>윈드브레이커</td>\n",
              "      <td>조용석</td>\n",
              "      <td>조용석</td>\n",
              "      <td>월</td>\n",
              "      <td>스토리, 스포츠</td>\n",
              "      <td>혼자서 자전거를 즐겨타던 모범생 조자현. 원치 않게 자전거 크루의 일에 자꾸 휘말리...</td>\n",
              "      <td>네이버 웹툰</td>\n",
              "      <td>1</td>\n",
              "    </tr>\n",
              "    <tr>\n",
              "      <th>4</th>\n",
              "      <td>팔이피플</td>\n",
              "      <td>매미</td>\n",
              "      <td>희세</td>\n",
              "      <td>월</td>\n",
              "      <td>스토리, 드라마</td>\n",
              "      <td>마스크걸 , 위대한 방옥숙 매미 희세 작가의 신작! 에서 육아용품 파는 평범한 유부...</td>\n",
              "      <td>네이버 웹툰</td>\n",
              "      <td>1</td>\n",
              "    </tr>\n",
              "    <tr>\n",
              "      <th>...</th>\n",
              "      <td>...</td>\n",
              "      <td>...</td>\n",
              "      <td>...</td>\n",
              "      <td>...</td>\n",
              "      <td>...</td>\n",
              "      <td>...</td>\n",
              "      <td>...</td>\n",
              "      <td>...</td>\n",
              "    </tr>\n",
              "    <tr>\n",
              "      <th>4251</th>\n",
              "      <td>포젯션</td>\n",
              "      <td>Happykwak</td>\n",
              "      <td>Happykwak</td>\n",
              "      <td>열흘</td>\n",
              "      <td>판타지</td>\n",
              "      <td>인간계 저 아래의 지하왕국 저저저 에서는 17대 대왕의 갑작스런 하야 선언으로 새로...</td>\n",
              "      <td>레진코믹스</td>\n",
              "      <td>1</td>\n",
              "    </tr>\n",
              "    <tr>\n",
              "      <th>4252</th>\n",
              "      <td>비 마이 게스트[개정판]</td>\n",
              "      <td>영모</td>\n",
              "      <td>티오비</td>\n",
              "      <td>열흘</td>\n",
              "      <td>로맨스</td>\n",
              "      <td>해당 작품은 비 마이 게스트 성인 버전의 일부 장면을 수정한 개정판입니다. 뜨거운 ...</td>\n",
              "      <td>레진코믹스</td>\n",
              "      <td>1</td>\n",
              "    </tr>\n",
              "    <tr>\n",
              "      <th>4253</th>\n",
              "      <td>악녀는 모래시계를 되돌린다</td>\n",
              "      <td>땔깜</td>\n",
              "      <td>땔깜</td>\n",
              "      <td>토</td>\n",
              "      <td>로맨스, 판타지</td>\n",
              "      <td>매춘부였던 어머니가 백작과 결혼하며 벼락출세하게 된 아리아. 사치에 물든 삶을 살던...</td>\n",
              "      <td>카카오웹툰</td>\n",
              "      <td>1</td>\n",
              "    </tr>\n",
              "    <tr>\n",
              "      <th>4254</th>\n",
              "      <td>김 비서가 왜 그럴까</td>\n",
              "      <td>김명미</td>\n",
              "      <td>김명미</td>\n",
              "      <td>완결</td>\n",
              "      <td>로맨스</td>\n",
              "      <td>천상천하유아독존, 신이 빚어낸 마스터피스, 이 세상 내 맘대로 안 되는 건 없는 유...</td>\n",
              "      <td>카카오웹툰</td>\n",
              "      <td>1</td>\n",
              "    </tr>\n",
              "    <tr>\n",
              "      <th>4255</th>\n",
              "      <td>더스크 하울러</td>\n",
              "      <td>크루</td>\n",
              "      <td>크루</td>\n",
              "      <td>완결</td>\n",
              "      <td>학원, 판타지</td>\n",
              "      <td>소심한 성격을 극복하기 위해 밸런스 막장으로 소문난 게임 트리키아 에 뛰어들었다! ...</td>\n",
              "      <td>카카오웹툰</td>\n",
              "      <td>1</td>\n",
              "    </tr>\n",
              "  </tbody>\n",
              "</table>\n",
              "<p>4062 rows × 8 columns</p>\n",
              "</div>"
            ],
            "text/plain": [
              "               title     writer  ... platform cnt\n",
              "0                참교육        채용택  ...   네이버 웹툰   1\n",
              "1               신의 탑        SIU  ...   네이버 웹툰   1\n",
              "2            뷰티풀 군바리         설이  ...   네이버 웹툰   1\n",
              "3             윈드브레이커        조용석  ...   네이버 웹툰   1\n",
              "4               팔이피플         매미  ...   네이버 웹툰   1\n",
              "...              ...        ...  ...      ...  ..\n",
              "4251             포젯션  Happykwak  ...    레진코믹스   1\n",
              "4252   비 마이 게스트[개정판]         영모  ...    레진코믹스   1\n",
              "4253  악녀는 모래시계를 되돌린다         땔깜  ...    카카오웹툰   1\n",
              "4254     김 비서가 왜 그럴까        김명미  ...    카카오웹툰   1\n",
              "4255         더스크 하울러         크루  ...    카카오웹툰   1\n",
              "\n",
              "[4062 rows x 8 columns]"
            ]
          },
          "metadata": {},
          "execution_count": 53
        }
      ]
    },
    {
      "cell_type": "markdown",
      "metadata": {
        "id": "DfUCtMdw6uH6"
      },
      "source": [
        "### 영성님 작업"
      ]
    },
    {
      "cell_type": "code",
      "metadata": {
        "id": "va4hwYO3zMjk"
      },
      "source": [
        "import pandas as pd\n",
        "path = '/content/drive/MyDrive/Colab Notebooks/final/'\n",
        "test2 = pd.read_csv(path+'webtoon최종.csv',encoding='cp949')"
      ],
      "execution_count": 1,
      "outputs": []
    },
    {
      "cell_type": "code",
      "metadata": {
        "colab": {
          "base_uri": "https://localhost:8080/",
          "height": 419
        },
        "id": "Ccz8ijEWzmuZ",
        "outputId": "63e11d0a-a72e-4492-812c-4591487dd0c1"
      },
      "source": [
        "test2"
      ],
      "execution_count": 2,
      "outputs": [
        {
          "output_type": "execute_result",
          "data": {
            "text/html": [
              "<div>\n",
              "<style scoped>\n",
              "    .dataframe tbody tr th:only-of-type {\n",
              "        vertical-align: middle;\n",
              "    }\n",
              "\n",
              "    .dataframe tbody tr th {\n",
              "        vertical-align: top;\n",
              "    }\n",
              "\n",
              "    .dataframe thead th {\n",
              "        text-align: right;\n",
              "    }\n",
              "</style>\n",
              "<table border=\"1\" class=\"dataframe\">\n",
              "  <thead>\n",
              "    <tr style=\"text-align: right;\">\n",
              "      <th></th>\n",
              "      <th>Unnamed: 0</th>\n",
              "      <th>title</th>\n",
              "      <th>day</th>\n",
              "      <th>writer</th>\n",
              "      <th>illustrator</th>\n",
              "      <th>story</th>\n",
              "      <th>platform</th>\n",
              "      <th>genre</th>\n",
              "    </tr>\n",
              "  </thead>\n",
              "  <tbody>\n",
              "    <tr>\n",
              "      <th>0</th>\n",
              "      <td>0</td>\n",
              "      <td>참교육</td>\n",
              "      <td>월</td>\n",
              "      <td>채용택</td>\n",
              "      <td>한가람</td>\n",
              "      <td>무너진 교권을 지키기 위해 교권보호국 소속 나화진의 참교육이 시작된다! 부활남 채용...</td>\n",
              "      <td>네이버 웹툰</td>\n",
              "      <td>스토리, 액션</td>\n",
              "    </tr>\n",
              "    <tr>\n",
              "      <th>1</th>\n",
              "      <td>1</td>\n",
              "      <td>신의 탑</td>\n",
              "      <td>월</td>\n",
              "      <td>SIU</td>\n",
              "      <td>SIU</td>\n",
              "      <td>자신의 모든 것이었던 소녀를 쫓아 탑에 들어온 소년 그리고 그런 소년을 시험하는 탑</td>\n",
              "      <td>네이버 웹툰</td>\n",
              "      <td>스토리, 판타지</td>\n",
              "    </tr>\n",
              "    <tr>\n",
              "      <th>2</th>\n",
              "      <td>2</td>\n",
              "      <td>뷰티풀 군바리</td>\n",
              "      <td>월</td>\n",
              "      <td>설이</td>\n",
              "      <td>윤성원</td>\n",
              "      <td>여자도 군대에 간다면? 본격 여자도 군대 가는 만화!</td>\n",
              "      <td>네이버 웹툰</td>\n",
              "      <td>스토리, 드라마</td>\n",
              "    </tr>\n",
              "    <tr>\n",
              "      <th>3</th>\n",
              "      <td>3</td>\n",
              "      <td>윈드브레이커</td>\n",
              "      <td>월</td>\n",
              "      <td>조용석</td>\n",
              "      <td>조용석</td>\n",
              "      <td>혼자서 자전거를 즐겨타던 모범생 조자현. 원치 않게 자전거 크루의 일에 자꾸 휘말리...</td>\n",
              "      <td>네이버 웹툰</td>\n",
              "      <td>스토리, 스포츠</td>\n",
              "    </tr>\n",
              "    <tr>\n",
              "      <th>4</th>\n",
              "      <td>4</td>\n",
              "      <td>팔이피플</td>\n",
              "      <td>월</td>\n",
              "      <td>매미</td>\n",
              "      <td>희세</td>\n",
              "      <td>마스크걸 , 위대한 방옥숙 매미 희세 작가의 신작! 에서 육아용품 파는 평범한 유부...</td>\n",
              "      <td>네이버 웹툰</td>\n",
              "      <td>스토리, 드라마</td>\n",
              "    </tr>\n",
              "    <tr>\n",
              "      <th>...</th>\n",
              "      <td>...</td>\n",
              "      <td>...</td>\n",
              "      <td>...</td>\n",
              "      <td>...</td>\n",
              "      <td>...</td>\n",
              "      <td>...</td>\n",
              "      <td>...</td>\n",
              "      <td>...</td>\n",
              "    </tr>\n",
              "    <tr>\n",
              "      <th>4019</th>\n",
              "      <td>4303</td>\n",
              "      <td>도깨비도 수풀이 있어야 모인다[개정판]</td>\n",
              "      <td>열흘</td>\n",
              "      <td>신</td>\n",
              "      <td>신</td>\n",
              "      <td>해당 작품은 도깨비도 수풀이 있어야 모인다 성인 버전의 일부 장면을 수정한 개정판입...</td>\n",
              "      <td>레진코믹스</td>\n",
              "      <td>BL</td>\n",
              "    </tr>\n",
              "    <tr>\n",
              "      <th>4020</th>\n",
              "      <td>4304</td>\n",
              "      <td>던전 속 사정[개정판]</td>\n",
              "      <td>열흘</td>\n",
              "      <td>레바</td>\n",
              "      <td>레바</td>\n",
              "      <td>해당 작품은 던전 속 사정 성인 버전의 일부 장면을 수정한 개정판입니다. 마물을 물...</td>\n",
              "      <td>레진코믹스</td>\n",
              "      <td>판타지</td>\n",
              "    </tr>\n",
              "    <tr>\n",
              "      <th>4021</th>\n",
              "      <td>4305</td>\n",
              "      <td>튀어나왔어요, BL만화!</td>\n",
              "      <td>열흘</td>\n",
              "      <td>마롭</td>\n",
              "      <td>믹</td>\n",
              "      <td>슬럼프로 인해 휴재에 들어간 작가 육번 필명 앞에 그의 만화 네버엔딩 튜토리얼 의 ...</td>\n",
              "      <td>레진코믹스</td>\n",
              "      <td>드라마</td>\n",
              "    </tr>\n",
              "    <tr>\n",
              "      <th>4022</th>\n",
              "      <td>4306</td>\n",
              "      <td>포젯션</td>\n",
              "      <td>열흘</td>\n",
              "      <td>Happykwak</td>\n",
              "      <td>Happykwak</td>\n",
              "      <td>인간계 저 아래의 지하왕국 저저저 에서는 17대 대왕의 갑작스런 하야 선언으로 새로...</td>\n",
              "      <td>레진코믹스</td>\n",
              "      <td>판타지</td>\n",
              "    </tr>\n",
              "    <tr>\n",
              "      <th>4023</th>\n",
              "      <td>4307</td>\n",
              "      <td>비 마이 게스트[개정판]</td>\n",
              "      <td>열흘</td>\n",
              "      <td>영모</td>\n",
              "      <td>티오비</td>\n",
              "      <td>해당 작품은 비 마이 게스트 성인 버전의 일부 장면을 수정한 개정판입니다. 뜨거운 ...</td>\n",
              "      <td>레진코믹스</td>\n",
              "      <td>로맨스</td>\n",
              "    </tr>\n",
              "  </tbody>\n",
              "</table>\n",
              "<p>4024 rows × 8 columns</p>\n",
              "</div>"
            ],
            "text/plain": [
              "      Unnamed: 0                  title  ... platform     genre\n",
              "0              0                    참교육  ...   네이버 웹툰   스토리, 액션\n",
              "1              1                   신의 탑  ...   네이버 웹툰  스토리, 판타지\n",
              "2              2                뷰티풀 군바리  ...   네이버 웹툰  스토리, 드라마\n",
              "3              3                 윈드브레이커  ...   네이버 웹툰  스토리, 스포츠\n",
              "4              4                   팔이피플  ...   네이버 웹툰  스토리, 드라마\n",
              "...          ...                    ...  ...      ...       ...\n",
              "4019        4303  도깨비도 수풀이 있어야 모인다[개정판]  ...    레진코믹스        BL\n",
              "4020        4304           던전 속 사정[개정판]  ...    레진코믹스       판타지\n",
              "4021        4305          튀어나왔어요, BL만화!  ...    레진코믹스       드라마\n",
              "4022        4306                    포젯션  ...    레진코믹스       판타지\n",
              "4023        4307          비 마이 게스트[개정판]  ...    레진코믹스       로맨스\n",
              "\n",
              "[4024 rows x 8 columns]"
            ]
          },
          "metadata": {},
          "execution_count": 2
        }
      ]
    },
    {
      "cell_type": "code",
      "metadata": {
        "colab": {
          "base_uri": "https://localhost:8080/",
          "height": 111
        },
        "id": "Auo8et4V0Ncb",
        "outputId": "d4d3277b-9013-49bf-dbbf-f20314114b4d"
      },
      "source": [
        "test2[test2.title == '트리거']"
      ],
      "execution_count": 3,
      "outputs": [
        {
          "output_type": "execute_result",
          "data": {
            "text/html": [
              "<div>\n",
              "<style scoped>\n",
              "    .dataframe tbody tr th:only-of-type {\n",
              "        vertical-align: middle;\n",
              "    }\n",
              "\n",
              "    .dataframe tbody tr th {\n",
              "        vertical-align: top;\n",
              "    }\n",
              "\n",
              "    .dataframe thead th {\n",
              "        text-align: right;\n",
              "    }\n",
              "</style>\n",
              "<table border=\"1\" class=\"dataframe\">\n",
              "  <thead>\n",
              "    <tr style=\"text-align: right;\">\n",
              "      <th></th>\n",
              "      <th>Unnamed: 0</th>\n",
              "      <th>title</th>\n",
              "      <th>day</th>\n",
              "      <th>writer</th>\n",
              "      <th>illustrator</th>\n",
              "      <th>story</th>\n",
              "      <th>platform</th>\n",
              "      <th>genre</th>\n",
              "    </tr>\n",
              "  </thead>\n",
              "  <tbody>\n",
              "    <tr>\n",
              "      <th>62</th>\n",
              "      <td>62</td>\n",
              "      <td>트리거</td>\n",
              "      <td>월</td>\n",
              "      <td>고경빈</td>\n",
              "      <td>고경빈</td>\n",
              "      <td>지구에 소행성이 떨어진 후, 지구는 인간을 먹이로 하는 괴생명체 아니스 에 의해 절...</td>\n",
              "      <td>네이버 웹툰</td>\n",
              "      <td>스토리, 판타지</td>\n",
              "    </tr>\n",
              "    <tr>\n",
              "      <th>1513</th>\n",
              "      <td>1513</td>\n",
              "      <td>트리거</td>\n",
              "      <td>화</td>\n",
              "      <td>불만있냥</td>\n",
              "      <td>불만있냥</td>\n",
              "      <td>불량하기로 유명한 대명 고등학교에 입학한 평범한 고등학생 남지일. 입학 첫날부터 일...</td>\n",
              "      <td>카카오웹툰</td>\n",
              "      <td>학원/판타지</td>\n",
              "    </tr>\n",
              "  </tbody>\n",
              "</table>\n",
              "</div>"
            ],
            "text/plain": [
              "      Unnamed: 0 title  ... platform     genre\n",
              "62            62   트리거  ...   네이버 웹툰  스토리, 판타지\n",
              "1513        1513   트리거  ...    카카오웹툰    학원/판타지\n",
              "\n",
              "[2 rows x 8 columns]"
            ]
          },
          "metadata": {},
          "execution_count": 3
        }
      ]
    },
    {
      "cell_type": "code",
      "metadata": {
        "id": "m9yjWQii00g8"
      },
      "source": [
        "test2.drop(columns=['Unnamed: 0'],inplace=True)"
      ],
      "execution_count": 4,
      "outputs": []
    },
    {
      "cell_type": "code",
      "metadata": {
        "colab": {
          "base_uri": "https://localhost:8080/"
        },
        "id": "YLrhkp41_bm5",
        "outputId": "e536d86b-6561-4552-872e-ebe1ed73beda"
      },
      "source": [
        "test2.genre.unique()"
      ],
      "execution_count": 5,
      "outputs": [
        {
          "output_type": "execute_result",
          "data": {
            "text/plain": [
              "array(['스토리, 액션', '스토리, 판타지', '스토리, 드라마', '스토리, 스포츠', '스토리, 스릴러',\n",
              "       '스토리, 로맨스', '에피소드, 드라마', '옴니버스, 판타지', '옴니버스, 일상', '에피소드, 개그',\n",
              "       '스토리, 개그', '에피소드, 일상', '옴니버스, 드라마', '스토리, 감성', '스토리, 시대극',\n",
              "       '에피소드, 액션', '에피소드, 판타지', '에피소드, 시대극', '에피소드, 스릴러', '스토리, 일상',\n",
              "       '옴니버스, 로맨스', '옴니버스, 스릴러', '옴니버스, 개그', '에피소드, 로맨스', '옴니버스, 감성',\n",
              "       '에피소드, 감성', '옴니버스, 액션', '에피소드, 스포츠', '옴니버스, 스포츠', '로맨스', '학원/판타지',\n",
              "       '로맨스 판타지', '코믹/일상', '액션/무협', '공포/스릴러', '판타지 드라마', '드라마', '코미가',\n",
              "       '로판만화', '드라마만화', '로맨스만화', '소년만화', '액션무협만화', 'BL/GL만화', '일상', '판타지',\n",
              "       'BL', '백합', '개그', '미스터리', '학원', '액션'], dtype=object)"
            ]
          },
          "metadata": {},
          "execution_count": 5
        }
      ]
    },
    {
      "cell_type": "code",
      "metadata": {
        "id": "DcKaXIa4_CoQ"
      },
      "source": [
        "test2.genre.replace({'로판만화':'로맨스, 판타지','로맨스만화':'로맨스','BL':'BL, GL','BL/GL':'BL, GL','BL/GL만화':'BL, GL',\n",
        "                     '로맨스 판타지':'로맨스, 판타지','액션무협만화':'액션, 무협','액션/무협':'액션, 무협','코믹/일상': '코믹, 일상',\n",
        "                     '공포/스릴러':'공포,스릴러','학원/판타지':'학원, 판타지','백합':'BL, GL','스토리, 액션':'액션', '스토리, 판타지':'판타지', '스토리, 드라마':'드라마', '스토리, 스포츠':'스포츠', '스토리, 스릴러':'스릴러',\n",
        "                     '스토리, 로맨스':'로맨스', '에피소드, 드라마':'드라마', '옴니버스, 판타지':'판타지', '옴니버스, 일상':'일상', '에피소드, 개그':'개그','스토리, 개그':'개그', '에피소드, 일상':'일상', \n",
        "                     '옴니버스, 드라마':'드라마', '스토리, 감성':'감성', '스토리, 시대극':'시대극','에피소드, 액션':'액션', '에피소드, 판타지':'판타지', '에피소드, 시대극':'시대극', '에피소드, 스릴러':'스릴러', '스토리, 일상':'일상',\n",
        "                     '옴니버스, 개그':'개그'},inplace=True)"
      ],
      "execution_count": 12,
      "outputs": []
    },
    {
      "cell_type": "code",
      "metadata": {
        "id": "2ROniiSxLFfF"
      },
      "source": [
        "test2.genre.replace({'옴니버스, 로맨스':'로멘스', '옴니버스, 감성':'감성', '에피소드, 감성':'감성',\n",
        "                     '옴니버스, 액션':'액션', '에피소드, 스포츠':'스포츠', '옴니버스, 스포츠':'스포츠'},inplace=True)"
      ],
      "execution_count": 24,
      "outputs": []
    },
    {
      "cell_type": "code",
      "metadata": {
        "colab": {
          "base_uri": "https://localhost:8080/"
        },
        "id": "6tylhjqP_f2o",
        "outputId": "067b5a96-34cd-4908-bc0f-0a8ce42ca7d9"
      },
      "source": [
        "test2.genre.unique()"
      ],
      "execution_count": 25,
      "outputs": [
        {
          "output_type": "execute_result",
          "data": {
            "text/plain": [
              "array(['액션', '판타지', '드라마', '스포츠', '스릴러', '로맨스', '일상', '개그', '감성', '시대극',\n",
              "       '로멘스', '옴니버스, 스릴러', '에피소드, 로맨스', '학원, 판타지', '로맨스, 판타지', '코믹, 일상',\n",
              "       '액션, 무협', '공포,스릴러', '판타지 드라마', '코미가', '드라마만화', '소년만화', 'BL, GL',\n",
              "       '미스터리', '학원'], dtype=object)"
            ]
          },
          "metadata": {},
          "execution_count": 25
        }
      ]
    },
    {
      "cell_type": "code",
      "metadata": {
        "id": "K3sU4ORk_iIv"
      },
      "source": [
        "test2.genre.replace({'옴니버스, 스릴러':'스릴러','에피소드, 로맨스':'로맨스'},inplace=True)"
      ],
      "execution_count": 27,
      "outputs": []
    },
    {
      "cell_type": "code",
      "metadata": {
        "colab": {
          "base_uri": "https://localhost:8080/"
        },
        "id": "8iaofdgxMXtD",
        "outputId": "33830d54-8483-41b1-eed7-d6d23e84edcb"
      },
      "source": [
        "test2.genre.unique()"
      ],
      "execution_count": 28,
      "outputs": [
        {
          "output_type": "execute_result",
          "data": {
            "text/plain": [
              "array(['액션', '판타지', '드라마', '스포츠', '스릴러', '로맨스', '일상', '개그', '감성', '시대극',\n",
              "       '로멘스', '학원, 판타지', '로맨스, 판타지', '코믹, 일상', '액션, 무협', '공포,스릴러',\n",
              "       '판타지 드라마', '코미가', '드라마만화', '소년만화', 'BL, GL', '미스터리', '학원'],\n",
              "      dtype=object)"
            ]
          },
          "metadata": {},
          "execution_count": 28
        }
      ]
    },
    {
      "cell_type": "code",
      "metadata": {
        "colab": {
          "base_uri": "https://localhost:8080/",
          "height": 80
        },
        "id": "teqZgCqRMemw",
        "outputId": "873e0729-87e2-48de-839c-fbe27e03cf54"
      },
      "source": [
        "test2[test2.genre=='코미가']"
      ],
      "execution_count": 30,
      "outputs": [
        {
          "output_type": "execute_result",
          "data": {
            "text/html": [
              "<div>\n",
              "<style scoped>\n",
              "    .dataframe tbody tr th:only-of-type {\n",
              "        vertical-align: middle;\n",
              "    }\n",
              "\n",
              "    .dataframe tbody tr th {\n",
              "        vertical-align: top;\n",
              "    }\n",
              "\n",
              "    .dataframe thead th {\n",
              "        text-align: right;\n",
              "    }\n",
              "</style>\n",
              "<table border=\"1\" class=\"dataframe\">\n",
              "  <thead>\n",
              "    <tr style=\"text-align: right;\">\n",
              "      <th></th>\n",
              "      <th>title</th>\n",
              "      <th>day</th>\n",
              "      <th>writer</th>\n",
              "      <th>illustrator</th>\n",
              "      <th>story</th>\n",
              "      <th>platform</th>\n",
              "      <th>genre</th>\n",
              "    </tr>\n",
              "  </thead>\n",
              "  <tbody>\n",
              "    <tr>\n",
              "      <th>1971</th>\n",
              "      <td>술꾼도시처녀들</td>\n",
              "      <td>완결</td>\n",
              "      <td>미깡</td>\n",
              "      <td>미깡</td>\n",
              "      <td>술꾼들을 위한 본격 음주 일상툰. 경고 지나친 음주는 건강을 해칠 수 있습니다</td>\n",
              "      <td>카카오웹툰</td>\n",
              "      <td>코미가</td>\n",
              "    </tr>\n",
              "  </tbody>\n",
              "</table>\n",
              "</div>"
            ],
            "text/plain": [
              "        title day  ... platform genre\n",
              "1971  술꾼도시처녀들  완결  ...    카카오웹툰   코미가\n",
              "\n",
              "[1 rows x 7 columns]"
            ]
          },
          "metadata": {},
          "execution_count": 30
        }
      ]
    },
    {
      "cell_type": "code",
      "metadata": {
        "colab": {
          "base_uri": "https://localhost:8080/"
        },
        "id": "J4yMttRYMjxA",
        "outputId": "2c6fad03-cfd2-48ad-df4e-a47e402a869a"
      },
      "source": [
        "test2.genre.replace({'코미가':'코믹, 일상'},inplace=True)\n",
        "test2.genre.unique()"
      ],
      "execution_count": 31,
      "outputs": [
        {
          "output_type": "execute_result",
          "data": {
            "text/plain": [
              "array(['액션', '판타지', '드라마', '스포츠', '스릴러', '로맨스', '일상', '개그', '감성', '시대극',\n",
              "       '로멘스', '학원, 판타지', '로맨스, 판타지', '코믹, 일상', '액션, 무협', '공포,스릴러',\n",
              "       '판타지 드라마', '드라마만화', '소년만화', 'BL, GL', '미스터리', '학원'], dtype=object)"
            ]
          },
          "metadata": {},
          "execution_count": 31
        }
      ]
    },
    {
      "cell_type": "code",
      "metadata": {
        "colab": {
          "base_uri": "https://localhost:8080/",
          "height": 419
        },
        "id": "qf-gJRZaNeFz",
        "outputId": "f85c7318-ff85-445a-c50b-2d4f80d5244e"
      },
      "source": [
        "test2[['title','writer','illustrator','day','genre','story','platform']]"
      ],
      "execution_count": 33,
      "outputs": [
        {
          "output_type": "execute_result",
          "data": {
            "text/html": [
              "<div>\n",
              "<style scoped>\n",
              "    .dataframe tbody tr th:only-of-type {\n",
              "        vertical-align: middle;\n",
              "    }\n",
              "\n",
              "    .dataframe tbody tr th {\n",
              "        vertical-align: top;\n",
              "    }\n",
              "\n",
              "    .dataframe thead th {\n",
              "        text-align: right;\n",
              "    }\n",
              "</style>\n",
              "<table border=\"1\" class=\"dataframe\">\n",
              "  <thead>\n",
              "    <tr style=\"text-align: right;\">\n",
              "      <th></th>\n",
              "      <th>title</th>\n",
              "      <th>writer</th>\n",
              "      <th>illustrator</th>\n",
              "      <th>day</th>\n",
              "      <th>genre</th>\n",
              "      <th>story</th>\n",
              "      <th>platform</th>\n",
              "    </tr>\n",
              "  </thead>\n",
              "  <tbody>\n",
              "    <tr>\n",
              "      <th>0</th>\n",
              "      <td>참교육</td>\n",
              "      <td>채용택</td>\n",
              "      <td>한가람</td>\n",
              "      <td>월</td>\n",
              "      <td>액션</td>\n",
              "      <td>무너진 교권을 지키기 위해 교권보호국 소속 나화진의 참교육이 시작된다! 부활남 채용...</td>\n",
              "      <td>네이버 웹툰</td>\n",
              "    </tr>\n",
              "    <tr>\n",
              "      <th>1</th>\n",
              "      <td>신의 탑</td>\n",
              "      <td>SIU</td>\n",
              "      <td>SIU</td>\n",
              "      <td>월</td>\n",
              "      <td>판타지</td>\n",
              "      <td>자신의 모든 것이었던 소녀를 쫓아 탑에 들어온 소년 그리고 그런 소년을 시험하는 탑</td>\n",
              "      <td>네이버 웹툰</td>\n",
              "    </tr>\n",
              "    <tr>\n",
              "      <th>2</th>\n",
              "      <td>뷰티풀 군바리</td>\n",
              "      <td>설이</td>\n",
              "      <td>윤성원</td>\n",
              "      <td>월</td>\n",
              "      <td>드라마</td>\n",
              "      <td>여자도 군대에 간다면? 본격 여자도 군대 가는 만화!</td>\n",
              "      <td>네이버 웹툰</td>\n",
              "    </tr>\n",
              "    <tr>\n",
              "      <th>3</th>\n",
              "      <td>윈드브레이커</td>\n",
              "      <td>조용석</td>\n",
              "      <td>조용석</td>\n",
              "      <td>월</td>\n",
              "      <td>스포츠</td>\n",
              "      <td>혼자서 자전거를 즐겨타던 모범생 조자현. 원치 않게 자전거 크루의 일에 자꾸 휘말리...</td>\n",
              "      <td>네이버 웹툰</td>\n",
              "    </tr>\n",
              "    <tr>\n",
              "      <th>4</th>\n",
              "      <td>팔이피플</td>\n",
              "      <td>매미</td>\n",
              "      <td>희세</td>\n",
              "      <td>월</td>\n",
              "      <td>드라마</td>\n",
              "      <td>마스크걸 , 위대한 방옥숙 매미 희세 작가의 신작! 에서 육아용품 파는 평범한 유부...</td>\n",
              "      <td>네이버 웹툰</td>\n",
              "    </tr>\n",
              "    <tr>\n",
              "      <th>...</th>\n",
              "      <td>...</td>\n",
              "      <td>...</td>\n",
              "      <td>...</td>\n",
              "      <td>...</td>\n",
              "      <td>...</td>\n",
              "      <td>...</td>\n",
              "      <td>...</td>\n",
              "    </tr>\n",
              "    <tr>\n",
              "      <th>4019</th>\n",
              "      <td>도깨비도 수풀이 있어야 모인다[개정판]</td>\n",
              "      <td>신</td>\n",
              "      <td>신</td>\n",
              "      <td>열흘</td>\n",
              "      <td>BL, GL</td>\n",
              "      <td>해당 작품은 도깨비도 수풀이 있어야 모인다 성인 버전의 일부 장면을 수정한 개정판입...</td>\n",
              "      <td>레진코믹스</td>\n",
              "    </tr>\n",
              "    <tr>\n",
              "      <th>4020</th>\n",
              "      <td>던전 속 사정[개정판]</td>\n",
              "      <td>레바</td>\n",
              "      <td>레바</td>\n",
              "      <td>열흘</td>\n",
              "      <td>판타지</td>\n",
              "      <td>해당 작품은 던전 속 사정 성인 버전의 일부 장면을 수정한 개정판입니다. 마물을 물...</td>\n",
              "      <td>레진코믹스</td>\n",
              "    </tr>\n",
              "    <tr>\n",
              "      <th>4021</th>\n",
              "      <td>튀어나왔어요, BL만화!</td>\n",
              "      <td>마롭</td>\n",
              "      <td>믹</td>\n",
              "      <td>열흘</td>\n",
              "      <td>드라마</td>\n",
              "      <td>슬럼프로 인해 휴재에 들어간 작가 육번 필명 앞에 그의 만화 네버엔딩 튜토리얼 의 ...</td>\n",
              "      <td>레진코믹스</td>\n",
              "    </tr>\n",
              "    <tr>\n",
              "      <th>4022</th>\n",
              "      <td>포젯션</td>\n",
              "      <td>Happykwak</td>\n",
              "      <td>Happykwak</td>\n",
              "      <td>열흘</td>\n",
              "      <td>판타지</td>\n",
              "      <td>인간계 저 아래의 지하왕국 저저저 에서는 17대 대왕의 갑작스런 하야 선언으로 새로...</td>\n",
              "      <td>레진코믹스</td>\n",
              "    </tr>\n",
              "    <tr>\n",
              "      <th>4023</th>\n",
              "      <td>비 마이 게스트[개정판]</td>\n",
              "      <td>영모</td>\n",
              "      <td>티오비</td>\n",
              "      <td>열흘</td>\n",
              "      <td>로맨스</td>\n",
              "      <td>해당 작품은 비 마이 게스트 성인 버전의 일부 장면을 수정한 개정판입니다. 뜨거운 ...</td>\n",
              "      <td>레진코믹스</td>\n",
              "    </tr>\n",
              "  </tbody>\n",
              "</table>\n",
              "<p>4024 rows × 7 columns</p>\n",
              "</div>"
            ],
            "text/plain": [
              "                      title  ... platform\n",
              "0                       참교육  ...   네이버 웹툰\n",
              "1                      신의 탑  ...   네이버 웹툰\n",
              "2                   뷰티풀 군바리  ...   네이버 웹툰\n",
              "3                    윈드브레이커  ...   네이버 웹툰\n",
              "4                      팔이피플  ...   네이버 웹툰\n",
              "...                     ...  ...      ...\n",
              "4019  도깨비도 수풀이 있어야 모인다[개정판]  ...    레진코믹스\n",
              "4020           던전 속 사정[개정판]  ...    레진코믹스\n",
              "4021          튀어나왔어요, BL만화!  ...    레진코믹스\n",
              "4022                    포젯션  ...    레진코믹스\n",
              "4023          비 마이 게스트[개정판]  ...    레진코믹스\n",
              "\n",
              "[4024 rows x 7 columns]"
            ]
          },
          "metadata": {},
          "execution_count": 33
        }
      ]
    },
    {
      "cell_type": "code",
      "metadata": {
        "id": "SzX6erPpNSN5"
      },
      "source": [
        "test2.to_csv('dataset_genre.csv',index=False,encoding='cp949')"
      ],
      "execution_count": 34,
      "outputs": []
    },
    {
      "cell_type": "code",
      "metadata": {
        "id": "9_gXfitKN-Z5"
      },
      "source": [
        ""
      ],
      "execution_count": null,
      "outputs": []
    }
  ]
}