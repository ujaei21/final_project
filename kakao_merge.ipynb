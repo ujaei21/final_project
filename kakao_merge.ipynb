{
  "nbformat": 4,
  "nbformat_minor": 0,
  "metadata": {
    "colab": {
      "name": "kakao_merge.ipynb",
      "provenance": []
    },
    "kernelspec": {
      "name": "python3",
      "display_name": "Python 3"
    },
    "language_info": {
      "name": "python"
    }
  },
  "cells": [
    {
      "cell_type": "code",
      "metadata": {
        "id": "StXO13sbU-Fr"
      },
      "source": [
        "import pandas as pd \n",
        "path = '/content/drive/MyDrive/Colab Notebooks/final/'\n",
        "kpw = pd.read_csv(path+'kp_week1_1.csv')\n",
        "kpc = pd.read_csv(path+'kp_completed_1.csv')"
      ],
      "execution_count": 3,
      "outputs": []
    },
    {
      "cell_type": "code",
      "metadata": {
        "colab": {
          "base_uri": "https://localhost:8080/",
          "height": 335
        },
        "id": "uJ5fthkaV8c9",
        "outputId": "f9b2a094-83f2-462d-af54-e71ce1023d41"
      },
      "source": [
        "kpw.head(1)"
      ],
      "execution_count": 4,
      "outputs": [
        {
          "output_type": "execute_result",
          "data": {
            "text/html": [
              "<div>\n",
              "<style scoped>\n",
              "    .dataframe tbody tr th:only-of-type {\n",
              "        vertical-align: middle;\n",
              "    }\n",
              "\n",
              "    .dataframe tbody tr th {\n",
              "        vertical-align: top;\n",
              "    }\n",
              "\n",
              "    .dataframe thead th {\n",
              "        text-align: right;\n",
              "    }\n",
              "</style>\n",
              "<table border=\"1\" class=\"dataframe\">\n",
              "  <thead>\n",
              "    <tr style=\"text-align: right;\">\n",
              "      <th></th>\n",
              "      <th>Unnamed: 0</th>\n",
              "      <th>title</th>\n",
              "      <th>author</th>\n",
              "      <th>day</th>\n",
              "      <th>genre</th>\n",
              "      <th>story</th>\n",
              "      <th>platform</th>\n",
              "      <th>t_image</th>\n",
              "      <th>ID</th>\n",
              "    </tr>\n",
              "  </thead>\n",
              "  <tbody>\n",
              "    <tr>\n",
              "      <th>0</th>\n",
              "      <td>0</td>\n",
              "      <td>우선 남동생부터 숨기자</td>\n",
              "      <td>자목,천리,채지후</td>\n",
              "      <td>월</td>\n",
              "      <td>로판만화</td>\n",
              "      <td>하필이면 19금 다공일수 피폐 만화에 수의 하나뿐인 누나로 빙의하고 말았다! 재수없...</td>\n",
              "      <td>카카오페이지</td>\n",
              "      <td>cHyfs/hy41GaQT02/8lTAkYiB5MqJuKdoSmJEBK</td>\n",
              "      <td>57492806</td>\n",
              "    </tr>\n",
              "  </tbody>\n",
              "</table>\n",
              "</div>"
            ],
            "text/plain": [
              "   Unnamed: 0         title  ...                                  t_image        ID\n",
              "0           0  우선 남동생부터 숨기자  ...  cHyfs/hy41GaQT02/8lTAkYiB5MqJuKdoSmJEBK  57492806\n",
              "\n",
              "[1 rows x 9 columns]"
            ]
          },
          "metadata": {},
          "execution_count": 4
        }
      ]
    },
    {
      "cell_type": "code",
      "metadata": {
        "colab": {
          "base_uri": "https://localhost:8080/",
          "height": 389
        },
        "id": "8BCNJdUFWGzb",
        "outputId": "32016654-d9e8-4d18-f5ef-4b125acc014d"
      },
      "source": [
        "kpc.head(1)"
      ],
      "execution_count": 5,
      "outputs": [
        {
          "output_type": "execute_result",
          "data": {
            "text/html": [
              "<div>\n",
              "<style scoped>\n",
              "    .dataframe tbody tr th:only-of-type {\n",
              "        vertical-align: middle;\n",
              "    }\n",
              "\n",
              "    .dataframe tbody tr th {\n",
              "        vertical-align: top;\n",
              "    }\n",
              "\n",
              "    .dataframe thead th {\n",
              "        text-align: right;\n",
              "    }\n",
              "</style>\n",
              "<table border=\"1\" class=\"dataframe\">\n",
              "  <thead>\n",
              "    <tr style=\"text-align: right;\">\n",
              "      <th></th>\n",
              "      <th>Unnamed: 0</th>\n",
              "      <th>title</th>\n",
              "      <th>author</th>\n",
              "      <th>day</th>\n",
              "      <th>genre</th>\n",
              "      <th>story</th>\n",
              "      <th>platform</th>\n",
              "      <th>t_image</th>\n",
              "      <th>ID</th>\n",
              "    </tr>\n",
              "  </thead>\n",
              "  <tbody>\n",
              "    <tr>\n",
              "      <th>0</th>\n",
              "      <td>0</td>\n",
              "      <td>그녀가 공작저로 가야 했던 사정</td>\n",
              "      <td>고래,밀차</td>\n",
              "      <td>완결</td>\n",
              "      <td>로판만화</td>\n",
              "      <td>의문의 사망 이후, 소설 속으로 빙의하게 된 재수생 박은하. 하지만 그녀가 빙의한 ...</td>\n",
              "      <td>카카오페이지</td>\n",
              "      <td>bGxtne/hyCvnb6VWb/Z6w9OMlI9P83urVF0kLahK</td>\n",
              "      <td>50242834</td>\n",
              "    </tr>\n",
              "  </tbody>\n",
              "</table>\n",
              "</div>"
            ],
            "text/plain": [
              "   Unnamed: 0  ...        ID\n",
              "0           0  ...  50242834\n",
              "\n",
              "[1 rows x 9 columns]"
            ]
          },
          "metadata": {},
          "execution_count": 5
        }
      ]
    },
    {
      "cell_type": "code",
      "metadata": {
        "colab": {
          "base_uri": "https://localhost:8080/"
        },
        "id": "ax1AZhsAWV-j",
        "outputId": "db81a716-d758-499b-b66c-c7696f1d2ee8"
      },
      "source": [
        "kpw.title.value_counts()"
      ],
      "execution_count": 6,
      "outputs": [
        {
          "output_type": "execute_result",
          "data": {
            "text/plain": [
              "원수의 가면을 벗기면       1\n",
              "끝이 아닌 시작          1\n",
              "영검존               1\n",
              "쇼윈도 커플            1\n",
              "황제의 외동딸           1\n",
              "                 ..\n",
              "만계신주              1\n",
              "나 혼자 천재 DNA       1\n",
              "나는 남주의 전 여친이었다    1\n",
              "무신향로              1\n",
              "라미아 오르페가 죽었다      1\n",
              "Name: title, Length: 852, dtype: int64"
            ]
          },
          "metadata": {},
          "execution_count": 6
        }
      ]
    },
    {
      "cell_type": "code",
      "metadata": {
        "colab": {
          "base_uri": "https://localhost:8080/"
        },
        "id": "p3ySPkgcWbRS",
        "outputId": "5b71e711-d047-4da8-842f-a456838b9ed2"
      },
      "source": [
        "kpc.title.value_counts()"
      ],
      "execution_count": 7,
      "outputs": [
        {
          "output_type": "execute_result",
          "data": {
            "text/plain": [
              "폭군의 은밀한 시선 컬렉션 [할리퀸]     1\n",
              "야뇌 백동수                   1\n",
              "드라이 플라워(Dry flower)      1\n",
              "야설록 용호상박 컬렉션             1\n",
              "수라도                      1\n",
              "                        ..\n",
              "파트너의 영역 ∼바이 앤 하이~[BL]    1\n",
              "앉아, 기다려, 키스해 [BL]        1\n",
              "충사                       1\n",
              "연애를 만화로 배웠어요             1\n",
              "귀신이 곡할 놈들                1\n",
              "Name: title, Length: 852, dtype: int64"
            ]
          },
          "metadata": {},
          "execution_count": 7
        }
      ]
    },
    {
      "cell_type": "code",
      "metadata": {
        "colab": {
          "base_uri": "https://localhost:8080/",
          "height": 35
        },
        "id": "Coz1lug9Weeq",
        "outputId": "b862897d-32bc-4b94-8766-07d643cac45d"
      },
      "source": [
        "kpc.author[0].split(',')[0]"
      ],
      "execution_count": 13,
      "outputs": [
        {
          "output_type": "execute_result",
          "data": {
            "application/vnd.google.colaboratory.intrinsic+json": {
              "type": "string"
            },
            "text/plain": [
              "'고래'"
            ]
          },
          "metadata": {},
          "execution_count": 13
        }
      ]
    },
    {
      "cell_type": "code",
      "metadata": {
        "colab": {
          "base_uri": "https://localhost:8080/",
          "height": 978
        },
        "id": "mUOgE_QPXH0p",
        "outputId": "469ca858-6248-475e-8dcc-562dbb6f054b"
      },
      "source": [
        "kpw.drop(columns=['writer','illustrator'],inplace=True)\n",
        "kpw.insert(2, 'writer', 0)\n",
        "kpw.insert(3, 'illustrator', 1)\n",
        "\n",
        "# 글 작가, 그림 작가 나누기\n",
        "kpw['writer'], kpw['illustrator'] = zip(*kpw['author'].apply(lambda x:[x.strip() for x in x.split(',')] if ',' in x else [x, x]))\n",
        "# nwb.drop(columns='author', inplace=True)\n",
        "kpw.head(3)"
      ],
      "execution_count": 18,
      "outputs": [
        {
          "output_type": "execute_result",
          "data": {
            "text/html": [
              "<div>\n",
              "<style scoped>\n",
              "    .dataframe tbody tr th:only-of-type {\n",
              "        vertical-align: middle;\n",
              "    }\n",
              "\n",
              "    .dataframe tbody tr th {\n",
              "        vertical-align: top;\n",
              "    }\n",
              "\n",
              "    .dataframe thead th {\n",
              "        text-align: right;\n",
              "    }\n",
              "</style>\n",
              "<table border=\"1\" class=\"dataframe\">\n",
              "  <thead>\n",
              "    <tr style=\"text-align: right;\">\n",
              "      <th></th>\n",
              "      <th>Unnamed: 0</th>\n",
              "      <th>title</th>\n",
              "      <th>writer</th>\n",
              "      <th>illustrator</th>\n",
              "      <th>author</th>\n",
              "      <th>day</th>\n",
              "      <th>genre</th>\n",
              "      <th>story</th>\n",
              "      <th>platform</th>\n",
              "      <th>t_image</th>\n",
              "      <th>ID</th>\n",
              "    </tr>\n",
              "  </thead>\n",
              "  <tbody>\n",
              "    <tr>\n",
              "      <th>0</th>\n",
              "      <td>0</td>\n",
              "      <td>우선 남동생부터 숨기자</td>\n",
              "      <td>자목</td>\n",
              "      <td>천리</td>\n",
              "      <td>자목,천리,채지후</td>\n",
              "      <td>월</td>\n",
              "      <td>로판만화</td>\n",
              "      <td>하필이면 19금 다공일수 피폐 만화에 수의 하나뿐인 누나로 빙의하고 말았다! 재수없...</td>\n",
              "      <td>카카오페이지</td>\n",
              "      <td>cHyfs/hy41GaQT02/8lTAkYiB5MqJuKdoSmJEBK</td>\n",
              "      <td>57492806</td>\n",
              "    </tr>\n",
              "    <tr>\n",
              "      <th>1</th>\n",
              "      <td>1</td>\n",
              "      <td>이번 생은 가주가 되겠습니다</td>\n",
              "      <td>앤트스튜디오</td>\n",
              "      <td>몬</td>\n",
              "      <td>앤트스튜디오,몬, 앤트스튜디오,김로아</td>\n",
              "      <td>월</td>\n",
              "      <td>로판만화</td>\n",
              "      <td>한번 해 보자. 내가 가주가 되는 거야. 제국에서 제일가는 가문, 롬바르디의 사생아...</td>\n",
              "      <td>카카오페이지</td>\n",
              "      <td>cDeRi1/hyVkDNZUdD/WyUnrIQ0gkyKdkLzL5ajh1</td>\n",
              "      <td>56566288</td>\n",
              "    </tr>\n",
              "    <tr>\n",
              "      <th>2</th>\n",
              "      <td>2</td>\n",
              "      <td>묵향 다크레이디</td>\n",
              "      <td>이재헌</td>\n",
              "      <td>구깃</td>\n",
              "      <td>이재헌,구깃,전동조</td>\n",
              "      <td>월</td>\n",
              "      <td>소년만화</td>\n",
              "      <td>마교의 교주로서 극강의 무공을 자랑하던 묵향은 적들 혈교 에 의해 생전 처음 보는 ...</td>\n",
              "      <td>카카오페이지</td>\n",
              "      <td>9Eoo5/hyATyGp2En/pYYjRkJJIrpHEvDible6T0</td>\n",
              "      <td>53216022</td>\n",
              "    </tr>\n",
              "  </tbody>\n",
              "</table>\n",
              "</div>"
            ],
            "text/plain": [
              "   Unnamed: 0  ...        ID\n",
              "0           0  ...  57492806\n",
              "1           1  ...  56566288\n",
              "2           2  ...  53216022\n",
              "\n",
              "[3 rows x 11 columns]"
            ]
          },
          "metadata": {},
          "execution_count": 18
        }
      ]
    },
    {
      "cell_type": "code",
      "metadata": {
        "colab": {
          "base_uri": "https://localhost:8080/",
          "height": 1000
        },
        "id": "U7gDCp7gZxPX",
        "outputId": "6c9d3444-3bf6-4c32-cdf9-cbf73d6fa3be"
      },
      "source": [
        "kpw.tail(5)"
      ],
      "execution_count": 20,
      "outputs": [
        {
          "output_type": "execute_result",
          "data": {
            "text/html": [
              "<div>\n",
              "<style scoped>\n",
              "    .dataframe tbody tr th:only-of-type {\n",
              "        vertical-align: middle;\n",
              "    }\n",
              "\n",
              "    .dataframe tbody tr th {\n",
              "        vertical-align: top;\n",
              "    }\n",
              "\n",
              "    .dataframe thead th {\n",
              "        text-align: right;\n",
              "    }\n",
              "</style>\n",
              "<table border=\"1\" class=\"dataframe\">\n",
              "  <thead>\n",
              "    <tr style=\"text-align: right;\">\n",
              "      <th></th>\n",
              "      <th>Unnamed: 0</th>\n",
              "      <th>title</th>\n",
              "      <th>writer</th>\n",
              "      <th>illustrator</th>\n",
              "      <th>author</th>\n",
              "      <th>day</th>\n",
              "      <th>genre</th>\n",
              "      <th>story</th>\n",
              "      <th>platform</th>\n",
              "      <th>t_image</th>\n",
              "      <th>ID</th>\n",
              "    </tr>\n",
              "  </thead>\n",
              "  <tbody>\n",
              "    <tr>\n",
              "      <th>847</th>\n",
              "      <td>985</td>\n",
              "      <td>이 남자를 상속받겠습니다</td>\n",
              "      <td>yoolook</td>\n",
              "      <td>yoolook</td>\n",
              "      <td>yoolook</td>\n",
              "      <td>일</td>\n",
              "      <td>로맨스만화</td>\n",
              "      <td>겉보기엔 당돌하고 거침없지만 속은 여리고 따뜻한 유라. 억지로 맞선 자리에 간 친구...</td>\n",
              "      <td>카카오페이지</td>\n",
              "      <td>bx9GRI/hyLi9CI9eW/eAh6iHeH26v67At9EpxeF0</td>\n",
              "      <td>56113973</td>\n",
              "    </tr>\n",
              "    <tr>\n",
              "      <th>848</th>\n",
              "      <td>986</td>\n",
              "      <td>수호룡기</td>\n",
              "      <td>LIA</td>\n",
              "      <td>You Dou Fu</td>\n",
              "      <td>LIA,You Dou Fu</td>\n",
              "      <td>일</td>\n",
              "      <td>드라마만화</td>\n",
              "      <td>여성은 용으로 각성하고, 남성은 용주가 되어 서로 계약을 맺는 세상. 평화로운 유주...</td>\n",
              "      <td>카카오페이지</td>\n",
              "      <td>gRZEN/hyVkLd5TNI/PrKu5jBpBNRZDxClUwjIJ0</td>\n",
              "      <td>56448122</td>\n",
              "    </tr>\n",
              "    <tr>\n",
              "      <th>849</th>\n",
              "      <td>987</td>\n",
              "      <td>드래곤 엑스(Dragon-X)</td>\n",
              "      <td>XIII</td>\n",
              "      <td>운천공</td>\n",
              "      <td>XIII,운천공</td>\n",
              "      <td>일</td>\n",
              "      <td>소년만화</td>\n",
              "      <td>이세계의 주인공으로 환생하면 천하무쌍의 힘을 얻고 사랑하는 여인과 함께 행복하게 살...</td>\n",
              "      <td>카카오페이지</td>\n",
              "      <td>CZGxC/hyCvlY1j5S/3j3uKF4G6CIg6HB3khsmz0</td>\n",
              "      <td>51698328</td>\n",
              "    </tr>\n",
              "    <tr>\n",
              "      <th>850</th>\n",
              "      <td>988</td>\n",
              "      <td>세븐나이츠 : 알카이드</td>\n",
              "      <td>앤트스튜디오</td>\n",
              "      <td>앤트스튜디오</td>\n",
              "      <td>앤트스튜디오</td>\n",
              "      <td>일</td>\n",
              "      <td>소년만화</td>\n",
              "      <td>스카이트리아 제국이 멸망한 이후로부터 파괴의 전쟁이 일어나기 전, 공백의 시간 동안...</td>\n",
              "      <td>카카오페이지</td>\n",
              "      <td>PgfR7/hyATsTK5Ky/qTROLCuSBFZBksbHnlqRK0</td>\n",
              "      <td>53305242</td>\n",
              "    </tr>\n",
              "    <tr>\n",
              "      <th>851</th>\n",
              "      <td>989</td>\n",
              "      <td>진협</td>\n",
              "      <td>비어만화공작실</td>\n",
              "      <td>비어만화공작실</td>\n",
              "      <td>비어만화공작실</td>\n",
              "      <td>일</td>\n",
              "      <td>소년만화</td>\n",
              "      <td>진나라 시대의 고대인, 몇천 년 후 현대에서 부활하다! 진시황에 의해 병마용으로서 ...</td>\n",
              "      <td>카카오페이지</td>\n",
              "      <td>bhCnDw/hyCvlkr3Xg/N7q7h0EueVK9WwPIK137fk</td>\n",
              "      <td>53894763</td>\n",
              "    </tr>\n",
              "  </tbody>\n",
              "</table>\n",
              "</div>"
            ],
            "text/plain": [
              "     Unnamed: 0  ...        ID\n",
              "847         985  ...  56113973\n",
              "848         986  ...  56448122\n",
              "849         987  ...  51698328\n",
              "850         988  ...  53305242\n",
              "851         989  ...  53894763\n",
              "\n",
              "[5 rows x 11 columns]"
            ]
          },
          "metadata": {},
          "execution_count": 20
        }
      ]
    },
    {
      "cell_type": "code",
      "metadata": {
        "colab": {
          "base_uri": "https://localhost:8080/",
          "height": 995
        },
        "id": "MS4irBuPZ1vj",
        "outputId": "addc74a6-4b3a-4b72-fe44-7d6140333ff4"
      },
      "source": [
        "kpc.drop(columns=['writer','illustrator'],inplace=True)\n",
        "kpc.insert(2, 'writer', 0)\n",
        "kpc.insert(3, 'illustrator', 1)\n",
        "\n",
        "# 글 작가, 그림 작가 나누기\n",
        "kpc['writer'], kpc['illustrator'] = zip(*kpc['author'].apply(lambda x:[x.strip() for x in x.split(',')] if ',' in x else [x, x]))\n",
        "# nwb.drop(columns='author', inplace=True)\n",
        "kpc.head(3)"
      ],
      "execution_count": 24,
      "outputs": [
        {
          "output_type": "execute_result",
          "data": {
            "text/html": [
              "<div>\n",
              "<style scoped>\n",
              "    .dataframe tbody tr th:only-of-type {\n",
              "        vertical-align: middle;\n",
              "    }\n",
              "\n",
              "    .dataframe tbody tr th {\n",
              "        vertical-align: top;\n",
              "    }\n",
              "\n",
              "    .dataframe thead th {\n",
              "        text-align: right;\n",
              "    }\n",
              "</style>\n",
              "<table border=\"1\" class=\"dataframe\">\n",
              "  <thead>\n",
              "    <tr style=\"text-align: right;\">\n",
              "      <th></th>\n",
              "      <th>Unnamed: 0</th>\n",
              "      <th>title</th>\n",
              "      <th>writer</th>\n",
              "      <th>illustrator</th>\n",
              "      <th>author</th>\n",
              "      <th>day</th>\n",
              "      <th>genre</th>\n",
              "      <th>story</th>\n",
              "      <th>platform</th>\n",
              "      <th>t_image</th>\n",
              "      <th>ID</th>\n",
              "    </tr>\n",
              "  </thead>\n",
              "  <tbody>\n",
              "    <tr>\n",
              "      <th>0</th>\n",
              "      <td>0</td>\n",
              "      <td>그녀가 공작저로 가야 했던 사정</td>\n",
              "      <td>고래</td>\n",
              "      <td>밀차</td>\n",
              "      <td>고래,밀차</td>\n",
              "      <td>완결</td>\n",
              "      <td>로판만화</td>\n",
              "      <td>의문의 사망 이후, 소설 속으로 빙의하게 된 재수생 박은하. 하지만 그녀가 빙의한 ...</td>\n",
              "      <td>카카오페이지</td>\n",
              "      <td>bGxtne/hyCvnb6VWb/Z6w9OMlI9P83urVF0kLahK</td>\n",
              "      <td>50242834</td>\n",
              "    </tr>\n",
              "    <tr>\n",
              "      <th>1</th>\n",
              "      <td>1</td>\n",
              "      <td>묵향 디 오리진</td>\n",
              "      <td>REDZIN</td>\n",
              "      <td>Silva(REDICE STUDIO)</td>\n",
              "      <td>REDZIN,Silva(REDICE STUDIO),전동조</td>\n",
              "      <td>완결</td>\n",
              "      <td>액션무협만화</td>\n",
              "      <td>무협계 한 획을 그은 전동조 장편 소설 묵향 ! 암살자에서 무림 정점에 오르는 묵향...</td>\n",
              "      <td>카카오페이지</td>\n",
              "      <td>bOZ06o/hyQ9Rwb9mA/Y0a3dyuSZfKOzHFmEOCKm0</td>\n",
              "      <td>56458652</td>\n",
              "    </tr>\n",
              "    <tr>\n",
              "      <th>2</th>\n",
              "      <td>2</td>\n",
              "      <td>나는 마도왕이다</td>\n",
              "      <td>MIRO</td>\n",
              "      <td>데카스펠</td>\n",
              "      <td>MIRO,데카스펠</td>\n",
              "      <td>완결</td>\n",
              "      <td>소년만화</td>\n",
              "      <td>10년 전, 차원이 비틀리며 몬스터가 쏟아져 나왔다. 동시에 생겨난 초능력 각성자들...</td>\n",
              "      <td>카카오페이지</td>\n",
              "      <td>bnW34D/hyATvCSUg0/meX5zyKHHw6k4TqGj0nFMk</td>\n",
              "      <td>52902073</td>\n",
              "    </tr>\n",
              "  </tbody>\n",
              "</table>\n",
              "</div>"
            ],
            "text/plain": [
              "   Unnamed: 0  ...        ID\n",
              "0           0  ...  50242834\n",
              "1           1  ...  56458652\n",
              "2           2  ...  52902073\n",
              "\n",
              "[3 rows x 11 columns]"
            ]
          },
          "metadata": {},
          "execution_count": 24
        }
      ]
    },
    {
      "cell_type": "code",
      "metadata": {
        "colab": {
          "base_uri": "https://localhost:8080/",
          "height": 1000
        },
        "id": "9UJfQte1diTy",
        "outputId": "87e46dc4-87a1-47df-e904-636c7368cc31"
      },
      "source": [
        "kpc.tail()"
      ],
      "execution_count": 23,
      "outputs": [
        {
          "output_type": "execute_result",
          "data": {
            "text/html": [
              "<div>\n",
              "<style scoped>\n",
              "    .dataframe tbody tr th:only-of-type {\n",
              "        vertical-align: middle;\n",
              "    }\n",
              "\n",
              "    .dataframe tbody tr th {\n",
              "        vertical-align: top;\n",
              "    }\n",
              "\n",
              "    .dataframe thead th {\n",
              "        text-align: right;\n",
              "    }\n",
              "</style>\n",
              "<table border=\"1\" class=\"dataframe\">\n",
              "  <thead>\n",
              "    <tr style=\"text-align: right;\">\n",
              "      <th></th>\n",
              "      <th>Unnamed: 0</th>\n",
              "      <th>title</th>\n",
              "      <th>writer</th>\n",
              "      <th>illustrator</th>\n",
              "      <th>author</th>\n",
              "      <th>day</th>\n",
              "      <th>genre</th>\n",
              "      <th>story</th>\n",
              "      <th>platform</th>\n",
              "      <th>t_image</th>\n",
              "      <th>ID</th>\n",
              "    </tr>\n",
              "  </thead>\n",
              "  <tbody>\n",
              "    <tr>\n",
              "      <th>847</th>\n",
              "      <td>847</td>\n",
              "      <td>아이무드(iMood)</td>\n",
              "      <td>HARU</td>\n",
              "      <td>OliviaWu</td>\n",
              "      <td>HARU,OliviaWu,Buffy</td>\n",
              "      <td>완결</td>\n",
              "      <td>드라마만화</td>\n",
              "      <td>인간의 감정을 통제하는 마이크로칩, . 그리고 어린 시절 눈 앞에서 엄마를 잃은 소...</td>\n",
              "      <td>카카오페이지</td>\n",
              "      <td>dlOaL/hyEdlwgTcj/beEmFcuKKLaknYihlE6PD0</td>\n",
              "      <td>54854269</td>\n",
              "    </tr>\n",
              "    <tr>\n",
              "      <th>848</th>\n",
              "      <td>848</td>\n",
              "      <td>코드네임 카마엘</td>\n",
              "      <td>박세준</td>\n",
              "      <td>조현상</td>\n",
              "      <td>박세준,조현상</td>\n",
              "      <td>완결</td>\n",
              "      <td>액션무협만화</td>\n",
              "      <td>어린시절, 괴한에게 부모를 잃은 소녀는 39 카마엘 39 이라는 이름으로 도시의 범...</td>\n",
              "      <td>카카오페이지</td>\n",
              "      <td>oz1NG/hyEdjepacG/EKjiFHnFHZajo8XmefatLk</td>\n",
              "      <td>55322266</td>\n",
              "    </tr>\n",
              "    <tr>\n",
              "      <th>849</th>\n",
              "      <td>849</td>\n",
              "      <td>아이갓츄!(I got you!)</td>\n",
              "      <td>전명우</td>\n",
              "      <td>전명우</td>\n",
              "      <td>전명우</td>\n",
              "      <td>완결</td>\n",
              "      <td>소년만화</td>\n",
              "      <td>전국 검거율 1위를 자랑하는 경찰청의 에이스 여형사 하소연! 형사로서의 탁월한 능력...</td>\n",
              "      <td>카카오페이지</td>\n",
              "      <td>Zyasl/hyATqVU4VF/eC9bkX7K7km9EEK6uHEHiK</td>\n",
              "      <td>53141966</td>\n",
              "    </tr>\n",
              "    <tr>\n",
              "      <th>850</th>\n",
              "      <td>850</td>\n",
              "      <td>레인돌</td>\n",
              "      <td>우디</td>\n",
              "      <td>과즙현</td>\n",
              "      <td>우디,과즙현</td>\n",
              "      <td>완결</td>\n",
              "      <td>드라마만화</td>\n",
              "      <td>어느 날, 갑자기 좀비처럼 변해버린 사람들. 출동하라! 레인돌!! 토끼와 병아리와 ...</td>\n",
              "      <td>카카오페이지</td>\n",
              "      <td>b6OYCu/hyF28P3CA8/kI6Zi0mGuCsfApp1rwrtn0</td>\n",
              "      <td>55799308</td>\n",
              "    </tr>\n",
              "    <tr>\n",
              "      <th>851</th>\n",
              "      <td>851</td>\n",
              "      <td>이름이 뭐예요? [BL] [개정판]</td>\n",
              "      <td>리플</td>\n",
              "      <td>마그마</td>\n",
              "      <td>리플,마그마</td>\n",
              "      <td>완결</td>\n",
              "      <td>BL/GL만화</td>\n",
              "      <td>35 학원물 35 오해물 35 삽질물 35 반전매력공 35 오해했수 35 입덕당해버...</td>\n",
              "      <td>카카오페이지</td>\n",
              "      <td>jlPRU/hzb7uf0Yhk/RTRdKt2YIGj81k8vcYirwK</td>\n",
              "      <td>57735628</td>\n",
              "    </tr>\n",
              "  </tbody>\n",
              "</table>\n",
              "</div>"
            ],
            "text/plain": [
              "     Unnamed: 0  ...        ID\n",
              "847         847  ...  54854269\n",
              "848         848  ...  55322266\n",
              "849         849  ...  53141966\n",
              "850         850  ...  55799308\n",
              "851         851  ...  57735628\n",
              "\n",
              "[5 rows x 11 columns]"
            ]
          },
          "metadata": {},
          "execution_count": 23
        }
      ]
    },
    {
      "cell_type": "code",
      "metadata": {
        "colab": {
          "base_uri": "https://localhost:8080/"
        },
        "id": "JHQEGOnydqgK",
        "outputId": "de2b9d72-8088-4806-ddc4-99b20f12a6d3"
      },
      "source": [
        "print(kpc.shape)\n",
        "print(kpw.shape)"
      ],
      "execution_count": 25,
      "outputs": [
        {
          "output_type": "stream",
          "name": "stdout",
          "text": [
            "(852, 11)\n",
            "(852, 11)\n"
          ]
        }
      ]
    },
    {
      "cell_type": "code",
      "metadata": {
        "id": "aZgn5BFUePP7"
      },
      "source": [
        "kp = pd.concat([kpw,kpc])"
      ],
      "execution_count": 28,
      "outputs": []
    },
    {
      "cell_type": "code",
      "metadata": {
        "id": "6rlljA52gVzi"
      },
      "source": [
        "kp.drop(columns=['Unnamed: 0','author','t_image','ID'],inplace=True)"
      ],
      "execution_count": 30,
      "outputs": []
    },
    {
      "cell_type": "code",
      "metadata": {
        "colab": {
          "base_uri": "https://localhost:8080/",
          "height": 145
        },
        "id": "IkIMY_dLg35q",
        "outputId": "7173053b-a78c-41eb-fbc0-def3225e17e3"
      },
      "source": [
        "kp.head(2)"
      ],
      "execution_count": 31,
      "outputs": [
        {
          "output_type": "execute_result",
          "data": {
            "text/html": [
              "<div>\n",
              "<style scoped>\n",
              "    .dataframe tbody tr th:only-of-type {\n",
              "        vertical-align: middle;\n",
              "    }\n",
              "\n",
              "    .dataframe tbody tr th {\n",
              "        vertical-align: top;\n",
              "    }\n",
              "\n",
              "    .dataframe thead th {\n",
              "        text-align: right;\n",
              "    }\n",
              "</style>\n",
              "<table border=\"1\" class=\"dataframe\">\n",
              "  <thead>\n",
              "    <tr style=\"text-align: right;\">\n",
              "      <th></th>\n",
              "      <th>title</th>\n",
              "      <th>writer</th>\n",
              "      <th>illustrator</th>\n",
              "      <th>day</th>\n",
              "      <th>genre</th>\n",
              "      <th>story</th>\n",
              "      <th>platform</th>\n",
              "    </tr>\n",
              "  </thead>\n",
              "  <tbody>\n",
              "    <tr>\n",
              "      <th>0</th>\n",
              "      <td>우선 남동생부터 숨기자</td>\n",
              "      <td>자목</td>\n",
              "      <td>천리</td>\n",
              "      <td>월</td>\n",
              "      <td>로판만화</td>\n",
              "      <td>하필이면 19금 다공일수 피폐 만화에 수의 하나뿐인 누나로 빙의하고 말았다! 재수없...</td>\n",
              "      <td>카카오페이지</td>\n",
              "    </tr>\n",
              "    <tr>\n",
              "      <th>1</th>\n",
              "      <td>이번 생은 가주가 되겠습니다</td>\n",
              "      <td>앤트스튜디오</td>\n",
              "      <td>몬</td>\n",
              "      <td>월</td>\n",
              "      <td>로판만화</td>\n",
              "      <td>한번 해 보자. 내가 가주가 되는 거야. 제국에서 제일가는 가문, 롬바르디의 사생아...</td>\n",
              "      <td>카카오페이지</td>\n",
              "    </tr>\n",
              "  </tbody>\n",
              "</table>\n",
              "</div>"
            ],
            "text/plain": [
              "             title  ... platform\n",
              "0     우선 남동생부터 숨기자  ...   카카오페이지\n",
              "1  이번 생은 가주가 되겠습니다  ...   카카오페이지\n",
              "\n",
              "[2 rows x 7 columns]"
            ]
          },
          "metadata": {},
          "execution_count": 31
        }
      ]
    },
    {
      "cell_type": "code",
      "metadata": {
        "colab": {
          "base_uri": "https://localhost:8080/",
          "height": 145
        },
        "id": "EZN_ldvGhF06",
        "outputId": "d56b2b1d-39d4-4fe0-9467-49ae7f413388"
      },
      "source": [
        "encoding = 'cp949'\n",
        "naver_w =  pd.read_csv(path+'NAVER.csv',encoding=encoding)\n",
        "naver_w.head(2)"
      ],
      "execution_count": 35,
      "outputs": [
        {
          "output_type": "execute_result",
          "data": {
            "text/html": [
              "<div>\n",
              "<style scoped>\n",
              "    .dataframe tbody tr th:only-of-type {\n",
              "        vertical-align: middle;\n",
              "    }\n",
              "\n",
              "    .dataframe tbody tr th {\n",
              "        vertical-align: top;\n",
              "    }\n",
              "\n",
              "    .dataframe thead th {\n",
              "        text-align: right;\n",
              "    }\n",
              "</style>\n",
              "<table border=\"1\" class=\"dataframe\">\n",
              "  <thead>\n",
              "    <tr style=\"text-align: right;\">\n",
              "      <th></th>\n",
              "      <th>id</th>\n",
              "      <th>title</th>\n",
              "      <th>author</th>\n",
              "      <th>day</th>\n",
              "      <th>genre</th>\n",
              "      <th>story</th>\n",
              "      <th>score</th>\n",
              "      <th>platform</th>\n",
              "    </tr>\n",
              "  </thead>\n",
              "  <tbody>\n",
              "    <tr>\n",
              "      <th>0</th>\n",
              "      <td>0</td>\n",
              "      <td>참교육</td>\n",
              "      <td>채용택 / 한가람</td>\n",
              "      <td>월</td>\n",
              "      <td>스토리, 액션</td>\n",
              "      <td>무너진 교권을 지키기 위해 교권보호국 소속 나화진의 참교육이 시작된다! 부활남 채용...</td>\n",
              "      <td>9.776</td>\n",
              "      <td>네이버 웹툰</td>\n",
              "    </tr>\n",
              "    <tr>\n",
              "      <th>1</th>\n",
              "      <td>1</td>\n",
              "      <td>신의 탑</td>\n",
              "      <td>SIU</td>\n",
              "      <td>월</td>\n",
              "      <td>스토리, 판타지</td>\n",
              "      <td>자신의 모든 것이었던 소녀를 쫓아 탑에 들어온 소년 그리고 그런 소년을 시험하는 탑</td>\n",
              "      <td>9.499</td>\n",
              "      <td>네이버 웹툰</td>\n",
              "    </tr>\n",
              "  </tbody>\n",
              "</table>\n",
              "</div>"
            ],
            "text/plain": [
              "   id title  ...  score platform\n",
              "0   0   참교육  ...  9.776   네이버 웹툰\n",
              "1   1  신의 탑  ...  9.499   네이버 웹툰\n",
              "\n",
              "[2 rows x 8 columns]"
            ]
          },
          "metadata": {},
          "execution_count": 35
        }
      ]
    },
    {
      "cell_type": "code",
      "metadata": {
        "colab": {
          "base_uri": "https://localhost:8080/",
          "height": 145
        },
        "id": "6uC0yEFghx4X",
        "outputId": "e1eadc1f-dad0-4943-e401-1352ced212b8"
      },
      "source": [
        "naver_c =  pd.read_csv(path+'NAVER_FINISH.csv',encoding=encoding)\n",
        "naver_c.insert(3,'day','완결')\n",
        "naver_c.head(2)"
      ],
      "execution_count": 37,
      "outputs": [
        {
          "output_type": "execute_result",
          "data": {
            "text/html": [
              "<div>\n",
              "<style scoped>\n",
              "    .dataframe tbody tr th:only-of-type {\n",
              "        vertical-align: middle;\n",
              "    }\n",
              "\n",
              "    .dataframe tbody tr th {\n",
              "        vertical-align: top;\n",
              "    }\n",
              "\n",
              "    .dataframe thead th {\n",
              "        text-align: right;\n",
              "    }\n",
              "</style>\n",
              "<table border=\"1\" class=\"dataframe\">\n",
              "  <thead>\n",
              "    <tr style=\"text-align: right;\">\n",
              "      <th></th>\n",
              "      <th>id</th>\n",
              "      <th>title</th>\n",
              "      <th>author</th>\n",
              "      <th>day</th>\n",
              "      <th>genre</th>\n",
              "      <th>story</th>\n",
              "      <th>score</th>\n",
              "      <th>platform</th>\n",
              "    </tr>\n",
              "  </thead>\n",
              "  <tbody>\n",
              "    <tr>\n",
              "      <th>0</th>\n",
              "      <td>0</td>\n",
              "      <td>국왕과 성기사의 약탈혼</td>\n",
              "      <td>이린비 / 박지은</td>\n",
              "      <td>완결</td>\n",
              "      <td>스토리, 로맨스</td>\n",
              "      <td>그래, 왕이 되었지. 가지고 싶은 건 다 빼앗아 가지려고. 왕위를 찬탈하고 주변국을...</td>\n",
              "      <td>9.78</td>\n",
              "      <td>네이버 웹툰</td>\n",
              "    </tr>\n",
              "    <tr>\n",
              "      <th>1</th>\n",
              "      <td>1</td>\n",
              "      <td>성경의 역사</td>\n",
              "      <td>최경민 / 영모</td>\n",
              "      <td>완결</td>\n",
              "      <td>스토리, 드라마</td>\n",
              "      <td>모두에게 사랑 받기에 모두가 증오하는 그녀, 성경 .원치않는 애정과 증오속에 성경의...</td>\n",
              "      <td>7.43</td>\n",
              "      <td>네이버 웹툰</td>\n",
              "    </tr>\n",
              "  </tbody>\n",
              "</table>\n",
              "</div>"
            ],
            "text/plain": [
              "   id         title  ... score platform\n",
              "0   0  국왕과 성기사의 약탈혼  ...  9.78   네이버 웹툰\n",
              "1   1        성경의 역사  ...  7.43   네이버 웹툰\n",
              "\n",
              "[2 rows x 8 columns]"
            ]
          },
          "metadata": {},
          "execution_count": 37
        }
      ]
    },
    {
      "cell_type": "code",
      "metadata": {
        "colab": {
          "base_uri": "https://localhost:8080/",
          "height": 145
        },
        "id": "rmtkxvLnh-bD",
        "outputId": "bc59b9bf-582d-4faf-cfda-11b2e912d925"
      },
      "source": [
        "naver = pd.concat([naver_w,naver_c])\n",
        "naver.tail(2)"
      ],
      "execution_count": 38,
      "outputs": [
        {
          "output_type": "execute_result",
          "data": {
            "text/html": [
              "<div>\n",
              "<style scoped>\n",
              "    .dataframe tbody tr th:only-of-type {\n",
              "        vertical-align: middle;\n",
              "    }\n",
              "\n",
              "    .dataframe tbody tr th {\n",
              "        vertical-align: top;\n",
              "    }\n",
              "\n",
              "    .dataframe thead th {\n",
              "        text-align: right;\n",
              "    }\n",
              "</style>\n",
              "<table border=\"1\" class=\"dataframe\">\n",
              "  <thead>\n",
              "    <tr style=\"text-align: right;\">\n",
              "      <th></th>\n",
              "      <th>id</th>\n",
              "      <th>title</th>\n",
              "      <th>author</th>\n",
              "      <th>day</th>\n",
              "      <th>genre</th>\n",
              "      <th>story</th>\n",
              "      <th>score</th>\n",
              "      <th>platform</th>\n",
              "    </tr>\n",
              "  </thead>\n",
              "  <tbody>\n",
              "    <tr>\n",
              "      <th>1023</th>\n",
              "      <td>1023</td>\n",
              "      <td>와탕카</td>\n",
              "      <td>우주인</td>\n",
              "      <td>완결</td>\n",
              "      <td>에피소드, 개그</td>\n",
              "      <td>와탕카 만세 , 지화자 좋은 패가 들어오면 외치는 단어 와탕카! 우주인 작가님의 불...</td>\n",
              "      <td>9.63</td>\n",
              "      <td>네이버 웹툰</td>\n",
              "    </tr>\n",
              "    <tr>\n",
              "      <th>1024</th>\n",
              "      <td>1024</td>\n",
              "      <td>타투</td>\n",
              "      <td>노지현</td>\n",
              "      <td>완결</td>\n",
              "      <td>옴니버스, 드라마</td>\n",
              "      <td>밝고 쾌활한 여고생 현진과 새로 오픈한 타투 가게의 진우, 유기를 중심으로 벌어지는...</td>\n",
              "      <td>9.20</td>\n",
              "      <td>네이버 웹툰</td>\n",
              "    </tr>\n",
              "  </tbody>\n",
              "</table>\n",
              "</div>"
            ],
            "text/plain": [
              "        id title  ... score platform\n",
              "1023  1023   와탕카  ...  9.63   네이버 웹툰\n",
              "1024  1024    타투  ...  9.20   네이버 웹툰\n",
              "\n",
              "[2 rows x 8 columns]"
            ]
          },
          "metadata": {},
          "execution_count": 38
        }
      ]
    },
    {
      "cell_type": "code",
      "metadata": {
        "colab": {
          "base_uri": "https://localhost:8080/",
          "height": 210
        },
        "id": "ornqxKOriRW5",
        "outputId": "1cb5fa1b-67f1-4452-a941-e597d2ca3d5b"
      },
      "source": [
        "naver.drop(columns=['writer','illustrator'],inplace=True)\n",
        "naver.insert(2, 'writer', 0)\n",
        "naver.insert(3, 'illustrator', 1)\n",
        "\n",
        "# 글 작가, 그림 작가 나누기\n",
        "naver['writer'], naver['illustrator'] = zip(*naver['author'].apply(lambda x:[x.strip() for x in x.split('/')] if '/' in x else [x, x]))\n",
        "naver.drop(columns='author', inplace=True)\n",
        "naver.head(3)"
      ],
      "execution_count": 42,
      "outputs": [
        {
          "output_type": "execute_result",
          "data": {
            "text/html": [
              "<div>\n",
              "<style scoped>\n",
              "    .dataframe tbody tr th:only-of-type {\n",
              "        vertical-align: middle;\n",
              "    }\n",
              "\n",
              "    .dataframe tbody tr th {\n",
              "        vertical-align: top;\n",
              "    }\n",
              "\n",
              "    .dataframe thead th {\n",
              "        text-align: right;\n",
              "    }\n",
              "</style>\n",
              "<table border=\"1\" class=\"dataframe\">\n",
              "  <thead>\n",
              "    <tr style=\"text-align: right;\">\n",
              "      <th></th>\n",
              "      <th>id</th>\n",
              "      <th>title</th>\n",
              "      <th>writer</th>\n",
              "      <th>illustrator</th>\n",
              "      <th>day</th>\n",
              "      <th>genre</th>\n",
              "      <th>story</th>\n",
              "      <th>score</th>\n",
              "      <th>platform</th>\n",
              "    </tr>\n",
              "  </thead>\n",
              "  <tbody>\n",
              "    <tr>\n",
              "      <th>0</th>\n",
              "      <td>0</td>\n",
              "      <td>참교육</td>\n",
              "      <td>채용택</td>\n",
              "      <td>한가람</td>\n",
              "      <td>월</td>\n",
              "      <td>스토리, 액션</td>\n",
              "      <td>무너진 교권을 지키기 위해 교권보호국 소속 나화진의 참교육이 시작된다! 부활남 채용...</td>\n",
              "      <td>9.776</td>\n",
              "      <td>네이버 웹툰</td>\n",
              "    </tr>\n",
              "    <tr>\n",
              "      <th>1</th>\n",
              "      <td>1</td>\n",
              "      <td>신의 탑</td>\n",
              "      <td>SIU</td>\n",
              "      <td>SIU</td>\n",
              "      <td>월</td>\n",
              "      <td>스토리, 판타지</td>\n",
              "      <td>자신의 모든 것이었던 소녀를 쫓아 탑에 들어온 소년 그리고 그런 소년을 시험하는 탑</td>\n",
              "      <td>9.499</td>\n",
              "      <td>네이버 웹툰</td>\n",
              "    </tr>\n",
              "    <tr>\n",
              "      <th>2</th>\n",
              "      <td>2</td>\n",
              "      <td>뷰티풀 군바리</td>\n",
              "      <td>설이</td>\n",
              "      <td>윤성원</td>\n",
              "      <td>월</td>\n",
              "      <td>스토리, 드라마</td>\n",
              "      <td>여자도 군대에 간다면? 본격 여자도 군대 가는 만화!</td>\n",
              "      <td>9.660</td>\n",
              "      <td>네이버 웹툰</td>\n",
              "    </tr>\n",
              "  </tbody>\n",
              "</table>\n",
              "</div>"
            ],
            "text/plain": [
              "   id    title  ...  score platform\n",
              "0   0      참교육  ...  9.776   네이버 웹툰\n",
              "1   1     신의 탑  ...  9.499   네이버 웹툰\n",
              "2   2  뷰티풀 군바리  ...  9.660   네이버 웹툰\n",
              "\n",
              "[3 rows x 9 columns]"
            ]
          },
          "metadata": {},
          "execution_count": 42
        }
      ]
    },
    {
      "cell_type": "code",
      "metadata": {
        "id": "z_0PBhZajUEj"
      },
      "source": [
        "naver.drop(columns=['id','score'],inplace=True)"
      ],
      "execution_count": 43,
      "outputs": []
    },
    {
      "cell_type": "code",
      "metadata": {
        "colab": {
          "base_uri": "https://localhost:8080/",
          "height": 145
        },
        "id": "bh2jczWfjstK",
        "outputId": "8a4db509-516a-409f-c6e3-781ce08354ce"
      },
      "source": [
        "naver.head(2)"
      ],
      "execution_count": 44,
      "outputs": [
        {
          "output_type": "execute_result",
          "data": {
            "text/html": [
              "<div>\n",
              "<style scoped>\n",
              "    .dataframe tbody tr th:only-of-type {\n",
              "        vertical-align: middle;\n",
              "    }\n",
              "\n",
              "    .dataframe tbody tr th {\n",
              "        vertical-align: top;\n",
              "    }\n",
              "\n",
              "    .dataframe thead th {\n",
              "        text-align: right;\n",
              "    }\n",
              "</style>\n",
              "<table border=\"1\" class=\"dataframe\">\n",
              "  <thead>\n",
              "    <tr style=\"text-align: right;\">\n",
              "      <th></th>\n",
              "      <th>title</th>\n",
              "      <th>writer</th>\n",
              "      <th>illustrator</th>\n",
              "      <th>day</th>\n",
              "      <th>genre</th>\n",
              "      <th>story</th>\n",
              "      <th>platform</th>\n",
              "    </tr>\n",
              "  </thead>\n",
              "  <tbody>\n",
              "    <tr>\n",
              "      <th>0</th>\n",
              "      <td>참교육</td>\n",
              "      <td>채용택</td>\n",
              "      <td>한가람</td>\n",
              "      <td>월</td>\n",
              "      <td>스토리, 액션</td>\n",
              "      <td>무너진 교권을 지키기 위해 교권보호국 소속 나화진의 참교육이 시작된다! 부활남 채용...</td>\n",
              "      <td>네이버 웹툰</td>\n",
              "    </tr>\n",
              "    <tr>\n",
              "      <th>1</th>\n",
              "      <td>신의 탑</td>\n",
              "      <td>SIU</td>\n",
              "      <td>SIU</td>\n",
              "      <td>월</td>\n",
              "      <td>스토리, 판타지</td>\n",
              "      <td>자신의 모든 것이었던 소녀를 쫓아 탑에 들어온 소년 그리고 그런 소년을 시험하는 탑</td>\n",
              "      <td>네이버 웹툰</td>\n",
              "    </tr>\n",
              "  </tbody>\n",
              "</table>\n",
              "</div>"
            ],
            "text/plain": [
              "  title writer  ...                                              story platform\n",
              "0   참교육    채용택  ...  무너진 교권을 지키기 위해 교권보호국 소속 나화진의 참교육이 시작된다! 부활남 채용...   네이버 웹툰\n",
              "1  신의 탑    SIU  ...     자신의 모든 것이었던 소녀를 쫓아 탑에 들어온 소년 그리고 그런 소년을 시험하는 탑   네이버 웹툰\n",
              "\n",
              "[2 rows x 7 columns]"
            ]
          },
          "metadata": {},
          "execution_count": 44
        }
      ]
    },
    {
      "cell_type": "code",
      "metadata": {
        "colab": {
          "base_uri": "https://localhost:8080/",
          "height": 162
        },
        "id": "vAwhT6ufjvph",
        "outputId": "b99df0da-f311-43f7-b7f6-1356471fbe3b"
      },
      "source": [
        "kww = pd.read_csv(path + 'kakao.csv',encoding=encoding)\n",
        "kww.head(2)"
      ],
      "execution_count": 46,
      "outputs": [
        {
          "output_type": "execute_result",
          "data": {
            "text/html": [
              "<div>\n",
              "<style scoped>\n",
              "    .dataframe tbody tr th:only-of-type {\n",
              "        vertical-align: middle;\n",
              "    }\n",
              "\n",
              "    .dataframe tbody tr th {\n",
              "        vertical-align: top;\n",
              "    }\n",
              "\n",
              "    .dataframe thead th {\n",
              "        text-align: right;\n",
              "    }\n",
              "</style>\n",
              "<table border=\"1\" class=\"dataframe\">\n",
              "  <thead>\n",
              "    <tr style=\"text-align: right;\">\n",
              "      <th></th>\n",
              "      <th>Unnamed: 0</th>\n",
              "      <th>title</th>\n",
              "      <th>day</th>\n",
              "      <th>genre</th>\n",
              "      <th>story</th>\n",
              "      <th>platform</th>\n",
              "    </tr>\n",
              "  </thead>\n",
              "  <tbody>\n",
              "    <tr>\n",
              "      <th>0</th>\n",
              "      <td>0</td>\n",
              "      <td>바니와 오빠들</td>\n",
              "      <td>월</td>\n",
              "      <td>NaN</td>\n",
              "      <td>외모 따지지 않는 개념녀 ? 아니, 나 완전 얼빠 야! 신입생 시절, 남자의 외모를...</td>\n",
              "      <td>카카오웹툰</td>\n",
              "    </tr>\n",
              "    <tr>\n",
              "      <th>1</th>\n",
              "      <td>1</td>\n",
              "      <td>사귄 건 아닌데</td>\n",
              "      <td>월</td>\n",
              "      <td>NaN</td>\n",
              "      <td>스물아홉 살, 서른을 목전에 둔 나이. 고수아는 그 나이가 괜히 심란하다. 고향을 ...</td>\n",
              "      <td>카카오웹툰</td>\n",
              "    </tr>\n",
              "  </tbody>\n",
              "</table>\n",
              "</div>"
            ],
            "text/plain": [
              "   Unnamed: 0  ... platform\n",
              "0           0  ...    카카오웹툰\n",
              "1           1  ...    카카오웹툰\n",
              "\n",
              "[2 rows x 6 columns]"
            ]
          },
          "metadata": {},
          "execution_count": 46
        }
      ]
    },
    {
      "cell_type": "code",
      "metadata": {
        "colab": {
          "base_uri": "https://localhost:8080/",
          "height": 179
        },
        "id": "FeqS8j4vmRCj",
        "outputId": "c330e9f4-71c5-4d68-ed2a-b9da39d71118"
      },
      "source": [
        "kwp = pd.read_csv(path + 'kakao_completed.csv',encoding=encoding)\n",
        "kwp.head(2)"
      ],
      "execution_count": 47,
      "outputs": [
        {
          "output_type": "execute_result",
          "data": {
            "text/html": [
              "<div>\n",
              "<style scoped>\n",
              "    .dataframe tbody tr th:only-of-type {\n",
              "        vertical-align: middle;\n",
              "    }\n",
              "\n",
              "    .dataframe tbody tr th {\n",
              "        vertical-align: top;\n",
              "    }\n",
              "\n",
              "    .dataframe thead th {\n",
              "        text-align: right;\n",
              "    }\n",
              "</style>\n",
              "<table border=\"1\" class=\"dataframe\">\n",
              "  <thead>\n",
              "    <tr style=\"text-align: right;\">\n",
              "      <th></th>\n",
              "      <th>Unnamed: 0</th>\n",
              "      <th>title</th>\n",
              "      <th>day</th>\n",
              "      <th>genre</th>\n",
              "      <th>story</th>\n",
              "      <th>platform</th>\n",
              "      <th>Thumbnail</th>\n",
              "    </tr>\n",
              "  </thead>\n",
              "  <tbody>\n",
              "    <tr>\n",
              "      <th>0</th>\n",
              "      <td>0</td>\n",
              "      <td>밤의 향</td>\n",
              "      <td>완결</td>\n",
              "      <td>NaN</td>\n",
              "      <td>당신의 살내음과 여름밤의 향기를 난 평생 잊지 않을 거에요</td>\n",
              "      <td>카카오웹툰</td>\n",
              "      <td>https://kr-a.kakaopagecdn.com/P/C/1532/c2/2x/6...</td>\n",
              "    </tr>\n",
              "    <tr>\n",
              "      <th>1</th>\n",
              "      <td>1</td>\n",
              "      <td>토이 콤플렉스</td>\n",
              "      <td>완결</td>\n",
              "      <td>NaN</td>\n",
              "      <td>혹시 오늘 밤, 나와 함께 보내줄 수 있나요?</td>\n",
              "      <td>카카오웹툰</td>\n",
              "      <td>https://kr-a.kakaopagecdn.com/P/C/1683/c2/2x/1...</td>\n",
              "    </tr>\n",
              "  </tbody>\n",
              "</table>\n",
              "</div>"
            ],
            "text/plain": [
              "   Unnamed: 0  ...                                          Thumbnail\n",
              "0           0  ...  https://kr-a.kakaopagecdn.com/P/C/1532/c2/2x/6...\n",
              "1           1  ...  https://kr-a.kakaopagecdn.com/P/C/1683/c2/2x/1...\n",
              "\n",
              "[2 rows x 7 columns]"
            ]
          },
          "metadata": {},
          "execution_count": 47
        }
      ]
    },
    {
      "cell_type": "code",
      "metadata": {
        "colab": {
          "base_uri": "https://localhost:8080/",
          "height": 162
        },
        "id": "kLcKqWFLmfB6",
        "outputId": "09752b91-7cd0-4df1-cdb4-ddc348a03454"
      },
      "source": [
        "kw = pd.concat([kww,kwp])\n",
        "kw.head(2)"
      ],
      "execution_count": 48,
      "outputs": [
        {
          "output_type": "execute_result",
          "data": {
            "text/html": [
              "<div>\n",
              "<style scoped>\n",
              "    .dataframe tbody tr th:only-of-type {\n",
              "        vertical-align: middle;\n",
              "    }\n",
              "\n",
              "    .dataframe tbody tr th {\n",
              "        vertical-align: top;\n",
              "    }\n",
              "\n",
              "    .dataframe thead th {\n",
              "        text-align: right;\n",
              "    }\n",
              "</style>\n",
              "<table border=\"1\" class=\"dataframe\">\n",
              "  <thead>\n",
              "    <tr style=\"text-align: right;\">\n",
              "      <th></th>\n",
              "      <th>Unnamed: 0</th>\n",
              "      <th>title</th>\n",
              "      <th>day</th>\n",
              "      <th>genre</th>\n",
              "      <th>story</th>\n",
              "      <th>platform</th>\n",
              "      <th>Thumbnail</th>\n",
              "    </tr>\n",
              "  </thead>\n",
              "  <tbody>\n",
              "    <tr>\n",
              "      <th>0</th>\n",
              "      <td>0</td>\n",
              "      <td>바니와 오빠들</td>\n",
              "      <td>월</td>\n",
              "      <td>NaN</td>\n",
              "      <td>외모 따지지 않는 개념녀 ? 아니, 나 완전 얼빠 야! 신입생 시절, 남자의 외모를...</td>\n",
              "      <td>카카오웹툰</td>\n",
              "      <td>NaN</td>\n",
              "    </tr>\n",
              "    <tr>\n",
              "      <th>1</th>\n",
              "      <td>1</td>\n",
              "      <td>사귄 건 아닌데</td>\n",
              "      <td>월</td>\n",
              "      <td>NaN</td>\n",
              "      <td>스물아홉 살, 서른을 목전에 둔 나이. 고수아는 그 나이가 괜히 심란하다. 고향을 ...</td>\n",
              "      <td>카카오웹툰</td>\n",
              "      <td>NaN</td>\n",
              "    </tr>\n",
              "  </tbody>\n",
              "</table>\n",
              "</div>"
            ],
            "text/plain": [
              "   Unnamed: 0     title  ... platform  Thumbnail\n",
              "0           0   바니와 오빠들  ...    카카오웹툰        NaN\n",
              "1           1  사귄 건 아닌데  ...    카카오웹툰        NaN\n",
              "\n",
              "[2 rows x 7 columns]"
            ]
          },
          "metadata": {},
          "execution_count": 48
        }
      ]
    },
    {
      "cell_type": "code",
      "metadata": {
        "id": "jM3YYQNrmyii"
      },
      "source": [
        "kw.drop(columns=['Unnamed: 0','Thumbnail'],inplace=True)"
      ],
      "execution_count": 49,
      "outputs": []
    },
    {
      "cell_type": "code",
      "metadata": {
        "colab": {
          "base_uri": "https://localhost:8080/",
          "height": 128
        },
        "id": "8CyE11-vnA7p",
        "outputId": "92295c77-79e1-42f7-911e-348d0397689f"
      },
      "source": [
        "kw.head(2)"
      ],
      "execution_count": 50,
      "outputs": [
        {
          "output_type": "execute_result",
          "data": {
            "text/html": [
              "<div>\n",
              "<style scoped>\n",
              "    .dataframe tbody tr th:only-of-type {\n",
              "        vertical-align: middle;\n",
              "    }\n",
              "\n",
              "    .dataframe tbody tr th {\n",
              "        vertical-align: top;\n",
              "    }\n",
              "\n",
              "    .dataframe thead th {\n",
              "        text-align: right;\n",
              "    }\n",
              "</style>\n",
              "<table border=\"1\" class=\"dataframe\">\n",
              "  <thead>\n",
              "    <tr style=\"text-align: right;\">\n",
              "      <th></th>\n",
              "      <th>title</th>\n",
              "      <th>day</th>\n",
              "      <th>genre</th>\n",
              "      <th>story</th>\n",
              "      <th>platform</th>\n",
              "    </tr>\n",
              "  </thead>\n",
              "  <tbody>\n",
              "    <tr>\n",
              "      <th>0</th>\n",
              "      <td>바니와 오빠들</td>\n",
              "      <td>월</td>\n",
              "      <td>NaN</td>\n",
              "      <td>외모 따지지 않는 개념녀 ? 아니, 나 완전 얼빠 야! 신입생 시절, 남자의 외모를...</td>\n",
              "      <td>카카오웹툰</td>\n",
              "    </tr>\n",
              "    <tr>\n",
              "      <th>1</th>\n",
              "      <td>사귄 건 아닌데</td>\n",
              "      <td>월</td>\n",
              "      <td>NaN</td>\n",
              "      <td>스물아홉 살, 서른을 목전에 둔 나이. 고수아는 그 나이가 괜히 심란하다. 고향을 ...</td>\n",
              "      <td>카카오웹툰</td>\n",
              "    </tr>\n",
              "  </tbody>\n",
              "</table>\n",
              "</div>"
            ],
            "text/plain": [
              "      title day  ...                                              story platform\n",
              "0   바니와 오빠들   월  ...  외모 따지지 않는 개념녀 ? 아니, 나 완전 얼빠 야! 신입생 시절, 남자의 외모를...    카카오웹툰\n",
              "1  사귄 건 아닌데   월  ...  스물아홉 살, 서른을 목전에 둔 나이. 고수아는 그 나이가 괜히 심란하다. 고향을 ...    카카오웹툰\n",
              "\n",
              "[2 rows x 5 columns]"
            ]
          },
          "metadata": {},
          "execution_count": 50
        }
      ]
    },
    {
      "cell_type": "code",
      "metadata": {
        "colab": {
          "base_uri": "https://localhost:8080/",
          "height": 145
        },
        "id": "BzYMOrfonDWh",
        "outputId": "63d0ef18-eef4-4e73-9f71-88cc459e1039"
      },
      "source": [
        "kw.genre.fillna('정보없음',inplace=True)\n",
        "kw.head(2)"
      ],
      "execution_count": 51,
      "outputs": [
        {
          "output_type": "execute_result",
          "data": {
            "text/html": [
              "<div>\n",
              "<style scoped>\n",
              "    .dataframe tbody tr th:only-of-type {\n",
              "        vertical-align: middle;\n",
              "    }\n",
              "\n",
              "    .dataframe tbody tr th {\n",
              "        vertical-align: top;\n",
              "    }\n",
              "\n",
              "    .dataframe thead th {\n",
              "        text-align: right;\n",
              "    }\n",
              "</style>\n",
              "<table border=\"1\" class=\"dataframe\">\n",
              "  <thead>\n",
              "    <tr style=\"text-align: right;\">\n",
              "      <th></th>\n",
              "      <th>title</th>\n",
              "      <th>day</th>\n",
              "      <th>genre</th>\n",
              "      <th>story</th>\n",
              "      <th>platform</th>\n",
              "    </tr>\n",
              "  </thead>\n",
              "  <tbody>\n",
              "    <tr>\n",
              "      <th>0</th>\n",
              "      <td>바니와 오빠들</td>\n",
              "      <td>월</td>\n",
              "      <td>정보없음</td>\n",
              "      <td>외모 따지지 않는 개념녀 ? 아니, 나 완전 얼빠 야! 신입생 시절, 남자의 외모를...</td>\n",
              "      <td>카카오웹툰</td>\n",
              "    </tr>\n",
              "    <tr>\n",
              "      <th>1</th>\n",
              "      <td>사귄 건 아닌데</td>\n",
              "      <td>월</td>\n",
              "      <td>정보없음</td>\n",
              "      <td>스물아홉 살, 서른을 목전에 둔 나이. 고수아는 그 나이가 괜히 심란하다. 고향을 ...</td>\n",
              "      <td>카카오웹툰</td>\n",
              "    </tr>\n",
              "  </tbody>\n",
              "</table>\n",
              "</div>"
            ],
            "text/plain": [
              "      title day  ...                                              story platform\n",
              "0   바니와 오빠들   월  ...  외모 따지지 않는 개념녀 ? 아니, 나 완전 얼빠 야! 신입생 시절, 남자의 외모를...    카카오웹툰\n",
              "1  사귄 건 아닌데   월  ...  스물아홉 살, 서른을 목전에 둔 나이. 고수아는 그 나이가 괜히 심란하다. 고향을 ...    카카오웹툰\n",
              "\n",
              "[2 rows x 5 columns]"
            ]
          },
          "metadata": {},
          "execution_count": 51
        }
      ]
    },
    {
      "cell_type": "code",
      "metadata": {
        "colab": {
          "base_uri": "https://localhost:8080/"
        },
        "id": "9HQj0FvUojwl",
        "outputId": "6be56cf3-afce-441d-9516-5f5c276554f6"
      },
      "source": [
        "kw.title.value_counts()"
      ],
      "execution_count": 56,
      "outputs": [
        {
          "output_type": "execute_result",
          "data": {
            "text/plain": [
              "니니툰즈                               5\n",
              "이토록 보통의                            2\n",
              "아버지의 복수는 끝이 없어라                    2\n",
              "폭군황제의 첫사랑                          2\n",
              "조국이 당신을 원한다                        2\n",
              "                                  ..\n",
              "리세터                                1\n",
              "개같은 세상                             1\n",
              "지옥에서                               1\n",
              "시월드 게임 -please save my husband-    1\n",
              "미래의 너에게                            1\n",
              "Name: title, Length: 817, dtype: int64"
            ]
          },
          "metadata": {},
          "execution_count": 56
        }
      ]
    },
    {
      "cell_type": "code",
      "metadata": {
        "colab": {
          "base_uri": "https://localhost:8080/",
          "height": 145
        },
        "id": "3lhKEhAmonYr",
        "outputId": "19d362a5-2c47-4285-8fef-bf7e5b048c36"
      },
      "source": [
        "kw[kw.title=='아버지의 복수는 끝이 없어라']"
      ],
      "execution_count": 58,
      "outputs": [
        {
          "output_type": "execute_result",
          "data": {
            "text/html": [
              "<div>\n",
              "<style scoped>\n",
              "    .dataframe tbody tr th:only-of-type {\n",
              "        vertical-align: middle;\n",
              "    }\n",
              "\n",
              "    .dataframe tbody tr th {\n",
              "        vertical-align: top;\n",
              "    }\n",
              "\n",
              "    .dataframe thead th {\n",
              "        text-align: right;\n",
              "    }\n",
              "</style>\n",
              "<table border=\"1\" class=\"dataframe\">\n",
              "  <thead>\n",
              "    <tr style=\"text-align: right;\">\n",
              "      <th></th>\n",
              "      <th>title</th>\n",
              "      <th>day</th>\n",
              "      <th>genre</th>\n",
              "      <th>story</th>\n",
              "      <th>platform</th>\n",
              "    </tr>\n",
              "  </thead>\n",
              "  <tbody>\n",
              "    <tr>\n",
              "      <th>79</th>\n",
              "      <td>아버지의 복수는 끝이 없어라</td>\n",
              "      <td>수</td>\n",
              "      <td>정보없음</td>\n",
              "      <td>30년 간 묵혀있던 비극이 복수로 깨어났다 . 도훈은 치매에 걸린 할머니 소식을 듣...</td>\n",
              "      <td>카카오웹툰</td>\n",
              "    </tr>\n",
              "    <tr>\n",
              "      <th>51</th>\n",
              "      <td>아버지의 복수는 끝이 없어라</td>\n",
              "      <td>완결</td>\n",
              "      <td>정보없음</td>\n",
              "      <td>30년 간 묵혀있던 비극이 복수로 깨어났다 . 도훈은 치매에 걸린 할머니 소식을 듣...</td>\n",
              "      <td>카카오웹툰</td>\n",
              "    </tr>\n",
              "  </tbody>\n",
              "</table>\n",
              "</div>"
            ],
            "text/plain": [
              "              title  ... platform\n",
              "79  아버지의 복수는 끝이 없어라  ...    카카오웹툰\n",
              "51  아버지의 복수는 끝이 없어라  ...    카카오웹툰\n",
              "\n",
              "[2 rows x 5 columns]"
            ]
          },
          "metadata": {},
          "execution_count": 58
        }
      ]
    },
    {
      "cell_type": "code",
      "metadata": {
        "colab": {
          "base_uri": "https://localhost:8080/",
          "height": 145
        },
        "id": "tzsPxJX6pbZq",
        "outputId": "3c342fef-7c44-482d-bb97-41c72336b43f"
      },
      "source": [
        "kw[kw.title=='조국이 당신을 원한다']"
      ],
      "execution_count": 59,
      "outputs": [
        {
          "output_type": "execute_result",
          "data": {
            "text/html": [
              "<div>\n",
              "<style scoped>\n",
              "    .dataframe tbody tr th:only-of-type {\n",
              "        vertical-align: middle;\n",
              "    }\n",
              "\n",
              "    .dataframe tbody tr th {\n",
              "        vertical-align: top;\n",
              "    }\n",
              "\n",
              "    .dataframe thead th {\n",
              "        text-align: right;\n",
              "    }\n",
              "</style>\n",
              "<table border=\"1\" class=\"dataframe\">\n",
              "  <thead>\n",
              "    <tr style=\"text-align: right;\">\n",
              "      <th></th>\n",
              "      <th>title</th>\n",
              "      <th>day</th>\n",
              "      <th>genre</th>\n",
              "      <th>story</th>\n",
              "      <th>platform</th>\n",
              "    </tr>\n",
              "  </thead>\n",
              "  <tbody>\n",
              "    <tr>\n",
              "      <th>80</th>\n",
              "      <td>조국이 당신을 원한다</td>\n",
              "      <td>수</td>\n",
              "      <td>정보없음</td>\n",
              "      <td>집 떠나 열차 타고 훈련소로 가는 길... 내겐 없을 줄 알았다. 올해는 헤어지길 ...</td>\n",
              "      <td>카카오웹툰</td>\n",
              "    </tr>\n",
              "    <tr>\n",
              "      <th>106</th>\n",
              "      <td>조국이 당신을 원한다</td>\n",
              "      <td>목</td>\n",
              "      <td>정보없음</td>\n",
              "      <td>집 떠나 열차 타고 훈련소로 가는 길... 내겐 없을 줄 알았다. 올해는 헤어지길 ...</td>\n",
              "      <td>카카오웹툰</td>\n",
              "    </tr>\n",
              "  </tbody>\n",
              "</table>\n",
              "</div>"
            ],
            "text/plain": [
              "           title  ... platform\n",
              "80   조국이 당신을 원한다  ...    카카오웹툰\n",
              "106  조국이 당신을 원한다  ...    카카오웹툰\n",
              "\n",
              "[2 rows x 5 columns]"
            ]
          },
          "metadata": {},
          "execution_count": 59
        }
      ]
    },
    {
      "cell_type": "code",
      "metadata": {
        "id": "ivB2bO4cnh1s"
      },
      "source": [
        "test=pd.concat([naver,kp,kw])"
      ],
      "execution_count": 53,
      "outputs": []
    },
    {
      "cell_type": "code",
      "metadata": {
        "colab": {
          "base_uri": "https://localhost:8080/"
        },
        "id": "RcmDWUKtnxpB",
        "outputId": "ea9a4574-76cf-4a08-c1c1-8e17e4dc54df"
      },
      "source": [
        "test.title.value_counts()"
      ],
      "execution_count": 54,
      "outputs": [
        {
          "output_type": "execute_result",
          "data": {
            "text/plain": [
              "니니툰즈               6\n",
              "폭군황제의 첫사랑          3\n",
              "트리거                3\n",
              "조국이 당신을 원한다        3\n",
              "갱스쿨                3\n",
              "                  ..\n",
              "최강전설 강해효           1\n",
              "백작가의 망나니가 되었다      1\n",
              "까치우는 날             1\n",
              "킬링타임               1\n",
              "[드라마원작] 한번 더 해요    1\n",
              "Name: title, Length: 3891, dtype: int64"
            ]
          },
          "metadata": {},
          "execution_count": 54
        }
      ]
    },
    {
      "cell_type": "code",
      "metadata": {
        "colab": {
          "base_uri": "https://localhost:8080/",
          "height": 337
        },
        "id": "NEmOomgWoIT8",
        "outputId": "0d1be503-c725-46c6-f2d4-f53110041aa9"
      },
      "source": [
        "test[test.title=='니니툰즈']"
      ],
      "execution_count": 55,
      "outputs": [
        {
          "output_type": "execute_result",
          "data": {
            "text/html": [
              "<div>\n",
              "<style scoped>\n",
              "    .dataframe tbody tr th:only-of-type {\n",
              "        vertical-align: middle;\n",
              "    }\n",
              "\n",
              "    .dataframe tbody tr th {\n",
              "        vertical-align: top;\n",
              "    }\n",
              "\n",
              "    .dataframe thead th {\n",
              "        text-align: right;\n",
              "    }\n",
              "</style>\n",
              "<table border=\"1\" class=\"dataframe\">\n",
              "  <thead>\n",
              "    <tr style=\"text-align: right;\">\n",
              "      <th></th>\n",
              "      <th>title</th>\n",
              "      <th>writer</th>\n",
              "      <th>illustrator</th>\n",
              "      <th>day</th>\n",
              "      <th>genre</th>\n",
              "      <th>story</th>\n",
              "      <th>platform</th>\n",
              "    </tr>\n",
              "  </thead>\n",
              "  <tbody>\n",
              "    <tr>\n",
              "      <th>46</th>\n",
              "      <td>니니툰즈</td>\n",
              "      <td>니니즈</td>\n",
              "      <td>OOO</td>\n",
              "      <td>월, 화, 수, 목, 금</td>\n",
              "      <td>드라마만화</td>\n",
              "      <td>베일에 쌓인 스노우타운. 지금까지 숨겨왔던 니니즈의 수줍은 귀여움이 공개된다. 코미...</td>\n",
              "      <td>카카오페이지</td>\n",
              "    </tr>\n",
              "    <tr>\n",
              "      <th>16</th>\n",
              "      <td>니니툰즈</td>\n",
              "      <td>NaN</td>\n",
              "      <td>NaN</td>\n",
              "      <td>월</td>\n",
              "      <td>정보없음</td>\n",
              "      <td>베일에 쌓인 스노우타운. 지금까지 숨겨왔던 니니즈의 수줍은 귀여움이 공개된다. 코미...</td>\n",
              "      <td>카카오웹툰</td>\n",
              "    </tr>\n",
              "    <tr>\n",
              "      <th>45</th>\n",
              "      <td>니니툰즈</td>\n",
              "      <td>NaN</td>\n",
              "      <td>NaN</td>\n",
              "      <td>화</td>\n",
              "      <td>정보없음</td>\n",
              "      <td>베일에 쌓인 스노우타운. 지금까지 숨겨왔던 니니즈의 수줍은 귀여움이 공개된다. 코미...</td>\n",
              "      <td>카카오웹툰</td>\n",
              "    </tr>\n",
              "    <tr>\n",
              "      <th>71</th>\n",
              "      <td>니니툰즈</td>\n",
              "      <td>NaN</td>\n",
              "      <td>NaN</td>\n",
              "      <td>수</td>\n",
              "      <td>정보없음</td>\n",
              "      <td>베일에 쌓인 스노우타운. 지금까지 숨겨왔던 니니즈의 수줍은 귀여움이 공개된다. 코미...</td>\n",
              "      <td>카카오웹툰</td>\n",
              "    </tr>\n",
              "    <tr>\n",
              "      <th>98</th>\n",
              "      <td>니니툰즈</td>\n",
              "      <td>NaN</td>\n",
              "      <td>NaN</td>\n",
              "      <td>목</td>\n",
              "      <td>정보없음</td>\n",
              "      <td>베일에 쌓인 스노우타운. 지금까지 숨겨왔던 니니즈의 수줍은 귀여움이 공개된다. 코미...</td>\n",
              "      <td>카카오웹툰</td>\n",
              "    </tr>\n",
              "    <tr>\n",
              "      <th>127</th>\n",
              "      <td>니니툰즈</td>\n",
              "      <td>NaN</td>\n",
              "      <td>NaN</td>\n",
              "      <td>금</td>\n",
              "      <td>정보없음</td>\n",
              "      <td>베일에 쌓인 스노우타운. 지금까지 숨겨왔던 니니즈의 수줍은 귀여움이 공개된다. 코미...</td>\n",
              "      <td>카카오웹툰</td>\n",
              "    </tr>\n",
              "  </tbody>\n",
              "</table>\n",
              "</div>"
            ],
            "text/plain": [
              "    title writer  ...                                              story platform\n",
              "46   니니툰즈    니니즈  ...  베일에 쌓인 스노우타운. 지금까지 숨겨왔던 니니즈의 수줍은 귀여움이 공개된다. 코미...   카카오페이지\n",
              "16   니니툰즈    NaN  ...  베일에 쌓인 스노우타운. 지금까지 숨겨왔던 니니즈의 수줍은 귀여움이 공개된다. 코미...    카카오웹툰\n",
              "45   니니툰즈    NaN  ...  베일에 쌓인 스노우타운. 지금까지 숨겨왔던 니니즈의 수줍은 귀여움이 공개된다. 코미...    카카오웹툰\n",
              "71   니니툰즈    NaN  ...  베일에 쌓인 스노우타운. 지금까지 숨겨왔던 니니즈의 수줍은 귀여움이 공개된다. 코미...    카카오웹툰\n",
              "98   니니툰즈    NaN  ...  베일에 쌓인 스노우타운. 지금까지 숨겨왔던 니니즈의 수줍은 귀여움이 공개된다. 코미...    카카오웹툰\n",
              "127  니니툰즈    NaN  ...  베일에 쌓인 스노우타운. 지금까지 숨겨왔던 니니즈의 수줍은 귀여움이 공개된다. 코미...    카카오웹툰\n",
              "\n",
              "[6 rows x 7 columns]"
            ]
          },
          "metadata": {},
          "execution_count": 55
        }
      ]
    },
    {
      "cell_type": "code",
      "metadata": {
        "id": "CPzepNOdoP-p"
      },
      "source": [
        "test.to_csv('test.csv',encoding='utf-8',index=False)"
      ],
      "execution_count": 60,
      "outputs": []
    },
    {
      "cell_type": "code",
      "metadata": {
        "id": "SO2u4EuJrF_K"
      },
      "source": [
        ""
      ],
      "execution_count": null,
      "outputs": []
    }
  ]
}