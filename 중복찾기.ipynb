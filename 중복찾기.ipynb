{
  "nbformat": 4,
  "nbformat_minor": 0,
  "metadata": {
    "colab": {
      "name": "중복찾기.ipynb",
      "provenance": []
    },
    "kernelspec": {
      "name": "python3",
      "display_name": "Python 3"
    },
    "language_info": {
      "name": "python"
    }
  },
  "cells": [
    {
      "cell_type": "code",
      "metadata": {
        "id": "BHyfIl218bD2"
      },
      "source": [
        "import pandas as pd\n",
        "path = '/content/drive/MyDrive/Colab Notebooks/final/'\n",
        "test = pd.read_csv(path+'test.csv')"
      ],
      "execution_count": 1,
      "outputs": []
    },
    {
      "cell_type": "code",
      "metadata": {
        "colab": {
          "base_uri": "https://localhost:8080/",
          "height": 97
        },
        "id": "lXFl4mTW94Fv",
        "outputId": "740cc4c8-28fb-4c52-fce6-147706284784"
      },
      "source": [
        "test.head(1)"
      ],
      "execution_count": 2,
      "outputs": [
        {
          "output_type": "execute_result",
          "data": {
            "text/html": [
              "<div>\n",
              "<style scoped>\n",
              "    .dataframe tbody tr th:only-of-type {\n",
              "        vertical-align: middle;\n",
              "    }\n",
              "\n",
              "    .dataframe tbody tr th {\n",
              "        vertical-align: top;\n",
              "    }\n",
              "\n",
              "    .dataframe thead th {\n",
              "        text-align: right;\n",
              "    }\n",
              "</style>\n",
              "<table border=\"1\" class=\"dataframe\">\n",
              "  <thead>\n",
              "    <tr style=\"text-align: right;\">\n",
              "      <th></th>\n",
              "      <th>title</th>\n",
              "      <th>writer</th>\n",
              "      <th>illustrator</th>\n",
              "      <th>day</th>\n",
              "      <th>genre</th>\n",
              "      <th>story</th>\n",
              "      <th>platform</th>\n",
              "    </tr>\n",
              "  </thead>\n",
              "  <tbody>\n",
              "    <tr>\n",
              "      <th>0</th>\n",
              "      <td>참교육</td>\n",
              "      <td>채용택</td>\n",
              "      <td>한가람</td>\n",
              "      <td>월</td>\n",
              "      <td>스토리, 액션</td>\n",
              "      <td>무너진 교권을 지키기 위해 교권보호국 소속 나화진의 참교육이 시작된다! 부활남 채용...</td>\n",
              "      <td>네이버 웹툰</td>\n",
              "    </tr>\n",
              "  </tbody>\n",
              "</table>\n",
              "</div>"
            ],
            "text/plain": [
              "  title writer  ...                                              story platform\n",
              "0   참교육    채용택  ...  무너진 교권을 지키기 위해 교권보호국 소속 나화진의 참교육이 시작된다! 부활남 채용...   네이버 웹툰\n",
              "\n",
              "[1 rows x 7 columns]"
            ]
          },
          "metadata": {},
          "execution_count": 2
        }
      ]
    },
    {
      "cell_type": "code",
      "metadata": {
        "id": "yRvZQLVp959x"
      },
      "source": [
        "redundancy = test.title.value_counts()"
      ],
      "execution_count": 3,
      "outputs": []
    },
    {
      "cell_type": "code",
      "metadata": {
        "colab": {
          "base_uri": "https://localhost:8080/"
        },
        "id": "upf-Uq23-GfA",
        "outputId": "fa4a926a-f4a0-4371-d73d-c480bb3c5d65"
      },
      "source": [
        "redundancy.head()"
      ],
      "execution_count": 4,
      "outputs": [
        {
          "output_type": "execute_result",
          "data": {
            "text/plain": [
              "폭군황제의 첫사랑      3\n",
              "갱스쿨            3\n",
              "트리거            3\n",
              "키몽의 호구로운 생활    2\n",
              "승리호            2\n",
              "Name: title, dtype: int64"
            ]
          },
          "metadata": {},
          "execution_count": 4
        }
      ]
    },
    {
      "cell_type": "code",
      "metadata": {
        "id": "xvm3zpIrAePz"
      },
      "source": [
        "redundancy['index']=0"
      ],
      "execution_count": 14,
      "outputs": []
    },
    {
      "cell_type": "code",
      "metadata": {
        "colab": {
          "base_uri": "https://localhost:8080/"
        },
        "id": "L5WiIbhvA3T9",
        "outputId": "e9348680-fc61-49a9-fe95-de230b48a4c6"
      },
      "source": [
        "redundancy"
      ],
      "execution_count": 16,
      "outputs": [
        {
          "output_type": "execute_result",
          "data": {
            "text/plain": [
              "폭군황제의 첫사랑        3\n",
              "갱스쿨              3\n",
              "트리거              3\n",
              "키몽의 호구로운 생활      2\n",
              "승리호              2\n",
              "                ..\n",
              "나는 매일 그를 훔쳐본다    1\n",
              "비질란테             1\n",
              "사수생도 연애를 한다      1\n",
              "inedx            0\n",
              "index            0\n",
              "Name: title, Length: 4016, dtype: int64"
            ]
          },
          "metadata": {},
          "execution_count": 16
        }
      ]
    },
    {
      "cell_type": "code",
      "metadata": {
        "colab": {
          "base_uri": "https://localhost:8080/"
        },
        "id": "ceMZzTGj-IvR",
        "outputId": "eb75488b-aeb0-4ea1-a78b-288158bd2b2f"
      },
      "source": [
        "type(redundancy)"
      ],
      "execution_count": 5,
      "outputs": [
        {
          "output_type": "execute_result",
          "data": {
            "text/plain": [
              "pandas.core.series.Series"
            ]
          },
          "metadata": {},
          "execution_count": 5
        }
      ]
    },
    {
      "cell_type": "code",
      "metadata": {
        "colab": {
          "base_uri": "https://localhost:8080/",
          "height": 204
        },
        "id": "gNO5Y13X-ry0",
        "outputId": "2bc944a6-b7ce-443a-8c4a-69131f1eaf80"
      },
      "source": [
        "red = pd.DataFrame(redundancy)\n",
        "red['index']=0\n",
        "red.head()"
      ],
      "execution_count": 18,
      "outputs": [
        {
          "output_type": "execute_result",
          "data": {
            "text/html": [
              "<div>\n",
              "<style scoped>\n",
              "    .dataframe tbody tr th:only-of-type {\n",
              "        vertical-align: middle;\n",
              "    }\n",
              "\n",
              "    .dataframe tbody tr th {\n",
              "        vertical-align: top;\n",
              "    }\n",
              "\n",
              "    .dataframe thead th {\n",
              "        text-align: right;\n",
              "    }\n",
              "</style>\n",
              "<table border=\"1\" class=\"dataframe\">\n",
              "  <thead>\n",
              "    <tr style=\"text-align: right;\">\n",
              "      <th></th>\n",
              "      <th>title</th>\n",
              "      <th>index</th>\n",
              "    </tr>\n",
              "  </thead>\n",
              "  <tbody>\n",
              "    <tr>\n",
              "      <th>폭군황제의 첫사랑</th>\n",
              "      <td>3</td>\n",
              "      <td>0</td>\n",
              "    </tr>\n",
              "    <tr>\n",
              "      <th>갱스쿨</th>\n",
              "      <td>3</td>\n",
              "      <td>0</td>\n",
              "    </tr>\n",
              "    <tr>\n",
              "      <th>트리거</th>\n",
              "      <td>3</td>\n",
              "      <td>0</td>\n",
              "    </tr>\n",
              "    <tr>\n",
              "      <th>키몽의 호구로운 생활</th>\n",
              "      <td>2</td>\n",
              "      <td>0</td>\n",
              "    </tr>\n",
              "    <tr>\n",
              "      <th>승리호</th>\n",
              "      <td>2</td>\n",
              "      <td>0</td>\n",
              "    </tr>\n",
              "  </tbody>\n",
              "</table>\n",
              "</div>"
            ],
            "text/plain": [
              "             title  index\n",
              "폭군황제의 첫사랑        3      0\n",
              "갱스쿨              3      0\n",
              "트리거              3      0\n",
              "키몽의 호구로운 생활      2      0\n",
              "승리호              2      0"
            ]
          },
          "metadata": {},
          "execution_count": 18
        }
      ]
    },
    {
      "cell_type": "code",
      "metadata": {
        "id": "QIYnQESaAN5S"
      },
      "source": [
        "red.reset_index(inplace=True)"
      ],
      "execution_count": 22,
      "outputs": []
    },
    {
      "cell_type": "code",
      "metadata": {
        "colab": {
          "base_uri": "https://localhost:8080/"
        },
        "id": "jY0TTJA_-534",
        "outputId": "16555bf1-9395-4477-89de-afc227517bd3"
      },
      "source": [
        "red.columns"
      ],
      "execution_count": 23,
      "outputs": [
        {
          "output_type": "execute_result",
          "data": {
            "text/plain": [
              "Index(['level_0', 'title', 'index'], dtype='object')"
            ]
          },
          "metadata": {},
          "execution_count": 23
        }
      ]
    },
    {
      "cell_type": "code",
      "metadata": {
        "colab": {
          "base_uri": "https://localhost:8080/",
          "height": 80
        },
        "id": "KQolZE87BgeW",
        "outputId": "7c425873-9562-4d70-b751-a4480dfd8805"
      },
      "source": [
        "# red.drop(columns=['index'],inplace=True)\n",
        "red.columns=['title','n_count']\n",
        "red.head(1)"
      ],
      "execution_count": 31,
      "outputs": [
        {
          "output_type": "execute_result",
          "data": {
            "text/html": [
              "<div>\n",
              "<style scoped>\n",
              "    .dataframe tbody tr th:only-of-type {\n",
              "        vertical-align: middle;\n",
              "    }\n",
              "\n",
              "    .dataframe tbody tr th {\n",
              "        vertical-align: top;\n",
              "    }\n",
              "\n",
              "    .dataframe thead th {\n",
              "        text-align: right;\n",
              "    }\n",
              "</style>\n",
              "<table border=\"1\" class=\"dataframe\">\n",
              "  <thead>\n",
              "    <tr style=\"text-align: right;\">\n",
              "      <th></th>\n",
              "      <th>title</th>\n",
              "      <th>n_count</th>\n",
              "    </tr>\n",
              "  </thead>\n",
              "  <tbody>\n",
              "    <tr>\n",
              "      <th>0</th>\n",
              "      <td>폭군황제의 첫사랑</td>\n",
              "      <td>3</td>\n",
              "    </tr>\n",
              "  </tbody>\n",
              "</table>\n",
              "</div>"
            ],
            "text/plain": [
              "       title  n_count\n",
              "0  폭군황제의 첫사랑        3"
            ]
          },
          "metadata": {},
          "execution_count": 31
        }
      ]
    },
    {
      "cell_type": "code",
      "metadata": {
        "id": "FeHMuLNf-XAZ"
      },
      "source": [
        "clear = pd.merge(test,red,on='title')"
      ],
      "execution_count": 32,
      "outputs": []
    },
    {
      "cell_type": "code",
      "metadata": {
        "colab": {
          "base_uri": "https://localhost:8080/",
          "height": 289
        },
        "id": "4FI56AVb-kHy",
        "outputId": "507f4f57-8dd9-49b8-cb07-85613776885a"
      },
      "source": [
        "clear.head()"
      ],
      "execution_count": 33,
      "outputs": [
        {
          "output_type": "execute_result",
          "data": {
            "text/html": [
              "<div>\n",
              "<style scoped>\n",
              "    .dataframe tbody tr th:only-of-type {\n",
              "        vertical-align: middle;\n",
              "    }\n",
              "\n",
              "    .dataframe tbody tr th {\n",
              "        vertical-align: top;\n",
              "    }\n",
              "\n",
              "    .dataframe thead th {\n",
              "        text-align: right;\n",
              "    }\n",
              "</style>\n",
              "<table border=\"1\" class=\"dataframe\">\n",
              "  <thead>\n",
              "    <tr style=\"text-align: right;\">\n",
              "      <th></th>\n",
              "      <th>title</th>\n",
              "      <th>writer</th>\n",
              "      <th>illustrator</th>\n",
              "      <th>day</th>\n",
              "      <th>genre</th>\n",
              "      <th>story</th>\n",
              "      <th>platform</th>\n",
              "      <th>n_count</th>\n",
              "    </tr>\n",
              "  </thead>\n",
              "  <tbody>\n",
              "    <tr>\n",
              "      <th>0</th>\n",
              "      <td>참교육</td>\n",
              "      <td>채용택</td>\n",
              "      <td>한가람</td>\n",
              "      <td>월</td>\n",
              "      <td>스토리, 액션</td>\n",
              "      <td>무너진 교권을 지키기 위해 교권보호국 소속 나화진의 참교육이 시작된다! 부활남 채용...</td>\n",
              "      <td>네이버 웹툰</td>\n",
              "      <td>1</td>\n",
              "    </tr>\n",
              "    <tr>\n",
              "      <th>1</th>\n",
              "      <td>신의 탑</td>\n",
              "      <td>SIU</td>\n",
              "      <td>SIU</td>\n",
              "      <td>월</td>\n",
              "      <td>스토리, 판타지</td>\n",
              "      <td>자신의 모든 것이었던 소녀를 쫓아 탑에 들어온 소년 그리고 그런 소년을 시험하는 탑</td>\n",
              "      <td>네이버 웹툰</td>\n",
              "      <td>1</td>\n",
              "    </tr>\n",
              "    <tr>\n",
              "      <th>2</th>\n",
              "      <td>뷰티풀 군바리</td>\n",
              "      <td>설이</td>\n",
              "      <td>윤성원</td>\n",
              "      <td>월</td>\n",
              "      <td>스토리, 드라마</td>\n",
              "      <td>여자도 군대에 간다면? 본격 여자도 군대 가는 만화!</td>\n",
              "      <td>네이버 웹툰</td>\n",
              "      <td>1</td>\n",
              "    </tr>\n",
              "    <tr>\n",
              "      <th>3</th>\n",
              "      <td>윈드브레이커</td>\n",
              "      <td>조용석</td>\n",
              "      <td>조용석</td>\n",
              "      <td>월</td>\n",
              "      <td>스토리, 스포츠</td>\n",
              "      <td>혼자서 자전거를 즐겨타던 모범생 조자현. 원치 않게 자전거 크루의 일에 자꾸 휘말리...</td>\n",
              "      <td>네이버 웹툰</td>\n",
              "      <td>1</td>\n",
              "    </tr>\n",
              "    <tr>\n",
              "      <th>4</th>\n",
              "      <td>팔이피플</td>\n",
              "      <td>매미</td>\n",
              "      <td>희세</td>\n",
              "      <td>월</td>\n",
              "      <td>스토리, 드라마</td>\n",
              "      <td>마스크걸 , 위대한 방옥숙 매미 희세 작가의 신작! 에서 육아용품 파는 평범한 유부...</td>\n",
              "      <td>네이버 웹툰</td>\n",
              "      <td>1</td>\n",
              "    </tr>\n",
              "  </tbody>\n",
              "</table>\n",
              "</div>"
            ],
            "text/plain": [
              "     title writer  ... platform n_count\n",
              "0      참교육    채용택  ...   네이버 웹툰       1\n",
              "1     신의 탑    SIU  ...   네이버 웹툰       1\n",
              "2  뷰티풀 군바리     설이  ...   네이버 웹툰       1\n",
              "3   윈드브레이커    조용석  ...   네이버 웹툰       1\n",
              "4     팔이피플     매미  ...   네이버 웹툰       1\n",
              "\n",
              "[5 rows x 8 columns]"
            ]
          },
          "metadata": {},
          "execution_count": 33
        }
      ]
    },
    {
      "cell_type": "code",
      "metadata": {
        "id": "VbYgBQGcCCah"
      },
      "source": [
        "target = clear[clear.n_count > 1]"
      ],
      "execution_count": 39,
      "outputs": []
    },
    {
      "cell_type": "code",
      "metadata": {
        "colab": {
          "base_uri": "https://localhost:8080/",
          "height": 623
        },
        "id": "RSZsGa9ZCoYQ",
        "outputId": "0a303a12-756a-411c-ae0c-22e848fdb3da"
      },
      "source": [
        "target"
      ],
      "execution_count": 40,
      "outputs": [
        {
          "output_type": "execute_result",
          "data": {
            "text/html": [
              "<div>\n",
              "<style scoped>\n",
              "    .dataframe tbody tr th:only-of-type {\n",
              "        vertical-align: middle;\n",
              "    }\n",
              "\n",
              "    .dataframe tbody tr th {\n",
              "        vertical-align: top;\n",
              "    }\n",
              "\n",
              "    .dataframe thead th {\n",
              "        text-align: right;\n",
              "    }\n",
              "</style>\n",
              "<table border=\"1\" class=\"dataframe\">\n",
              "  <thead>\n",
              "    <tr style=\"text-align: right;\">\n",
              "      <th></th>\n",
              "      <th>title</th>\n",
              "      <th>writer</th>\n",
              "      <th>illustrator</th>\n",
              "      <th>day</th>\n",
              "      <th>genre</th>\n",
              "      <th>story</th>\n",
              "      <th>platform</th>\n",
              "      <th>n_count</th>\n",
              "    </tr>\n",
              "  </thead>\n",
              "  <tbody>\n",
              "    <tr>\n",
              "      <th>62</th>\n",
              "      <td>트리거</td>\n",
              "      <td>고경빈</td>\n",
              "      <td>고경빈</td>\n",
              "      <td>월</td>\n",
              "      <td>스토리, 판타지</td>\n",
              "      <td>지구에 소행성이 떨어진 후, 지구는 인간을 먹이로 하는 괴생명체 아니스 에 의해 절...</td>\n",
              "      <td>네이버 웹툰</td>\n",
              "      <td>3</td>\n",
              "    </tr>\n",
              "    <tr>\n",
              "      <th>63</th>\n",
              "      <td>트리거</td>\n",
              "      <td>불만있냥</td>\n",
              "      <td>불만있냥</td>\n",
              "      <td>화</td>\n",
              "      <td>액션무협만화</td>\n",
              "      <td>불량하기로 유명한 대명 고등학교에 입학한 평범한 고등학생 남지일. 입학 첫날부터 일...</td>\n",
              "      <td>카카오페이지</td>\n",
              "      <td>3</td>\n",
              "    </tr>\n",
              "    <tr>\n",
              "      <th>64</th>\n",
              "      <td>트리거</td>\n",
              "      <td>불만있냥</td>\n",
              "      <td>불만있냥</td>\n",
              "      <td>화</td>\n",
              "      <td>정보없음</td>\n",
              "      <td>불량하기로 유명한 대명 고등학교에 입학한 평범한 고등학생 남지일. 입학 첫날부터 일...</td>\n",
              "      <td>카카오웹툰</td>\n",
              "      <td>3</td>\n",
              "    </tr>\n",
              "    <tr>\n",
              "      <th>280</th>\n",
              "      <td>성경의 역사</td>\n",
              "      <td>최경민</td>\n",
              "      <td>영모</td>\n",
              "      <td>금</td>\n",
              "      <td>스토리, 드라마</td>\n",
              "      <td>모두에게 사랑 받기에 모두가 증오하는 그녀, 성경 . 원치않는 애정과 증오속에 성경...</td>\n",
              "      <td>네이버 웹툰</td>\n",
              "      <td>2</td>\n",
              "    </tr>\n",
              "    <tr>\n",
              "      <th>281</th>\n",
              "      <td>성경의 역사</td>\n",
              "      <td>최경민</td>\n",
              "      <td>영모</td>\n",
              "      <td>완결</td>\n",
              "      <td>스토리, 드라마</td>\n",
              "      <td>모두에게 사랑 받기에 모두가 증오하는 그녀, 성경 .원치않는 애정과 증오속에 성경의...</td>\n",
              "      <td>네이버 웹툰</td>\n",
              "      <td>2</td>\n",
              "    </tr>\n",
              "    <tr>\n",
              "      <th>...</th>\n",
              "      <td>...</td>\n",
              "      <td>...</td>\n",
              "      <td>...</td>\n",
              "      <td>...</td>\n",
              "      <td>...</td>\n",
              "      <td>...</td>\n",
              "      <td>...</td>\n",
              "      <td>...</td>\n",
              "    </tr>\n",
              "    <tr>\n",
              "      <th>3233</th>\n",
              "      <td>당신은 나의 신</td>\n",
              "      <td>재해</td>\n",
              "      <td>재해</td>\n",
              "      <td>목</td>\n",
              "      <td>드라마</td>\n",
              "      <td>소박하게 로또 일등을 꿈꾸는 게임회사 직원 마리아의 앞에 어느 날 바라는 대로 소원...</td>\n",
              "      <td>레진코믹스</td>\n",
              "      <td>2</td>\n",
              "    </tr>\n",
              "    <tr>\n",
              "      <th>3237</th>\n",
              "      <td>체이서</td>\n",
              "      <td>하준성</td>\n",
              "      <td>하준성</td>\n",
              "      <td>완결</td>\n",
              "      <td>액션무협만화</td>\n",
              "      <td>기억을 잃어버린 네드일행과 그를 쫓는 체이서들간의 코믹액션모험활극!</td>\n",
              "      <td>카카오페이지</td>\n",
              "      <td>2</td>\n",
              "    </tr>\n",
              "    <tr>\n",
              "      <th>3238</th>\n",
              "      <td>체이서</td>\n",
              "      <td>하준성</td>\n",
              "      <td>하준성</td>\n",
              "      <td>완결</td>\n",
              "      <td>정보없음</td>\n",
              "      <td>기억을 잃어버린 네드일행과 그를 쫓는 체이서들간의 코믹액션모험활극!</td>\n",
              "      <td>카카오웹툰</td>\n",
              "      <td>2</td>\n",
              "    </tr>\n",
              "    <tr>\n",
              "      <th>3334</th>\n",
              "      <td>아버지의 복수는 끝이 없어라</td>\n",
              "      <td>강태진</td>\n",
              "      <td>강태진</td>\n",
              "      <td>수</td>\n",
              "      <td>정보없음</td>\n",
              "      <td>30년 간 묵혀있던 비극이 복수로 깨어났다 . 도훈은 치매에 걸린 할머니 소식을 듣...</td>\n",
              "      <td>카카오웹툰</td>\n",
              "      <td>2</td>\n",
              "    </tr>\n",
              "    <tr>\n",
              "      <th>3335</th>\n",
              "      <td>아버지의 복수는 끝이 없어라</td>\n",
              "      <td>강태진</td>\n",
              "      <td>강태진</td>\n",
              "      <td>완결</td>\n",
              "      <td>정보없음</td>\n",
              "      <td>30년 간 묵혀있던 비극이 복수로 깨어났다 . 도훈은 치매에 걸린 할머니 소식을 듣...</td>\n",
              "      <td>카카오웹툰</td>\n",
              "      <td>2</td>\n",
              "    </tr>\n",
              "  </tbody>\n",
              "</table>\n",
              "<p>211 rows × 8 columns</p>\n",
              "</div>"
            ],
            "text/plain": [
              "                title writer  ... platform n_count\n",
              "62                트리거    고경빈  ...   네이버 웹툰       3\n",
              "63                트리거   불만있냥  ...   카카오페이지       3\n",
              "64                트리거   불만있냥  ...    카카오웹툰       3\n",
              "280            성경의 역사    최경민  ...   네이버 웹툰       2\n",
              "281            성경의 역사    최경민  ...   네이버 웹툰       2\n",
              "...               ...    ...  ...      ...     ...\n",
              "3233         당신은 나의 신     재해  ...    레진코믹스       2\n",
              "3237              체이서    하준성  ...   카카오페이지       2\n",
              "3238              체이서    하준성  ...    카카오웹툰       2\n",
              "3334  아버지의 복수는 끝이 없어라    강태진  ...    카카오웹툰       2\n",
              "3335  아버지의 복수는 끝이 없어라    강태진  ...    카카오웹툰       2\n",
              "\n",
              "[211 rows x 8 columns]"
            ]
          },
          "metadata": {},
          "execution_count": 40
        }
      ]
    },
    {
      "cell_type": "code",
      "metadata": {
        "id": "Sl7uaJ-hC4pg"
      },
      "source": [
        "target.to_csv(path + 'target.csv',index=False,encoding='utf-8')"
      ],
      "execution_count": 41,
      "outputs": []
    },
    {
      "cell_type": "code",
      "metadata": {
        "id": "YTZZ5ydVDdhy"
      },
      "source": [
        ""
      ],
      "execution_count": null,
      "outputs": []
    }
  ]
}