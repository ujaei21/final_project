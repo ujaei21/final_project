{
  "nbformat": 4,
  "nbformat_minor": 0,
  "metadata": {
    "colab": {
      "name": "데이터정리.ipynb",
      "provenance": [],
      "collapsed_sections": []
    },
    "kernelspec": {
      "name": "python3",
      "display_name": "Python 3"
    },
    "language_info": {
      "name": "python"
    }
  },
  "cells": [
    {
      "cell_type": "code",
      "metadata": {
        "id": "YGgltNGfd08E"
      },
      "source": [
        "import pandas as pd\n",
        "path = '/content/drive/MyDrive/Colab Notebooks/final/'\n",
        "naver_week = pd.read_csv(path + 'NAVER.csv',encoding = 'cp949')\n",
        "naver_com = pd.read_csv(path + 'NAVER_FINISH.csv',encoding = 'cp949')"
      ],
      "execution_count": null,
      "outputs": []
    },
    {
      "cell_type": "code",
      "metadata": {
        "id": "2mKFbNNkfC51"
      },
      "source": [
        "naver = pd.concat([naver_week,naver_com])"
      ],
      "execution_count": null,
      "outputs": []
    },
    {
      "cell_type": "code",
      "metadata": {
        "colab": {
          "base_uri": "https://localhost:8080/"
        },
        "id": "8Bxr-upWfOlF",
        "outputId": "9beeb4b4-ca64-4e20-b5d6-145b5aceedfe"
      },
      "source": [
        "naver.isnull().sum()"
      ],
      "execution_count": null,
      "outputs": [
        {
          "output_type": "execute_result",
          "data": {
            "text/plain": [
              "id             0\n",
              "title          0\n",
              "author         0\n",
              "day         1025\n",
              "genre          0\n",
              "story          0\n",
              "score          0\n",
              "platform       0\n",
              "dtype: int64"
            ]
          },
          "metadata": {},
          "execution_count": 4
        }
      ]
    },
    {
      "cell_type": "code",
      "metadata": {
        "colab": {
          "base_uri": "https://localhost:8080/",
          "height": 589
        },
        "id": "9gyfBnIufXO8",
        "outputId": "0e8aa070-4de1-469f-b26a-9b8f999d3a4e"
      },
      "source": [
        "naver[naver.day.isnull()]"
      ],
      "execution_count": null,
      "outputs": [
        {
          "output_type": "execute_result",
          "data": {
            "text/html": [
              "<div>\n",
              "<style scoped>\n",
              "    .dataframe tbody tr th:only-of-type {\n",
              "        vertical-align: middle;\n",
              "    }\n",
              "\n",
              "    .dataframe tbody tr th {\n",
              "        vertical-align: top;\n",
              "    }\n",
              "\n",
              "    .dataframe thead th {\n",
              "        text-align: right;\n",
              "    }\n",
              "</style>\n",
              "<table border=\"1\" class=\"dataframe\">\n",
              "  <thead>\n",
              "    <tr style=\"text-align: right;\">\n",
              "      <th></th>\n",
              "      <th>id</th>\n",
              "      <th>title</th>\n",
              "      <th>author</th>\n",
              "      <th>day</th>\n",
              "      <th>genre</th>\n",
              "      <th>story</th>\n",
              "      <th>score</th>\n",
              "      <th>platform</th>\n",
              "    </tr>\n",
              "  </thead>\n",
              "  <tbody>\n",
              "    <tr>\n",
              "      <th>0</th>\n",
              "      <td>0</td>\n",
              "      <td>국왕과 성기사의 약탈혼</td>\n",
              "      <td>이린비 / 박지은</td>\n",
              "      <td>NaN</td>\n",
              "      <td>스토리, 로맨스</td>\n",
              "      <td>그래, 왕이 되었지. 가지고 싶은 건 다 빼앗아 가지려고. 왕위를 찬탈하고 주변국을...</td>\n",
              "      <td>9.78</td>\n",
              "      <td>네이버 웹툰</td>\n",
              "    </tr>\n",
              "    <tr>\n",
              "      <th>1</th>\n",
              "      <td>1</td>\n",
              "      <td>성경의 역사</td>\n",
              "      <td>최경민 / 영모</td>\n",
              "      <td>NaN</td>\n",
              "      <td>스토리, 드라마</td>\n",
              "      <td>모두에게 사랑 받기에 모두가 증오하는 그녀, 성경 .원치않는 애정과 증오속에 성경의...</td>\n",
              "      <td>7.43</td>\n",
              "      <td>네이버 웹툰</td>\n",
              "    </tr>\n",
              "    <tr>\n",
              "      <th>2</th>\n",
              "      <td>2</td>\n",
              "      <td>이츠마인</td>\n",
              "      <td>럭스</td>\n",
              "      <td>NaN</td>\n",
              "      <td>스토리, 스릴러</td>\n",
              "      <td>어떻게 해야 널 지킬 수 있을까, 다정아? 10년 뒤 다정이가 죽는다는 메시지를 본...</td>\n",
              "      <td>9.97</td>\n",
              "      <td>네이버 웹툰</td>\n",
              "    </tr>\n",
              "    <tr>\n",
              "      <th>3</th>\n",
              "      <td>3</td>\n",
              "      <td>이세계 세입자들</td>\n",
              "      <td>kiki / 이음</td>\n",
              "      <td>NaN</td>\n",
              "      <td>스토리, 로맨스</td>\n",
              "      <td>구두 제작 회사 킬 빌 의 디자이너 해서는 승진을 위해 강 팀장이 다닌다는 요양원 ...</td>\n",
              "      <td>9.45</td>\n",
              "      <td>네이버 웹툰</td>\n",
              "    </tr>\n",
              "    <tr>\n",
              "      <th>4</th>\n",
              "      <td>4</td>\n",
              "      <td>구독금지</td>\n",
              "      <td>김이연</td>\n",
              "      <td>NaN</td>\n",
              "      <td>스토리, 스릴러</td>\n",
              "      <td>친구들과 만든 미스터리 호러 채널에 범죄자가 접속했다. 채널은 그야말로 대박이 나는...</td>\n",
              "      <td>9.90</td>\n",
              "      <td>네이버 웹툰</td>\n",
              "    </tr>\n",
              "    <tr>\n",
              "      <th>...</th>\n",
              "      <td>...</td>\n",
              "      <td>...</td>\n",
              "      <td>...</td>\n",
              "      <td>...</td>\n",
              "      <td>...</td>\n",
              "      <td>...</td>\n",
              "      <td>...</td>\n",
              "      <td>...</td>\n",
              "    </tr>\n",
              "    <tr>\n",
              "      <th>1020</th>\n",
              "      <td>1020</td>\n",
              "      <td>AA</td>\n",
              "      <td>선정, 지숙</td>\n",
              "      <td>NaN</td>\n",
              "      <td>스토리, 로맨스</td>\n",
              "      <td>대머리 사절을 외치는 여인과 대머리 일것 같은 그녀의 이상형이 벌이는 로맨틱 코미디...</td>\n",
              "      <td>9.68</td>\n",
              "      <td>네이버 웹툰</td>\n",
              "    </tr>\n",
              "    <tr>\n",
              "      <th>1021</th>\n",
              "      <td>1021</td>\n",
              "      <td>사랑in</td>\n",
              "      <td>전세훈</td>\n",
              "      <td>NaN</td>\n",
              "      <td>옴니버스, 로맨스</td>\n",
              "      <td>전세훈의 감성터치 사랑 우리들의 이야기가 수채화 물감처럼 잔잔한 감동으로. 잃어버린...</td>\n",
              "      <td>9.51</td>\n",
              "      <td>네이버 웹툰</td>\n",
              "    </tr>\n",
              "    <tr>\n",
              "      <th>1022</th>\n",
              "      <td>1022</td>\n",
              "      <td>까뱅</td>\n",
              "      <td>X-TEAM</td>\n",
              "      <td>NaN</td>\n",
              "      <td>에피소드, 개그</td>\n",
              "      <td>치킨시티의 새로운 영웅 까뱅 오늘도 그의 활약은 계속된다!</td>\n",
              "      <td>8.83</td>\n",
              "      <td>네이버 웹툰</td>\n",
              "    </tr>\n",
              "    <tr>\n",
              "      <th>1023</th>\n",
              "      <td>1023</td>\n",
              "      <td>와탕카</td>\n",
              "      <td>우주인</td>\n",
              "      <td>NaN</td>\n",
              "      <td>에피소드, 개그</td>\n",
              "      <td>와탕카 만세 , 지화자 좋은 패가 들어오면 외치는 단어 와탕카! 우주인 작가님의 불...</td>\n",
              "      <td>9.63</td>\n",
              "      <td>네이버 웹툰</td>\n",
              "    </tr>\n",
              "    <tr>\n",
              "      <th>1024</th>\n",
              "      <td>1024</td>\n",
              "      <td>타투</td>\n",
              "      <td>노지현</td>\n",
              "      <td>NaN</td>\n",
              "      <td>옴니버스, 드라마</td>\n",
              "      <td>밝고 쾌활한 여고생 현진과 새로 오픈한 타투 가게의 진우, 유기를 중심으로 벌어지는...</td>\n",
              "      <td>9.20</td>\n",
              "      <td>네이버 웹툰</td>\n",
              "    </tr>\n",
              "  </tbody>\n",
              "</table>\n",
              "<p>1025 rows × 8 columns</p>\n",
              "</div>"
            ],
            "text/plain": [
              "        id         title  ... score platform\n",
              "0        0  국왕과 성기사의 약탈혼  ...  9.78   네이버 웹툰\n",
              "1        1        성경의 역사  ...  7.43   네이버 웹툰\n",
              "2        2          이츠마인  ...  9.97   네이버 웹툰\n",
              "3        3      이세계 세입자들  ...  9.45   네이버 웹툰\n",
              "4        4          구독금지  ...  9.90   네이버 웹툰\n",
              "...    ...           ...  ...   ...      ...\n",
              "1020  1020            AA  ...  9.68   네이버 웹툰\n",
              "1021  1021          사랑in  ...  9.51   네이버 웹툰\n",
              "1022  1022            까뱅  ...  8.83   네이버 웹툰\n",
              "1023  1023           와탕카  ...  9.63   네이버 웹툰\n",
              "1024  1024            타투  ...  9.20   네이버 웹툰\n",
              "\n",
              "[1025 rows x 8 columns]"
            ]
          },
          "metadata": {},
          "execution_count": 5
        }
      ]
    },
    {
      "cell_type": "code",
      "metadata": {
        "colab": {
          "base_uri": "https://localhost:8080/",
          "height": 97
        },
        "id": "Rj15HxsDfdwh",
        "outputId": "9bebdc2f-2743-4b96-cb45-907be4ea37a1"
      },
      "source": [
        "naver_com[naver_com.title == '국왕과 성기사의 약탈혼']"
      ],
      "execution_count": null,
      "outputs": [
        {
          "output_type": "execute_result",
          "data": {
            "text/html": [
              "<div>\n",
              "<style scoped>\n",
              "    .dataframe tbody tr th:only-of-type {\n",
              "        vertical-align: middle;\n",
              "    }\n",
              "\n",
              "    .dataframe tbody tr th {\n",
              "        vertical-align: top;\n",
              "    }\n",
              "\n",
              "    .dataframe thead th {\n",
              "        text-align: right;\n",
              "    }\n",
              "</style>\n",
              "<table border=\"1\" class=\"dataframe\">\n",
              "  <thead>\n",
              "    <tr style=\"text-align: right;\">\n",
              "      <th></th>\n",
              "      <th>id</th>\n",
              "      <th>title</th>\n",
              "      <th>author</th>\n",
              "      <th>genre</th>\n",
              "      <th>story</th>\n",
              "      <th>score</th>\n",
              "      <th>platform</th>\n",
              "    </tr>\n",
              "  </thead>\n",
              "  <tbody>\n",
              "    <tr>\n",
              "      <th>0</th>\n",
              "      <td>0</td>\n",
              "      <td>국왕과 성기사의 약탈혼</td>\n",
              "      <td>이린비 / 박지은</td>\n",
              "      <td>스토리, 로맨스</td>\n",
              "      <td>그래, 왕이 되었지. 가지고 싶은 건 다 빼앗아 가지려고. 왕위를 찬탈하고 주변국을...</td>\n",
              "      <td>9.78</td>\n",
              "      <td>네이버 웹툰</td>\n",
              "    </tr>\n",
              "  </tbody>\n",
              "</table>\n",
              "</div>"
            ],
            "text/plain": [
              "   id         title  ... score platform\n",
              "0   0  국왕과 성기사의 약탈혼  ...  9.78   네이버 웹툰\n",
              "\n",
              "[1 rows x 7 columns]"
            ]
          },
          "metadata": {},
          "execution_count": 7
        }
      ]
    },
    {
      "cell_type": "code",
      "metadata": {
        "id": "DUKhEJTAgGbE"
      },
      "source": [
        "naver.day.fillna('완결',inplace=True)"
      ],
      "execution_count": null,
      "outputs": []
    },
    {
      "cell_type": "code",
      "metadata": {
        "colab": {
          "base_uri": "https://localhost:8080/"
        },
        "id": "Gv0SpWb3gOlE",
        "outputId": "33d396b3-d3bb-46f7-8a6a-32f9f970d2a9"
      },
      "source": [
        "naver.isnull().sum()"
      ],
      "execution_count": null,
      "outputs": [
        {
          "output_type": "execute_result",
          "data": {
            "text/plain": [
              "id          0\n",
              "title       0\n",
              "author      0\n",
              "day         0\n",
              "genre       0\n",
              "story       0\n",
              "score       0\n",
              "platform    0\n",
              "dtype: int64"
            ]
          },
          "metadata": {},
          "execution_count": 9
        }
      ]
    },
    {
      "cell_type": "code",
      "metadata": {
        "id": "ENrDXxAKgSu5"
      },
      "source": [
        "naver.drop(columns=['id','score'],inplace=True)"
      ],
      "execution_count": null,
      "outputs": []
    },
    {
      "cell_type": "code",
      "metadata": {
        "colab": {
          "base_uri": "https://localhost:8080/",
          "height": 142
        },
        "id": "NxpLmarIhitI",
        "outputId": "208fefd7-f91a-41a6-9eae-8cf25e9c6f8a"
      },
      "source": [
        "naver.insert(2,'writer',0)\n",
        "naver.insert(3,'illustrator',1)\n",
        "\n",
        "naver['writer'],naver['illustrator'] = zip(*naver['author'].apply(lambda x:[x.strip() for x in x.split('/')] if '/' in x else [x,x])) \n",
        "naver.head(3)"
      ],
      "execution_count": null,
      "outputs": [
        {
          "output_type": "execute_result",
          "data": {
            "text/html": [
              "<div>\n",
              "<style scoped>\n",
              "    .dataframe tbody tr th:only-of-type {\n",
              "        vertical-align: middle;\n",
              "    }\n",
              "\n",
              "    .dataframe tbody tr th {\n",
              "        vertical-align: top;\n",
              "    }\n",
              "\n",
              "    .dataframe thead th {\n",
              "        text-align: right;\n",
              "    }\n",
              "</style>\n",
              "<table border=\"1\" class=\"dataframe\">\n",
              "  <thead>\n",
              "    <tr style=\"text-align: right;\">\n",
              "      <th></th>\n",
              "      <th>title</th>\n",
              "      <th>author</th>\n",
              "      <th>writer</th>\n",
              "      <th>illustrator</th>\n",
              "      <th>day</th>\n",
              "      <th>genre</th>\n",
              "      <th>story</th>\n",
              "      <th>platform</th>\n",
              "    </tr>\n",
              "  </thead>\n",
              "  <tbody>\n",
              "    <tr>\n",
              "      <th>0</th>\n",
              "      <td>참교육</td>\n",
              "      <td>채용택 / 한가람</td>\n",
              "      <td>채용택</td>\n",
              "      <td>한가람</td>\n",
              "      <td>월</td>\n",
              "      <td>스토리, 액션</td>\n",
              "      <td>무너진 교권을 지키기 위해 교권보호국 소속 나화진의 참교육이 시작된다! 부활남 채용...</td>\n",
              "      <td>네이버 웹툰</td>\n",
              "    </tr>\n",
              "    <tr>\n",
              "      <th>1</th>\n",
              "      <td>신의 탑</td>\n",
              "      <td>SIU</td>\n",
              "      <td>SIU</td>\n",
              "      <td>SIU</td>\n",
              "      <td>월</td>\n",
              "      <td>스토리, 판타지</td>\n",
              "      <td>자신의 모든 것이었던 소녀를 쫓아 탑에 들어온 소년 그리고 그런 소년을 시험하는 탑</td>\n",
              "      <td>네이버 웹툰</td>\n",
              "    </tr>\n",
              "    <tr>\n",
              "      <th>2</th>\n",
              "      <td>뷰티풀 군바리</td>\n",
              "      <td>설이 / 윤성원</td>\n",
              "      <td>설이</td>\n",
              "      <td>윤성원</td>\n",
              "      <td>월</td>\n",
              "      <td>스토리, 드라마</td>\n",
              "      <td>여자도 군대에 간다면? 본격 여자도 군대 가는 만화!</td>\n",
              "      <td>네이버 웹툰</td>\n",
              "    </tr>\n",
              "  </tbody>\n",
              "</table>\n",
              "</div>"
            ],
            "text/plain": [
              "     title  ... platform\n",
              "0      참교육  ...   네이버 웹툰\n",
              "1     신의 탑  ...   네이버 웹툰\n",
              "2  뷰티풀 군바리  ...   네이버 웹툰\n",
              "\n",
              "[3 rows x 8 columns]"
            ]
          },
          "metadata": {},
          "execution_count": 11
        }
      ]
    },
    {
      "cell_type": "code",
      "metadata": {
        "colab": {
          "base_uri": "https://localhost:8080/"
        },
        "id": "ymc2FAFFilJD",
        "outputId": "fba68e7e-3817-4809-da63-9ada3f38ed26"
      },
      "source": [
        "naver.isna().sum()"
      ],
      "execution_count": null,
      "outputs": [
        {
          "output_type": "execute_result",
          "data": {
            "text/plain": [
              "title          0\n",
              "author         0\n",
              "writer         0\n",
              "illustrator    0\n",
              "day            0\n",
              "genre          0\n",
              "story          0\n",
              "platform       0\n",
              "dtype: int64"
            ]
          },
          "metadata": {},
          "execution_count": 12
        }
      ]
    },
    {
      "cell_type": "code",
      "metadata": {
        "colab": {
          "base_uri": "https://localhost:8080/",
          "height": 204
        },
        "id": "KzdPLQ9iiqn8",
        "outputId": "6307c408-6944-473e-bd47-76be05282ea2"
      },
      "source": [
        "naver.drop(columns=['author'],inplace = True)\n",
        "naver.head()"
      ],
      "execution_count": null,
      "outputs": [
        {
          "output_type": "execute_result",
          "data": {
            "text/html": [
              "<div>\n",
              "<style scoped>\n",
              "    .dataframe tbody tr th:only-of-type {\n",
              "        vertical-align: middle;\n",
              "    }\n",
              "\n",
              "    .dataframe tbody tr th {\n",
              "        vertical-align: top;\n",
              "    }\n",
              "\n",
              "    .dataframe thead th {\n",
              "        text-align: right;\n",
              "    }\n",
              "</style>\n",
              "<table border=\"1\" class=\"dataframe\">\n",
              "  <thead>\n",
              "    <tr style=\"text-align: right;\">\n",
              "      <th></th>\n",
              "      <th>title</th>\n",
              "      <th>writer</th>\n",
              "      <th>illustrator</th>\n",
              "      <th>day</th>\n",
              "      <th>genre</th>\n",
              "      <th>story</th>\n",
              "      <th>platform</th>\n",
              "    </tr>\n",
              "  </thead>\n",
              "  <tbody>\n",
              "    <tr>\n",
              "      <th>0</th>\n",
              "      <td>참교육</td>\n",
              "      <td>채용택</td>\n",
              "      <td>한가람</td>\n",
              "      <td>월</td>\n",
              "      <td>스토리, 액션</td>\n",
              "      <td>무너진 교권을 지키기 위해 교권보호국 소속 나화진의 참교육이 시작된다! 부활남 채용...</td>\n",
              "      <td>네이버 웹툰</td>\n",
              "    </tr>\n",
              "    <tr>\n",
              "      <th>1</th>\n",
              "      <td>신의 탑</td>\n",
              "      <td>SIU</td>\n",
              "      <td>SIU</td>\n",
              "      <td>월</td>\n",
              "      <td>스토리, 판타지</td>\n",
              "      <td>자신의 모든 것이었던 소녀를 쫓아 탑에 들어온 소년 그리고 그런 소년을 시험하는 탑</td>\n",
              "      <td>네이버 웹툰</td>\n",
              "    </tr>\n",
              "    <tr>\n",
              "      <th>2</th>\n",
              "      <td>뷰티풀 군바리</td>\n",
              "      <td>설이</td>\n",
              "      <td>윤성원</td>\n",
              "      <td>월</td>\n",
              "      <td>스토리, 드라마</td>\n",
              "      <td>여자도 군대에 간다면? 본격 여자도 군대 가는 만화!</td>\n",
              "      <td>네이버 웹툰</td>\n",
              "    </tr>\n",
              "    <tr>\n",
              "      <th>3</th>\n",
              "      <td>윈드브레이커</td>\n",
              "      <td>조용석</td>\n",
              "      <td>조용석</td>\n",
              "      <td>월</td>\n",
              "      <td>스토리, 스포츠</td>\n",
              "      <td>혼자서 자전거를 즐겨타던 모범생 조자현. 원치 않게 자전거 크루의 일에 자꾸 휘말리...</td>\n",
              "      <td>네이버 웹툰</td>\n",
              "    </tr>\n",
              "    <tr>\n",
              "      <th>4</th>\n",
              "      <td>팔이피플</td>\n",
              "      <td>매미</td>\n",
              "      <td>희세</td>\n",
              "      <td>월</td>\n",
              "      <td>스토리, 드라마</td>\n",
              "      <td>마스크걸 , 위대한 방옥숙 매미 희세 작가의 신작! 에서 육아용품 파는 평범한 유부...</td>\n",
              "      <td>네이버 웹툰</td>\n",
              "    </tr>\n",
              "  </tbody>\n",
              "</table>\n",
              "</div>"
            ],
            "text/plain": [
              "     title writer  ...                                              story platform\n",
              "0      참교육    채용택  ...  무너진 교권을 지키기 위해 교권보호국 소속 나화진의 참교육이 시작된다! 부활남 채용...   네이버 웹툰\n",
              "1     신의 탑    SIU  ...     자신의 모든 것이었던 소녀를 쫓아 탑에 들어온 소년 그리고 그런 소년을 시험하는 탑   네이버 웹툰\n",
              "2  뷰티풀 군바리     설이  ...                      여자도 군대에 간다면? 본격 여자도 군대 가는 만화!   네이버 웹툰\n",
              "3   윈드브레이커    조용석  ...  혼자서 자전거를 즐겨타던 모범생 조자현. 원치 않게 자전거 크루의 일에 자꾸 휘말리...   네이버 웹툰\n",
              "4     팔이피플     매미  ...  마스크걸 , 위대한 방옥숙 매미 희세 작가의 신작! 에서 육아용품 파는 평범한 유부...   네이버 웹툰\n",
              "\n",
              "[5 rows x 7 columns]"
            ]
          },
          "metadata": {},
          "execution_count": 14
        }
      ]
    },
    {
      "cell_type": "code",
      "metadata": {
        "colab": {
          "base_uri": "https://localhost:8080/",
          "height": 80
        },
        "id": "d_xNsZ-yi25r",
        "outputId": "89b582c5-da5d-432a-ae81-b27225c23bfb"
      },
      "source": [
        "naver[naver.title == '그 기사가 레이디로 사는 법']"
      ],
      "execution_count": null,
      "outputs": [
        {
          "output_type": "execute_result",
          "data": {
            "text/html": [
              "<div>\n",
              "<style scoped>\n",
              "    .dataframe tbody tr th:only-of-type {\n",
              "        vertical-align: middle;\n",
              "    }\n",
              "\n",
              "    .dataframe tbody tr th {\n",
              "        vertical-align: top;\n",
              "    }\n",
              "\n",
              "    .dataframe thead th {\n",
              "        text-align: right;\n",
              "    }\n",
              "</style>\n",
              "<table border=\"1\" class=\"dataframe\">\n",
              "  <thead>\n",
              "    <tr style=\"text-align: right;\">\n",
              "      <th></th>\n",
              "      <th>title</th>\n",
              "      <th>writer</th>\n",
              "      <th>illustrator</th>\n",
              "      <th>day</th>\n",
              "      <th>genre</th>\n",
              "      <th>story</th>\n",
              "      <th>platform</th>\n",
              "    </tr>\n",
              "  </thead>\n",
              "  <tbody>\n",
              "    <tr>\n",
              "      <th>286</th>\n",
              "      <td>그 기사가 레이디로 사는 법</td>\n",
              "      <td>성혜림</td>\n",
              "      <td>Ink.</td>\n",
              "      <td>금</td>\n",
              "      <td>스토리, 판타지</td>\n",
              "      <td>가장 가까운 친우이자 믿었던 부관의 검이 내 몸을 관통했다. 다시 눈을 떴을 땐 적...</td>\n",
              "      <td>네이버 웹툰</td>\n",
              "    </tr>\n",
              "  </tbody>\n",
              "</table>\n",
              "</div>"
            ],
            "text/plain": [
              "               title  ... platform\n",
              "286  그 기사가 레이디로 사는 법  ...   네이버 웹툰\n",
              "\n",
              "[1 rows x 7 columns]"
            ]
          },
          "metadata": {},
          "execution_count": 15
        }
      ]
    },
    {
      "cell_type": "code",
      "metadata": {
        "colab": {
          "base_uri": "https://localhost:8080/",
          "height": 80
        },
        "id": "IqKFOEFRjH7Q",
        "outputId": "14b854dd-4219-468b-fb3a-57761a40473f"
      },
      "source": [
        "naver[naver.title == '헬 인 파라다이스']"
      ],
      "execution_count": null,
      "outputs": [
        {
          "output_type": "execute_result",
          "data": {
            "text/html": [
              "<div>\n",
              "<style scoped>\n",
              "    .dataframe tbody tr th:only-of-type {\n",
              "        vertical-align: middle;\n",
              "    }\n",
              "\n",
              "    .dataframe tbody tr th {\n",
              "        vertical-align: top;\n",
              "    }\n",
              "\n",
              "    .dataframe thead th {\n",
              "        text-align: right;\n",
              "    }\n",
              "</style>\n",
              "<table border=\"1\" class=\"dataframe\">\n",
              "  <thead>\n",
              "    <tr style=\"text-align: right;\">\n",
              "      <th></th>\n",
              "      <th>title</th>\n",
              "      <th>writer</th>\n",
              "      <th>illustrator</th>\n",
              "      <th>day</th>\n",
              "      <th>genre</th>\n",
              "      <th>story</th>\n",
              "      <th>platform</th>\n",
              "    </tr>\n",
              "  </thead>\n",
              "  <tbody>\n",
              "    <tr>\n",
              "      <th>176</th>\n",
              "      <td>헬 인 파라다이스</td>\n",
              "      <td>비열한 호떡</td>\n",
              "      <td>-2℃</td>\n",
              "      <td>완결</td>\n",
              "      <td>스토리, 로맨스</td>\n",
              "      <td>부모를 모르며 어렵게 자란 고2 여학생 조지아. 주변 사람들에게 멸시를 받고 그 흔...</td>\n",
              "      <td>네이버 웹툰</td>\n",
              "    </tr>\n",
              "  </tbody>\n",
              "</table>\n",
              "</div>"
            ],
            "text/plain": [
              "         title  ... platform\n",
              "176  헬 인 파라다이스  ...   네이버 웹툰\n",
              "\n",
              "[1 rows x 7 columns]"
            ]
          },
          "metadata": {},
          "execution_count": 16
        }
      ]
    },
    {
      "cell_type": "code",
      "metadata": {
        "id": "mW1TqvCPjj9w"
      },
      "source": [
        "kpw = pd.read_csv(path  + 'kp_week1_1.csv')\n",
        "kpc = pd.read_csv( path + 'kp_completed_1.csv')"
      ],
      "execution_count": null,
      "outputs": []
    },
    {
      "cell_type": "code",
      "metadata": {
        "colab": {
          "base_uri": "https://localhost:8080/",
          "height": 567
        },
        "id": "7Ju5H-lnkqM6",
        "outputId": "51eb82de-4b64-43d4-b1e7-25ae3f5ab0e3"
      },
      "source": [
        "kpw.head(3)"
      ],
      "execution_count": null,
      "outputs": [
        {
          "output_type": "execute_result",
          "data": {
            "text/html": [
              "<div>\n",
              "<style scoped>\n",
              "    .dataframe tbody tr th:only-of-type {\n",
              "        vertical-align: middle;\n",
              "    }\n",
              "\n",
              "    .dataframe tbody tr th {\n",
              "        vertical-align: top;\n",
              "    }\n",
              "\n",
              "    .dataframe thead th {\n",
              "        text-align: right;\n",
              "    }\n",
              "</style>\n",
              "<table border=\"1\" class=\"dataframe\">\n",
              "  <thead>\n",
              "    <tr style=\"text-align: right;\">\n",
              "      <th></th>\n",
              "      <th>Unnamed: 0</th>\n",
              "      <th>title</th>\n",
              "      <th>author</th>\n",
              "      <th>day</th>\n",
              "      <th>genre</th>\n",
              "      <th>story</th>\n",
              "      <th>platform</th>\n",
              "      <th>t_image</th>\n",
              "      <th>ID</th>\n",
              "    </tr>\n",
              "  </thead>\n",
              "  <tbody>\n",
              "    <tr>\n",
              "      <th>0</th>\n",
              "      <td>0</td>\n",
              "      <td>우선 남동생부터 숨기자</td>\n",
              "      <td>자목,천리,채지후</td>\n",
              "      <td>월</td>\n",
              "      <td>로판만화</td>\n",
              "      <td>하필이면 19금 다공일수 피폐 만화에 수의 하나뿐인 누나로 빙의하고 말았다! 재수없...</td>\n",
              "      <td>카카오페이지</td>\n",
              "      <td>cHyfs/hy41GaQT02/8lTAkYiB5MqJuKdoSmJEBK</td>\n",
              "      <td>57492806</td>\n",
              "    </tr>\n",
              "    <tr>\n",
              "      <th>1</th>\n",
              "      <td>1</td>\n",
              "      <td>이번 생은 가주가 되겠습니다</td>\n",
              "      <td>앤트스튜디오,몬, 앤트스튜디오,김로아</td>\n",
              "      <td>월</td>\n",
              "      <td>로판만화</td>\n",
              "      <td>한번 해 보자. 내가 가주가 되는 거야. 제국에서 제일가는 가문, 롬바르디의 사생아...</td>\n",
              "      <td>카카오페이지</td>\n",
              "      <td>cDeRi1/hyVkDNZUdD/WyUnrIQ0gkyKdkLzL5ajh1</td>\n",
              "      <td>56566288</td>\n",
              "    </tr>\n",
              "    <tr>\n",
              "      <th>2</th>\n",
              "      <td>2</td>\n",
              "      <td>묵향 다크레이디</td>\n",
              "      <td>이재헌,구깃,전동조</td>\n",
              "      <td>월</td>\n",
              "      <td>소년만화</td>\n",
              "      <td>마교의 교주로서 극강의 무공을 자랑하던 묵향은 적들 혈교 에 의해 생전 처음 보는 ...</td>\n",
              "      <td>카카오페이지</td>\n",
              "      <td>9Eoo5/hyATyGp2En/pYYjRkJJIrpHEvDible6T0</td>\n",
              "      <td>53216022</td>\n",
              "    </tr>\n",
              "  </tbody>\n",
              "</table>\n",
              "</div>"
            ],
            "text/plain": [
              "   Unnamed: 0  ...        ID\n",
              "0           0  ...  57492806\n",
              "1           1  ...  56566288\n",
              "2           2  ...  53216022\n",
              "\n",
              "[3 rows x 9 columns]"
            ]
          },
          "metadata": {},
          "execution_count": 25
        }
      ]
    },
    {
      "cell_type": "code",
      "metadata": {
        "colab": {
          "base_uri": "https://localhost:8080/",
          "height": 995
        },
        "id": "hNGH7bWOk03I",
        "outputId": "419cccfa-b4fa-4ad8-dee7-7ec3cc416b14"
      },
      "source": [
        "kpc.head(3)"
      ],
      "execution_count": null,
      "outputs": [
        {
          "output_type": "execute_result",
          "data": {
            "text/html": [
              "<div>\n",
              "<style scoped>\n",
              "    .dataframe tbody tr th:only-of-type {\n",
              "        vertical-align: middle;\n",
              "    }\n",
              "\n",
              "    .dataframe tbody tr th {\n",
              "        vertical-align: top;\n",
              "    }\n",
              "\n",
              "    .dataframe thead th {\n",
              "        text-align: right;\n",
              "    }\n",
              "</style>\n",
              "<table border=\"1\" class=\"dataframe\">\n",
              "  <thead>\n",
              "    <tr style=\"text-align: right;\">\n",
              "      <th></th>\n",
              "      <th>Unnamed: 0</th>\n",
              "      <th>title</th>\n",
              "      <th>author</th>\n",
              "      <th>day</th>\n",
              "      <th>genre</th>\n",
              "      <th>story</th>\n",
              "      <th>platform</th>\n",
              "      <th>t_image</th>\n",
              "      <th>ID</th>\n",
              "    </tr>\n",
              "  </thead>\n",
              "  <tbody>\n",
              "    <tr>\n",
              "      <th>0</th>\n",
              "      <td>0</td>\n",
              "      <td>그녀가 공작저로 가야 했던 사정</td>\n",
              "      <td>고래,밀차</td>\n",
              "      <td>완결</td>\n",
              "      <td>로판만화</td>\n",
              "      <td>의문의 사망 이후, 소설 속으로 빙의하게 된 재수생 박은하. 하지만 그녀가 빙의한 ...</td>\n",
              "      <td>카카오페이지</td>\n",
              "      <td>bGxtne/hyCvnb6VWb/Z6w9OMlI9P83urVF0kLahK</td>\n",
              "      <td>50242834</td>\n",
              "    </tr>\n",
              "    <tr>\n",
              "      <th>1</th>\n",
              "      <td>1</td>\n",
              "      <td>묵향 디 오리진</td>\n",
              "      <td>REDZIN,Silva(REDICE STUDIO),전동조</td>\n",
              "      <td>완결</td>\n",
              "      <td>액션무협만화</td>\n",
              "      <td>무협계 한 획을 그은 전동조 장편 소설 묵향 ! 암살자에서 무림 정점에 오르는 묵향...</td>\n",
              "      <td>카카오페이지</td>\n",
              "      <td>bOZ06o/hyQ9Rwb9mA/Y0a3dyuSZfKOzHFmEOCKm0</td>\n",
              "      <td>56458652</td>\n",
              "    </tr>\n",
              "    <tr>\n",
              "      <th>2</th>\n",
              "      <td>2</td>\n",
              "      <td>나는 마도왕이다</td>\n",
              "      <td>MIRO,데카스펠</td>\n",
              "      <td>완결</td>\n",
              "      <td>소년만화</td>\n",
              "      <td>10년 전, 차원이 비틀리며 몬스터가 쏟아져 나왔다. 동시에 생겨난 초능력 각성자들...</td>\n",
              "      <td>카카오페이지</td>\n",
              "      <td>bnW34D/hyATvCSUg0/meX5zyKHHw6k4TqGj0nFMk</td>\n",
              "      <td>52902073</td>\n",
              "    </tr>\n",
              "  </tbody>\n",
              "</table>\n",
              "</div>"
            ],
            "text/plain": [
              "   Unnamed: 0  ...        ID\n",
              "0           0  ...  50242834\n",
              "1           1  ...  56458652\n",
              "2           2  ...  52902073\n",
              "\n",
              "[3 rows x 9 columns]"
            ]
          },
          "metadata": {},
          "execution_count": 26
        }
      ]
    },
    {
      "cell_type": "code",
      "metadata": {
        "colab": {
          "base_uri": "https://localhost:8080/",
          "height": 567
        },
        "id": "MtmiGshxk5FS",
        "outputId": "b0f5b367-b1aa-4922-e4e9-509f79498dae"
      },
      "source": [
        "kp = pd.concat([kpw,kpc])\n",
        "kp.head(3)"
      ],
      "execution_count": null,
      "outputs": [
        {
          "output_type": "execute_result",
          "data": {
            "text/html": [
              "<div>\n",
              "<style scoped>\n",
              "    .dataframe tbody tr th:only-of-type {\n",
              "        vertical-align: middle;\n",
              "    }\n",
              "\n",
              "    .dataframe tbody tr th {\n",
              "        vertical-align: top;\n",
              "    }\n",
              "\n",
              "    .dataframe thead th {\n",
              "        text-align: right;\n",
              "    }\n",
              "</style>\n",
              "<table border=\"1\" class=\"dataframe\">\n",
              "  <thead>\n",
              "    <tr style=\"text-align: right;\">\n",
              "      <th></th>\n",
              "      <th>Unnamed: 0</th>\n",
              "      <th>title</th>\n",
              "      <th>author</th>\n",
              "      <th>day</th>\n",
              "      <th>genre</th>\n",
              "      <th>story</th>\n",
              "      <th>platform</th>\n",
              "      <th>t_image</th>\n",
              "      <th>ID</th>\n",
              "    </tr>\n",
              "  </thead>\n",
              "  <tbody>\n",
              "    <tr>\n",
              "      <th>0</th>\n",
              "      <td>0</td>\n",
              "      <td>우선 남동생부터 숨기자</td>\n",
              "      <td>자목,천리,채지후</td>\n",
              "      <td>월</td>\n",
              "      <td>로판만화</td>\n",
              "      <td>하필이면 19금 다공일수 피폐 만화에 수의 하나뿐인 누나로 빙의하고 말았다! 재수없...</td>\n",
              "      <td>카카오페이지</td>\n",
              "      <td>cHyfs/hy41GaQT02/8lTAkYiB5MqJuKdoSmJEBK</td>\n",
              "      <td>57492806</td>\n",
              "    </tr>\n",
              "    <tr>\n",
              "      <th>1</th>\n",
              "      <td>1</td>\n",
              "      <td>이번 생은 가주가 되겠습니다</td>\n",
              "      <td>앤트스튜디오,몬, 앤트스튜디오,김로아</td>\n",
              "      <td>월</td>\n",
              "      <td>로판만화</td>\n",
              "      <td>한번 해 보자. 내가 가주가 되는 거야. 제국에서 제일가는 가문, 롬바르디의 사생아...</td>\n",
              "      <td>카카오페이지</td>\n",
              "      <td>cDeRi1/hyVkDNZUdD/WyUnrIQ0gkyKdkLzL5ajh1</td>\n",
              "      <td>56566288</td>\n",
              "    </tr>\n",
              "    <tr>\n",
              "      <th>2</th>\n",
              "      <td>2</td>\n",
              "      <td>묵향 다크레이디</td>\n",
              "      <td>이재헌,구깃,전동조</td>\n",
              "      <td>월</td>\n",
              "      <td>소년만화</td>\n",
              "      <td>마교의 교주로서 극강의 무공을 자랑하던 묵향은 적들 혈교 에 의해 생전 처음 보는 ...</td>\n",
              "      <td>카카오페이지</td>\n",
              "      <td>9Eoo5/hyATyGp2En/pYYjRkJJIrpHEvDible6T0</td>\n",
              "      <td>53216022</td>\n",
              "    </tr>\n",
              "  </tbody>\n",
              "</table>\n",
              "</div>"
            ],
            "text/plain": [
              "   Unnamed: 0  ...        ID\n",
              "0           0  ...  57492806\n",
              "1           1  ...  56566288\n",
              "2           2  ...  53216022\n",
              "\n",
              "[3 rows x 9 columns]"
            ]
          },
          "metadata": {},
          "execution_count": 27
        }
      ]
    },
    {
      "cell_type": "code",
      "metadata": {
        "id": "OweC4C1elRaF"
      },
      "source": [
        "kp.drop(columns = ['Unnamed: 0','t_image','ID'],inplace=True)"
      ],
      "execution_count": null,
      "outputs": []
    },
    {
      "cell_type": "code",
      "metadata": {
        "colab": {
          "base_uri": "https://localhost:8080/",
          "height": 193
        },
        "id": "DFswZwKjlfu_",
        "outputId": "fcc70dcf-cb94-43c7-a14c-0c9d2cc32cb2"
      },
      "source": [
        "kp.head(3)"
      ],
      "execution_count": null,
      "outputs": [
        {
          "output_type": "execute_result",
          "data": {
            "text/html": [
              "<div>\n",
              "<style scoped>\n",
              "    .dataframe tbody tr th:only-of-type {\n",
              "        vertical-align: middle;\n",
              "    }\n",
              "\n",
              "    .dataframe tbody tr th {\n",
              "        vertical-align: top;\n",
              "    }\n",
              "\n",
              "    .dataframe thead th {\n",
              "        text-align: right;\n",
              "    }\n",
              "</style>\n",
              "<table border=\"1\" class=\"dataframe\">\n",
              "  <thead>\n",
              "    <tr style=\"text-align: right;\">\n",
              "      <th></th>\n",
              "      <th>title</th>\n",
              "      <th>author</th>\n",
              "      <th>day</th>\n",
              "      <th>genre</th>\n",
              "      <th>story</th>\n",
              "      <th>platform</th>\n",
              "    </tr>\n",
              "  </thead>\n",
              "  <tbody>\n",
              "    <tr>\n",
              "      <th>0</th>\n",
              "      <td>우선 남동생부터 숨기자</td>\n",
              "      <td>자목,천리,채지후</td>\n",
              "      <td>월</td>\n",
              "      <td>로판만화</td>\n",
              "      <td>하필이면 19금 다공일수 피폐 만화에 수의 하나뿐인 누나로 빙의하고 말았다! 재수없...</td>\n",
              "      <td>카카오페이지</td>\n",
              "    </tr>\n",
              "    <tr>\n",
              "      <th>1</th>\n",
              "      <td>이번 생은 가주가 되겠습니다</td>\n",
              "      <td>앤트스튜디오,몬, 앤트스튜디오,김로아</td>\n",
              "      <td>월</td>\n",
              "      <td>로판만화</td>\n",
              "      <td>한번 해 보자. 내가 가주가 되는 거야. 제국에서 제일가는 가문, 롬바르디의 사생아...</td>\n",
              "      <td>카카오페이지</td>\n",
              "    </tr>\n",
              "    <tr>\n",
              "      <th>2</th>\n",
              "      <td>묵향 다크레이디</td>\n",
              "      <td>이재헌,구깃,전동조</td>\n",
              "      <td>월</td>\n",
              "      <td>소년만화</td>\n",
              "      <td>마교의 교주로서 극강의 무공을 자랑하던 묵향은 적들 혈교 에 의해 생전 처음 보는 ...</td>\n",
              "      <td>카카오페이지</td>\n",
              "    </tr>\n",
              "  </tbody>\n",
              "</table>\n",
              "</div>"
            ],
            "text/plain": [
              "             title  ... platform\n",
              "0     우선 남동생부터 숨기자  ...   카카오페이지\n",
              "1  이번 생은 가주가 되겠습니다  ...   카카오페이지\n",
              "2         묵향 다크레이디  ...   카카오페이지\n",
              "\n",
              "[3 rows x 6 columns]"
            ]
          },
          "metadata": {},
          "execution_count": 30
        }
      ]
    },
    {
      "cell_type": "code",
      "metadata": {
        "colab": {
          "base_uri": "https://localhost:8080/",
          "height": 97
        },
        "id": "9tj0hr-rlvq6",
        "outputId": "cecd95c5-20fa-4b08-c670-651cea22dd4d"
      },
      "source": [
        "kp[kp.title == '명나라로 돌아가 왕이 되기']"
      ],
      "execution_count": null,
      "outputs": [
        {
          "output_type": "execute_result",
          "data": {
            "text/html": [
              "<div>\n",
              "<style scoped>\n",
              "    .dataframe tbody tr th:only-of-type {\n",
              "        vertical-align: middle;\n",
              "    }\n",
              "\n",
              "    .dataframe tbody tr th {\n",
              "        vertical-align: top;\n",
              "    }\n",
              "\n",
              "    .dataframe thead th {\n",
              "        text-align: right;\n",
              "    }\n",
              "</style>\n",
              "<table border=\"1\" class=\"dataframe\">\n",
              "  <thead>\n",
              "    <tr style=\"text-align: right;\">\n",
              "      <th></th>\n",
              "      <th>title</th>\n",
              "      <th>author</th>\n",
              "      <th>day</th>\n",
              "      <th>genre</th>\n",
              "      <th>story</th>\n",
              "      <th>platform</th>\n",
              "    </tr>\n",
              "  </thead>\n",
              "  <tbody>\n",
              "    <tr>\n",
              "      <th>114</th>\n",
              "      <td>명나라로 돌아가 왕이 되기</td>\n",
              "      <td>월관,난령(A-SOUL)</td>\n",
              "      <td>월</td>\n",
              "      <td>소년만화</td>\n",
              "      <td>케이블카 사고를 당한 주인공은 지옥의 옥졸인 우두마면 의 실수로 죽음을 맞이한다. ...</td>\n",
              "      <td>카카오페이지</td>\n",
              "    </tr>\n",
              "  </tbody>\n",
              "</table>\n",
              "</div>"
            ],
            "text/plain": [
              "              title  ... platform\n",
              "114  명나라로 돌아가 왕이 되기  ...   카카오페이지\n",
              "\n",
              "[1 rows x 6 columns]"
            ]
          },
          "metadata": {},
          "execution_count": 31
        }
      ]
    },
    {
      "cell_type": "code",
      "metadata": {
        "colab": {
          "base_uri": "https://localhost:8080/",
          "height": 244
        },
        "id": "XiYVNVSql-Bz",
        "outputId": "8a1007f8-1834-4fc7-a558-73ddfaec9e79"
      },
      "source": [
        "# kp.insert(1,'writer',0)\n",
        "# kp.insert(2,'illustrator',1)\n",
        "\n",
        "kp['writer'],kp['illustrator'] = zip(*kp['author'].apply(lambda x: [x.strip() for x in x.split(',')] if ',' in x else [x,x]))\n",
        "kp.head(3)"
      ],
      "execution_count": null,
      "outputs": [
        {
          "output_type": "execute_result",
          "data": {
            "text/html": [
              "<div>\n",
              "<style scoped>\n",
              "    .dataframe tbody tr th:only-of-type {\n",
              "        vertical-align: middle;\n",
              "    }\n",
              "\n",
              "    .dataframe tbody tr th {\n",
              "        vertical-align: top;\n",
              "    }\n",
              "\n",
              "    .dataframe thead th {\n",
              "        text-align: right;\n",
              "    }\n",
              "</style>\n",
              "<table border=\"1\" class=\"dataframe\">\n",
              "  <thead>\n",
              "    <tr style=\"text-align: right;\">\n",
              "      <th></th>\n",
              "      <th>title</th>\n",
              "      <th>writer</th>\n",
              "      <th>illustrator</th>\n",
              "      <th>author</th>\n",
              "      <th>day</th>\n",
              "      <th>genre</th>\n",
              "      <th>story</th>\n",
              "      <th>platform</th>\n",
              "    </tr>\n",
              "  </thead>\n",
              "  <tbody>\n",
              "    <tr>\n",
              "      <th>0</th>\n",
              "      <td>우선 남동생부터 숨기자</td>\n",
              "      <td>자목</td>\n",
              "      <td>천리</td>\n",
              "      <td>자목,천리,채지후</td>\n",
              "      <td>월</td>\n",
              "      <td>로판만화</td>\n",
              "      <td>하필이면 19금 다공일수 피폐 만화에 수의 하나뿐인 누나로 빙의하고 말았다! 재수없...</td>\n",
              "      <td>카카오페이지</td>\n",
              "    </tr>\n",
              "    <tr>\n",
              "      <th>1</th>\n",
              "      <td>이번 생은 가주가 되겠습니다</td>\n",
              "      <td>앤트스튜디오</td>\n",
              "      <td>몬</td>\n",
              "      <td>앤트스튜디오,몬, 앤트스튜디오,김로아</td>\n",
              "      <td>월</td>\n",
              "      <td>로판만화</td>\n",
              "      <td>한번 해 보자. 내가 가주가 되는 거야. 제국에서 제일가는 가문, 롬바르디의 사생아...</td>\n",
              "      <td>카카오페이지</td>\n",
              "    </tr>\n",
              "    <tr>\n",
              "      <th>2</th>\n",
              "      <td>묵향 다크레이디</td>\n",
              "      <td>이재헌</td>\n",
              "      <td>구깃</td>\n",
              "      <td>이재헌,구깃,전동조</td>\n",
              "      <td>월</td>\n",
              "      <td>소년만화</td>\n",
              "      <td>마교의 교주로서 극강의 무공을 자랑하던 묵향은 적들 혈교 에 의해 생전 처음 보는 ...</td>\n",
              "      <td>카카오페이지</td>\n",
              "    </tr>\n",
              "  </tbody>\n",
              "</table>\n",
              "</div>"
            ],
            "text/plain": [
              "             title  ... platform\n",
              "0     우선 남동생부터 숨기자  ...   카카오페이지\n",
              "1  이번 생은 가주가 되겠습니다  ...   카카오페이지\n",
              "2         묵향 다크레이디  ...   카카오페이지\n",
              "\n",
              "[3 rows x 8 columns]"
            ]
          },
          "metadata": {},
          "execution_count": 33
        }
      ]
    },
    {
      "cell_type": "code",
      "metadata": {
        "colab": {
          "base_uri": "https://localhost:8080/",
          "height": 114
        },
        "id": "t2fcuvY5m6aU",
        "outputId": "dd908b4e-facb-47c4-b009-620868d623ac"
      },
      "source": [
        "kp[kp.title == '로벨: 악의를 계승받은 자']"
      ],
      "execution_count": null,
      "outputs": [
        {
          "output_type": "execute_result",
          "data": {
            "text/html": [
              "<div>\n",
              "<style scoped>\n",
              "    .dataframe tbody tr th:only-of-type {\n",
              "        vertical-align: middle;\n",
              "    }\n",
              "\n",
              "    .dataframe tbody tr th {\n",
              "        vertical-align: top;\n",
              "    }\n",
              "\n",
              "    .dataframe thead th {\n",
              "        text-align: right;\n",
              "    }\n",
              "</style>\n",
              "<table border=\"1\" class=\"dataframe\">\n",
              "  <thead>\n",
              "    <tr style=\"text-align: right;\">\n",
              "      <th></th>\n",
              "      <th>title</th>\n",
              "      <th>writer</th>\n",
              "      <th>illustrator</th>\n",
              "      <th>author</th>\n",
              "      <th>day</th>\n",
              "      <th>genre</th>\n",
              "      <th>story</th>\n",
              "      <th>platform</th>\n",
              "    </tr>\n",
              "  </thead>\n",
              "  <tbody>\n",
              "    <tr>\n",
              "      <th>95</th>\n",
              "      <td>로벨: 악의를 계승받은 자</td>\n",
              "      <td>MOKF</td>\n",
              "      <td>가심(可心)</td>\n",
              "      <td>MOKF,가심(可心)</td>\n",
              "      <td>월, 목</td>\n",
              "      <td>소년만화</td>\n",
              "      <td>초강대국 슈르트와 라이오니아의 영토 분쟁은 수많은 전쟁을 일으켰고 전장의 승패를 가...</td>\n",
              "      <td>카카오페이지</td>\n",
              "    </tr>\n",
              "  </tbody>\n",
              "</table>\n",
              "</div>"
            ],
            "text/plain": [
              "             title  ... platform\n",
              "95  로벨: 악의를 계승받은 자  ...   카카오페이지\n",
              "\n",
              "[1 rows x 8 columns]"
            ]
          },
          "metadata": {},
          "execution_count": 34
        }
      ]
    },
    {
      "cell_type": "code",
      "metadata": {
        "id": "9AgiC0y3nLiz"
      },
      "source": [
        "kp.drop('author',axis =1,inplace=True)"
      ],
      "execution_count": null,
      "outputs": []
    },
    {
      "cell_type": "code",
      "metadata": {
        "colab": {
          "base_uri": "https://localhost:8080/",
          "height": 193
        },
        "id": "wGN9_gnMnSsT",
        "outputId": "fc913a9c-90f1-4816-93d3-4cc0fd396448"
      },
      "source": [
        "df = pd.concat([naver,kp])\n",
        "df.head(3)"
      ],
      "execution_count": null,
      "outputs": [
        {
          "output_type": "execute_result",
          "data": {
            "text/html": [
              "<div>\n",
              "<style scoped>\n",
              "    .dataframe tbody tr th:only-of-type {\n",
              "        vertical-align: middle;\n",
              "    }\n",
              "\n",
              "    .dataframe tbody tr th {\n",
              "        vertical-align: top;\n",
              "    }\n",
              "\n",
              "    .dataframe thead th {\n",
              "        text-align: right;\n",
              "    }\n",
              "</style>\n",
              "<table border=\"1\" class=\"dataframe\">\n",
              "  <thead>\n",
              "    <tr style=\"text-align: right;\">\n",
              "      <th></th>\n",
              "      <th>title</th>\n",
              "      <th>writer</th>\n",
              "      <th>illustrator</th>\n",
              "      <th>day</th>\n",
              "      <th>genre</th>\n",
              "      <th>story</th>\n",
              "      <th>platform</th>\n",
              "    </tr>\n",
              "  </thead>\n",
              "  <tbody>\n",
              "    <tr>\n",
              "      <th>0</th>\n",
              "      <td>참교육</td>\n",
              "      <td>채용택</td>\n",
              "      <td>한가람</td>\n",
              "      <td>월</td>\n",
              "      <td>스토리, 액션</td>\n",
              "      <td>무너진 교권을 지키기 위해 교권보호국 소속 나화진의 참교육이 시작된다! 부활남 채용...</td>\n",
              "      <td>네이버 웹툰</td>\n",
              "    </tr>\n",
              "    <tr>\n",
              "      <th>1</th>\n",
              "      <td>신의 탑</td>\n",
              "      <td>SIU</td>\n",
              "      <td>SIU</td>\n",
              "      <td>월</td>\n",
              "      <td>스토리, 판타지</td>\n",
              "      <td>자신의 모든 것이었던 소녀를 쫓아 탑에 들어온 소년 그리고 그런 소년을 시험하는 탑</td>\n",
              "      <td>네이버 웹툰</td>\n",
              "    </tr>\n",
              "    <tr>\n",
              "      <th>2</th>\n",
              "      <td>뷰티풀 군바리</td>\n",
              "      <td>설이</td>\n",
              "      <td>윤성원</td>\n",
              "      <td>월</td>\n",
              "      <td>스토리, 드라마</td>\n",
              "      <td>여자도 군대에 간다면? 본격 여자도 군대 가는 만화!</td>\n",
              "      <td>네이버 웹툰</td>\n",
              "    </tr>\n",
              "  </tbody>\n",
              "</table>\n",
              "</div>"
            ],
            "text/plain": [
              "     title writer  ...                                              story platform\n",
              "0      참교육    채용택  ...  무너진 교권을 지키기 위해 교권보호국 소속 나화진의 참교육이 시작된다! 부활남 채용...   네이버 웹툰\n",
              "1     신의 탑    SIU  ...     자신의 모든 것이었던 소녀를 쫓아 탑에 들어온 소년 그리고 그런 소년을 시험하는 탑   네이버 웹툰\n",
              "2  뷰티풀 군바리     설이  ...                      여자도 군대에 간다면? 본격 여자도 군대 가는 만화!   네이버 웹툰\n",
              "\n",
              "[3 rows x 7 columns]"
            ]
          },
          "metadata": {},
          "execution_count": 36
        }
      ]
    },
    {
      "cell_type": "code",
      "metadata": {
        "colab": {
          "base_uri": "https://localhost:8080/",
          "height": 289
        },
        "id": "DN1NOacEnjbz",
        "outputId": "d41ec1c0-a8f3-4548-c16e-c863671c5b42"
      },
      "source": [
        "df_target =pd.read_csv(path + 'dataset_genre.csv',encoding='cp949')\n",
        "df_target.head()"
      ],
      "execution_count": null,
      "outputs": [
        {
          "output_type": "execute_result",
          "data": {
            "text/html": [
              "<div>\n",
              "<style scoped>\n",
              "    .dataframe tbody tr th:only-of-type {\n",
              "        vertical-align: middle;\n",
              "    }\n",
              "\n",
              "    .dataframe tbody tr th {\n",
              "        vertical-align: top;\n",
              "    }\n",
              "\n",
              "    .dataframe thead th {\n",
              "        text-align: right;\n",
              "    }\n",
              "</style>\n",
              "<table border=\"1\" class=\"dataframe\">\n",
              "  <thead>\n",
              "    <tr style=\"text-align: right;\">\n",
              "      <th></th>\n",
              "      <th>title</th>\n",
              "      <th>day</th>\n",
              "      <th>writer</th>\n",
              "      <th>illustrator</th>\n",
              "      <th>story</th>\n",
              "      <th>platform</th>\n",
              "      <th>genre</th>\n",
              "    </tr>\n",
              "  </thead>\n",
              "  <tbody>\n",
              "    <tr>\n",
              "      <th>0</th>\n",
              "      <td>참교육</td>\n",
              "      <td>월</td>\n",
              "      <td>채용택</td>\n",
              "      <td>한가람</td>\n",
              "      <td>무너진 교권을 지키기 위해 교권보호국 소속 나화진의 참교육이 시작된다! 부활남 채용...</td>\n",
              "      <td>네이버 웹툰</td>\n",
              "      <td>액션</td>\n",
              "    </tr>\n",
              "    <tr>\n",
              "      <th>1</th>\n",
              "      <td>신의 탑</td>\n",
              "      <td>월</td>\n",
              "      <td>SIU</td>\n",
              "      <td>SIU</td>\n",
              "      <td>자신의 모든 것이었던 소녀를 쫓아 탑에 들어온 소년 그리고 그런 소년을 시험하는 탑</td>\n",
              "      <td>네이버 웹툰</td>\n",
              "      <td>판타지</td>\n",
              "    </tr>\n",
              "    <tr>\n",
              "      <th>2</th>\n",
              "      <td>뷰티풀 군바리</td>\n",
              "      <td>월</td>\n",
              "      <td>설이</td>\n",
              "      <td>윤성원</td>\n",
              "      <td>여자도 군대에 간다면? 본격 여자도 군대 가는 만화!</td>\n",
              "      <td>네이버 웹툰</td>\n",
              "      <td>드라마</td>\n",
              "    </tr>\n",
              "    <tr>\n",
              "      <th>3</th>\n",
              "      <td>윈드브레이커</td>\n",
              "      <td>월</td>\n",
              "      <td>조용석</td>\n",
              "      <td>조용석</td>\n",
              "      <td>혼자서 자전거를 즐겨타던 모범생 조자현. 원치 않게 자전거 크루의 일에 자꾸 휘말리...</td>\n",
              "      <td>네이버 웹툰</td>\n",
              "      <td>스포츠</td>\n",
              "    </tr>\n",
              "    <tr>\n",
              "      <th>4</th>\n",
              "      <td>팔이피플</td>\n",
              "      <td>월</td>\n",
              "      <td>매미</td>\n",
              "      <td>희세</td>\n",
              "      <td>마스크걸 , 위대한 방옥숙 매미 희세 작가의 신작! 에서 육아용품 파는 평범한 유부...</td>\n",
              "      <td>네이버 웹툰</td>\n",
              "      <td>드라마</td>\n",
              "    </tr>\n",
              "  </tbody>\n",
              "</table>\n",
              "</div>"
            ],
            "text/plain": [
              "     title day  ... platform genre\n",
              "0      참교육   월  ...   네이버 웹툰    액션\n",
              "1     신의 탑   월  ...   네이버 웹툰   판타지\n",
              "2  뷰티풀 군바리   월  ...   네이버 웹툰   드라마\n",
              "3   윈드브레이커   월  ...   네이버 웹툰   스포츠\n",
              "4     팔이피플   월  ...   네이버 웹툰   드라마\n",
              "\n",
              "[5 rows x 7 columns]"
            ]
          },
          "metadata": {},
          "execution_count": 37
        }
      ]
    },
    {
      "cell_type": "code",
      "metadata": {
        "id": "FfVtmWbrn0Pz"
      },
      "source": [
        "df_unchanged =df_target[~((df_target.platform == '네이버 웹툰')|(df_target.platform == '카카오페이지'))]"
      ],
      "execution_count": null,
      "outputs": []
    },
    {
      "cell_type": "code",
      "metadata": {
        "colab": {
          "base_uri": "https://localhost:8080/",
          "height": 193
        },
        "id": "LcL1A9uOojWv",
        "outputId": "03f9e5f9-dacb-4064-bb23-250faf7e9157"
      },
      "source": [
        "df_changed= pd.concat([df_unchanged,df])\n",
        "df_changed.head(3)"
      ],
      "execution_count": null,
      "outputs": [
        {
          "output_type": "execute_result",
          "data": {
            "text/html": [
              "<div>\n",
              "<style scoped>\n",
              "    .dataframe tbody tr th:only-of-type {\n",
              "        vertical-align: middle;\n",
              "    }\n",
              "\n",
              "    .dataframe tbody tr th {\n",
              "        vertical-align: top;\n",
              "    }\n",
              "\n",
              "    .dataframe thead th {\n",
              "        text-align: right;\n",
              "    }\n",
              "</style>\n",
              "<table border=\"1\" class=\"dataframe\">\n",
              "  <thead>\n",
              "    <tr style=\"text-align: right;\">\n",
              "      <th></th>\n",
              "      <th>title</th>\n",
              "      <th>day</th>\n",
              "      <th>writer</th>\n",
              "      <th>illustrator</th>\n",
              "      <th>story</th>\n",
              "      <th>platform</th>\n",
              "      <th>genre</th>\n",
              "    </tr>\n",
              "  </thead>\n",
              "  <tbody>\n",
              "    <tr>\n",
              "      <th>1469</th>\n",
              "      <td>바니와 오빠들</td>\n",
              "      <td>월</td>\n",
              "      <td>니은</td>\n",
              "      <td>니은</td>\n",
              "      <td>외모 따지지 않는 개념녀 ? 아니, 나 완전 얼빠 야! 신입생 시절, 남자의 외모를...</td>\n",
              "      <td>카카오웹툰</td>\n",
              "      <td>로맨스</td>\n",
              "    </tr>\n",
              "    <tr>\n",
              "      <th>1470</th>\n",
              "      <td>사귄 건 아닌데</td>\n",
              "      <td>월</td>\n",
              "      <td>민홍</td>\n",
              "      <td>민홍</td>\n",
              "      <td>스물아홉 살, 서른을 목전에 둔 나이. 고수아는 그 나이가 괜히 심란하다. 고향을 ...</td>\n",
              "      <td>카카오웹툰</td>\n",
              "      <td>로맨스</td>\n",
              "    </tr>\n",
              "    <tr>\n",
              "      <th>1471</th>\n",
              "      <td>액괴</td>\n",
              "      <td>월</td>\n",
              "      <td>서강용</td>\n",
              "      <td>서강용</td>\n",
              "      <td>일진들에게 수모를 당하며 황색망사점균을 먹게 된 교내 왕따 수와 진오. 그로 인해 ...</td>\n",
              "      <td>카카오웹툰</td>\n",
              "      <td>학원, 판타지</td>\n",
              "    </tr>\n",
              "  </tbody>\n",
              "</table>\n",
              "</div>"
            ],
            "text/plain": [
              "         title day  ... platform    genre\n",
              "1469   바니와 오빠들   월  ...    카카오웹툰      로맨스\n",
              "1470  사귄 건 아닌데   월  ...    카카오웹툰      로맨스\n",
              "1471        액괴   월  ...    카카오웹툰  학원, 판타지\n",
              "\n",
              "[3 rows x 7 columns]"
            ]
          },
          "metadata": {},
          "execution_count": 46
        }
      ]
    },
    {
      "cell_type": "code",
      "metadata": {
        "colab": {
          "base_uri": "https://localhost:8080/"
        },
        "id": "t0NXqSwvo0j7",
        "outputId": "7681246f-c1f2-48b6-ae40-b1822498382c"
      },
      "source": [
        "df_changed.isna().sum()"
      ],
      "execution_count": null,
      "outputs": [
        {
          "output_type": "execute_result",
          "data": {
            "text/plain": [
              "title          0\n",
              "day            0\n",
              "writer         0\n",
              "illustrator    0\n",
              "story          0\n",
              "platform       0\n",
              "genre          0\n",
              "dtype: int64"
            ]
          },
          "metadata": {},
          "execution_count": 47
        }
      ]
    },
    {
      "cell_type": "code",
      "metadata": {
        "colab": {
          "base_uri": "https://localhost:8080/"
        },
        "id": "AJXqzdQnpDzU",
        "outputId": "ecba45f0-da0f-4b30-fa5a-985e05af6f19"
      },
      "source": [
        "df_changed.info()"
      ],
      "execution_count": null,
      "outputs": [
        {
          "output_type": "stream",
          "name": "stdout",
          "text": [
            "<class 'pandas.core.frame.DataFrame'>\n",
            "Int64Index: 4286 entries, 1469 to 851\n",
            "Data columns (total 7 columns):\n",
            " #   Column       Non-Null Count  Dtype \n",
            "---  ------       --------------  ----- \n",
            " 0   title        4286 non-null   object\n",
            " 1   day          4286 non-null   object\n",
            " 2   writer       4286 non-null   object\n",
            " 3   illustrator  4286 non-null   object\n",
            " 4   story        4286 non-null   object\n",
            " 5   platform     4286 non-null   object\n",
            " 6   genre        4286 non-null   object\n",
            "dtypes: object(7)\n",
            "memory usage: 267.9+ KB\n"
          ]
        }
      ]
    },
    {
      "cell_type": "code",
      "metadata": {
        "colab": {
          "base_uri": "https://localhost:8080/"
        },
        "id": "Cvv0YGqWpHk3",
        "outputId": "0a955999-f1e7-40e9-b8f3-f3a0f8e58241"
      },
      "source": [
        "df_changed.genre.unique()"
      ],
      "execution_count": null,
      "outputs": [
        {
          "output_type": "execute_result",
          "data": {
            "text/plain": [
              "array(['로맨스', '학원, 판타지', '로맨스, 판타지', '코믹, 일상', '액션, 무협', '공포,스릴러',\n",
              "       '판타지 드라마', '드라마', '일상', '판타지', 'BL, GL', '개그', '미스터리', '학원', '액션',\n",
              "       '스토리, 액션', '스토리, 판타지', '스토리, 드라마', '스토리, 스포츠', '스토리, 스릴러',\n",
              "       '스토리, 로맨스', '에피소드, 드라마', '옴니버스, 판타지', '옴니버스, 일상', '에피소드, 개그',\n",
              "       '스토리, 개그', '에피소드, 일상', '옴니버스, 드라마', '스토리, 감성', '스토리, 시대극',\n",
              "       '에피소드, 액션', '에피소드, 판타지', '에피소드, 시대극', '에피소드, 스릴러', '스토리, 일상',\n",
              "       '옴니버스, 로맨스', '옴니버스, 스릴러', '옴니버스, 개그', '에피소드, 로맨스', '옴니버스, 감성',\n",
              "       '에피소드, 감성', '옴니버스, 액션', '에피소드, 스포츠', '옴니버스, 스포츠', '로판만화', '소년만화',\n",
              "       '액션무협만화', '드라마만화', '로맨스만화', 'BL/GL만화'], dtype=object)"
            ]
          },
          "metadata": {},
          "execution_count": 49
        }
      ]
    },
    {
      "cell_type": "code",
      "metadata": {
        "id": "_l3DIvOCpfsr"
      },
      "source": [
        "df_changed.genre.replace({'로판만화':'로맨스, 판타지','로맨스만화':'로맨스','BL':'BL, GL','BL/GL':'BL, GL','BL/GL만화':'BL, GL',\n",
        "                     '로맨스 판타지':'로맨스, 판타지','액션무협만화':'액션, 무협','액션/무협':'액션, 무협','코믹/일상': '코믹, 일상',\n",
        "                     '공포/스릴러':'공포,스릴러','학원/판타지':'학원, 판타지','백합':'BL, GL','스토리, 액션':'액션', '스토리, 판타지':'판타지', '스토리, 드라마':'드라마', '스토리, 스포츠':'스포츠', '스토리, 스릴러':'스릴러',\n",
        "                     '스토리, 로맨스':'로맨스', '에피소드, 드라마':'드라마', '옴니버스, 판타지':'판타지', '옴니버스, 일상':'일상', '에피소드, 개그':'개그','스토리, 개그':'개그', '에피소드, 일상':'일상', \n",
        "                     '옴니버스, 드라마':'드라마', '스토리, 감성':'감성', '스토리, 시대극':'시대극','에피소드, 액션':'액션', '에피소드, 판타지':'판타지', '에피소드, 시대극':'시대극', '에피소드, 스릴러':'스릴러', '스토리, 일상':'일상',\n",
        "                     '옴니버스, 개그':'개그'},inplace=True)"
      ],
      "execution_count": null,
      "outputs": []
    },
    {
      "cell_type": "code",
      "metadata": {
        "id": "6FlLIdQWqGEf"
      },
      "source": [
        "df_changed.genre.replace({'옴니버스, 로맨스':'로멘스', '옴니버스, 감성':'감성', '에피소드, 감성':'감성',\n",
        "                     '옴니버스, 액션':'액션', '에피소드, 스포츠':'스포츠', '옴니버스, 스포츠':'스포츠'},inplace=True)"
      ],
      "execution_count": null,
      "outputs": []
    },
    {
      "cell_type": "code",
      "metadata": {
        "colab": {
          "base_uri": "https://localhost:8080/"
        },
        "id": "ToMDRIKMqKJb",
        "outputId": "49524dd5-e00f-4627-a186-b0e5a6efd42a"
      },
      "source": [
        "df_changed.genre.unique()"
      ],
      "execution_count": null,
      "outputs": [
        {
          "output_type": "execute_result",
          "data": {
            "text/plain": [
              "array(['로맨스', '학원, 판타지', '로맨스, 판타지', '코믹, 일상', '액션, 무협', '공포,스릴러',\n",
              "       '판타지 드라마', '드라마', '일상', '판타지', 'BL, GL', '개그', '미스터리', '학원', '액션',\n",
              "       '스포츠', '스릴러', '감성', '시대극', '로멘스', '옴니버스, 스릴러', '에피소드, 로맨스', '소년만화',\n",
              "       '드라마만화'], dtype=object)"
            ]
          },
          "metadata": {},
          "execution_count": 52
        }
      ]
    },
    {
      "cell_type": "code",
      "metadata": {
        "id": "OCo0Xjv-qNHr"
      },
      "source": [
        "df_changed.to_csv(path+'dataset.csv',encoding='utf-8')"
      ],
      "execution_count": null,
      "outputs": []
    },
    {
      "cell_type": "markdown",
      "metadata": {
        "id": "qgk39QbVQaPx"
      },
      "source": [
        "### 영성님 작업 전처리"
      ]
    },
    {
      "cell_type": "code",
      "metadata": {
        "id": "R2AVLw6wQY1u"
      },
      "source": [
        "import pandas as pd\n",
        "path = '/content/drive/MyDrive/Colab Notebooks/final/'\n",
        "web = pd.read_csv(path + 'webtoon최종.csv',encoding='cp949')"
      ],
      "execution_count": 2,
      "outputs": []
    },
    {
      "cell_type": "code",
      "metadata": {
        "id": "dvNKiNrYqXvT",
        "colab": {
          "base_uri": "https://localhost:8080/",
          "height": 1000
        },
        "outputId": "b1aa5379-6e3b-48f8-e93d-c6d9cad29a1b"
      },
      "source": [
        "web.head()"
      ],
      "execution_count": 3,
      "outputs": [
        {
          "output_type": "execute_result",
          "data": {
            "text/html": [
              "<div>\n",
              "<style scoped>\n",
              "    .dataframe tbody tr th:only-of-type {\n",
              "        vertical-align: middle;\n",
              "    }\n",
              "\n",
              "    .dataframe tbody tr th {\n",
              "        vertical-align: top;\n",
              "    }\n",
              "\n",
              "    .dataframe thead th {\n",
              "        text-align: right;\n",
              "    }\n",
              "</style>\n",
              "<table border=\"1\" class=\"dataframe\">\n",
              "  <thead>\n",
              "    <tr style=\"text-align: right;\">\n",
              "      <th></th>\n",
              "      <th>Unnamed: 0</th>\n",
              "      <th>title</th>\n",
              "      <th>day</th>\n",
              "      <th>writer</th>\n",
              "      <th>illustrator</th>\n",
              "      <th>story</th>\n",
              "      <th>platform</th>\n",
              "      <th>genre</th>\n",
              "      <th>Unnamed: 8</th>\n",
              "      <th>Unnamed: 9</th>\n",
              "      <th>Unnamed: 10</th>\n",
              "      <th>Unnamed: 11</th>\n",
              "      <th>Unnamed: 12</th>\n",
              "      <th>Unnamed: 13</th>\n",
              "    </tr>\n",
              "  </thead>\n",
              "  <tbody>\n",
              "    <tr>\n",
              "      <th>0</th>\n",
              "      <td>0</td>\n",
              "      <td>참교육</td>\n",
              "      <td>월</td>\n",
              "      <td>채용택</td>\n",
              "      <td>한가람</td>\n",
              "      <td>무너진 교권을 지키기 위해 교권보호국 소속 나화진의 참교육이 시작된다! 부활남 채용...</td>\n",
              "      <td>네이버 웹툰</td>\n",
              "      <td>스토리, 액션</td>\n",
              "      <td>NaN</td>\n",
              "      <td>NaN</td>\n",
              "      <td>NaN</td>\n",
              "      <td>NaN</td>\n",
              "      <td>NaN</td>\n",
              "      <td>NaN</td>\n",
              "    </tr>\n",
              "    <tr>\n",
              "      <th>1</th>\n",
              "      <td>1</td>\n",
              "      <td>신의 탑</td>\n",
              "      <td>월</td>\n",
              "      <td>SIU</td>\n",
              "      <td>SIU</td>\n",
              "      <td>자신의 모든 것이었던 소녀를 쫓아 탑에 들어온 소년 그리고 그런 소년을 시험하는 탑</td>\n",
              "      <td>네이버 웹툰</td>\n",
              "      <td>스토리, 판타지</td>\n",
              "      <td>NaN</td>\n",
              "      <td>NaN</td>\n",
              "      <td>NaN</td>\n",
              "      <td>NaN</td>\n",
              "      <td>NaN</td>\n",
              "      <td>NaN</td>\n",
              "    </tr>\n",
              "    <tr>\n",
              "      <th>2</th>\n",
              "      <td>2</td>\n",
              "      <td>뷰티풀 군바리</td>\n",
              "      <td>월</td>\n",
              "      <td>설이</td>\n",
              "      <td>윤성원</td>\n",
              "      <td>여자도 군대에 간다면? 본격 여자도 군대 가는 만화!</td>\n",
              "      <td>네이버 웹툰</td>\n",
              "      <td>스토리, 드라마</td>\n",
              "      <td>NaN</td>\n",
              "      <td>NaN</td>\n",
              "      <td>NaN</td>\n",
              "      <td>NaN</td>\n",
              "      <td>NaN</td>\n",
              "      <td>NaN</td>\n",
              "    </tr>\n",
              "    <tr>\n",
              "      <th>3</th>\n",
              "      <td>3</td>\n",
              "      <td>윈드브레이커</td>\n",
              "      <td>월</td>\n",
              "      <td>조용석</td>\n",
              "      <td>조용석</td>\n",
              "      <td>혼자서 자전거를 즐겨타던 모범생 조자현. 원치 않게 자전거 크루의 일에 자꾸 휘말리...</td>\n",
              "      <td>네이버 웹툰</td>\n",
              "      <td>스토리, 스포츠</td>\n",
              "      <td>NaN</td>\n",
              "      <td>NaN</td>\n",
              "      <td>NaN</td>\n",
              "      <td>NaN</td>\n",
              "      <td>NaN</td>\n",
              "      <td>NaN</td>\n",
              "    </tr>\n",
              "    <tr>\n",
              "      <th>4</th>\n",
              "      <td>4</td>\n",
              "      <td>팔이피플</td>\n",
              "      <td>월</td>\n",
              "      <td>매미</td>\n",
              "      <td>희세</td>\n",
              "      <td>마스크걸 , 위대한 방옥숙 매미 희세 작가의 신작! 에서 육아용품 파는 평범한 유부...</td>\n",
              "      <td>네이버 웹툰</td>\n",
              "      <td>스토리, 드라마</td>\n",
              "      <td>NaN</td>\n",
              "      <td>NaN</td>\n",
              "      <td>NaN</td>\n",
              "      <td>NaN</td>\n",
              "      <td>NaN</td>\n",
              "      <td>NaN</td>\n",
              "    </tr>\n",
              "  </tbody>\n",
              "</table>\n",
              "</div>"
            ],
            "text/plain": [
              "   Unnamed: 0    title day  ... Unnamed: 11 Unnamed: 12 Unnamed: 13\n",
              "0           0      참교육   월  ...         NaN         NaN         NaN\n",
              "1           1     신의 탑   월  ...         NaN         NaN         NaN\n",
              "2           2  뷰티풀 군바리   월  ...         NaN         NaN         NaN\n",
              "3           3   윈드브레이커   월  ...         NaN         NaN         NaN\n",
              "4           4     팔이피플   월  ...         NaN         NaN         NaN\n",
              "\n",
              "[5 rows x 14 columns]"
            ]
          },
          "metadata": {},
          "execution_count": 3
        }
      ]
    },
    {
      "cell_type": "code",
      "metadata": {
        "colab": {
          "base_uri": "https://localhost:8080/",
          "height": 193
        },
        "id": "s0btV0aCQ18d",
        "outputId": "863c2e4a-42d8-4415-e28f-a1d2c4061607"
      },
      "source": [
        "web=web[['title','writer','illustrator','day','genre','story','platform']]\n",
        "web.head(3)"
      ],
      "execution_count": 4,
      "outputs": [
        {
          "output_type": "execute_result",
          "data": {
            "text/html": [
              "<div>\n",
              "<style scoped>\n",
              "    .dataframe tbody tr th:only-of-type {\n",
              "        vertical-align: middle;\n",
              "    }\n",
              "\n",
              "    .dataframe tbody tr th {\n",
              "        vertical-align: top;\n",
              "    }\n",
              "\n",
              "    .dataframe thead th {\n",
              "        text-align: right;\n",
              "    }\n",
              "</style>\n",
              "<table border=\"1\" class=\"dataframe\">\n",
              "  <thead>\n",
              "    <tr style=\"text-align: right;\">\n",
              "      <th></th>\n",
              "      <th>title</th>\n",
              "      <th>writer</th>\n",
              "      <th>illustrator</th>\n",
              "      <th>day</th>\n",
              "      <th>genre</th>\n",
              "      <th>story</th>\n",
              "      <th>platform</th>\n",
              "    </tr>\n",
              "  </thead>\n",
              "  <tbody>\n",
              "    <tr>\n",
              "      <th>0</th>\n",
              "      <td>참교육</td>\n",
              "      <td>채용택</td>\n",
              "      <td>한가람</td>\n",
              "      <td>월</td>\n",
              "      <td>스토리, 액션</td>\n",
              "      <td>무너진 교권을 지키기 위해 교권보호국 소속 나화진의 참교육이 시작된다! 부활남 채용...</td>\n",
              "      <td>네이버 웹툰</td>\n",
              "    </tr>\n",
              "    <tr>\n",
              "      <th>1</th>\n",
              "      <td>신의 탑</td>\n",
              "      <td>SIU</td>\n",
              "      <td>SIU</td>\n",
              "      <td>월</td>\n",
              "      <td>스토리, 판타지</td>\n",
              "      <td>자신의 모든 것이었던 소녀를 쫓아 탑에 들어온 소년 그리고 그런 소년을 시험하는 탑</td>\n",
              "      <td>네이버 웹툰</td>\n",
              "    </tr>\n",
              "    <tr>\n",
              "      <th>2</th>\n",
              "      <td>뷰티풀 군바리</td>\n",
              "      <td>설이</td>\n",
              "      <td>윤성원</td>\n",
              "      <td>월</td>\n",
              "      <td>스토리, 드라마</td>\n",
              "      <td>여자도 군대에 간다면? 본격 여자도 군대 가는 만화!</td>\n",
              "      <td>네이버 웹툰</td>\n",
              "    </tr>\n",
              "  </tbody>\n",
              "</table>\n",
              "</div>"
            ],
            "text/plain": [
              "     title writer  ...                                              story platform\n",
              "0      참교육    채용택  ...  무너진 교권을 지키기 위해 교권보호국 소속 나화진의 참교육이 시작된다! 부활남 채용...   네이버 웹툰\n",
              "1     신의 탑    SIU  ...     자신의 모든 것이었던 소녀를 쫓아 탑에 들어온 소년 그리고 그런 소년을 시험하는 탑   네이버 웹툰\n",
              "2  뷰티풀 군바리     설이  ...                      여자도 군대에 간다면? 본격 여자도 군대 가는 만화!   네이버 웹툰\n",
              "\n",
              "[3 rows x 7 columns]"
            ]
          },
          "metadata": {},
          "execution_count": 4
        }
      ]
    },
    {
      "cell_type": "markdown",
      "metadata": {
        "id": "1i7CTxz66A2h"
      },
      "source": [
        "### 장르변환"
      ]
    },
    {
      "cell_type": "code",
      "metadata": {
        "id": "mdJ32eZnQ_Y0"
      },
      "source": [
        "web.genre.replace({'로판만화':'로맨스, 판타지','로맨스만화':'로맨스','BL':'BL, GL','BL/GL':'BL, GL','BL/GL만화':'BL, GL',\n",
        "                     '로맨스 판타지':'로맨스, 판타지','액션무협만화':'액션, 무협','액션/무협':'액션, 무협','코믹/일상': '코믹, 일상',\n",
        "                     '공포/스릴러':'공포,스릴러','학원/판타지':'학원, 판타지','백합':'BL, GL','스토리, 액션':'액션', '스토리, 판타지':'판타지', '스토리, 드라마':'드라마', '스토리, 스포츠':'스포츠', '스토리, 스릴러':'스릴러',\n",
        "                     '스토리, 로맨스':'로맨스', '에피소드, 드라마':'드라마', '옴니버스, 판타지':'판타지', '옴니버스, 일상':'일상', '에피소드, 개그':'개그','스토리, 개그':'개그', '에피소드, 일상':'일상', \n",
        "                     '옴니버스, 드라마':'드라마', '스토리, 감성':'감성', '스토리, 시대극':'시대극','에피소드, 액션':'액션', '에피소드, 판타지':'판타지', '에피소드, 시대극':'시대극', '에피소드, 스릴러':'스릴러', '스토리, 일상':'일상',\n",
        "                     '옴니버스, 개그':'개그'},inplace=True)"
      ],
      "execution_count": 5,
      "outputs": []
    },
    {
      "cell_type": "code",
      "metadata": {
        "id": "EtqUinsWRJhc"
      },
      "source": [
        "web.genre.replace({'옴니버스, 로맨스':'로맨스', '옴니버스, 감성':'감성', '에피소드, 감성':'감성',\n",
        "                     '옴니버스, 액션':'액션', '에피소드, 스포츠':'스포츠', '옴니버스, 스포츠':'스포츠',\n",
        "                   '코미가':'코믹, 일상','판타지 드라마':'판타지, 드라마','옴니버스, 스릴러':'스릴러',\n",
        "                   '에피소드, 로맨스':'로맨스','로멘스':'로맨스','드라마만화':'드라마','학원':'힉원, 판타지',\n",
        "                   '미스터리':'스릴러','힉원, 판타지':'학원, 판타지'},inplace=True)"
      ],
      "execution_count": 53,
      "outputs": []
    },
    {
      "cell_type": "code",
      "metadata": {
        "colab": {
          "base_uri": "https://localhost:8080/"
        },
        "id": "TvPs13goROkj",
        "outputId": "fefd0ba5-e0c0-4621-b267-0481226e0796"
      },
      "source": [
        "web.genre.unique()"
      ],
      "execution_count": 54,
      "outputs": [
        {
          "output_type": "execute_result",
          "data": {
            "text/plain": [
              "array(['액션', '판타지', '드라마', '스포츠', '스릴러', '로맨스', '일상', '개그', '감성', '시대극',\n",
              "       '학원, 판타지', '로맨스, 판타지', '코믹, 일상', '액션, 무협', '공포,스릴러', '판타지, 드라마',\n",
              "       '소년만화', 'BL, GL'], dtype=object)"
            ]
          },
          "metadata": {},
          "execution_count": 54
        }
      ]
    },
    {
      "cell_type": "code",
      "metadata": {
        "colab": {
          "base_uri": "https://localhost:8080/"
        },
        "id": "Mm6rIcaIRSWE",
        "outputId": "a2880d7e-452d-4311-9224-05896e3dbb69"
      },
      "source": [
        "web.genre.nunique()"
      ],
      "execution_count": 55,
      "outputs": [
        {
          "output_type": "execute_result",
          "data": {
            "text/plain": [
              "18"
            ]
          },
          "metadata": {},
          "execution_count": 55
        }
      ]
    },
    {
      "cell_type": "code",
      "metadata": {
        "colab": {
          "base_uri": "https://localhost:8080/"
        },
        "id": "g3URqKVIR62k",
        "outputId": "5fa3a570-aa0e-4eb9-95a5-ae46831efb63"
      },
      "source": [
        "web.groupby(web['platform']).size()"
      ],
      "execution_count": 20,
      "outputs": [
        {
          "output_type": "execute_result",
          "data": {
            "text/plain": [
              "platform\n",
              "네이버 웹툰    1469\n",
              "레진코믹스      123\n",
              "카카오웹툰      989\n",
              "카카오페이지    1443\n",
              "dtype: int64"
            ]
          },
          "metadata": {},
          "execution_count": 20
        }
      ]
    },
    {
      "cell_type": "code",
      "metadata": {
        "colab": {
          "base_uri": "https://localhost:8080/",
          "height": 638
        },
        "id": "kjWLzCr6-x8C",
        "outputId": "83ba2ea7-184f-43f9-aede-70b97af081ca"
      },
      "source": [
        "data1=web.groupby(['genre']).size()\n",
        "pd.DataFrame(data1,columns=['Count'])"
      ],
      "execution_count": 58,
      "outputs": [
        {
          "output_type": "execute_result",
          "data": {
            "text/html": [
              "<div>\n",
              "<style scoped>\n",
              "    .dataframe tbody tr th:only-of-type {\n",
              "        vertical-align: middle;\n",
              "    }\n",
              "\n",
              "    .dataframe tbody tr th {\n",
              "        vertical-align: top;\n",
              "    }\n",
              "\n",
              "    .dataframe thead th {\n",
              "        text-align: right;\n",
              "    }\n",
              "</style>\n",
              "<table border=\"1\" class=\"dataframe\">\n",
              "  <thead>\n",
              "    <tr style=\"text-align: right;\">\n",
              "      <th></th>\n",
              "      <th>Count</th>\n",
              "    </tr>\n",
              "    <tr>\n",
              "      <th>genre</th>\n",
              "      <th></th>\n",
              "    </tr>\n",
              "  </thead>\n",
              "  <tbody>\n",
              "    <tr>\n",
              "      <th>BL, GL</th>\n",
              "      <td>290</td>\n",
              "    </tr>\n",
              "    <tr>\n",
              "      <th>감성</th>\n",
              "      <td>29</td>\n",
              "    </tr>\n",
              "    <tr>\n",
              "      <th>개그</th>\n",
              "      <td>137</td>\n",
              "    </tr>\n",
              "    <tr>\n",
              "      <th>공포,스릴러</th>\n",
              "      <td>84</td>\n",
              "    </tr>\n",
              "    <tr>\n",
              "      <th>드라마</th>\n",
              "      <td>773</td>\n",
              "    </tr>\n",
              "    <tr>\n",
              "      <th>로맨스</th>\n",
              "      <td>732</td>\n",
              "    </tr>\n",
              "    <tr>\n",
              "      <th>로맨스, 판타지</th>\n",
              "      <td>266</td>\n",
              "    </tr>\n",
              "    <tr>\n",
              "      <th>소년만화</th>\n",
              "      <td>246</td>\n",
              "    </tr>\n",
              "    <tr>\n",
              "      <th>스릴러</th>\n",
              "      <td>189</td>\n",
              "    </tr>\n",
              "    <tr>\n",
              "      <th>스포츠</th>\n",
              "      <td>20</td>\n",
              "    </tr>\n",
              "    <tr>\n",
              "      <th>시대극</th>\n",
              "      <td>22</td>\n",
              "    </tr>\n",
              "    <tr>\n",
              "      <th>액션</th>\n",
              "      <td>114</td>\n",
              "    </tr>\n",
              "    <tr>\n",
              "      <th>액션, 무협</th>\n",
              "      <td>332</td>\n",
              "    </tr>\n",
              "    <tr>\n",
              "      <th>일상</th>\n",
              "      <td>85</td>\n",
              "    </tr>\n",
              "    <tr>\n",
              "      <th>코믹, 일상</th>\n",
              "      <td>126</td>\n",
              "    </tr>\n",
              "    <tr>\n",
              "      <th>판타지</th>\n",
              "      <td>286</td>\n",
              "    </tr>\n",
              "    <tr>\n",
              "      <th>판타지, 드라마</th>\n",
              "      <td>153</td>\n",
              "    </tr>\n",
              "    <tr>\n",
              "      <th>학원, 판타지</th>\n",
              "      <td>140</td>\n",
              "    </tr>\n",
              "  </tbody>\n",
              "</table>\n",
              "</div>"
            ],
            "text/plain": [
              "          Count\n",
              "genre          \n",
              "BL, GL      290\n",
              "감성           29\n",
              "개그          137\n",
              "공포,스릴러       84\n",
              "드라마         773\n",
              "로맨스         732\n",
              "로맨스, 판타지    266\n",
              "소년만화        246\n",
              "스릴러         189\n",
              "스포츠          20\n",
              "시대극          22\n",
              "액션          114\n",
              "액션, 무협      332\n",
              "일상           85\n",
              "코믹, 일상      126\n",
              "판타지         286\n",
              "판타지, 드라마    153\n",
              "학원, 판타지     140"
            ]
          },
          "metadata": {},
          "execution_count": 58
        }
      ]
    },
    {
      "cell_type": "code",
      "metadata": {
        "id": "v-_xLLG5QjMq"
      },
      "source": [
        "web.genre.replace({'코믹, 일상':'개그','일상':'개그'},inplace=True)"
      ],
      "execution_count": 85,
      "outputs": []
    },
    {
      "cell_type": "code",
      "metadata": {
        "id": "n2uGps2wbbmU"
      },
      "source": [
        "data=web.groupby(['platform','genre']).size()"
      ],
      "execution_count": 86,
      "outputs": []
    },
    {
      "cell_type": "code",
      "metadata": {
        "colab": {
          "base_uri": "https://localhost:8080/",
          "height": 1000
        },
        "id": "SpVp8UY9dGo3",
        "outputId": "848465bf-d090-44c8-ad30-f9e2daaccf71"
      },
      "source": [
        "pd.DataFrame(data,columns=['Count'])"
      ],
      "execution_count": 87,
      "outputs": [
        {
          "output_type": "execute_result",
          "data": {
            "text/html": [
              "<div>\n",
              "<style scoped>\n",
              "    .dataframe tbody tr th:only-of-type {\n",
              "        vertical-align: middle;\n",
              "    }\n",
              "\n",
              "    .dataframe tbody tr th {\n",
              "        vertical-align: top;\n",
              "    }\n",
              "\n",
              "    .dataframe thead th {\n",
              "        text-align: right;\n",
              "    }\n",
              "</style>\n",
              "<table border=\"1\" class=\"dataframe\">\n",
              "  <thead>\n",
              "    <tr style=\"text-align: right;\">\n",
              "      <th></th>\n",
              "      <th></th>\n",
              "      <th>Count</th>\n",
              "    </tr>\n",
              "    <tr>\n",
              "      <th>platform</th>\n",
              "      <th>genre</th>\n",
              "      <th></th>\n",
              "    </tr>\n",
              "  </thead>\n",
              "  <tbody>\n",
              "    <tr>\n",
              "      <th rowspan=\"9\" valign=\"top\">네이버 웹툰</th>\n",
              "      <th>감성</th>\n",
              "      <td>29</td>\n",
              "    </tr>\n",
              "    <tr>\n",
              "      <th>개그</th>\n",
              "      <td>201</td>\n",
              "    </tr>\n",
              "    <tr>\n",
              "      <th>드라마</th>\n",
              "      <td>347</td>\n",
              "    </tr>\n",
              "    <tr>\n",
              "      <th>로맨스</th>\n",
              "      <td>290</td>\n",
              "    </tr>\n",
              "    <tr>\n",
              "      <th>스릴러</th>\n",
              "      <td>187</td>\n",
              "    </tr>\n",
              "    <tr>\n",
              "      <th>스포츠</th>\n",
              "      <td>20</td>\n",
              "    </tr>\n",
              "    <tr>\n",
              "      <th>시대극</th>\n",
              "      <td>22</td>\n",
              "    </tr>\n",
              "    <tr>\n",
              "      <th>액션</th>\n",
              "      <td>108</td>\n",
              "    </tr>\n",
              "    <tr>\n",
              "      <th>판타지</th>\n",
              "      <td>265</td>\n",
              "    </tr>\n",
              "    <tr>\n",
              "      <th rowspan=\"8\" valign=\"top\">레진코믹스</th>\n",
              "      <th>BL, GL</th>\n",
              "      <td>34</td>\n",
              "    </tr>\n",
              "    <tr>\n",
              "      <th>개그</th>\n",
              "      <td>21</td>\n",
              "    </tr>\n",
              "    <tr>\n",
              "      <th>드라마</th>\n",
              "      <td>20</td>\n",
              "    </tr>\n",
              "    <tr>\n",
              "      <th>로맨스</th>\n",
              "      <td>16</td>\n",
              "    </tr>\n",
              "    <tr>\n",
              "      <th>스릴러</th>\n",
              "      <td>2</td>\n",
              "    </tr>\n",
              "    <tr>\n",
              "      <th>액션</th>\n",
              "      <td>6</td>\n",
              "    </tr>\n",
              "    <tr>\n",
              "      <th>판타지</th>\n",
              "      <td>21</td>\n",
              "    </tr>\n",
              "    <tr>\n",
              "      <th>학원, 판타지</th>\n",
              "      <td>3</td>\n",
              "    </tr>\n",
              "    <tr>\n",
              "      <th rowspan=\"8\" valign=\"top\">카카오웹툰</th>\n",
              "      <th>개그</th>\n",
              "      <td>126</td>\n",
              "    </tr>\n",
              "    <tr>\n",
              "      <th>공포,스릴러</th>\n",
              "      <td>84</td>\n",
              "    </tr>\n",
              "    <tr>\n",
              "      <th>드라마</th>\n",
              "      <td>175</td>\n",
              "    </tr>\n",
              "    <tr>\n",
              "      <th>로맨스</th>\n",
              "      <td>146</td>\n",
              "    </tr>\n",
              "    <tr>\n",
              "      <th>로맨스, 판타지</th>\n",
              "      <td>91</td>\n",
              "    </tr>\n",
              "    <tr>\n",
              "      <th>액션, 무협</th>\n",
              "      <td>77</td>\n",
              "    </tr>\n",
              "    <tr>\n",
              "      <th>판타지, 드라마</th>\n",
              "      <td>153</td>\n",
              "    </tr>\n",
              "    <tr>\n",
              "      <th>학원, 판타지</th>\n",
              "      <td>137</td>\n",
              "    </tr>\n",
              "    <tr>\n",
              "      <th rowspan=\"6\" valign=\"top\">카카오페이지</th>\n",
              "      <th>BL, GL</th>\n",
              "      <td>256</td>\n",
              "    </tr>\n",
              "    <tr>\n",
              "      <th>드라마</th>\n",
              "      <td>231</td>\n",
              "    </tr>\n",
              "    <tr>\n",
              "      <th>로맨스</th>\n",
              "      <td>280</td>\n",
              "    </tr>\n",
              "    <tr>\n",
              "      <th>로맨스, 판타지</th>\n",
              "      <td>175</td>\n",
              "    </tr>\n",
              "    <tr>\n",
              "      <th>소년만화</th>\n",
              "      <td>246</td>\n",
              "    </tr>\n",
              "    <tr>\n",
              "      <th>액션, 무협</th>\n",
              "      <td>255</td>\n",
              "    </tr>\n",
              "  </tbody>\n",
              "</table>\n",
              "</div>"
            ],
            "text/plain": [
              "                   Count\n",
              "platform genre          \n",
              "네이버 웹툰   감성           29\n",
              "         개그          201\n",
              "         드라마         347\n",
              "         로맨스         290\n",
              "         스릴러         187\n",
              "         스포츠          20\n",
              "         시대극          22\n",
              "         액션          108\n",
              "         판타지         265\n",
              "레진코믹스    BL, GL       34\n",
              "         개그           21\n",
              "         드라마          20\n",
              "         로맨스          16\n",
              "         스릴러           2\n",
              "         액션            6\n",
              "         판타지          21\n",
              "         학원, 판타지       3\n",
              "카카오웹툰    개그          126\n",
              "         공포,스릴러       84\n",
              "         드라마         175\n",
              "         로맨스         146\n",
              "         로맨스, 판타지     91\n",
              "         액션, 무협       77\n",
              "         판타지, 드라마    153\n",
              "         학원, 판타지     137\n",
              "카카오페이지   BL, GL      256\n",
              "         드라마         231\n",
              "         로맨스         280\n",
              "         로맨스, 판타지    175\n",
              "         소년만화        246\n",
              "         액션, 무협      255"
            ]
          },
          "metadata": {},
          "execution_count": 87
        }
      ]
    },
    {
      "cell_type": "code",
      "metadata": {
        "id": "o0twjuF7RVYL"
      },
      "source": [
        "web.to_csv(path+'dataset_genre.csv',encoding='utf8',index=False)"
      ],
      "execution_count": 88,
      "outputs": []
    },
    {
      "cell_type": "code",
      "metadata": {
        "colab": {
          "base_uri": "https://localhost:8080/",
          "height": 1000
        },
        "id": "4XbL-GzURDt1",
        "outputId": "8f2253e0-8ae6-4804-dab9-6a034a842488"
      },
      "source": [
        "web[web.genre=='시대극']"
      ],
      "execution_count": 89,
      "outputs": [
        {
          "output_type": "execute_result",
          "data": {
            "text/html": [
              "<div>\n",
              "<style scoped>\n",
              "    .dataframe tbody tr th:only-of-type {\n",
              "        vertical-align: middle;\n",
              "    }\n",
              "\n",
              "    .dataframe tbody tr th {\n",
              "        vertical-align: top;\n",
              "    }\n",
              "\n",
              "    .dataframe thead th {\n",
              "        text-align: right;\n",
              "    }\n",
              "</style>\n",
              "<table border=\"1\" class=\"dataframe\">\n",
              "  <thead>\n",
              "    <tr style=\"text-align: right;\">\n",
              "      <th></th>\n",
              "      <th>title</th>\n",
              "      <th>writer</th>\n",
              "      <th>illustrator</th>\n",
              "      <th>day</th>\n",
              "      <th>genre</th>\n",
              "      <th>story</th>\n",
              "      <th>platform</th>\n",
              "    </tr>\n",
              "  </thead>\n",
              "  <tbody>\n",
              "    <tr>\n",
              "      <th>52</th>\n",
              "      <td>사막에 핀 달</td>\n",
              "      <td>선지</td>\n",
              "      <td>선지</td>\n",
              "      <td>월</td>\n",
              "      <td>시대극</td>\n",
              "      <td>사막의 전사 나디아. 신녀를 찾아 사막에 온 신관 이세리온은 나디아에게 신녀가 되어...</td>\n",
              "      <td>네이버 웹툰</td>\n",
              "    </tr>\n",
              "    <tr>\n",
              "      <th>85</th>\n",
              "      <td>삼국지톡</td>\n",
              "      <td>무적핑크</td>\n",
              "      <td>이리</td>\n",
              "      <td>화, 금</td>\n",
              "      <td>시대극</td>\n",
              "      <td>유비, 조조, 손권 등 영웅들이 활약하던 후한, 그 난세에 핸드폰이 있었다면? 메신...</td>\n",
              "      <td>네이버 웹툰</td>\n",
              "    </tr>\n",
              "    <tr>\n",
              "      <th>138</th>\n",
              "      <td>화산귀환</td>\n",
              "      <td>비가</td>\n",
              "      <td>LICO</td>\n",
              "      <td>수</td>\n",
              "      <td>시대극</td>\n",
              "      <td>대 화산파 13대 제자.천하삼대검수 매화검존 청명. 천하를 혼란에 빠뜨린 고금제일마...</td>\n",
              "      <td>네이버 웹툰</td>\n",
              "    </tr>\n",
              "    <tr>\n",
              "      <th>173</th>\n",
              "      <td>칼부림</td>\n",
              "      <td>고일권</td>\n",
              "      <td>고일권</td>\n",
              "      <td>수</td>\n",
              "      <td>시대극</td>\n",
              "      <td>뜻을 품고 한을 품은 팔도의 자제들아 서슬퍼런 칼날 내보이라! 이괄의 난을 배경으로...</td>\n",
              "      <td>네이버 웹툰</td>\n",
              "    </tr>\n",
              "    <tr>\n",
              "      <th>303</th>\n",
              "      <td>몽홀</td>\n",
              "      <td>장태산</td>\n",
              "      <td>장태산</td>\n",
              "      <td>금</td>\n",
              "      <td>시대극</td>\n",
              "      <td>차갑고 척박한 땅 몽홀 그 곳에서 펼쳐지는 감동의 대서사시</td>\n",
              "      <td>네이버 웹툰</td>\n",
              "    </tr>\n",
              "    <tr>\n",
              "      <th>632</th>\n",
              "      <td>봉이 김선달</td>\n",
              "      <td>양우석</td>\n",
              "      <td>제피가루</td>\n",
              "      <td>완결</td>\n",
              "      <td>시대극</td>\n",
              "      <td>평양에서 훈장으로 소일하고 있던 봉이 김선달.평안감사로 온 조덕영의 폭정에 신음하는...</td>\n",
              "      <td>네이버 웹툰</td>\n",
              "    </tr>\n",
              "    <tr>\n",
              "      <th>763</th>\n",
              "      <td>조선방랑야사</td>\n",
              "      <td>가현</td>\n",
              "      <td>가현</td>\n",
              "      <td>완결</td>\n",
              "      <td>시대극</td>\n",
              "      <td>한때 조선 한양 책방에서 연애담 소설로 최고 인기를 구가하던 선비 성기임.수험 압박...</td>\n",
              "      <td>네이버 웹툰</td>\n",
              "    </tr>\n",
              "    <tr>\n",
              "      <th>832</th>\n",
              "      <td>귀인</td>\n",
              "      <td>정연식</td>\n",
              "      <td>황진영</td>\n",
              "      <td>완결</td>\n",
              "      <td>시대극</td>\n",
              "      <td>흙수저 청년, 진짜 귀인이 되다.점입가경 팩션 사기극.</td>\n",
              "      <td>네이버 웹툰</td>\n",
              "    </tr>\n",
              "    <tr>\n",
              "      <th>900</th>\n",
              "      <td>왕으로 살다</td>\n",
              "      <td>네스티캣</td>\n",
              "      <td>네스티캣</td>\n",
              "      <td>완결</td>\n",
              "      <td>시대극</td>\n",
              "      <td>살해당한 쌍둥이 오빠를 대신해 왕의 자리에 오른 화현의 운명은?</td>\n",
              "      <td>네이버 웹툰</td>\n",
              "    </tr>\n",
              "    <tr>\n",
              "      <th>930</th>\n",
              "      <td>혈투</td>\n",
              "      <td>신진우</td>\n",
              "      <td>박수영</td>\n",
              "      <td>완결</td>\n",
              "      <td>시대극</td>\n",
              "      <td>일제 강점기를 배경으로 펼쳐지는복수와 음모의 대서사시!</td>\n",
              "      <td>네이버 웹툰</td>\n",
              "    </tr>\n",
              "    <tr>\n",
              "      <th>1016</th>\n",
              "      <td>천국의 신화 6부</td>\n",
              "      <td>올댓스토리</td>\n",
              "      <td>이현세</td>\n",
              "      <td>완결</td>\n",
              "      <td>시대극</td>\n",
              "      <td>10년을 기다린 이현세 화백의 천국의 신화, 그 다음이야기.새로운 대단원의 막이 오른다.</td>\n",
              "      <td>네이버 웹툰</td>\n",
              "    </tr>\n",
              "    <tr>\n",
              "      <th>1086</th>\n",
              "      <td>아이소포스 3부</td>\n",
              "      <td>김양수</td>\n",
              "      <td>도가도</td>\n",
              "      <td>완결</td>\n",
              "      <td>시대극</td>\n",
              "      <td>이솝우화의 이솝, 자신의 운명을 바꾼 한 사람의 이야기.아이소포스가 3부로 돌아왔다</td>\n",
              "      <td>네이버 웹툰</td>\n",
              "    </tr>\n",
              "    <tr>\n",
              "      <th>1109</th>\n",
              "      <td>오성X한음</td>\n",
              "      <td>유승진</td>\n",
              "      <td>유승진</td>\n",
              "      <td>완결</td>\n",
              "      <td>시대극</td>\n",
              "      <td>영길리국에 셜록과 왓슨이 있다면 조선에는 이들이 있다!조선판 수사추리극, 오성 한음...</td>\n",
              "      <td>네이버 웹툰</td>\n",
              "    </tr>\n",
              "    <tr>\n",
              "      <th>1127</th>\n",
              "      <td>천국의 신화</td>\n",
              "      <td>이현세</td>\n",
              "      <td>이현세</td>\n",
              "      <td>완결</td>\n",
              "      <td>시대극</td>\n",
              "      <td>한국만화의 신화, 이현세 화백의 귀환.</td>\n",
              "      <td>네이버 웹툰</td>\n",
              "    </tr>\n",
              "    <tr>\n",
              "      <th>1137</th>\n",
              "      <td>아이소포스 1, 2부</td>\n",
              "      <td>김양수</td>\n",
              "      <td>도가도</td>\n",
              "      <td>완결</td>\n",
              "      <td>시대극</td>\n",
              "      <td>이솝우화의 이솝, 자신의 운명을 바꾼 한 사람의 이야기.</td>\n",
              "      <td>네이버 웹툰</td>\n",
              "    </tr>\n",
              "    <tr>\n",
              "      <th>1177</th>\n",
              "      <td>문아</td>\n",
              "      <td>팬마</td>\n",
              "      <td>팬마</td>\n",
              "      <td>완결</td>\n",
              "      <td>시대극</td>\n",
              "      <td>평범한 삶을 살려는 특별한 사람과 특별한 자신을 찾으려는 평범한 사람 신과 사람의 ...</td>\n",
              "      <td>네이버 웹툰</td>\n",
              "    </tr>\n",
              "    <tr>\n",
              "      <th>1276</th>\n",
              "      <td>삵의 발톱</td>\n",
              "      <td>손영완</td>\n",
              "      <td>손영완</td>\n",
              "      <td>완결</td>\n",
              "      <td>시대극</td>\n",
              "      <td>중국의 위촉오시대, 삼국지연의만이 전부가 아니다. 고구려인, 백제인의 시각에서 바라...</td>\n",
              "      <td>네이버 웹툰</td>\n",
              "    </tr>\n",
              "    <tr>\n",
              "      <th>1293</th>\n",
              "      <td>비흔</td>\n",
              "      <td>정재한</td>\n",
              "      <td>황영찬</td>\n",
              "      <td>완결</td>\n",
              "      <td>시대극</td>\n",
              "      <td>잊혀진 나라 백제, 그리고 싸울아비.패자의 역사 뒤로 전설이 되어 사라진 검은 이리...</td>\n",
              "      <td>네이버 웹툰</td>\n",
              "    </tr>\n",
              "    <tr>\n",
              "      <th>1325</th>\n",
              "      <td>한섬세대</td>\n",
              "      <td>유승진</td>\n",
              "      <td>유승진</td>\n",
              "      <td>완결</td>\n",
              "      <td>시대극</td>\n",
              "      <td>조선후기의 평범한 관리지망생 한섬. 만만치 않은 길이지만, 한섬이는 만만디. 과연 ...</td>\n",
              "      <td>네이버 웹툰</td>\n",
              "    </tr>\n",
              "    <tr>\n",
              "      <th>1381</th>\n",
              "      <td>묵회</td>\n",
              "      <td>한나</td>\n",
              "      <td>한나</td>\n",
              "      <td>완결</td>\n",
              "      <td>시대극</td>\n",
              "      <td>떠돌이 점쟁이 모아의 이야기. 그녀가 만나는 사람들의 이야기. 그리고 우리의 이야기...</td>\n",
              "      <td>네이버 웹툰</td>\n",
              "    </tr>\n",
              "    <tr>\n",
              "      <th>1387</th>\n",
              "      <td>흐드러지다</td>\n",
              "      <td>연제원</td>\n",
              "      <td>연제원</td>\n",
              "      <td>완결</td>\n",
              "      <td>시대극</td>\n",
              "      <td>지배하는 자, 차지하려는 자 그리고 암살자.쥬신의 황궁을 둘러 싼 음모와 배신그 뒤...</td>\n",
              "      <td>네이버 웹툰</td>\n",
              "    </tr>\n",
              "    <tr>\n",
              "      <th>1455</th>\n",
              "      <td>태왕광개토</td>\n",
              "      <td>청안랑</td>\n",
              "      <td>김인호</td>\n",
              "      <td>완결</td>\n",
              "      <td>시대극</td>\n",
              "      <td>고구려 19대 왕! 한반도 역사상 최대의 영토를 확장한 정복 군주. 고구려의 세력권...</td>\n",
              "      <td>네이버 웹툰</td>\n",
              "    </tr>\n",
              "  </tbody>\n",
              "</table>\n",
              "</div>"
            ],
            "text/plain": [
              "            title  ... platform\n",
              "52        사막에 핀 달  ...   네이버 웹툰\n",
              "85           삼국지톡  ...   네이버 웹툰\n",
              "138          화산귀환  ...   네이버 웹툰\n",
              "173           칼부림  ...   네이버 웹툰\n",
              "303            몽홀  ...   네이버 웹툰\n",
              "632        봉이 김선달  ...   네이버 웹툰\n",
              "763        조선방랑야사  ...   네이버 웹툰\n",
              "832            귀인  ...   네이버 웹툰\n",
              "900        왕으로 살다  ...   네이버 웹툰\n",
              "930            혈투  ...   네이버 웹툰\n",
              "1016    천국의 신화 6부  ...   네이버 웹툰\n",
              "1086     아이소포스 3부  ...   네이버 웹툰\n",
              "1109        오성X한음  ...   네이버 웹툰\n",
              "1127       천국의 신화  ...   네이버 웹툰\n",
              "1137  아이소포스 1, 2부  ...   네이버 웹툰\n",
              "1177           문아  ...   네이버 웹툰\n",
              "1276        삵의 발톱  ...   네이버 웹툰\n",
              "1293           비흔  ...   네이버 웹툰\n",
              "1325         한섬세대  ...   네이버 웹툰\n",
              "1381           묵회  ...   네이버 웹툰\n",
              "1387        흐드러지다  ...   네이버 웹툰\n",
              "1455        태왕광개토  ...   네이버 웹툰\n",
              "\n",
              "[22 rows x 7 columns]"
            ]
          },
          "metadata": {},
          "execution_count": 89
        }
      ]
    },
    {
      "cell_type": "code",
      "metadata": {
        "id": "6ocgN-zgR1jb"
      },
      "source": [
        ""
      ],
      "execution_count": null,
      "outputs": []
    }
  ]
}