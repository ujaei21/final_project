{
 "cells": [
  {
   "cell_type": "code",
   "execution_count": null,
   "metadata": {
    "ExecuteTime": {
     "end_time": "2021-09-10T02:22:14.308374Z",
     "start_time": "2021-09-10T02:22:13.905462Z"
    },
    "id": "2fGy3SWDrY-j"
   },
   "outputs": [],
   "source": [
    "import pandas as pd"
   ]
  },
  {
   "cell_type": "code",
   "execution_count": null,
   "metadata": {
    "ExecuteTime": {
     "end_time": "2021-09-10T02:22:14.608482Z",
     "start_time": "2021-09-10T02:22:14.340349Z"
    },
    "id": "5KIakQAzrvoo",
    "scrolled": false
   },
   "outputs": [],
   "source": [
    "naver = pd.read_csv('NAVER.csv')\n",
    "naver_end = pd.read_csv('NAVER_FINISH.csv')\n",
    "kp = pd.read_csv('kp_week1.csv')\n",
    "kp_end = pd.read_csv('kp_completed.csv')"
   ]
  },
  {
   "cell_type": "markdown",
   "metadata": {},
   "source": [
    "- 네이버 데이터 concat"
   ]
  },
  {
   "cell_type": "code",
   "execution_count": null,
   "metadata": {
    "ExecuteTime": {
     "end_time": "2021-09-10T02:18:59.487868Z",
     "start_time": "2021-09-10T02:18:59.471895Z"
    }
   },
   "outputs": [],
   "source": [
    "naver = pd.concat([naver,naver_end],ignore_index=True)\n",
    "naver.fillna('완결',inplace = True)\n",
    "naver.tail(3)"
   ]
  },
  {
   "cell_type": "code",
   "execution_count": null,
   "metadata": {
    "ExecuteTime": {
     "end_time": "2021-09-10T02:19:00.241815Z",
     "start_time": "2021-09-10T02:19:00.223817Z"
    },
    "colab": {
     "base_uri": "https://localhost:8080/"
    },
    "id": "SZqSatFxtsVd",
    "outputId": "4d65e429-b540-4c5d-e1bf-c147ea762d1c"
   },
   "outputs": [],
   "source": [
    "naver.title.value_counts()"
   ]
  },
  {
   "cell_type": "code",
   "execution_count": null,
   "metadata": {
    "ExecuteTime": {
     "end_time": "2021-09-10T02:19:01.176109Z",
     "start_time": "2021-09-10T02:19:01.153091Z"
    },
    "colab": {
     "base_uri": "https://localhost:8080/",
     "height": 145
    },
    "id": "C0bHm08_uYDz",
    "outputId": "05cf8e96-95a5-49c2-fe92-847f44070073"
   },
   "outputs": [],
   "source": [
    "naver[naver.title=='성경의 역사']"
   ]
  },
  {
   "cell_type": "code",
   "execution_count": null,
   "metadata": {
    "ExecuteTime": {
     "end_time": "2021-09-10T02:19:11.167837Z",
     "start_time": "2021-09-10T02:19:11.153868Z"
    },
    "id": "v3DhfLowuj6L"
   },
   "outputs": [],
   "source": [
    "naver.drop_duplicates('title',inplace=True)\n",
    "naver.drop(columns='id', inplace=True)"
   ]
  },
  {
   "cell_type": "code",
   "execution_count": null,
   "metadata": {
    "ExecuteTime": {
     "end_time": "2021-09-10T02:19:13.046934Z",
     "start_time": "2021-09-10T02:19:13.033940Z"
    },
    "colab": {
     "base_uri": "https://localhost:8080/",
     "height": 97
    },
    "id": "PFeYVF33uxsD",
    "outputId": "b1d51c22-eeba-4722-8a5d-0a25433473e8"
   },
   "outputs": [],
   "source": [
    "naver[naver.title=='성경의 역사']"
   ]
  },
  {
   "cell_type": "code",
   "execution_count": null,
   "metadata": {
    "ExecuteTime": {
     "end_time": "2021-09-10T02:19:24.101269Z",
     "start_time": "2021-09-10T02:19:24.089269Z"
    }
   },
   "outputs": [],
   "source": [
    "naver.isna().sum()"
   ]
  },
  {
   "cell_type": "code",
   "execution_count": null,
   "metadata": {
    "ExecuteTime": {
     "end_time": "2021-09-10T02:20:27.543441Z",
     "start_time": "2021-09-10T02:20:27.527441Z"
    }
   },
   "outputs": [],
   "source": [
    "naver.to_csv('naver.csv',encoding='cp949')"
   ]
  },
  {
   "cell_type": "markdown",
   "metadata": {},
   "source": [
    "- 카카오page 데이터 concat"
   ]
  },
  {
   "cell_type": "code",
   "execution_count": null,
   "metadata": {
    "ExecuteTime": {
     "end_time": "2021-09-10T02:16:55.912077Z",
     "start_time": "2021-09-10T02:16:55.888077Z"
    }
   },
   "outputs": [],
   "source": [
    "kakao_p = pd.concat([kp,kp_end],ignore_index=True)\n",
    "kakao_p"
   ]
  },
  {
   "cell_type": "code",
   "execution_count": null,
   "metadata": {
    "ExecuteTime": {
     "end_time": "2021-09-10T02:16:57.685655Z",
     "start_time": "2021-09-10T02:16:57.663656Z"
    },
    "id": "2_tmKJI1uzSE"
   },
   "outputs": [],
   "source": [
    "kakao_p.title.value_counts()\n",
    "kakao_p[kakao_p.title=='샤먼']"
   ]
  },
  {
   "cell_type": "code",
   "execution_count": null,
   "metadata": {
    "ExecuteTime": {
     "end_time": "2021-09-10T02:16:58.936643Z",
     "start_time": "2021-09-10T02:16:58.914645Z"
    }
   },
   "outputs": [],
   "source": [
    "kakao_p.drop(columns=['Unnamed: 0','t_image'],inplace=True)\n",
    "kakao_p"
   ]
  },
  {
   "cell_type": "code",
   "execution_count": null,
   "metadata": {
    "ExecuteTime": {
     "end_time": "2021-09-10T02:17:56.880611Z",
     "start_time": "2021-09-10T02:17:56.873612Z"
    }
   },
   "outputs": [],
   "source": [
    "kakao_p.isna().sum()"
   ]
  },
  {
   "cell_type": "code",
   "execution_count": null,
   "metadata": {
    "ExecuteTime": {
     "end_time": "2021-09-10T02:18:15.874841Z",
     "start_time": "2021-09-10T02:18:15.839833Z"
    }
   },
   "outputs": [],
   "source": [
    "kakao_p.to_csv('kako_p.csv',encoding='cp949')"
   ]
  },
  {
   "cell_type": "markdown",
   "metadata": {
    "id": "pNrYHH2IYnJl"
   },
   "source": [
    "- 카카오"
   ]
  },
  {
   "cell_type": "code",
   "execution_count": null,
   "metadata": {},
   "outputs": [],
   "source": [
    "ka = pd.read_csv('kakao_add_author.csv',encoding='cp949')\n",
    "ka_end = pd.read_csv('kakao_completed.csv',encoding='cp949')"
   ]
  },
  {
   "cell_type": "code",
   "execution_count": null,
   "metadata": {},
   "outputs": [],
   "source": [
    "ka.drop(columns=['Unnamed: 0','Thumbnail'],inplace=True)\n",
    "ka.reset_index(inplace=True)\n",
    "ka.title.duplicated().sum()"
   ]
  },
  {
   "cell_type": "code",
   "execution_count": null,
   "metadata": {},
   "outputs": [],
   "source": [
    "ka"
   ]
  },
  {
   "cell_type": "code",
   "execution_count": null,
   "metadata": {},
   "outputs": [],
   "source": [
    "ka_end.drop(columns=['Unnamed: 0','Thumbnail'],inplace=True)\n",
    "ka_end.reset_index(inplace=True)\n",
    "print(ka_end.isnull().sum())\n",
    "print('중복값:', ka_end.title.duplicated().sum())"
   ]
  },
  {
   "cell_type": "code",
   "execution_count": null,
   "metadata": {},
   "outputs": [],
   "source": [
    "ka_end"
   ]
  },
  {
   "cell_type": "code",
   "execution_count": null,
   "metadata": {},
   "outputs": [],
   "source": [
    "kakao = ka.append(ka_end, ignore_index=True)\n",
    "kakao.drop(columns=['index','genre'],inplace=True)\n",
    "kakao"
   ]
  },
  {
   "cell_type": "code",
   "execution_count": null,
   "metadata": {},
   "outputs": [],
   "source": [
    "kakao.title.value_counts()"
   ]
  },
  {
   "cell_type": "code",
   "execution_count": null,
   "metadata": {},
   "outputs": [],
   "source": [
    "kakao.drop_duplicates('title',inplace=True)\n",
    "kakao"
   ]
  },
  {
   "cell_type": "code",
   "execution_count": null,
   "metadata": {},
   "outputs": [],
   "source": [
    "kakao.isna().sum()\n",
    "#완결웹툰 작가 없음."
   ]
  },
  {
   "cell_type": "code",
   "execution_count": null,
   "metadata": {},
   "outputs": [],
   "source": [
    "kakao.to_csv('kakao_week_completed.csv',encoding='CP949')"
   ]
  }
 ],
 "metadata": {
  "colab": {
   "name": "TF-idf2",
   "provenance": []
  },
  "hide_input": false,
  "kernelspec": {
   "display_name": "Python 3 (ipykernel)",
   "language": "python",
   "name": "python3"
  },
  "language_info": {
   "codemirror_mode": {
    "name": "ipython",
    "version": 3
   },
   "file_extension": ".py",
   "mimetype": "text/x-python",
   "name": "python",
   "nbconvert_exporter": "python",
   "pygments_lexer": "ipython3",
   "version": "3.8.11"
  },
  "toc": {
   "base_numbering": 1,
   "nav_menu": {},
   "number_sections": true,
   "sideBar": true,
   "skip_h1_title": false,
   "title_cell": "Table of Contents",
   "title_sidebar": "Contents",
   "toc_cell": false,
   "toc_position": {},
   "toc_section_display": true,
   "toc_window_display": false
  },
  "varInspector": {
   "cols": {
    "lenName": 16,
    "lenType": 16,
    "lenVar": 40
   },
   "kernels_config": {
    "python": {
     "delete_cmd_postfix": "",
     "delete_cmd_prefix": "del ",
     "library": "var_list.py",
     "varRefreshCmd": "print(var_dic_list())"
    },
    "r": {
     "delete_cmd_postfix": ") ",
     "delete_cmd_prefix": "rm(",
     "library": "var_list.r",
     "varRefreshCmd": "cat(var_dic_list()) "
    }
   },
   "types_to_exclude": [
    "module",
    "function",
    "builtin_function_or_method",
    "instance",
    "_Feature"
   ],
   "window_display": false
  }
 },
 "nbformat": 4,
 "nbformat_minor": 1
}
