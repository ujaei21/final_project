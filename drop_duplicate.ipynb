{
  "nbformat": 4,
  "nbformat_minor": 0,
  "metadata": {
    "colab": {
      "name": "drop_duplicate.ipynb",
      "provenance": []
    },
    "kernelspec": {
      "name": "python3",
      "display_name": "Python 3"
    },
    "language_info": {
      "name": "python"
    }
  },
  "cells": [
    {
      "cell_type": "code",
      "metadata": {
        "colab": {
          "base_uri": "https://localhost:8080/"
        },
        "id": "RyOpXfvrgw0m",
        "outputId": "4e30824d-ace5-429a-f41b-872a97b39717"
      },
      "source": [
        "from google.colab import drive\n",
        "drive.mount('/content/drive')"
      ],
      "execution_count": 1,
      "outputs": [
        {
          "output_type": "stream",
          "name": "stdout",
          "text": [
            "Drive already mounted at /content/drive; to attempt to forcibly remount, call drive.mount(\"/content/drive\", force_remount=True).\n"
          ]
        }
      ]
    },
    {
      "cell_type": "code",
      "metadata": {
        "id": "9jw_qivVgsyt"
      },
      "source": [
        "PATH = '/content/drive/MyDrive/Colab Notebooks/final/'"
      ],
      "execution_count": 2,
      "outputs": []
    },
    {
      "cell_type": "code",
      "metadata": {
        "id": "ILd50irNgxqv"
      },
      "source": [
        "import pandas as pd \n",
        "df = pd.read_csv(PATH+'word_frequency.csv',encoding='cp949')"
      ],
      "execution_count": 3,
      "outputs": []
    },
    {
      "cell_type": "code",
      "metadata": {
        "colab": {
          "base_uri": "https://localhost:8080/",
          "height": 419
        },
        "id": "NDCH-vuzhEp6",
        "outputId": "9bfcc3da-012f-41aa-f57b-cba408bdf056"
      },
      "source": [
        "df"
      ],
      "execution_count": 4,
      "outputs": [
        {
          "output_type": "execute_result",
          "data": {
            "text/html": [
              "<div>\n",
              "<style scoped>\n",
              "    .dataframe tbody tr th:only-of-type {\n",
              "        vertical-align: middle;\n",
              "    }\n",
              "\n",
              "    .dataframe tbody tr th {\n",
              "        vertical-align: top;\n",
              "    }\n",
              "\n",
              "    .dataframe thead th {\n",
              "        text-align: right;\n",
              "    }\n",
              "</style>\n",
              "<table border=\"1\" class=\"dataframe\">\n",
              "  <thead>\n",
              "    <tr style=\"text-align: right;\">\n",
              "      <th></th>\n",
              "      <th>word</th>\n",
              "      <th>frequency</th>\n",
              "    </tr>\n",
              "  </thead>\n",
              "  <tbody>\n",
              "    <tr>\n",
              "      <th>0</th>\n",
              "      <td>의</td>\n",
              "      <td>9029</td>\n",
              "    </tr>\n",
              "    <tr>\n",
              "      <th>1</th>\n",
              "      <td>을</td>\n",
              "      <td>8088</td>\n",
              "    </tr>\n",
              "    <tr>\n",
              "      <th>2</th>\n",
              "      <td>하다</td>\n",
              "      <td>6734</td>\n",
              "    </tr>\n",
              "    <tr>\n",
              "      <th>3</th>\n",
              "      <td>이</td>\n",
              "      <td>5475</td>\n",
              "    </tr>\n",
              "    <tr>\n",
              "      <th>4</th>\n",
              "      <td>에</td>\n",
              "      <td>4086</td>\n",
              "    </tr>\n",
              "    <tr>\n",
              "      <th>...</th>\n",
              "      <td>...</td>\n",
              "      <td>...</td>\n",
              "    </tr>\n",
              "    <tr>\n",
              "      <th>16764</th>\n",
              "      <td>곽백수</td>\n",
              "      <td>1</td>\n",
              "    </tr>\n",
              "    <tr>\n",
              "      <th>16765</th>\n",
              "      <td>신성록</td>\n",
              "      <td>1</td>\n",
              "    </tr>\n",
              "    <tr>\n",
              "      <th>16766</th>\n",
              "      <td>김소은</td>\n",
              "      <td>1</td>\n",
              "    </tr>\n",
              "    <tr>\n",
              "      <th>16767</th>\n",
              "      <td>이상윤</td>\n",
              "      <td>1</td>\n",
              "    </tr>\n",
              "    <tr>\n",
              "      <th>16768</th>\n",
              "      <td>린펑</td>\n",
              "      <td>1</td>\n",
              "    </tr>\n",
              "  </tbody>\n",
              "</table>\n",
              "<p>16769 rows × 2 columns</p>\n",
              "</div>"
            ],
            "text/plain": [
              "      word  frequency\n",
              "0        의       9029\n",
              "1        을       8088\n",
              "2       하다       6734\n",
              "3        이       5475\n",
              "4        에       4086\n",
              "...    ...        ...\n",
              "16764  곽백수          1\n",
              "16765  신성록          1\n",
              "16766  김소은          1\n",
              "16767  이상윤          1\n",
              "16768   린펑          1\n",
              "\n",
              "[16769 rows x 2 columns]"
            ]
          },
          "metadata": {},
          "execution_count": 4
        }
      ]
    },
    {
      "cell_type": "code",
      "metadata": {
        "colab": {
          "base_uri": "https://localhost:8080/"
        },
        "id": "vKT06PJrhMOS",
        "outputId": "d3a75b89-7f9f-4ed3-b163-2ac246b5f3c1"
      },
      "source": [
        "with open(PATH+'stopwords_korean.txt', 'r', encoding='utf8') as f:\n",
        "    stopwords = f.readline()\n",
        "stopwords = stopwords.split()\n",
        "print(stopwords[:5])"
      ],
      "execution_count": 5,
      "outputs": [
        {
          "output_type": "stream",
          "name": "stdout",
          "text": [
            "['아', '휴', '아이구', '아이쿠', '아이고']\n"
          ]
        }
      ]
    },
    {
      "cell_type": "code",
      "metadata": {
        "colab": {
          "base_uri": "https://localhost:8080/"
        },
        "id": "AZUL4KXD19-O",
        "outputId": "e4e2a5e8-722a-45fa-9016-f95a166ebddb"
      },
      "source": [
        "df[df.frequency==1].count()"
      ],
      "execution_count": 6,
      "outputs": [
        {
          "output_type": "execute_result",
          "data": {
            "text/plain": [
              "word         6415\n",
              "frequency    6415\n",
              "dtype: int64"
            ]
          },
          "metadata": {},
          "execution_count": 6
        }
      ]
    },
    {
      "cell_type": "code",
      "metadata": {
        "id": "gILf6VLaiOIq"
      },
      "source": [
        "text = []\n",
        "for word in df.word:\n",
        "    if word not in stopwords:\n",
        "        text.append(word)"
      ],
      "execution_count": 7,
      "outputs": []
    },
    {
      "cell_type": "code",
      "metadata": {
        "id": "hEQNZGWZitB6"
      },
      "source": [
        "df1 = pd.DataFrame(text,columns=['word'])"
      ],
      "execution_count": 25,
      "outputs": []
    },
    {
      "cell_type": "code",
      "metadata": {
        "id": "JusdJI-ziz3T"
      },
      "source": [
        "kakao = pd.read_csv(PATH+'kp_week.csv',encoding='cp949')"
      ],
      "execution_count": 9,
      "outputs": []
    },
    {
      "cell_type": "code",
      "metadata": {
        "colab": {
          "base_uri": "https://localhost:8080/",
          "height": 204
        },
        "id": "Yna8wMPg4PsD",
        "outputId": "d7cc3077-2d11-4df4-eb62-a57d3aedaa1f"
      },
      "source": [
        "kakao.head()"
      ],
      "execution_count": 10,
      "outputs": [
        {
          "output_type": "execute_result",
          "data": {
            "text/html": [
              "<div>\n",
              "<style scoped>\n",
              "    .dataframe tbody tr th:only-of-type {\n",
              "        vertical-align: middle;\n",
              "    }\n",
              "\n",
              "    .dataframe tbody tr th {\n",
              "        vertical-align: top;\n",
              "    }\n",
              "\n",
              "    .dataframe thead th {\n",
              "        text-align: right;\n",
              "    }\n",
              "</style>\n",
              "<table border=\"1\" class=\"dataframe\">\n",
              "  <thead>\n",
              "    <tr style=\"text-align: right;\">\n",
              "      <th></th>\n",
              "      <th>Unnamed: 0</th>\n",
              "      <th>title</th>\n",
              "      <th>day</th>\n",
              "      <th>genre</th>\n",
              "      <th>story</th>\n",
              "      <th>platform</th>\n",
              "      <th>t_image</th>\n",
              "    </tr>\n",
              "  </thead>\n",
              "  <tbody>\n",
              "    <tr>\n",
              "      <th>0</th>\n",
              "      <td>0</td>\n",
              "      <td>우선 남동생부터 숨기자</td>\n",
              "      <td>월</td>\n",
              "      <td>로판만화</td>\n",
              "      <td>하필이면 19금 다공일수 피폐 만화에 수의 하나뿐인 누나로 빙의하고 말았다! 재수없...</td>\n",
              "      <td>카카오페이지</td>\n",
              "      <td>cHyfs/hy41GaQT02/8lTAkYiB5MqJuKdoSmJEBK</td>\n",
              "    </tr>\n",
              "    <tr>\n",
              "      <th>1</th>\n",
              "      <td>1</td>\n",
              "      <td>이번 생은 가주가 되겠습니다</td>\n",
              "      <td>월</td>\n",
              "      <td>로판만화</td>\n",
              "      <td>한번 해 보자. 내가 가주가 되는 거야. 제국에서 제일가는 가문, 롬바르디의 사생아...</td>\n",
              "      <td>카카오페이지</td>\n",
              "      <td>cDeRi1/hyVkDNZUdD/WyUnrIQ0gkyKdkLzL5ajh1</td>\n",
              "    </tr>\n",
              "    <tr>\n",
              "      <th>2</th>\n",
              "      <td>2</td>\n",
              "      <td>묵향 다크레이디</td>\n",
              "      <td>월</td>\n",
              "      <td>소년만화</td>\n",
              "      <td>마교의 교주로서 극강의 무공을 자랑하던 묵향은 적들 혈교 에 의해 생전 처음 보는 ...</td>\n",
              "      <td>카카오페이지</td>\n",
              "      <td>9Eoo5/hyATyGp2En/pYYjRkJJIrpHEvDible6T0</td>\n",
              "    </tr>\n",
              "    <tr>\n",
              "      <th>3</th>\n",
              "      <td>3</td>\n",
              "      <td>튜토리얼이 너무 어렵다</td>\n",
              "      <td>월</td>\n",
              "      <td>소년만화</td>\n",
              "      <td>퓨전 판타지 장편소설 39 튜토리얼이 너무 어렵다 39 가 웹툰으로 독자 여러분을 ...</td>\n",
              "      <td>카카오페이지</td>\n",
              "      <td>cof1Bi/hyQ9Q45PWC/L84IXRvtte4PTzZS6dXbB0</td>\n",
              "    </tr>\n",
              "    <tr>\n",
              "      <th>4</th>\n",
              "      <td>4</td>\n",
              "      <td>8클래스 마법사의 회귀</td>\n",
              "      <td>월</td>\n",
              "      <td>소년만화</td>\n",
              "      <td>황제 라그나르와 통일 제국을 위해 손에 피를 묻히길 수십 년. 나는 고향으로 돌아가...</td>\n",
              "      <td>카카오페이지</td>\n",
              "      <td>HrHN1/hy41P6FJKt/FCR6J7pW8bFVRQVJx7Mlo0</td>\n",
              "    </tr>\n",
              "  </tbody>\n",
              "</table>\n",
              "</div>"
            ],
            "text/plain": [
              "   Unnamed: 0  ...                                   t_image\n",
              "0           0  ...   cHyfs/hy41GaQT02/8lTAkYiB5MqJuKdoSmJEBK\n",
              "1           1  ...  cDeRi1/hyVkDNZUdD/WyUnrIQ0gkyKdkLzL5ajh1\n",
              "2           2  ...   9Eoo5/hyATyGp2En/pYYjRkJJIrpHEvDible6T0\n",
              "3           3  ...  cof1Bi/hyQ9Q45PWC/L84IXRvtte4PTzZS6dXbB0\n",
              "4           4  ...   HrHN1/hy41P6FJKt/FCR6J7pW8bFVRQVJx7Mlo0\n",
              "\n",
              "[5 rows x 7 columns]"
            ]
          },
          "metadata": {},
          "execution_count": 10
        }
      ]
    },
    {
      "cell_type": "code",
      "metadata": {
        "colab": {
          "base_uri": "https://localhost:8080/"
        },
        "id": "sxkk5LlS4bMr",
        "outputId": "5d5b1e70-6c3d-4bac-e40e-ace14f87f56a"
      },
      "source": [
        "kakao.title.value_counts()"
      ],
      "execution_count": 11,
      "outputs": [
        {
          "output_type": "execute_result",
          "data": {
            "text/plain": [
              "전신귀환                                       7\n",
              "이세계의 지존 플레이어                               7\n",
              "다정다감                                       5\n",
              "웽툰                                         5\n",
              "고교최강                                       5\n",
              "                                          ..\n",
              "이별을 희망합니다                                  1\n",
              "양극의 소년                                     1\n",
              "여성향 게임의 파멸 플래그밖에 없는 악역 영애로 환생해버렸다… 컬러웹툰    1\n",
              "더 이상 사랑하지 않는다                              1\n",
              "왕녀는 미친 척을 한다                               1\n",
              "Name: title, Length: 852, dtype: int64"
            ]
          },
          "metadata": {},
          "execution_count": 11
        }
      ]
    },
    {
      "cell_type": "code",
      "metadata": {
        "colab": {
          "base_uri": "https://localhost:8080/",
          "height": 266
        },
        "id": "8mD3ls2q4hVy",
        "outputId": "f448babd-178e-47a3-98fa-1104a9434dcf"
      },
      "source": [
        "kakao[kakao.title=='전신귀환']"
      ],
      "execution_count": 12,
      "outputs": [
        {
          "output_type": "execute_result",
          "data": {
            "text/html": [
              "<div>\n",
              "<style scoped>\n",
              "    .dataframe tbody tr th:only-of-type {\n",
              "        vertical-align: middle;\n",
              "    }\n",
              "\n",
              "    .dataframe tbody tr th {\n",
              "        vertical-align: top;\n",
              "    }\n",
              "\n",
              "    .dataframe thead th {\n",
              "        text-align: right;\n",
              "    }\n",
              "</style>\n",
              "<table border=\"1\" class=\"dataframe\">\n",
              "  <thead>\n",
              "    <tr style=\"text-align: right;\">\n",
              "      <th></th>\n",
              "      <th>Unnamed: 0</th>\n",
              "      <th>title</th>\n",
              "      <th>day</th>\n",
              "      <th>genre</th>\n",
              "      <th>story</th>\n",
              "      <th>platform</th>\n",
              "      <th>t_image</th>\n",
              "    </tr>\n",
              "  </thead>\n",
              "  <tbody>\n",
              "    <tr>\n",
              "      <th>51</th>\n",
              "      <td>51</td>\n",
              "      <td>전신귀환</td>\n",
              "      <td>매일</td>\n",
              "      <td>액션무협만화</td>\n",
              "      <td>최강의 무혼을 지녀 전신 이라 불리던 그, 도운은 믿었던 이들에게 배신당하고 백년 ...</td>\n",
              "      <td>카카오페이지</td>\n",
              "      <td>cpaHm2/hy41GPjkpQ/9UoafWb7KaSVZk89LpN9D1</td>\n",
              "    </tr>\n",
              "    <tr>\n",
              "      <th>209</th>\n",
              "      <td>209</td>\n",
              "      <td>전신귀환</td>\n",
              "      <td>매일</td>\n",
              "      <td>액션무협만화</td>\n",
              "      <td>최강의 무혼을 지녀 전신 이라 불리던 그, 도운은 믿었던 이들에게 배신당하고 백년 ...</td>\n",
              "      <td>카카오페이지</td>\n",
              "      <td>cpaHm2/hy41GPjkpQ/9UoafWb7KaSVZk89LpN9D1</td>\n",
              "    </tr>\n",
              "    <tr>\n",
              "      <th>322</th>\n",
              "      <td>322</td>\n",
              "      <td>전신귀환</td>\n",
              "      <td>매일</td>\n",
              "      <td>액션무협만화</td>\n",
              "      <td>최강의 무혼을 지녀 전신 이라 불리던 그, 도운은 믿었던 이들에게 배신당하고 백년 ...</td>\n",
              "      <td>카카오페이지</td>\n",
              "      <td>cpaHm2/hy41GPjkpQ/9UoafWb7KaSVZk89LpN9D1</td>\n",
              "    </tr>\n",
              "    <tr>\n",
              "      <th>474</th>\n",
              "      <td>474</td>\n",
              "      <td>전신귀환</td>\n",
              "      <td>매일</td>\n",
              "      <td>액션무협만화</td>\n",
              "      <td>최강의 무혼을 지녀 전신 이라 불리던 그, 도운은 믿었던 이들에게 배신당하고 백년 ...</td>\n",
              "      <td>카카오페이지</td>\n",
              "      <td>cpaHm2/hy41GPjkpQ/9UoafWb7KaSVZk89LpN9D1</td>\n",
              "    </tr>\n",
              "    <tr>\n",
              "      <th>621</th>\n",
              "      <td>621</td>\n",
              "      <td>전신귀환</td>\n",
              "      <td>매일</td>\n",
              "      <td>액션무협만화</td>\n",
              "      <td>최강의 무혼을 지녀 전신 이라 불리던 그, 도운은 믿었던 이들에게 배신당하고 백년 ...</td>\n",
              "      <td>카카오페이지</td>\n",
              "      <td>cpaHm2/hy41GPjkpQ/9UoafWb7KaSVZk89LpN9D1</td>\n",
              "    </tr>\n",
              "    <tr>\n",
              "      <th>789</th>\n",
              "      <td>789</td>\n",
              "      <td>전신귀환</td>\n",
              "      <td>매일</td>\n",
              "      <td>액션무협만화</td>\n",
              "      <td>최강의 무혼을 지녀 전신 이라 불리던 그, 도운은 믿었던 이들에게 배신당하고 백년 ...</td>\n",
              "      <td>카카오페이지</td>\n",
              "      <td>cpaHm2/hy41GPjkpQ/9UoafWb7KaSVZk89LpN9D1</td>\n",
              "    </tr>\n",
              "    <tr>\n",
              "      <th>921</th>\n",
              "      <td>921</td>\n",
              "      <td>전신귀환</td>\n",
              "      <td>매일</td>\n",
              "      <td>액션무협만화</td>\n",
              "      <td>최강의 무혼을 지녀 전신 이라 불리던 그, 도운은 믿었던 이들에게 배신당하고 백년 ...</td>\n",
              "      <td>카카오페이지</td>\n",
              "      <td>cpaHm2/hy41GPjkpQ/9UoafWb7KaSVZk89LpN9D1</td>\n",
              "    </tr>\n",
              "  </tbody>\n",
              "</table>\n",
              "</div>"
            ],
            "text/plain": [
              "     Unnamed: 0 title  ... platform                                   t_image\n",
              "51           51  전신귀환  ...   카카오페이지  cpaHm2/hy41GPjkpQ/9UoafWb7KaSVZk89LpN9D1\n",
              "209         209  전신귀환  ...   카카오페이지  cpaHm2/hy41GPjkpQ/9UoafWb7KaSVZk89LpN9D1\n",
              "322         322  전신귀환  ...   카카오페이지  cpaHm2/hy41GPjkpQ/9UoafWb7KaSVZk89LpN9D1\n",
              "474         474  전신귀환  ...   카카오페이지  cpaHm2/hy41GPjkpQ/9UoafWb7KaSVZk89LpN9D1\n",
              "621         621  전신귀환  ...   카카오페이지  cpaHm2/hy41GPjkpQ/9UoafWb7KaSVZk89LpN9D1\n",
              "789         789  전신귀환  ...   카카오페이지  cpaHm2/hy41GPjkpQ/9UoafWb7KaSVZk89LpN9D1\n",
              "921         921  전신귀환  ...   카카오페이지  cpaHm2/hy41GPjkpQ/9UoafWb7KaSVZk89LpN9D1\n",
              "\n",
              "[7 rows x 7 columns]"
            ]
          },
          "metadata": {},
          "execution_count": 12
        }
      ]
    },
    {
      "cell_type": "code",
      "metadata": {
        "colab": {
          "base_uri": "https://localhost:8080/",
          "height": 266
        },
        "id": "zeF5Er9K4qty",
        "outputId": "3fd725f1-176d-41c4-ba7b-d8caa620d90f"
      },
      "source": [
        "kakao[kakao.title=='이세계의 지존 플레이어']"
      ],
      "execution_count": 13,
      "outputs": [
        {
          "output_type": "execute_result",
          "data": {
            "text/html": [
              "<div>\n",
              "<style scoped>\n",
              "    .dataframe tbody tr th:only-of-type {\n",
              "        vertical-align: middle;\n",
              "    }\n",
              "\n",
              "    .dataframe tbody tr th {\n",
              "        vertical-align: top;\n",
              "    }\n",
              "\n",
              "    .dataframe thead th {\n",
              "        text-align: right;\n",
              "    }\n",
              "</style>\n",
              "<table border=\"1\" class=\"dataframe\">\n",
              "  <thead>\n",
              "    <tr style=\"text-align: right;\">\n",
              "      <th></th>\n",
              "      <th>Unnamed: 0</th>\n",
              "      <th>title</th>\n",
              "      <th>day</th>\n",
              "      <th>genre</th>\n",
              "      <th>story</th>\n",
              "      <th>platform</th>\n",
              "      <th>t_image</th>\n",
              "    </tr>\n",
              "  </thead>\n",
              "  <tbody>\n",
              "    <tr>\n",
              "      <th>61</th>\n",
              "      <td>61</td>\n",
              "      <td>이세계의 지존 플레이어</td>\n",
              "      <td>매일</td>\n",
              "      <td>액션무협만화</td>\n",
              "      <td>뻔한 환빙물 클리셰, 그 이야기의 주인공은 나였다. 34 눈 한 번 깜빡했는데 차원...</td>\n",
              "      <td>카카오페이지</td>\n",
              "      <td>rUat0/hy41NHStO8/PNr3qVFMtRhqzuKdSY4uyK</td>\n",
              "    </tr>\n",
              "    <tr>\n",
              "      <th>180</th>\n",
              "      <td>180</td>\n",
              "      <td>이세계의 지존 플레이어</td>\n",
              "      <td>매일</td>\n",
              "      <td>액션무협만화</td>\n",
              "      <td>뻔한 환빙물 클리셰, 그 이야기의 주인공은 나였다. 34 눈 한 번 깜빡했는데 차원...</td>\n",
              "      <td>카카오페이지</td>\n",
              "      <td>rUat0/hy41NHStO8/PNr3qVFMtRhqzuKdSY4uyK</td>\n",
              "    </tr>\n",
              "    <tr>\n",
              "      <th>333</th>\n",
              "      <td>333</td>\n",
              "      <td>이세계의 지존 플레이어</td>\n",
              "      <td>매일</td>\n",
              "      <td>액션무협만화</td>\n",
              "      <td>뻔한 환빙물 클리셰, 그 이야기의 주인공은 나였다. 34 눈 한 번 깜빡했는데 차원...</td>\n",
              "      <td>카카오페이지</td>\n",
              "      <td>rUat0/hy41NHStO8/PNr3qVFMtRhqzuKdSY4uyK</td>\n",
              "    </tr>\n",
              "    <tr>\n",
              "      <th>485</th>\n",
              "      <td>485</td>\n",
              "      <td>이세계의 지존 플레이어</td>\n",
              "      <td>매일</td>\n",
              "      <td>액션무협만화</td>\n",
              "      <td>뻔한 환빙물 클리셰, 그 이야기의 주인공은 나였다. 34 눈 한 번 깜빡했는데 차원...</td>\n",
              "      <td>카카오페이지</td>\n",
              "      <td>rUat0/hy41NHStO8/PNr3qVFMtRhqzuKdSY4uyK</td>\n",
              "    </tr>\n",
              "    <tr>\n",
              "      <th>644</th>\n",
              "      <td>644</td>\n",
              "      <td>이세계의 지존 플레이어</td>\n",
              "      <td>매일</td>\n",
              "      <td>액션무협만화</td>\n",
              "      <td>뻔한 환빙물 클리셰, 그 이야기의 주인공은 나였다. 34 눈 한 번 깜빡했는데 차원...</td>\n",
              "      <td>카카오페이지</td>\n",
              "      <td>rUat0/hy41NHStO8/PNr3qVFMtRhqzuKdSY4uyK</td>\n",
              "    </tr>\n",
              "    <tr>\n",
              "      <th>802</th>\n",
              "      <td>802</td>\n",
              "      <td>이세계의 지존 플레이어</td>\n",
              "      <td>매일</td>\n",
              "      <td>액션무협만화</td>\n",
              "      <td>뻔한 환빙물 클리셰, 그 이야기의 주인공은 나였다. 34 눈 한 번 깜빡했는데 차원...</td>\n",
              "      <td>카카오페이지</td>\n",
              "      <td>rUat0/hy41NHStO8/PNr3qVFMtRhqzuKdSY4uyK</td>\n",
              "    </tr>\n",
              "    <tr>\n",
              "      <th>933</th>\n",
              "      <td>933</td>\n",
              "      <td>이세계의 지존 플레이어</td>\n",
              "      <td>매일</td>\n",
              "      <td>액션무협만화</td>\n",
              "      <td>뻔한 환빙물 클리셰, 그 이야기의 주인공은 나였다. 34 눈 한 번 깜빡했는데 차원...</td>\n",
              "      <td>카카오페이지</td>\n",
              "      <td>rUat0/hy41NHStO8/PNr3qVFMtRhqzuKdSY4uyK</td>\n",
              "    </tr>\n",
              "  </tbody>\n",
              "</table>\n",
              "</div>"
            ],
            "text/plain": [
              "     Unnamed: 0         title  ... platform                                  t_image\n",
              "61           61  이세계의 지존 플레이어  ...   카카오페이지  rUat0/hy41NHStO8/PNr3qVFMtRhqzuKdSY4uyK\n",
              "180         180  이세계의 지존 플레이어  ...   카카오페이지  rUat0/hy41NHStO8/PNr3qVFMtRhqzuKdSY4uyK\n",
              "333         333  이세계의 지존 플레이어  ...   카카오페이지  rUat0/hy41NHStO8/PNr3qVFMtRhqzuKdSY4uyK\n",
              "485         485  이세계의 지존 플레이어  ...   카카오페이지  rUat0/hy41NHStO8/PNr3qVFMtRhqzuKdSY4uyK\n",
              "644         644  이세계의 지존 플레이어  ...   카카오페이지  rUat0/hy41NHStO8/PNr3qVFMtRhqzuKdSY4uyK\n",
              "802         802  이세계의 지존 플레이어  ...   카카오페이지  rUat0/hy41NHStO8/PNr3qVFMtRhqzuKdSY4uyK\n",
              "933         933  이세계의 지존 플레이어  ...   카카오페이지  rUat0/hy41NHStO8/PNr3qVFMtRhqzuKdSY4uyK\n",
              "\n",
              "[7 rows x 7 columns]"
            ]
          },
          "metadata": {},
          "execution_count": 13
        }
      ]
    },
    {
      "cell_type": "code",
      "metadata": {
        "colab": {
          "base_uri": "https://localhost:8080/",
          "height": 204
        },
        "id": "D65k6I7D4zLi",
        "outputId": "954ac6ec-802a-471e-ff5a-2749aa58e344"
      },
      "source": [
        "kakao[kakao.title=='다정다감']"
      ],
      "execution_count": 14,
      "outputs": [
        {
          "output_type": "execute_result",
          "data": {
            "text/html": [
              "<div>\n",
              "<style scoped>\n",
              "    .dataframe tbody tr th:only-of-type {\n",
              "        vertical-align: middle;\n",
              "    }\n",
              "\n",
              "    .dataframe tbody tr th {\n",
              "        vertical-align: top;\n",
              "    }\n",
              "\n",
              "    .dataframe thead th {\n",
              "        text-align: right;\n",
              "    }\n",
              "</style>\n",
              "<table border=\"1\" class=\"dataframe\">\n",
              "  <thead>\n",
              "    <tr style=\"text-align: right;\">\n",
              "      <th></th>\n",
              "      <th>Unnamed: 0</th>\n",
              "      <th>title</th>\n",
              "      <th>day</th>\n",
              "      <th>genre</th>\n",
              "      <th>story</th>\n",
              "      <th>platform</th>\n",
              "      <th>t_image</th>\n",
              "    </tr>\n",
              "  </thead>\n",
              "  <tbody>\n",
              "    <tr>\n",
              "      <th>57</th>\n",
              "      <td>57</td>\n",
              "      <td>다정다감</td>\n",
              "      <td>월, 화, 수, 목, 금</td>\n",
              "      <td>로맨스만화</td>\n",
              "      <td>언젠가 네가 나를 이해하리라 믿어. 그때부터 우리는 친구가 되는 거야. 평범한 외모...</td>\n",
              "      <td>카카오페이지</td>\n",
              "      <td>kgg0s/hzacbJz0Do/JBsdNG17DE9Pytcsc7VCZK</td>\n",
              "    </tr>\n",
              "    <tr>\n",
              "      <th>175</th>\n",
              "      <td>175</td>\n",
              "      <td>다정다감</td>\n",
              "      <td>월, 화, 수, 목, 금</td>\n",
              "      <td>로맨스만화</td>\n",
              "      <td>언젠가 네가 나를 이해하리라 믿어. 그때부터 우리는 친구가 되는 거야. 평범한 외모...</td>\n",
              "      <td>카카오페이지</td>\n",
              "      <td>kgg0s/hzacbJz0Do/JBsdNG17DE9Pytcsc7VCZK</td>\n",
              "    </tr>\n",
              "    <tr>\n",
              "      <th>331</th>\n",
              "      <td>331</td>\n",
              "      <td>다정다감</td>\n",
              "      <td>월, 화, 수, 목, 금</td>\n",
              "      <td>로맨스만화</td>\n",
              "      <td>언젠가 네가 나를 이해하리라 믿어. 그때부터 우리는 친구가 되는 거야. 평범한 외모...</td>\n",
              "      <td>카카오페이지</td>\n",
              "      <td>kgg0s/hzacbJz0Do/JBsdNG17DE9Pytcsc7VCZK</td>\n",
              "    </tr>\n",
              "    <tr>\n",
              "      <th>480</th>\n",
              "      <td>480</td>\n",
              "      <td>다정다감</td>\n",
              "      <td>월, 화, 수, 목, 금</td>\n",
              "      <td>로맨스만화</td>\n",
              "      <td>언젠가 네가 나를 이해하리라 믿어. 그때부터 우리는 친구가 되는 거야. 평범한 외모...</td>\n",
              "      <td>카카오페이지</td>\n",
              "      <td>kgg0s/hzacbJz0Do/JBsdNG17DE9Pytcsc7VCZK</td>\n",
              "    </tr>\n",
              "    <tr>\n",
              "      <th>639</th>\n",
              "      <td>639</td>\n",
              "      <td>다정다감</td>\n",
              "      <td>월, 화, 수, 목, 금</td>\n",
              "      <td>로맨스만화</td>\n",
              "      <td>언젠가 네가 나를 이해하리라 믿어. 그때부터 우리는 친구가 되는 거야. 평범한 외모...</td>\n",
              "      <td>카카오페이지</td>\n",
              "      <td>kgg0s/hzacbJz0Do/JBsdNG17DE9Pytcsc7VCZK</td>\n",
              "    </tr>\n",
              "  </tbody>\n",
              "</table>\n",
              "</div>"
            ],
            "text/plain": [
              "     Unnamed: 0 title  ... platform                                  t_image\n",
              "57           57  다정다감  ...   카카오페이지  kgg0s/hzacbJz0Do/JBsdNG17DE9Pytcsc7VCZK\n",
              "175         175  다정다감  ...   카카오페이지  kgg0s/hzacbJz0Do/JBsdNG17DE9Pytcsc7VCZK\n",
              "331         331  다정다감  ...   카카오페이지  kgg0s/hzacbJz0Do/JBsdNG17DE9Pytcsc7VCZK\n",
              "480         480  다정다감  ...   카카오페이지  kgg0s/hzacbJz0Do/JBsdNG17DE9Pytcsc7VCZK\n",
              "639         639  다정다감  ...   카카오페이지  kgg0s/hzacbJz0Do/JBsdNG17DE9Pytcsc7VCZK\n",
              "\n",
              "[5 rows x 7 columns]"
            ]
          },
          "metadata": {},
          "execution_count": 14
        }
      ]
    },
    {
      "cell_type": "code",
      "metadata": {
        "id": "3h0uvJJ846Oq"
      },
      "source": [
        "kakao.drop_duplicates(['title'],inplace=True)"
      ],
      "execution_count": 15,
      "outputs": []
    },
    {
      "cell_type": "code",
      "metadata": {
        "colab": {
          "base_uri": "https://localhost:8080/"
        },
        "id": "xYdE7VdE49fq",
        "outputId": "da46c5c1-f602-478e-9d10-e32bd7456f43"
      },
      "source": [
        "kakao.title.value_counts()"
      ],
      "execution_count": 16,
      "outputs": [
        {
          "output_type": "execute_result",
          "data": {
            "text/plain": [
              "플라워 워 (Flower War)    1\n",
              "독재                    1\n",
              "미슐랭스타                 1\n",
              "라이언, 더 라이언            1\n",
              "수련만 삼천년               1\n",
              "                     ..\n",
              "주정                    1\n",
              "악녀의 탄생                1\n",
              "루갈 (RUGAL)            1\n",
              "화홍                    1\n",
              "왕녀는 미친 척을 한다          1\n",
              "Name: title, Length: 852, dtype: int64"
            ]
          },
          "metadata": {},
          "execution_count": 16
        }
      ]
    },
    {
      "cell_type": "code",
      "metadata": {
        "colab": {
          "base_uri": "https://localhost:8080/"
        },
        "id": "hiH3EY085CVK",
        "outputId": "0c560b28-3c4f-44b8-fd14-ba8065ddc79c"
      },
      "source": [
        "kakao.shape"
      ],
      "execution_count": 17,
      "outputs": [
        {
          "output_type": "execute_result",
          "data": {
            "text/plain": [
              "(852, 7)"
            ]
          },
          "metadata": {},
          "execution_count": 17
        }
      ]
    },
    {
      "cell_type": "code",
      "metadata": {
        "id": "7xzVPoTd7gik"
      },
      "source": [
        "kakao.drop('Unnamed: 0',axis=1,inplace=True)"
      ],
      "execution_count": 18,
      "outputs": []
    },
    {
      "cell_type": "code",
      "metadata": {
        "id": "WH_NiQYQ5f1q"
      },
      "source": [
        "kakao.to_csv(PATH+'kakao_title.csv',index=False)"
      ],
      "execution_count": 19,
      "outputs": []
    },
    {
      "cell_type": "code",
      "metadata": {
        "id": "iTgjfAzZ6tuu"
      },
      "source": [
        "data = pd.read_csv(PATH+'kakao_title.csv')"
      ],
      "execution_count": 20,
      "outputs": []
    },
    {
      "cell_type": "code",
      "metadata": {
        "colab": {
          "base_uri": "https://localhost:8080/"
        },
        "id": "lctENlS37I26",
        "outputId": "6c0808a8-0a87-40b8-8b7f-74fba22c0bc6"
      },
      "source": [
        "data.title.value_counts"
      ],
      "execution_count": 21,
      "outputs": [
        {
          "output_type": "execute_result",
          "data": {
            "text/plain": [
              "<bound method IndexOpsMixin.value_counts of 0          우선 남동생부터 숨기자\n",
              "1       이번 생은 가주가 되겠습니다\n",
              "2              묵향 다크레이디\n",
              "3          튜토리얼이 너무 어렵다\n",
              "4          8클래스 마법사의 회귀\n",
              "             ...       \n",
              "847       이 남자를 상속받겠습니다\n",
              "848                수호룡기\n",
              "849    드래곤 엑스(Dragon-X)\n",
              "850        세븐나이츠 : 알카이드\n",
              "851                  진협\n",
              "Name: title, Length: 852, dtype: object>"
            ]
          },
          "metadata": {},
          "execution_count": 21
        }
      ]
    },
    {
      "cell_type": "code",
      "metadata": {
        "colab": {
          "base_uri": "https://localhost:8080/",
          "height": 80
        },
        "id": "medSwHEG7UEL",
        "outputId": "e236bee6-d268-4028-f322-075e35c70ce5"
      },
      "source": [
        "data[data.title=='전신귀환']"
      ],
      "execution_count": 22,
      "outputs": [
        {
          "output_type": "execute_result",
          "data": {
            "text/html": [
              "<div>\n",
              "<style scoped>\n",
              "    .dataframe tbody tr th:only-of-type {\n",
              "        vertical-align: middle;\n",
              "    }\n",
              "\n",
              "    .dataframe tbody tr th {\n",
              "        vertical-align: top;\n",
              "    }\n",
              "\n",
              "    .dataframe thead th {\n",
              "        text-align: right;\n",
              "    }\n",
              "</style>\n",
              "<table border=\"1\" class=\"dataframe\">\n",
              "  <thead>\n",
              "    <tr style=\"text-align: right;\">\n",
              "      <th></th>\n",
              "      <th>title</th>\n",
              "      <th>day</th>\n",
              "      <th>genre</th>\n",
              "      <th>story</th>\n",
              "      <th>platform</th>\n",
              "      <th>t_image</th>\n",
              "    </tr>\n",
              "  </thead>\n",
              "  <tbody>\n",
              "    <tr>\n",
              "      <th>51</th>\n",
              "      <td>전신귀환</td>\n",
              "      <td>매일</td>\n",
              "      <td>액션무협만화</td>\n",
              "      <td>최강의 무혼을 지녀 전신 이라 불리던 그, 도운은 믿었던 이들에게 배신당하고 백년 ...</td>\n",
              "      <td>카카오페이지</td>\n",
              "      <td>cpaHm2/hy41GPjkpQ/9UoafWb7KaSVZk89LpN9D1</td>\n",
              "    </tr>\n",
              "  </tbody>\n",
              "</table>\n",
              "</div>"
            ],
            "text/plain": [
              "   title day  ... platform                                   t_image\n",
              "51  전신귀환  매일  ...   카카오페이지  cpaHm2/hy41GPjkpQ/9UoafWb7KaSVZk89LpN9D1\n",
              "\n",
              "[1 rows x 6 columns]"
            ]
          },
          "metadata": {},
          "execution_count": 22
        }
      ]
    },
    {
      "cell_type": "code",
      "metadata": {
        "id": "XTzYFprg7ceC"
      },
      "source": [
        "new_word = pd.merge(df,df1,on='word')"
      ],
      "execution_count": 27,
      "outputs": []
    },
    {
      "cell_type": "code",
      "metadata": {
        "colab": {
          "base_uri": "https://localhost:8080/",
          "height": 979
        },
        "id": "j3tjb0Nr-i8d",
        "outputId": "4d6a9da3-01d3-471b-d89f-79550dd813b2"
      },
      "source": [
        "new_word.iloc[:30]"
      ],
      "execution_count": 32,
      "outputs": [
        {
          "output_type": "execute_result",
          "data": {
            "text/html": [
              "<div>\n",
              "<style scoped>\n",
              "    .dataframe tbody tr th:only-of-type {\n",
              "        vertical-align: middle;\n",
              "    }\n",
              "\n",
              "    .dataframe tbody tr th {\n",
              "        vertical-align: top;\n",
              "    }\n",
              "\n",
              "    .dataframe thead th {\n",
              "        text-align: right;\n",
              "    }\n",
              "</style>\n",
              "<table border=\"1\" class=\"dataframe\">\n",
              "  <thead>\n",
              "    <tr style=\"text-align: right;\">\n",
              "      <th></th>\n",
              "      <th>word</th>\n",
              "      <th>frequency</th>\n",
              "    </tr>\n",
              "  </thead>\n",
              "  <tbody>\n",
              "    <tr>\n",
              "      <th>0</th>\n",
              "      <td>은</td>\n",
              "      <td>3176</td>\n",
              "    </tr>\n",
              "    <tr>\n",
              "      <th>1</th>\n",
              "      <td>는</td>\n",
              "      <td>2432</td>\n",
              "    </tr>\n",
              "    <tr>\n",
              "      <th>2</th>\n",
              "      <td>도</td>\n",
              "      <td>1033</td>\n",
              "    </tr>\n",
              "    <tr>\n",
              "      <th>3</th>\n",
              "      <td>이다</td>\n",
              "      <td>1013</td>\n",
              "    </tr>\n",
              "    <tr>\n",
              "      <th>4</th>\n",
              "      <td>시작</td>\n",
              "      <td>829</td>\n",
              "    </tr>\n",
              "    <tr>\n",
              "      <th>5</th>\n",
              "      <td>사랑</td>\n",
              "      <td>730</td>\n",
              "    </tr>\n",
              "    <tr>\n",
              "      <th>6</th>\n",
              "      <td>날</td>\n",
              "      <td>714</td>\n",
              "    </tr>\n",
              "    <tr>\n",
              "      <th>7</th>\n",
              "      <td>보다</td>\n",
              "      <td>693</td>\n",
              "    </tr>\n",
              "    <tr>\n",
              "      <th>8</th>\n",
              "      <td>위해</td>\n",
              "      <td>690</td>\n",
              "    </tr>\n",
              "    <tr>\n",
              "      <th>9</th>\n",
              "      <td>이야기</td>\n",
              "      <td>679</td>\n",
              "    </tr>\n",
              "    <tr>\n",
              "      <th>10</th>\n",
              "      <td>남자</td>\n",
              "      <td>614</td>\n",
              "    </tr>\n",
              "    <tr>\n",
              "      <th>11</th>\n",
              "      <td>고</td>\n",
              "      <td>612</td>\n",
              "    </tr>\n",
              "    <tr>\n",
              "      <th>12</th>\n",
              "      <td>되어다</td>\n",
              "      <td>575</td>\n",
              "    </tr>\n",
              "    <tr>\n",
              "      <th>13</th>\n",
              "      <td>받다</td>\n",
              "      <td>565</td>\n",
              "    </tr>\n",
              "    <tr>\n",
              "      <th>14</th>\n",
              "      <td>다</td>\n",
              "      <td>513</td>\n",
              "    </tr>\n",
              "    <tr>\n",
              "      <th>15</th>\n",
              "      <td>못</td>\n",
              "      <td>512</td>\n",
              "    </tr>\n",
              "    <tr>\n",
              "      <th>16</th>\n",
              "      <td>게</td>\n",
              "      <td>508</td>\n",
              "    </tr>\n",
              "    <tr>\n",
              "      <th>17</th>\n",
              "      <td>버리다</td>\n",
              "      <td>499</td>\n",
              "    </tr>\n",
              "    <tr>\n",
              "      <th>18</th>\n",
              "      <td>개정판</td>\n",
              "      <td>485</td>\n",
              "    </tr>\n",
              "    <tr>\n",
              "      <th>19</th>\n",
              "      <td>세계</td>\n",
              "      <td>460</td>\n",
              "    </tr>\n",
              "    <tr>\n",
              "      <th>20</th>\n",
              "      <td>그렇다</td>\n",
              "      <td>455</td>\n",
              "    </tr>\n",
              "    <tr>\n",
              "      <th>21</th>\n",
              "      <td>세상</td>\n",
              "      <td>435</td>\n",
              "    </tr>\n",
              "    <tr>\n",
              "      <th>22</th>\n",
              "      <td>작가</td>\n",
              "      <td>424</td>\n",
              "    </tr>\n",
              "    <tr>\n",
              "      <th>23</th>\n",
              "      <td>만나다</td>\n",
              "      <td>403</td>\n",
              "    </tr>\n",
              "    <tr>\n",
              "      <th>24</th>\n",
              "      <td>가다</td>\n",
              "      <td>403</td>\n",
              "    </tr>\n",
              "    <tr>\n",
              "      <th>25</th>\n",
              "      <td>인간</td>\n",
              "      <td>377</td>\n",
              "    </tr>\n",
              "    <tr>\n",
              "      <th>26</th>\n",
              "      <td>곳</td>\n",
              "      <td>371</td>\n",
              "    </tr>\n",
              "    <tr>\n",
              "      <th>27</th>\n",
              "      <td>오다</td>\n",
              "      <td>341</td>\n",
              "    </tr>\n",
              "    <tr>\n",
              "      <th>28</th>\n",
              "      <td>눈</td>\n",
              "      <td>338</td>\n",
              "    </tr>\n",
              "    <tr>\n",
              "      <th>29</th>\n",
              "      <td>주인공</td>\n",
              "      <td>334</td>\n",
              "    </tr>\n",
              "  </tbody>\n",
              "</table>\n",
              "</div>"
            ],
            "text/plain": [
              "   word  frequency\n",
              "0     은       3176\n",
              "1     는       2432\n",
              "2     도       1033\n",
              "3    이다       1013\n",
              "4    시작        829\n",
              "5    사랑        730\n",
              "6     날        714\n",
              "7    보다        693\n",
              "8    위해        690\n",
              "9   이야기        679\n",
              "10   남자        614\n",
              "11    고        612\n",
              "12  되어다        575\n",
              "13   받다        565\n",
              "14    다        513\n",
              "15    못        512\n",
              "16    게        508\n",
              "17  버리다        499\n",
              "18  개정판        485\n",
              "19   세계        460\n",
              "20  그렇다        455\n",
              "21   세상        435\n",
              "22   작가        424\n",
              "23  만나다        403\n",
              "24   가다        403\n",
              "25   인간        377\n",
              "26    곳        371\n",
              "27   오다        341\n",
              "28    눈        338\n",
              "29  주인공        334"
            ]
          },
          "metadata": {},
          "execution_count": 32
        }
      ]
    },
    {
      "cell_type": "code",
      "metadata": {
        "id": "a6tv8Txj-pwy"
      },
      "source": [
        ""
      ],
      "execution_count": null,
      "outputs": []
    }
  ]
}