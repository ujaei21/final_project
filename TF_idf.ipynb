{
  "nbformat": 4,
  "nbformat_minor": 0,
  "metadata": {
    "colab": {
      "name": "TF-idf.ipynb",
      "provenance": []
    },
    "kernelspec": {
      "name": "python3",
      "display_name": "Python 3"
    },
    "language_info": {
      "name": "python"
    }
  },
  "cells": [
    {
      "cell_type": "code",
      "metadata": {
        "id": "2fGy3SWDrY-j"
      },
      "source": [
        "import pandas as pd"
      ],
      "execution_count": 1,
      "outputs": []
    },
    {
      "cell_type": "code",
      "metadata": {
        "id": "5KIakQAzrvoo"
      },
      "source": [
        "path = '/content/drive/MyDrive/Colab Notebooks/final/'\n",
        "naver_1 = pd.read_csv(path+'NAVER.csv',encoding='cp949')\n",
        "naver_2 = pd.read_csv(path+'NAVER_FINISH.csv',encoding='cp949')\n",
        "kakao = pd.read_csv(path+'kakao_total.csv',encoding='cp949')"
      ],
      "execution_count": 2,
      "outputs": []
    },
    {
      "cell_type": "code",
      "metadata": {
        "colab": {
          "base_uri": "https://localhost:8080/",
          "height": 204
        },
        "id": "RvBbWLgjsleY",
        "outputId": "be99932d-59c0-455a-e4a2-30bbe5b2fdf4"
      },
      "source": [
        "naver_2.tail()"
      ],
      "execution_count": 3,
      "outputs": [
        {
          "output_type": "execute_result",
          "data": {
            "text/html": [
              "<div>\n",
              "<style scoped>\n",
              "    .dataframe tbody tr th:only-of-type {\n",
              "        vertical-align: middle;\n",
              "    }\n",
              "\n",
              "    .dataframe tbody tr th {\n",
              "        vertical-align: top;\n",
              "    }\n",
              "\n",
              "    .dataframe thead th {\n",
              "        text-align: right;\n",
              "    }\n",
              "</style>\n",
              "<table border=\"1\" class=\"dataframe\">\n",
              "  <thead>\n",
              "    <tr style=\"text-align: right;\">\n",
              "      <th></th>\n",
              "      <th>id</th>\n",
              "      <th>title</th>\n",
              "      <th>author</th>\n",
              "      <th>genre</th>\n",
              "      <th>story</th>\n",
              "      <th>score</th>\n",
              "      <th>platform</th>\n",
              "    </tr>\n",
              "  </thead>\n",
              "  <tbody>\n",
              "    <tr>\n",
              "      <th>1020</th>\n",
              "      <td>1020</td>\n",
              "      <td>AA</td>\n",
              "      <td>선정, 지숙</td>\n",
              "      <td>스토리, 로맨스</td>\n",
              "      <td>대머리 사절을 외치는 여인과 대머리 일것 같은 그녀의 이상형이 벌이는 로맨틱 코미디...</td>\n",
              "      <td>9.68</td>\n",
              "      <td>네이버 웹툰</td>\n",
              "    </tr>\n",
              "    <tr>\n",
              "      <th>1021</th>\n",
              "      <td>1021</td>\n",
              "      <td>사랑in</td>\n",
              "      <td>전세훈</td>\n",
              "      <td>옴니버스, 로맨스</td>\n",
              "      <td>전세훈의 감성터치 사랑 우리들의 이야기가 수채화 물감처럼 잔잔한 감동으로. 잃어버린...</td>\n",
              "      <td>9.51</td>\n",
              "      <td>네이버 웹툰</td>\n",
              "    </tr>\n",
              "    <tr>\n",
              "      <th>1022</th>\n",
              "      <td>1022</td>\n",
              "      <td>까뱅</td>\n",
              "      <td>X-TEAM</td>\n",
              "      <td>에피소드, 개그</td>\n",
              "      <td>치킨시티의 새로운 영웅 까뱅 오늘도 그의 활약은 계속된다!</td>\n",
              "      <td>8.83</td>\n",
              "      <td>네이버 웹툰</td>\n",
              "    </tr>\n",
              "    <tr>\n",
              "      <th>1023</th>\n",
              "      <td>1023</td>\n",
              "      <td>와탕카</td>\n",
              "      <td>우주인</td>\n",
              "      <td>에피소드, 개그</td>\n",
              "      <td>와탕카 만세 , 지화자 좋은 패가 들어오면 외치는 단어 와탕카! 우주인 작가님의 불...</td>\n",
              "      <td>9.63</td>\n",
              "      <td>네이버 웹툰</td>\n",
              "    </tr>\n",
              "    <tr>\n",
              "      <th>1024</th>\n",
              "      <td>1024</td>\n",
              "      <td>타투</td>\n",
              "      <td>노지현</td>\n",
              "      <td>옴니버스, 드라마</td>\n",
              "      <td>밝고 쾌활한 여고생 현진과 새로 오픈한 타투 가게의 진우, 유기를 중심으로 벌어지는...</td>\n",
              "      <td>9.20</td>\n",
              "      <td>네이버 웹툰</td>\n",
              "    </tr>\n",
              "  </tbody>\n",
              "</table>\n",
              "</div>"
            ],
            "text/plain": [
              "        id title  ... score platform\n",
              "1020  1020    AA  ...  9.68   네이버 웹툰\n",
              "1021  1021  사랑in  ...  9.51   네이버 웹툰\n",
              "1022  1022    까뱅  ...  8.83   네이버 웹툰\n",
              "1023  1023   와탕카  ...  9.63   네이버 웹툰\n",
              "1024  1024    타투  ...  9.20   네이버 웹툰\n",
              "\n",
              "[5 rows x 7 columns]"
            ]
          },
          "metadata": {},
          "execution_count": 3
        }
      ]
    },
    {
      "cell_type": "code",
      "metadata": {
        "colab": {
          "base_uri": "https://localhost:8080/"
        },
        "id": "EcYZ_Z69syG7",
        "outputId": "1fdd1e1c-fcd5-4651-e4ae-cd7dda76d5b0"
      },
      "source": [
        "naver_1.title.value_counts()"
      ],
      "execution_count": 4,
      "outputs": [
        {
          "output_type": "execute_result",
          "data": {
            "text/plain": [
              "고삼무쌍           1\n",
              "태백 : 튜토리얼 맨    1\n",
              "다꾸남            1\n",
              "겟라이프           1\n",
              "인문학적 감수성       1\n",
              "              ..\n",
              "꽃 피우는 남자       1\n",
              "아가사            1\n",
              "신의 탑           1\n",
              "빌런투킬           1\n",
              "노답소녀           1\n",
              "Name: title, Length: 445, dtype: int64"
            ]
          },
          "metadata": {},
          "execution_count": 4
        }
      ]
    },
    {
      "cell_type": "code",
      "metadata": {
        "id": "B0lQjlx1tmZr"
      },
      "source": [
        "naver = pd.concat([naver_1,naver_2])"
      ],
      "execution_count": 5,
      "outputs": []
    },
    {
      "cell_type": "code",
      "metadata": {
        "colab": {
          "base_uri": "https://localhost:8080/"
        },
        "id": "SZqSatFxtsVd",
        "outputId": "4fa639a0-aaf9-4af4-e24e-f6b293c77ae2"
      },
      "source": [
        "naver.title.value_counts()"
      ],
      "execution_count": 6,
      "outputs": [
        {
          "output_type": "execute_result",
          "data": {
            "text/plain": [
              "성경의 역사         2\n",
              "옆집화랑           1\n",
              "꽃 피우는 남자       1\n",
              "지새는 달          1\n",
              "데모니악           1\n",
              "              ..\n",
              "두근두근 마감 중      1\n",
              "무주의 맹시         1\n",
              "별종             1\n",
              "플라워(FLOWAR)    1\n",
              "미스터리 호러 지하철    1\n",
              "Name: title, Length: 1469, dtype: int64"
            ]
          },
          "metadata": {},
          "execution_count": 6
        }
      ]
    },
    {
      "cell_type": "code",
      "metadata": {
        "colab": {
          "base_uri": "https://localhost:8080/",
          "height": 111
        },
        "id": "C0bHm08_uYDz",
        "outputId": "d0d8ef4d-ea66-4c6f-c1bb-7cad80f6862f"
      },
      "source": [
        "naver[naver.title=='성경의 역사']"
      ],
      "execution_count": 7,
      "outputs": [
        {
          "output_type": "execute_result",
          "data": {
            "text/html": [
              "<div>\n",
              "<style scoped>\n",
              "    .dataframe tbody tr th:only-of-type {\n",
              "        vertical-align: middle;\n",
              "    }\n",
              "\n",
              "    .dataframe tbody tr th {\n",
              "        vertical-align: top;\n",
              "    }\n",
              "\n",
              "    .dataframe thead th {\n",
              "        text-align: right;\n",
              "    }\n",
              "</style>\n",
              "<table border=\"1\" class=\"dataframe\">\n",
              "  <thead>\n",
              "    <tr style=\"text-align: right;\">\n",
              "      <th></th>\n",
              "      <th>id</th>\n",
              "      <th>title</th>\n",
              "      <th>author</th>\n",
              "      <th>day</th>\n",
              "      <th>genre</th>\n",
              "      <th>story</th>\n",
              "      <th>score</th>\n",
              "      <th>platform</th>\n",
              "    </tr>\n",
              "  </thead>\n",
              "  <tbody>\n",
              "    <tr>\n",
              "      <th>278</th>\n",
              "      <td>278</td>\n",
              "      <td>성경의 역사</td>\n",
              "      <td>최경민 / 영모</td>\n",
              "      <td>금</td>\n",
              "      <td>스토리, 드라마</td>\n",
              "      <td>모두에게 사랑 받기에 모두가 증오하는 그녀, 성경 . 원치않는 애정과 증오속에 성경...</td>\n",
              "      <td>9.082</td>\n",
              "      <td>네이버 웹툰</td>\n",
              "    </tr>\n",
              "    <tr>\n",
              "      <th>1</th>\n",
              "      <td>1</td>\n",
              "      <td>성경의 역사</td>\n",
              "      <td>최경민 / 영모</td>\n",
              "      <td>NaN</td>\n",
              "      <td>스토리, 드라마</td>\n",
              "      <td>모두에게 사랑 받기에 모두가 증오하는 그녀, 성경 .원치않는 애정과 증오속에 성경의...</td>\n",
              "      <td>7.430</td>\n",
              "      <td>네이버 웹툰</td>\n",
              "    </tr>\n",
              "  </tbody>\n",
              "</table>\n",
              "</div>"
            ],
            "text/plain": [
              "      id   title  ...  score platform\n",
              "278  278  성경의 역사  ...  9.082   네이버 웹툰\n",
              "1      1  성경의 역사  ...  7.430   네이버 웹툰\n",
              "\n",
              "[2 rows x 8 columns]"
            ]
          },
          "metadata": {},
          "execution_count": 7
        }
      ]
    },
    {
      "cell_type": "code",
      "metadata": {
        "colab": {
          "base_uri": "https://localhost:8080/",
          "height": 419
        },
        "id": "f0kXulk_uexJ",
        "outputId": "e68bf660-8922-42a2-cf3c-22253808c807"
      },
      "source": [
        "naver"
      ],
      "execution_count": 8,
      "outputs": [
        {
          "output_type": "execute_result",
          "data": {
            "text/html": [
              "<div>\n",
              "<style scoped>\n",
              "    .dataframe tbody tr th:only-of-type {\n",
              "        vertical-align: middle;\n",
              "    }\n",
              "\n",
              "    .dataframe tbody tr th {\n",
              "        vertical-align: top;\n",
              "    }\n",
              "\n",
              "    .dataframe thead th {\n",
              "        text-align: right;\n",
              "    }\n",
              "</style>\n",
              "<table border=\"1\" class=\"dataframe\">\n",
              "  <thead>\n",
              "    <tr style=\"text-align: right;\">\n",
              "      <th></th>\n",
              "      <th>id</th>\n",
              "      <th>title</th>\n",
              "      <th>author</th>\n",
              "      <th>day</th>\n",
              "      <th>genre</th>\n",
              "      <th>story</th>\n",
              "      <th>score</th>\n",
              "      <th>platform</th>\n",
              "    </tr>\n",
              "  </thead>\n",
              "  <tbody>\n",
              "    <tr>\n",
              "      <th>0</th>\n",
              "      <td>0</td>\n",
              "      <td>참교육</td>\n",
              "      <td>채용택 / 한가람</td>\n",
              "      <td>월</td>\n",
              "      <td>스토리, 액션</td>\n",
              "      <td>무너진 교권을 지키기 위해 교권보호국 소속 나화진의 참교육이 시작된다! 부활남 채용...</td>\n",
              "      <td>9.776</td>\n",
              "      <td>네이버 웹툰</td>\n",
              "    </tr>\n",
              "    <tr>\n",
              "      <th>1</th>\n",
              "      <td>1</td>\n",
              "      <td>신의 탑</td>\n",
              "      <td>SIU</td>\n",
              "      <td>월</td>\n",
              "      <td>스토리, 판타지</td>\n",
              "      <td>자신의 모든 것이었던 소녀를 쫓아 탑에 들어온 소년 그리고 그런 소년을 시험하는 탑</td>\n",
              "      <td>9.499</td>\n",
              "      <td>네이버 웹툰</td>\n",
              "    </tr>\n",
              "    <tr>\n",
              "      <th>2</th>\n",
              "      <td>2</td>\n",
              "      <td>뷰티풀 군바리</td>\n",
              "      <td>설이 / 윤성원</td>\n",
              "      <td>월</td>\n",
              "      <td>스토리, 드라마</td>\n",
              "      <td>여자도 군대에 간다면? 본격 여자도 군대 가는 만화!</td>\n",
              "      <td>9.660</td>\n",
              "      <td>네이버 웹툰</td>\n",
              "    </tr>\n",
              "    <tr>\n",
              "      <th>3</th>\n",
              "      <td>3</td>\n",
              "      <td>윈드브레이커</td>\n",
              "      <td>조용석</td>\n",
              "      <td>월</td>\n",
              "      <td>스토리, 스포츠</td>\n",
              "      <td>혼자서 자전거를 즐겨타던 모범생 조자현. 원치 않게 자전거 크루의 일에 자꾸 휘말리...</td>\n",
              "      <td>8.795</td>\n",
              "      <td>네이버 웹툰</td>\n",
              "    </tr>\n",
              "    <tr>\n",
              "      <th>4</th>\n",
              "      <td>4</td>\n",
              "      <td>팔이피플</td>\n",
              "      <td>매미 / 희세</td>\n",
              "      <td>월</td>\n",
              "      <td>스토리, 드라마</td>\n",
              "      <td>마스크걸 , 위대한 방옥숙 매미 희세 작가의 신작! 에서 육아용품 파는 평범한 유부...</td>\n",
              "      <td>9.880</td>\n",
              "      <td>네이버 웹툰</td>\n",
              "    </tr>\n",
              "    <tr>\n",
              "      <th>...</th>\n",
              "      <td>...</td>\n",
              "      <td>...</td>\n",
              "      <td>...</td>\n",
              "      <td>...</td>\n",
              "      <td>...</td>\n",
              "      <td>...</td>\n",
              "      <td>...</td>\n",
              "      <td>...</td>\n",
              "    </tr>\n",
              "    <tr>\n",
              "      <th>1020</th>\n",
              "      <td>1020</td>\n",
              "      <td>AA</td>\n",
              "      <td>선정, 지숙</td>\n",
              "      <td>NaN</td>\n",
              "      <td>스토리, 로맨스</td>\n",
              "      <td>대머리 사절을 외치는 여인과 대머리 일것 같은 그녀의 이상형이 벌이는 로맨틱 코미디...</td>\n",
              "      <td>9.680</td>\n",
              "      <td>네이버 웹툰</td>\n",
              "    </tr>\n",
              "    <tr>\n",
              "      <th>1021</th>\n",
              "      <td>1021</td>\n",
              "      <td>사랑in</td>\n",
              "      <td>전세훈</td>\n",
              "      <td>NaN</td>\n",
              "      <td>옴니버스, 로맨스</td>\n",
              "      <td>전세훈의 감성터치 사랑 우리들의 이야기가 수채화 물감처럼 잔잔한 감동으로. 잃어버린...</td>\n",
              "      <td>9.510</td>\n",
              "      <td>네이버 웹툰</td>\n",
              "    </tr>\n",
              "    <tr>\n",
              "      <th>1022</th>\n",
              "      <td>1022</td>\n",
              "      <td>까뱅</td>\n",
              "      <td>X-TEAM</td>\n",
              "      <td>NaN</td>\n",
              "      <td>에피소드, 개그</td>\n",
              "      <td>치킨시티의 새로운 영웅 까뱅 오늘도 그의 활약은 계속된다!</td>\n",
              "      <td>8.830</td>\n",
              "      <td>네이버 웹툰</td>\n",
              "    </tr>\n",
              "    <tr>\n",
              "      <th>1023</th>\n",
              "      <td>1023</td>\n",
              "      <td>와탕카</td>\n",
              "      <td>우주인</td>\n",
              "      <td>NaN</td>\n",
              "      <td>에피소드, 개그</td>\n",
              "      <td>와탕카 만세 , 지화자 좋은 패가 들어오면 외치는 단어 와탕카! 우주인 작가님의 불...</td>\n",
              "      <td>9.630</td>\n",
              "      <td>네이버 웹툰</td>\n",
              "    </tr>\n",
              "    <tr>\n",
              "      <th>1024</th>\n",
              "      <td>1024</td>\n",
              "      <td>타투</td>\n",
              "      <td>노지현</td>\n",
              "      <td>NaN</td>\n",
              "      <td>옴니버스, 드라마</td>\n",
              "      <td>밝고 쾌활한 여고생 현진과 새로 오픈한 타투 가게의 진우, 유기를 중심으로 벌어지는...</td>\n",
              "      <td>9.200</td>\n",
              "      <td>네이버 웹툰</td>\n",
              "    </tr>\n",
              "  </tbody>\n",
              "</table>\n",
              "<p>1470 rows × 8 columns</p>\n",
              "</div>"
            ],
            "text/plain": [
              "        id    title  ...  score platform\n",
              "0        0      참교육  ...  9.776   네이버 웹툰\n",
              "1        1     신의 탑  ...  9.499   네이버 웹툰\n",
              "2        2  뷰티풀 군바리  ...  9.660   네이버 웹툰\n",
              "3        3   윈드브레이커  ...  8.795   네이버 웹툰\n",
              "4        4     팔이피플  ...  9.880   네이버 웹툰\n",
              "...    ...      ...  ...    ...      ...\n",
              "1020  1020       AA  ...  9.680   네이버 웹툰\n",
              "1021  1021     사랑in  ...  9.510   네이버 웹툰\n",
              "1022  1022       까뱅  ...  8.830   네이버 웹툰\n",
              "1023  1023      와탕카  ...  9.630   네이버 웹툰\n",
              "1024  1024       타투  ...  9.200   네이버 웹툰\n",
              "\n",
              "[1470 rows x 8 columns]"
            ]
          },
          "metadata": {},
          "execution_count": 8
        }
      ]
    },
    {
      "cell_type": "code",
      "metadata": {
        "id": "v3DhfLowuj6L"
      },
      "source": [
        "naver.drop_duplicates('title',inplace=True)"
      ],
      "execution_count": 9,
      "outputs": []
    },
    {
      "cell_type": "code",
      "metadata": {
        "colab": {
          "base_uri": "https://localhost:8080/",
          "height": 80
        },
        "id": "PFeYVF33uxsD",
        "outputId": "fb5aa270-e31d-4f80-e088-a4de5d0a7f0f"
      },
      "source": [
        "naver[naver.title=='성경의 역사']"
      ],
      "execution_count": 10,
      "outputs": [
        {
          "output_type": "execute_result",
          "data": {
            "text/html": [
              "<div>\n",
              "<style scoped>\n",
              "    .dataframe tbody tr th:only-of-type {\n",
              "        vertical-align: middle;\n",
              "    }\n",
              "\n",
              "    .dataframe tbody tr th {\n",
              "        vertical-align: top;\n",
              "    }\n",
              "\n",
              "    .dataframe thead th {\n",
              "        text-align: right;\n",
              "    }\n",
              "</style>\n",
              "<table border=\"1\" class=\"dataframe\">\n",
              "  <thead>\n",
              "    <tr style=\"text-align: right;\">\n",
              "      <th></th>\n",
              "      <th>id</th>\n",
              "      <th>title</th>\n",
              "      <th>author</th>\n",
              "      <th>day</th>\n",
              "      <th>genre</th>\n",
              "      <th>story</th>\n",
              "      <th>score</th>\n",
              "      <th>platform</th>\n",
              "    </tr>\n",
              "  </thead>\n",
              "  <tbody>\n",
              "    <tr>\n",
              "      <th>278</th>\n",
              "      <td>278</td>\n",
              "      <td>성경의 역사</td>\n",
              "      <td>최경민 / 영모</td>\n",
              "      <td>금</td>\n",
              "      <td>스토리, 드라마</td>\n",
              "      <td>모두에게 사랑 받기에 모두가 증오하는 그녀, 성경 . 원치않는 애정과 증오속에 성경...</td>\n",
              "      <td>9.082</td>\n",
              "      <td>네이버 웹툰</td>\n",
              "    </tr>\n",
              "  </tbody>\n",
              "</table>\n",
              "</div>"
            ],
            "text/plain": [
              "      id   title  ...  score platform\n",
              "278  278  성경의 역사  ...  9.082   네이버 웹툰\n",
              "\n",
              "[1 rows x 8 columns]"
            ]
          },
          "metadata": {},
          "execution_count": 10
        }
      ]
    },
    {
      "cell_type": "code",
      "metadata": {
        "id": "2_tmKJI1uzSE"
      },
      "source": [
        "webtoon = pd.concat([kakao,naver])"
      ],
      "execution_count": 11,
      "outputs": []
    },
    {
      "cell_type": "code",
      "metadata": {
        "colab": {
          "base_uri": "https://localhost:8080/",
          "height": 589
        },
        "id": "7JK2VXHUu8Qs",
        "outputId": "fa82ba47-d437-495d-cb5d-d43bf982b21a"
      },
      "source": [
        "webtoon"
      ],
      "execution_count": 12,
      "outputs": [
        {
          "output_type": "execute_result",
          "data": {
            "text/html": [
              "<div>\n",
              "<style scoped>\n",
              "    .dataframe tbody tr th:only-of-type {\n",
              "        vertical-align: middle;\n",
              "    }\n",
              "\n",
              "    .dataframe tbody tr th {\n",
              "        vertical-align: top;\n",
              "    }\n",
              "\n",
              "    .dataframe thead th {\n",
              "        text-align: right;\n",
              "    }\n",
              "</style>\n",
              "<table border=\"1\" class=\"dataframe\">\n",
              "  <thead>\n",
              "    <tr style=\"text-align: right;\">\n",
              "      <th></th>\n",
              "      <th>title</th>\n",
              "      <th>day</th>\n",
              "      <th>genre</th>\n",
              "      <th>story</th>\n",
              "      <th>platform</th>\n",
              "      <th>t_image</th>\n",
              "      <th>id</th>\n",
              "      <th>author</th>\n",
              "      <th>score</th>\n",
              "    </tr>\n",
              "  </thead>\n",
              "  <tbody>\n",
              "    <tr>\n",
              "      <th>0</th>\n",
              "      <td>우선 남동생부터 숨기자</td>\n",
              "      <td>월</td>\n",
              "      <td>로판만화</td>\n",
              "      <td>하필이면 19금 다공일수 피폐 만화에 수의 하나뿐인 누나로 빙의하고 말았다! 재수없...</td>\n",
              "      <td>카카오페이지</td>\n",
              "      <td>cHyfs/hy41GaQT02/8lTAkYiB5MqJuKdoSmJEBK</td>\n",
              "      <td>NaN</td>\n",
              "      <td>NaN</td>\n",
              "      <td>NaN</td>\n",
              "    </tr>\n",
              "    <tr>\n",
              "      <th>1</th>\n",
              "      <td>이번 생은 가주가 되겠습니다</td>\n",
              "      <td>월</td>\n",
              "      <td>로판만화</td>\n",
              "      <td>한번 해 보자. 내가 가주가 되는 거야. 제국에서 제일가는 가문, 롬바르디의 사생아...</td>\n",
              "      <td>카카오페이지</td>\n",
              "      <td>cDeRi1/hyVkDNZUdD/WyUnrIQ0gkyKdkLzL5ajh1</td>\n",
              "      <td>NaN</td>\n",
              "      <td>NaN</td>\n",
              "      <td>NaN</td>\n",
              "    </tr>\n",
              "    <tr>\n",
              "      <th>2</th>\n",
              "      <td>묵향 다크레이디</td>\n",
              "      <td>월</td>\n",
              "      <td>소년만화</td>\n",
              "      <td>마교의 교주로서 극강의 무공을 자랑하던 묵향은 적들 혈교 에 의해 생전 처음 보는 ...</td>\n",
              "      <td>카카오페이지</td>\n",
              "      <td>9Eoo5/hyATyGp2En/pYYjRkJJIrpHEvDible6T0</td>\n",
              "      <td>NaN</td>\n",
              "      <td>NaN</td>\n",
              "      <td>NaN</td>\n",
              "    </tr>\n",
              "    <tr>\n",
              "      <th>3</th>\n",
              "      <td>튜토리얼이 너무 어렵다</td>\n",
              "      <td>월</td>\n",
              "      <td>소년만화</td>\n",
              "      <td>퓨전 판타지 장편소설 39 튜토리얼이 너무 어렵다 39 가 웹툰으로 독자 여러분을 ...</td>\n",
              "      <td>카카오페이지</td>\n",
              "      <td>cof1Bi/hyQ9Q45PWC/L84IXRvtte4PTzZS6dXbB0</td>\n",
              "      <td>NaN</td>\n",
              "      <td>NaN</td>\n",
              "      <td>NaN</td>\n",
              "    </tr>\n",
              "    <tr>\n",
              "      <th>4</th>\n",
              "      <td>8클래스 마법사의 회귀</td>\n",
              "      <td>월</td>\n",
              "      <td>소년만화</td>\n",
              "      <td>황제 라그나르와 통일 제국을 위해 손에 피를 묻히길 수십 년. 나는 고향으로 돌아가...</td>\n",
              "      <td>카카오페이지</td>\n",
              "      <td>HrHN1/hy41P6FJKt/FCR6J7pW8bFVRQVJx7Mlo0</td>\n",
              "      <td>NaN</td>\n",
              "      <td>NaN</td>\n",
              "      <td>NaN</td>\n",
              "    </tr>\n",
              "    <tr>\n",
              "      <th>...</th>\n",
              "      <td>...</td>\n",
              "      <td>...</td>\n",
              "      <td>...</td>\n",
              "      <td>...</td>\n",
              "      <td>...</td>\n",
              "      <td>...</td>\n",
              "      <td>...</td>\n",
              "      <td>...</td>\n",
              "      <td>...</td>\n",
              "    </tr>\n",
              "    <tr>\n",
              "      <th>1020</th>\n",
              "      <td>AA</td>\n",
              "      <td>NaN</td>\n",
              "      <td>스토리, 로맨스</td>\n",
              "      <td>대머리 사절을 외치는 여인과 대머리 일것 같은 그녀의 이상형이 벌이는 로맨틱 코미디...</td>\n",
              "      <td>네이버 웹툰</td>\n",
              "      <td>NaN</td>\n",
              "      <td>1020.0</td>\n",
              "      <td>선정, 지숙</td>\n",
              "      <td>9.68</td>\n",
              "    </tr>\n",
              "    <tr>\n",
              "      <th>1021</th>\n",
              "      <td>사랑in</td>\n",
              "      <td>NaN</td>\n",
              "      <td>옴니버스, 로맨스</td>\n",
              "      <td>전세훈의 감성터치 사랑 우리들의 이야기가 수채화 물감처럼 잔잔한 감동으로. 잃어버린...</td>\n",
              "      <td>네이버 웹툰</td>\n",
              "      <td>NaN</td>\n",
              "      <td>1021.0</td>\n",
              "      <td>전세훈</td>\n",
              "      <td>9.51</td>\n",
              "    </tr>\n",
              "    <tr>\n",
              "      <th>1022</th>\n",
              "      <td>까뱅</td>\n",
              "      <td>NaN</td>\n",
              "      <td>에피소드, 개그</td>\n",
              "      <td>치킨시티의 새로운 영웅 까뱅 오늘도 그의 활약은 계속된다!</td>\n",
              "      <td>네이버 웹툰</td>\n",
              "      <td>NaN</td>\n",
              "      <td>1022.0</td>\n",
              "      <td>X-TEAM</td>\n",
              "      <td>8.83</td>\n",
              "    </tr>\n",
              "    <tr>\n",
              "      <th>1023</th>\n",
              "      <td>와탕카</td>\n",
              "      <td>NaN</td>\n",
              "      <td>에피소드, 개그</td>\n",
              "      <td>와탕카 만세 , 지화자 좋은 패가 들어오면 외치는 단어 와탕카! 우주인 작가님의 불...</td>\n",
              "      <td>네이버 웹툰</td>\n",
              "      <td>NaN</td>\n",
              "      <td>1023.0</td>\n",
              "      <td>우주인</td>\n",
              "      <td>9.63</td>\n",
              "    </tr>\n",
              "    <tr>\n",
              "      <th>1024</th>\n",
              "      <td>타투</td>\n",
              "      <td>NaN</td>\n",
              "      <td>옴니버스, 드라마</td>\n",
              "      <td>밝고 쾌활한 여고생 현진과 새로 오픈한 타투 가게의 진우, 유기를 중심으로 벌어지는...</td>\n",
              "      <td>네이버 웹툰</td>\n",
              "      <td>NaN</td>\n",
              "      <td>1024.0</td>\n",
              "      <td>노지현</td>\n",
              "      <td>9.20</td>\n",
              "    </tr>\n",
              "  </tbody>\n",
              "</table>\n",
              "<p>3173 rows × 9 columns</p>\n",
              "</div>"
            ],
            "text/plain": [
              "                title  day      genre  ...      id  author score\n",
              "0        우선 남동생부터 숨기자    월       로판만화  ...     NaN     NaN   NaN\n",
              "1     이번 생은 가주가 되겠습니다    월       로판만화  ...     NaN     NaN   NaN\n",
              "2            묵향 다크레이디    월       소년만화  ...     NaN     NaN   NaN\n",
              "3        튜토리얼이 너무 어렵다    월       소년만화  ...     NaN     NaN   NaN\n",
              "4        8클래스 마법사의 회귀    월       소년만화  ...     NaN     NaN   NaN\n",
              "...               ...  ...        ...  ...     ...     ...   ...\n",
              "1020               AA  NaN   스토리, 로맨스  ...  1020.0  선정, 지숙  9.68\n",
              "1021             사랑in  NaN  옴니버스, 로맨스  ...  1021.0     전세훈  9.51\n",
              "1022               까뱅  NaN   에피소드, 개그  ...  1022.0  X-TEAM  8.83\n",
              "1023              와탕카  NaN   에피소드, 개그  ...  1023.0     우주인  9.63\n",
              "1024               타투  NaN  옴니버스, 드라마  ...  1024.0     노지현  9.20\n",
              "\n",
              "[3173 rows x 9 columns]"
            ]
          },
          "metadata": {},
          "execution_count": 12
        }
      ]
    },
    {
      "cell_type": "code",
      "metadata": {
        "id": "6jLDPPusvICi"
      },
      "source": [
        "webtoon.reset_index(inplace=True,drop=True)"
      ],
      "execution_count": 13,
      "outputs": []
    },
    {
      "cell_type": "code",
      "metadata": {
        "colab": {
          "base_uri": "https://localhost:8080/",
          "height": 589
        },
        "id": "kQuiCPetvU6M",
        "outputId": "f032b0b4-4077-44b5-dcff-869fd03901d6"
      },
      "source": [
        "webtoon"
      ],
      "execution_count": 14,
      "outputs": [
        {
          "output_type": "execute_result",
          "data": {
            "text/html": [
              "<div>\n",
              "<style scoped>\n",
              "    .dataframe tbody tr th:only-of-type {\n",
              "        vertical-align: middle;\n",
              "    }\n",
              "\n",
              "    .dataframe tbody tr th {\n",
              "        vertical-align: top;\n",
              "    }\n",
              "\n",
              "    .dataframe thead th {\n",
              "        text-align: right;\n",
              "    }\n",
              "</style>\n",
              "<table border=\"1\" class=\"dataframe\">\n",
              "  <thead>\n",
              "    <tr style=\"text-align: right;\">\n",
              "      <th></th>\n",
              "      <th>title</th>\n",
              "      <th>day</th>\n",
              "      <th>genre</th>\n",
              "      <th>story</th>\n",
              "      <th>platform</th>\n",
              "      <th>t_image</th>\n",
              "      <th>id</th>\n",
              "      <th>author</th>\n",
              "      <th>score</th>\n",
              "    </tr>\n",
              "  </thead>\n",
              "  <tbody>\n",
              "    <tr>\n",
              "      <th>0</th>\n",
              "      <td>우선 남동생부터 숨기자</td>\n",
              "      <td>월</td>\n",
              "      <td>로판만화</td>\n",
              "      <td>하필이면 19금 다공일수 피폐 만화에 수의 하나뿐인 누나로 빙의하고 말았다! 재수없...</td>\n",
              "      <td>카카오페이지</td>\n",
              "      <td>cHyfs/hy41GaQT02/8lTAkYiB5MqJuKdoSmJEBK</td>\n",
              "      <td>NaN</td>\n",
              "      <td>NaN</td>\n",
              "      <td>NaN</td>\n",
              "    </tr>\n",
              "    <tr>\n",
              "      <th>1</th>\n",
              "      <td>이번 생은 가주가 되겠습니다</td>\n",
              "      <td>월</td>\n",
              "      <td>로판만화</td>\n",
              "      <td>한번 해 보자. 내가 가주가 되는 거야. 제국에서 제일가는 가문, 롬바르디의 사생아...</td>\n",
              "      <td>카카오페이지</td>\n",
              "      <td>cDeRi1/hyVkDNZUdD/WyUnrIQ0gkyKdkLzL5ajh1</td>\n",
              "      <td>NaN</td>\n",
              "      <td>NaN</td>\n",
              "      <td>NaN</td>\n",
              "    </tr>\n",
              "    <tr>\n",
              "      <th>2</th>\n",
              "      <td>묵향 다크레이디</td>\n",
              "      <td>월</td>\n",
              "      <td>소년만화</td>\n",
              "      <td>마교의 교주로서 극강의 무공을 자랑하던 묵향은 적들 혈교 에 의해 생전 처음 보는 ...</td>\n",
              "      <td>카카오페이지</td>\n",
              "      <td>9Eoo5/hyATyGp2En/pYYjRkJJIrpHEvDible6T0</td>\n",
              "      <td>NaN</td>\n",
              "      <td>NaN</td>\n",
              "      <td>NaN</td>\n",
              "    </tr>\n",
              "    <tr>\n",
              "      <th>3</th>\n",
              "      <td>튜토리얼이 너무 어렵다</td>\n",
              "      <td>월</td>\n",
              "      <td>소년만화</td>\n",
              "      <td>퓨전 판타지 장편소설 39 튜토리얼이 너무 어렵다 39 가 웹툰으로 독자 여러분을 ...</td>\n",
              "      <td>카카오페이지</td>\n",
              "      <td>cof1Bi/hyQ9Q45PWC/L84IXRvtte4PTzZS6dXbB0</td>\n",
              "      <td>NaN</td>\n",
              "      <td>NaN</td>\n",
              "      <td>NaN</td>\n",
              "    </tr>\n",
              "    <tr>\n",
              "      <th>4</th>\n",
              "      <td>8클래스 마법사의 회귀</td>\n",
              "      <td>월</td>\n",
              "      <td>소년만화</td>\n",
              "      <td>황제 라그나르와 통일 제국을 위해 손에 피를 묻히길 수십 년. 나는 고향으로 돌아가...</td>\n",
              "      <td>카카오페이지</td>\n",
              "      <td>HrHN1/hy41P6FJKt/FCR6J7pW8bFVRQVJx7Mlo0</td>\n",
              "      <td>NaN</td>\n",
              "      <td>NaN</td>\n",
              "      <td>NaN</td>\n",
              "    </tr>\n",
              "    <tr>\n",
              "      <th>...</th>\n",
              "      <td>...</td>\n",
              "      <td>...</td>\n",
              "      <td>...</td>\n",
              "      <td>...</td>\n",
              "      <td>...</td>\n",
              "      <td>...</td>\n",
              "      <td>...</td>\n",
              "      <td>...</td>\n",
              "      <td>...</td>\n",
              "    </tr>\n",
              "    <tr>\n",
              "      <th>3168</th>\n",
              "      <td>AA</td>\n",
              "      <td>NaN</td>\n",
              "      <td>스토리, 로맨스</td>\n",
              "      <td>대머리 사절을 외치는 여인과 대머리 일것 같은 그녀의 이상형이 벌이는 로맨틱 코미디...</td>\n",
              "      <td>네이버 웹툰</td>\n",
              "      <td>NaN</td>\n",
              "      <td>1020.0</td>\n",
              "      <td>선정, 지숙</td>\n",
              "      <td>9.68</td>\n",
              "    </tr>\n",
              "    <tr>\n",
              "      <th>3169</th>\n",
              "      <td>사랑in</td>\n",
              "      <td>NaN</td>\n",
              "      <td>옴니버스, 로맨스</td>\n",
              "      <td>전세훈의 감성터치 사랑 우리들의 이야기가 수채화 물감처럼 잔잔한 감동으로. 잃어버린...</td>\n",
              "      <td>네이버 웹툰</td>\n",
              "      <td>NaN</td>\n",
              "      <td>1021.0</td>\n",
              "      <td>전세훈</td>\n",
              "      <td>9.51</td>\n",
              "    </tr>\n",
              "    <tr>\n",
              "      <th>3170</th>\n",
              "      <td>까뱅</td>\n",
              "      <td>NaN</td>\n",
              "      <td>에피소드, 개그</td>\n",
              "      <td>치킨시티의 새로운 영웅 까뱅 오늘도 그의 활약은 계속된다!</td>\n",
              "      <td>네이버 웹툰</td>\n",
              "      <td>NaN</td>\n",
              "      <td>1022.0</td>\n",
              "      <td>X-TEAM</td>\n",
              "      <td>8.83</td>\n",
              "    </tr>\n",
              "    <tr>\n",
              "      <th>3171</th>\n",
              "      <td>와탕카</td>\n",
              "      <td>NaN</td>\n",
              "      <td>에피소드, 개그</td>\n",
              "      <td>와탕카 만세 , 지화자 좋은 패가 들어오면 외치는 단어 와탕카! 우주인 작가님의 불...</td>\n",
              "      <td>네이버 웹툰</td>\n",
              "      <td>NaN</td>\n",
              "      <td>1023.0</td>\n",
              "      <td>우주인</td>\n",
              "      <td>9.63</td>\n",
              "    </tr>\n",
              "    <tr>\n",
              "      <th>3172</th>\n",
              "      <td>타투</td>\n",
              "      <td>NaN</td>\n",
              "      <td>옴니버스, 드라마</td>\n",
              "      <td>밝고 쾌활한 여고생 현진과 새로 오픈한 타투 가게의 진우, 유기를 중심으로 벌어지는...</td>\n",
              "      <td>네이버 웹툰</td>\n",
              "      <td>NaN</td>\n",
              "      <td>1024.0</td>\n",
              "      <td>노지현</td>\n",
              "      <td>9.20</td>\n",
              "    </tr>\n",
              "  </tbody>\n",
              "</table>\n",
              "<p>3173 rows × 9 columns</p>\n",
              "</div>"
            ],
            "text/plain": [
              "                title  day      genre  ...      id  author score\n",
              "0        우선 남동생부터 숨기자    월       로판만화  ...     NaN     NaN   NaN\n",
              "1     이번 생은 가주가 되겠습니다    월       로판만화  ...     NaN     NaN   NaN\n",
              "2            묵향 다크레이디    월       소년만화  ...     NaN     NaN   NaN\n",
              "3        튜토리얼이 너무 어렵다    월       소년만화  ...     NaN     NaN   NaN\n",
              "4        8클래스 마법사의 회귀    월       소년만화  ...     NaN     NaN   NaN\n",
              "...               ...  ...        ...  ...     ...     ...   ...\n",
              "3168               AA  NaN   스토리, 로맨스  ...  1020.0  선정, 지숙  9.68\n",
              "3169             사랑in  NaN  옴니버스, 로맨스  ...  1021.0     전세훈  9.51\n",
              "3170               까뱅  NaN   에피소드, 개그  ...  1022.0  X-TEAM  8.83\n",
              "3171              와탕카  NaN   에피소드, 개그  ...  1023.0     우주인  9.63\n",
              "3172               타투  NaN  옴니버스, 드라마  ...  1024.0     노지현  9.20\n",
              "\n",
              "[3173 rows x 9 columns]"
            ]
          },
          "metadata": {},
          "execution_count": 14
        }
      ]
    },
    {
      "cell_type": "code",
      "metadata": {
        "colab": {
          "base_uri": "https://localhost:8080/"
        },
        "id": "xWuaEKRGvnUs",
        "outputId": "79302c51-80da-41a6-b66d-331b63ff9c2d"
      },
      "source": [
        "webtoon.author.isnull().sum()"
      ],
      "execution_count": 15,
      "outputs": [
        {
          "output_type": "execute_result",
          "data": {
            "text/plain": [
              "1704"
            ]
          },
          "metadata": {},
          "execution_count": 15
        }
      ]
    },
    {
      "cell_type": "code",
      "metadata": {
        "id": "BN61KjwXxXWD"
      },
      "source": [
        "webtoon.insert(2, 'writer', 0)\n",
        "webtoon.insert(3, 'illustrator', 1)"
      ],
      "execution_count": 16,
      "outputs": []
    },
    {
      "cell_type": "code",
      "metadata": {
        "colab": {
          "base_uri": "https://localhost:8080/",
          "height": 244
        },
        "id": "koM8f2qXBOXB",
        "outputId": "7998d0a5-e2a2-4e2b-a81d-0836cebcfeb7"
      },
      "source": [
        "webtoon.head(3)"
      ],
      "execution_count": 17,
      "outputs": [
        {
          "output_type": "execute_result",
          "data": {
            "text/html": [
              "<div>\n",
              "<style scoped>\n",
              "    .dataframe tbody tr th:only-of-type {\n",
              "        vertical-align: middle;\n",
              "    }\n",
              "\n",
              "    .dataframe tbody tr th {\n",
              "        vertical-align: top;\n",
              "    }\n",
              "\n",
              "    .dataframe thead th {\n",
              "        text-align: right;\n",
              "    }\n",
              "</style>\n",
              "<table border=\"1\" class=\"dataframe\">\n",
              "  <thead>\n",
              "    <tr style=\"text-align: right;\">\n",
              "      <th></th>\n",
              "      <th>title</th>\n",
              "      <th>day</th>\n",
              "      <th>writer</th>\n",
              "      <th>illustrator</th>\n",
              "      <th>genre</th>\n",
              "      <th>story</th>\n",
              "      <th>platform</th>\n",
              "      <th>t_image</th>\n",
              "      <th>id</th>\n",
              "      <th>author</th>\n",
              "      <th>score</th>\n",
              "    </tr>\n",
              "  </thead>\n",
              "  <tbody>\n",
              "    <tr>\n",
              "      <th>0</th>\n",
              "      <td>우선 남동생부터 숨기자</td>\n",
              "      <td>월</td>\n",
              "      <td>0</td>\n",
              "      <td>1</td>\n",
              "      <td>로판만화</td>\n",
              "      <td>하필이면 19금 다공일수 피폐 만화에 수의 하나뿐인 누나로 빙의하고 말았다! 재수없...</td>\n",
              "      <td>카카오페이지</td>\n",
              "      <td>cHyfs/hy41GaQT02/8lTAkYiB5MqJuKdoSmJEBK</td>\n",
              "      <td>NaN</td>\n",
              "      <td>NaN</td>\n",
              "      <td>NaN</td>\n",
              "    </tr>\n",
              "    <tr>\n",
              "      <th>1</th>\n",
              "      <td>이번 생은 가주가 되겠습니다</td>\n",
              "      <td>월</td>\n",
              "      <td>0</td>\n",
              "      <td>1</td>\n",
              "      <td>로판만화</td>\n",
              "      <td>한번 해 보자. 내가 가주가 되는 거야. 제국에서 제일가는 가문, 롬바르디의 사생아...</td>\n",
              "      <td>카카오페이지</td>\n",
              "      <td>cDeRi1/hyVkDNZUdD/WyUnrIQ0gkyKdkLzL5ajh1</td>\n",
              "      <td>NaN</td>\n",
              "      <td>NaN</td>\n",
              "      <td>NaN</td>\n",
              "    </tr>\n",
              "    <tr>\n",
              "      <th>2</th>\n",
              "      <td>묵향 다크레이디</td>\n",
              "      <td>월</td>\n",
              "      <td>0</td>\n",
              "      <td>1</td>\n",
              "      <td>소년만화</td>\n",
              "      <td>마교의 교주로서 극강의 무공을 자랑하던 묵향은 적들 혈교 에 의해 생전 처음 보는 ...</td>\n",
              "      <td>카카오페이지</td>\n",
              "      <td>9Eoo5/hyATyGp2En/pYYjRkJJIrpHEvDible6T0</td>\n",
              "      <td>NaN</td>\n",
              "      <td>NaN</td>\n",
              "      <td>NaN</td>\n",
              "    </tr>\n",
              "  </tbody>\n",
              "</table>\n",
              "</div>"
            ],
            "text/plain": [
              "             title day  writer  ...  id author score\n",
              "0     우선 남동생부터 숨기자   월       0  ... NaN    NaN   NaN\n",
              "1  이번 생은 가주가 되겠습니다   월       0  ... NaN    NaN   NaN\n",
              "2         묵향 다크레이디   월       0  ... NaN    NaN   NaN\n",
              "\n",
              "[3 rows x 11 columns]"
            ]
          },
          "metadata": {},
          "execution_count": 17
        }
      ]
    },
    {
      "cell_type": "code",
      "metadata": {
        "colab": {
          "base_uri": "https://localhost:8080/",
          "height": 244
        },
        "id": "Mir3LM34C86s",
        "outputId": "8c5d3fb0-d975-4c74-ec2c-fe98479460db"
      },
      "source": [
        "# 글 작가, 그림 작가 나누기\n",
        "webtoon.author.fillna('unknown',inplace=True)\n",
        "webtoon['writer'], webtoon['illustrator'] = zip(*webtoon['author'].apply(lambda x:[x.strip() for x in x.split('/')] if '/' in x else [x, x]))\n",
        "webtoon.head(3)"
      ],
      "execution_count": 18,
      "outputs": [
        {
          "output_type": "execute_result",
          "data": {
            "text/html": [
              "<div>\n",
              "<style scoped>\n",
              "    .dataframe tbody tr th:only-of-type {\n",
              "        vertical-align: middle;\n",
              "    }\n",
              "\n",
              "    .dataframe tbody tr th {\n",
              "        vertical-align: top;\n",
              "    }\n",
              "\n",
              "    .dataframe thead th {\n",
              "        text-align: right;\n",
              "    }\n",
              "</style>\n",
              "<table border=\"1\" class=\"dataframe\">\n",
              "  <thead>\n",
              "    <tr style=\"text-align: right;\">\n",
              "      <th></th>\n",
              "      <th>title</th>\n",
              "      <th>day</th>\n",
              "      <th>writer</th>\n",
              "      <th>illustrator</th>\n",
              "      <th>genre</th>\n",
              "      <th>story</th>\n",
              "      <th>platform</th>\n",
              "      <th>t_image</th>\n",
              "      <th>id</th>\n",
              "      <th>author</th>\n",
              "      <th>score</th>\n",
              "    </tr>\n",
              "  </thead>\n",
              "  <tbody>\n",
              "    <tr>\n",
              "      <th>0</th>\n",
              "      <td>우선 남동생부터 숨기자</td>\n",
              "      <td>월</td>\n",
              "      <td>unknown</td>\n",
              "      <td>unknown</td>\n",
              "      <td>로판만화</td>\n",
              "      <td>하필이면 19금 다공일수 피폐 만화에 수의 하나뿐인 누나로 빙의하고 말았다! 재수없...</td>\n",
              "      <td>카카오페이지</td>\n",
              "      <td>cHyfs/hy41GaQT02/8lTAkYiB5MqJuKdoSmJEBK</td>\n",
              "      <td>NaN</td>\n",
              "      <td>unknown</td>\n",
              "      <td>NaN</td>\n",
              "    </tr>\n",
              "    <tr>\n",
              "      <th>1</th>\n",
              "      <td>이번 생은 가주가 되겠습니다</td>\n",
              "      <td>월</td>\n",
              "      <td>unknown</td>\n",
              "      <td>unknown</td>\n",
              "      <td>로판만화</td>\n",
              "      <td>한번 해 보자. 내가 가주가 되는 거야. 제국에서 제일가는 가문, 롬바르디의 사생아...</td>\n",
              "      <td>카카오페이지</td>\n",
              "      <td>cDeRi1/hyVkDNZUdD/WyUnrIQ0gkyKdkLzL5ajh1</td>\n",
              "      <td>NaN</td>\n",
              "      <td>unknown</td>\n",
              "      <td>NaN</td>\n",
              "    </tr>\n",
              "    <tr>\n",
              "      <th>2</th>\n",
              "      <td>묵향 다크레이디</td>\n",
              "      <td>월</td>\n",
              "      <td>unknown</td>\n",
              "      <td>unknown</td>\n",
              "      <td>소년만화</td>\n",
              "      <td>마교의 교주로서 극강의 무공을 자랑하던 묵향은 적들 혈교 에 의해 생전 처음 보는 ...</td>\n",
              "      <td>카카오페이지</td>\n",
              "      <td>9Eoo5/hyATyGp2En/pYYjRkJJIrpHEvDible6T0</td>\n",
              "      <td>NaN</td>\n",
              "      <td>unknown</td>\n",
              "      <td>NaN</td>\n",
              "    </tr>\n",
              "  </tbody>\n",
              "</table>\n",
              "</div>"
            ],
            "text/plain": [
              "             title day   writer  ...  id   author score\n",
              "0     우선 남동생부터 숨기자   월  unknown  ... NaN  unknown   NaN\n",
              "1  이번 생은 가주가 되겠습니다   월  unknown  ... NaN  unknown   NaN\n",
              "2         묵향 다크레이디   월  unknown  ... NaN  unknown   NaN\n",
              "\n",
              "[3 rows x 11 columns]"
            ]
          },
          "metadata": {},
          "execution_count": 18
        }
      ]
    },
    {
      "cell_type": "code",
      "metadata": {
        "id": "h2f4uNsIDcwU"
      },
      "source": [
        "# 정리\n",
        "webtoon=webtoon[['title','writer','illustrator','genre','story','platform']]"
      ],
      "execution_count": 19,
      "outputs": []
    },
    {
      "cell_type": "code",
      "metadata": {
        "colab": {
          "base_uri": "https://localhost:8080/",
          "height": 142
        },
        "id": "1d1q508ND9el",
        "outputId": "20887467-7e6a-4417-c0ef-53539324f083"
      },
      "source": [
        "webtoon.head(3)"
      ],
      "execution_count": 20,
      "outputs": [
        {
          "output_type": "execute_result",
          "data": {
            "text/html": [
              "<div>\n",
              "<style scoped>\n",
              "    .dataframe tbody tr th:only-of-type {\n",
              "        vertical-align: middle;\n",
              "    }\n",
              "\n",
              "    .dataframe tbody tr th {\n",
              "        vertical-align: top;\n",
              "    }\n",
              "\n",
              "    .dataframe thead th {\n",
              "        text-align: right;\n",
              "    }\n",
              "</style>\n",
              "<table border=\"1\" class=\"dataframe\">\n",
              "  <thead>\n",
              "    <tr style=\"text-align: right;\">\n",
              "      <th></th>\n",
              "      <th>title</th>\n",
              "      <th>writer</th>\n",
              "      <th>illustrator</th>\n",
              "      <th>genre</th>\n",
              "      <th>story</th>\n",
              "      <th>platform</th>\n",
              "    </tr>\n",
              "  </thead>\n",
              "  <tbody>\n",
              "    <tr>\n",
              "      <th>0</th>\n",
              "      <td>우선 남동생부터 숨기자</td>\n",
              "      <td>unknown</td>\n",
              "      <td>unknown</td>\n",
              "      <td>로판만화</td>\n",
              "      <td>하필이면 19금 다공일수 피폐 만화에 수의 하나뿐인 누나로 빙의하고 말았다! 재수없...</td>\n",
              "      <td>카카오페이지</td>\n",
              "    </tr>\n",
              "    <tr>\n",
              "      <th>1</th>\n",
              "      <td>이번 생은 가주가 되겠습니다</td>\n",
              "      <td>unknown</td>\n",
              "      <td>unknown</td>\n",
              "      <td>로판만화</td>\n",
              "      <td>한번 해 보자. 내가 가주가 되는 거야. 제국에서 제일가는 가문, 롬바르디의 사생아...</td>\n",
              "      <td>카카오페이지</td>\n",
              "    </tr>\n",
              "    <tr>\n",
              "      <th>2</th>\n",
              "      <td>묵향 다크레이디</td>\n",
              "      <td>unknown</td>\n",
              "      <td>unknown</td>\n",
              "      <td>소년만화</td>\n",
              "      <td>마교의 교주로서 극강의 무공을 자랑하던 묵향은 적들 혈교 에 의해 생전 처음 보는 ...</td>\n",
              "      <td>카카오페이지</td>\n",
              "    </tr>\n",
              "  </tbody>\n",
              "</table>\n",
              "</div>"
            ],
            "text/plain": [
              "             title  ... platform\n",
              "0     우선 남동생부터 숨기자  ...   카카오페이지\n",
              "1  이번 생은 가주가 되겠습니다  ...   카카오페이지\n",
              "2         묵향 다크레이디  ...   카카오페이지\n",
              "\n",
              "[3 rows x 6 columns]"
            ]
          },
          "metadata": {},
          "execution_count": 20
        }
      ]
    },
    {
      "cell_type": "markdown",
      "metadata": {
        "id": "c4rJkD8gEDss"
      },
      "source": [
        "### 전처리"
      ]
    },
    {
      "cell_type": "code",
      "metadata": {
        "id": "C1oTZKKCD_Go"
      },
      "source": [
        "import re\n",
        "\n",
        "def hangul(text):\n",
        "    return re.sub('[^ㄱ-ㅎ|ㅏ-ㅣ|가-힣]', ' ', text)"
      ],
      "execution_count": 21,
      "outputs": []
    },
    {
      "cell_type": "code",
      "metadata": {
        "colab": {
          "base_uri": "https://localhost:8080/",
          "height": 142
        },
        "id": "S7snTgbGELQM",
        "outputId": "f3adfd11-d768-4729-cda6-6868203ba7fc"
      },
      "source": [
        "web_copy = webtoon.copy()\n",
        "web_copy['title'] = web_copy['title'].apply(lambda x:hangul(x))\n",
        "web_copy['genre'] = web_copy['genre'].apply(lambda x:hangul(x))\n",
        "web_copy['story'] = web_copy['story'].apply(lambda x:hangul(x))\n",
        "\n",
        "web_copy['story'] = web_copy['story'].replace(' ','')\n",
        "web_copy.head(3)"
      ],
      "execution_count": 30,
      "outputs": [
        {
          "output_type": "execute_result",
          "data": {
            "text/html": [
              "<div>\n",
              "<style scoped>\n",
              "    .dataframe tbody tr th:only-of-type {\n",
              "        vertical-align: middle;\n",
              "    }\n",
              "\n",
              "    .dataframe tbody tr th {\n",
              "        vertical-align: top;\n",
              "    }\n",
              "\n",
              "    .dataframe thead th {\n",
              "        text-align: right;\n",
              "    }\n",
              "</style>\n",
              "<table border=\"1\" class=\"dataframe\">\n",
              "  <thead>\n",
              "    <tr style=\"text-align: right;\">\n",
              "      <th></th>\n",
              "      <th>title</th>\n",
              "      <th>writer</th>\n",
              "      <th>illustrator</th>\n",
              "      <th>genre</th>\n",
              "      <th>story</th>\n",
              "      <th>platform</th>\n",
              "    </tr>\n",
              "  </thead>\n",
              "  <tbody>\n",
              "    <tr>\n",
              "      <th>0</th>\n",
              "      <td>우선 남동생부터 숨기자</td>\n",
              "      <td>unknown</td>\n",
              "      <td>unknown</td>\n",
              "      <td>로판만화</td>\n",
              "      <td>하필이면   금 다공일수 피폐 만화에 수의 하나뿐인 누나로 빙의하고 말았다  재수없...</td>\n",
              "      <td>카카오페이지</td>\n",
              "    </tr>\n",
              "    <tr>\n",
              "      <th>1</th>\n",
              "      <td>이번 생은 가주가 되겠습니다</td>\n",
              "      <td>unknown</td>\n",
              "      <td>unknown</td>\n",
              "      <td>로판만화</td>\n",
              "      <td>한번 해 보자  내가 가주가 되는 거야  제국에서 제일가는 가문  롬바르디의 사생아...</td>\n",
              "      <td>카카오페이지</td>\n",
              "    </tr>\n",
              "    <tr>\n",
              "      <th>2</th>\n",
              "      <td>묵향 다크레이디</td>\n",
              "      <td>unknown</td>\n",
              "      <td>unknown</td>\n",
              "      <td>소년만화</td>\n",
              "      <td>마교의 교주로서 극강의 무공을 자랑하던 묵향은 적들 혈교 에 의해 생전 처음 보는 ...</td>\n",
              "      <td>카카오페이지</td>\n",
              "    </tr>\n",
              "  </tbody>\n",
              "</table>\n",
              "</div>"
            ],
            "text/plain": [
              "             title  ... platform\n",
              "0     우선 남동생부터 숨기자  ...   카카오페이지\n",
              "1  이번 생은 가주가 되겠습니다  ...   카카오페이지\n",
              "2         묵향 다크레이디  ...   카카오페이지\n",
              "\n",
              "[3 rows x 6 columns]"
            ]
          },
          "metadata": {},
          "execution_count": 30
        }
      ]
    },
    {
      "cell_type": "code",
      "metadata": {
        "colab": {
          "base_uri": "https://localhost:8080/"
        },
        "id": "jSmoiMwRElBC",
        "outputId": "44b1ea59-cc36-47a5-ba19-483a7aaf39ac"
      },
      "source": [
        "print(webtoon.iloc[0,4])\n",
        "print(web_copy.iloc[0,4])"
      ],
      "execution_count": 31,
      "outputs": [
        {
          "output_type": "stream",
          "name": "stdout",
          "text": [
            "하필이면 19금 다공일수 피폐 만화에 수의 하나뿐인 누나로 빙의하고 말았다! 재수없게도 광공 남주가 끔살시킬 첫 희생자가 누나인 나라니요 . 이렇게 죽기 싫으니 전략을 짜자. 우선, 또라이 공의 시야에서 남동생을 숨기는 거야!\n",
            "하필이면   금 다공일수 피폐 만화에 수의 하나뿐인 누나로 빙의하고 말았다  재수없게도 광공 남주가 끔살시킬 첫 희생자가 누나인 나라니요   이렇게 죽기 싫으니 전략을 짜자  우선  또라이 공의 시야에서 남동생을 숨기는 거야 \n"
          ]
        }
      ]
    },
    {
      "cell_type": "markdown",
      "metadata": {
        "id": "gYs3leWeGUFc"
      },
      "source": [
        "### 불용어제거"
      ]
    },
    {
      "cell_type": "code",
      "metadata": {
        "colab": {
          "base_uri": "https://localhost:8080/"
        },
        "id": "FW3z5KzZGTZp",
        "outputId": "3c056a2b-dd87-4a3d-a81e-f33173d5c74a"
      },
      "source": [
        "with open(path + 'stopwords_korean.txt','r',encoding='utf8') as f:\n",
        "    stopwords = f.readline()\n",
        "stopwords = stopwords.split()\n",
        "print(stopwords[:5])"
      ],
      "execution_count": 24,
      "outputs": [
        {
          "output_type": "stream",
          "name": "stdout",
          "text": [
            "['아', '휴', '아이구', '아이쿠', '아이고']\n"
          ]
        }
      ]
    },
    {
      "cell_type": "markdown",
      "metadata": {
        "id": "B-fHLFoYIMlg"
      },
      "source": [
        "### 토큰화"
      ]
    },
    {
      "cell_type": "code",
      "metadata": {
        "colab": {
          "base_uri": "https://localhost:8080/"
        },
        "id": "E78hIYz-ILC8",
        "outputId": "002bca90-e010-4df6-b15b-d71866e3fc56"
      },
      "source": [
        "pip install konlpy==0.5.1"
      ],
      "execution_count": 25,
      "outputs": [
        {
          "output_type": "stream",
          "name": "stdout",
          "text": [
            "Collecting konlpy==0.5.1\n",
            "  Using cached konlpy-0.5.1-py2.py3-none-any.whl (19.4 MB)\n",
            "Requirement already satisfied: JPype1>=0.5.7 in /usr/local/lib/python3.7/dist-packages (from konlpy==0.5.1) (0.6.3)\n",
            "Installing collected packages: konlpy\n",
            "  Attempting uninstall: konlpy\n",
            "    Found existing installation: konlpy 0.4.5\n",
            "    Uninstalling konlpy-0.4.5:\n",
            "      Successfully uninstalled konlpy-0.4.5\n",
            "Successfully installed konlpy-0.5.1\n"
          ]
        }
      ]
    },
    {
      "cell_type": "code",
      "metadata": {
        "colab": {
          "base_uri": "https://localhost:8080/"
        },
        "id": "T-a-dNmJ0EaC",
        "outputId": "d822415f-32c3-496f-a755-c1438f84f370"
      },
      "source": [
        "pip install JPype1==0.6.3"
      ],
      "execution_count": 26,
      "outputs": [
        {
          "output_type": "stream",
          "name": "stdout",
          "text": [
            "Requirement already satisfied: JPype1==0.6.3 in /usr/local/lib/python3.7/dist-packages (0.6.3)\n"
          ]
        }
      ]
    },
    {
      "cell_type": "code",
      "metadata": {
        "id": "20iPYdTOHp5z"
      },
      "source": [
        "from konlpy.tag import Okt, Hannanum, Kkma, Komoran, Mecab\n",
        "okt = Okt() # Okt : Open Korean Text\n",
        "hannanum = Hannanum() # Hannanum(한나눔) : KAIST\n",
        "kkma = Kkma() # Kkma(꼬꼬마) : 서울대학교\n",
        "komoran = Komoran() # Komoran : Shineware\n",
        "\n",
        "def okt_tokenizer(text):\n",
        "    # 입력 인자로 들어온 텍스트를 형태소 단어로 토큰화해 리스트 형태로 반환\n",
        "    tokens_ko = okt.morphs(text)\n",
        "    filtered_words = []\n",
        "    # 각 문장별 단어에 대해 스톱 워드 제거\n",
        "    for word in tokens_ko:\n",
        "        if word not in stopwords:\n",
        "            filtered_words.append(word)\n",
        "    \n",
        "    return filtered_words\n",
        "\n",
        "def kkma_tokenizer(text):\n",
        "    # 입력 인자로 들어온 텍스트를 형태소 단어로 토큰화해 리스트 형태로 반환\n",
        "    tokens_ko = kkma.morphs(text)\n",
        "    filtered_words = []\n",
        "    # 각 문장별 단어에 대해 스톱 워드 제거\n",
        "    for word in tokens_ko:\n",
        "        if word not in stopwords:\n",
        "            filtered_words.append(word)\n",
        "    \n",
        "    return filtered_words\n",
        "\n",
        "def hannanum_tokenizer(text):\n",
        "    # 입력 인자로 들어온 텍스트를 형태소 단어로 토큰화해 리스트 형태로 반환\n",
        "    tokens_ko = hannanum.morphs(text)\n",
        "    filtered_words = []\n",
        "    # 각 문장별 단어에 대해 스톱 워드 제거\n",
        "    for word in tokens_ko:\n",
        "        if word not in stopwords:\n",
        "            filtered_words.append(word)\n",
        "    \n",
        "    return filtered_words\n",
        "\n",
        "def komoran_tokenizer(text):\n",
        "    # 입력 인자로 들어온 텍스트를 형태소 단어로 토큰화해 리스트 형태로 반환\n",
        "    tokens_ko = komoran.morphs(text)\n",
        "    filtered_words = []\n",
        "    # 각 문장별 단어에 대해 스톱 워드 제거\n",
        "    for word in tokens_ko:\n",
        "        if word not in stopwords:\n",
        "            filtered_words.append(word)\n",
        "    \n",
        "    return filtered_words\n"
      ],
      "execution_count": 27,
      "outputs": []
    },
    {
      "cell_type": "code",
      "metadata": {
        "id": "n7EZkAVYK_B2"
      },
      "source": [
        "from sklearn.feature_extraction.text import TfidfVectorizer\n",
        "from scipy.sparse import hstack\n",
        "from sklearn.preprocessing import LabelBinarizer\n",
        "\n",
        "# 입력 값 : 토큰화 도구, 작가도 feature에 포함할지 여부, 제목도 feature에 포함할지 여부\n",
        "def get_sparse_matrix(tokenizer, author=True, title=True):\n",
        "    # 제목, 장르 벡터화\n",
        "    tfidf_nstory_vec = TfidfVectorizer(tokenizer=tokenizer)\n",
        "    tfidf_title_matrix = tfidf_nstory_vec.fit_transform(web_copy['title'])\n",
        "    tfidf_genre_matrix = tfidf_nstory_vec.fit_transform(web_copy['genre'])\n",
        "\n",
        "    # 작가 인코딩\n",
        "    if author:\n",
        "        lb = LabelBinarizer(sparse_output=True) # 다른 행렬과 합치기 위하여 희소 행렬로 반환\n",
        "        lb_writer_matrix = lb.fit_transform(web_copy['writer'])\n",
        "        lb_illustrator_matrix = lb.fit_transform(web_copy['illustrator'])\n",
        "    \n",
        "    # 줄거리 벡터화\n",
        "    tfidf_story_vec = TfidfVectorizer(tokenizer=tokenizer, ngram_range=(1, 2))\n",
        "    tfidf_story_matrix = tfidf_story_vec.fit_transform(web_copy['story'])\n",
        "    \n",
        "    # 만들어진 행렬을 합치기 위한 리스트\n",
        "    sparse_matrix_list = [tfidf_genre_matrix, tfidf_story_matrix]\n",
        "    if author:\n",
        "        sparse_matrix_list.append(lb_writer_matrix)\n",
        "        sparse_matrix_list.append(lb_illustrator_matrix)\n",
        "    \n",
        "    if title:\n",
        "        sparse_matrix_list.append(tfidf_title_matrix)\n",
        "    \n",
        "    sparse_matrix_list = tuple(sparse_matrix_list)\n",
        "\n",
        "    # 행렬 결합\n",
        "    X_features_sparse = hstack(sparse_matrix_list).tocsr()\n",
        "    print(type(X_features_sparse), X_features_sparse.shape)\n",
        "    \n",
        "    return X_features_sparse"
      ],
      "execution_count": 28,
      "outputs": []
    },
    {
      "cell_type": "code",
      "metadata": {
        "colab": {
          "base_uri": "https://localhost:8080/",
          "height": 502
        },
        "id": "ZLzExSS4IBVX",
        "outputId": "4fb69b35-b2a8-4e41-eac7-c6d790e38f3f"
      },
      "source": [
        "%%time\n",
        "\n",
        "tokenizers = [okt_tokenizer, kkma_tokenizer, hannanum_tokenizer, komoran_tokenizer]\n",
        "\n",
        "# 작가, 제목 포함 행렬\n",
        "all_contain_matrices = [get_sparse_matrix(tokenizer) for tokenizer in tokenizers]\n",
        "\n",
        "# 제목 포함, 작가 미포함 행렬\n",
        "title_contain_matrices = [get_sparse_matrix(tokenizer, author=False) for tokenizer in tokenizers]\n",
        "\n",
        "# 작가 포함, 제목 미포함 행렬\n",
        "author_contain_matrices = [get_sparse_matrix(tokenizer, title=False) for tokenizer in tokenizers]\n",
        "\n",
        "# 작가, 제목 미포함 행렬\n",
        "notall_contain_matrices = [get_sparse_matrix(tokenizer, title=False, author=False) for tokenizer in tokenizers]"
      ],
      "execution_count": 29,
      "outputs": [
        {
          "output_type": "stream",
          "name": "stdout",
          "text": [
            "<class 'scipy.sparse.csr.csr_matrix'> (3173, 133321)\n"
          ]
        },
        {
          "output_type": "error",
          "ename": "java.lang.RuntimeExceptionPyRaisable",
          "evalue": "ignored",
          "traceback": [
            "\u001b[0;31m---------------------------------------------------------------------------\u001b[0m",
            "\u001b[0;31mjava.lang.RuntimeExceptionPyRaisable\u001b[0m      Traceback (most recent call last)",
            "\u001b[0;32m<ipython-input-29-eb5731f08cc0>\u001b[0m in \u001b[0;36m<module>\u001b[0;34m()\u001b[0m\n\u001b[0;32m----> 1\u001b[0;31m \u001b[0mget_ipython\u001b[0m\u001b[0;34m(\u001b[0m\u001b[0;34m)\u001b[0m\u001b[0;34m.\u001b[0m\u001b[0mrun_cell_magic\u001b[0m\u001b[0;34m(\u001b[0m\u001b[0;34m'time'\u001b[0m\u001b[0;34m,\u001b[0m \u001b[0;34m''\u001b[0m\u001b[0;34m,\u001b[0m \u001b[0;34m'\\ntokenizers = [okt_tokenizer, kkma_tokenizer, hannanum_tokenizer, komoran_tokenizer]\\n\\n# 작가, 제목 포함 행렬\\nall_contain_matrices = [get_sparse_matrix(tokenizer) for tokenizer in tokenizers]\\n\\n# 제목 포함, 작가 미포함 행렬\\ntitle_contain_matrices = [get_sparse_matrix(tokenizer, author=False) for tokenizer in tokenizers]\\n\\n# 작가 포함, 제목 미포함 행렬\\nauthor_contain_matrices = [get_sparse_matrix(tokenizer, title=False) for tokenizer in tokenizers]\\n\\n# 작가, 제목 미포함 행렬\\nnotall_contain_matrices = [get_sparse_matrix(tokenizer, title=False, author=False) for tokenizer in tokenizers]'\u001b[0m\u001b[0;34m)\u001b[0m\u001b[0;34m\u001b[0m\u001b[0;34m\u001b[0m\u001b[0m\n\u001b[0m",
            "\u001b[0;32m/usr/local/lib/python3.7/dist-packages/IPython/core/interactiveshell.py\u001b[0m in \u001b[0;36mrun_cell_magic\u001b[0;34m(self, magic_name, line, cell)\u001b[0m\n\u001b[1;32m   2115\u001b[0m             \u001b[0mmagic_arg_s\u001b[0m \u001b[0;34m=\u001b[0m \u001b[0mself\u001b[0m\u001b[0;34m.\u001b[0m\u001b[0mvar_expand\u001b[0m\u001b[0;34m(\u001b[0m\u001b[0mline\u001b[0m\u001b[0;34m,\u001b[0m \u001b[0mstack_depth\u001b[0m\u001b[0;34m)\u001b[0m\u001b[0;34m\u001b[0m\u001b[0;34m\u001b[0m\u001b[0m\n\u001b[1;32m   2116\u001b[0m             \u001b[0;32mwith\u001b[0m \u001b[0mself\u001b[0m\u001b[0;34m.\u001b[0m\u001b[0mbuiltin_trap\u001b[0m\u001b[0;34m:\u001b[0m\u001b[0;34m\u001b[0m\u001b[0;34m\u001b[0m\u001b[0m\n\u001b[0;32m-> 2117\u001b[0;31m                 \u001b[0mresult\u001b[0m \u001b[0;34m=\u001b[0m \u001b[0mfn\u001b[0m\u001b[0;34m(\u001b[0m\u001b[0mmagic_arg_s\u001b[0m\u001b[0;34m,\u001b[0m \u001b[0mcell\u001b[0m\u001b[0;34m)\u001b[0m\u001b[0;34m\u001b[0m\u001b[0;34m\u001b[0m\u001b[0m\n\u001b[0m\u001b[1;32m   2118\u001b[0m             \u001b[0;32mreturn\u001b[0m \u001b[0mresult\u001b[0m\u001b[0;34m\u001b[0m\u001b[0;34m\u001b[0m\u001b[0m\n\u001b[1;32m   2119\u001b[0m \u001b[0;34m\u001b[0m\u001b[0m\n",
            "\u001b[0;32m<decorator-gen-53>\u001b[0m in \u001b[0;36mtime\u001b[0;34m(self, line, cell, local_ns)\u001b[0m\n",
            "\u001b[0;32m/usr/local/lib/python3.7/dist-packages/IPython/core/magic.py\u001b[0m in \u001b[0;36m<lambda>\u001b[0;34m(f, *a, **k)\u001b[0m\n\u001b[1;32m    186\u001b[0m     \u001b[0;31m# but it's overkill for just that one bit of state.\u001b[0m\u001b[0;34m\u001b[0m\u001b[0;34m\u001b[0m\u001b[0;34m\u001b[0m\u001b[0m\n\u001b[1;32m    187\u001b[0m     \u001b[0;32mdef\u001b[0m \u001b[0mmagic_deco\u001b[0m\u001b[0;34m(\u001b[0m\u001b[0marg\u001b[0m\u001b[0;34m)\u001b[0m\u001b[0;34m:\u001b[0m\u001b[0;34m\u001b[0m\u001b[0;34m\u001b[0m\u001b[0m\n\u001b[0;32m--> 188\u001b[0;31m         \u001b[0mcall\u001b[0m \u001b[0;34m=\u001b[0m \u001b[0;32mlambda\u001b[0m \u001b[0mf\u001b[0m\u001b[0;34m,\u001b[0m \u001b[0;34m*\u001b[0m\u001b[0ma\u001b[0m\u001b[0;34m,\u001b[0m \u001b[0;34m**\u001b[0m\u001b[0mk\u001b[0m\u001b[0;34m:\u001b[0m \u001b[0mf\u001b[0m\u001b[0;34m(\u001b[0m\u001b[0;34m*\u001b[0m\u001b[0ma\u001b[0m\u001b[0;34m,\u001b[0m \u001b[0;34m**\u001b[0m\u001b[0mk\u001b[0m\u001b[0;34m)\u001b[0m\u001b[0;34m\u001b[0m\u001b[0;34m\u001b[0m\u001b[0m\n\u001b[0m\u001b[1;32m    189\u001b[0m \u001b[0;34m\u001b[0m\u001b[0m\n\u001b[1;32m    190\u001b[0m         \u001b[0;32mif\u001b[0m \u001b[0mcallable\u001b[0m\u001b[0;34m(\u001b[0m\u001b[0marg\u001b[0m\u001b[0;34m)\u001b[0m\u001b[0;34m:\u001b[0m\u001b[0;34m\u001b[0m\u001b[0;34m\u001b[0m\u001b[0m\n",
            "\u001b[0;32m/usr/local/lib/python3.7/dist-packages/IPython/core/magics/execution.py\u001b[0m in \u001b[0;36mtime\u001b[0;34m(self, line, cell, local_ns)\u001b[0m\n\u001b[1;32m   1191\u001b[0m         \u001b[0;32melse\u001b[0m\u001b[0;34m:\u001b[0m\u001b[0;34m\u001b[0m\u001b[0;34m\u001b[0m\u001b[0m\n\u001b[1;32m   1192\u001b[0m             \u001b[0mst\u001b[0m \u001b[0;34m=\u001b[0m \u001b[0mclock2\u001b[0m\u001b[0;34m(\u001b[0m\u001b[0;34m)\u001b[0m\u001b[0;34m\u001b[0m\u001b[0;34m\u001b[0m\u001b[0m\n\u001b[0;32m-> 1193\u001b[0;31m             \u001b[0mexec\u001b[0m\u001b[0;34m(\u001b[0m\u001b[0mcode\u001b[0m\u001b[0;34m,\u001b[0m \u001b[0mglob\u001b[0m\u001b[0;34m,\u001b[0m \u001b[0mlocal_ns\u001b[0m\u001b[0;34m)\u001b[0m\u001b[0;34m\u001b[0m\u001b[0;34m\u001b[0m\u001b[0m\n\u001b[0m\u001b[1;32m   1194\u001b[0m             \u001b[0mend\u001b[0m \u001b[0;34m=\u001b[0m \u001b[0mclock2\u001b[0m\u001b[0;34m(\u001b[0m\u001b[0;34m)\u001b[0m\u001b[0;34m\u001b[0m\u001b[0;34m\u001b[0m\u001b[0m\n\u001b[1;32m   1195\u001b[0m             \u001b[0mout\u001b[0m \u001b[0;34m=\u001b[0m \u001b[0;32mNone\u001b[0m\u001b[0;34m\u001b[0m\u001b[0;34m\u001b[0m\u001b[0m\n",
            "\u001b[0;32m<timed exec>\u001b[0m in \u001b[0;36m<module>\u001b[0;34m()\u001b[0m\n",
            "\u001b[0;32m<timed exec>\u001b[0m in \u001b[0;36m<listcomp>\u001b[0;34m(.0)\u001b[0m\n",
            "\u001b[0;32m<ipython-input-28-c1c05f974323>\u001b[0m in \u001b[0;36mget_sparse_matrix\u001b[0;34m(tokenizer, author, title)\u001b[0m\n\u001b[1;32m      7\u001b[0m     \u001b[0;31m# 제목, 장르 벡터화\u001b[0m\u001b[0;34m\u001b[0m\u001b[0;34m\u001b[0m\u001b[0;34m\u001b[0m\u001b[0m\n\u001b[1;32m      8\u001b[0m     \u001b[0mtfidf_nstory_vec\u001b[0m \u001b[0;34m=\u001b[0m \u001b[0mTfidfVectorizer\u001b[0m\u001b[0;34m(\u001b[0m\u001b[0mtokenizer\u001b[0m\u001b[0;34m=\u001b[0m\u001b[0mtokenizer\u001b[0m\u001b[0;34m)\u001b[0m\u001b[0;34m\u001b[0m\u001b[0;34m\u001b[0m\u001b[0m\n\u001b[0;32m----> 9\u001b[0;31m     \u001b[0mtfidf_title_matrix\u001b[0m \u001b[0;34m=\u001b[0m \u001b[0mtfidf_nstory_vec\u001b[0m\u001b[0;34m.\u001b[0m\u001b[0mfit_transform\u001b[0m\u001b[0;34m(\u001b[0m\u001b[0mweb_copy\u001b[0m\u001b[0;34m[\u001b[0m\u001b[0;34m'title'\u001b[0m\u001b[0;34m]\u001b[0m\u001b[0;34m)\u001b[0m\u001b[0;34m\u001b[0m\u001b[0;34m\u001b[0m\u001b[0m\n\u001b[0m\u001b[1;32m     10\u001b[0m     \u001b[0mtfidf_genre_matrix\u001b[0m \u001b[0;34m=\u001b[0m \u001b[0mtfidf_nstory_vec\u001b[0m\u001b[0;34m.\u001b[0m\u001b[0mfit_transform\u001b[0m\u001b[0;34m(\u001b[0m\u001b[0mweb_copy\u001b[0m\u001b[0;34m[\u001b[0m\u001b[0;34m'genre'\u001b[0m\u001b[0;34m]\u001b[0m\u001b[0;34m)\u001b[0m\u001b[0;34m\u001b[0m\u001b[0;34m\u001b[0m\u001b[0m\n\u001b[1;32m     11\u001b[0m \u001b[0;34m\u001b[0m\u001b[0m\n",
            "\u001b[0;32m/usr/local/lib/python3.7/dist-packages/sklearn/feature_extraction/text.py\u001b[0m in \u001b[0;36mfit_transform\u001b[0;34m(self, raw_documents, y)\u001b[0m\n\u001b[1;32m   1857\u001b[0m         \"\"\"\n\u001b[1;32m   1858\u001b[0m         \u001b[0mself\u001b[0m\u001b[0;34m.\u001b[0m\u001b[0m_check_params\u001b[0m\u001b[0;34m(\u001b[0m\u001b[0;34m)\u001b[0m\u001b[0;34m\u001b[0m\u001b[0;34m\u001b[0m\u001b[0m\n\u001b[0;32m-> 1859\u001b[0;31m         \u001b[0mX\u001b[0m \u001b[0;34m=\u001b[0m \u001b[0msuper\u001b[0m\u001b[0;34m(\u001b[0m\u001b[0;34m)\u001b[0m\u001b[0;34m.\u001b[0m\u001b[0mfit_transform\u001b[0m\u001b[0;34m(\u001b[0m\u001b[0mraw_documents\u001b[0m\u001b[0;34m)\u001b[0m\u001b[0;34m\u001b[0m\u001b[0;34m\u001b[0m\u001b[0m\n\u001b[0m\u001b[1;32m   1860\u001b[0m         \u001b[0mself\u001b[0m\u001b[0;34m.\u001b[0m\u001b[0m_tfidf\u001b[0m\u001b[0;34m.\u001b[0m\u001b[0mfit\u001b[0m\u001b[0;34m(\u001b[0m\u001b[0mX\u001b[0m\u001b[0;34m)\u001b[0m\u001b[0;34m\u001b[0m\u001b[0;34m\u001b[0m\u001b[0m\n\u001b[1;32m   1861\u001b[0m         \u001b[0;31m# X is already a transformed view of raw_documents so\u001b[0m\u001b[0;34m\u001b[0m\u001b[0;34m\u001b[0m\u001b[0;34m\u001b[0m\u001b[0m\n",
            "\u001b[0;32m/usr/local/lib/python3.7/dist-packages/sklearn/feature_extraction/text.py\u001b[0m in \u001b[0;36mfit_transform\u001b[0;34m(self, raw_documents, y)\u001b[0m\n\u001b[1;32m   1218\u001b[0m \u001b[0;34m\u001b[0m\u001b[0m\n\u001b[1;32m   1219\u001b[0m         vocabulary, X = self._count_vocab(raw_documents,\n\u001b[0;32m-> 1220\u001b[0;31m                                           self.fixed_vocabulary_)\n\u001b[0m\u001b[1;32m   1221\u001b[0m \u001b[0;34m\u001b[0m\u001b[0m\n\u001b[1;32m   1222\u001b[0m         \u001b[0;32mif\u001b[0m \u001b[0mself\u001b[0m\u001b[0;34m.\u001b[0m\u001b[0mbinary\u001b[0m\u001b[0;34m:\u001b[0m\u001b[0;34m\u001b[0m\u001b[0;34m\u001b[0m\u001b[0m\n",
            "\u001b[0;32m/usr/local/lib/python3.7/dist-packages/sklearn/feature_extraction/text.py\u001b[0m in \u001b[0;36m_count_vocab\u001b[0;34m(self, raw_documents, fixed_vocab)\u001b[0m\n\u001b[1;32m   1129\u001b[0m         \u001b[0;32mfor\u001b[0m \u001b[0mdoc\u001b[0m \u001b[0;32min\u001b[0m \u001b[0mraw_documents\u001b[0m\u001b[0;34m:\u001b[0m\u001b[0;34m\u001b[0m\u001b[0;34m\u001b[0m\u001b[0m\n\u001b[1;32m   1130\u001b[0m             \u001b[0mfeature_counter\u001b[0m \u001b[0;34m=\u001b[0m \u001b[0;34m{\u001b[0m\u001b[0;34m}\u001b[0m\u001b[0;34m\u001b[0m\u001b[0;34m\u001b[0m\u001b[0m\n\u001b[0;32m-> 1131\u001b[0;31m             \u001b[0;32mfor\u001b[0m \u001b[0mfeature\u001b[0m \u001b[0;32min\u001b[0m \u001b[0manalyze\u001b[0m\u001b[0;34m(\u001b[0m\u001b[0mdoc\u001b[0m\u001b[0;34m)\u001b[0m\u001b[0;34m:\u001b[0m\u001b[0;34m\u001b[0m\u001b[0;34m\u001b[0m\u001b[0m\n\u001b[0m\u001b[1;32m   1132\u001b[0m                 \u001b[0;32mtry\u001b[0m\u001b[0;34m:\u001b[0m\u001b[0;34m\u001b[0m\u001b[0;34m\u001b[0m\u001b[0m\n\u001b[1;32m   1133\u001b[0m                     \u001b[0mfeature_idx\u001b[0m \u001b[0;34m=\u001b[0m \u001b[0mvocabulary\u001b[0m\u001b[0;34m[\u001b[0m\u001b[0mfeature\u001b[0m\u001b[0;34m]\u001b[0m\u001b[0;34m\u001b[0m\u001b[0;34m\u001b[0m\u001b[0m\n",
            "\u001b[0;32m/usr/local/lib/python3.7/dist-packages/sklearn/feature_extraction/text.py\u001b[0m in \u001b[0;36m_analyze\u001b[0;34m(doc, analyzer, tokenizer, ngrams, preprocessor, decoder, stop_words)\u001b[0m\n\u001b[1;32m    103\u001b[0m             \u001b[0mdoc\u001b[0m \u001b[0;34m=\u001b[0m \u001b[0mpreprocessor\u001b[0m\u001b[0;34m(\u001b[0m\u001b[0mdoc\u001b[0m\u001b[0;34m)\u001b[0m\u001b[0;34m\u001b[0m\u001b[0;34m\u001b[0m\u001b[0m\n\u001b[1;32m    104\u001b[0m         \u001b[0;32mif\u001b[0m \u001b[0mtokenizer\u001b[0m \u001b[0;32mis\u001b[0m \u001b[0;32mnot\u001b[0m \u001b[0;32mNone\u001b[0m\u001b[0;34m:\u001b[0m\u001b[0;34m\u001b[0m\u001b[0;34m\u001b[0m\u001b[0m\n\u001b[0;32m--> 105\u001b[0;31m             \u001b[0mdoc\u001b[0m \u001b[0;34m=\u001b[0m \u001b[0mtokenizer\u001b[0m\u001b[0;34m(\u001b[0m\u001b[0mdoc\u001b[0m\u001b[0;34m)\u001b[0m\u001b[0;34m\u001b[0m\u001b[0;34m\u001b[0m\u001b[0m\n\u001b[0m\u001b[1;32m    106\u001b[0m         \u001b[0;32mif\u001b[0m \u001b[0mngrams\u001b[0m \u001b[0;32mis\u001b[0m \u001b[0;32mnot\u001b[0m \u001b[0;32mNone\u001b[0m\u001b[0;34m:\u001b[0m\u001b[0;34m\u001b[0m\u001b[0;34m\u001b[0m\u001b[0m\n\u001b[1;32m    107\u001b[0m             \u001b[0;32mif\u001b[0m \u001b[0mstop_words\u001b[0m \u001b[0;32mis\u001b[0m \u001b[0;32mnot\u001b[0m \u001b[0;32mNone\u001b[0m\u001b[0;34m:\u001b[0m\u001b[0;34m\u001b[0m\u001b[0;34m\u001b[0m\u001b[0m\n",
            "\u001b[0;32m<ipython-input-27-c7049f91d2cb>\u001b[0m in \u001b[0;36mkkma_tokenizer\u001b[0;34m(text)\u001b[0m\n\u001b[1;32m     18\u001b[0m \u001b[0;32mdef\u001b[0m \u001b[0mkkma_tokenizer\u001b[0m\u001b[0;34m(\u001b[0m\u001b[0mtext\u001b[0m\u001b[0;34m)\u001b[0m\u001b[0;34m:\u001b[0m\u001b[0;34m\u001b[0m\u001b[0;34m\u001b[0m\u001b[0m\n\u001b[1;32m     19\u001b[0m     \u001b[0;31m# 입력 인자로 들어온 텍스트를 형태소 단어로 토큰화해 리스트 형태로 반환\u001b[0m\u001b[0;34m\u001b[0m\u001b[0;34m\u001b[0m\u001b[0;34m\u001b[0m\u001b[0m\n\u001b[0;32m---> 20\u001b[0;31m     \u001b[0mtokens_ko\u001b[0m \u001b[0;34m=\u001b[0m \u001b[0mkkma\u001b[0m\u001b[0;34m.\u001b[0m\u001b[0mmorphs\u001b[0m\u001b[0;34m(\u001b[0m\u001b[0mtext\u001b[0m\u001b[0;34m)\u001b[0m\u001b[0;34m\u001b[0m\u001b[0;34m\u001b[0m\u001b[0m\n\u001b[0m\u001b[1;32m     21\u001b[0m     \u001b[0mfiltered_words\u001b[0m \u001b[0;34m=\u001b[0m \u001b[0;34m[\u001b[0m\u001b[0;34m]\u001b[0m\u001b[0;34m\u001b[0m\u001b[0;34m\u001b[0m\u001b[0m\n\u001b[1;32m     22\u001b[0m     \u001b[0;31m# 각 문장별 단어에 대해 스톱 워드 제거\u001b[0m\u001b[0;34m\u001b[0m\u001b[0;34m\u001b[0m\u001b[0;34m\u001b[0m\u001b[0m\n",
            "\u001b[0;32m/usr/local/lib/python3.7/dist-packages/konlpy/tag/_kkma.py\u001b[0m in \u001b[0;36mmorphs\u001b[0;34m(self, phrase)\u001b[0m\n\u001b[1;32m     82\u001b[0m         \u001b[0;34m\"\"\"Parse phrase to morphemes.\"\"\"\u001b[0m\u001b[0;34m\u001b[0m\u001b[0;34m\u001b[0m\u001b[0m\n\u001b[1;32m     83\u001b[0m \u001b[0;34m\u001b[0m\u001b[0m\n\u001b[0;32m---> 84\u001b[0;31m         \u001b[0;32mreturn\u001b[0m \u001b[0;34m[\u001b[0m\u001b[0ms\u001b[0m \u001b[0;32mfor\u001b[0m \u001b[0ms\u001b[0m\u001b[0;34m,\u001b[0m \u001b[0mt\u001b[0m \u001b[0;32min\u001b[0m \u001b[0mself\u001b[0m\u001b[0;34m.\u001b[0m\u001b[0mpos\u001b[0m\u001b[0;34m(\u001b[0m\u001b[0mphrase\u001b[0m\u001b[0;34m)\u001b[0m\u001b[0;34m]\u001b[0m\u001b[0;34m\u001b[0m\u001b[0;34m\u001b[0m\u001b[0m\n\u001b[0m\u001b[1;32m     85\u001b[0m \u001b[0;34m\u001b[0m\u001b[0m\n\u001b[1;32m     86\u001b[0m     \u001b[0;32mdef\u001b[0m \u001b[0msentences\u001b[0m\u001b[0;34m(\u001b[0m\u001b[0mself\u001b[0m\u001b[0;34m,\u001b[0m \u001b[0mphrase\u001b[0m\u001b[0;34m)\u001b[0m\u001b[0;34m:\u001b[0m\u001b[0;34m\u001b[0m\u001b[0;34m\u001b[0m\u001b[0m\n",
            "\u001b[0;32m/usr/local/lib/python3.7/dist-packages/konlpy/tag/_kkma.py\u001b[0m in \u001b[0;36mpos\u001b[0;34m(self, phrase, flatten, join)\u001b[0m\n\u001b[1;32m     53\u001b[0m         \"\"\"\n\u001b[1;32m     54\u001b[0m \u001b[0;34m\u001b[0m\u001b[0m\n\u001b[0;32m---> 55\u001b[0;31m         \u001b[0msentences\u001b[0m \u001b[0;34m=\u001b[0m \u001b[0mself\u001b[0m\u001b[0;34m.\u001b[0m\u001b[0mjki\u001b[0m\u001b[0;34m.\u001b[0m\u001b[0mmorphAnalyzer\u001b[0m\u001b[0;34m(\u001b[0m\u001b[0mphrase\u001b[0m\u001b[0;34m)\u001b[0m\u001b[0;34m\u001b[0m\u001b[0;34m\u001b[0m\u001b[0m\n\u001b[0m\u001b[1;32m     56\u001b[0m         \u001b[0mmorphemes\u001b[0m \u001b[0;34m=\u001b[0m \u001b[0;34m[\u001b[0m\u001b[0;34m]\u001b[0m\u001b[0;34m\u001b[0m\u001b[0;34m\u001b[0m\u001b[0m\n\u001b[1;32m     57\u001b[0m         \u001b[0;32mif\u001b[0m \u001b[0;32mnot\u001b[0m \u001b[0msentences\u001b[0m\u001b[0;34m:\u001b[0m\u001b[0;34m\u001b[0m\u001b[0;34m\u001b[0m\u001b[0m\n",
            "\u001b[0;31mjava.lang.RuntimeExceptionPyRaisable\u001b[0m: java.lang.NullPointerException"
          ]
        }
      ]
    },
    {
      "cell_type": "code",
      "metadata": {
        "id": "OqygKFdlUNdd"
      },
      "source": [
        "/usr/local/lib/python3.7/dist-packages/konlpy/jvm.py"
      ],
      "execution_count": null,
      "outputs": []
    },
    {
      "cell_type": "code",
      "metadata": {
        "id": "8URIulbGCF5K"
      },
      "source": [
        "indices = pd.Series(webtoon.index, index=webtoon['title'])\n",
        "indices.head(3)"
      ],
      "execution_count": null,
      "outputs": []
    },
    {
      "cell_type": "code",
      "metadata": {
        "id": "oIg4OUx9_Dt-"
      },
      "source": [
        "import numpy as np\n",
        "from sklearn.metrics.pairwise import cosine_similarity\n",
        "\n",
        "# 입력 값 : 제목, top rank 수, 같은 장르만 뽑을지 여부, 작가를 feature로 넣을지 여부, 제목을 feature로 넣을 지 여부\n",
        "def get_recomm(title, rank=10, same_genre=False, author=True, _title=True):\n",
        "    # 코사인 유사도를 담을 array 생성\n",
        "    cosine_sim = np.zeros((len(webtoon), len(webtoon)))\n",
        "    \n",
        "    if author and _title:\n",
        "        matrices = all_contain_matrices\n",
        "    elif author:\n",
        "        matrices = author_contain_matrices\n",
        "    elif _title:\n",
        "        matrices = title_contain_matrices\n",
        "    else:\n",
        "        matrices = notall_contain_matrices\n",
        "    \n",
        "    # 코사인 유사도 계산\n",
        "    # 각 토큰화 도구로 계산한 코사인 유사도를 평균 (앙상블)\n",
        "    for matrix in matrices:\n",
        "        cosine_sim += cosine_similarity(matrix)\n",
        "    cosine_sim /= len(matrices)\n",
        "    \n",
        "    # 결과 출력을 위한 데이터 프레임 복사\n",
        "    print_copy = webtoon.copy()\n",
        "    \n",
        "    # 선택한 웹툰 제목으로부터 해당되는 인덱스를 받아옴\n",
        "    idx = indices[title]\n",
        "    \n",
        "    # 인덱스로부터 장르를 뽑아옴\n",
        "    genre = print_copy.loc[idx, 'genre']\n",
        "\n",
        "    # 유사도를 DataFrame에 붙임\n",
        "    print_copy['similarity'] = cosine_sim[idx]\n",
        "    \n",
        "    if same_genre:\n",
        "        # 동일 장르만을 보여줄 경우\n",
        "        return print_copy[print_copy['genre'] == genre].sort_values(by='similarity', ascending=False).iloc[1:1+rank, :]\n",
        "        \n",
        "    else:\n",
        "        # 다른 장르도 보여줄 경우\n",
        "        return print_copy.sort_values(by='similarity', ascending=False).iloc[1:1+rank, :]"
      ],
      "execution_count": null,
      "outputs": []
    },
    {
      "cell_type": "code",
      "metadata": {
        "id": "to6cdMWTBdP_"
      },
      "source": [
        "get_recomm('비흔')"
      ],
      "execution_count": null,
      "outputs": []
    },
    {
      "cell_type": "code",
      "metadata": {
        "id": "0KwVcBstBnv0"
      },
      "source": [
        ""
      ],
      "execution_count": null,
      "outputs": []
    }
  ]
}