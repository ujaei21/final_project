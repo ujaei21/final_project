{
  "nbformat": 4,
  "nbformat_minor": 0,
  "metadata": {
    "colab": {
      "name": "df_kakao.ipynb",
      "provenance": []
    },
    "kernelspec": {
      "name": "python3",
      "display_name": "Python 3"
    },
    "language_info": {
      "name": "python"
    }
  },
  "cells": [
    {
      "cell_type": "code",
      "metadata": {
        "id": "DFsb1HsQACOR"
      },
      "source": [
        "PATH = '/content/drive/MyDrive/Colab Notebooks/final/'"
      ],
      "execution_count": 1,
      "outputs": []
    },
    {
      "cell_type": "code",
      "metadata": {
        "id": "vf854qmIANL7"
      },
      "source": [
        "import pandas as pd \n",
        "df = pd.read_csv(PATH+'kp_week1.csv',encoding='cp949')"
      ],
      "execution_count": 2,
      "outputs": []
    },
    {
      "cell_type": "code",
      "metadata": {
        "colab": {
          "base_uri": "https://localhost:8080/",
          "height": 204
        },
        "id": "RWS6SENmAVFz",
        "outputId": "3147f6e6-f26d-40ed-d9ec-9cba1a003198"
      },
      "source": [
        "df.head()"
      ],
      "execution_count": 3,
      "outputs": [
        {
          "output_type": "execute_result",
          "data": {
            "text/html": [
              "<div>\n",
              "<style scoped>\n",
              "    .dataframe tbody tr th:only-of-type {\n",
              "        vertical-align: middle;\n",
              "    }\n",
              "\n",
              "    .dataframe tbody tr th {\n",
              "        vertical-align: top;\n",
              "    }\n",
              "\n",
              "    .dataframe thead th {\n",
              "        text-align: right;\n",
              "    }\n",
              "</style>\n",
              "<table border=\"1\" class=\"dataframe\">\n",
              "  <thead>\n",
              "    <tr style=\"text-align: right;\">\n",
              "      <th></th>\n",
              "      <th>Unnamed: 0</th>\n",
              "      <th>title</th>\n",
              "      <th>day</th>\n",
              "      <th>genre</th>\n",
              "      <th>story</th>\n",
              "      <th>platform</th>\n",
              "      <th>t_image</th>\n",
              "    </tr>\n",
              "  </thead>\n",
              "  <tbody>\n",
              "    <tr>\n",
              "      <th>0</th>\n",
              "      <td>0</td>\n",
              "      <td>우선 남동생부터 숨기자</td>\n",
              "      <td>월</td>\n",
              "      <td>로판만화</td>\n",
              "      <td>하필이면 19금 다공일수 피폐 만화에 수의 하나뿐인 누나로 빙의하고 말았다! 재수없...</td>\n",
              "      <td>카카오페이지</td>\n",
              "      <td>cHyfs/hy41GaQT02/8lTAkYiB5MqJuKdoSmJEBK</td>\n",
              "    </tr>\n",
              "    <tr>\n",
              "      <th>1</th>\n",
              "      <td>1</td>\n",
              "      <td>이번 생은 가주가 되겠습니다</td>\n",
              "      <td>월</td>\n",
              "      <td>로판만화</td>\n",
              "      <td>한번 해 보자. 내가 가주가 되는 거야. 제국에서 제일가는 가문, 롬바르디의 사생아...</td>\n",
              "      <td>카카오페이지</td>\n",
              "      <td>cDeRi1/hyVkDNZUdD/WyUnrIQ0gkyKdkLzL5ajh1</td>\n",
              "    </tr>\n",
              "    <tr>\n",
              "      <th>2</th>\n",
              "      <td>2</td>\n",
              "      <td>묵향 다크레이디</td>\n",
              "      <td>월</td>\n",
              "      <td>소년만화</td>\n",
              "      <td>마교의 교주로서 극강의 무공을 자랑하던 묵향은 적들 혈교 에 의해 생전 처음 보는 ...</td>\n",
              "      <td>카카오페이지</td>\n",
              "      <td>9Eoo5/hyATyGp2En/pYYjRkJJIrpHEvDible6T0</td>\n",
              "    </tr>\n",
              "    <tr>\n",
              "      <th>3</th>\n",
              "      <td>3</td>\n",
              "      <td>튜토리얼이 너무 어렵다</td>\n",
              "      <td>월</td>\n",
              "      <td>소년만화</td>\n",
              "      <td>퓨전 판타지 장편소설 39 튜토리얼이 너무 어렵다 39 가 웹툰으로 독자 여러분을 ...</td>\n",
              "      <td>카카오페이지</td>\n",
              "      <td>cof1Bi/hyQ9Q45PWC/L84IXRvtte4PTzZS6dXbB0</td>\n",
              "    </tr>\n",
              "    <tr>\n",
              "      <th>4</th>\n",
              "      <td>4</td>\n",
              "      <td>8클래스 마법사의 회귀</td>\n",
              "      <td>월</td>\n",
              "      <td>소년만화</td>\n",
              "      <td>황제 라그나르와 통일 제국을 위해 손에 피를 묻히길 수십 년. 나는 고향으로 돌아가...</td>\n",
              "      <td>카카오페이지</td>\n",
              "      <td>HrHN1/hy41P6FJKt/FCR6J7pW8bFVRQVJx7Mlo0</td>\n",
              "    </tr>\n",
              "  </tbody>\n",
              "</table>\n",
              "</div>"
            ],
            "text/plain": [
              "   Unnamed: 0  ...                                   t_image\n",
              "0           0  ...   cHyfs/hy41GaQT02/8lTAkYiB5MqJuKdoSmJEBK\n",
              "1           1  ...  cDeRi1/hyVkDNZUdD/WyUnrIQ0gkyKdkLzL5ajh1\n",
              "2           2  ...   9Eoo5/hyATyGp2En/pYYjRkJJIrpHEvDible6T0\n",
              "3           3  ...  cof1Bi/hyQ9Q45PWC/L84IXRvtte4PTzZS6dXbB0\n",
              "4           4  ...   HrHN1/hy41P6FJKt/FCR6J7pW8bFVRQVJx7Mlo0\n",
              "\n",
              "[5 rows x 7 columns]"
            ]
          },
          "metadata": {},
          "execution_count": 3
        }
      ]
    },
    {
      "cell_type": "code",
      "metadata": {
        "id": "kvuptJqqAYmK"
      },
      "source": [
        "df.drop('Unnamed: 0',axis=1,inplace=True)"
      ],
      "execution_count": 4,
      "outputs": []
    },
    {
      "cell_type": "code",
      "metadata": {
        "colab": {
          "base_uri": "https://localhost:8080/"
        },
        "id": "_4TRvUOfAhzz",
        "outputId": "3ef2a86c-8e05-42e5-a125-7d8097dbecf2"
      },
      "source": [
        "df.title.value_counts()"
      ],
      "execution_count": 5,
      "outputs": [
        {
          "output_type": "execute_result",
          "data": {
            "text/plain": [
              "폭군의 유일한 조향사가 되었습니다     1\n",
              "황자님께 입덕합니다             1\n",
              "최면술사에겐 비밀보호 의무가 없다     1\n",
              "에뷔오네 [컬러판]             1\n",
              "만계신주                   1\n",
              "                      ..\n",
              "폭군황제의 첫사랑              1\n",
              "사랑이 아니다 웹툰판            1\n",
              "남궁세가 소공자               1\n",
              "자보트를 새 언니라고 부르지 마세요    1\n",
              "마도사의 탑                 1\n",
              "Name: title, Length: 852, dtype: int64"
            ]
          },
          "metadata": {},
          "execution_count": 5
        }
      ]
    },
    {
      "cell_type": "code",
      "metadata": {
        "id": "CaIlBrYZAtRk"
      },
      "source": [
        "df_com = pd.read_csv(PATH+'kp_completed.csv',encoding='cp949')"
      ],
      "execution_count": 6,
      "outputs": []
    },
    {
      "cell_type": "code",
      "metadata": {
        "colab": {
          "base_uri": "https://localhost:8080/",
          "height": 204
        },
        "id": "rbm9xGALBAnp",
        "outputId": "09a67221-08d8-4968-d075-64ab17588da0"
      },
      "source": [
        "df_com.head()"
      ],
      "execution_count": 7,
      "outputs": [
        {
          "output_type": "execute_result",
          "data": {
            "text/html": [
              "<div>\n",
              "<style scoped>\n",
              "    .dataframe tbody tr th:only-of-type {\n",
              "        vertical-align: middle;\n",
              "    }\n",
              "\n",
              "    .dataframe tbody tr th {\n",
              "        vertical-align: top;\n",
              "    }\n",
              "\n",
              "    .dataframe thead th {\n",
              "        text-align: right;\n",
              "    }\n",
              "</style>\n",
              "<table border=\"1\" class=\"dataframe\">\n",
              "  <thead>\n",
              "    <tr style=\"text-align: right;\">\n",
              "      <th></th>\n",
              "      <th>Unnamed: 0</th>\n",
              "      <th>title</th>\n",
              "      <th>day</th>\n",
              "      <th>genre</th>\n",
              "      <th>story</th>\n",
              "      <th>platform</th>\n",
              "      <th>t_image</th>\n",
              "    </tr>\n",
              "  </thead>\n",
              "  <tbody>\n",
              "    <tr>\n",
              "      <th>0</th>\n",
              "      <td>0</td>\n",
              "      <td>그녀가 공작저로 가야 했던 사정</td>\n",
              "      <td>완결</td>\n",
              "      <td>로판만화</td>\n",
              "      <td>의문의 사망 이후, 소설 속으로 빙의하게 된 재수생 박은하. 하지만 그녀가 빙의한 ...</td>\n",
              "      <td>카카오페이지</td>\n",
              "      <td>bGxtne/hyCvnb6VWb/Z6w9OMlI9P83urVF0kLahK</td>\n",
              "    </tr>\n",
              "    <tr>\n",
              "      <th>1</th>\n",
              "      <td>1</td>\n",
              "      <td>묵향 디 오리진</td>\n",
              "      <td>완결</td>\n",
              "      <td>액션무협만화</td>\n",
              "      <td>무협계 한 획을 그은 전동조 장편 소설 묵향 ! 암살자에서 무림 정점에 오르는 묵향...</td>\n",
              "      <td>카카오페이지</td>\n",
              "      <td>bOZ06o/hyQ9Rwb9mA/Y0a3dyuSZfKOzHFmEOCKm0</td>\n",
              "    </tr>\n",
              "    <tr>\n",
              "      <th>2</th>\n",
              "      <td>2</td>\n",
              "      <td>나는 마도왕이다</td>\n",
              "      <td>완결</td>\n",
              "      <td>소년만화</td>\n",
              "      <td>10년 전, 차원이 비틀리며 몬스터가 쏟아져 나왔다. 동시에 생겨난 초능력 각성자들...</td>\n",
              "      <td>카카오페이지</td>\n",
              "      <td>bnW34D/hyATvCSUg0/meX5zyKHHw6k4TqGj0nFMk</td>\n",
              "    </tr>\n",
              "    <tr>\n",
              "      <th>3</th>\n",
              "      <td>3</td>\n",
              "      <td>시카 울프</td>\n",
              "      <td>완결</td>\n",
              "      <td>로판만화</td>\n",
              "      <td>제 인생에서 소중한 두 사람을 찾으려 나왔어요. 출생의 비밀을 간직 한 채 마법사의...</td>\n",
              "      <td>카카오페이지</td>\n",
              "      <td>bdObQ3/hyQ9PZuqq9/zkgwfQyp2sozZCDMXi5OP1</td>\n",
              "    </tr>\n",
              "    <tr>\n",
              "      <th>4</th>\n",
              "      <td>4</td>\n",
              "      <td>그림자 황비</td>\n",
              "      <td>완결</td>\n",
              "      <td>로판만화</td>\n",
              "      <td>34 내 딸이 되어줄 수 있겠느냐? 34 프란체 대공의 제안으로 가짜 딸이 된 엘레...</td>\n",
              "      <td>카카오페이지</td>\n",
              "      <td>8lPj0/hyF24lS0pG/7Q29nkmQqwYntYmlzAWkhK</td>\n",
              "    </tr>\n",
              "  </tbody>\n",
              "</table>\n",
              "</div>"
            ],
            "text/plain": [
              "   Unnamed: 0  ...                                   t_image\n",
              "0           0  ...  bGxtne/hyCvnb6VWb/Z6w9OMlI9P83urVF0kLahK\n",
              "1           1  ...  bOZ06o/hyQ9Rwb9mA/Y0a3dyuSZfKOzHFmEOCKm0\n",
              "2           2  ...  bnW34D/hyATvCSUg0/meX5zyKHHw6k4TqGj0nFMk\n",
              "3           3  ...  bdObQ3/hyQ9PZuqq9/zkgwfQyp2sozZCDMXi5OP1\n",
              "4           4  ...   8lPj0/hyF24lS0pG/7Q29nkmQqwYntYmlzAWkhK\n",
              "\n",
              "[5 rows x 7 columns]"
            ]
          },
          "metadata": {},
          "execution_count": 7
        }
      ]
    },
    {
      "cell_type": "code",
      "metadata": {
        "id": "bgdcUOh5BC0p"
      },
      "source": [
        "df_com.drop('Unnamed: 0',axis=1,inplace=True)"
      ],
      "execution_count": 8,
      "outputs": []
    },
    {
      "cell_type": "code",
      "metadata": {
        "colab": {
          "base_uri": "https://localhost:8080/",
          "height": 204
        },
        "id": "NkMWUlE0BLcy",
        "outputId": "4bb36dab-1b91-402b-fbf3-3d938ceedbc8"
      },
      "source": [
        "df_com.head()"
      ],
      "execution_count": 9,
      "outputs": [
        {
          "output_type": "execute_result",
          "data": {
            "text/html": [
              "<div>\n",
              "<style scoped>\n",
              "    .dataframe tbody tr th:only-of-type {\n",
              "        vertical-align: middle;\n",
              "    }\n",
              "\n",
              "    .dataframe tbody tr th {\n",
              "        vertical-align: top;\n",
              "    }\n",
              "\n",
              "    .dataframe thead th {\n",
              "        text-align: right;\n",
              "    }\n",
              "</style>\n",
              "<table border=\"1\" class=\"dataframe\">\n",
              "  <thead>\n",
              "    <tr style=\"text-align: right;\">\n",
              "      <th></th>\n",
              "      <th>title</th>\n",
              "      <th>day</th>\n",
              "      <th>genre</th>\n",
              "      <th>story</th>\n",
              "      <th>platform</th>\n",
              "      <th>t_image</th>\n",
              "    </tr>\n",
              "  </thead>\n",
              "  <tbody>\n",
              "    <tr>\n",
              "      <th>0</th>\n",
              "      <td>그녀가 공작저로 가야 했던 사정</td>\n",
              "      <td>완결</td>\n",
              "      <td>로판만화</td>\n",
              "      <td>의문의 사망 이후, 소설 속으로 빙의하게 된 재수생 박은하. 하지만 그녀가 빙의한 ...</td>\n",
              "      <td>카카오페이지</td>\n",
              "      <td>bGxtne/hyCvnb6VWb/Z6w9OMlI9P83urVF0kLahK</td>\n",
              "    </tr>\n",
              "    <tr>\n",
              "      <th>1</th>\n",
              "      <td>묵향 디 오리진</td>\n",
              "      <td>완결</td>\n",
              "      <td>액션무협만화</td>\n",
              "      <td>무협계 한 획을 그은 전동조 장편 소설 묵향 ! 암살자에서 무림 정점에 오르는 묵향...</td>\n",
              "      <td>카카오페이지</td>\n",
              "      <td>bOZ06o/hyQ9Rwb9mA/Y0a3dyuSZfKOzHFmEOCKm0</td>\n",
              "    </tr>\n",
              "    <tr>\n",
              "      <th>2</th>\n",
              "      <td>나는 마도왕이다</td>\n",
              "      <td>완결</td>\n",
              "      <td>소년만화</td>\n",
              "      <td>10년 전, 차원이 비틀리며 몬스터가 쏟아져 나왔다. 동시에 생겨난 초능력 각성자들...</td>\n",
              "      <td>카카오페이지</td>\n",
              "      <td>bnW34D/hyATvCSUg0/meX5zyKHHw6k4TqGj0nFMk</td>\n",
              "    </tr>\n",
              "    <tr>\n",
              "      <th>3</th>\n",
              "      <td>시카 울프</td>\n",
              "      <td>완결</td>\n",
              "      <td>로판만화</td>\n",
              "      <td>제 인생에서 소중한 두 사람을 찾으려 나왔어요. 출생의 비밀을 간직 한 채 마법사의...</td>\n",
              "      <td>카카오페이지</td>\n",
              "      <td>bdObQ3/hyQ9PZuqq9/zkgwfQyp2sozZCDMXi5OP1</td>\n",
              "    </tr>\n",
              "    <tr>\n",
              "      <th>4</th>\n",
              "      <td>그림자 황비</td>\n",
              "      <td>완결</td>\n",
              "      <td>로판만화</td>\n",
              "      <td>34 내 딸이 되어줄 수 있겠느냐? 34 프란체 대공의 제안으로 가짜 딸이 된 엘레...</td>\n",
              "      <td>카카오페이지</td>\n",
              "      <td>8lPj0/hyF24lS0pG/7Q29nkmQqwYntYmlzAWkhK</td>\n",
              "    </tr>\n",
              "  </tbody>\n",
              "</table>\n",
              "</div>"
            ],
            "text/plain": [
              "               title day  ... platform                                   t_image\n",
              "0  그녀가 공작저로 가야 했던 사정  완결  ...   카카오페이지  bGxtne/hyCvnb6VWb/Z6w9OMlI9P83urVF0kLahK\n",
              "1           묵향 디 오리진  완결  ...   카카오페이지  bOZ06o/hyQ9Rwb9mA/Y0a3dyuSZfKOzHFmEOCKm0\n",
              "2           나는 마도왕이다  완결  ...   카카오페이지  bnW34D/hyATvCSUg0/meX5zyKHHw6k4TqGj0nFMk\n",
              "3              시카 울프  완결  ...   카카오페이지  bdObQ3/hyQ9PZuqq9/zkgwfQyp2sozZCDMXi5OP1\n",
              "4             그림자 황비  완결  ...   카카오페이지   8lPj0/hyF24lS0pG/7Q29nkmQqwYntYmlzAWkhK\n",
              "\n",
              "[5 rows x 6 columns]"
            ]
          },
          "metadata": {},
          "execution_count": 9
        }
      ]
    },
    {
      "cell_type": "code",
      "metadata": {
        "colab": {
          "base_uri": "https://localhost:8080/"
        },
        "id": "wA8JLaenBNVN",
        "outputId": "b4c39038-62c1-4118-a333-29f77c6bd9c9"
      },
      "source": [
        "df_com.title.value_counts()"
      ],
      "execution_count": 10,
      "outputs": [
        {
          "output_type": "execute_result",
          "data": {
            "text/plain": [
              "귀혼식 [BL]              1\n",
              "사랑은 앵초색               1\n",
              "소야신집                  1\n",
              "권태                    1\n",
              "샴                     1\n",
              "                     ..\n",
              "사막의 신부                1\n",
              "수명사                   1\n",
              "괜찮은 관계                1\n",
              "새빛남고 학생회 고문입니다[BL]    1\n",
              "미숙한 표현                1\n",
              "Name: title, Length: 852, dtype: int64"
            ]
          },
          "metadata": {},
          "execution_count": 10
        }
      ]
    },
    {
      "cell_type": "code",
      "metadata": {
        "colab": {
          "base_uri": "https://localhost:8080/",
          "height": 322
        },
        "id": "WBO8xV4mBVVD",
        "outputId": "6242d196-d553-4487-c09f-0d18b9887e9d"
      },
      "source": [
        "pd.concat(df,df_com)"
      ],
      "execution_count": 11,
      "outputs": [
        {
          "output_type": "error",
          "ename": "TypeError",
          "evalue": "ignored",
          "traceback": [
            "\u001b[0;31m---------------------------------------------------------------------------\u001b[0m",
            "\u001b[0;31mTypeError\u001b[0m                                 Traceback (most recent call last)",
            "\u001b[0;32m<ipython-input-11-bf1acb70c408>\u001b[0m in \u001b[0;36m<module>\u001b[0;34m()\u001b[0m\n\u001b[0;32m----> 1\u001b[0;31m \u001b[0mpd\u001b[0m\u001b[0;34m.\u001b[0m\u001b[0mconcat\u001b[0m\u001b[0;34m(\u001b[0m\u001b[0mdf\u001b[0m\u001b[0;34m,\u001b[0m\u001b[0mdf_com\u001b[0m\u001b[0;34m)\u001b[0m\u001b[0;34m\u001b[0m\u001b[0;34m\u001b[0m\u001b[0m\n\u001b[0m",
            "\u001b[0;32m/usr/local/lib/python3.7/dist-packages/pandas/core/reshape/concat.py\u001b[0m in \u001b[0;36mconcat\u001b[0;34m(objs, axis, join, ignore_index, keys, levels, names, verify_integrity, sort, copy)\u001b[0m\n\u001b[1;32m    282\u001b[0m         \u001b[0mverify_integrity\u001b[0m\u001b[0;34m=\u001b[0m\u001b[0mverify_integrity\u001b[0m\u001b[0;34m,\u001b[0m\u001b[0;34m\u001b[0m\u001b[0;34m\u001b[0m\u001b[0m\n\u001b[1;32m    283\u001b[0m         \u001b[0mcopy\u001b[0m\u001b[0;34m=\u001b[0m\u001b[0mcopy\u001b[0m\u001b[0;34m,\u001b[0m\u001b[0;34m\u001b[0m\u001b[0;34m\u001b[0m\u001b[0m\n\u001b[0;32m--> 284\u001b[0;31m         \u001b[0msort\u001b[0m\u001b[0;34m=\u001b[0m\u001b[0msort\u001b[0m\u001b[0;34m,\u001b[0m\u001b[0;34m\u001b[0m\u001b[0;34m\u001b[0m\u001b[0m\n\u001b[0m\u001b[1;32m    285\u001b[0m     )\n\u001b[1;32m    286\u001b[0m \u001b[0;34m\u001b[0m\u001b[0m\n",
            "\u001b[0;32m/usr/local/lib/python3.7/dist-packages/pandas/core/reshape/concat.py\u001b[0m in \u001b[0;36m__init__\u001b[0;34m(self, objs, axis, join, keys, levels, names, ignore_index, verify_integrity, copy, sort)\u001b[0m\n\u001b[1;32m    308\u001b[0m         \u001b[0;32mif\u001b[0m \u001b[0misinstance\u001b[0m\u001b[0;34m(\u001b[0m\u001b[0mobjs\u001b[0m\u001b[0;34m,\u001b[0m \u001b[0;34m(\u001b[0m\u001b[0mABCSeries\u001b[0m\u001b[0;34m,\u001b[0m \u001b[0mABCDataFrame\u001b[0m\u001b[0;34m,\u001b[0m \u001b[0mstr\u001b[0m\u001b[0;34m)\u001b[0m\u001b[0;34m)\u001b[0m\u001b[0;34m:\u001b[0m\u001b[0;34m\u001b[0m\u001b[0;34m\u001b[0m\u001b[0m\n\u001b[1;32m    309\u001b[0m             raise TypeError(\n\u001b[0;32m--> 310\u001b[0;31m                 \u001b[0;34m\"first argument must be an iterable of pandas \"\u001b[0m\u001b[0;34m\u001b[0m\u001b[0;34m\u001b[0m\u001b[0m\n\u001b[0m\u001b[1;32m    311\u001b[0m                 \u001b[0;34mf'objects, you passed an object of type \"{type(objs).__name__}\"'\u001b[0m\u001b[0;34m\u001b[0m\u001b[0;34m\u001b[0m\u001b[0m\n\u001b[1;32m    312\u001b[0m             )\n",
            "\u001b[0;31mTypeError\u001b[0m: first argument must be an iterable of pandas objects, you passed an object of type \"DataFrame\""
          ]
        }
      ]
    },
    {
      "cell_type": "code",
      "metadata": {
        "colab": {
          "base_uri": "https://localhost:8080/",
          "height": 374
        },
        "id": "ubLSaZFmBcni",
        "outputId": "5d5a28c8-399b-4b16-c4f3-e61973c29c2b"
      },
      "source": [
        "df.head()"
      ],
      "execution_count": 13,
      "outputs": [
        {
          "output_type": "execute_result",
          "data": {
            "text/html": [
              "<div>\n",
              "<style scoped>\n",
              "    .dataframe tbody tr th:only-of-type {\n",
              "        vertical-align: middle;\n",
              "    }\n",
              "\n",
              "    .dataframe tbody tr th {\n",
              "        vertical-align: top;\n",
              "    }\n",
              "\n",
              "    .dataframe thead th {\n",
              "        text-align: right;\n",
              "    }\n",
              "</style>\n",
              "<table border=\"1\" class=\"dataframe\">\n",
              "  <thead>\n",
              "    <tr style=\"text-align: right;\">\n",
              "      <th></th>\n",
              "      <th>title</th>\n",
              "      <th>day</th>\n",
              "      <th>genre</th>\n",
              "      <th>story</th>\n",
              "      <th>platform</th>\n",
              "      <th>t_image</th>\n",
              "    </tr>\n",
              "  </thead>\n",
              "  <tbody>\n",
              "    <tr>\n",
              "      <th>0</th>\n",
              "      <td>우선 남동생부터 숨기자</td>\n",
              "      <td>월</td>\n",
              "      <td>로판만화</td>\n",
              "      <td>하필이면 19금 다공일수 피폐 만화에 수의 하나뿐인 누나로 빙의하고 말았다! 재수없...</td>\n",
              "      <td>카카오페이지</td>\n",
              "      <td>cHyfs/hy41GaQT02/8lTAkYiB5MqJuKdoSmJEBK</td>\n",
              "    </tr>\n",
              "    <tr>\n",
              "      <th>1</th>\n",
              "      <td>이번 생은 가주가 되겠습니다</td>\n",
              "      <td>월</td>\n",
              "      <td>로판만화</td>\n",
              "      <td>한번 해 보자. 내가 가주가 되는 거야. 제국에서 제일가는 가문, 롬바르디의 사생아...</td>\n",
              "      <td>카카오페이지</td>\n",
              "      <td>cDeRi1/hyVkDNZUdD/WyUnrIQ0gkyKdkLzL5ajh1</td>\n",
              "    </tr>\n",
              "    <tr>\n",
              "      <th>2</th>\n",
              "      <td>묵향 다크레이디</td>\n",
              "      <td>월</td>\n",
              "      <td>소년만화</td>\n",
              "      <td>마교의 교주로서 극강의 무공을 자랑하던 묵향은 적들 혈교 에 의해 생전 처음 보는 ...</td>\n",
              "      <td>카카오페이지</td>\n",
              "      <td>9Eoo5/hyATyGp2En/pYYjRkJJIrpHEvDible6T0</td>\n",
              "    </tr>\n",
              "    <tr>\n",
              "      <th>3</th>\n",
              "      <td>튜토리얼이 너무 어렵다</td>\n",
              "      <td>월</td>\n",
              "      <td>소년만화</td>\n",
              "      <td>퓨전 판타지 장편소설 39 튜토리얼이 너무 어렵다 39 가 웹툰으로 독자 여러분을 ...</td>\n",
              "      <td>카카오페이지</td>\n",
              "      <td>cof1Bi/hyQ9Q45PWC/L84IXRvtte4PTzZS6dXbB0</td>\n",
              "    </tr>\n",
              "    <tr>\n",
              "      <th>4</th>\n",
              "      <td>8클래스 마법사의 회귀</td>\n",
              "      <td>월</td>\n",
              "      <td>소년만화</td>\n",
              "      <td>황제 라그나르와 통일 제국을 위해 손에 피를 묻히길 수십 년. 나는 고향으로 돌아가...</td>\n",
              "      <td>카카오페이지</td>\n",
              "      <td>HrHN1/hy41P6FJKt/FCR6J7pW8bFVRQVJx7Mlo0</td>\n",
              "    </tr>\n",
              "  </tbody>\n",
              "</table>\n",
              "</div>"
            ],
            "text/plain": [
              "             title day  ... platform                                   t_image\n",
              "0     우선 남동생부터 숨기자   월  ...   카카오페이지   cHyfs/hy41GaQT02/8lTAkYiB5MqJuKdoSmJEBK\n",
              "1  이번 생은 가주가 되겠습니다   월  ...   카카오페이지  cDeRi1/hyVkDNZUdD/WyUnrIQ0gkyKdkLzL5ajh1\n",
              "2         묵향 다크레이디   월  ...   카카오페이지   9Eoo5/hyATyGp2En/pYYjRkJJIrpHEvDible6T0\n",
              "3     튜토리얼이 너무 어렵다   월  ...   카카오페이지  cof1Bi/hyQ9Q45PWC/L84IXRvtte4PTzZS6dXbB0\n",
              "4     8클래스 마법사의 회귀   월  ...   카카오페이지   HrHN1/hy41P6FJKt/FCR6J7pW8bFVRQVJx7Mlo0\n",
              "\n",
              "[5 rows x 6 columns]"
            ]
          },
          "metadata": {},
          "execution_count": 13
        }
      ]
    },
    {
      "cell_type": "code",
      "metadata": {
        "id": "MkOsri4MCC7l"
      },
      "source": [
        "df_new = df.append(df_com)"
      ],
      "execution_count": 16,
      "outputs": []
    },
    {
      "cell_type": "code",
      "metadata": {
        "colab": {
          "base_uri": "https://localhost:8080/"
        },
        "id": "njqziOg7CoxT",
        "outputId": "5449782b-a1b6-463b-d5ab-51803f8f717d"
      },
      "source": [
        "df_new.info()"
      ],
      "execution_count": 17,
      "outputs": [
        {
          "output_type": "stream",
          "name": "stdout",
          "text": [
            "<class 'pandas.core.frame.DataFrame'>\n",
            "Int64Index: 1704 entries, 0 to 851\n",
            "Data columns (total 6 columns):\n",
            " #   Column    Non-Null Count  Dtype \n",
            "---  ------    --------------  ----- \n",
            " 0   title     1704 non-null   object\n",
            " 1   day       1704 non-null   object\n",
            " 2   genre     1704 non-null   object\n",
            " 3   story     1704 non-null   object\n",
            " 4   platform  1704 non-null   object\n",
            " 5   t_image   1704 non-null   object\n",
            "dtypes: object(6)\n",
            "memory usage: 93.2+ KB\n"
          ]
        }
      ]
    },
    {
      "cell_type": "code",
      "metadata": {
        "id": "fQTazRlICsOa"
      },
      "source": [
        "df_new.to_csv(PATH+'kakao_total.csv',index=False,encoding='cp949')"
      ],
      "execution_count": 19,
      "outputs": []
    },
    {
      "cell_type": "code",
      "metadata": {
        "id": "hgij3h2FC8uJ"
      },
      "source": [
        "df_new=pd.read_csv(PATH+'kakao_total.csv',encoding='cp949')"
      ],
      "execution_count": 49,
      "outputs": []
    },
    {
      "cell_type": "code",
      "metadata": {
        "colab": {
          "base_uri": "https://localhost:8080/",
          "height": 419
        },
        "id": "oPol0B1nDHf6",
        "outputId": "f24f746c-0d4f-4643-fe58-54e38d9bcf9a"
      },
      "source": [
        "df_new[df_new.story.str.contains('작가')==True]"
      ],
      "execution_count": 50,
      "outputs": [
        {
          "output_type": "execute_result",
          "data": {
            "text/html": [
              "<div>\n",
              "<style scoped>\n",
              "    .dataframe tbody tr th:only-of-type {\n",
              "        vertical-align: middle;\n",
              "    }\n",
              "\n",
              "    .dataframe tbody tr th {\n",
              "        vertical-align: top;\n",
              "    }\n",
              "\n",
              "    .dataframe thead th {\n",
              "        text-align: right;\n",
              "    }\n",
              "</style>\n",
              "<table border=\"1\" class=\"dataframe\">\n",
              "  <thead>\n",
              "    <tr style=\"text-align: right;\">\n",
              "      <th></th>\n",
              "      <th>title</th>\n",
              "      <th>day</th>\n",
              "      <th>genre</th>\n",
              "      <th>story</th>\n",
              "      <th>platform</th>\n",
              "      <th>t_image</th>\n",
              "    </tr>\n",
              "  </thead>\n",
              "  <tbody>\n",
              "    <tr>\n",
              "      <th>2</th>\n",
              "      <td>묵향 다크레이디</td>\n",
              "      <td>월</td>\n",
              "      <td>소년만화</td>\n",
              "      <td>마교의 교주로서 극강의 무공을 자랑하던 묵향은 적들 혈교 에 의해 생전 처음 보는 ...</td>\n",
              "      <td>카카오페이지</td>\n",
              "      <td>9Eoo5/hyATyGp2En/pYYjRkJJIrpHEvDible6T0</td>\n",
              "    </tr>\n",
              "    <tr>\n",
              "      <th>12</th>\n",
              "      <td>모시던 아가씨가 도련님이 되어버렸다</td>\n",
              "      <td>월</td>\n",
              "      <td>로판만화</td>\n",
              "      <td>조연에 빙의한 지 9년 차, 모시던 아가씨가 도련님이 되어 찾아왔다. 원작 여주인공...</td>\n",
              "      <td>카카오페이지</td>\n",
              "      <td>kgsCz/hyQ9Vr8k7X/BZkPQfJRXDKRfX9aj2eQwK</td>\n",
              "    </tr>\n",
              "    <tr>\n",
              "      <th>20</th>\n",
              "      <td>망할 가문을 살려보겠습니다</td>\n",
              "      <td>월</td>\n",
              "      <td>로판만화</td>\n",
              "      <td>구성작가로 치열하게 살아가던 나 지연우는 비명횡사 후 동료작가가 재미로 쓴 소설 오...</td>\n",
              "      <td>카카오페이지</td>\n",
              "      <td>bGDZhi/hyATrglAdk/8FZPnniPpdRXJdkFeigRAk</td>\n",
              "    </tr>\n",
              "    <tr>\n",
              "      <th>34</th>\n",
              "      <td>혼자 레벨업 합니다</td>\n",
              "      <td>월</td>\n",
              "      <td>소년만화</td>\n",
              "      <td>짐꾼으로 일하던 한열. 오매불망 기다리던 각성과 함께 헌터가 되다! 그런데 이게 웬...</td>\n",
              "      <td>카카오페이지</td>\n",
              "      <td>wlZx2/hyLja89qAj/6SovvSku1KkpKSZsP68P6K</td>\n",
              "    </tr>\n",
              "    <tr>\n",
              "      <th>38</th>\n",
              "      <td>투파창궁</td>\n",
              "      <td>월</td>\n",
              "      <td>소년만화</td>\n",
              "      <td>중국 최고 화제의 작품! 대륙의 전설! 카카오페이지 독점 연재! 화려한 마법도 눈부...</td>\n",
              "      <td>카카오페이지</td>\n",
              "      <td>b6q4kR/hyATuw8DZk/R98naJzBHeSsV8AGdkAHX1</td>\n",
              "    </tr>\n",
              "    <tr>\n",
              "      <th>...</th>\n",
              "      <td>...</td>\n",
              "      <td>...</td>\n",
              "      <td>...</td>\n",
              "      <td>...</td>\n",
              "      <td>...</td>\n",
              "      <td>...</td>\n",
              "    </tr>\n",
              "    <tr>\n",
              "      <th>1574</th>\n",
              "      <td>갓블레스유</td>\n",
              "      <td>완결</td>\n",
              "      <td>로판만화</td>\n",
              "      <td>여성종합격투기 챔피언 신은혜 . 세상에서 가장 강한 여자지만 정작 은혜는 곁에 애인...</td>\n",
              "      <td>카카오페이지</td>\n",
              "      <td>bGhwNX/hyVkMdvhYF/jUKTt7HG1kKypUuV8Dkkg0</td>\n",
              "    </tr>\n",
              "    <tr>\n",
              "      <th>1623</th>\n",
              "      <td>로그인 러브시티</td>\n",
              "      <td>완결</td>\n",
              "      <td>로맨스만화</td>\n",
              "      <td>낮에는 욕쟁이 처녀 삼겹살집 대박 맛집 의 지배인, 밤에는 할리퀸 로맨스 작가인 황...</td>\n",
              "      <td>카카오페이지</td>\n",
              "      <td>x5gVV/hyEdc7PqsV/obqVO0qhGLJ0gFvPGtdVb1</td>\n",
              "    </tr>\n",
              "    <tr>\n",
              "      <th>1626</th>\n",
              "      <td>컴비 마이티처[BL]</td>\n",
              "      <td>완결</td>\n",
              "      <td>BL/GL만화</td>\n",
              "      <td>매주 목요일 준비된 어시 임지하! 선생님의 마음도 사로잡아 보겠습니다! 웹툰 열혈학...</td>\n",
              "      <td>카카오페이지</td>\n",
              "      <td>dZmHN/hyF28PD4iH/p7yigiV5jzTL3IhkmP0TW0</td>\n",
              "    </tr>\n",
              "    <tr>\n",
              "      <th>1678</th>\n",
              "      <td>혼의 나라</td>\n",
              "      <td>완결</td>\n",
              "      <td>소년만화</td>\n",
              "      <td>아픔과 상처로 가득한 귀신들을 위한 극락왕생 프로젝트! 용비불패 , 고수 스토리작가...</td>\n",
              "      <td>카카오페이지</td>\n",
              "      <td>cAyrFA/hyCvkT0tQA/asneLkESzevgck0NsxCRG1</td>\n",
              "    </tr>\n",
              "    <tr>\n",
              "      <th>1693</th>\n",
              "      <td>치렐루야</td>\n",
              "      <td>완결</td>\n",
              "      <td>드라마만화</td>\n",
              "      <td>와! 치킨! 맛있겠다! 오, 쟤네 잘생겼다! 어? 근데 이거 개그만화냐?! 치킨 그...</td>\n",
              "      <td>카카오페이지</td>\n",
              "      <td>yLNfd/hyLjhaeuSP/Al3p44k3dBGVnW7a7o4LmK</td>\n",
              "    </tr>\n",
              "  </tbody>\n",
              "</table>\n",
              "<p>118 rows × 6 columns</p>\n",
              "</div>"
            ],
            "text/plain": [
              "                    title  ...                                   t_image\n",
              "2                묵향 다크레이디  ...   9Eoo5/hyATyGp2En/pYYjRkJJIrpHEvDible6T0\n",
              "12    모시던 아가씨가 도련님이 되어버렸다  ...   kgsCz/hyQ9Vr8k7X/BZkPQfJRXDKRfX9aj2eQwK\n",
              "20         망할 가문을 살려보겠습니다  ...  bGDZhi/hyATrglAdk/8FZPnniPpdRXJdkFeigRAk\n",
              "34             혼자 레벨업 합니다  ...   wlZx2/hyLja89qAj/6SovvSku1KkpKSZsP68P6K\n",
              "38                   투파창궁  ...  b6q4kR/hyATuw8DZk/R98naJzBHeSsV8AGdkAHX1\n",
              "...                   ...  ...                                       ...\n",
              "1574                갓블레스유  ...  bGhwNX/hyVkMdvhYF/jUKTt7HG1kKypUuV8Dkkg0\n",
              "1623             로그인 러브시티  ...   x5gVV/hyEdc7PqsV/obqVO0qhGLJ0gFvPGtdVb1\n",
              "1626          컴비 마이티처[BL]  ...   dZmHN/hyF28PD4iH/p7yigiV5jzTL3IhkmP0TW0\n",
              "1678                혼의 나라  ...  cAyrFA/hyCvkT0tQA/asneLkESzevgck0NsxCRG1\n",
              "1693                 치렐루야  ...   yLNfd/hyLjhaeuSP/Al3p44k3dBGVnW7a7o4LmK\n",
              "\n",
              "[118 rows x 6 columns]"
            ]
          },
          "metadata": {},
          "execution_count": 50
        }
      ]
    },
    {
      "cell_type": "code",
      "metadata": {
        "colab": {
          "base_uri": "https://localhost:8080/",
          "height": 71
        },
        "id": "NOVqExZ6DdMp",
        "outputId": "9f735471-6f91-44f8-d0dc-0b5ce7a58459"
      },
      "source": [
        "df_new.iloc[2,3]"
      ],
      "execution_count": 51,
      "outputs": [
        {
          "output_type": "execute_result",
          "data": {
            "application/vnd.google.colaboratory.intrinsic+json": {
              "type": "string"
            },
            "text/plain": [
              "'마교의 교주로서 극강의 무공을 자랑하던 묵향은 적들 혈교 에 의해 생전 처음 보는 생소한 이세계 판타지 세계 로 떨어지게 된다. 그곳에서 엘프, 마법사, 기사, 드래곤 등 새로운 존재들과 만나며... 무림 최고수 묵향이 원래 자신의 세상 무림 으로 돌아가기 위해 긴 모험을 떠나게 된다는 스토리. 한국의 무협소설과 판타지 문학을 사랑하는 수많은 독자들이 기다려왔던 초대형 이벤트 웹툰계를 뒤흔들 다시없을 프로젝트가 시작된다! 1999년부터 시작된 전설, 누계부수 300만부... 무협소설과 판타지문학을 접목시킨 기념비적인 장르소설인 묵향 이 드디어 만화화!! 한국 무협판타지의 한 획을 그었던 전동조 작가의 메가히트 장르소설 묵향 을 만화화! 만화의 내용은 원작의 2부격인 다크레이디 편에서부터 시작한다.'"
            ]
          },
          "metadata": {},
          "execution_count": 51
        }
      ]
    },
    {
      "cell_type": "code",
      "metadata": {
        "colab": {
          "base_uri": "https://localhost:8080/"
        },
        "id": "PnS_roY3DpGi",
        "outputId": "d0236499-64aa-4ab8-de80-9869891e80cd"
      },
      "source": [
        "df_new[df_new['title']=='치렐루야']['story']"
      ],
      "execution_count": 52,
      "outputs": [
        {
          "output_type": "execute_result",
          "data": {
            "text/plain": [
              "1693    와! 치킨! 맛있겠다! 오, 쟤네 잘생겼다! 어? 근데 이거 개그만화냐?! 치킨 그...\n",
              "Name: story, dtype: object"
            ]
          },
          "metadata": {},
          "execution_count": 52
        }
      ]
    },
    {
      "cell_type": "code",
      "metadata": {
        "colab": {
          "base_uri": "https://localhost:8080/",
          "height": 35
        },
        "id": "sIgkWk9GEr9k",
        "outputId": "427127b0-718b-4e0f-e03a-5fba738e022f"
      },
      "source": [
        "df_new.loc[1693,'story']"
      ],
      "execution_count": 53,
      "outputs": [
        {
          "output_type": "execute_result",
          "data": {
            "application/vnd.google.colaboratory.intrinsic+json": {
              "type": "string"
            },
            "text/plain": [
              "'와! 치킨! 맛있겠다! 오, 쟤네 잘생겼다! 어? 근데 이거 개그만화냐?! 치킨 그림이 그리고 싶어 시작한 작가의 주체 못할 개그 욕심이 하필 정신 나간 담당자를 만나 폭발한다. 개그만화와 치킨만화, 로맨스를 넘나드는 치킨블록버스터!!! 치킨 협찬 대환영'"
            ]
          },
          "metadata": {},
          "execution_count": 53
        }
      ]
    },
    {
      "cell_type": "code",
      "metadata": {
        "colab": {
          "base_uri": "https://localhost:8080/",
          "height": 419
        },
        "id": "l70ZVfGwFlTa",
        "outputId": "69097748-d5be-41cb-930c-2069b9edb0e1"
      },
      "source": [
        "df_new[df_new.story.str.contains('이야기')==True]"
      ],
      "execution_count": 54,
      "outputs": [
        {
          "output_type": "execute_result",
          "data": {
            "text/html": [
              "<div>\n",
              "<style scoped>\n",
              "    .dataframe tbody tr th:only-of-type {\n",
              "        vertical-align: middle;\n",
              "    }\n",
              "\n",
              "    .dataframe tbody tr th {\n",
              "        vertical-align: top;\n",
              "    }\n",
              "\n",
              "    .dataframe thead th {\n",
              "        text-align: right;\n",
              "    }\n",
              "</style>\n",
              "<table border=\"1\" class=\"dataframe\">\n",
              "  <thead>\n",
              "    <tr style=\"text-align: right;\">\n",
              "      <th></th>\n",
              "      <th>title</th>\n",
              "      <th>day</th>\n",
              "      <th>genre</th>\n",
              "      <th>story</th>\n",
              "      <th>platform</th>\n",
              "      <th>t_image</th>\n",
              "    </tr>\n",
              "  </thead>\n",
              "  <tbody>\n",
              "    <tr>\n",
              "      <th>10</th>\n",
              "      <td>그 악녀를 조심하세요!</td>\n",
              "      <td>월</td>\n",
              "      <td>로판만화</td>\n",
              "      <td>소설 속 희대의 악녀에 빙의했다! 싫냐고? 아니? 좋은데? 공작영애 돈 많은 백수인...</td>\n",
              "      <td>카카오페이지</td>\n",
              "      <td>b9wDps/hyVkKzLpZS/aXx0NSbjgedCXjciKvwkfk</td>\n",
              "    </tr>\n",
              "    <tr>\n",
              "      <th>12</th>\n",
              "      <td>모시던 아가씨가 도련님이 되어버렸다</td>\n",
              "      <td>월</td>\n",
              "      <td>로판만화</td>\n",
              "      <td>조연에 빙의한 지 9년 차, 모시던 아가씨가 도련님이 되어 찾아왔다. 원작 여주인공...</td>\n",
              "      <td>카카오페이지</td>\n",
              "      <td>kgsCz/hyQ9Vr8k7X/BZkPQfJRXDKRfX9aj2eQwK</td>\n",
              "    </tr>\n",
              "    <tr>\n",
              "      <th>18</th>\n",
              "      <td>독고3 [완전판]</td>\n",
              "      <td>월</td>\n",
              "      <td>소년만화</td>\n",
              "      <td>독고3 모든 일에 의욕을 잃고 표류하던 태진은 과거 당영고 씨름부 주장이었던 심상윤...</td>\n",
              "      <td>카카오페이지</td>\n",
              "      <td>iki74/hyATquUtXS/yuLaGvsL04VfHfusl7aOMK</td>\n",
              "    </tr>\n",
              "    <tr>\n",
              "      <th>43</th>\n",
              "      <td>엘피스 전기: SOUL LAND</td>\n",
              "      <td>월</td>\n",
              "      <td>소년만화</td>\n",
              "      <td>사천당문의 제자였던 전생의 기억을 갖고 판타지 세계에서 새로 태어난 주인공 앨런, ...</td>\n",
              "      <td>카카오페이지</td>\n",
              "      <td>divjk/hyCvmp5CZg/N2Aj7T2NwxFBC9IVHoBG6k</td>\n",
              "    </tr>\n",
              "    <tr>\n",
              "      <th>48</th>\n",
              "      <td>봄날의 팔광</td>\n",
              "      <td>월</td>\n",
              "      <td>로판만화</td>\n",
              "      <td>옛날 옛날에 호랑이에 쫓겨 밧줄을 타고 올라가 해와 달이 된 오누이. 그중 달님이 ...</td>\n",
              "      <td>카카오페이지</td>\n",
              "      <td>blEJhS/hyZ8CjWdHc/FleqSrg5m1qMrTTo9tqTK1</td>\n",
              "    </tr>\n",
              "    <tr>\n",
              "      <th>...</th>\n",
              "      <td>...</td>\n",
              "      <td>...</td>\n",
              "      <td>...</td>\n",
              "      <td>...</td>\n",
              "      <td>...</td>\n",
              "      <td>...</td>\n",
              "    </tr>\n",
              "    <tr>\n",
              "      <th>1653</th>\n",
              "      <td>판도라의 상자</td>\n",
              "      <td>완결</td>\n",
              "      <td>드라마만화</td>\n",
              "      <td>독자의 마음 속 깊은 곳의 공포를 끌어내는 연출을 축으로 이야기가 전개되면서도, 때...</td>\n",
              "      <td>카카오페이지</td>\n",
              "      <td>cPC26B/hyCRdNOAea/qcBINM7661g7x9zXfBNio0</td>\n",
              "    </tr>\n",
              "    <tr>\n",
              "      <th>1659</th>\n",
              "      <td>인어의 연못</td>\n",
              "      <td>완결</td>\n",
              "      <td>로판만화</td>\n",
              "      <td>사람과 인어 우연한 그들의 만남, 그들의 특별한 이야기</td>\n",
              "      <td>카카오페이지</td>\n",
              "      <td>dmrAXO/hyLi8i8Yxs/EQeBgCByE9lEvUBYMTO6bk</td>\n",
              "    </tr>\n",
              "    <tr>\n",
              "      <th>1677</th>\n",
              "      <td>소야신집</td>\n",
              "      <td>완결</td>\n",
              "      <td>드라마만화</td>\n",
              "      <td>세상엔 여러가지 이유로 전해지지 못한 말들이 있습니다. 어느 날 갑자기 말 을 보게...</td>\n",
              "      <td>카카오페이지</td>\n",
              "      <td>WtMqt/hyLjclxAiX/f2vMABeqvFW3CtiN7CQHi1</td>\n",
              "    </tr>\n",
              "    <tr>\n",
              "      <th>1685</th>\n",
              "      <td>회장님의 그림체만 다르다</td>\n",
              "      <td>완결</td>\n",
              "      <td>로맨스만화</td>\n",
              "      <td>뉴본 연구실의 연구원 오새벽. 완벽한 인간을 만들기 위한 프로젝트를 연구 중이던 그...</td>\n",
              "      <td>카카오페이지</td>\n",
              "      <td>tdycC/hyCvhbnXWI/ZBxVC5cDzssuS1dMQmKqLK</td>\n",
              "    </tr>\n",
              "    <tr>\n",
              "      <th>1703</th>\n",
              "      <td>이름이 뭐예요? [BL] [개정판]</td>\n",
              "      <td>완결</td>\n",
              "      <td>BL/GL만화</td>\n",
              "      <td>35 학원물 35 오해물 35 삽질물 35 반전매력공 35 오해했수 35 입덕당해버...</td>\n",
              "      <td>카카오페이지</td>\n",
              "      <td>jlPRU/hzb7uf0Yhk/RTRdKt2YIGj81k8vcYirwK</td>\n",
              "    </tr>\n",
              "  </tbody>\n",
              "</table>\n",
              "<p>203 rows × 6 columns</p>\n",
              "</div>"
            ],
            "text/plain": [
              "                    title  ...                                   t_image\n",
              "10           그 악녀를 조심하세요!  ...  b9wDps/hyVkKzLpZS/aXx0NSbjgedCXjciKvwkfk\n",
              "12    모시던 아가씨가 도련님이 되어버렸다  ...   kgsCz/hyQ9Vr8k7X/BZkPQfJRXDKRfX9aj2eQwK\n",
              "18              독고3 [완전판]  ...   iki74/hyATquUtXS/yuLaGvsL04VfHfusl7aOMK\n",
              "43      엘피스 전기: SOUL LAND  ...   divjk/hyCvmp5CZg/N2Aj7T2NwxFBC9IVHoBG6k\n",
              "48                 봄날의 팔광  ...  blEJhS/hyZ8CjWdHc/FleqSrg5m1qMrTTo9tqTK1\n",
              "...                   ...  ...                                       ...\n",
              "1653              판도라의 상자  ...  cPC26B/hyCRdNOAea/qcBINM7661g7x9zXfBNio0\n",
              "1659               인어의 연못  ...  dmrAXO/hyLi8i8Yxs/EQeBgCByE9lEvUBYMTO6bk\n",
              "1677                 소야신집  ...   WtMqt/hyLjclxAiX/f2vMABeqvFW3CtiN7CQHi1\n",
              "1685        회장님의 그림체만 다르다  ...   tdycC/hyCvhbnXWI/ZBxVC5cDzssuS1dMQmKqLK\n",
              "1703  이름이 뭐예요? [BL] [개정판]  ...   jlPRU/hzb7uf0Yhk/RTRdKt2YIGj81k8vcYirwK\n",
              "\n",
              "[203 rows x 6 columns]"
            ]
          },
          "metadata": {},
          "execution_count": 54
        }
      ]
    },
    {
      "cell_type": "code",
      "metadata": {
        "colab": {
          "base_uri": "https://localhost:8080/",
          "height": 53
        },
        "id": "s72vZtlFOQjX",
        "outputId": "0f9abc9b-b963-403b-86fd-b2e8697a898b"
      },
      "source": [
        "df_new.loc[1703,'story']"
      ],
      "execution_count": 55,
      "outputs": [
        {
          "output_type": "execute_result",
          "data": {
            "application/vnd.google.colaboratory.intrinsic+json": {
              "type": "string"
            },
            "text/plain": [
              "'35 학원물 35 오해물 35 삽질물 35 반전매력공 35 오해했수 35 입덕당해버렸수 스토킹남을 떼어내기 위해 노력하는 서 찬. 자신은 스트레이트라고 이야기하지만 남자는 믿어주지 않는다. 찬은 같은 조 팀원에게 도움을 요청하고, 그렇게 만나게 된 강수연 . 약속 당일, 카페에 온 강수연은 여자가 아닌 남자...? 당연히 여자인 줄 알았던..... 그녀..... 아니 그는.....키 188에 훤칠한 남자로 오해는 더욱 커져만 가는데...!?'"
            ]
          },
          "metadata": {},
          "execution_count": 55
        }
      ]
    },
    {
      "cell_type": "code",
      "metadata": {
        "id": "CKRBqepAOskb"
      },
      "source": [
        ""
      ],
      "execution_count": null,
      "outputs": []
    }
  ]
}