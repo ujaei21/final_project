{
  "nbformat": 4,
  "nbformat_minor": 0,
  "metadata": {
    "colab": {
      "name": "total_data.ipynb",
      "provenance": []
    },
    "kernelspec": {
      "name": "python3",
      "display_name": "Python 3"
    },
    "language_info": {
      "name": "python"
    }
  },
  "cells": [
    {
      "cell_type": "code",
      "metadata": {
        "id": "LgEtKzyxe8Yi"
      },
      "source": [
        "import pandas as pd\n",
        "path = '/content/drive/MyDrive/Colab Notebooks/final/'"
      ],
      "execution_count": 1,
      "outputs": []
    },
    {
      "cell_type": "code",
      "metadata": {
        "id": "7IcAWfdlfRFU"
      },
      "source": [
        "# 카카오 페이지 웹툰\n",
        "kp = pd.read_csv(path+'kakao_total.csv',encoding='cp949')"
      ],
      "execution_count": 4,
      "outputs": []
    },
    {
      "cell_type": "code",
      "metadata": {
        "colab": {
          "base_uri": "https://localhost:8080/",
          "height": 204
        },
        "id": "NCn4uAZ8feb2",
        "outputId": "59245f22-cbf8-4236-abd4-de13df224ad4"
      },
      "source": [
        "kp.head()"
      ],
      "execution_count": 5,
      "outputs": [
        {
          "output_type": "execute_result",
          "data": {
            "text/html": [
              "<div>\n",
              "<style scoped>\n",
              "    .dataframe tbody tr th:only-of-type {\n",
              "        vertical-align: middle;\n",
              "    }\n",
              "\n",
              "    .dataframe tbody tr th {\n",
              "        vertical-align: top;\n",
              "    }\n",
              "\n",
              "    .dataframe thead th {\n",
              "        text-align: right;\n",
              "    }\n",
              "</style>\n",
              "<table border=\"1\" class=\"dataframe\">\n",
              "  <thead>\n",
              "    <tr style=\"text-align: right;\">\n",
              "      <th></th>\n",
              "      <th>title</th>\n",
              "      <th>day</th>\n",
              "      <th>genre</th>\n",
              "      <th>story</th>\n",
              "      <th>platform</th>\n",
              "      <th>t_image</th>\n",
              "    </tr>\n",
              "  </thead>\n",
              "  <tbody>\n",
              "    <tr>\n",
              "      <th>0</th>\n",
              "      <td>우선 남동생부터 숨기자</td>\n",
              "      <td>월</td>\n",
              "      <td>로판만화</td>\n",
              "      <td>하필이면 19금 다공일수 피폐 만화에 수의 하나뿐인 누나로 빙의하고 말았다! 재수없...</td>\n",
              "      <td>카카오페이지</td>\n",
              "      <td>cHyfs/hy41GaQT02/8lTAkYiB5MqJuKdoSmJEBK</td>\n",
              "    </tr>\n",
              "    <tr>\n",
              "      <th>1</th>\n",
              "      <td>이번 생은 가주가 되겠습니다</td>\n",
              "      <td>월</td>\n",
              "      <td>로판만화</td>\n",
              "      <td>한번 해 보자. 내가 가주가 되는 거야. 제국에서 제일가는 가문, 롬바르디의 사생아...</td>\n",
              "      <td>카카오페이지</td>\n",
              "      <td>cDeRi1/hyVkDNZUdD/WyUnrIQ0gkyKdkLzL5ajh1</td>\n",
              "    </tr>\n",
              "    <tr>\n",
              "      <th>2</th>\n",
              "      <td>묵향 다크레이디</td>\n",
              "      <td>월</td>\n",
              "      <td>소년만화</td>\n",
              "      <td>마교의 교주로서 극강의 무공을 자랑하던 묵향은 적들 혈교 에 의해 생전 처음 보는 ...</td>\n",
              "      <td>카카오페이지</td>\n",
              "      <td>9Eoo5/hyATyGp2En/pYYjRkJJIrpHEvDible6T0</td>\n",
              "    </tr>\n",
              "    <tr>\n",
              "      <th>3</th>\n",
              "      <td>튜토리얼이 너무 어렵다</td>\n",
              "      <td>월</td>\n",
              "      <td>소년만화</td>\n",
              "      <td>퓨전 판타지 장편소설 39 튜토리얼이 너무 어렵다 39 가 웹툰으로 독자 여러분을 ...</td>\n",
              "      <td>카카오페이지</td>\n",
              "      <td>cof1Bi/hyQ9Q45PWC/L84IXRvtte4PTzZS6dXbB0</td>\n",
              "    </tr>\n",
              "    <tr>\n",
              "      <th>4</th>\n",
              "      <td>8클래스 마법사의 회귀</td>\n",
              "      <td>월</td>\n",
              "      <td>소년만화</td>\n",
              "      <td>황제 라그나르와 통일 제국을 위해 손에 피를 묻히길 수십 년. 나는 고향으로 돌아가...</td>\n",
              "      <td>카카오페이지</td>\n",
              "      <td>HrHN1/hy41P6FJKt/FCR6J7pW8bFVRQVJx7Mlo0</td>\n",
              "    </tr>\n",
              "  </tbody>\n",
              "</table>\n",
              "</div>"
            ],
            "text/plain": [
              "             title day  ... platform                                   t_image\n",
              "0     우선 남동생부터 숨기자   월  ...   카카오페이지   cHyfs/hy41GaQT02/8lTAkYiB5MqJuKdoSmJEBK\n",
              "1  이번 생은 가주가 되겠습니다   월  ...   카카오페이지  cDeRi1/hyVkDNZUdD/WyUnrIQ0gkyKdkLzL5ajh1\n",
              "2         묵향 다크레이디   월  ...   카카오페이지   9Eoo5/hyATyGp2En/pYYjRkJJIrpHEvDible6T0\n",
              "3     튜토리얼이 너무 어렵다   월  ...   카카오페이지  cof1Bi/hyQ9Q45PWC/L84IXRvtte4PTzZS6dXbB0\n",
              "4     8클래스 마법사의 회귀   월  ...   카카오페이지   HrHN1/hy41P6FJKt/FCR6J7pW8bFVRQVJx7Mlo0\n",
              "\n",
              "[5 rows x 6 columns]"
            ]
          },
          "metadata": {},
          "execution_count": 5
        }
      ]
    },
    {
      "cell_type": "code",
      "metadata": {
        "colab": {
          "base_uri": "https://localhost:8080/",
          "height": 204
        },
        "id": "E46FinnQjynl",
        "outputId": "babe7e7a-ec89-4e9c-b15e-c24a5f9f9a5d"
      },
      "source": [
        "kp.tail()"
      ],
      "execution_count": 17,
      "outputs": [
        {
          "output_type": "execute_result",
          "data": {
            "text/html": [
              "<div>\n",
              "<style scoped>\n",
              "    .dataframe tbody tr th:only-of-type {\n",
              "        vertical-align: middle;\n",
              "    }\n",
              "\n",
              "    .dataframe tbody tr th {\n",
              "        vertical-align: top;\n",
              "    }\n",
              "\n",
              "    .dataframe thead th {\n",
              "        text-align: right;\n",
              "    }\n",
              "</style>\n",
              "<table border=\"1\" class=\"dataframe\">\n",
              "  <thead>\n",
              "    <tr style=\"text-align: right;\">\n",
              "      <th></th>\n",
              "      <th>title</th>\n",
              "      <th>day</th>\n",
              "      <th>genre</th>\n",
              "      <th>story</th>\n",
              "      <th>platform</th>\n",
              "      <th>t_image</th>\n",
              "    </tr>\n",
              "  </thead>\n",
              "  <tbody>\n",
              "    <tr>\n",
              "      <th>1699</th>\n",
              "      <td>아이무드(iMood)</td>\n",
              "      <td>완결</td>\n",
              "      <td>드라마만화</td>\n",
              "      <td>인간의 감정을 통제하는 마이크로칩, . 그리고 어린 시절 눈 앞에서 엄마를 잃은 소...</td>\n",
              "      <td>카카오페이지</td>\n",
              "      <td>dlOaL/hyEdlwgTcj/beEmFcuKKLaknYihlE6PD0</td>\n",
              "    </tr>\n",
              "    <tr>\n",
              "      <th>1700</th>\n",
              "      <td>코드네임 카마엘</td>\n",
              "      <td>완결</td>\n",
              "      <td>액션무협만화</td>\n",
              "      <td>어린시절, 괴한에게 부모를 잃은 소녀는 39 카마엘 39 이라는 이름으로 도시의 범...</td>\n",
              "      <td>카카오페이지</td>\n",
              "      <td>oz1NG/hyEdjepacG/EKjiFHnFHZajo8XmefatLk</td>\n",
              "    </tr>\n",
              "    <tr>\n",
              "      <th>1701</th>\n",
              "      <td>아이갓츄!(I got you!)</td>\n",
              "      <td>완결</td>\n",
              "      <td>소년만화</td>\n",
              "      <td>전국 검거율 1위를 자랑하는 경찰청의 에이스 여형사 하소연! 형사로서의 탁월한 능력...</td>\n",
              "      <td>카카오페이지</td>\n",
              "      <td>Zyasl/hyATqVU4VF/eC9bkX7K7km9EEK6uHEHiK</td>\n",
              "    </tr>\n",
              "    <tr>\n",
              "      <th>1702</th>\n",
              "      <td>레인돌</td>\n",
              "      <td>완결</td>\n",
              "      <td>드라마만화</td>\n",
              "      <td>어느 날, 갑자기 좀비처럼 변해버린 사람들. 출동하라! 레인돌!! 토끼와 병아리와 ...</td>\n",
              "      <td>카카오페이지</td>\n",
              "      <td>b6OYCu/hyF28P3CA8/kI6Zi0mGuCsfApp1rwrtn0</td>\n",
              "    </tr>\n",
              "    <tr>\n",
              "      <th>1703</th>\n",
              "      <td>이름이 뭐예요? [BL] [개정판]</td>\n",
              "      <td>완결</td>\n",
              "      <td>BL/GL만화</td>\n",
              "      <td>35 학원물 35 오해물 35 삽질물 35 반전매력공 35 오해했수 35 입덕당해버...</td>\n",
              "      <td>카카오페이지</td>\n",
              "      <td>jlPRU/hzb7uf0Yhk/RTRdKt2YIGj81k8vcYirwK</td>\n",
              "    </tr>\n",
              "  </tbody>\n",
              "</table>\n",
              "</div>"
            ],
            "text/plain": [
              "                    title  ...                                   t_image\n",
              "1699          아이무드(iMood)  ...   dlOaL/hyEdlwgTcj/beEmFcuKKLaknYihlE6PD0\n",
              "1700             코드네임 카마엘  ...   oz1NG/hyEdjepacG/EKjiFHnFHZajo8XmefatLk\n",
              "1701    아이갓츄!(I got you!)  ...   Zyasl/hyATqVU4VF/eC9bkX7K7km9EEK6uHEHiK\n",
              "1702                  레인돌  ...  b6OYCu/hyF28P3CA8/kI6Zi0mGuCsfApp1rwrtn0\n",
              "1703  이름이 뭐예요? [BL] [개정판]  ...   jlPRU/hzb7uf0Yhk/RTRdKt2YIGj81k8vcYirwK\n",
              "\n",
              "[5 rows x 6 columns]"
            ]
          },
          "metadata": {},
          "execution_count": 17
        }
      ]
    },
    {
      "cell_type": "code",
      "metadata": {
        "id": "wfs2YI62fsVT"
      },
      "source": [
        "kp_mon = pd.read_csv(path+'kp_mon.csv',encoding='cp949')"
      ],
      "execution_count": 6,
      "outputs": []
    },
    {
      "cell_type": "code",
      "metadata": {
        "id": "urWUfcYLf6y7"
      },
      "source": [
        "# 카카코웹툰 소설\n",
        "knp=pd.read_csv(path+'kakao_novel_completed.csv',encoding='cp949')"
      ],
      "execution_count": 11,
      "outputs": []
    },
    {
      "cell_type": "code",
      "metadata": {
        "colab": {
          "base_uri": "https://localhost:8080/"
        },
        "id": "61LpBeFwgWU0",
        "outputId": "962e2edb-e3fa-42ec-b2b3-e55d0bb61958"
      },
      "source": [
        "knp.iloc[0,[1,4]]"
      ],
      "execution_count": 13,
      "outputs": [
        {
          "output_type": "execute_result",
          "data": {
            "text/plain": [
              "title                                          김 비서가 왜 그럴까\n",
              "story    천상천하유아독존, 신이 빚어낸 마스터피스, 이 세상 내 맘대로 안 되는 건 없는 유...\n",
              "Name: 0, dtype: object"
            ]
          },
          "metadata": {},
          "execution_count": 13
        }
      ]
    },
    {
      "cell_type": "code",
      "metadata": {
        "colab": {
          "base_uri": "https://localhost:8080/",
          "height": 204
        },
        "id": "_NmUfNwZgvBM",
        "outputId": "25613fec-abc9-4b22-d894-65dae7437996"
      },
      "source": [
        "knp.head()"
      ],
      "execution_count": 14,
      "outputs": [
        {
          "output_type": "execute_result",
          "data": {
            "text/html": [
              "<div>\n",
              "<style scoped>\n",
              "    .dataframe tbody tr th:only-of-type {\n",
              "        vertical-align: middle;\n",
              "    }\n",
              "\n",
              "    .dataframe tbody tr th {\n",
              "        vertical-align: top;\n",
              "    }\n",
              "\n",
              "    .dataframe thead th {\n",
              "        text-align: right;\n",
              "    }\n",
              "</style>\n",
              "<table border=\"1\" class=\"dataframe\">\n",
              "  <thead>\n",
              "    <tr style=\"text-align: right;\">\n",
              "      <th></th>\n",
              "      <th>Unnamed: 0</th>\n",
              "      <th>title</th>\n",
              "      <th>day</th>\n",
              "      <th>genre</th>\n",
              "      <th>story</th>\n",
              "      <th>platform</th>\n",
              "      <th>Thumbnail</th>\n",
              "    </tr>\n",
              "  </thead>\n",
              "  <tbody>\n",
              "    <tr>\n",
              "      <th>0</th>\n",
              "      <td>0</td>\n",
              "      <td>김 비서가 왜 그럴까</td>\n",
              "      <td>완결</td>\n",
              "      <td>NaN</td>\n",
              "      <td>천상천하유아독존, 신이 빚어낸 마스터피스, 이 세상 내 맘대로 안 되는 건 없는 유...</td>\n",
              "      <td>카카오웹툰</td>\n",
              "      <td>https://kr-a.kakaopagecdn.com/P/C/2307/c2/2x/c...</td>\n",
              "    </tr>\n",
              "    <tr>\n",
              "      <th>1</th>\n",
              "      <td>1</td>\n",
              "      <td>사내 맞선</td>\n",
              "      <td>완결</td>\n",
              "      <td>NaN</td>\n",
              "      <td>친구를 대신해 나간 맞선 자리. 목표는 차이는 것! 컨셉은 남녀 가리지 않는 섹시 ...</td>\n",
              "      <td>카카오웹툰</td>\n",
              "      <td>https://kr-a.kakaopagecdn.com/P/C/2054/c2/2x/0...</td>\n",
              "    </tr>\n",
              "    <tr>\n",
              "      <th>2</th>\n",
              "      <td>2</td>\n",
              "      <td>묵향 디 오리진</td>\n",
              "      <td>완결</td>\n",
              "      <td>NaN</td>\n",
              "      <td>수많은 세력이 패권을 다투던 드넓은 중원의 무림. 어릴 적 마교에 납치되어 암살자로...</td>\n",
              "      <td>카카오웹툰</td>\n",
              "      <td>https://kr-a.kakaopagecdn.com/P/C/2468/c2/2x/9...</td>\n",
              "    </tr>\n",
              "    <tr>\n",
              "      <th>3</th>\n",
              "      <td>3</td>\n",
              "      <td>군림단주</td>\n",
              "      <td>완결</td>\n",
              "      <td>NaN</td>\n",
              "      <td>첫째, 영광스러운 순간에만 군림단의 이름을 입에 올려야 한다. 첫째, 임무는 직속 ...</td>\n",
              "      <td>카카오웹툰</td>\n",
              "      <td>https://kr-a.kakaopagecdn.com/P/C/2425/c2/2x/2...</td>\n",
              "    </tr>\n",
              "    <tr>\n",
              "      <th>4</th>\n",
              "      <td>4</td>\n",
              "      <td>그림자 황비</td>\n",
              "      <td>완결</td>\n",
              "      <td>NaN</td>\n",
              "      <td>내 딸이 되어줄 수 있겠느냐? 프란체 대공의 제안으로 가짜 딸이 된 엘레나. 황비가...</td>\n",
              "      <td>카카오웹툰</td>\n",
              "      <td>https://kr-a.kakaopagecdn.com/P/C/2405/c2/2x/c...</td>\n",
              "    </tr>\n",
              "  </tbody>\n",
              "</table>\n",
              "</div>"
            ],
            "text/plain": [
              "   Unnamed: 0  ...                                          Thumbnail\n",
              "0           0  ...  https://kr-a.kakaopagecdn.com/P/C/2307/c2/2x/c...\n",
              "1           1  ...  https://kr-a.kakaopagecdn.com/P/C/2054/c2/2x/0...\n",
              "2           2  ...  https://kr-a.kakaopagecdn.com/P/C/2468/c2/2x/9...\n",
              "3           3  ...  https://kr-a.kakaopagecdn.com/P/C/2425/c2/2x/2...\n",
              "4           4  ...  https://kr-a.kakaopagecdn.com/P/C/2405/c2/2x/c...\n",
              "\n",
              "[5 rows x 7 columns]"
            ]
          },
          "metadata": {},
          "execution_count": 14
        }
      ]
    },
    {
      "cell_type": "code",
      "metadata": {
        "colab": {
          "base_uri": "https://localhost:8080/",
          "height": 204
        },
        "id": "oS1ZRJ6yhihV",
        "outputId": "7ee31b24-295b-4587-bd2c-8b53ce6cf16b"
      },
      "source": [
        "# 카카오 웹툰\n",
        "encoding='cp949'\n",
        "kw = pd.read_csv(path+'kakao.csv',encoding=encoding)\n",
        "kw.head()"
      ],
      "execution_count": 16,
      "outputs": [
        {
          "output_type": "execute_result",
          "data": {
            "text/html": [
              "<div>\n",
              "<style scoped>\n",
              "    .dataframe tbody tr th:only-of-type {\n",
              "        vertical-align: middle;\n",
              "    }\n",
              "\n",
              "    .dataframe tbody tr th {\n",
              "        vertical-align: top;\n",
              "    }\n",
              "\n",
              "    .dataframe thead th {\n",
              "        text-align: right;\n",
              "    }\n",
              "</style>\n",
              "<table border=\"1\" class=\"dataframe\">\n",
              "  <thead>\n",
              "    <tr style=\"text-align: right;\">\n",
              "      <th></th>\n",
              "      <th>Unnamed: 0</th>\n",
              "      <th>title</th>\n",
              "      <th>day</th>\n",
              "      <th>genre</th>\n",
              "      <th>story</th>\n",
              "      <th>platform</th>\n",
              "    </tr>\n",
              "  </thead>\n",
              "  <tbody>\n",
              "    <tr>\n",
              "      <th>0</th>\n",
              "      <td>0</td>\n",
              "      <td>바니와 오빠들</td>\n",
              "      <td>월</td>\n",
              "      <td>NaN</td>\n",
              "      <td>외모 따지지 않는 개념녀 ? 아니, 나 완전 얼빠 야! 신입생 시절, 남자의 외모를...</td>\n",
              "      <td>카카오웹툰</td>\n",
              "    </tr>\n",
              "    <tr>\n",
              "      <th>1</th>\n",
              "      <td>1</td>\n",
              "      <td>사귄 건 아닌데</td>\n",
              "      <td>월</td>\n",
              "      <td>NaN</td>\n",
              "      <td>스물아홉 살, 서른을 목전에 둔 나이. 고수아는 그 나이가 괜히 심란하다. 고향을 ...</td>\n",
              "      <td>카카오웹툰</td>\n",
              "    </tr>\n",
              "    <tr>\n",
              "      <th>2</th>\n",
              "      <td>2</td>\n",
              "      <td>액괴</td>\n",
              "      <td>월</td>\n",
              "      <td>NaN</td>\n",
              "      <td>일진들에게 수모를 당하며 황색망사점균을 먹게 된 교내 왕따 수와 진오. 그로 인해 ...</td>\n",
              "      <td>카카오웹툰</td>\n",
              "    </tr>\n",
              "    <tr>\n",
              "      <th>3</th>\n",
              "      <td>3</td>\n",
              "      <td>그 책에 마음을 주지 마세요</td>\n",
              "      <td>월</td>\n",
              "      <td>NaN</td>\n",
              "      <td>로맨스 피폐 소설 루스벨라의 빛 엑스트라인 황제의 여덟 번째 황녀로 환생에 새로운 ...</td>\n",
              "      <td>카카오웹툰</td>\n",
              "    </tr>\n",
              "    <tr>\n",
              "      <th>4</th>\n",
              "      <td>4</td>\n",
              "      <td>오무라이스 잼잼</td>\n",
              "      <td>월</td>\n",
              "      <td>NaN</td>\n",
              "      <td>음식 과 가족 의 이야기를 담은 에세이 만화. 몇 개라도 먹을 수 있을 것 같은 메...</td>\n",
              "      <td>카카오웹툰</td>\n",
              "    </tr>\n",
              "  </tbody>\n",
              "</table>\n",
              "</div>"
            ],
            "text/plain": [
              "   Unnamed: 0  ... platform\n",
              "0           0  ...    카카오웹툰\n",
              "1           1  ...    카카오웹툰\n",
              "2           2  ...    카카오웹툰\n",
              "3           3  ...    카카오웹툰\n",
              "4           4  ...    카카오웹툰\n",
              "\n",
              "[5 rows x 6 columns]"
            ]
          },
          "metadata": {},
          "execution_count": 16
        }
      ]
    },
    {
      "cell_type": "code",
      "metadata": {
        "colab": {
          "base_uri": "https://localhost:8080/",
          "height": 204
        },
        "id": "8kKMSX_wiMUj",
        "outputId": "498b8296-aa56-4b01-afd6-ada57be91400"
      },
      "source": [
        "kw.tail()"
      ],
      "execution_count": 18,
      "outputs": [
        {
          "output_type": "execute_result",
          "data": {
            "text/html": [
              "<div>\n",
              "<style scoped>\n",
              "    .dataframe tbody tr th:only-of-type {\n",
              "        vertical-align: middle;\n",
              "    }\n",
              "\n",
              "    .dataframe tbody tr th {\n",
              "        vertical-align: top;\n",
              "    }\n",
              "\n",
              "    .dataframe thead th {\n",
              "        text-align: right;\n",
              "    }\n",
              "</style>\n",
              "<table border=\"1\" class=\"dataframe\">\n",
              "  <thead>\n",
              "    <tr style=\"text-align: right;\">\n",
              "      <th></th>\n",
              "      <th>Unnamed: 0</th>\n",
              "      <th>title</th>\n",
              "      <th>day</th>\n",
              "      <th>genre</th>\n",
              "      <th>story</th>\n",
              "      <th>platform</th>\n",
              "    </tr>\n",
              "  </thead>\n",
              "  <tbody>\n",
              "    <tr>\n",
              "      <th>181</th>\n",
              "      <td>181</td>\n",
              "      <td>내 친구는 선녀보살</td>\n",
              "      <td>일</td>\n",
              "      <td>NaN</td>\n",
              "      <td>겉보기에는 에서 유명한 인싸 고등학생 무당으로 살고 있는 김선녀! 그러나 선녀가 를...</td>\n",
              "      <td>카카오웹툰</td>\n",
              "    </tr>\n",
              "    <tr>\n",
              "      <th>182</th>\n",
              "      <td>182</td>\n",
              "      <td>하렘생존기</td>\n",
              "      <td>일</td>\n",
              "      <td>NaN</td>\n",
              "      <td>같은 날 하렘에 들어오게 된 두 소녀, 나스챠와 아샤. 같은 이름, 같은 색 머리카...</td>\n",
              "      <td>카카오웹툰</td>\n",
              "    </tr>\n",
              "    <tr>\n",
              "      <th>183</th>\n",
              "      <td>183</td>\n",
              "      <td>크라우드</td>\n",
              "      <td>일</td>\n",
              "      <td>NaN</td>\n",
              "      <td>세상엔 쓰레기 같은 일진만 있을 뿐이다. 일진 펀딩 앱 울타리 ! 펀딩 성공 시, ...</td>\n",
              "      <td>카카오웹툰</td>\n",
              "    </tr>\n",
              "    <tr>\n",
              "      <th>184</th>\n",
              "      <td>184</td>\n",
              "      <td>씨방것들</td>\n",
              "      <td>일</td>\n",
              "      <td>NaN</td>\n",
              "      <td>웬만한 연예인보다 핫하다는 대한민국 최고의 관종 가족 방씨 일가 돈 많고 잘났지만 ...</td>\n",
              "      <td>카카오웹툰</td>\n",
              "    </tr>\n",
              "    <tr>\n",
              "      <th>185</th>\n",
              "      <td>185</td>\n",
              "      <td>미래의 사진</td>\n",
              "      <td>일</td>\n",
              "      <td>NaN</td>\n",
              "      <td>아무래도 이 카메라, 미래가 찍히는 것 같은데..?! 사진 찍는 것을 좋아하는 평범...</td>\n",
              "      <td>카카오웹툰</td>\n",
              "    </tr>\n",
              "  </tbody>\n",
              "</table>\n",
              "</div>"
            ],
            "text/plain": [
              "     Unnamed: 0  ... platform\n",
              "181         181  ...    카카오웹툰\n",
              "182         182  ...    카카오웹툰\n",
              "183         183  ...    카카오웹툰\n",
              "184         184  ...    카카오웹툰\n",
              "185         185  ...    카카오웹툰\n",
              "\n",
              "[5 rows x 6 columns]"
            ]
          },
          "metadata": {},
          "execution_count": 18
        }
      ]
    },
    {
      "cell_type": "code",
      "metadata": {
        "colab": {
          "base_uri": "https://localhost:8080/"
        },
        "id": "PCiD5pHckTLg",
        "outputId": "1d81f8b7-8d97-473d-de2e-0c1875683a2a"
      },
      "source": [
        "kw.day.unique()"
      ],
      "execution_count": 19,
      "outputs": [
        {
          "output_type": "execute_result",
          "data": {
            "text/plain": [
              "array(['월', '화', '수', '목', '금', '토', '일'], dtype=object)"
            ]
          },
          "metadata": {},
          "execution_count": 19
        }
      ]
    },
    {
      "cell_type": "code",
      "metadata": {
        "colab": {
          "base_uri": "https://localhost:8080/"
        },
        "id": "nIlyt9PekXFF",
        "outputId": "2199cad2-bcf5-42a6-a6e0-efa17bbb3f17"
      },
      "source": [
        "kw.title.value_counts()"
      ],
      "execution_count": 20,
      "outputs": [
        {
          "output_type": "execute_result",
          "data": {
            "text/plain": [
              "니니툰즈                             5\n",
              "조국이 당신을 원한다                      2\n",
              "21’ LCK 서머 : Summer is Coming    2\n",
              "이토록 보통의                          2\n",
              "퀴퀴한 일기                           2\n",
              "                                ..\n",
              "남의 사랑 이야기                        1\n",
              "닭은 의외로 위대하다                      1\n",
              "후궁공략                             1\n",
              "바니와 오빠들                          1\n",
              "개목걸이                             1\n",
              "Name: title, Length: 178, dtype: int64"
            ]
          },
          "metadata": {},
          "execution_count": 20
        }
      ]
    },
    {
      "cell_type": "code",
      "metadata": {
        "colab": {
          "base_uri": "https://localhost:8080/"
        },
        "id": "nCCjitO0qPnO",
        "outputId": "f2c385a8-9a73-4dbb-f640-8db4393a17fd"
      },
      "source": [
        "kw.drop_duplicates('title',inplace=True)\n",
        "kw.title.value_counts()"
      ],
      "execution_count": 21,
      "outputs": [
        {
          "output_type": "execute_result",
          "data": {
            "text/plain": [
              "함께 춤을          1\n",
              "뽀짜툰            1\n",
              "하나하나둘          1\n",
              "신랑이 사라졌다       1\n",
              "트레이스 리마스터      1\n",
              "              ..\n",
              "방구석 여포         1\n",
              "멀리서 보면 푸른 봄    1\n",
              "남의 사랑 이야기      1\n",
              "닭은 의외로 위대하다    1\n",
              "개목걸이           1\n",
              "Name: title, Length: 178, dtype: int64"
            ]
          },
          "metadata": {},
          "execution_count": 21
        }
      ]
    },
    {
      "cell_type": "markdown",
      "metadata": {
        "id": "TtHksie4rhIh"
      },
      "source": [
        "카카오 페이지 (웹툰-통합)\\\n",
        "카카오 웹툰 (웹툰 - 연재,완결, 소설완결)"
      ]
    },
    {
      "cell_type": "code",
      "metadata": {
        "id": "8tFrsuM8qbwr"
      },
      "source": [
        "# 카카오 웹툰 완결\n",
        "kwp=pd.read_csv(path+'kakao_completed.csv',encoding=encoding)"
      ],
      "execution_count": 24,
      "outputs": []
    },
    {
      "cell_type": "code",
      "metadata": {
        "id": "aleHJgxDtFxT"
      },
      "source": [
        "kw_total = kw.append(kwp)"
      ],
      "execution_count": 26,
      "outputs": []
    },
    {
      "cell_type": "code",
      "metadata": {
        "colab": {
          "base_uri": "https://localhost:8080/",
          "height": 204
        },
        "id": "0ZrZRPLLudgG",
        "outputId": "79cffcb4-2c13-487b-b897-69ea314a1d01"
      },
      "source": [
        "kw_total.tail()"
      ],
      "execution_count": 27,
      "outputs": [
        {
          "output_type": "execute_result",
          "data": {
            "text/html": [
              "<div>\n",
              "<style scoped>\n",
              "    .dataframe tbody tr th:only-of-type {\n",
              "        vertical-align: middle;\n",
              "    }\n",
              "\n",
              "    .dataframe tbody tr th {\n",
              "        vertical-align: top;\n",
              "    }\n",
              "\n",
              "    .dataframe thead th {\n",
              "        text-align: right;\n",
              "    }\n",
              "</style>\n",
              "<table border=\"1\" class=\"dataframe\">\n",
              "  <thead>\n",
              "    <tr style=\"text-align: right;\">\n",
              "      <th></th>\n",
              "      <th>Unnamed: 0</th>\n",
              "      <th>title</th>\n",
              "      <th>day</th>\n",
              "      <th>genre</th>\n",
              "      <th>story</th>\n",
              "      <th>platform</th>\n",
              "      <th>Thumbnail</th>\n",
              "    </tr>\n",
              "  </thead>\n",
              "  <tbody>\n",
              "    <tr>\n",
              "      <th>637</th>\n",
              "      <td>637</td>\n",
              "      <td>놀아죠 패밀리</td>\n",
              "      <td>완결</td>\n",
              "      <td>NaN</td>\n",
              "      <td>네티즌들과 재밌고 감동적인 이야기를 나누고 싶은 남지은 작가의 데뷔작.</td>\n",
              "      <td>카카오웹툰</td>\n",
              "      <td>https://kr-a.kakaopagecdn.com/P/C/5/c2/2x/e4ac...</td>\n",
              "    </tr>\n",
              "    <tr>\n",
              "      <th>638</th>\n",
              "      <td>638</td>\n",
              "      <td>바보</td>\n",
              "      <td>완결</td>\n",
              "      <td>NaN</td>\n",
              "      <td>강풀 순정만화 씨즌2 바보. 겨울내내 가슴 속에 따뜻한 사랑과 웃음을 심어주었던 작품</td>\n",
              "      <td>카카오웹툰</td>\n",
              "      <td>https://kr-a.kakaopagecdn.com/P/C/8/c2/2x/539f...</td>\n",
              "    </tr>\n",
              "    <tr>\n",
              "      <th>639</th>\n",
              "      <td>639</td>\n",
              "      <td>아파트</td>\n",
              "      <td>완결</td>\n",
              "      <td>NaN</td>\n",
              "      <td>강풀만이 그려낼 수 있는 만화속 공포. 2006년 영화로 제작되어 화제를 모으기도 했다.</td>\n",
              "      <td>카카오웹툰</td>\n",
              "      <td>https://kr-a.kakaopagecdn.com/P/C/6/c2/2x/7eea...</td>\n",
              "    </tr>\n",
              "    <tr>\n",
              "      <th>640</th>\n",
              "      <td>640</td>\n",
              "      <td>순정만화</td>\n",
              "      <td>완결</td>\n",
              "      <td>NaN</td>\n",
              "      <td>강풀 작가의 대표작품인 순정만화 . 2004년 최고의 히트작품</td>\n",
              "      <td>카카오웹툰</td>\n",
              "      <td>https://kr-a.kakaopagecdn.com/P/C/4/c2/2x/6de5...</td>\n",
              "    </tr>\n",
              "    <tr>\n",
              "      <th>641</th>\n",
              "      <td>641</td>\n",
              "      <td>노력의 卍(만)</td>\n",
              "      <td>완결</td>\n",
              "      <td>NaN</td>\n",
              "      <td>만년 낙제생 태원 . 그의 목표는 아픈 누나를 치유하기 위해 세상을 지배하는 천중궐...</td>\n",
              "      <td>카카오웹툰</td>\n",
              "      <td>https://kr-a.kakaopagecdn.com/P/C/1932/c2/2x/7...</td>\n",
              "    </tr>\n",
              "  </tbody>\n",
              "</table>\n",
              "</div>"
            ],
            "text/plain": [
              "     Unnamed: 0  ...                                          Thumbnail\n",
              "637         637  ...  https://kr-a.kakaopagecdn.com/P/C/5/c2/2x/e4ac...\n",
              "638         638  ...  https://kr-a.kakaopagecdn.com/P/C/8/c2/2x/539f...\n",
              "639         639  ...  https://kr-a.kakaopagecdn.com/P/C/6/c2/2x/7eea...\n",
              "640         640  ...  https://kr-a.kakaopagecdn.com/P/C/4/c2/2x/6de5...\n",
              "641         641  ...  https://kr-a.kakaopagecdn.com/P/C/1932/c2/2x/7...\n",
              "\n",
              "[5 rows x 7 columns]"
            ]
          },
          "metadata": {},
          "execution_count": 27
        }
      ]
    },
    {
      "cell_type": "code",
      "metadata": {
        "id": "kCnRKvYhuo-T"
      },
      "source": [
        "kw_total.drop('Unnamed: 0',axis=1,inplace=True)"
      ],
      "execution_count": 28,
      "outputs": []
    },
    {
      "cell_type": "code",
      "metadata": {
        "colab": {
          "base_uri": "https://localhost:8080/",
          "height": 204
        },
        "id": "J1TrXcbZuxuu",
        "outputId": "a49fe742-d60d-43ca-b938-4a609c64a1ea"
      },
      "source": [
        "kw_total.head()"
      ],
      "execution_count": 29,
      "outputs": [
        {
          "output_type": "execute_result",
          "data": {
            "text/html": [
              "<div>\n",
              "<style scoped>\n",
              "    .dataframe tbody tr th:only-of-type {\n",
              "        vertical-align: middle;\n",
              "    }\n",
              "\n",
              "    .dataframe tbody tr th {\n",
              "        vertical-align: top;\n",
              "    }\n",
              "\n",
              "    .dataframe thead th {\n",
              "        text-align: right;\n",
              "    }\n",
              "</style>\n",
              "<table border=\"1\" class=\"dataframe\">\n",
              "  <thead>\n",
              "    <tr style=\"text-align: right;\">\n",
              "      <th></th>\n",
              "      <th>title</th>\n",
              "      <th>day</th>\n",
              "      <th>genre</th>\n",
              "      <th>story</th>\n",
              "      <th>platform</th>\n",
              "      <th>Thumbnail</th>\n",
              "    </tr>\n",
              "  </thead>\n",
              "  <tbody>\n",
              "    <tr>\n",
              "      <th>0</th>\n",
              "      <td>바니와 오빠들</td>\n",
              "      <td>월</td>\n",
              "      <td>NaN</td>\n",
              "      <td>외모 따지지 않는 개념녀 ? 아니, 나 완전 얼빠 야! 신입생 시절, 남자의 외모를...</td>\n",
              "      <td>카카오웹툰</td>\n",
              "      <td>NaN</td>\n",
              "    </tr>\n",
              "    <tr>\n",
              "      <th>1</th>\n",
              "      <td>사귄 건 아닌데</td>\n",
              "      <td>월</td>\n",
              "      <td>NaN</td>\n",
              "      <td>스물아홉 살, 서른을 목전에 둔 나이. 고수아는 그 나이가 괜히 심란하다. 고향을 ...</td>\n",
              "      <td>카카오웹툰</td>\n",
              "      <td>NaN</td>\n",
              "    </tr>\n",
              "    <tr>\n",
              "      <th>2</th>\n",
              "      <td>액괴</td>\n",
              "      <td>월</td>\n",
              "      <td>NaN</td>\n",
              "      <td>일진들에게 수모를 당하며 황색망사점균을 먹게 된 교내 왕따 수와 진오. 그로 인해 ...</td>\n",
              "      <td>카카오웹툰</td>\n",
              "      <td>NaN</td>\n",
              "    </tr>\n",
              "    <tr>\n",
              "      <th>3</th>\n",
              "      <td>그 책에 마음을 주지 마세요</td>\n",
              "      <td>월</td>\n",
              "      <td>NaN</td>\n",
              "      <td>로맨스 피폐 소설 루스벨라의 빛 엑스트라인 황제의 여덟 번째 황녀로 환생에 새로운 ...</td>\n",
              "      <td>카카오웹툰</td>\n",
              "      <td>NaN</td>\n",
              "    </tr>\n",
              "    <tr>\n",
              "      <th>4</th>\n",
              "      <td>오무라이스 잼잼</td>\n",
              "      <td>월</td>\n",
              "      <td>NaN</td>\n",
              "      <td>음식 과 가족 의 이야기를 담은 에세이 만화. 몇 개라도 먹을 수 있을 것 같은 메...</td>\n",
              "      <td>카카오웹툰</td>\n",
              "      <td>NaN</td>\n",
              "    </tr>\n",
              "  </tbody>\n",
              "</table>\n",
              "</div>"
            ],
            "text/plain": [
              "             title day  ...  platform Thumbnail\n",
              "0          바니와 오빠들   월  ...     카카오웹툰       NaN\n",
              "1         사귄 건 아닌데   월  ...     카카오웹툰       NaN\n",
              "2               액괴   월  ...     카카오웹툰       NaN\n",
              "3  그 책에 마음을 주지 마세요   월  ...     카카오웹툰       NaN\n",
              "4         오무라이스 잼잼   월  ...     카카오웹툰       NaN\n",
              "\n",
              "[5 rows x 6 columns]"
            ]
          },
          "metadata": {},
          "execution_count": 29
        }
      ]
    },
    {
      "cell_type": "code",
      "metadata": {
        "id": "saz4Pv9iu2J0"
      },
      "source": [
        "kw_total.drop('Thumbnail',axis=1,inplace=True)"
      ],
      "execution_count": 31,
      "outputs": []
    },
    {
      "cell_type": "code",
      "metadata": {
        "colab": {
          "base_uri": "https://localhost:8080/",
          "height": 80
        },
        "id": "ZaHQp9MSvJR8",
        "outputId": "b7e917c8-34f4-43ce-d140-dd355407a7cd"
      },
      "source": [
        "kw_total.head(1)"
      ],
      "execution_count": 32,
      "outputs": [
        {
          "output_type": "execute_result",
          "data": {
            "text/html": [
              "<div>\n",
              "<style scoped>\n",
              "    .dataframe tbody tr th:only-of-type {\n",
              "        vertical-align: middle;\n",
              "    }\n",
              "\n",
              "    .dataframe tbody tr th {\n",
              "        vertical-align: top;\n",
              "    }\n",
              "\n",
              "    .dataframe thead th {\n",
              "        text-align: right;\n",
              "    }\n",
              "</style>\n",
              "<table border=\"1\" class=\"dataframe\">\n",
              "  <thead>\n",
              "    <tr style=\"text-align: right;\">\n",
              "      <th></th>\n",
              "      <th>title</th>\n",
              "      <th>day</th>\n",
              "      <th>genre</th>\n",
              "      <th>story</th>\n",
              "      <th>platform</th>\n",
              "    </tr>\n",
              "  </thead>\n",
              "  <tbody>\n",
              "    <tr>\n",
              "      <th>0</th>\n",
              "      <td>바니와 오빠들</td>\n",
              "      <td>월</td>\n",
              "      <td>NaN</td>\n",
              "      <td>외모 따지지 않는 개념녀 ? 아니, 나 완전 얼빠 야! 신입생 시절, 남자의 외모를...</td>\n",
              "      <td>카카오웹툰</td>\n",
              "    </tr>\n",
              "  </tbody>\n",
              "</table>\n",
              "</div>"
            ],
            "text/plain": [
              "     title day  ...                                              story platform\n",
              "0  바니와 오빠들   월  ...  외모 따지지 않는 개념녀 ? 아니, 나 완전 얼빠 야! 신입생 시절, 남자의 외모를...    카카오웹툰\n",
              "\n",
              "[1 rows x 5 columns]"
            ]
          },
          "metadata": {},
          "execution_count": 32
        }
      ]
    },
    {
      "cell_type": "code",
      "metadata": {
        "colab": {
          "base_uri": "https://localhost:8080/"
        },
        "id": "xKF13vKavSyj",
        "outputId": "c06ee5f3-454b-41fd-a09f-32792a4700bb"
      },
      "source": [
        "kw_total.title.value_counts()"
      ],
      "execution_count": 33,
      "outputs": [
        {
          "output_type": "execute_result",
          "data": {
            "text/plain": [
              "갱스쿨                2\n",
              "아버지의 복수는 끝이 없어라    2\n",
              "폭군황제의 첫사랑          2\n",
              "늑대처럼 울어라           1\n",
              "20세 보고서            1\n",
              "                  ..\n",
              "까칠한 임작가의 만화그리기     1\n",
              "천연 天緣              1\n",
              "내추럴 리드미칼2          1\n",
              "밤의 새벽              1\n",
              "개목걸이               1\n",
              "Name: title, Length: 817, dtype: int64"
            ]
          },
          "metadata": {},
          "execution_count": 33
        }
      ]
    },
    {
      "cell_type": "code",
      "metadata": {
        "id": "E_aHmIrEvoUG"
      },
      "source": [
        "kw_total.reset_index(inplace=True)"
      ],
      "execution_count": 37,
      "outputs": []
    },
    {
      "cell_type": "code",
      "metadata": {
        "colab": {
          "base_uri": "https://localhost:8080/",
          "height": 111
        },
        "id": "lrsPzeP8vbGD",
        "outputId": "8651782c-f5d0-4a43-edaa-a4cde5ade2ed"
      },
      "source": [
        "kw_total[kw_total.title=='폭군황제의 첫사랑']"
      ],
      "execution_count": 40,
      "outputs": [
        {
          "output_type": "execute_result",
          "data": {
            "text/html": [
              "<div>\n",
              "<style scoped>\n",
              "    .dataframe tbody tr th:only-of-type {\n",
              "        vertical-align: middle;\n",
              "    }\n",
              "\n",
              "    .dataframe tbody tr th {\n",
              "        vertical-align: top;\n",
              "    }\n",
              "\n",
              "    .dataframe thead th {\n",
              "        text-align: right;\n",
              "    }\n",
              "</style>\n",
              "<table border=\"1\" class=\"dataframe\">\n",
              "  <thead>\n",
              "    <tr style=\"text-align: right;\">\n",
              "      <th></th>\n",
              "      <th>index</th>\n",
              "      <th>title</th>\n",
              "      <th>day</th>\n",
              "      <th>genre</th>\n",
              "      <th>story</th>\n",
              "      <th>platform</th>\n",
              "    </tr>\n",
              "  </thead>\n",
              "  <tbody>\n",
              "    <tr>\n",
              "      <th>123</th>\n",
              "      <td>128</td>\n",
              "      <td>폭군황제의 첫사랑</td>\n",
              "      <td>금</td>\n",
              "      <td>NaN</td>\n",
              "      <td>기억을 잃은 소녀 디아 놀스 남작가의 하녀로 괴로운 나날을 보내고 있던 중 잔혹한 ...</td>\n",
              "      <td>카카오웹툰</td>\n",
              "    </tr>\n",
              "    <tr>\n",
              "      <th>228</th>\n",
              "      <td>50</td>\n",
              "      <td>폭군황제의 첫사랑</td>\n",
              "      <td>완결</td>\n",
              "      <td>NaN</td>\n",
              "      <td>기억을 잃은 소녀 디아 놀스 남작가의 하녀로 괴로운 나날을 보내고 있던 중 잔혹한 ...</td>\n",
              "      <td>카카오웹툰</td>\n",
              "    </tr>\n",
              "  </tbody>\n",
              "</table>\n",
              "</div>"
            ],
            "text/plain": [
              "     index  ... platform\n",
              "123    128  ...    카카오웹툰\n",
              "228     50  ...    카카오웹툰\n",
              "\n",
              "[2 rows x 6 columns]"
            ]
          },
          "metadata": {},
          "execution_count": 40
        }
      ]
    },
    {
      "cell_type": "code",
      "metadata": {
        "id": "cHNik2J8vi8b"
      },
      "source": [
        "kw_total.drop_duplicates('title',inplace=True)"
      ],
      "execution_count": 41,
      "outputs": []
    },
    {
      "cell_type": "code",
      "metadata": {
        "id": "DsCGVS5bwIpd"
      },
      "source": [
        "kw_total.to_csv(path+'kakaoweb.csv',encoding='utf-8',index=False)"
      ],
      "execution_count": 42,
      "outputs": []
    },
    {
      "cell_type": "code",
      "metadata": {
        "id": "0BpSH4kXwohb"
      },
      "source": [
        "naka=pd.read_csv(path+'na_ka.csv')"
      ],
      "execution_count": 44,
      "outputs": []
    },
    {
      "cell_type": "code",
      "metadata": {
        "id": "uKghRUSIw4Lz"
      },
      "source": [
        "kw = pd.read_csv(path + 'kakaoweb.csv')"
      ],
      "execution_count": 46,
      "outputs": []
    },
    {
      "cell_type": "code",
      "metadata": {
        "id": "bZCv4fvWxHg7"
      },
      "source": [
        "kw.drop('index',axis=1,inplace=True)"
      ],
      "execution_count": 48,
      "outputs": []
    },
    {
      "cell_type": "code",
      "metadata": {
        "id": "cK7FGEpsxO48"
      },
      "source": [
        "total = naka.append(kw)"
      ],
      "execution_count": 50,
      "outputs": []
    },
    {
      "cell_type": "code",
      "metadata": {
        "colab": {
          "base_uri": "https://localhost:8080/",
          "height": 204
        },
        "id": "KqbOfh7zxaYj",
        "outputId": "01e5efd6-164f-438b-88bb-e584d9fee288"
      },
      "source": [
        "total.head()"
      ],
      "execution_count": 51,
      "outputs": [
        {
          "output_type": "execute_result",
          "data": {
            "text/html": [
              "<div>\n",
              "<style scoped>\n",
              "    .dataframe tbody tr th:only-of-type {\n",
              "        vertical-align: middle;\n",
              "    }\n",
              "\n",
              "    .dataframe tbody tr th {\n",
              "        vertical-align: top;\n",
              "    }\n",
              "\n",
              "    .dataframe thead th {\n",
              "        text-align: right;\n",
              "    }\n",
              "</style>\n",
              "<table border=\"1\" class=\"dataframe\">\n",
              "  <thead>\n",
              "    <tr style=\"text-align: right;\">\n",
              "      <th></th>\n",
              "      <th>title</th>\n",
              "      <th>writer</th>\n",
              "      <th>illustrator</th>\n",
              "      <th>genre</th>\n",
              "      <th>story</th>\n",
              "      <th>platform</th>\n",
              "      <th>day</th>\n",
              "    </tr>\n",
              "  </thead>\n",
              "  <tbody>\n",
              "    <tr>\n",
              "      <th>0</th>\n",
              "      <td>우선 남동생부터 숨기자</td>\n",
              "      <td>unknown</td>\n",
              "      <td>unknown</td>\n",
              "      <td>로판만화</td>\n",
              "      <td>하필이면 19금 다공일수 피폐 만화에 수의 하나뿐인 누나로 빙의하고 말았다! 재수없...</td>\n",
              "      <td>카카오페이지</td>\n",
              "      <td>NaN</td>\n",
              "    </tr>\n",
              "    <tr>\n",
              "      <th>1</th>\n",
              "      <td>이번 생은 가주가 되겠습니다</td>\n",
              "      <td>unknown</td>\n",
              "      <td>unknown</td>\n",
              "      <td>로판만화</td>\n",
              "      <td>한번 해 보자. 내가 가주가 되는 거야. 제국에서 제일가는 가문, 롬바르디의 사생아...</td>\n",
              "      <td>카카오페이지</td>\n",
              "      <td>NaN</td>\n",
              "    </tr>\n",
              "    <tr>\n",
              "      <th>2</th>\n",
              "      <td>묵향 다크레이디</td>\n",
              "      <td>unknown</td>\n",
              "      <td>unknown</td>\n",
              "      <td>소년만화</td>\n",
              "      <td>마교의 교주로서 극강의 무공을 자랑하던 묵향은 적들 혈교 에 의해 생전 처음 보는 ...</td>\n",
              "      <td>카카오페이지</td>\n",
              "      <td>NaN</td>\n",
              "    </tr>\n",
              "    <tr>\n",
              "      <th>3</th>\n",
              "      <td>튜토리얼이 너무 어렵다</td>\n",
              "      <td>unknown</td>\n",
              "      <td>unknown</td>\n",
              "      <td>소년만화</td>\n",
              "      <td>퓨전 판타지 장편소설 39 튜토리얼이 너무 어렵다 39 가 웹툰으로 독자 여러분을 ...</td>\n",
              "      <td>카카오페이지</td>\n",
              "      <td>NaN</td>\n",
              "    </tr>\n",
              "    <tr>\n",
              "      <th>4</th>\n",
              "      <td>8클래스 마법사의 회귀</td>\n",
              "      <td>unknown</td>\n",
              "      <td>unknown</td>\n",
              "      <td>소년만화</td>\n",
              "      <td>황제 라그나르와 통일 제국을 위해 손에 피를 묻히길 수십 년. 나는 고향으로 돌아가...</td>\n",
              "      <td>카카오페이지</td>\n",
              "      <td>NaN</td>\n",
              "    </tr>\n",
              "  </tbody>\n",
              "</table>\n",
              "</div>"
            ],
            "text/plain": [
              "             title   writer  ... platform  day\n",
              "0     우선 남동생부터 숨기자  unknown  ...   카카오페이지  NaN\n",
              "1  이번 생은 가주가 되겠습니다  unknown  ...   카카오페이지  NaN\n",
              "2         묵향 다크레이디  unknown  ...   카카오페이지  NaN\n",
              "3     튜토리얼이 너무 어렵다  unknown  ...   카카오페이지  NaN\n",
              "4     8클래스 마법사의 회귀  unknown  ...   카카오페이지  NaN\n",
              "\n",
              "[5 rows x 7 columns]"
            ]
          },
          "metadata": {},
          "execution_count": 51
        }
      ]
    },
    {
      "cell_type": "code",
      "metadata": {
        "colab": {
          "base_uri": "https://localhost:8080/",
          "height": 204
        },
        "id": "t4_LoKtrxjPj",
        "outputId": "b07febbf-2228-4496-9c7a-969847572155"
      },
      "source": [
        "total.tail()"
      ],
      "execution_count": 52,
      "outputs": [
        {
          "output_type": "execute_result",
          "data": {
            "text/html": [
              "<div>\n",
              "<style scoped>\n",
              "    .dataframe tbody tr th:only-of-type {\n",
              "        vertical-align: middle;\n",
              "    }\n",
              "\n",
              "    .dataframe tbody tr th {\n",
              "        vertical-align: top;\n",
              "    }\n",
              "\n",
              "    .dataframe thead th {\n",
              "        text-align: right;\n",
              "    }\n",
              "</style>\n",
              "<table border=\"1\" class=\"dataframe\">\n",
              "  <thead>\n",
              "    <tr style=\"text-align: right;\">\n",
              "      <th></th>\n",
              "      <th>title</th>\n",
              "      <th>writer</th>\n",
              "      <th>illustrator</th>\n",
              "      <th>genre</th>\n",
              "      <th>story</th>\n",
              "      <th>platform</th>\n",
              "      <th>day</th>\n",
              "    </tr>\n",
              "  </thead>\n",
              "  <tbody>\n",
              "    <tr>\n",
              "      <th>812</th>\n",
              "      <td>놀아죠 패밀리</td>\n",
              "      <td>NaN</td>\n",
              "      <td>NaN</td>\n",
              "      <td>NaN</td>\n",
              "      <td>네티즌들과 재밌고 감동적인 이야기를 나누고 싶은 남지은 작가의 데뷔작.</td>\n",
              "      <td>카카오웹툰</td>\n",
              "      <td>완결</td>\n",
              "    </tr>\n",
              "    <tr>\n",
              "      <th>813</th>\n",
              "      <td>바보</td>\n",
              "      <td>NaN</td>\n",
              "      <td>NaN</td>\n",
              "      <td>NaN</td>\n",
              "      <td>강풀 순정만화 씨즌2 바보. 겨울내내 가슴 속에 따뜻한 사랑과 웃음을 심어주었던 작품</td>\n",
              "      <td>카카오웹툰</td>\n",
              "      <td>완결</td>\n",
              "    </tr>\n",
              "    <tr>\n",
              "      <th>814</th>\n",
              "      <td>아파트</td>\n",
              "      <td>NaN</td>\n",
              "      <td>NaN</td>\n",
              "      <td>NaN</td>\n",
              "      <td>강풀만이 그려낼 수 있는 만화속 공포. 2006년 영화로 제작되어 화제를 모으기도 했다.</td>\n",
              "      <td>카카오웹툰</td>\n",
              "      <td>완결</td>\n",
              "    </tr>\n",
              "    <tr>\n",
              "      <th>815</th>\n",
              "      <td>순정만화</td>\n",
              "      <td>NaN</td>\n",
              "      <td>NaN</td>\n",
              "      <td>NaN</td>\n",
              "      <td>강풀 작가의 대표작품인 순정만화 . 2004년 최고의 히트작품</td>\n",
              "      <td>카카오웹툰</td>\n",
              "      <td>완결</td>\n",
              "    </tr>\n",
              "    <tr>\n",
              "      <th>816</th>\n",
              "      <td>노력의 卍(만)</td>\n",
              "      <td>NaN</td>\n",
              "      <td>NaN</td>\n",
              "      <td>NaN</td>\n",
              "      <td>만년 낙제생 태원 . 그의 목표는 아픈 누나를 치유하기 위해 세상을 지배하는 천중궐...</td>\n",
              "      <td>카카오웹툰</td>\n",
              "      <td>완결</td>\n",
              "    </tr>\n",
              "  </tbody>\n",
              "</table>\n",
              "</div>"
            ],
            "text/plain": [
              "        title writer  ... platform day\n",
              "812   놀아죠 패밀리    NaN  ...    카카오웹툰  완결\n",
              "813        바보    NaN  ...    카카오웹툰  완결\n",
              "814       아파트    NaN  ...    카카오웹툰  완결\n",
              "815      순정만화    NaN  ...    카카오웹툰  완결\n",
              "816  노력의 卍(만)    NaN  ...    카카오웹툰  완결\n",
              "\n",
              "[5 rows x 7 columns]"
            ]
          },
          "metadata": {},
          "execution_count": 52
        }
      ]
    },
    {
      "cell_type": "code",
      "metadata": {
        "id": "lb69lIcmxmzb"
      },
      "source": [
        "total.to_csv(path+'naver_kakao.csv',index=False,encoding='utf-8')"
      ],
      "execution_count": 53,
      "outputs": []
    },
    {
      "cell_type": "code",
      "metadata": {
        "id": "jcJtikOsyBPt"
      },
      "source": [
        ""
      ],
      "execution_count": null,
      "outputs": []
    }
  ]
}