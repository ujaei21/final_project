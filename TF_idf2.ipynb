{
  "nbformat": 4,
  "nbformat_minor": 0,
  "metadata": {
    "colab": {
      "name": "TF-idf2",
      "provenance": []
    },
    "kernelspec": {
      "name": "python3",
      "display_name": "Python 3"
    },
    "language_info": {
      "name": "python"
    }
  },
  "cells": [
    {
      "cell_type": "code",
      "metadata": {
        "colab": {
          "base_uri": "https://localhost:8080/"
        },
        "id": "A4IWZTA_wLrb",
        "outputId": "b56ecbdf-4888-47ab-8020-6bd138d36431"
      },
      "source": [
        "!apt-get update \n",
        "!apt-get install g++ openjdk-8-jdk python-dev python3-dev \n",
        "!pip3 install JPype1-py3 \n",
        "!pip3 install konlpy \n",
        "!JAVA_HOME=\"C:\\Program Files\\Java\\jdk-16.0.2\"\n"
      ],
      "execution_count": 1,
      "outputs": [
        {
          "output_type": "stream",
          "name": "stdout",
          "text": [
            "\r0% [Working]\r            \rGet:1 http://security.ubuntu.com/ubuntu bionic-security InRelease [88.7 kB]\n",
            "\r0% [Connecting to archive.ubuntu.com (91.189.88.152)] [1 InRelease 8,379 B/88.7\r                                                                               \rGet:2 https://cloud.r-project.org/bin/linux/ubuntu bionic-cran40/ InRelease [3,626 B]\n",
            "\r0% [Connecting to archive.ubuntu.com (91.189.88.152)] [1 InRelease 8,379 B/88.7\r0% [Connecting to archive.ubuntu.com (91.189.88.152)] [1 InRelease 11.3 kB/88.7\r0% [2 InRelease gpgv 3,626 B] [Connecting to archive.ubuntu.com (91.189.88.152)\r                                                                               \rIgn:3 https://developer.download.nvidia.com/compute/cuda/repos/ubuntu1804/x86_64  InRelease\n",
            "\r0% [2 InRelease gpgv 3,626 B] [Waiting for headers] [1 InRelease 63.4 kB/88.7 k\r0% [2 InRelease gpgv 3,626 B] [Waiting for headers] [Waiting for headers] [Wait\r                                                                               \rHit:4 http://ppa.launchpad.net/c2d4u.team/c2d4u4.0+/ubuntu bionic InRelease\n",
            "\r0% [2 InRelease gpgv 3,626 B] [Waiting for headers] [Connecting to ppa.launchpa\r                                                                               \rHit:5 http://archive.ubuntu.com/ubuntu bionic InRelease\n",
            "\r0% [2 InRelease gpgv 3,626 B] [Waiting for headers] [Connecting to ppa.launchpa\r                                                                               \rIgn:6 https://developer.download.nvidia.com/compute/machine-learning/repos/ubuntu1804/x86_64  InRelease\n",
            "\r0% [2 InRelease gpgv 3,626 B] [Waiting for headers] [Connecting to ppa.launchpa\r                                                                               \rHit:7 https://developer.download.nvidia.com/compute/cuda/repos/ubuntu1804/x86_64  Release\n",
            "\r0% [2 InRelease gpgv 3,626 B] [Waiting for headers] [Connecting to ppa.launchpa\r                                                                               \rHit:8 https://developer.download.nvidia.com/compute/machine-learning/repos/ubuntu1804/x86_64  Release\n",
            "Get:9 http://archive.ubuntu.com/ubuntu bionic-updates InRelease [88.7 kB]\n",
            "Hit:10 http://ppa.launchpad.net/cran/libgit2/ubuntu bionic InRelease\n",
            "Hit:11 http://ppa.launchpad.net/deadsnakes/ppa/ubuntu bionic InRelease\n",
            "Get:12 http://archive.ubuntu.com/ubuntu bionic-backports InRelease [74.6 kB]\n",
            "Hit:13 http://ppa.launchpad.net/graphics-drivers/ppa/ubuntu bionic InRelease\n",
            "Fetched 256 kB in 2s (113 kB/s)\n",
            "Reading package lists... Done\n",
            "Reading package lists... Done\n",
            "Building dependency tree       \n",
            "Reading state information... Done\n",
            "python-dev is already the newest version (2.7.15~rc1-1).\n",
            "g++ is already the newest version (4:7.4.0-1ubuntu2.3).\n",
            "python3-dev is already the newest version (3.6.7-1~18.04).\n",
            "openjdk-8-jdk is already the newest version (8u292-b10-0ubuntu1~18.04).\n",
            "0 upgraded, 0 newly installed, 0 to remove and 44 not upgraded.\n",
            "Requirement already satisfied: JPype1-py3 in /usr/local/lib/python3.7/dist-packages (0.5.5.4)\n",
            "Requirement already satisfied: konlpy in /usr/local/lib/python3.7/dist-packages (0.5.2)\n",
            "Requirement already satisfied: JPype1>=0.7.0 in /usr/local/lib/python3.7/dist-packages (from konlpy) (1.3.0)\n",
            "Requirement already satisfied: colorama in /usr/local/lib/python3.7/dist-packages (from konlpy) (0.4.4)\n",
            "Requirement already satisfied: lxml>=4.1.0 in /usr/local/lib/python3.7/dist-packages (from konlpy) (4.2.6)\n",
            "Requirement already satisfied: beautifulsoup4==4.6.0 in /usr/local/lib/python3.7/dist-packages (from konlpy) (4.6.0)\n",
            "Requirement already satisfied: tweepy>=3.7.0 in /usr/local/lib/python3.7/dist-packages (from konlpy) (3.10.0)\n",
            "Requirement already satisfied: numpy>=1.6 in /usr/local/lib/python3.7/dist-packages (from konlpy) (1.19.5)\n",
            "Requirement already satisfied: typing-extensions in /usr/local/lib/python3.7/dist-packages (from JPype1>=0.7.0->konlpy) (3.7.4.3)\n",
            "Requirement already satisfied: six>=1.10.0 in /usr/local/lib/python3.7/dist-packages (from tweepy>=3.7.0->konlpy) (1.15.0)\n",
            "Requirement already satisfied: requests[socks]>=2.11.1 in /usr/local/lib/python3.7/dist-packages (from tweepy>=3.7.0->konlpy) (2.23.0)\n",
            "Requirement already satisfied: requests-oauthlib>=0.7.0 in /usr/local/lib/python3.7/dist-packages (from tweepy>=3.7.0->konlpy) (1.3.0)\n",
            "Requirement already satisfied: oauthlib>=3.0.0 in /usr/local/lib/python3.7/dist-packages (from requests-oauthlib>=0.7.0->tweepy>=3.7.0->konlpy) (3.1.1)\n",
            "Requirement already satisfied: urllib3!=1.25.0,!=1.25.1,<1.26,>=1.21.1 in /usr/local/lib/python3.7/dist-packages (from requests[socks]>=2.11.1->tweepy>=3.7.0->konlpy) (1.24.3)\n",
            "Requirement already satisfied: idna<3,>=2.5 in /usr/local/lib/python3.7/dist-packages (from requests[socks]>=2.11.1->tweepy>=3.7.0->konlpy) (2.10)\n",
            "Requirement already satisfied: chardet<4,>=3.0.2 in /usr/local/lib/python3.7/dist-packages (from requests[socks]>=2.11.1->tweepy>=3.7.0->konlpy) (3.0.4)\n",
            "Requirement already satisfied: certifi>=2017.4.17 in /usr/local/lib/python3.7/dist-packages (from requests[socks]>=2.11.1->tweepy>=3.7.0->konlpy) (2021.5.30)\n",
            "Requirement already satisfied: PySocks!=1.5.7,>=1.5.6 in /usr/local/lib/python3.7/dist-packages (from requests[socks]>=2.11.1->tweepy>=3.7.0->konlpy) (1.7.1)\n"
          ]
        }
      ]
    },
    {
      "cell_type": "code",
      "metadata": {
        "id": "2fGy3SWDrY-j"
      },
      "source": [
        "import pandas as pd"
      ],
      "execution_count": 2,
      "outputs": []
    },
    {
      "cell_type": "code",
      "metadata": {
        "id": "5KIakQAzrvoo"
      },
      "source": [
        "path = '/content/drive/MyDrive/Colab Notebooks/final/'\n",
        "naver_1 = pd.read_csv(path+'NAVER.csv',encoding='cp949')\n",
        "naver_2 = pd.read_csv(path+'NAVER_FINISH.csv',encoding='cp949')\n",
        "kakao = pd.read_csv(path+'kakao_total.csv',encoding='cp949')"
      ],
      "execution_count": 3,
      "outputs": []
    },
    {
      "cell_type": "code",
      "metadata": {
        "colab": {
          "base_uri": "https://localhost:8080/",
          "height": 289
        },
        "id": "RvBbWLgjsleY",
        "outputId": "4a70c525-4046-4ac4-f7cf-2ee37cd6d0d4"
      },
      "source": [
        "naver_2.tail()"
      ],
      "execution_count": 4,
      "outputs": [
        {
          "output_type": "execute_result",
          "data": {
            "text/html": [
              "<div>\n",
              "<style scoped>\n",
              "    .dataframe tbody tr th:only-of-type {\n",
              "        vertical-align: middle;\n",
              "    }\n",
              "\n",
              "    .dataframe tbody tr th {\n",
              "        vertical-align: top;\n",
              "    }\n",
              "\n",
              "    .dataframe thead th {\n",
              "        text-align: right;\n",
              "    }\n",
              "</style>\n",
              "<table border=\"1\" class=\"dataframe\">\n",
              "  <thead>\n",
              "    <tr style=\"text-align: right;\">\n",
              "      <th></th>\n",
              "      <th>id</th>\n",
              "      <th>title</th>\n",
              "      <th>author</th>\n",
              "      <th>genre</th>\n",
              "      <th>story</th>\n",
              "      <th>score</th>\n",
              "      <th>platform</th>\n",
              "    </tr>\n",
              "  </thead>\n",
              "  <tbody>\n",
              "    <tr>\n",
              "      <th>1020</th>\n",
              "      <td>1020</td>\n",
              "      <td>AA</td>\n",
              "      <td>선정, 지숙</td>\n",
              "      <td>스토리, 로맨스</td>\n",
              "      <td>대머리 사절을 외치는 여인과 대머리 일것 같은 그녀의 이상형이 벌이는 로맨틱 코미디...</td>\n",
              "      <td>9.68</td>\n",
              "      <td>네이버 웹툰</td>\n",
              "    </tr>\n",
              "    <tr>\n",
              "      <th>1021</th>\n",
              "      <td>1021</td>\n",
              "      <td>사랑in</td>\n",
              "      <td>전세훈</td>\n",
              "      <td>옴니버스, 로맨스</td>\n",
              "      <td>전세훈의 감성터치 사랑 우리들의 이야기가 수채화 물감처럼 잔잔한 감동으로. 잃어버린...</td>\n",
              "      <td>9.51</td>\n",
              "      <td>네이버 웹툰</td>\n",
              "    </tr>\n",
              "    <tr>\n",
              "      <th>1022</th>\n",
              "      <td>1022</td>\n",
              "      <td>까뱅</td>\n",
              "      <td>X-TEAM</td>\n",
              "      <td>에피소드, 개그</td>\n",
              "      <td>치킨시티의 새로운 영웅 까뱅 오늘도 그의 활약은 계속된다!</td>\n",
              "      <td>8.83</td>\n",
              "      <td>네이버 웹툰</td>\n",
              "    </tr>\n",
              "    <tr>\n",
              "      <th>1023</th>\n",
              "      <td>1023</td>\n",
              "      <td>와탕카</td>\n",
              "      <td>우주인</td>\n",
              "      <td>에피소드, 개그</td>\n",
              "      <td>와탕카 만세 , 지화자 좋은 패가 들어오면 외치는 단어 와탕카! 우주인 작가님의 불...</td>\n",
              "      <td>9.63</td>\n",
              "      <td>네이버 웹툰</td>\n",
              "    </tr>\n",
              "    <tr>\n",
              "      <th>1024</th>\n",
              "      <td>1024</td>\n",
              "      <td>타투</td>\n",
              "      <td>노지현</td>\n",
              "      <td>옴니버스, 드라마</td>\n",
              "      <td>밝고 쾌활한 여고생 현진과 새로 오픈한 타투 가게의 진우, 유기를 중심으로 벌어지는...</td>\n",
              "      <td>9.20</td>\n",
              "      <td>네이버 웹툰</td>\n",
              "    </tr>\n",
              "  </tbody>\n",
              "</table>\n",
              "</div>"
            ],
            "text/plain": [
              "        id title  ... score platform\n",
              "1020  1020    AA  ...  9.68   네이버 웹툰\n",
              "1021  1021  사랑in  ...  9.51   네이버 웹툰\n",
              "1022  1022    까뱅  ...  8.83   네이버 웹툰\n",
              "1023  1023   와탕카  ...  9.63   네이버 웹툰\n",
              "1024  1024    타투  ...  9.20   네이버 웹툰\n",
              "\n",
              "[5 rows x 7 columns]"
            ]
          },
          "metadata": {},
          "execution_count": 4
        }
      ]
    },
    {
      "cell_type": "code",
      "metadata": {
        "colab": {
          "base_uri": "https://localhost:8080/"
        },
        "id": "EcYZ_Z69syG7",
        "outputId": "6cf01577-29b7-41ae-bdae-b1871f143d20"
      },
      "source": [
        "naver_1.title.value_counts()"
      ],
      "execution_count": 5,
      "outputs": [
        {
          "output_type": "execute_result",
          "data": {
            "text/plain": [
              "피라미드 게임             1\n",
              "인간졸업                1\n",
              "지옥급식                1\n",
              "약초마을 연쇄살초사건         1\n",
              "대신 심부름을 해다오         1\n",
              "                   ..\n",
              "모어 라이프              1\n",
              "나를 바꿔줘              1\n",
              "정글쥬스                1\n",
              "남자주인공의 여자사람친구입니다    1\n",
              "네버엔딩달링              1\n",
              "Name: title, Length: 445, dtype: int64"
            ]
          },
          "metadata": {},
          "execution_count": 5
        }
      ]
    },
    {
      "cell_type": "code",
      "metadata": {
        "id": "B0lQjlx1tmZr"
      },
      "source": [
        "naver = pd.concat([naver_1,naver_2])"
      ],
      "execution_count": 6,
      "outputs": []
    },
    {
      "cell_type": "code",
      "metadata": {
        "colab": {
          "base_uri": "https://localhost:8080/"
        },
        "id": "SZqSatFxtsVd",
        "outputId": "4d65e429-b540-4c5d-e1bf-c147ea762d1c"
      },
      "source": [
        "naver.title.value_counts()"
      ],
      "execution_count": 7,
      "outputs": [
        {
          "output_type": "execute_result",
          "data": {
            "text/plain": [
              "성경의 역사              2\n",
              "텍사스홀덤               1\n",
              "구석구석캠페인             1\n",
              "스트러글                1\n",
              "주님, 악마가 되게 해주세요!    1\n",
              "                   ..\n",
              "모스크바의 여명            1\n",
              "온새미로                1\n",
              "신석기녀                1\n",
              "광마회귀                1\n",
              "모두 너였다              1\n",
              "Name: title, Length: 1469, dtype: int64"
            ]
          },
          "metadata": {},
          "execution_count": 7
        }
      ]
    },
    {
      "cell_type": "code",
      "metadata": {
        "colab": {
          "base_uri": "https://localhost:8080/",
          "height": 145
        },
        "id": "C0bHm08_uYDz",
        "outputId": "4848ccb2-9623-46ad-c3fe-805d900b8472"
      },
      "source": [
        "naver[naver.title=='성경의 역사']"
      ],
      "execution_count": 8,
      "outputs": [
        {
          "output_type": "execute_result",
          "data": {
            "text/html": [
              "<div>\n",
              "<style scoped>\n",
              "    .dataframe tbody tr th:only-of-type {\n",
              "        vertical-align: middle;\n",
              "    }\n",
              "\n",
              "    .dataframe tbody tr th {\n",
              "        vertical-align: top;\n",
              "    }\n",
              "\n",
              "    .dataframe thead th {\n",
              "        text-align: right;\n",
              "    }\n",
              "</style>\n",
              "<table border=\"1\" class=\"dataframe\">\n",
              "  <thead>\n",
              "    <tr style=\"text-align: right;\">\n",
              "      <th></th>\n",
              "      <th>id</th>\n",
              "      <th>title</th>\n",
              "      <th>author</th>\n",
              "      <th>day</th>\n",
              "      <th>genre</th>\n",
              "      <th>story</th>\n",
              "      <th>score</th>\n",
              "      <th>platform</th>\n",
              "    </tr>\n",
              "  </thead>\n",
              "  <tbody>\n",
              "    <tr>\n",
              "      <th>278</th>\n",
              "      <td>278</td>\n",
              "      <td>성경의 역사</td>\n",
              "      <td>최경민 / 영모</td>\n",
              "      <td>금</td>\n",
              "      <td>스토리, 드라마</td>\n",
              "      <td>모두에게 사랑 받기에 모두가 증오하는 그녀, 성경 . 원치않는 애정과 증오속에 성경...</td>\n",
              "      <td>9.082</td>\n",
              "      <td>네이버 웹툰</td>\n",
              "    </tr>\n",
              "    <tr>\n",
              "      <th>1</th>\n",
              "      <td>1</td>\n",
              "      <td>성경의 역사</td>\n",
              "      <td>최경민 / 영모</td>\n",
              "      <td>NaN</td>\n",
              "      <td>스토리, 드라마</td>\n",
              "      <td>모두에게 사랑 받기에 모두가 증오하는 그녀, 성경 .원치않는 애정과 증오속에 성경의...</td>\n",
              "      <td>7.430</td>\n",
              "      <td>네이버 웹툰</td>\n",
              "    </tr>\n",
              "  </tbody>\n",
              "</table>\n",
              "</div>"
            ],
            "text/plain": [
              "      id   title  ...  score platform\n",
              "278  278  성경의 역사  ...  9.082   네이버 웹툰\n",
              "1      1  성경의 역사  ...  7.430   네이버 웹툰\n",
              "\n",
              "[2 rows x 8 columns]"
            ]
          },
          "metadata": {},
          "execution_count": 8
        }
      ]
    },
    {
      "cell_type": "code",
      "metadata": {
        "colab": {
          "base_uri": "https://localhost:8080/",
          "height": 589
        },
        "id": "f0kXulk_uexJ",
        "outputId": "6097b100-c53b-4bf3-b919-b32e01ef5e4a"
      },
      "source": [
        "naver"
      ],
      "execution_count": 9,
      "outputs": [
        {
          "output_type": "execute_result",
          "data": {
            "text/html": [
              "<div>\n",
              "<style scoped>\n",
              "    .dataframe tbody tr th:only-of-type {\n",
              "        vertical-align: middle;\n",
              "    }\n",
              "\n",
              "    .dataframe tbody tr th {\n",
              "        vertical-align: top;\n",
              "    }\n",
              "\n",
              "    .dataframe thead th {\n",
              "        text-align: right;\n",
              "    }\n",
              "</style>\n",
              "<table border=\"1\" class=\"dataframe\">\n",
              "  <thead>\n",
              "    <tr style=\"text-align: right;\">\n",
              "      <th></th>\n",
              "      <th>id</th>\n",
              "      <th>title</th>\n",
              "      <th>author</th>\n",
              "      <th>day</th>\n",
              "      <th>genre</th>\n",
              "      <th>story</th>\n",
              "      <th>score</th>\n",
              "      <th>platform</th>\n",
              "    </tr>\n",
              "  </thead>\n",
              "  <tbody>\n",
              "    <tr>\n",
              "      <th>0</th>\n",
              "      <td>0</td>\n",
              "      <td>참교육</td>\n",
              "      <td>채용택 / 한가람</td>\n",
              "      <td>월</td>\n",
              "      <td>스토리, 액션</td>\n",
              "      <td>무너진 교권을 지키기 위해 교권보호국 소속 나화진의 참교육이 시작된다! 부활남 채용...</td>\n",
              "      <td>9.776</td>\n",
              "      <td>네이버 웹툰</td>\n",
              "    </tr>\n",
              "    <tr>\n",
              "      <th>1</th>\n",
              "      <td>1</td>\n",
              "      <td>신의 탑</td>\n",
              "      <td>SIU</td>\n",
              "      <td>월</td>\n",
              "      <td>스토리, 판타지</td>\n",
              "      <td>자신의 모든 것이었던 소녀를 쫓아 탑에 들어온 소년 그리고 그런 소년을 시험하는 탑</td>\n",
              "      <td>9.499</td>\n",
              "      <td>네이버 웹툰</td>\n",
              "    </tr>\n",
              "    <tr>\n",
              "      <th>2</th>\n",
              "      <td>2</td>\n",
              "      <td>뷰티풀 군바리</td>\n",
              "      <td>설이 / 윤성원</td>\n",
              "      <td>월</td>\n",
              "      <td>스토리, 드라마</td>\n",
              "      <td>여자도 군대에 간다면? 본격 여자도 군대 가는 만화!</td>\n",
              "      <td>9.660</td>\n",
              "      <td>네이버 웹툰</td>\n",
              "    </tr>\n",
              "    <tr>\n",
              "      <th>3</th>\n",
              "      <td>3</td>\n",
              "      <td>윈드브레이커</td>\n",
              "      <td>조용석</td>\n",
              "      <td>월</td>\n",
              "      <td>스토리, 스포츠</td>\n",
              "      <td>혼자서 자전거를 즐겨타던 모범생 조자현. 원치 않게 자전거 크루의 일에 자꾸 휘말리...</td>\n",
              "      <td>8.795</td>\n",
              "      <td>네이버 웹툰</td>\n",
              "    </tr>\n",
              "    <tr>\n",
              "      <th>4</th>\n",
              "      <td>4</td>\n",
              "      <td>팔이피플</td>\n",
              "      <td>매미 / 희세</td>\n",
              "      <td>월</td>\n",
              "      <td>스토리, 드라마</td>\n",
              "      <td>마스크걸 , 위대한 방옥숙 매미 희세 작가의 신작! 에서 육아용품 파는 평범한 유부...</td>\n",
              "      <td>9.880</td>\n",
              "      <td>네이버 웹툰</td>\n",
              "    </tr>\n",
              "    <tr>\n",
              "      <th>...</th>\n",
              "      <td>...</td>\n",
              "      <td>...</td>\n",
              "      <td>...</td>\n",
              "      <td>...</td>\n",
              "      <td>...</td>\n",
              "      <td>...</td>\n",
              "      <td>...</td>\n",
              "      <td>...</td>\n",
              "    </tr>\n",
              "    <tr>\n",
              "      <th>1020</th>\n",
              "      <td>1020</td>\n",
              "      <td>AA</td>\n",
              "      <td>선정, 지숙</td>\n",
              "      <td>NaN</td>\n",
              "      <td>스토리, 로맨스</td>\n",
              "      <td>대머리 사절을 외치는 여인과 대머리 일것 같은 그녀의 이상형이 벌이는 로맨틱 코미디...</td>\n",
              "      <td>9.680</td>\n",
              "      <td>네이버 웹툰</td>\n",
              "    </tr>\n",
              "    <tr>\n",
              "      <th>1021</th>\n",
              "      <td>1021</td>\n",
              "      <td>사랑in</td>\n",
              "      <td>전세훈</td>\n",
              "      <td>NaN</td>\n",
              "      <td>옴니버스, 로맨스</td>\n",
              "      <td>전세훈의 감성터치 사랑 우리들의 이야기가 수채화 물감처럼 잔잔한 감동으로. 잃어버린...</td>\n",
              "      <td>9.510</td>\n",
              "      <td>네이버 웹툰</td>\n",
              "    </tr>\n",
              "    <tr>\n",
              "      <th>1022</th>\n",
              "      <td>1022</td>\n",
              "      <td>까뱅</td>\n",
              "      <td>X-TEAM</td>\n",
              "      <td>NaN</td>\n",
              "      <td>에피소드, 개그</td>\n",
              "      <td>치킨시티의 새로운 영웅 까뱅 오늘도 그의 활약은 계속된다!</td>\n",
              "      <td>8.830</td>\n",
              "      <td>네이버 웹툰</td>\n",
              "    </tr>\n",
              "    <tr>\n",
              "      <th>1023</th>\n",
              "      <td>1023</td>\n",
              "      <td>와탕카</td>\n",
              "      <td>우주인</td>\n",
              "      <td>NaN</td>\n",
              "      <td>에피소드, 개그</td>\n",
              "      <td>와탕카 만세 , 지화자 좋은 패가 들어오면 외치는 단어 와탕카! 우주인 작가님의 불...</td>\n",
              "      <td>9.630</td>\n",
              "      <td>네이버 웹툰</td>\n",
              "    </tr>\n",
              "    <tr>\n",
              "      <th>1024</th>\n",
              "      <td>1024</td>\n",
              "      <td>타투</td>\n",
              "      <td>노지현</td>\n",
              "      <td>NaN</td>\n",
              "      <td>옴니버스, 드라마</td>\n",
              "      <td>밝고 쾌활한 여고생 현진과 새로 오픈한 타투 가게의 진우, 유기를 중심으로 벌어지는...</td>\n",
              "      <td>9.200</td>\n",
              "      <td>네이버 웹툰</td>\n",
              "    </tr>\n",
              "  </tbody>\n",
              "</table>\n",
              "<p>1470 rows × 8 columns</p>\n",
              "</div>"
            ],
            "text/plain": [
              "        id    title  ...  score platform\n",
              "0        0      참교육  ...  9.776   네이버 웹툰\n",
              "1        1     신의 탑  ...  9.499   네이버 웹툰\n",
              "2        2  뷰티풀 군바리  ...  9.660   네이버 웹툰\n",
              "3        3   윈드브레이커  ...  8.795   네이버 웹툰\n",
              "4        4     팔이피플  ...  9.880   네이버 웹툰\n",
              "...    ...      ...  ...    ...      ...\n",
              "1020  1020       AA  ...  9.680   네이버 웹툰\n",
              "1021  1021     사랑in  ...  9.510   네이버 웹툰\n",
              "1022  1022       까뱅  ...  8.830   네이버 웹툰\n",
              "1023  1023      와탕카  ...  9.630   네이버 웹툰\n",
              "1024  1024       타투  ...  9.200   네이버 웹툰\n",
              "\n",
              "[1470 rows x 8 columns]"
            ]
          },
          "metadata": {},
          "execution_count": 9
        }
      ]
    },
    {
      "cell_type": "code",
      "metadata": {
        "id": "v3DhfLowuj6L"
      },
      "source": [
        "naver.drop_duplicates('title',inplace=True)"
      ],
      "execution_count": 10,
      "outputs": []
    },
    {
      "cell_type": "code",
      "metadata": {
        "colab": {
          "base_uri": "https://localhost:8080/",
          "height": 97
        },
        "id": "PFeYVF33uxsD",
        "outputId": "7ded143c-b9d6-4b5a-c065-09b357c54acd"
      },
      "source": [
        "naver[naver.title=='성경의 역사']"
      ],
      "execution_count": 11,
      "outputs": [
        {
          "output_type": "execute_result",
          "data": {
            "text/html": [
              "<div>\n",
              "<style scoped>\n",
              "    .dataframe tbody tr th:only-of-type {\n",
              "        vertical-align: middle;\n",
              "    }\n",
              "\n",
              "    .dataframe tbody tr th {\n",
              "        vertical-align: top;\n",
              "    }\n",
              "\n",
              "    .dataframe thead th {\n",
              "        text-align: right;\n",
              "    }\n",
              "</style>\n",
              "<table border=\"1\" class=\"dataframe\">\n",
              "  <thead>\n",
              "    <tr style=\"text-align: right;\">\n",
              "      <th></th>\n",
              "      <th>id</th>\n",
              "      <th>title</th>\n",
              "      <th>author</th>\n",
              "      <th>day</th>\n",
              "      <th>genre</th>\n",
              "      <th>story</th>\n",
              "      <th>score</th>\n",
              "      <th>platform</th>\n",
              "    </tr>\n",
              "  </thead>\n",
              "  <tbody>\n",
              "    <tr>\n",
              "      <th>278</th>\n",
              "      <td>278</td>\n",
              "      <td>성경의 역사</td>\n",
              "      <td>최경민 / 영모</td>\n",
              "      <td>금</td>\n",
              "      <td>스토리, 드라마</td>\n",
              "      <td>모두에게 사랑 받기에 모두가 증오하는 그녀, 성경 . 원치않는 애정과 증오속에 성경...</td>\n",
              "      <td>9.082</td>\n",
              "      <td>네이버 웹툰</td>\n",
              "    </tr>\n",
              "  </tbody>\n",
              "</table>\n",
              "</div>"
            ],
            "text/plain": [
              "      id   title  ...  score platform\n",
              "278  278  성경의 역사  ...  9.082   네이버 웹툰\n",
              "\n",
              "[1 rows x 8 columns]"
            ]
          },
          "metadata": {},
          "execution_count": 11
        }
      ]
    },
    {
      "cell_type": "code",
      "metadata": {
        "id": "2_tmKJI1uzSE"
      },
      "source": [
        "webtoon = pd.concat([kakao,naver])"
      ],
      "execution_count": 12,
      "outputs": []
    },
    {
      "cell_type": "code",
      "metadata": {
        "colab": {
          "base_uri": "https://localhost:8080/",
          "height": 799
        },
        "id": "7JK2VXHUu8Qs",
        "outputId": "57a6b43e-90f2-4c98-fab4-dc2247351662"
      },
      "source": [
        "webtoon.head()"
      ],
      "execution_count": 13,
      "outputs": [
        {
          "output_type": "execute_result",
          "data": {
            "text/html": [
              "<div>\n",
              "<style scoped>\n",
              "    .dataframe tbody tr th:only-of-type {\n",
              "        vertical-align: middle;\n",
              "    }\n",
              "\n",
              "    .dataframe tbody tr th {\n",
              "        vertical-align: top;\n",
              "    }\n",
              "\n",
              "    .dataframe thead th {\n",
              "        text-align: right;\n",
              "    }\n",
              "</style>\n",
              "<table border=\"1\" class=\"dataframe\">\n",
              "  <thead>\n",
              "    <tr style=\"text-align: right;\">\n",
              "      <th></th>\n",
              "      <th>title</th>\n",
              "      <th>day</th>\n",
              "      <th>genre</th>\n",
              "      <th>story</th>\n",
              "      <th>platform</th>\n",
              "      <th>t_image</th>\n",
              "      <th>id</th>\n",
              "      <th>author</th>\n",
              "      <th>score</th>\n",
              "    </tr>\n",
              "  </thead>\n",
              "  <tbody>\n",
              "    <tr>\n",
              "      <th>0</th>\n",
              "      <td>우선 남동생부터 숨기자</td>\n",
              "      <td>월</td>\n",
              "      <td>로판만화</td>\n",
              "      <td>하필이면 19금 다공일수 피폐 만화에 수의 하나뿐인 누나로 빙의하고 말았다! 재수없...</td>\n",
              "      <td>카카오페이지</td>\n",
              "      <td>cHyfs/hy41GaQT02/8lTAkYiB5MqJuKdoSmJEBK</td>\n",
              "      <td>NaN</td>\n",
              "      <td>NaN</td>\n",
              "      <td>NaN</td>\n",
              "    </tr>\n",
              "    <tr>\n",
              "      <th>1</th>\n",
              "      <td>이번 생은 가주가 되겠습니다</td>\n",
              "      <td>월</td>\n",
              "      <td>로판만화</td>\n",
              "      <td>한번 해 보자. 내가 가주가 되는 거야. 제국에서 제일가는 가문, 롬바르디의 사생아...</td>\n",
              "      <td>카카오페이지</td>\n",
              "      <td>cDeRi1/hyVkDNZUdD/WyUnrIQ0gkyKdkLzL5ajh1</td>\n",
              "      <td>NaN</td>\n",
              "      <td>NaN</td>\n",
              "      <td>NaN</td>\n",
              "    </tr>\n",
              "    <tr>\n",
              "      <th>2</th>\n",
              "      <td>묵향 다크레이디</td>\n",
              "      <td>월</td>\n",
              "      <td>소년만화</td>\n",
              "      <td>마교의 교주로서 극강의 무공을 자랑하던 묵향은 적들 혈교 에 의해 생전 처음 보는 ...</td>\n",
              "      <td>카카오페이지</td>\n",
              "      <td>9Eoo5/hyATyGp2En/pYYjRkJJIrpHEvDible6T0</td>\n",
              "      <td>NaN</td>\n",
              "      <td>NaN</td>\n",
              "      <td>NaN</td>\n",
              "    </tr>\n",
              "    <tr>\n",
              "      <th>3</th>\n",
              "      <td>튜토리얼이 너무 어렵다</td>\n",
              "      <td>월</td>\n",
              "      <td>소년만화</td>\n",
              "      <td>퓨전 판타지 장편소설 39 튜토리얼이 너무 어렵다 39 가 웹툰으로 독자 여러분을 ...</td>\n",
              "      <td>카카오페이지</td>\n",
              "      <td>cof1Bi/hyQ9Q45PWC/L84IXRvtte4PTzZS6dXbB0</td>\n",
              "      <td>NaN</td>\n",
              "      <td>NaN</td>\n",
              "      <td>NaN</td>\n",
              "    </tr>\n",
              "    <tr>\n",
              "      <th>4</th>\n",
              "      <td>8클래스 마법사의 회귀</td>\n",
              "      <td>월</td>\n",
              "      <td>소년만화</td>\n",
              "      <td>황제 라그나르와 통일 제국을 위해 손에 피를 묻히길 수십 년. 나는 고향으로 돌아가...</td>\n",
              "      <td>카카오페이지</td>\n",
              "      <td>HrHN1/hy41P6FJKt/FCR6J7pW8bFVRQVJx7Mlo0</td>\n",
              "      <td>NaN</td>\n",
              "      <td>NaN</td>\n",
              "      <td>NaN</td>\n",
              "    </tr>\n",
              "  </tbody>\n",
              "</table>\n",
              "</div>"
            ],
            "text/plain": [
              "             title day genre  ...  id author score\n",
              "0     우선 남동생부터 숨기자   월  로판만화  ... NaN    NaN   NaN\n",
              "1  이번 생은 가주가 되겠습니다   월  로판만화  ... NaN    NaN   NaN\n",
              "2         묵향 다크레이디   월  소년만화  ... NaN    NaN   NaN\n",
              "3     튜토리얼이 너무 어렵다   월  소년만화  ... NaN    NaN   NaN\n",
              "4     8클래스 마법사의 회귀   월  소년만화  ... NaN    NaN   NaN\n",
              "\n",
              "[5 rows x 9 columns]"
            ]
          },
          "metadata": {},
          "execution_count": 13
        }
      ]
    },
    {
      "cell_type": "code",
      "metadata": {
        "id": "6jLDPPusvICi"
      },
      "source": [
        "webtoon.reset_index(inplace=True,drop=True)"
      ],
      "execution_count": 14,
      "outputs": []
    },
    {
      "cell_type": "code",
      "metadata": {
        "colab": {
          "base_uri": "https://localhost:8080/",
          "height": 357
        },
        "id": "kQuiCPetvU6M",
        "outputId": "9598e196-c2a4-4770-8c96-35ea2405b1bf"
      },
      "source": [
        "webtoon.tail()"
      ],
      "execution_count": 15,
      "outputs": [
        {
          "output_type": "execute_result",
          "data": {
            "text/html": [
              "<div>\n",
              "<style scoped>\n",
              "    .dataframe tbody tr th:only-of-type {\n",
              "        vertical-align: middle;\n",
              "    }\n",
              "\n",
              "    .dataframe tbody tr th {\n",
              "        vertical-align: top;\n",
              "    }\n",
              "\n",
              "    .dataframe thead th {\n",
              "        text-align: right;\n",
              "    }\n",
              "</style>\n",
              "<table border=\"1\" class=\"dataframe\">\n",
              "  <thead>\n",
              "    <tr style=\"text-align: right;\">\n",
              "      <th></th>\n",
              "      <th>title</th>\n",
              "      <th>day</th>\n",
              "      <th>genre</th>\n",
              "      <th>story</th>\n",
              "      <th>platform</th>\n",
              "      <th>t_image</th>\n",
              "      <th>id</th>\n",
              "      <th>author</th>\n",
              "      <th>score</th>\n",
              "    </tr>\n",
              "  </thead>\n",
              "  <tbody>\n",
              "    <tr>\n",
              "      <th>3168</th>\n",
              "      <td>AA</td>\n",
              "      <td>NaN</td>\n",
              "      <td>스토리, 로맨스</td>\n",
              "      <td>대머리 사절을 외치는 여인과 대머리 일것 같은 그녀의 이상형이 벌이는 로맨틱 코미디...</td>\n",
              "      <td>네이버 웹툰</td>\n",
              "      <td>NaN</td>\n",
              "      <td>1020.0</td>\n",
              "      <td>선정, 지숙</td>\n",
              "      <td>9.68</td>\n",
              "    </tr>\n",
              "    <tr>\n",
              "      <th>3169</th>\n",
              "      <td>사랑in</td>\n",
              "      <td>NaN</td>\n",
              "      <td>옴니버스, 로맨스</td>\n",
              "      <td>전세훈의 감성터치 사랑 우리들의 이야기가 수채화 물감처럼 잔잔한 감동으로. 잃어버린...</td>\n",
              "      <td>네이버 웹툰</td>\n",
              "      <td>NaN</td>\n",
              "      <td>1021.0</td>\n",
              "      <td>전세훈</td>\n",
              "      <td>9.51</td>\n",
              "    </tr>\n",
              "    <tr>\n",
              "      <th>3170</th>\n",
              "      <td>까뱅</td>\n",
              "      <td>NaN</td>\n",
              "      <td>에피소드, 개그</td>\n",
              "      <td>치킨시티의 새로운 영웅 까뱅 오늘도 그의 활약은 계속된다!</td>\n",
              "      <td>네이버 웹툰</td>\n",
              "      <td>NaN</td>\n",
              "      <td>1022.0</td>\n",
              "      <td>X-TEAM</td>\n",
              "      <td>8.83</td>\n",
              "    </tr>\n",
              "    <tr>\n",
              "      <th>3171</th>\n",
              "      <td>와탕카</td>\n",
              "      <td>NaN</td>\n",
              "      <td>에피소드, 개그</td>\n",
              "      <td>와탕카 만세 , 지화자 좋은 패가 들어오면 외치는 단어 와탕카! 우주인 작가님의 불...</td>\n",
              "      <td>네이버 웹툰</td>\n",
              "      <td>NaN</td>\n",
              "      <td>1023.0</td>\n",
              "      <td>우주인</td>\n",
              "      <td>9.63</td>\n",
              "    </tr>\n",
              "    <tr>\n",
              "      <th>3172</th>\n",
              "      <td>타투</td>\n",
              "      <td>NaN</td>\n",
              "      <td>옴니버스, 드라마</td>\n",
              "      <td>밝고 쾌활한 여고생 현진과 새로 오픈한 타투 가게의 진우, 유기를 중심으로 벌어지는...</td>\n",
              "      <td>네이버 웹툰</td>\n",
              "      <td>NaN</td>\n",
              "      <td>1024.0</td>\n",
              "      <td>노지현</td>\n",
              "      <td>9.20</td>\n",
              "    </tr>\n",
              "  </tbody>\n",
              "</table>\n",
              "</div>"
            ],
            "text/plain": [
              "     title  day      genre  ...      id  author score\n",
              "3168    AA  NaN   스토리, 로맨스  ...  1020.0  선정, 지숙  9.68\n",
              "3169  사랑in  NaN  옴니버스, 로맨스  ...  1021.0     전세훈  9.51\n",
              "3170    까뱅  NaN   에피소드, 개그  ...  1022.0  X-TEAM  8.83\n",
              "3171   와탕카  NaN   에피소드, 개그  ...  1023.0     우주인  9.63\n",
              "3172    타투  NaN  옴니버스, 드라마  ...  1024.0     노지현  9.20\n",
              "\n",
              "[5 rows x 9 columns]"
            ]
          },
          "metadata": {},
          "execution_count": 15
        }
      ]
    },
    {
      "cell_type": "code",
      "metadata": {
        "colab": {
          "base_uri": "https://localhost:8080/"
        },
        "id": "xWuaEKRGvnUs",
        "outputId": "f2a7c749-e103-40a1-f06f-9b4d2a2e43e6"
      },
      "source": [
        "webtoon.author.isnull().sum()"
      ],
      "execution_count": 16,
      "outputs": [
        {
          "output_type": "execute_result",
          "data": {
            "text/plain": [
              "1704"
            ]
          },
          "metadata": {},
          "execution_count": 16
        }
      ]
    },
    {
      "cell_type": "code",
      "metadata": {
        "id": "BN61KjwXxXWD"
      },
      "source": [
        "webtoon.insert(2, 'writer', 0)\n",
        "webtoon.insert(3, 'illustrator', 1)"
      ],
      "execution_count": 17,
      "outputs": []
    },
    {
      "cell_type": "code",
      "metadata": {
        "colab": {
          "base_uri": "https://localhost:8080/",
          "height": 961
        },
        "id": "koM8f2qXBOXB",
        "outputId": "18770293-47bc-4852-cf55-31559dcca4e4"
      },
      "source": [
        "webtoon.head(3)"
      ],
      "execution_count": 18,
      "outputs": [
        {
          "output_type": "execute_result",
          "data": {
            "text/html": [
              "<div>\n",
              "<style scoped>\n",
              "    .dataframe tbody tr th:only-of-type {\n",
              "        vertical-align: middle;\n",
              "    }\n",
              "\n",
              "    .dataframe tbody tr th {\n",
              "        vertical-align: top;\n",
              "    }\n",
              "\n",
              "    .dataframe thead th {\n",
              "        text-align: right;\n",
              "    }\n",
              "</style>\n",
              "<table border=\"1\" class=\"dataframe\">\n",
              "  <thead>\n",
              "    <tr style=\"text-align: right;\">\n",
              "      <th></th>\n",
              "      <th>title</th>\n",
              "      <th>day</th>\n",
              "      <th>writer</th>\n",
              "      <th>illustrator</th>\n",
              "      <th>genre</th>\n",
              "      <th>story</th>\n",
              "      <th>platform</th>\n",
              "      <th>t_image</th>\n",
              "      <th>id</th>\n",
              "      <th>author</th>\n",
              "      <th>score</th>\n",
              "    </tr>\n",
              "  </thead>\n",
              "  <tbody>\n",
              "    <tr>\n",
              "      <th>0</th>\n",
              "      <td>우선 남동생부터 숨기자</td>\n",
              "      <td>월</td>\n",
              "      <td>0</td>\n",
              "      <td>1</td>\n",
              "      <td>로판만화</td>\n",
              "      <td>하필이면 19금 다공일수 피폐 만화에 수의 하나뿐인 누나로 빙의하고 말았다! 재수없...</td>\n",
              "      <td>카카오페이지</td>\n",
              "      <td>cHyfs/hy41GaQT02/8lTAkYiB5MqJuKdoSmJEBK</td>\n",
              "      <td>NaN</td>\n",
              "      <td>NaN</td>\n",
              "      <td>NaN</td>\n",
              "    </tr>\n",
              "    <tr>\n",
              "      <th>1</th>\n",
              "      <td>이번 생은 가주가 되겠습니다</td>\n",
              "      <td>월</td>\n",
              "      <td>0</td>\n",
              "      <td>1</td>\n",
              "      <td>로판만화</td>\n",
              "      <td>한번 해 보자. 내가 가주가 되는 거야. 제국에서 제일가는 가문, 롬바르디의 사생아...</td>\n",
              "      <td>카카오페이지</td>\n",
              "      <td>cDeRi1/hyVkDNZUdD/WyUnrIQ0gkyKdkLzL5ajh1</td>\n",
              "      <td>NaN</td>\n",
              "      <td>NaN</td>\n",
              "      <td>NaN</td>\n",
              "    </tr>\n",
              "    <tr>\n",
              "      <th>2</th>\n",
              "      <td>묵향 다크레이디</td>\n",
              "      <td>월</td>\n",
              "      <td>0</td>\n",
              "      <td>1</td>\n",
              "      <td>소년만화</td>\n",
              "      <td>마교의 교주로서 극강의 무공을 자랑하던 묵향은 적들 혈교 에 의해 생전 처음 보는 ...</td>\n",
              "      <td>카카오페이지</td>\n",
              "      <td>9Eoo5/hyATyGp2En/pYYjRkJJIrpHEvDible6T0</td>\n",
              "      <td>NaN</td>\n",
              "      <td>NaN</td>\n",
              "      <td>NaN</td>\n",
              "    </tr>\n",
              "  </tbody>\n",
              "</table>\n",
              "</div>"
            ],
            "text/plain": [
              "             title day  writer  ...  id author score\n",
              "0     우선 남동생부터 숨기자   월       0  ... NaN    NaN   NaN\n",
              "1  이번 생은 가주가 되겠습니다   월       0  ... NaN    NaN   NaN\n",
              "2         묵향 다크레이디   월       0  ... NaN    NaN   NaN\n",
              "\n",
              "[3 rows x 11 columns]"
            ]
          },
          "metadata": {},
          "execution_count": 18
        }
      ]
    },
    {
      "cell_type": "code",
      "metadata": {
        "colab": {
          "base_uri": "https://localhost:8080/",
          "height": 961
        },
        "id": "Mir3LM34C86s",
        "outputId": "4485694d-2522-4dac-c820-31feed3fa2af"
      },
      "source": [
        "# 글 작가, 그림 작가 나누기\n",
        "webtoon.author.fillna('unknown',inplace=True)\n",
        "webtoon['writer'], webtoon['illustrator'] = zip(*webtoon['author'].apply(lambda x:[x.strip() for x in x.split('/')] if '/' in x else [x, x]))\n",
        "webtoon.head(3)"
      ],
      "execution_count": 19,
      "outputs": [
        {
          "output_type": "execute_result",
          "data": {
            "text/html": [
              "<div>\n",
              "<style scoped>\n",
              "    .dataframe tbody tr th:only-of-type {\n",
              "        vertical-align: middle;\n",
              "    }\n",
              "\n",
              "    .dataframe tbody tr th {\n",
              "        vertical-align: top;\n",
              "    }\n",
              "\n",
              "    .dataframe thead th {\n",
              "        text-align: right;\n",
              "    }\n",
              "</style>\n",
              "<table border=\"1\" class=\"dataframe\">\n",
              "  <thead>\n",
              "    <tr style=\"text-align: right;\">\n",
              "      <th></th>\n",
              "      <th>title</th>\n",
              "      <th>day</th>\n",
              "      <th>writer</th>\n",
              "      <th>illustrator</th>\n",
              "      <th>genre</th>\n",
              "      <th>story</th>\n",
              "      <th>platform</th>\n",
              "      <th>t_image</th>\n",
              "      <th>id</th>\n",
              "      <th>author</th>\n",
              "      <th>score</th>\n",
              "    </tr>\n",
              "  </thead>\n",
              "  <tbody>\n",
              "    <tr>\n",
              "      <th>0</th>\n",
              "      <td>우선 남동생부터 숨기자</td>\n",
              "      <td>월</td>\n",
              "      <td>unknown</td>\n",
              "      <td>unknown</td>\n",
              "      <td>로판만화</td>\n",
              "      <td>하필이면 19금 다공일수 피폐 만화에 수의 하나뿐인 누나로 빙의하고 말았다! 재수없...</td>\n",
              "      <td>카카오페이지</td>\n",
              "      <td>cHyfs/hy41GaQT02/8lTAkYiB5MqJuKdoSmJEBK</td>\n",
              "      <td>NaN</td>\n",
              "      <td>unknown</td>\n",
              "      <td>NaN</td>\n",
              "    </tr>\n",
              "    <tr>\n",
              "      <th>1</th>\n",
              "      <td>이번 생은 가주가 되겠습니다</td>\n",
              "      <td>월</td>\n",
              "      <td>unknown</td>\n",
              "      <td>unknown</td>\n",
              "      <td>로판만화</td>\n",
              "      <td>한번 해 보자. 내가 가주가 되는 거야. 제국에서 제일가는 가문, 롬바르디의 사생아...</td>\n",
              "      <td>카카오페이지</td>\n",
              "      <td>cDeRi1/hyVkDNZUdD/WyUnrIQ0gkyKdkLzL5ajh1</td>\n",
              "      <td>NaN</td>\n",
              "      <td>unknown</td>\n",
              "      <td>NaN</td>\n",
              "    </tr>\n",
              "    <tr>\n",
              "      <th>2</th>\n",
              "      <td>묵향 다크레이디</td>\n",
              "      <td>월</td>\n",
              "      <td>unknown</td>\n",
              "      <td>unknown</td>\n",
              "      <td>소년만화</td>\n",
              "      <td>마교의 교주로서 극강의 무공을 자랑하던 묵향은 적들 혈교 에 의해 생전 처음 보는 ...</td>\n",
              "      <td>카카오페이지</td>\n",
              "      <td>9Eoo5/hyATyGp2En/pYYjRkJJIrpHEvDible6T0</td>\n",
              "      <td>NaN</td>\n",
              "      <td>unknown</td>\n",
              "      <td>NaN</td>\n",
              "    </tr>\n",
              "  </tbody>\n",
              "</table>\n",
              "</div>"
            ],
            "text/plain": [
              "             title day   writer  ...  id   author score\n",
              "0     우선 남동생부터 숨기자   월  unknown  ... NaN  unknown   NaN\n",
              "1  이번 생은 가주가 되겠습니다   월  unknown  ... NaN  unknown   NaN\n",
              "2         묵향 다크레이디   월  unknown  ... NaN  unknown   NaN\n",
              "\n",
              "[3 rows x 11 columns]"
            ]
          },
          "metadata": {},
          "execution_count": 19
        }
      ]
    },
    {
      "cell_type": "code",
      "metadata": {
        "id": "h2f4uNsIDcwU"
      },
      "source": [
        "# 정리\n",
        "webtoon=webtoon[['title','writer','illustrator','genre','story','platform']]"
      ],
      "execution_count": 20,
      "outputs": []
    },
    {
      "cell_type": "code",
      "metadata": {
        "colab": {
          "base_uri": "https://localhost:8080/",
          "height": 193
        },
        "id": "1d1q508ND9el",
        "outputId": "3a785cca-4306-4f79-916e-85738fcb75f2"
      },
      "source": [
        "webtoon.head(3)"
      ],
      "execution_count": 21,
      "outputs": [
        {
          "output_type": "execute_result",
          "data": {
            "text/html": [
              "<div>\n",
              "<style scoped>\n",
              "    .dataframe tbody tr th:only-of-type {\n",
              "        vertical-align: middle;\n",
              "    }\n",
              "\n",
              "    .dataframe tbody tr th {\n",
              "        vertical-align: top;\n",
              "    }\n",
              "\n",
              "    .dataframe thead th {\n",
              "        text-align: right;\n",
              "    }\n",
              "</style>\n",
              "<table border=\"1\" class=\"dataframe\">\n",
              "  <thead>\n",
              "    <tr style=\"text-align: right;\">\n",
              "      <th></th>\n",
              "      <th>title</th>\n",
              "      <th>writer</th>\n",
              "      <th>illustrator</th>\n",
              "      <th>genre</th>\n",
              "      <th>story</th>\n",
              "      <th>platform</th>\n",
              "    </tr>\n",
              "  </thead>\n",
              "  <tbody>\n",
              "    <tr>\n",
              "      <th>0</th>\n",
              "      <td>우선 남동생부터 숨기자</td>\n",
              "      <td>unknown</td>\n",
              "      <td>unknown</td>\n",
              "      <td>로판만화</td>\n",
              "      <td>하필이면 19금 다공일수 피폐 만화에 수의 하나뿐인 누나로 빙의하고 말았다! 재수없...</td>\n",
              "      <td>카카오페이지</td>\n",
              "    </tr>\n",
              "    <tr>\n",
              "      <th>1</th>\n",
              "      <td>이번 생은 가주가 되겠습니다</td>\n",
              "      <td>unknown</td>\n",
              "      <td>unknown</td>\n",
              "      <td>로판만화</td>\n",
              "      <td>한번 해 보자. 내가 가주가 되는 거야. 제국에서 제일가는 가문, 롬바르디의 사생아...</td>\n",
              "      <td>카카오페이지</td>\n",
              "    </tr>\n",
              "    <tr>\n",
              "      <th>2</th>\n",
              "      <td>묵향 다크레이디</td>\n",
              "      <td>unknown</td>\n",
              "      <td>unknown</td>\n",
              "      <td>소년만화</td>\n",
              "      <td>마교의 교주로서 극강의 무공을 자랑하던 묵향은 적들 혈교 에 의해 생전 처음 보는 ...</td>\n",
              "      <td>카카오페이지</td>\n",
              "    </tr>\n",
              "  </tbody>\n",
              "</table>\n",
              "</div>"
            ],
            "text/plain": [
              "             title  ... platform\n",
              "0     우선 남동생부터 숨기자  ...   카카오페이지\n",
              "1  이번 생은 가주가 되겠습니다  ...   카카오페이지\n",
              "2         묵향 다크레이디  ...   카카오페이지\n",
              "\n",
              "[3 rows x 6 columns]"
            ]
          },
          "metadata": {},
          "execution_count": 21
        }
      ]
    },
    {
      "cell_type": "markdown",
      "metadata": {
        "id": "c4rJkD8gEDss"
      },
      "source": [
        "### 전처리"
      ]
    },
    {
      "cell_type": "code",
      "metadata": {
        "id": "C1oTZKKCD_Go"
      },
      "source": [
        "import re\n",
        "\n",
        "def hangul(text):\n",
        "    return re.sub('[^ㄱ-ㅎ|ㅏ-ㅣ|가-힣]', ' ', text)"
      ],
      "execution_count": 22,
      "outputs": []
    },
    {
      "cell_type": "code",
      "metadata": {
        "colab": {
          "base_uri": "https://localhost:8080/",
          "height": 193
        },
        "id": "S7snTgbGELQM",
        "outputId": "91ac4e49-7479-4f35-bb79-fa376b87d5be"
      },
      "source": [
        "web_copy = webtoon.copy()\n",
        "# web_copy['title'] = web_copy['title'].apply(lambda x:hangul(x))\n",
        "web_copy['genre'] = web_copy['genre'].apply(lambda x:hangul(x))\n",
        "web_copy['story'] = web_copy['story'].apply(lambda x:hangul(x))\n",
        "\n",
        "web_copy['story'] = web_copy['story'].replace(' ','')\n",
        "web_copy.head(3)"
      ],
      "execution_count": 23,
      "outputs": [
        {
          "output_type": "execute_result",
          "data": {
            "text/html": [
              "<div>\n",
              "<style scoped>\n",
              "    .dataframe tbody tr th:only-of-type {\n",
              "        vertical-align: middle;\n",
              "    }\n",
              "\n",
              "    .dataframe tbody tr th {\n",
              "        vertical-align: top;\n",
              "    }\n",
              "\n",
              "    .dataframe thead th {\n",
              "        text-align: right;\n",
              "    }\n",
              "</style>\n",
              "<table border=\"1\" class=\"dataframe\">\n",
              "  <thead>\n",
              "    <tr style=\"text-align: right;\">\n",
              "      <th></th>\n",
              "      <th>title</th>\n",
              "      <th>writer</th>\n",
              "      <th>illustrator</th>\n",
              "      <th>genre</th>\n",
              "      <th>story</th>\n",
              "      <th>platform</th>\n",
              "    </tr>\n",
              "  </thead>\n",
              "  <tbody>\n",
              "    <tr>\n",
              "      <th>0</th>\n",
              "      <td>우선 남동생부터 숨기자</td>\n",
              "      <td>unknown</td>\n",
              "      <td>unknown</td>\n",
              "      <td>로판만화</td>\n",
              "      <td>하필이면   금 다공일수 피폐 만화에 수의 하나뿐인 누나로 빙의하고 말았다  재수없...</td>\n",
              "      <td>카카오페이지</td>\n",
              "    </tr>\n",
              "    <tr>\n",
              "      <th>1</th>\n",
              "      <td>이번 생은 가주가 되겠습니다</td>\n",
              "      <td>unknown</td>\n",
              "      <td>unknown</td>\n",
              "      <td>로판만화</td>\n",
              "      <td>한번 해 보자  내가 가주가 되는 거야  제국에서 제일가는 가문  롬바르디의 사생아...</td>\n",
              "      <td>카카오페이지</td>\n",
              "    </tr>\n",
              "    <tr>\n",
              "      <th>2</th>\n",
              "      <td>묵향 다크레이디</td>\n",
              "      <td>unknown</td>\n",
              "      <td>unknown</td>\n",
              "      <td>소년만화</td>\n",
              "      <td>마교의 교주로서 극강의 무공을 자랑하던 묵향은 적들 혈교 에 의해 생전 처음 보는 ...</td>\n",
              "      <td>카카오페이지</td>\n",
              "    </tr>\n",
              "  </tbody>\n",
              "</table>\n",
              "</div>"
            ],
            "text/plain": [
              "             title  ... platform\n",
              "0     우선 남동생부터 숨기자  ...   카카오페이지\n",
              "1  이번 생은 가주가 되겠습니다  ...   카카오페이지\n",
              "2         묵향 다크레이디  ...   카카오페이지\n",
              "\n",
              "[3 rows x 6 columns]"
            ]
          },
          "metadata": {},
          "execution_count": 23
        }
      ]
    },
    {
      "cell_type": "code",
      "metadata": {
        "colab": {
          "base_uri": "https://localhost:8080/"
        },
        "id": "jSmoiMwRElBC",
        "outputId": "969df949-d4fb-4d53-f4bb-273788ea5400"
      },
      "source": [
        "print(webtoon.iloc[0,4])\n",
        "print(web_copy.iloc[0,4])"
      ],
      "execution_count": 24,
      "outputs": [
        {
          "output_type": "stream",
          "name": "stdout",
          "text": [
            "하필이면 19금 다공일수 피폐 만화에 수의 하나뿐인 누나로 빙의하고 말았다! 재수없게도 광공 남주가 끔살시킬 첫 희생자가 누나인 나라니요 . 이렇게 죽기 싫으니 전략을 짜자. 우선, 또라이 공의 시야에서 남동생을 숨기는 거야!\n",
            "하필이면   금 다공일수 피폐 만화에 수의 하나뿐인 누나로 빙의하고 말았다  재수없게도 광공 남주가 끔살시킬 첫 희생자가 누나인 나라니요   이렇게 죽기 싫으니 전략을 짜자  우선  또라이 공의 시야에서 남동생을 숨기는 거야 \n"
          ]
        }
      ]
    },
    {
      "cell_type": "markdown",
      "metadata": {
        "id": "gYs3leWeGUFc"
      },
      "source": [
        "### 불용어제거"
      ]
    },
    {
      "cell_type": "code",
      "metadata": {
        "colab": {
          "base_uri": "https://localhost:8080/"
        },
        "id": "FW3z5KzZGTZp",
        "outputId": "dcb7147e-fae2-4220-dec3-113de2534c33"
      },
      "source": [
        "with open(path + 'stopwords_korean.txt','r',encoding='utf8') as f:\n",
        "    stopwords = f.readline()\n",
        "stopwords = stopwords.split()\n",
        "print(stopwords[:5])"
      ],
      "execution_count": 25,
      "outputs": [
        {
          "output_type": "stream",
          "name": "stdout",
          "text": [
            "['아', '휴', '아이구', '아이쿠', '아이고']\n"
          ]
        }
      ]
    },
    {
      "cell_type": "code",
      "metadata": {
        "colab": {
          "base_uri": "https://localhost:8080/"
        },
        "id": "tWdFcjprm0-1",
        "outputId": "7aa1105e-d099-4cf6-9060-cfdb4128fd80"
      },
      "source": [
        "new_word=['신작','은','는','도','고','이다','고','다','못','게','주인공','레알','작가','조자룡','곽백수','신성록','김소은','이상윤','린펑']\n",
        "stopwords.extend(new_word)\n",
        "print(stopwords[-20:])"
      ],
      "execution_count": 26,
      "outputs": [
        {
          "output_type": "stream",
          "name": "stdout",
          "text": [
            "['놓', '신작', '은', '는', '도', '고', '이다', '고', '다', '못', '게', '주인공', '레알', '작가', '조자룡', '곽백수', '신성록', '김소은', '이상윤', '린펑']\n"
          ]
        }
      ]
    },
    {
      "cell_type": "markdown",
      "metadata": {
        "id": "B-fHLFoYIMlg"
      },
      "source": [
        "### 토큰화"
      ]
    },
    {
      "cell_type": "code",
      "metadata": {
        "id": "20iPYdTOHp5z"
      },
      "source": [
        "from konlpy.tag import Okt, Hannanum, Kkma, Komoran, Mecab\n",
        "okt = Okt() # Okt : Open Korean Text\n",
        "hannanum = Hannanum() # Hannanum(한나눔) : KAIST\n",
        "kkma = Kkma() # Kkma(꼬꼬마) : 서울대학교\n",
        "komoran = Komoran() # Komoran : Shineware\n",
        "\n",
        "def okt_tokenizer(text):\n",
        "    # 입력 인자로 들어온 텍스트를 형태소 단어로 토큰화해 리스트 형태로 반환\n",
        "    tokens_ko = okt.morphs(text)\n",
        "    filtered_words = []\n",
        "    # 각 문장별 단어에 대해 스톱 워드 제거\n",
        "    for word in tokens_ko:\n",
        "        if word not in stopwords:\n",
        "            filtered_words.append(word)\n",
        "    \n",
        "    return filtered_words\n",
        "\n",
        "def kkma_tokenizer(text):\n",
        "    # 입력 인자로 들어온 텍스트를 형태소 단어로 토큰화해 리스트 형태로 반환\n",
        "    tokens_ko = kkma.morphs(text)\n",
        "    filtered_words = []\n",
        "    # 각 문장별 단어에 대해 스톱 워드 제거\n",
        "    for word in tokens_ko:\n",
        "        if word not in stopwords:\n",
        "            filtered_words.append(word)\n",
        "    \n",
        "    return filtered_words\n",
        "\n",
        "def hannanum_tokenizer(text):\n",
        "    # 입력 인자로 들어온 텍스트를 형태소 단어로 토큰화해 리스트 형태로 반환\n",
        "    tokens_ko = hannanum.morphs(text)\n",
        "    filtered_words = []\n",
        "    # 각 문장별 단어에 대해 스톱 워드 제거\n",
        "    for word in tokens_ko:\n",
        "        if word not in stopwords:\n",
        "            filtered_words.append(word)\n",
        "    \n",
        "    return filtered_words\n",
        "\n",
        "def komoran_tokenizer(text):\n",
        "    # 입력 인자로 들어온 텍스트를 형태소 단어로 토큰화해 리스트 형태로 반환\n",
        "    tokens_ko = komoran.morphs(text)\n",
        "    filtered_words = []\n",
        "    # 각 문장별 단어에 대해 스톱 워드 제거\n",
        "    for word in tokens_ko:\n",
        "        if word not in stopwords:\n",
        "            filtered_words.append(word)\n",
        "    \n",
        "    return filtered_words\n"
      ],
      "execution_count": 27,
      "outputs": []
    },
    {
      "cell_type": "code",
      "metadata": {
        "id": "n7EZkAVYK_B2"
      },
      "source": [
        "from sklearn.feature_extraction.text import TfidfVectorizer\n",
        "from scipy.sparse import hstack\n",
        "from sklearn.preprocessing import LabelBinarizer\n",
        "\n",
        "# 입력 값 : 토큰화 도구, 작가도 feature에 포함할지 여부, 제목도 feature에 포함할지 여부\n",
        "def get_sparse_matrix(tokenizer, author=True, title=True):\n",
        "    # 제목, 장르 벡터화\n",
        "    tfidf_nstory_vec = TfidfVectorizer(tokenizer=tokenizer)\n",
        "    tfidf_title_matrix = tfidf_nstory_vec.fit_transform(web_copy['title'])\n",
        "    tfidf_genre_matrix = tfidf_nstory_vec.fit_transform(web_copy['genre'])\n",
        "\n",
        "    # 작가 인코딩\n",
        "    if author:\n",
        "        lb = LabelBinarizer(sparse_output=True) # 다른 행렬과 합치기 위하여 희소 행렬로 반환\n",
        "        lb_writer_matrix = lb.fit_transform(web_copy['writer'])\n",
        "        lb_illustrator_matrix = lb.fit_transform(web_copy['illustrator'])\n",
        "    \n",
        "    # 줄거리 벡터화\n",
        "    tfidf_story_vec = TfidfVectorizer(tokenizer=tokenizer, ngram_range=(1, 2))\n",
        "    tfidf_story_matrix = tfidf_story_vec.fit_transform(web_copy['story'])\n",
        "    \n",
        "    # 만들어진 행렬을 합치기 위한 리스트\n",
        "    sparse_matrix_list = [tfidf_genre_matrix, tfidf_story_matrix]\n",
        "    if author:\n",
        "        sparse_matrix_list.append(lb_writer_matrix)\n",
        "        sparse_matrix_list.append(lb_illustrator_matrix)\n",
        "    \n",
        "    if title:\n",
        "        sparse_matrix_list.append(tfidf_title_matrix)\n",
        "    \n",
        "    sparse_matrix_list = tuple(sparse_matrix_list)\n",
        "\n",
        "    # 행렬 결합\n",
        "    X_features_sparse = hstack(sparse_matrix_list).tocsr()\n",
        "    print(type(X_features_sparse), X_features_sparse.shape)\n",
        "    \n",
        "    return X_features_sparse"
      ],
      "execution_count": 28,
      "outputs": []
    },
    {
      "cell_type": "code",
      "metadata": {
        "colab": {
          "base_uri": "https://localhost:8080/",
          "height": 53
        },
        "id": "atBorZtv3NIh",
        "outputId": "7224658d-14d9-4b93-91ac-2d093eb6f164"
      },
      "source": [
        "web_copy.story[0]"
      ],
      "execution_count": 29,
      "outputs": [
        {
          "output_type": "execute_result",
          "data": {
            "application/vnd.google.colaboratory.intrinsic+json": {
              "type": "string"
            },
            "text/plain": [
              "'하필이면   금 다공일수 피폐 만화에 수의 하나뿐인 누나로 빙의하고 말았다  재수없게도 광공 남주가 끔살시킬 첫 희생자가 누나인 나라니요   이렇게 죽기 싫으니 전략을 짜자  우선  또라이 공의 시야에서 남동생을 숨기는 거야 '"
            ]
          },
          "metadata": {},
          "execution_count": 29
        }
      ]
    },
    {
      "cell_type": "code",
      "metadata": {
        "colab": {
          "base_uri": "https://localhost:8080/"
        },
        "id": "ZLzExSS4IBVX",
        "outputId": "5d01d175-b2f3-4631-ee6f-6590bd31a8af"
      },
      "source": [
        "%%time\n",
        "\n",
        "tokenizers = [okt_tokenizer, kkma_tokenizer, hannanum_tokenizer, komoran_tokenizer]\n",
        "\n",
        "# 작가, 제목 포함 행렬\n",
        "all_contain_matrices = [get_sparse_matrix(tokenizer) for tokenizer in tokenizers]\n",
        "\n",
        "# 제목 포함, 작가 미포함 행렬\n",
        "title_contain_matrices = [get_sparse_matrix(tokenizer, author=False) for tokenizer in tokenizers]\n",
        "\n",
        "# 작가 포함, 제목 미포함 행렬\n",
        "author_contain_matrices = [get_sparse_matrix(tokenizer, title=False) for tokenizer in tokenizers]\n",
        "\n",
        "# 작가, 제목 미포함 행렬\n",
        "notall_contain_matrices = [get_sparse_matrix(tokenizer, title=False, author=False) for tokenizer in tokenizers]"
      ],
      "execution_count": 30,
      "outputs": [
        {
          "output_type": "stream",
          "name": "stdout",
          "text": [
            "<class 'scipy.sparse.csr.csr_matrix'> (3173, 130729)\n",
            "<class 'scipy.sparse.csr.csr_matrix'> (3173, 114133)\n",
            "<class 'scipy.sparse.csr.csr_matrix'> (3173, 115874)\n",
            "<class 'scipy.sparse.csr.csr_matrix'> (3173, 111791)\n",
            "<class 'scipy.sparse.csr.csr_matrix'> (3173, 128792)\n",
            "<class 'scipy.sparse.csr.csr_matrix'> (3173, 112196)\n",
            "<class 'scipy.sparse.csr.csr_matrix'> (3173, 113937)\n",
            "<class 'scipy.sparse.csr.csr_matrix'> (3173, 109854)\n",
            "<class 'scipy.sparse.csr.csr_matrix'> (3173, 126580)\n",
            "<class 'scipy.sparse.csr.csr_matrix'> (3173, 110466)\n",
            "<class 'scipy.sparse.csr.csr_matrix'> (3173, 111899)\n",
            "<class 'scipy.sparse.csr.csr_matrix'> (3173, 108082)\n",
            "<class 'scipy.sparse.csr.csr_matrix'> (3173, 124643)\n",
            "<class 'scipy.sparse.csr.csr_matrix'> (3173, 108529)\n",
            "<class 'scipy.sparse.csr.csr_matrix'> (3173, 109962)\n",
            "<class 'scipy.sparse.csr.csr_matrix'> (3173, 106145)\n",
            "CPU times: user 1h 6min 23s, sys: 22.1 s, total: 1h 6min 46s\n",
            "Wall time: 36min 34s\n"
          ]
        }
      ]
    },
    {
      "cell_type": "code",
      "metadata": {
        "id": "8URIulbGCF5K",
        "colab": {
          "base_uri": "https://localhost:8080/"
        },
        "outputId": "7da4b67d-2994-4c13-8a5b-cfb92496dab4"
      },
      "source": [
        "indices = pd.Series(webtoon.index, index=webtoon['title'])\n",
        "indices.head(3)"
      ],
      "execution_count": 31,
      "outputs": [
        {
          "output_type": "execute_result",
          "data": {
            "text/plain": [
              "title\n",
              "우선 남동생부터 숨기자       0\n",
              "이번 생은 가주가 되겠습니다    1\n",
              "묵향 다크레이디           2\n",
              "dtype: int64"
            ]
          },
          "metadata": {},
          "execution_count": 31
        }
      ]
    },
    {
      "cell_type": "code",
      "metadata": {
        "id": "oIg4OUx9_Dt-"
      },
      "source": [
        "import numpy as np\n",
        "from sklearn.metrics.pairwise import cosine_similarity\n",
        "\n",
        "# 입력 값 : 제목, top rank 수, 같은 장르만 뽑을지 여부, 작가를 feature로 넣을지 여부, 제목을 feature로 넣을 지 여부\n",
        "def get_recomm(title, rank=10, same_genre=False, author=True, _title=True):\n",
        "    # 코사인 유사도를 담을 array 생성\n",
        "    cosine_sim = np.zeros((len(webtoon), len(webtoon)))\n",
        "    \n",
        "    if author and _title:\n",
        "        matrices = all_contain_matrices\n",
        "    elif author:\n",
        "        matrices = author_contain_matrices\n",
        "    elif _title:\n",
        "        matrices = title_contain_matrices\n",
        "    else:\n",
        "        matrices = notall_contain_matrices\n",
        "    \n",
        "    # 코사인 유사도 계산\n",
        "    # 각 토큰화 도구로 계산한 코사인 유사도를 평균 (앙상블)\n",
        "    for matrix in matrices:\n",
        "        cosine_sim += cosine_similarity(matrix)\n",
        "    cosine_sim /= len(matrices)\n",
        "    \n",
        "    # 결과 출력을 위한 데이터 프레임 복사\n",
        "    print_copy = webtoon.copy()\n",
        "    \n",
        "    # 선택한 웹툰 제목으로부터 해당되는 인덱스를 받아옴\n",
        "    idx = indices[title]\n",
        "    \n",
        "    # 인덱스로부터 장르를 뽑아옴\n",
        "    genre = print_copy.loc[idx, 'genre']\n",
        "\n",
        "    # 유사도를 DataFrame에 붙임\n",
        "    print_copy['similarity'] = cosine_sim[idx]\n",
        "    \n",
        "    if same_genre:\n",
        "        # 동일 장르만을 보여줄 경우\n",
        "        return print_copy[print_copy['genre'] == genre].sort_values(by='similarity', ascending=False).iloc[1:1+rank, :]\n",
        "        \n",
        "    else:\n",
        "        # 다른 장르도 보여줄 경우\n",
        "        return print_copy.sort_values(by='similarity', ascending=False).iloc[1:1+rank, :]"
      ],
      "execution_count": 32,
      "outputs": []
    },
    {
      "cell_type": "code",
      "metadata": {
        "colab": {
          "base_uri": "https://localhost:8080/",
          "height": 682
        },
        "id": "NgktgQC4q-0O",
        "outputId": "10dec66c-d65b-4538-93f4-7874822aa248"
      },
      "source": [
        "get_recomm('비흔')"
      ],
      "execution_count": 33,
      "outputs": [
        {
          "output_type": "execute_result",
          "data": {
            "text/html": [
              "<div>\n",
              "<style scoped>\n",
              "    .dataframe tbody tr th:only-of-type {\n",
              "        vertical-align: middle;\n",
              "    }\n",
              "\n",
              "    .dataframe tbody tr th {\n",
              "        vertical-align: top;\n",
              "    }\n",
              "\n",
              "    .dataframe thead th {\n",
              "        text-align: right;\n",
              "    }\n",
              "</style>\n",
              "<table border=\"1\" class=\"dataframe\">\n",
              "  <thead>\n",
              "    <tr style=\"text-align: right;\">\n",
              "      <th></th>\n",
              "      <th>title</th>\n",
              "      <th>writer</th>\n",
              "      <th>illustrator</th>\n",
              "      <th>genre</th>\n",
              "      <th>story</th>\n",
              "      <th>platform</th>\n",
              "      <th>similarity</th>\n",
              "    </tr>\n",
              "  </thead>\n",
              "  <tbody>\n",
              "    <tr>\n",
              "      <th>3160</th>\n",
              "      <td>제로</td>\n",
              "      <td>정재한</td>\n",
              "      <td>이나루</td>\n",
              "      <td>스토리, 드라마</td>\n",
              "      <td>늘 행복한 길만 걸어가라고 지어 준 이름 제로 세상에 남은 그의 유일한 행복, 서연...</td>\n",
              "      <td>네이버 웹툰</td>\n",
              "      <td>0.240527</td>\n",
              "    </tr>\n",
              "    <tr>\n",
              "      <th>2464</th>\n",
              "      <td>[드라마원작] 스위트홈</td>\n",
              "      <td>김칸비</td>\n",
              "      <td>황영찬</td>\n",
              "      <td>스토리, 스릴러</td>\n",
              "      <td>절망의 세상을 비관하고 스스로를 고립시킨 한 소년,하지만 이제 소년은 밖으로 나가고...</td>\n",
              "      <td>네이버 웹툰</td>\n",
              "      <td>0.229607</td>\n",
              "    </tr>\n",
              "    <tr>\n",
              "      <th>2803</th>\n",
              "      <td>후레자식</td>\n",
              "      <td>김칸비</td>\n",
              "      <td>황영찬</td>\n",
              "      <td>스토리, 스릴러</td>\n",
              "      <td>내 집안에 살인마가 산다. 본격 세대갈등 잔혹 스릴러</td>\n",
              "      <td>네이버 웹툰</td>\n",
              "      <td>0.229461</td>\n",
              "    </tr>\n",
              "    <tr>\n",
              "      <th>2995</th>\n",
              "      <td>그린보이</td>\n",
              "      <td>정재한</td>\n",
              "      <td>임진국</td>\n",
              "      <td>스토리, 스포츠</td>\n",
              "      <td>챔피언을 노리는 거침없는 여자, 재인! 그녀를 동경하는 순둥이 남자, 태진! 챔피언...</td>\n",
              "      <td>네이버 웹툰</td>\n",
              "      <td>0.220309</td>\n",
              "    </tr>\n",
              "    <tr>\n",
              "      <th>3159</th>\n",
              "      <td>태왕광개토</td>\n",
              "      <td>청안랑</td>\n",
              "      <td>김인호</td>\n",
              "      <td>스토리, 시대극</td>\n",
              "      <td>고구려 19대 왕! 한반도 역사상 최대의 영토를 확장한 정복 군주. 고구려의 세력권...</td>\n",
              "      <td>네이버 웹툰</td>\n",
              "      <td>0.205213</td>\n",
              "    </tr>\n",
              "    <tr>\n",
              "      <th>2980</th>\n",
              "      <td>삵의 발톱</td>\n",
              "      <td>손영완</td>\n",
              "      <td>손영완</td>\n",
              "      <td>스토리, 시대극</td>\n",
              "      <td>중국의 위촉오시대, 삼국지연의만이 전부가 아니다. 고구려인, 백제인의 시각에서 바라...</td>\n",
              "      <td>네이버 웹툰</td>\n",
              "      <td>0.204845</td>\n",
              "    </tr>\n",
              "    <tr>\n",
              "      <th>2720</th>\n",
              "      <td>천국의 신화 6부</td>\n",
              "      <td>올댓스토리</td>\n",
              "      <td>이현세</td>\n",
              "      <td>스토리, 시대극</td>\n",
              "      <td>10년을 기다린 이현세 화백의 천국의 신화, 그 다음이야기.새로운 대단원의 막이 오른다.</td>\n",
              "      <td>네이버 웹툰</td>\n",
              "      <td>0.203219</td>\n",
              "    </tr>\n",
              "    <tr>\n",
              "      <th>3091</th>\n",
              "      <td>흐드러지다</td>\n",
              "      <td>연제원</td>\n",
              "      <td>연제원</td>\n",
              "      <td>스토리, 시대극</td>\n",
              "      <td>지배하는 자, 차지하려는 자 그리고 암살자.쥬신의 황궁을 둘러 싼 음모와 배신그 뒤...</td>\n",
              "      <td>네이버 웹툰</td>\n",
              "      <td>0.203021</td>\n",
              "    </tr>\n",
              "    <tr>\n",
              "      <th>2467</th>\n",
              "      <td>조선방랑야사</td>\n",
              "      <td>가현</td>\n",
              "      <td>가현</td>\n",
              "      <td>스토리, 시대극</td>\n",
              "      <td>한때 조선 한양 책방에서 연애담 소설로 최고 인기를 구가하던 선비 성기임.수험 압박...</td>\n",
              "      <td>네이버 웹툰</td>\n",
              "      <td>0.202514</td>\n",
              "    </tr>\n",
              "    <tr>\n",
              "      <th>2881</th>\n",
              "      <td>문아</td>\n",
              "      <td>팬마</td>\n",
              "      <td>팬마</td>\n",
              "      <td>스토리, 시대극</td>\n",
              "      <td>평범한 삶을 살려는 특별한 사람과 특별한 자신을 찾으려는 평범한 사람 신과 사람의 ...</td>\n",
              "      <td>네이버 웹툰</td>\n",
              "      <td>0.201329</td>\n",
              "    </tr>\n",
              "  </tbody>\n",
              "</table>\n",
              "</div>"
            ],
            "text/plain": [
              "             title writer  ... platform similarity\n",
              "3160            제로    정재한  ...   네이버 웹툰   0.240527\n",
              "2464  [드라마원작] 스위트홈    김칸비  ...   네이버 웹툰   0.229607\n",
              "2803          후레자식    김칸비  ...   네이버 웹툰   0.229461\n",
              "2995          그린보이    정재한  ...   네이버 웹툰   0.220309\n",
              "3159         태왕광개토    청안랑  ...   네이버 웹툰   0.205213\n",
              "2980         삵의 발톱    손영완  ...   네이버 웹툰   0.204845\n",
              "2720     천국의 신화 6부  올댓스토리  ...   네이버 웹툰   0.203219\n",
              "3091         흐드러지다    연제원  ...   네이버 웹툰   0.203021\n",
              "2467        조선방랑야사     가현  ...   네이버 웹툰   0.202514\n",
              "2881            문아     팬마  ...   네이버 웹툰   0.201329\n",
              "\n",
              "[10 rows x 7 columns]"
            ]
          },
          "metadata": {},
          "execution_count": 33
        }
      ]
    },
    {
      "cell_type": "code",
      "metadata": {
        "colab": {
          "base_uri": "https://localhost:8080/",
          "height": 665
        },
        "id": "oA7cxRziq-0k",
        "outputId": "57bc6c86-3afa-49e3-c2fc-c73273656f54"
      },
      "source": [
        "get_recomm('비흔',author=False)"
      ],
      "execution_count": 34,
      "outputs": [
        {
          "output_type": "execute_result",
          "data": {
            "text/html": [
              "<div>\n",
              "<style scoped>\n",
              "    .dataframe tbody tr th:only-of-type {\n",
              "        vertical-align: middle;\n",
              "    }\n",
              "\n",
              "    .dataframe tbody tr th {\n",
              "        vertical-align: top;\n",
              "    }\n",
              "\n",
              "    .dataframe thead th {\n",
              "        text-align: right;\n",
              "    }\n",
              "</style>\n",
              "<table border=\"1\" class=\"dataframe\">\n",
              "  <thead>\n",
              "    <tr style=\"text-align: right;\">\n",
              "      <th></th>\n",
              "      <th>title</th>\n",
              "      <th>writer</th>\n",
              "      <th>illustrator</th>\n",
              "      <th>genre</th>\n",
              "      <th>story</th>\n",
              "      <th>platform</th>\n",
              "      <th>similarity</th>\n",
              "    </tr>\n",
              "  </thead>\n",
              "  <tbody>\n",
              "    <tr>\n",
              "      <th>3159</th>\n",
              "      <td>태왕광개토</td>\n",
              "      <td>청안랑</td>\n",
              "      <td>김인호</td>\n",
              "      <td>스토리, 시대극</td>\n",
              "      <td>고구려 19대 왕! 한반도 역사상 최대의 영토를 확장한 정복 군주. 고구려의 세력권...</td>\n",
              "      <td>네이버 웹툰</td>\n",
              "      <td>0.342022</td>\n",
              "    </tr>\n",
              "    <tr>\n",
              "      <th>2980</th>\n",
              "      <td>삵의 발톱</td>\n",
              "      <td>손영완</td>\n",
              "      <td>손영완</td>\n",
              "      <td>스토리, 시대극</td>\n",
              "      <td>중국의 위촉오시대, 삼국지연의만이 전부가 아니다. 고구려인, 백제인의 시각에서 바라...</td>\n",
              "      <td>네이버 웹툰</td>\n",
              "      <td>0.341409</td>\n",
              "    </tr>\n",
              "    <tr>\n",
              "      <th>2720</th>\n",
              "      <td>천국의 신화 6부</td>\n",
              "      <td>올댓스토리</td>\n",
              "      <td>이현세</td>\n",
              "      <td>스토리, 시대극</td>\n",
              "      <td>10년을 기다린 이현세 화백의 천국의 신화, 그 다음이야기.새로운 대단원의 막이 오른다.</td>\n",
              "      <td>네이버 웹툰</td>\n",
              "      <td>0.338698</td>\n",
              "    </tr>\n",
              "    <tr>\n",
              "      <th>3091</th>\n",
              "      <td>흐드러지다</td>\n",
              "      <td>연제원</td>\n",
              "      <td>연제원</td>\n",
              "      <td>스토리, 시대극</td>\n",
              "      <td>지배하는 자, 차지하려는 자 그리고 암살자.쥬신의 황궁을 둘러 싼 음모와 배신그 뒤...</td>\n",
              "      <td>네이버 웹툰</td>\n",
              "      <td>0.338369</td>\n",
              "    </tr>\n",
              "    <tr>\n",
              "      <th>2467</th>\n",
              "      <td>조선방랑야사</td>\n",
              "      <td>가현</td>\n",
              "      <td>가현</td>\n",
              "      <td>스토리, 시대극</td>\n",
              "      <td>한때 조선 한양 책방에서 연애담 소설로 최고 인기를 구가하던 선비 성기임.수험 압박...</td>\n",
              "      <td>네이버 웹툰</td>\n",
              "      <td>0.337524</td>\n",
              "    </tr>\n",
              "    <tr>\n",
              "      <th>2881</th>\n",
              "      <td>문아</td>\n",
              "      <td>팬마</td>\n",
              "      <td>팬마</td>\n",
              "      <td>스토리, 시대극</td>\n",
              "      <td>평범한 삶을 살려는 특별한 사람과 특별한 자신을 찾으려는 평범한 사람 신과 사람의 ...</td>\n",
              "      <td>네이버 웹툰</td>\n",
              "      <td>0.335549</td>\n",
              "    </tr>\n",
              "    <tr>\n",
              "      <th>1842</th>\n",
              "      <td>화산귀환</td>\n",
              "      <td>비가</td>\n",
              "      <td>LICO</td>\n",
              "      <td>스토리, 시대극</td>\n",
              "      <td>대 화산파 13대 제자.천하삼대검수 매화검존 청명. 천하를 혼란에 빠뜨린 고금제일마...</td>\n",
              "      <td>네이버 웹툰</td>\n",
              "      <td>0.335105</td>\n",
              "    </tr>\n",
              "    <tr>\n",
              "      <th>2604</th>\n",
              "      <td>왕으로 살다</td>\n",
              "      <td>네스티캣</td>\n",
              "      <td>네스티캣</td>\n",
              "      <td>스토리, 시대극</td>\n",
              "      <td>살해당한 쌍둥이 오빠를 대신해 왕의 자리에 오른 화현의 운명은?</td>\n",
              "      <td>네이버 웹툰</td>\n",
              "      <td>0.334650</td>\n",
              "    </tr>\n",
              "    <tr>\n",
              "      <th>3029</th>\n",
              "      <td>한섬세대</td>\n",
              "      <td>유승진</td>\n",
              "      <td>유승진</td>\n",
              "      <td>스토리, 시대극</td>\n",
              "      <td>조선후기의 평범한 관리지망생 한섬. 만만치 않은 길이지만, 한섬이는 만만디. 과연 ...</td>\n",
              "      <td>네이버 웹툰</td>\n",
              "      <td>0.334352</td>\n",
              "    </tr>\n",
              "    <tr>\n",
              "      <th>2841</th>\n",
              "      <td>아이소포스 1, 2부</td>\n",
              "      <td>김양수</td>\n",
              "      <td>도가도</td>\n",
              "      <td>스토리, 시대극</td>\n",
              "      <td>이솝우화의 이솝, 자신의 운명을 바꾼 한 사람의 이야기.</td>\n",
              "      <td>네이버 웹툰</td>\n",
              "      <td>0.334227</td>\n",
              "    </tr>\n",
              "  </tbody>\n",
              "</table>\n",
              "</div>"
            ],
            "text/plain": [
              "            title writer  ... platform similarity\n",
              "3159        태왕광개토    청안랑  ...   네이버 웹툰   0.342022\n",
              "2980        삵의 발톱    손영완  ...   네이버 웹툰   0.341409\n",
              "2720    천국의 신화 6부  올댓스토리  ...   네이버 웹툰   0.338698\n",
              "3091        흐드러지다    연제원  ...   네이버 웹툰   0.338369\n",
              "2467       조선방랑야사     가현  ...   네이버 웹툰   0.337524\n",
              "2881           문아     팬마  ...   네이버 웹툰   0.335549\n",
              "1842         화산귀환     비가  ...   네이버 웹툰   0.335105\n",
              "2604       왕으로 살다   네스티캣  ...   네이버 웹툰   0.334650\n",
              "3029         한섬세대    유승진  ...   네이버 웹툰   0.334352\n",
              "2841  아이소포스 1, 2부    김양수  ...   네이버 웹툰   0.334227\n",
              "\n",
              "[10 rows x 7 columns]"
            ]
          },
          "metadata": {},
          "execution_count": 34
        }
      ]
    },
    {
      "cell_type": "code",
      "metadata": {
        "colab": {
          "base_uri": "https://localhost:8080/",
          "height": 665
        },
        "id": "ZeoRfzFEG4_q",
        "outputId": "46e052f7-b5e9-4f37-8fce-235f0594ebf7"
      },
      "source": [
        "get_recomm('비흔',author=False,_title=False)"
      ],
      "execution_count": 35,
      "outputs": [
        {
          "output_type": "execute_result",
          "data": {
            "text/html": [
              "<div>\n",
              "<style scoped>\n",
              "    .dataframe tbody tr th:only-of-type {\n",
              "        vertical-align: middle;\n",
              "    }\n",
              "\n",
              "    .dataframe tbody tr th {\n",
              "        vertical-align: top;\n",
              "    }\n",
              "\n",
              "    .dataframe thead th {\n",
              "        text-align: right;\n",
              "    }\n",
              "</style>\n",
              "<table border=\"1\" class=\"dataframe\">\n",
              "  <thead>\n",
              "    <tr style=\"text-align: right;\">\n",
              "      <th></th>\n",
              "      <th>title</th>\n",
              "      <th>writer</th>\n",
              "      <th>illustrator</th>\n",
              "      <th>genre</th>\n",
              "      <th>story</th>\n",
              "      <th>platform</th>\n",
              "      <th>similarity</th>\n",
              "    </tr>\n",
              "  </thead>\n",
              "  <tbody>\n",
              "    <tr>\n",
              "      <th>3159</th>\n",
              "      <td>태왕광개토</td>\n",
              "      <td>청안랑</td>\n",
              "      <td>김인호</td>\n",
              "      <td>스토리, 시대극</td>\n",
              "      <td>고구려 19대 왕! 한반도 역사상 최대의 영토를 확장한 정복 군주. 고구려의 세력권...</td>\n",
              "      <td>네이버 웹툰</td>\n",
              "      <td>0.513033</td>\n",
              "    </tr>\n",
              "    <tr>\n",
              "      <th>2980</th>\n",
              "      <td>삵의 발톱</td>\n",
              "      <td>손영완</td>\n",
              "      <td>손영완</td>\n",
              "      <td>스토리, 시대극</td>\n",
              "      <td>중국의 위촉오시대, 삼국지연의만이 전부가 아니다. 고구려인, 백제인의 시각에서 바라...</td>\n",
              "      <td>네이버 웹툰</td>\n",
              "      <td>0.512113</td>\n",
              "    </tr>\n",
              "    <tr>\n",
              "      <th>2720</th>\n",
              "      <td>천국의 신화 6부</td>\n",
              "      <td>올댓스토리</td>\n",
              "      <td>이현세</td>\n",
              "      <td>스토리, 시대극</td>\n",
              "      <td>10년을 기다린 이현세 화백의 천국의 신화, 그 다음이야기.새로운 대단원의 막이 오른다.</td>\n",
              "      <td>네이버 웹툰</td>\n",
              "      <td>0.508047</td>\n",
              "    </tr>\n",
              "    <tr>\n",
              "      <th>3091</th>\n",
              "      <td>흐드러지다</td>\n",
              "      <td>연제원</td>\n",
              "      <td>연제원</td>\n",
              "      <td>스토리, 시대극</td>\n",
              "      <td>지배하는 자, 차지하려는 자 그리고 암살자.쥬신의 황궁을 둘러 싼 음모와 배신그 뒤...</td>\n",
              "      <td>네이버 웹툰</td>\n",
              "      <td>0.507553</td>\n",
              "    </tr>\n",
              "    <tr>\n",
              "      <th>2467</th>\n",
              "      <td>조선방랑야사</td>\n",
              "      <td>가현</td>\n",
              "      <td>가현</td>\n",
              "      <td>스토리, 시대극</td>\n",
              "      <td>한때 조선 한양 책방에서 연애담 소설로 최고 인기를 구가하던 선비 성기임.수험 압박...</td>\n",
              "      <td>네이버 웹툰</td>\n",
              "      <td>0.506285</td>\n",
              "    </tr>\n",
              "    <tr>\n",
              "      <th>2881</th>\n",
              "      <td>문아</td>\n",
              "      <td>팬마</td>\n",
              "      <td>팬마</td>\n",
              "      <td>스토리, 시대극</td>\n",
              "      <td>평범한 삶을 살려는 특별한 사람과 특별한 자신을 찾으려는 평범한 사람 신과 사람의 ...</td>\n",
              "      <td>네이버 웹툰</td>\n",
              "      <td>0.503323</td>\n",
              "    </tr>\n",
              "    <tr>\n",
              "      <th>1842</th>\n",
              "      <td>화산귀환</td>\n",
              "      <td>비가</td>\n",
              "      <td>LICO</td>\n",
              "      <td>스토리, 시대극</td>\n",
              "      <td>대 화산파 13대 제자.천하삼대검수 매화검존 청명. 천하를 혼란에 빠뜨린 고금제일마...</td>\n",
              "      <td>네이버 웹툰</td>\n",
              "      <td>0.502657</td>\n",
              "    </tr>\n",
              "    <tr>\n",
              "      <th>2604</th>\n",
              "      <td>왕으로 살다</td>\n",
              "      <td>네스티캣</td>\n",
              "      <td>네스티캣</td>\n",
              "      <td>스토리, 시대극</td>\n",
              "      <td>살해당한 쌍둥이 오빠를 대신해 왕의 자리에 오른 화현의 운명은?</td>\n",
              "      <td>네이버 웹툰</td>\n",
              "      <td>0.501976</td>\n",
              "    </tr>\n",
              "    <tr>\n",
              "      <th>3029</th>\n",
              "      <td>한섬세대</td>\n",
              "      <td>유승진</td>\n",
              "      <td>유승진</td>\n",
              "      <td>스토리, 시대극</td>\n",
              "      <td>조선후기의 평범한 관리지망생 한섬. 만만치 않은 길이지만, 한섬이는 만만디. 과연 ...</td>\n",
              "      <td>네이버 웹툰</td>\n",
              "      <td>0.501528</td>\n",
              "    </tr>\n",
              "    <tr>\n",
              "      <th>2841</th>\n",
              "      <td>아이소포스 1, 2부</td>\n",
              "      <td>김양수</td>\n",
              "      <td>도가도</td>\n",
              "      <td>스토리, 시대극</td>\n",
              "      <td>이솝우화의 이솝, 자신의 운명을 바꾼 한 사람의 이야기.</td>\n",
              "      <td>네이버 웹툰</td>\n",
              "      <td>0.501341</td>\n",
              "    </tr>\n",
              "  </tbody>\n",
              "</table>\n",
              "</div>"
            ],
            "text/plain": [
              "            title writer  ... platform similarity\n",
              "3159        태왕광개토    청안랑  ...   네이버 웹툰   0.513033\n",
              "2980        삵의 발톱    손영완  ...   네이버 웹툰   0.512113\n",
              "2720    천국의 신화 6부  올댓스토리  ...   네이버 웹툰   0.508047\n",
              "3091        흐드러지다    연제원  ...   네이버 웹툰   0.507553\n",
              "2467       조선방랑야사     가현  ...   네이버 웹툰   0.506285\n",
              "2881           문아     팬마  ...   네이버 웹툰   0.503323\n",
              "1842         화산귀환     비가  ...   네이버 웹툰   0.502657\n",
              "2604       왕으로 살다   네스티캣  ...   네이버 웹툰   0.501976\n",
              "3029         한섬세대    유승진  ...   네이버 웹툰   0.501528\n",
              "2841  아이소포스 1, 2부    김양수  ...   네이버 웹툰   0.501341\n",
              "\n",
              "[10 rows x 7 columns]"
            ]
          },
          "metadata": {},
          "execution_count": 35
        }
      ]
    },
    {
      "cell_type": "code",
      "metadata": {
        "colab": {
          "base_uri": "https://localhost:8080/",
          "height": 648
        },
        "id": "Z3uchL8lHNCT",
        "outputId": "52fa143f-5d4a-4594-bca4-73fc6e0f4495"
      },
      "source": [
        "get_recomm('프리드로우')"
      ],
      "execution_count": 36,
      "outputs": [
        {
          "output_type": "execute_result",
          "data": {
            "text/html": [
              "<div>\n",
              "<style scoped>\n",
              "    .dataframe tbody tr th:only-of-type {\n",
              "        vertical-align: middle;\n",
              "    }\n",
              "\n",
              "    .dataframe tbody tr th {\n",
              "        vertical-align: top;\n",
              "    }\n",
              "\n",
              "    .dataframe thead th {\n",
              "        text-align: right;\n",
              "    }\n",
              "</style>\n",
              "<table border=\"1\" class=\"dataframe\">\n",
              "  <thead>\n",
              "    <tr style=\"text-align: right;\">\n",
              "      <th></th>\n",
              "      <th>title</th>\n",
              "      <th>writer</th>\n",
              "      <th>illustrator</th>\n",
              "      <th>genre</th>\n",
              "      <th>story</th>\n",
              "      <th>platform</th>\n",
              "      <th>similarity</th>\n",
              "    </tr>\n",
              "  </thead>\n",
              "  <tbody>\n",
              "    <tr>\n",
              "      <th>2304</th>\n",
              "      <td>아이고 아이고</td>\n",
              "      <td>하모</td>\n",
              "      <td>하모</td>\n",
              "      <td>스토리, 드라마</td>\n",
              "      <td>자유분방한 삶을 살던 가수 지망생.불의의 사고를 겪고 장례지도사가 되기를 결심한다.</td>\n",
              "      <td>네이버 웹툰</td>\n",
              "      <td>0.224070</td>\n",
              "    </tr>\n",
              "    <tr>\n",
              "      <th>1784</th>\n",
              "      <td>집이 없어</td>\n",
              "      <td>와난</td>\n",
              "      <td>와난</td>\n",
              "      <td>스토리, 드라마</td>\n",
              "      <td>집을 버리고 뛰쳐나간 고해준, 집 없이 텐트 생활하는 문제아 백은영. 악연으로 만난...</td>\n",
              "      <td>네이버 웹툰</td>\n",
              "      <td>0.218777</td>\n",
              "    </tr>\n",
              "    <tr>\n",
              "      <th>1761</th>\n",
              "      <td>바로 보지 않는</td>\n",
              "      <td>지민</td>\n",
              "      <td>지민</td>\n",
              "      <td>스토리, 드라마</td>\n",
              "      <td>몇 번의 연애 끝에 민주는 일찌감치 사랑보다 우정을 택하기로 결심한다. 난 희진이 ...</td>\n",
              "      <td>네이버 웹툰</td>\n",
              "      <td>0.217831</td>\n",
              "    </tr>\n",
              "    <tr>\n",
              "      <th>2194</th>\n",
              "      <td>자취방 신선들</td>\n",
              "      <td>마로</td>\n",
              "      <td>강재건</td>\n",
              "      <td>스토리, 드라마</td>\n",
              "      <td>옥황상제를 꿈꾸는 선녀 묘령 . 인간들이 아파트를 짓느라 산을 밀어버리는 바람에 백...</td>\n",
              "      <td>네이버 웹툰</td>\n",
              "      <td>0.215098</td>\n",
              "    </tr>\n",
              "    <tr>\n",
              "      <th>2185</th>\n",
              "      <td>말하는대로</td>\n",
              "      <td>무브</td>\n",
              "      <td>무브</td>\n",
              "      <td>스토리, 드라마</td>\n",
              "      <td>꿈도 목표도 없이 하루하루를 살아가던 평범한 고등학교 3학년생 주현. 어느 날부터 ...</td>\n",
              "      <td>네이버 웹툰</td>\n",
              "      <td>0.212424</td>\n",
              "    </tr>\n",
              "    <tr>\n",
              "      <th>2428</th>\n",
              "      <td>너에게 하고 싶은 말</td>\n",
              "      <td>정지훈</td>\n",
              "      <td>정지훈</td>\n",
              "      <td>스토리, 드라마</td>\n",
              "      <td>절망 속에서 피어난 희망</td>\n",
              "      <td>네이버 웹툰</td>\n",
              "      <td>0.212345</td>\n",
              "    </tr>\n",
              "    <tr>\n",
              "      <th>2818</th>\n",
              "      <td>2호선 세입자</td>\n",
              "      <td>정은경</td>\n",
              "      <td>여원</td>\n",
              "      <td>스토리, 드라마</td>\n",
              "      <td>2호선엔 왜 사람이 많을까?지하철에서 벌어지는 로맨틱 휴먼 드라마</td>\n",
              "      <td>네이버 웹툰</td>\n",
              "      <td>0.210624</td>\n",
              "    </tr>\n",
              "    <tr>\n",
              "      <th>2310</th>\n",
              "      <td>우리는 여기!</td>\n",
              "      <td>달꼬냑</td>\n",
              "      <td>달꼬냑</td>\n",
              "      <td>스토리, 드라마</td>\n",
              "      <td>새학기가 시작된지 일주일이 지났다.하나 둘 씩 모이더니 어느세 다들 친구를 가진 것...</td>\n",
              "      <td>네이버 웹툰</td>\n",
              "      <td>0.208911</td>\n",
              "    </tr>\n",
              "    <tr>\n",
              "      <th>2306</th>\n",
              "      <td>이것도 친구라고</td>\n",
              "      <td>제야</td>\n",
              "      <td>제야</td>\n",
              "      <td>스토리, 드라마</td>\n",
              "      <td>내 평범한 일상을 조여오는 시한폭탄 같은 녀석들이 찾아왔다! 파란만장한 청춘 라이프</td>\n",
              "      <td>네이버 웹툰</td>\n",
              "      <td>0.208670</td>\n",
              "    </tr>\n",
              "    <tr>\n",
              "      <th>2296</th>\n",
              "      <td>지랄발광</td>\n",
              "      <td>김인호</td>\n",
              "      <td>김인호</td>\n",
              "      <td>스토리, 드라마</td>\n",
              "      <td>청춘이 질주한다. 그곳에 꿈이 있으니까! 화려한 농구와 청춘의 프리스타일</td>\n",
              "      <td>네이버 웹툰</td>\n",
              "      <td>0.207471</td>\n",
              "    </tr>\n",
              "  </tbody>\n",
              "</table>\n",
              "</div>"
            ],
            "text/plain": [
              "            title writer  ... platform similarity\n",
              "2304      아이고 아이고     하모  ...   네이버 웹툰   0.224070\n",
              "1784        집이 없어     와난  ...   네이버 웹툰   0.218777\n",
              "1761     바로 보지 않는     지민  ...   네이버 웹툰   0.217831\n",
              "2194      자취방 신선들     마로  ...   네이버 웹툰   0.215098\n",
              "2185        말하는대로     무브  ...   네이버 웹툰   0.212424\n",
              "2428  너에게 하고 싶은 말    정지훈  ...   네이버 웹툰   0.212345\n",
              "2818      2호선 세입자    정은경  ...   네이버 웹툰   0.210624\n",
              "2310      우리는 여기!    달꼬냑  ...   네이버 웹툰   0.208911\n",
              "2306     이것도 친구라고     제야  ...   네이버 웹툰   0.208670\n",
              "2296         지랄발광    김인호  ...   네이버 웹툰   0.207471\n",
              "\n",
              "[10 rows x 7 columns]"
            ]
          },
          "metadata": {},
          "execution_count": 36
        }
      ]
    },
    {
      "cell_type": "code",
      "metadata": {
        "colab": {
          "base_uri": "https://localhost:8080/",
          "height": 665
        },
        "id": "IfOEXX1OHYia",
        "outputId": "cda60109-4691-4d85-b69b-c603433777bc"
      },
      "source": [
        "get_recomm('프리드로우',author=False)"
      ],
      "execution_count": 37,
      "outputs": [
        {
          "output_type": "execute_result",
          "data": {
            "text/html": [
              "<div>\n",
              "<style scoped>\n",
              "    .dataframe tbody tr th:only-of-type {\n",
              "        vertical-align: middle;\n",
              "    }\n",
              "\n",
              "    .dataframe tbody tr th {\n",
              "        vertical-align: top;\n",
              "    }\n",
              "\n",
              "    .dataframe thead th {\n",
              "        text-align: right;\n",
              "    }\n",
              "</style>\n",
              "<table border=\"1\" class=\"dataframe\">\n",
              "  <thead>\n",
              "    <tr style=\"text-align: right;\">\n",
              "      <th></th>\n",
              "      <th>title</th>\n",
              "      <th>writer</th>\n",
              "      <th>illustrator</th>\n",
              "      <th>genre</th>\n",
              "      <th>story</th>\n",
              "      <th>platform</th>\n",
              "      <th>similarity</th>\n",
              "    </tr>\n",
              "  </thead>\n",
              "  <tbody>\n",
              "    <tr>\n",
              "      <th>2304</th>\n",
              "      <td>아이고 아이고</td>\n",
              "      <td>하모</td>\n",
              "      <td>하모</td>\n",
              "      <td>스토리, 드라마</td>\n",
              "      <td>자유분방한 삶을 살던 가수 지망생.불의의 사고를 겪고 장례지도사가 되기를 결심한다.</td>\n",
              "      <td>네이버 웹툰</td>\n",
              "      <td>0.409094</td>\n",
              "    </tr>\n",
              "    <tr>\n",
              "      <th>1784</th>\n",
              "      <td>집이 없어</td>\n",
              "      <td>와난</td>\n",
              "      <td>와난</td>\n",
              "      <td>스토리, 드라마</td>\n",
              "      <td>집을 버리고 뛰쳐나간 고해준, 집 없이 텐트 생활하는 문제아 백은영. 악연으로 만난...</td>\n",
              "      <td>네이버 웹툰</td>\n",
              "      <td>0.391476</td>\n",
              "    </tr>\n",
              "    <tr>\n",
              "      <th>1761</th>\n",
              "      <td>바로 보지 않는</td>\n",
              "      <td>지민</td>\n",
              "      <td>지민</td>\n",
              "      <td>스토리, 드라마</td>\n",
              "      <td>몇 번의 연애 끝에 민주는 일찌감치 사랑보다 우정을 택하기로 결심한다. 난 희진이 ...</td>\n",
              "      <td>네이버 웹툰</td>\n",
              "      <td>0.389749</td>\n",
              "    </tr>\n",
              "    <tr>\n",
              "      <th>2185</th>\n",
              "      <td>말하는대로</td>\n",
              "      <td>무브</td>\n",
              "      <td>무브</td>\n",
              "      <td>스토리, 드라마</td>\n",
              "      <td>꿈도 목표도 없이 하루하루를 살아가던 평범한 고등학교 3학년생 주현. 어느 날부터 ...</td>\n",
              "      <td>네이버 웹툰</td>\n",
              "      <td>0.371924</td>\n",
              "    </tr>\n",
              "    <tr>\n",
              "      <th>2428</th>\n",
              "      <td>너에게 하고 싶은 말</td>\n",
              "      <td>정지훈</td>\n",
              "      <td>정지훈</td>\n",
              "      <td>스토리, 드라마</td>\n",
              "      <td>절망 속에서 피어난 희망</td>\n",
              "      <td>네이버 웹툰</td>\n",
              "      <td>0.371760</td>\n",
              "    </tr>\n",
              "    <tr>\n",
              "      <th>2194</th>\n",
              "      <td>자취방 신선들</td>\n",
              "      <td>마로</td>\n",
              "      <td>강재건</td>\n",
              "      <td>스토리, 드라마</td>\n",
              "      <td>옥황상제를 꿈꾸는 선녀 묘령 . 인간들이 아파트를 짓느라 산을 밀어버리는 바람에 백...</td>\n",
              "      <td>네이버 웹툰</td>\n",
              "      <td>0.358497</td>\n",
              "    </tr>\n",
              "    <tr>\n",
              "      <th>2305</th>\n",
              "      <td>너에게만 보이는</td>\n",
              "      <td>소소만</td>\n",
              "      <td>소소만</td>\n",
              "      <td>스토리, 드라마</td>\n",
              "      <td>나의 위로가 너에게 닿기를!항상 쓸쓸한 처지인 나주금은 유일한 버팀목이자 친구인 반...</td>\n",
              "      <td>네이버 웹툰</td>\n",
              "      <td>0.354290</td>\n",
              "    </tr>\n",
              "    <tr>\n",
              "      <th>2818</th>\n",
              "      <td>2호선 세입자</td>\n",
              "      <td>정은경</td>\n",
              "      <td>여원</td>\n",
              "      <td>스토리, 드라마</td>\n",
              "      <td>2호선엔 왜 사람이 많을까?지하철에서 벌어지는 로맨틱 휴먼 드라마</td>\n",
              "      <td>네이버 웹툰</td>\n",
              "      <td>0.351041</td>\n",
              "    </tr>\n",
              "    <tr>\n",
              "      <th>2310</th>\n",
              "      <td>우리는 여기!</td>\n",
              "      <td>달꼬냑</td>\n",
              "      <td>달꼬냑</td>\n",
              "      <td>스토리, 드라마</td>\n",
              "      <td>새학기가 시작된지 일주일이 지났다.하나 둘 씩 모이더니 어느세 다들 친구를 가진 것...</td>\n",
              "      <td>네이버 웹툰</td>\n",
              "      <td>0.348185</td>\n",
              "    </tr>\n",
              "    <tr>\n",
              "      <th>2306</th>\n",
              "      <td>이것도 친구라고</td>\n",
              "      <td>제야</td>\n",
              "      <td>제야</td>\n",
              "      <td>스토리, 드라마</td>\n",
              "      <td>내 평범한 일상을 조여오는 시한폭탄 같은 녀석들이 찾아왔다! 파란만장한 청춘 라이프</td>\n",
              "      <td>네이버 웹툰</td>\n",
              "      <td>0.347783</td>\n",
              "    </tr>\n",
              "  </tbody>\n",
              "</table>\n",
              "</div>"
            ],
            "text/plain": [
              "            title writer  ... platform similarity\n",
              "2304      아이고 아이고     하모  ...   네이버 웹툰   0.409094\n",
              "1784        집이 없어     와난  ...   네이버 웹툰   0.391476\n",
              "1761     바로 보지 않는     지민  ...   네이버 웹툰   0.389749\n",
              "2185        말하는대로     무브  ...   네이버 웹툰   0.371924\n",
              "2428  너에게 하고 싶은 말    정지훈  ...   네이버 웹툰   0.371760\n",
              "2194      자취방 신선들     마로  ...   네이버 웹툰   0.358497\n",
              "2305     너에게만 보이는    소소만  ...   네이버 웹툰   0.354290\n",
              "2818      2호선 세입자    정은경  ...   네이버 웹툰   0.351041\n",
              "2310      우리는 여기!    달꼬냑  ...   네이버 웹툰   0.348185\n",
              "2306     이것도 친구라고     제야  ...   네이버 웹툰   0.347783\n",
              "\n",
              "[10 rows x 7 columns]"
            ]
          },
          "metadata": {},
          "execution_count": 37
        }
      ]
    },
    {
      "cell_type": "code",
      "metadata": {
        "colab": {
          "base_uri": "https://localhost:8080/",
          "height": 648
        },
        "id": "WgyZVfACHco4",
        "outputId": "11c42220-8399-4c22-83cf-45c4110e25fc"
      },
      "source": [
        "get_recomm('프리드로우',author=False,_title=False)"
      ],
      "execution_count": 38,
      "outputs": [
        {
          "output_type": "execute_result",
          "data": {
            "text/html": [
              "<div>\n",
              "<style scoped>\n",
              "    .dataframe tbody tr th:only-of-type {\n",
              "        vertical-align: middle;\n",
              "    }\n",
              "\n",
              "    .dataframe tbody tr th {\n",
              "        vertical-align: top;\n",
              "    }\n",
              "\n",
              "    .dataframe thead th {\n",
              "        text-align: right;\n",
              "    }\n",
              "</style>\n",
              "<table border=\"1\" class=\"dataframe\">\n",
              "  <thead>\n",
              "    <tr style=\"text-align: right;\">\n",
              "      <th></th>\n",
              "      <th>title</th>\n",
              "      <th>writer</th>\n",
              "      <th>illustrator</th>\n",
              "      <th>genre</th>\n",
              "      <th>story</th>\n",
              "      <th>platform</th>\n",
              "      <th>similarity</th>\n",
              "    </tr>\n",
              "  </thead>\n",
              "  <tbody>\n",
              "    <tr>\n",
              "      <th>2194</th>\n",
              "      <td>자취방 신선들</td>\n",
              "      <td>마로</td>\n",
              "      <td>강재건</td>\n",
              "      <td>스토리, 드라마</td>\n",
              "      <td>옥황상제를 꿈꾸는 선녀 묘령 . 인간들이 아파트를 짓느라 산을 밀어버리는 바람에 백...</td>\n",
              "      <td>네이버 웹툰</td>\n",
              "      <td>0.537745</td>\n",
              "    </tr>\n",
              "    <tr>\n",
              "      <th>2818</th>\n",
              "      <td>2호선 세입자</td>\n",
              "      <td>정은경</td>\n",
              "      <td>여원</td>\n",
              "      <td>스토리, 드라마</td>\n",
              "      <td>2호선엔 왜 사람이 많을까?지하철에서 벌어지는 로맨틱 휴먼 드라마</td>\n",
              "      <td>네이버 웹툰</td>\n",
              "      <td>0.526561</td>\n",
              "    </tr>\n",
              "    <tr>\n",
              "      <th>2310</th>\n",
              "      <td>우리는 여기!</td>\n",
              "      <td>달꼬냑</td>\n",
              "      <td>달꼬냑</td>\n",
              "      <td>스토리, 드라마</td>\n",
              "      <td>새학기가 시작된지 일주일이 지났다.하나 둘 씩 모이더니 어느세 다들 친구를 가진 것...</td>\n",
              "      <td>네이버 웹툰</td>\n",
              "      <td>0.522277</td>\n",
              "    </tr>\n",
              "    <tr>\n",
              "      <th>2306</th>\n",
              "      <td>이것도 친구라고</td>\n",
              "      <td>제야</td>\n",
              "      <td>제야</td>\n",
              "      <td>스토리, 드라마</td>\n",
              "      <td>내 평범한 일상을 조여오는 시한폭탄 같은 녀석들이 찾아왔다! 파란만장한 청춘 라이프</td>\n",
              "      <td>네이버 웹툰</td>\n",
              "      <td>0.521675</td>\n",
              "    </tr>\n",
              "    <tr>\n",
              "      <th>2296</th>\n",
              "      <td>지랄발광</td>\n",
              "      <td>김인호</td>\n",
              "      <td>김인호</td>\n",
              "      <td>스토리, 드라마</td>\n",
              "      <td>청춘이 질주한다. 그곳에 꿈이 있으니까! 화려한 농구와 청춘의 프리스타일</td>\n",
              "      <td>네이버 웹툰</td>\n",
              "      <td>0.518677</td>\n",
              "    </tr>\n",
              "    <tr>\n",
              "      <th>1952</th>\n",
              "      <td>온실 속 화초</td>\n",
              "      <td>옛사람</td>\n",
              "      <td>옛사람</td>\n",
              "      <td>스토리, 드라마</td>\n",
              "      <td>성공한 덕후 옛사람 작가의 미스터리 시트콤 신작! 호텔 였던 남매는 하루아침에 집안...</td>\n",
              "      <td>네이버 웹툰</td>\n",
              "      <td>0.515424</td>\n",
              "    </tr>\n",
              "    <tr>\n",
              "      <th>2820</th>\n",
              "      <td>화이트멜로우</td>\n",
              "      <td>임진국</td>\n",
              "      <td>임진국</td>\n",
              "      <td>스토리, 드라마</td>\n",
              "      <td>하얀 눈 속에서 펼쳐지는 순조롭지 않은 그들의 레알 로맨스! 그린보이 , 레드카펫 ...</td>\n",
              "      <td>네이버 웹툰</td>\n",
              "      <td>0.515245</td>\n",
              "    </tr>\n",
              "    <tr>\n",
              "      <th>2252</th>\n",
              "      <td>여름은 뜨겁다</td>\n",
              "      <td>JQ</td>\n",
              "      <td>ZK</td>\n",
              "      <td>스토리, 드라마</td>\n",
              "      <td>어둠을 삼키는 흑룡 이라 불리는 동대정고 최강자 신서용 .그의 앞에 둘도 없는 친구...</td>\n",
              "      <td>네이버 웹툰</td>\n",
              "      <td>0.515093</td>\n",
              "    </tr>\n",
              "    <tr>\n",
              "      <th>2852</th>\n",
              "      <td>일등당첨</td>\n",
              "      <td>미티</td>\n",
              "      <td>미티</td>\n",
              "      <td>스토리, 드라마</td>\n",
              "      <td>당신이 꿈꿔온 인생역전 드라마!당첨되면 뭐할래요?</td>\n",
              "      <td>네이버 웹툰</td>\n",
              "      <td>0.514498</td>\n",
              "    </tr>\n",
              "    <tr>\n",
              "      <th>2928</th>\n",
              "      <td>기적! 우리에게 일어난 일들</td>\n",
              "      <td>태발</td>\n",
              "      <td>태발</td>\n",
              "      <td>스토리, 드라마</td>\n",
              "      <td>1년 전 아빠를 잃은 가족, 그들에게 일어나는 기적같은 이야기. 초록인간 , 프로젝...</td>\n",
              "      <td>네이버 웹툰</td>\n",
              "      <td>0.513966</td>\n",
              "    </tr>\n",
              "  </tbody>\n",
              "</table>\n",
              "</div>"
            ],
            "text/plain": [
              "                title writer  ... platform similarity\n",
              "2194          자취방 신선들     마로  ...   네이버 웹툰   0.537745\n",
              "2818          2호선 세입자    정은경  ...   네이버 웹툰   0.526561\n",
              "2310          우리는 여기!    달꼬냑  ...   네이버 웹툰   0.522277\n",
              "2306         이것도 친구라고     제야  ...   네이버 웹툰   0.521675\n",
              "2296             지랄발광    김인호  ...   네이버 웹툰   0.518677\n",
              "1952          온실 속 화초    옛사람  ...   네이버 웹툰   0.515424\n",
              "2820           화이트멜로우    임진국  ...   네이버 웹툰   0.515245\n",
              "2252          여름은 뜨겁다     JQ  ...   네이버 웹툰   0.515093\n",
              "2852             일등당첨     미티  ...   네이버 웹툰   0.514498\n",
              "2928  기적! 우리에게 일어난 일들     태발  ...   네이버 웹툰   0.513966\n",
              "\n",
              "[10 rows x 7 columns]"
            ]
          },
          "metadata": {},
          "execution_count": 38
        }
      ]
    },
    {
      "cell_type": "code",
      "metadata": {
        "colab": {
          "base_uri": "https://localhost:8080/",
          "height": 648
        },
        "id": "83uZpQfvHo0I",
        "outputId": "9f96a9c5-7557-4e7d-a0e7-67c05f67844d"
      },
      "source": [
        "get_recomm('개장수')"
      ],
      "execution_count": 39,
      "outputs": [
        {
          "output_type": "execute_result",
          "data": {
            "text/html": [
              "<div>\n",
              "<style scoped>\n",
              "    .dataframe tbody tr th:only-of-type {\n",
              "        vertical-align: middle;\n",
              "    }\n",
              "\n",
              "    .dataframe tbody tr th {\n",
              "        vertical-align: top;\n",
              "    }\n",
              "\n",
              "    .dataframe thead th {\n",
              "        text-align: right;\n",
              "    }\n",
              "</style>\n",
              "<table border=\"1\" class=\"dataframe\">\n",
              "  <thead>\n",
              "    <tr style=\"text-align: right;\">\n",
              "      <th></th>\n",
              "      <th>title</th>\n",
              "      <th>writer</th>\n",
              "      <th>illustrator</th>\n",
              "      <th>genre</th>\n",
              "      <th>story</th>\n",
              "      <th>platform</th>\n",
              "      <th>similarity</th>\n",
              "    </tr>\n",
              "  </thead>\n",
              "  <tbody>\n",
              "    <tr>\n",
              "      <th>2649</th>\n",
              "      <td>하이브 3</td>\n",
              "      <td>김규삼</td>\n",
              "      <td>김규삼</td>\n",
              "      <td>스토리, 판타지</td>\n",
              "      <td>본격화된 인간과 거대곤충의 전쟁. 김규삼 작가가 선보이는 역대급 판타지 스릴러</td>\n",
              "      <td>네이버 웹툰</td>\n",
              "      <td>0.645969</td>\n",
              "    </tr>\n",
              "    <tr>\n",
              "      <th>1966</th>\n",
              "      <td>데드퀸</td>\n",
              "      <td>김규삼</td>\n",
              "      <td>김규삼</td>\n",
              "      <td>스토리, 판타지</td>\n",
              "      <td>절망에 빠져 죽음이 임박했을때, 진짜 여왕이 재림한다! 하이브 세계관의 장대한 끝,...</td>\n",
              "      <td>네이버 웹툰</td>\n",
              "      <td>0.611705</td>\n",
              "    </tr>\n",
              "    <tr>\n",
              "      <th>2822</th>\n",
              "      <td>하이브 1~2</td>\n",
              "      <td>김규삼</td>\n",
              "      <td>김규삼</td>\n",
              "      <td>스토리, 판타지</td>\n",
              "      <td>거대해진 곤충들이 인간을 습격한다! 원시시대로 돌아간 지구의 대기상태</td>\n",
              "      <td>네이버 웹툰</td>\n",
              "      <td>0.607208</td>\n",
              "    </tr>\n",
              "    <tr>\n",
              "      <th>3141</th>\n",
              "      <td>N의등대-눈의등대</td>\n",
              "      <td>김규삼</td>\n",
              "      <td>김규삼</td>\n",
              "      <td>스토리, 스릴러</td>\n",
              "      <td>동일한 세계의 색다른 4가지 이야기. 함께 볼 수도, 따로 볼 수도 있는 멀티 플롯...</td>\n",
              "      <td>네이버 웹툰</td>\n",
              "      <td>0.445829</td>\n",
              "    </tr>\n",
              "    <tr>\n",
              "      <th>2913</th>\n",
              "      <td>버프소녀 오오라</td>\n",
              "      <td>김규삼</td>\n",
              "      <td>김규삼</td>\n",
              "      <td>스토리, 개그</td>\n",
              "      <td>정글고 , 쌉니다 천리마마트 3작가의 스마트툰 신작!버프가 필요한 당신을 위하여.</td>\n",
              "      <td>네이버 웹툰</td>\n",
              "      <td>0.442551</td>\n",
              "    </tr>\n",
              "    <tr>\n",
              "      <th>2679</th>\n",
              "      <td>쌉니다 천리마마트</td>\n",
              "      <td>김규삼</td>\n",
              "      <td>김규삼</td>\n",
              "      <td>스토리, 개그</td>\n",
              "      <td>고객은 왕이 아니다, 직원이 왕이다! 병맛 드라마를 뛰어넘는 미친 상상력의 원작 웹툰</td>\n",
              "      <td>네이버 웹툰</td>\n",
              "      <td>0.442510</td>\n",
              "    </tr>\n",
              "    <tr>\n",
              "      <th>2773</th>\n",
              "      <td>만렙소녀 오오라</td>\n",
              "      <td>김규삼</td>\n",
              "      <td>김규삼</td>\n",
              "      <td>에피소드, 개그</td>\n",
              "      <td>돌아온 븟새와 오오라의 대모험! ..근데 이거 도대체 무슨 만화지?</td>\n",
              "      <td>네이버 웹툰</td>\n",
              "      <td>0.400196</td>\n",
              "    </tr>\n",
              "    <tr>\n",
              "      <th>2576</th>\n",
              "      <td>천리마 네버다이</td>\n",
              "      <td>김규삼</td>\n",
              "      <td>김규삼</td>\n",
              "      <td>옴니버스, 개그</td>\n",
              "      <td>쌉니다 천리마마트 드라마화 기념 특별외전반가운 천리마 마트 멤버들의 새로운 이야기!</td>\n",
              "      <td>네이버 웹툰</td>\n",
              "      <td>0.400152</td>\n",
              "    </tr>\n",
              "    <tr>\n",
              "      <th>3098</th>\n",
              "      <td>입시명문사립 정글고등학교</td>\n",
              "      <td>김규삼</td>\n",
              "      <td>김규삼</td>\n",
              "      <td>옴니버스, 개그</td>\n",
              "      <td>입시명문 사립 정글고등학교 입학권!! 각 계층의 다양한 학생들과 모든 군더더기 교육...</td>\n",
              "      <td>네이버 웹툰</td>\n",
              "      <td>0.400101</td>\n",
              "    </tr>\n",
              "    <tr>\n",
              "      <th>2307</th>\n",
              "      <td>비질란테</td>\n",
              "      <td>CRG</td>\n",
              "      <td>김규삼</td>\n",
              "      <td>스토리, 액션</td>\n",
              "      <td>법은 구멍이 나 있다. 내가 그 구멍을 메운다. 널 풀어준 법을 원망해라.</td>\n",
              "      <td>네이버 웹툰</td>\n",
              "      <td>0.250753</td>\n",
              "    </tr>\n",
              "  </tbody>\n",
              "</table>\n",
              "</div>"
            ],
            "text/plain": [
              "              title writer  ... platform similarity\n",
              "2649          하이브 3    김규삼  ...   네이버 웹툰   0.645969\n",
              "1966            데드퀸    김규삼  ...   네이버 웹툰   0.611705\n",
              "2822        하이브 1~2    김규삼  ...   네이버 웹툰   0.607208\n",
              "3141      N의등대-눈의등대    김규삼  ...   네이버 웹툰   0.445829\n",
              "2913       버프소녀 오오라    김규삼  ...   네이버 웹툰   0.442551\n",
              "2679      쌉니다 천리마마트    김규삼  ...   네이버 웹툰   0.442510\n",
              "2773       만렙소녀 오오라    김규삼  ...   네이버 웹툰   0.400196\n",
              "2576       천리마 네버다이    김규삼  ...   네이버 웹툰   0.400152\n",
              "3098  입시명문사립 정글고등학교    김규삼  ...   네이버 웹툰   0.400101\n",
              "2307           비질란테    CRG  ...   네이버 웹툰   0.250753\n",
              "\n",
              "[10 rows x 7 columns]"
            ]
          },
          "metadata": {},
          "execution_count": 39
        }
      ]
    },
    {
      "cell_type": "code",
      "metadata": {
        "colab": {
          "base_uri": "https://localhost:8080/",
          "height": 648
        },
        "id": "1G91ee63H5-w",
        "outputId": "c1d9dd08-93f9-40e0-a070-1144dfde9555"
      },
      "source": [
        "get_recomm('개장수',author=False)"
      ],
      "execution_count": 40,
      "outputs": [
        {
          "output_type": "execute_result",
          "data": {
            "text/html": [
              "<div>\n",
              "<style scoped>\n",
              "    .dataframe tbody tr th:only-of-type {\n",
              "        vertical-align: middle;\n",
              "    }\n",
              "\n",
              "    .dataframe tbody tr th {\n",
              "        vertical-align: top;\n",
              "    }\n",
              "\n",
              "    .dataframe thead th {\n",
              "        text-align: right;\n",
              "    }\n",
              "</style>\n",
              "<table border=\"1\" class=\"dataframe\">\n",
              "  <thead>\n",
              "    <tr style=\"text-align: right;\">\n",
              "      <th></th>\n",
              "      <th>title</th>\n",
              "      <th>writer</th>\n",
              "      <th>illustrator</th>\n",
              "      <th>genre</th>\n",
              "      <th>story</th>\n",
              "      <th>platform</th>\n",
              "      <th>similarity</th>\n",
              "    </tr>\n",
              "  </thead>\n",
              "  <tbody>\n",
              "    <tr>\n",
              "      <th>2649</th>\n",
              "      <td>하이브 3</td>\n",
              "      <td>김규삼</td>\n",
              "      <td>김규삼</td>\n",
              "      <td>스토리, 판타지</td>\n",
              "      <td>본격화된 인간과 거대곤충의 전쟁. 김규삼 작가가 선보이는 역대급 판타지 스릴러</td>\n",
              "      <td>네이버 웹툰</td>\n",
              "      <td>0.409948</td>\n",
              "    </tr>\n",
              "    <tr>\n",
              "      <th>1966</th>\n",
              "      <td>데드퀸</td>\n",
              "      <td>김규삼</td>\n",
              "      <td>김규삼</td>\n",
              "      <td>스토리, 판타지</td>\n",
              "      <td>절망에 빠져 죽음이 임박했을때, 진짜 여왕이 재림한다! 하이브 세계관의 장대한 끝,...</td>\n",
              "      <td>네이버 웹툰</td>\n",
              "      <td>0.352842</td>\n",
              "    </tr>\n",
              "    <tr>\n",
              "      <th>2246</th>\n",
              "      <td>스테어스</td>\n",
              "      <td>옹구</td>\n",
              "      <td>옹구</td>\n",
              "      <td>스토리, 판타지</td>\n",
              "      <td>세상의 끝에는 월 스테어 가 있고, 그 끝에는 모든 것이 있을 것이다.한계를 넘어 ...</td>\n",
              "      <td>네이버 웹툰</td>\n",
              "      <td>0.352260</td>\n",
              "    </tr>\n",
              "    <tr>\n",
              "      <th>2640</th>\n",
              "      <td>노블레스</td>\n",
              "      <td>손제호</td>\n",
              "      <td>이광수</td>\n",
              "      <td>스토리, 판타지</td>\n",
              "      <td>820년간의 긴 수면기. 드디어 새로운 세상에 눈을 뜨다.그리고 새로운 세상의 새로...</td>\n",
              "      <td>네이버 웹툰</td>\n",
              "      <td>0.346722</td>\n",
              "    </tr>\n",
              "    <tr>\n",
              "      <th>2822</th>\n",
              "      <td>하이브 1~2</td>\n",
              "      <td>김규삼</td>\n",
              "      <td>김규삼</td>\n",
              "      <td>스토리, 판타지</td>\n",
              "      <td>거대해진 곤충들이 인간을 습격한다! 원시시대로 돌아간 지구의 대기상태</td>\n",
              "      <td>네이버 웹툰</td>\n",
              "      <td>0.345347</td>\n",
              "    </tr>\n",
              "    <tr>\n",
              "      <th>2042</th>\n",
              "      <td>어글리후드</td>\n",
              "      <td>미애</td>\n",
              "      <td>미애</td>\n",
              "      <td>스토리, 판타지</td>\n",
              "      <td>외계인이 유일신으로 군림한 미친 세상, 바꾸고싶다면 사탄이 되어라</td>\n",
              "      <td>네이버 웹툰</td>\n",
              "      <td>0.343614</td>\n",
              "    </tr>\n",
              "    <tr>\n",
              "      <th>1728</th>\n",
              "      <td>리턴 투 플레이어</td>\n",
              "      <td>인덱스,엄키</td>\n",
              "      <td>세혼</td>\n",
              "      <td>스토리, 판타지</td>\n",
              "      <td>어느 날, 게임이 되어버린 세상. 갑자기 나타난 몬스터들이 사람들을 죽이고, 사람들...</td>\n",
              "      <td>네이버 웹툰</td>\n",
              "      <td>0.342607</td>\n",
              "    </tr>\n",
              "    <tr>\n",
              "      <th>2938</th>\n",
              "      <td>판타지스케치 - 더 게임</td>\n",
              "      <td>엄재경</td>\n",
              "      <td>천범식</td>\n",
              "      <td>스토리, 판타지</td>\n",
              "      <td>퓨전 판타지, 게임 판타지, 중세 판타지스케치, 스케치, 스케치.. 판타지를 스케치...</td>\n",
              "      <td>네이버 웹툰</td>\n",
              "      <td>0.342239</td>\n",
              "    </tr>\n",
              "    <tr>\n",
              "      <th>2680</th>\n",
              "      <td>팀 피닉스</td>\n",
              "      <td>엄재경</td>\n",
              "      <td>지야프</td>\n",
              "      <td>스토리, 판타지</td>\n",
              "      <td>선과 악이 뒤섞인 세상초능력 범죄자와 초능력 경찰의 치열한 싸움이 시작된다</td>\n",
              "      <td>네이버 웹툰</td>\n",
              "      <td>0.342162</td>\n",
              "    </tr>\n",
              "    <tr>\n",
              "      <th>2028</th>\n",
              "      <td>호랑이형님</td>\n",
              "      <td>이상규</td>\n",
              "      <td>이상규</td>\n",
              "      <td>스토리, 판타지</td>\n",
              "      <td>신비한 힘을 가진 아이를 이용하여 세상을 지배하려는 반인반수 흰눈썹! 그리고 얼떨결...</td>\n",
              "      <td>네이버 웹툰</td>\n",
              "      <td>0.342147</td>\n",
              "    </tr>\n",
              "  </tbody>\n",
              "</table>\n",
              "</div>"
            ],
            "text/plain": [
              "              title  writer  ... platform similarity\n",
              "2649          하이브 3     김규삼  ...   네이버 웹툰   0.409948\n",
              "1966            데드퀸     김규삼  ...   네이버 웹툰   0.352842\n",
              "2246           스테어스      옹구  ...   네이버 웹툰   0.352260\n",
              "2640           노블레스     손제호  ...   네이버 웹툰   0.346722\n",
              "2822        하이브 1~2     김규삼  ...   네이버 웹툰   0.345347\n",
              "2042          어글리후드      미애  ...   네이버 웹툰   0.343614\n",
              "1728      리턴 투 플레이어  인덱스,엄키  ...   네이버 웹툰   0.342607\n",
              "2938  판타지스케치 - 더 게임     엄재경  ...   네이버 웹툰   0.342239\n",
              "2680          팀 피닉스     엄재경  ...   네이버 웹툰   0.342162\n",
              "2028          호랑이형님     이상규  ...   네이버 웹툰   0.342147\n",
              "\n",
              "[10 rows x 7 columns]"
            ]
          },
          "metadata": {},
          "execution_count": 40
        }
      ]
    },
    {
      "cell_type": "code",
      "metadata": {
        "colab": {
          "base_uri": "https://localhost:8080/",
          "height": 648
        },
        "id": "gRxwaGd3I_x9",
        "outputId": "4266f348-8c67-446f-b15c-9108de8e818d"
      },
      "source": [
        "get_recomm('개장수',author=False,_title=False)"
      ],
      "execution_count": 41,
      "outputs": [
        {
          "output_type": "execute_result",
          "data": {
            "text/html": [
              "<div>\n",
              "<style scoped>\n",
              "    .dataframe tbody tr th:only-of-type {\n",
              "        vertical-align: middle;\n",
              "    }\n",
              "\n",
              "    .dataframe tbody tr th {\n",
              "        vertical-align: top;\n",
              "    }\n",
              "\n",
              "    .dataframe thead th {\n",
              "        text-align: right;\n",
              "    }\n",
              "</style>\n",
              "<table border=\"1\" class=\"dataframe\">\n",
              "  <thead>\n",
              "    <tr style=\"text-align: right;\">\n",
              "      <th></th>\n",
              "      <th>title</th>\n",
              "      <th>writer</th>\n",
              "      <th>illustrator</th>\n",
              "      <th>genre</th>\n",
              "      <th>story</th>\n",
              "      <th>platform</th>\n",
              "      <th>similarity</th>\n",
              "    </tr>\n",
              "  </thead>\n",
              "  <tbody>\n",
              "    <tr>\n",
              "      <th>2649</th>\n",
              "      <td>하이브 3</td>\n",
              "      <td>김규삼</td>\n",
              "      <td>김규삼</td>\n",
              "      <td>스토리, 판타지</td>\n",
              "      <td>본격화된 인간과 거대곤충의 전쟁. 김규삼 작가가 선보이는 역대급 판타지 스릴러</td>\n",
              "      <td>네이버 웹툰</td>\n",
              "      <td>0.614922</td>\n",
              "    </tr>\n",
              "    <tr>\n",
              "      <th>1966</th>\n",
              "      <td>데드퀸</td>\n",
              "      <td>김규삼</td>\n",
              "      <td>김규삼</td>\n",
              "      <td>스토리, 판타지</td>\n",
              "      <td>절망에 빠져 죽음이 임박했을때, 진짜 여왕이 재림한다! 하이브 세계관의 장대한 끝,...</td>\n",
              "      <td>네이버 웹툰</td>\n",
              "      <td>0.529264</td>\n",
              "    </tr>\n",
              "    <tr>\n",
              "      <th>2246</th>\n",
              "      <td>스테어스</td>\n",
              "      <td>옹구</td>\n",
              "      <td>옹구</td>\n",
              "      <td>스토리, 판타지</td>\n",
              "      <td>세상의 끝에는 월 스테어 가 있고, 그 끝에는 모든 것이 있을 것이다.한계를 넘어 ...</td>\n",
              "      <td>네이버 웹툰</td>\n",
              "      <td>0.528390</td>\n",
              "    </tr>\n",
              "    <tr>\n",
              "      <th>2640</th>\n",
              "      <td>노블레스</td>\n",
              "      <td>손제호</td>\n",
              "      <td>이광수</td>\n",
              "      <td>스토리, 판타지</td>\n",
              "      <td>820년간의 긴 수면기. 드디어 새로운 세상에 눈을 뜨다.그리고 새로운 세상의 새로...</td>\n",
              "      <td>네이버 웹툰</td>\n",
              "      <td>0.520084</td>\n",
              "    </tr>\n",
              "    <tr>\n",
              "      <th>2822</th>\n",
              "      <td>하이브 1~2</td>\n",
              "      <td>김규삼</td>\n",
              "      <td>김규삼</td>\n",
              "      <td>스토리, 판타지</td>\n",
              "      <td>거대해진 곤충들이 인간을 습격한다! 원시시대로 돌아간 지구의 대기상태</td>\n",
              "      <td>네이버 웹툰</td>\n",
              "      <td>0.518020</td>\n",
              "    </tr>\n",
              "    <tr>\n",
              "      <th>2042</th>\n",
              "      <td>어글리후드</td>\n",
              "      <td>미애</td>\n",
              "      <td>미애</td>\n",
              "      <td>스토리, 판타지</td>\n",
              "      <td>외계인이 유일신으로 군림한 미친 세상, 바꾸고싶다면 사탄이 되어라</td>\n",
              "      <td>네이버 웹툰</td>\n",
              "      <td>0.515421</td>\n",
              "    </tr>\n",
              "    <tr>\n",
              "      <th>1728</th>\n",
              "      <td>리턴 투 플레이어</td>\n",
              "      <td>인덱스,엄키</td>\n",
              "      <td>세혼</td>\n",
              "      <td>스토리, 판타지</td>\n",
              "      <td>어느 날, 게임이 되어버린 세상. 갑자기 나타난 몬스터들이 사람들을 죽이고, 사람들...</td>\n",
              "      <td>네이버 웹툰</td>\n",
              "      <td>0.513911</td>\n",
              "    </tr>\n",
              "    <tr>\n",
              "      <th>2938</th>\n",
              "      <td>판타지스케치 - 더 게임</td>\n",
              "      <td>엄재경</td>\n",
              "      <td>천범식</td>\n",
              "      <td>스토리, 판타지</td>\n",
              "      <td>퓨전 판타지, 게임 판타지, 중세 판타지스케치, 스케치, 스케치.. 판타지를 스케치...</td>\n",
              "      <td>네이버 웹툰</td>\n",
              "      <td>0.513358</td>\n",
              "    </tr>\n",
              "    <tr>\n",
              "      <th>2680</th>\n",
              "      <td>팀 피닉스</td>\n",
              "      <td>엄재경</td>\n",
              "      <td>지야프</td>\n",
              "      <td>스토리, 판타지</td>\n",
              "      <td>선과 악이 뒤섞인 세상초능력 범죄자와 초능력 경찰의 치열한 싸움이 시작된다</td>\n",
              "      <td>네이버 웹툰</td>\n",
              "      <td>0.513242</td>\n",
              "    </tr>\n",
              "    <tr>\n",
              "      <th>2028</th>\n",
              "      <td>호랑이형님</td>\n",
              "      <td>이상규</td>\n",
              "      <td>이상규</td>\n",
              "      <td>스토리, 판타지</td>\n",
              "      <td>신비한 힘을 가진 아이를 이용하여 세상을 지배하려는 반인반수 흰눈썹! 그리고 얼떨결...</td>\n",
              "      <td>네이버 웹툰</td>\n",
              "      <td>0.513221</td>\n",
              "    </tr>\n",
              "  </tbody>\n",
              "</table>\n",
              "</div>"
            ],
            "text/plain": [
              "              title  writer  ... platform similarity\n",
              "2649          하이브 3     김규삼  ...   네이버 웹툰   0.614922\n",
              "1966            데드퀸     김규삼  ...   네이버 웹툰   0.529264\n",
              "2246           스테어스      옹구  ...   네이버 웹툰   0.528390\n",
              "2640           노블레스     손제호  ...   네이버 웹툰   0.520084\n",
              "2822        하이브 1~2     김규삼  ...   네이버 웹툰   0.518020\n",
              "2042          어글리후드      미애  ...   네이버 웹툰   0.515421\n",
              "1728      리턴 투 플레이어  인덱스,엄키  ...   네이버 웹툰   0.513911\n",
              "2938  판타지스케치 - 더 게임     엄재경  ...   네이버 웹툰   0.513358\n",
              "2680          팀 피닉스     엄재경  ...   네이버 웹툰   0.513242\n",
              "2028          호랑이형님     이상규  ...   네이버 웹툰   0.513221\n",
              "\n",
              "[10 rows x 7 columns]"
            ]
          },
          "metadata": {},
          "execution_count": 41
        }
      ]
    },
    {
      "cell_type": "code",
      "metadata": {
        "id": "kyCVAR8UIGO_"
      },
      "source": [
        ""
      ],
      "execution_count": null,
      "outputs": []
    },
    {
      "cell_type": "markdown",
      "metadata": {
        "id": "NpFdrHfnKWvF"
      },
      "source": [
        "### Okt"
      ]
    },
    {
      "cell_type": "code",
      "metadata": {
        "colab": {
          "base_uri": "https://localhost:8080/"
        },
        "id": "TaUe600gKbZ_",
        "outputId": "52c2f9b0-1145-4fb8-cb6e-73dfc392876c"
      },
      "source": [
        "%%time\n",
        "\n",
        "# 작가, 제목 포함 행렬\n",
        "all_contain_matrices = get_sparse_matrix(okt_tokenizer) \n",
        "\n",
        "# 제목 포함, 작가 미포함 행렬\n",
        "title_contain_matrices = get_sparse_matrix(okt_tokenizer, author=False) \n",
        "\n",
        "# 작가 포함, 제목 미포함 행렬\n",
        "author_contain_matrices = get_sparse_matrix(okt_tokenizer, title=False) \n",
        "\n",
        "# 작가, 제목 미포함 행렬\n",
        "notall_contain_matrices = get_sparse_matrix(okt_tokenizer, title=False, author=False)"
      ],
      "execution_count": 42,
      "outputs": [
        {
          "output_type": "stream",
          "name": "stdout",
          "text": [
            "<class 'scipy.sparse.csr.csr_matrix'> (3173, 130729)\n",
            "<class 'scipy.sparse.csr.csr_matrix'> (3173, 128792)\n",
            "<class 'scipy.sparse.csr.csr_matrix'> (3173, 126580)\n",
            "<class 'scipy.sparse.csr.csr_matrix'> (3173, 124643)\n",
            "CPU times: user 5min 5s, sys: 1.57 s, total: 5min 6s\n",
            "Wall time: 2min 51s\n"
          ]
        }
      ]
    },
    {
      "cell_type": "code",
      "metadata": {
        "colab": {
          "base_uri": "https://localhost:8080/"
        },
        "id": "NtYfsKohM2d4",
        "outputId": "0649bc0c-f9bd-4a67-d8ab-6d29079e5836"
      },
      "source": [
        "indices = pd.Series(webtoon.index, index=webtoon['title'])\n",
        "indices.head(3)"
      ],
      "execution_count": 43,
      "outputs": [
        {
          "output_type": "execute_result",
          "data": {
            "text/plain": [
              "title\n",
              "우선 남동생부터 숨기자       0\n",
              "이번 생은 가주가 되겠습니다    1\n",
              "묵향 다크레이디           2\n",
              "dtype: int64"
            ]
          },
          "metadata": {},
          "execution_count": 43
        }
      ]
    },
    {
      "cell_type": "code",
      "metadata": {
        "id": "kcrPbcfHJC9e"
      },
      "source": [
        "import numpy as np\n",
        "from sklearn.metrics.pairwise import cosine_similarity\n",
        "\n",
        "# 입력 값 : 제목, top rank 수, 같은 장르만 뽑을지 여부, 작가를 feature로 넣을지 여부, 제목을 feature로 넣을 지 여부\n",
        "def get_recomm(title, rank=10, same_genre=False, author=True, _title=True):\n",
        "    # 코사인 유사도를 담을 array 생성\n",
        "    cosine_sim = np.zeros((len(webtoon), len(webtoon)))\n",
        "    \n",
        "    if author and _title:\n",
        "        matrices = all_contain_matrices\n",
        "    elif author:\n",
        "        matrices = author_contain_matrices\n",
        "    elif _title:\n",
        "        matrices = title_contain_matrices\n",
        "    else:\n",
        "        matrices = notall_contain_matrices\n",
        "    \n",
        "    # 코사인 유사도 계산\n",
        "    # 각 토큰화 도구로 계산한 코사인 유사도를 평균 (앙상블)\n",
        "    for matrix in matrices:\n",
        "        cosine_sim += cosine_similarity(matrix)\n",
        "    cosine_sim /= len(matrices)\n",
        "    \n",
        "    # 결과 출력을 위한 데이터 프레임 복사\n",
        "    print_copy = webtoon.copy()\n",
        "    \n",
        "    # 선택한 웹툰 제목으로부터 해당되는 인덱스를 받아옴\n",
        "    idx = indices[title]\n",
        "    \n",
        "    # 인덱스로부터 장르를 뽑아옴\n",
        "    genre = print_copy.loc[idx, 'genre']\n",
        "\n",
        "    # 유사도를 DataFrame에 붙임\n",
        "    print_copy['similarity'] = cosine_sim[idx]\n",
        "    \n",
        "    if same_genre:\n",
        "        # 동일 장르만을 보여줄 경우\n",
        "        return print_copy[print_copy['genre'] == genre].sort_values(by='similarity', ascending=False).iloc[1:1+rank, :]\n",
        "        \n",
        "    else:\n",
        "        # 다른 장르도 보여줄 경우\n",
        "        return print_copy.sort_values(by='similarity', ascending=False).iloc[1:1+rank, :]"
      ],
      "execution_count": 44,
      "outputs": []
    },
    {
      "cell_type": "code",
      "metadata": {
        "colab": {
          "base_uri": "https://localhost:8080/",
          "height": 322
        },
        "id": "zOF4opifLBbK",
        "outputId": "cf3d5298-5c35-40f4-d991-53f2b3464c57"
      },
      "source": [
        "get_recomm('개장수')"
      ],
      "execution_count": 45,
      "outputs": [
        {
          "output_type": "error",
          "ename": "TypeError",
          "evalue": "ignored",
          "traceback": [
            "\u001b[0;31m---------------------------------------------------------------------------\u001b[0m",
            "\u001b[0;31mTypeError\u001b[0m                                 Traceback (most recent call last)",
            "\u001b[0;32m<ipython-input-45-f6faeed15308>\u001b[0m in \u001b[0;36m<module>\u001b[0;34m()\u001b[0m\n\u001b[0;32m----> 1\u001b[0;31m \u001b[0mget_recomm\u001b[0m\u001b[0;34m(\u001b[0m\u001b[0;34m'개장수'\u001b[0m\u001b[0;34m)\u001b[0m\u001b[0;34m\u001b[0m\u001b[0;34m\u001b[0m\u001b[0m\n\u001b[0m",
            "\u001b[0;32m<ipython-input-44-886e1c2eb28b>\u001b[0m in \u001b[0;36mget_recomm\u001b[0;34m(title, rank, same_genre, author, _title)\u001b[0m\n\u001b[1;32m     20\u001b[0m     \u001b[0;32mfor\u001b[0m \u001b[0mmatrix\u001b[0m \u001b[0;32min\u001b[0m \u001b[0mmatrices\u001b[0m\u001b[0;34m:\u001b[0m\u001b[0;34m\u001b[0m\u001b[0;34m\u001b[0m\u001b[0m\n\u001b[1;32m     21\u001b[0m         \u001b[0mcosine_sim\u001b[0m \u001b[0;34m+=\u001b[0m \u001b[0mcosine_similarity\u001b[0m\u001b[0;34m(\u001b[0m\u001b[0mmatrix\u001b[0m\u001b[0;34m)\u001b[0m\u001b[0;34m\u001b[0m\u001b[0;34m\u001b[0m\u001b[0m\n\u001b[0;32m---> 22\u001b[0;31m     \u001b[0mcosine_sim\u001b[0m \u001b[0;34m/=\u001b[0m \u001b[0mlen\u001b[0m\u001b[0;34m(\u001b[0m\u001b[0mmatrices\u001b[0m\u001b[0;34m)\u001b[0m\u001b[0;34m\u001b[0m\u001b[0;34m\u001b[0m\u001b[0m\n\u001b[0m\u001b[1;32m     23\u001b[0m \u001b[0;34m\u001b[0m\u001b[0m\n\u001b[1;32m     24\u001b[0m     \u001b[0;31m# 결과 출력을 위한 데이터 프레임 복사\u001b[0m\u001b[0;34m\u001b[0m\u001b[0;34m\u001b[0m\u001b[0;34m\u001b[0m\u001b[0m\n",
            "\u001b[0;32m/usr/local/lib/python3.7/dist-packages/scipy/sparse/base.py\u001b[0m in \u001b[0;36m__len__\u001b[0;34m(self)\u001b[0m\n\u001b[1;32m    293\u001b[0m     \u001b[0;31m# non-zeros is more important.  For now, raise an exception!\u001b[0m\u001b[0;34m\u001b[0m\u001b[0;34m\u001b[0m\u001b[0;34m\u001b[0m\u001b[0m\n\u001b[1;32m    294\u001b[0m     \u001b[0;32mdef\u001b[0m \u001b[0m__len__\u001b[0m\u001b[0;34m(\u001b[0m\u001b[0mself\u001b[0m\u001b[0;34m)\u001b[0m\u001b[0;34m:\u001b[0m\u001b[0;34m\u001b[0m\u001b[0;34m\u001b[0m\u001b[0m\n\u001b[0;32m--> 295\u001b[0;31m         raise TypeError(\"sparse matrix length is ambiguous; use getnnz()\"\n\u001b[0m\u001b[1;32m    296\u001b[0m                         \" or shape[0]\")\n\u001b[1;32m    297\u001b[0m \u001b[0;34m\u001b[0m\u001b[0m\n",
            "\u001b[0;31mTypeError\u001b[0m: sparse matrix length is ambiguous; use getnnz() or shape[0]"
          ]
        }
      ]
    },
    {
      "cell_type": "code",
      "metadata": {
        "colab": {
          "base_uri": "https://localhost:8080/",
          "height": 322
        },
        "id": "3oct7oHDLBVJ",
        "outputId": "ef0c70e5-c706-4e7b-edd9-129797ca0322"
      },
      "source": [
        "get_recomm('개장수',author=False)"
      ],
      "execution_count": null,
      "outputs": [
        {
          "output_type": "error",
          "ename": "TypeError",
          "evalue": "ignored",
          "traceback": [
            "\u001b[0;31m---------------------------------------------------------------------------\u001b[0m",
            "\u001b[0;31mTypeError\u001b[0m                                 Traceback (most recent call last)",
            "\u001b[0;32m<ipython-input-52-01aad08ce14c>\u001b[0m in \u001b[0;36m<module>\u001b[0;34m()\u001b[0m\n\u001b[0;32m----> 1\u001b[0;31m \u001b[0mget_recomm\u001b[0m\u001b[0;34m(\u001b[0m\u001b[0;34m'개장수'\u001b[0m\u001b[0;34m,\u001b[0m\u001b[0mauthor\u001b[0m\u001b[0;34m=\u001b[0m\u001b[0;32mFalse\u001b[0m\u001b[0;34m)\u001b[0m\u001b[0;34m\u001b[0m\u001b[0;34m\u001b[0m\u001b[0m\n\u001b[0m",
            "\u001b[0;32m<ipython-input-50-886e1c2eb28b>\u001b[0m in \u001b[0;36mget_recomm\u001b[0;34m(title, rank, same_genre, author, _title)\u001b[0m\n\u001b[1;32m     20\u001b[0m     \u001b[0;32mfor\u001b[0m \u001b[0mmatrix\u001b[0m \u001b[0;32min\u001b[0m \u001b[0mmatrices\u001b[0m\u001b[0;34m:\u001b[0m\u001b[0;34m\u001b[0m\u001b[0;34m\u001b[0m\u001b[0m\n\u001b[1;32m     21\u001b[0m         \u001b[0mcosine_sim\u001b[0m \u001b[0;34m+=\u001b[0m \u001b[0mcosine_similarity\u001b[0m\u001b[0;34m(\u001b[0m\u001b[0mmatrix\u001b[0m\u001b[0;34m)\u001b[0m\u001b[0;34m\u001b[0m\u001b[0;34m\u001b[0m\u001b[0m\n\u001b[0;32m---> 22\u001b[0;31m     \u001b[0mcosine_sim\u001b[0m \u001b[0;34m/=\u001b[0m \u001b[0mlen\u001b[0m\u001b[0;34m(\u001b[0m\u001b[0mmatrices\u001b[0m\u001b[0;34m)\u001b[0m\u001b[0;34m\u001b[0m\u001b[0;34m\u001b[0m\u001b[0m\n\u001b[0m\u001b[1;32m     23\u001b[0m \u001b[0;34m\u001b[0m\u001b[0m\n\u001b[1;32m     24\u001b[0m     \u001b[0;31m# 결과 출력을 위한 데이터 프레임 복사\u001b[0m\u001b[0;34m\u001b[0m\u001b[0;34m\u001b[0m\u001b[0;34m\u001b[0m\u001b[0m\n",
            "\u001b[0;32m/usr/local/lib/python3.7/dist-packages/scipy/sparse/base.py\u001b[0m in \u001b[0;36m__len__\u001b[0;34m(self)\u001b[0m\n\u001b[1;32m    293\u001b[0m     \u001b[0;31m# non-zeros is more important.  For now, raise an exception!\u001b[0m\u001b[0;34m\u001b[0m\u001b[0;34m\u001b[0m\u001b[0;34m\u001b[0m\u001b[0m\n\u001b[1;32m    294\u001b[0m     \u001b[0;32mdef\u001b[0m \u001b[0m__len__\u001b[0m\u001b[0;34m(\u001b[0m\u001b[0mself\u001b[0m\u001b[0;34m)\u001b[0m\u001b[0;34m:\u001b[0m\u001b[0;34m\u001b[0m\u001b[0;34m\u001b[0m\u001b[0m\n\u001b[0;32m--> 295\u001b[0;31m         raise TypeError(\"sparse matrix length is ambiguous; use getnnz()\"\n\u001b[0m\u001b[1;32m    296\u001b[0m                         \" or shape[0]\")\n\u001b[1;32m    297\u001b[0m \u001b[0;34m\u001b[0m\u001b[0m\n",
            "\u001b[0;31mTypeError\u001b[0m: sparse matrix length is ambiguous; use getnnz() or shape[0]"
          ]
        }
      ]
    },
    {
      "cell_type": "code",
      "metadata": {
        "id": "DupzE_BHLBP5"
      },
      "source": [
        "get_recomm('개장수',author=False,_title=False)"
      ],
      "execution_count": null,
      "outputs": []
    },
    {
      "cell_type": "code",
      "metadata": {
        "id": "BCb_UfvPLBIK"
      },
      "source": [
        "get_recomm('비흔')"
      ],
      "execution_count": null,
      "outputs": []
    },
    {
      "cell_type": "code",
      "metadata": {
        "id": "WcloRS6OLBBz"
      },
      "source": [
        "get_recomm('비흔',author=False)"
      ],
      "execution_count": null,
      "outputs": []
    },
    {
      "cell_type": "code",
      "metadata": {
        "id": "esTXqpa5LA47"
      },
      "source": [
        "get_recomm('비흔',author=False,_title=False)"
      ],
      "execution_count": null,
      "outputs": []
    },
    {
      "cell_type": "markdown",
      "metadata": {
        "id": "SL3nL6p5LlJP"
      },
      "source": [
        "### kkma"
      ]
    },
    {
      "cell_type": "code",
      "metadata": {
        "colab": {
          "base_uri": "https://localhost:8080/"
        },
        "id": "zPk6cGJyLqvC",
        "outputId": "d4ff5294-ef54-4b2e-9058-0c2848a1ec94"
      },
      "source": [
        "%%time\n",
        "\n",
        "# 작가, 제목 포함 행렬\n",
        "all_contain_matrices = get_sparse_matrix(kkma_tokenizer) \n",
        "\n",
        "# 제목 포함, 작가 미포함 행렬\n",
        "title_contain_matrices = get_sparse_matrix(kkma_tokenizer, author=False) \n",
        "\n",
        "# 작가 포함, 제목 미포함 행렬\n",
        "author_contain_matrices = get_sparse_matrix(kkma_tokenizer, title=False) \n",
        "\n",
        "# 작가, 제목 미포함 행렬\n",
        "notall_contain_matrices = get_sparse_matrix(kkma_tokenizer, title=False, author=False)"
      ],
      "execution_count": null,
      "outputs": [
        {
          "output_type": "stream",
          "name": "stdout",
          "text": [
            "<class 'scipy.sparse.csr.csr_matrix'> (3173, 114957)\n",
            "<class 'scipy.sparse.csr.csr_matrix'> (3173, 113020)\n",
            "<class 'scipy.sparse.csr.csr_matrix'> (3173, 111280)\n",
            "<class 'scipy.sparse.csr.csr_matrix'> (3173, 109343)\n",
            "CPU times: user 51min 20s, sys: 16.4 s, total: 51min 36s\n",
            "Wall time: 27min 32s\n"
          ]
        }
      ]
    },
    {
      "cell_type": "code",
      "metadata": {
        "colab": {
          "base_uri": "https://localhost:8080/"
        },
        "id": "ROseCTdnNYh1",
        "outputId": "a22e330f-8f9c-4259-a0b5-b85232746b12"
      },
      "source": [
        "indices = pd.Series(webtoon.index, index=webtoon['title'])\n",
        "indices.head(3)"
      ],
      "execution_count": null,
      "outputs": [
        {
          "output_type": "execute_result",
          "data": {
            "text/plain": [
              "title\n",
              "우선 남동생부터 숨기자       0\n",
              "이번 생은 가주가 되겠습니다    1\n",
              "묵향 다크레이디           2\n",
              "dtype: int64"
            ]
          },
          "metadata": {},
          "execution_count": 54
        }
      ]
    },
    {
      "cell_type": "code",
      "metadata": {
        "id": "lJ5fpLcaLqvD"
      },
      "source": [
        "import numpy as np\n",
        "from sklearn.metrics.pairwise import cosine_similarity\n",
        "\n",
        "# 입력 값 : 제목, top rank 수, 같은 장르만 뽑을지 여부, 작가를 feature로 넣을지 여부, 제목을 feature로 넣을 지 여부\n",
        "def get_recomm(title, rank=10, same_genre=False, author=True, _title=True):\n",
        "    # 코사인 유사도를 담을 array 생성\n",
        "    cosine_sim = np.zeros((len(webtoon), len(webtoon)))\n",
        "    \n",
        "    if author and _title:\n",
        "        matrices = all_contain_matrices\n",
        "    elif author:\n",
        "        matrices = author_contain_matrices\n",
        "    elif _title:\n",
        "        matrices = title_contain_matrices\n",
        "    else:\n",
        "        matrices = notall_contain_matrices\n",
        "    \n",
        "    # 코사인 유사도 계산\n",
        "    # 각 토큰화 도구로 계산한 코사인 유사도를 평균 (앙상블)\n",
        "    for matrix in matrices:\n",
        "        cosine_sim += cosine_similarity(matrix)\n",
        "    cosine_sim /= len(matrices)\n",
        "    \n",
        "    # 결과 출력을 위한 데이터 프레임 복사\n",
        "    print_copy = webtoon.copy()\n",
        "    \n",
        "    # 선택한 웹툰 제목으로부터 해당되는 인덱스를 받아옴\n",
        "    idx = indices[title]\n",
        "    \n",
        "    # 인덱스로부터 장르를 뽑아옴\n",
        "    genre = print_copy.loc[idx, 'genre']\n",
        "\n",
        "    # 유사도를 DataFrame에 붙임\n",
        "    print_copy['similarity'] = cosine_sim[idx]\n",
        "    \n",
        "    if same_genre:\n",
        "        # 동일 장르만을 보여줄 경우\n",
        "        return print_copy[print_copy['genre'] == genre].sort_values(by='similarity', ascending=False).iloc[1:1+rank, :]\n",
        "        \n",
        "    else:\n",
        "        # 다른 장르도 보여줄 경우\n",
        "        return print_copy.sort_values(by='similarity', ascending=False).iloc[1:1+rank, :]"
      ],
      "execution_count": null,
      "outputs": []
    },
    {
      "cell_type": "code",
      "metadata": {
        "colab": {
          "base_uri": "https://localhost:8080/",
          "height": 322
        },
        "id": "SR5nNqLMLqvE",
        "outputId": "8d69ccda-753d-431f-be38-ff6d34f97172"
      },
      "source": [
        "get_recomm('개장수')"
      ],
      "execution_count": null,
      "outputs": [
        {
          "output_type": "error",
          "ename": "TypeError",
          "evalue": "ignored",
          "traceback": [
            "\u001b[0;31m---------------------------------------------------------------------------\u001b[0m",
            "\u001b[0;31mTypeError\u001b[0m                                 Traceback (most recent call last)",
            "\u001b[0;32m<ipython-input-56-f6faeed15308>\u001b[0m in \u001b[0;36m<module>\u001b[0;34m()\u001b[0m\n\u001b[0;32m----> 1\u001b[0;31m \u001b[0mget_recomm\u001b[0m\u001b[0;34m(\u001b[0m\u001b[0;34m'개장수'\u001b[0m\u001b[0;34m)\u001b[0m\u001b[0;34m\u001b[0m\u001b[0;34m\u001b[0m\u001b[0m\n\u001b[0m",
            "\u001b[0;32m<ipython-input-55-886e1c2eb28b>\u001b[0m in \u001b[0;36mget_recomm\u001b[0;34m(title, rank, same_genre, author, _title)\u001b[0m\n\u001b[1;32m     20\u001b[0m     \u001b[0;32mfor\u001b[0m \u001b[0mmatrix\u001b[0m \u001b[0;32min\u001b[0m \u001b[0mmatrices\u001b[0m\u001b[0;34m:\u001b[0m\u001b[0;34m\u001b[0m\u001b[0;34m\u001b[0m\u001b[0m\n\u001b[1;32m     21\u001b[0m         \u001b[0mcosine_sim\u001b[0m \u001b[0;34m+=\u001b[0m \u001b[0mcosine_similarity\u001b[0m\u001b[0;34m(\u001b[0m\u001b[0mmatrix\u001b[0m\u001b[0;34m)\u001b[0m\u001b[0;34m\u001b[0m\u001b[0;34m\u001b[0m\u001b[0m\n\u001b[0;32m---> 22\u001b[0;31m     \u001b[0mcosine_sim\u001b[0m \u001b[0;34m/=\u001b[0m \u001b[0mlen\u001b[0m\u001b[0;34m(\u001b[0m\u001b[0mmatrices\u001b[0m\u001b[0;34m)\u001b[0m\u001b[0;34m\u001b[0m\u001b[0;34m\u001b[0m\u001b[0m\n\u001b[0m\u001b[1;32m     23\u001b[0m \u001b[0;34m\u001b[0m\u001b[0m\n\u001b[1;32m     24\u001b[0m     \u001b[0;31m# 결과 출력을 위한 데이터 프레임 복사\u001b[0m\u001b[0;34m\u001b[0m\u001b[0;34m\u001b[0m\u001b[0;34m\u001b[0m\u001b[0m\n",
            "\u001b[0;32m/usr/local/lib/python3.7/dist-packages/scipy/sparse/base.py\u001b[0m in \u001b[0;36m__len__\u001b[0;34m(self)\u001b[0m\n\u001b[1;32m    293\u001b[0m     \u001b[0;31m# non-zeros is more important.  For now, raise an exception!\u001b[0m\u001b[0;34m\u001b[0m\u001b[0;34m\u001b[0m\u001b[0;34m\u001b[0m\u001b[0m\n\u001b[1;32m    294\u001b[0m     \u001b[0;32mdef\u001b[0m \u001b[0m__len__\u001b[0m\u001b[0;34m(\u001b[0m\u001b[0mself\u001b[0m\u001b[0;34m)\u001b[0m\u001b[0;34m:\u001b[0m\u001b[0;34m\u001b[0m\u001b[0;34m\u001b[0m\u001b[0m\n\u001b[0;32m--> 295\u001b[0;31m         raise TypeError(\"sparse matrix length is ambiguous; use getnnz()\"\n\u001b[0m\u001b[1;32m    296\u001b[0m                         \" or shape[0]\")\n\u001b[1;32m    297\u001b[0m \u001b[0;34m\u001b[0m\u001b[0m\n",
            "\u001b[0;31mTypeError\u001b[0m: sparse matrix length is ambiguous; use getnnz() or shape[0]"
          ]
        }
      ]
    },
    {
      "cell_type": "code",
      "metadata": {
        "id": "COyrMyPqLqvE"
      },
      "source": [
        "get_recomm('개장수',author=False)"
      ],
      "execution_count": null,
      "outputs": []
    },
    {
      "cell_type": "code",
      "metadata": {
        "id": "ewJtJRz5LqvF"
      },
      "source": [
        "get_recomm('개장수',author=False,_title=False)"
      ],
      "execution_count": null,
      "outputs": []
    },
    {
      "cell_type": "code",
      "metadata": {
        "id": "Oss0GYprLqvF"
      },
      "source": [
        "get_recomm('비흔')"
      ],
      "execution_count": null,
      "outputs": []
    },
    {
      "cell_type": "code",
      "metadata": {
        "id": "MvzVV_DaLqvF"
      },
      "source": [
        "get_recomm('비흔',author=False)"
      ],
      "execution_count": null,
      "outputs": []
    },
    {
      "cell_type": "code",
      "metadata": {
        "id": "a5oetFZkLqvG"
      },
      "source": [
        "get_recomm('비흔',author=False,_title=False)"
      ],
      "execution_count": null,
      "outputs": []
    },
    {
      "cell_type": "code",
      "metadata": {
        "id": "aTLegdR9Npma"
      },
      "source": [
        ""
      ],
      "execution_count": null,
      "outputs": []
    },
    {
      "cell_type": "markdown",
      "metadata": {
        "id": "ELNmgSYyNqD6"
      },
      "source": [
        "### hannanum"
      ]
    },
    {
      "cell_type": "code",
      "metadata": {
        "colab": {
          "base_uri": "https://localhost:8080/"
        },
        "id": "og1x-bffNqD6",
        "outputId": "c1b8b12a-f438-4137-e8ba-a2f811e75c70"
      },
      "source": [
        "%%time\n",
        "\n",
        "# 작가, 제목 포함 행렬\n",
        "all_contain_matrices = get_sparse_matrix(hannanum_tokenizer) \n",
        "\n",
        "# 제목 포함, 작가 미포함 행렬\n",
        "title_contain_matrices = get_sparse_matrix(hannanum_tokenizer, author=False) \n",
        "\n",
        "# 작가 포함, 제목 미포함 행렬\n",
        "author_contain_matrices = get_sparse_matrix(hannanum_tokenizer, title=False) \n",
        "\n",
        "# 작가, 제목 미포함 행렬\n",
        "notall_contain_matrices = get_sparse_matrix(hannanum_tokenizer, title=False, author=False)"
      ],
      "execution_count": null,
      "outputs": [
        {
          "output_type": "stream",
          "name": "stdout",
          "text": [
            "<class 'scipy.sparse.csr.csr_matrix'> (3173, 118030)\n",
            "<class 'scipy.sparse.csr.csr_matrix'> (3173, 116093)\n",
            "<class 'scipy.sparse.csr.csr_matrix'> (3173, 114047)\n",
            "<class 'scipy.sparse.csr.csr_matrix'> (3173, 112110)\n",
            "CPU times: user 6min 30s, sys: 1.7 s, total: 6min 31s\n",
            "Wall time: 3min 55s\n"
          ]
        }
      ]
    },
    {
      "cell_type": "code",
      "metadata": {
        "colab": {
          "base_uri": "https://localhost:8080/"
        },
        "id": "X-12j7MaNqD7",
        "outputId": "e5d30b9f-fd3a-407e-a41c-6b93eb1d9c17"
      },
      "source": [
        "indices = pd.Series(webtoon.index, index=webtoon['title'])\n",
        "indices.head(3)"
      ],
      "execution_count": null,
      "outputs": [
        {
          "output_type": "execute_result",
          "data": {
            "text/plain": [
              "title\n",
              "우선 남동생부터 숨기자       0\n",
              "이번 생은 가주가 되겠습니다    1\n",
              "묵향 다크레이디           2\n",
              "dtype: int64"
            ]
          },
          "metadata": {},
          "execution_count": 58
        }
      ]
    },
    {
      "cell_type": "code",
      "metadata": {
        "id": "aIgDDUA1NqD7"
      },
      "source": [
        "import numpy as np\n",
        "from sklearn.metrics.pairwise import cosine_similarity\n",
        "\n",
        "# 입력 값 : 제목, top rank 수, 같은 장르만 뽑을지 여부, 작가를 feature로 넣을지 여부, 제목을 feature로 넣을 지 여부\n",
        "def get_recomm(title, rank=10, same_genre=False, author=True, _title=True):\n",
        "    # 코사인 유사도를 담을 array 생성\n",
        "    cosine_sim = np.zeros((len(webtoon), len(webtoon)))\n",
        "    \n",
        "    if author and _title:\n",
        "        matrices = all_contain_matrices\n",
        "    elif author:\n",
        "        matrices = author_contain_matrices\n",
        "    elif _title:\n",
        "        matrices = title_contain_matrices\n",
        "    else:\n",
        "        matrices = notall_contain_matrices\n",
        "    \n",
        "    # 코사인 유사도 계산\n",
        "    # 각 토큰화 도구로 계산한 코사인 유사도를 평균 (앙상블)\n",
        "    for matrix in matrices:\n",
        "        cosine_sim += cosine_similarity(matrix)\n",
        "    cosine_sim /= len(matrices)\n",
        "    \n",
        "    # 결과 출력을 위한 데이터 프레임 복사\n",
        "    print_copy = webtoon.copy()\n",
        "    \n",
        "    # 선택한 웹툰 제목으로부터 해당되는 인덱스를 받아옴\n",
        "    idx = indices[title]\n",
        "    \n",
        "    # 인덱스로부터 장르를 뽑아옴\n",
        "    genre = print_copy.loc[idx, 'genre']\n",
        "\n",
        "    # 유사도를 DataFrame에 붙임\n",
        "    print_copy['similarity'] = cosine_sim[idx]\n",
        "    \n",
        "    if same_genre:\n",
        "        # 동일 장르만을 보여줄 경우\n",
        "        return print_copy[print_copy['genre'] == genre].sort_values(by='similarity', ascending=False).iloc[1:1+rank, :]\n",
        "        \n",
        "    else:\n",
        "        # 다른 장르도 보여줄 경우\n",
        "        return print_copy.sort_values(by='similarity', ascending=False).iloc[1:1+rank, :]"
      ],
      "execution_count": null,
      "outputs": []
    },
    {
      "cell_type": "code",
      "metadata": {
        "colab": {
          "base_uri": "https://localhost:8080/",
          "height": 322
        },
        "id": "w-NebZ6tNqD8",
        "outputId": "01c71793-bb33-4788-9a9c-83adc9962358"
      },
      "source": [
        "get_recomm('개장수')"
      ],
      "execution_count": null,
      "outputs": [
        {
          "output_type": "error",
          "ename": "TypeError",
          "evalue": "ignored",
          "traceback": [
            "\u001b[0;31m---------------------------------------------------------------------------\u001b[0m",
            "\u001b[0;31mTypeError\u001b[0m                                 Traceback (most recent call last)",
            "\u001b[0;32m<ipython-input-60-f6faeed15308>\u001b[0m in \u001b[0;36m<module>\u001b[0;34m()\u001b[0m\n\u001b[0;32m----> 1\u001b[0;31m \u001b[0mget_recomm\u001b[0m\u001b[0;34m(\u001b[0m\u001b[0;34m'개장수'\u001b[0m\u001b[0;34m)\u001b[0m\u001b[0;34m\u001b[0m\u001b[0;34m\u001b[0m\u001b[0m\n\u001b[0m",
            "\u001b[0;32m<ipython-input-59-886e1c2eb28b>\u001b[0m in \u001b[0;36mget_recomm\u001b[0;34m(title, rank, same_genre, author, _title)\u001b[0m\n\u001b[1;32m     20\u001b[0m     \u001b[0;32mfor\u001b[0m \u001b[0mmatrix\u001b[0m \u001b[0;32min\u001b[0m \u001b[0mmatrices\u001b[0m\u001b[0;34m:\u001b[0m\u001b[0;34m\u001b[0m\u001b[0;34m\u001b[0m\u001b[0m\n\u001b[1;32m     21\u001b[0m         \u001b[0mcosine_sim\u001b[0m \u001b[0;34m+=\u001b[0m \u001b[0mcosine_similarity\u001b[0m\u001b[0;34m(\u001b[0m\u001b[0mmatrix\u001b[0m\u001b[0;34m)\u001b[0m\u001b[0;34m\u001b[0m\u001b[0;34m\u001b[0m\u001b[0m\n\u001b[0;32m---> 22\u001b[0;31m     \u001b[0mcosine_sim\u001b[0m \u001b[0;34m/=\u001b[0m \u001b[0mlen\u001b[0m\u001b[0;34m(\u001b[0m\u001b[0mmatrices\u001b[0m\u001b[0;34m)\u001b[0m\u001b[0;34m\u001b[0m\u001b[0;34m\u001b[0m\u001b[0m\n\u001b[0m\u001b[1;32m     23\u001b[0m \u001b[0;34m\u001b[0m\u001b[0m\n\u001b[1;32m     24\u001b[0m     \u001b[0;31m# 결과 출력을 위한 데이터 프레임 복사\u001b[0m\u001b[0;34m\u001b[0m\u001b[0;34m\u001b[0m\u001b[0;34m\u001b[0m\u001b[0m\n",
            "\u001b[0;32m/usr/local/lib/python3.7/dist-packages/scipy/sparse/base.py\u001b[0m in \u001b[0;36m__len__\u001b[0;34m(self)\u001b[0m\n\u001b[1;32m    293\u001b[0m     \u001b[0;31m# non-zeros is more important.  For now, raise an exception!\u001b[0m\u001b[0;34m\u001b[0m\u001b[0;34m\u001b[0m\u001b[0;34m\u001b[0m\u001b[0m\n\u001b[1;32m    294\u001b[0m     \u001b[0;32mdef\u001b[0m \u001b[0m__len__\u001b[0m\u001b[0;34m(\u001b[0m\u001b[0mself\u001b[0m\u001b[0;34m)\u001b[0m\u001b[0;34m:\u001b[0m\u001b[0;34m\u001b[0m\u001b[0;34m\u001b[0m\u001b[0m\n\u001b[0;32m--> 295\u001b[0;31m         raise TypeError(\"sparse matrix length is ambiguous; use getnnz()\"\n\u001b[0m\u001b[1;32m    296\u001b[0m                         \" or shape[0]\")\n\u001b[1;32m    297\u001b[0m \u001b[0;34m\u001b[0m\u001b[0m\n",
            "\u001b[0;31mTypeError\u001b[0m: sparse matrix length is ambiguous; use getnnz() or shape[0]"
          ]
        }
      ]
    },
    {
      "cell_type": "code",
      "metadata": {
        "id": "zI3KlXiNNqD8"
      },
      "source": [
        "get_recomm('개장수',author=False)"
      ],
      "execution_count": null,
      "outputs": []
    },
    {
      "cell_type": "code",
      "metadata": {
        "id": "Q175SXkaNqD8"
      },
      "source": [
        "get_recomm('개장수',author=False,_title=False)"
      ],
      "execution_count": null,
      "outputs": []
    },
    {
      "cell_type": "code",
      "metadata": {
        "id": "u4oi4T05NqD9"
      },
      "source": [
        "get_recomm('비흔')"
      ],
      "execution_count": null,
      "outputs": []
    },
    {
      "cell_type": "code",
      "metadata": {
        "id": "fVDCtVGINqD9"
      },
      "source": [
        "get_recomm('비흔',author=False)"
      ],
      "execution_count": null,
      "outputs": []
    },
    {
      "cell_type": "code",
      "metadata": {
        "id": "X8GaD6s2NqD9"
      },
      "source": [
        "get_recomm('비흔',author=False,_title=False)"
      ],
      "execution_count": null,
      "outputs": []
    },
    {
      "cell_type": "markdown",
      "metadata": {
        "id": "ZHCWomEjOZvK"
      },
      "source": [
        "### komoran"
      ]
    },
    {
      "cell_type": "code",
      "metadata": {
        "id": "M-AceLD1OZvM"
      },
      "source": [
        "%%time\n",
        "\n",
        "# 작가, 제목 포함 행렬\n",
        "all_contain_matrices = get_sparse_matrix(komoran_tokenizer) \n",
        "\n",
        "# 제목 포함, 작가 미포함 행렬\n",
        "title_contain_matrices = get_sparse_matrix(komoran_tokenizer, author=False) \n",
        "\n",
        "# 작가 포함, 제목 미포함 행렬\n",
        "author_contain_matrices = get_sparse_matrix(komoran_tokenizer, title=False) \n",
        "\n",
        "# 작가, 제목 미포함 행렬\n",
        "notall_contain_matrices = get_sparse_matrix(komoran_tokenizer, title=False, author=False)"
      ],
      "execution_count": null,
      "outputs": []
    },
    {
      "cell_type": "code",
      "metadata": {
        "id": "u_-khqhuOZvO"
      },
      "source": [
        "indices = pd.Series(webtoon.index, index=webtoon['title'])\n",
        "indices.head(3)"
      ],
      "execution_count": null,
      "outputs": []
    },
    {
      "cell_type": "code",
      "metadata": {
        "id": "ISXhNMr0OZvS"
      },
      "source": [
        "import numpy as np\n",
        "from sklearn.metrics.pairwise import cosine_similarity\n",
        "\n",
        "# 입력 값 : 제목, top rank 수, 같은 장르만 뽑을지 여부, 작가를 feature로 넣을지 여부, 제목을 feature로 넣을 지 여부\n",
        "def get_recomm(title, rank=10, same_genre=False, author=True, _title=True):\n",
        "    # 코사인 유사도를 담을 array 생성\n",
        "    cosine_sim = np.zeros((len(webtoon), len(webtoon)))\n",
        "    \n",
        "    if author and _title:\n",
        "        matrices = all_contain_matrices\n",
        "    elif author:\n",
        "        matrices = author_contain_matrices\n",
        "    elif _title:\n",
        "        matrices = title_contain_matrices\n",
        "    else:\n",
        "        matrices = notall_contain_matrices\n",
        "    \n",
        "    # 코사인 유사도 계산\n",
        "    # 각 토큰화 도구로 계산한 코사인 유사도를 평균 (앙상블)\n",
        "    for matrix in matrices:\n",
        "        cosine_sim += cosine_similarity(matrix)\n",
        "    cosine_sim /= len(matrices)\n",
        "    \n",
        "    # 결과 출력을 위한 데이터 프레임 복사\n",
        "    print_copy = webtoon.copy()\n",
        "    \n",
        "    # 선택한 웹툰 제목으로부터 해당되는 인덱스를 받아옴\n",
        "    idx = indices[title]\n",
        "    \n",
        "    # 인덱스로부터 장르를 뽑아옴\n",
        "    genre = print_copy.loc[idx, 'genre']\n",
        "\n",
        "    # 유사도를 DataFrame에 붙임\n",
        "    print_copy['similarity'] = cosine_sim[idx]\n",
        "    \n",
        "    if same_genre:\n",
        "        # 동일 장르만을 보여줄 경우\n",
        "        return print_copy[print_copy['genre'] == genre].sort_values(by='similarity', ascending=False).iloc[1:1+rank, :]\n",
        "        \n",
        "    else:\n",
        "        # 다른 장르도 보여줄 경우\n",
        "        return print_copy.sort_values(by='similarity', ascending=False).iloc[1:1+rank, :]"
      ],
      "execution_count": null,
      "outputs": []
    },
    {
      "cell_type": "code",
      "metadata": {
        "id": "6H5Eq0SUOZvU"
      },
      "source": [
        "get_recomm('개장수')"
      ],
      "execution_count": null,
      "outputs": []
    },
    {
      "cell_type": "code",
      "metadata": {
        "id": "u_1qJSmGOZvV"
      },
      "source": [
        "get_recomm('개장수',author=False)"
      ],
      "execution_count": null,
      "outputs": []
    },
    {
      "cell_type": "code",
      "metadata": {
        "id": "6TaAQR9vOZvW"
      },
      "source": [
        "get_recomm('개장수',author=False,_title=False)"
      ],
      "execution_count": null,
      "outputs": []
    },
    {
      "cell_type": "code",
      "metadata": {
        "id": "EbYNCynUOZvY"
      },
      "source": [
        "get_recomm('비흔')"
      ],
      "execution_count": null,
      "outputs": []
    },
    {
      "cell_type": "code",
      "metadata": {
        "id": "XxXjeFhaOZvZ"
      },
      "source": [
        "get_recomm('비흔',author=False)"
      ],
      "execution_count": null,
      "outputs": []
    },
    {
      "cell_type": "code",
      "metadata": {
        "id": "toDujCSaOZvZ"
      },
      "source": [
        "get_recomm('비흔',author=False,_title=False)"
      ],
      "execution_count": null,
      "outputs": []
    }
  ]
}